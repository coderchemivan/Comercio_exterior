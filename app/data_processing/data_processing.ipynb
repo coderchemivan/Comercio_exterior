{
 "cells": [
  {
   "cell_type": "code",
   "execution_count": 1,
   "metadata": {},
   "outputs": [
    {
     "name": "stderr",
     "output_type": "stream",
     "text": [
      "c:\\Users\\ivan_\\OneDrive - UNIVERSIDAD NACIONAL AUTÓNOMA DE MÉXICO\\Desktop\\repositorios\\suayedApp\\venv_\\lib\\site-packages\\requests\\__init__.py:102: RequestsDependencyWarning: urllib3 (1.26.9) or chardet (5.0.0)/charset_normalizer (2.0.12) doesn't match a supported version!\n",
      "  warnings.warn(\"urllib3 ({}) or chardet ({})/charset_normalizer ({}) doesn't match a supported \"\n"
     ]
    }
   ],
   "source": [
    "import pandas as pd\n",
    "import numpy as np\n",
    "import mysql.connector \n",
    "import plotly.express as px\n",
    "import json\n",
    "from plotly.subplots import make_subplots\n",
    "import plotly.graph_objects as go\n",
    "class Data():\n",
    "    def __init__(self,table_name,reporting_country=None,partner_code = None,year=None,period=None,section=None,SA_4=None,imp_exp=None):\n",
    "        self.conn = mysql.connector.connect(user=\"root\", password=\"123456\",\n",
    "                                       host=\"localhost\",\n",
    "                                       database=\"mexico_it\",\n",
    "                                       port='3306'\n",
    "                                       )\n",
    "        self.table_name = table_name\n",
    "        self.reporting_country = reporting_country\n",
    "        self.partner_code = partner_code\n",
    "        self.year = year\n",
    "        self.period = period\n",
    "        self.section = section\n",
    "        self.SA_4 = SA_4\n",
    "        self.imp_exp = imp_exp\n",
    "\n",
    "\n",
    "\n",
    "    def read_data(self):\n",
    "        #diccionario con los parametros de la consulta\n",
    "        diccionario_filtro = {'reporter_country':self.reporting_country,\n",
    "                                'partner_code':self.partner_code,\n",
    "                                'year':self.year,\n",
    "                                'period':self.period,\n",
    "                                'section':self.section,\n",
    "                                'SA_4':self.SA_4,\n",
    "                                'imp_exp':self.imp_exp}\n",
    "\n",
    "        #parametros de la consulta que ingresó el usuario\n",
    "        diccionario_filtro = {k: v for k, v in diccionario_filtro.items() if v is not None}\n",
    "        line_ =''\n",
    "        for k,v in diccionario_filtro.items():\n",
    "            line_ = ''.join('{} in ({}) AND '.format(k, str(v).replace('[','').replace(']','')) for k, v in diccionario_filtro.items())[0:-4]\n",
    "        \n",
    "        #procesando table world_table\n",
    "        query = \"SELECT * FROM {} WHERE {}\".format(self.table_name,line_)\n",
    "        world_tradeTable = self.get_table(query)\n",
    "        world_tradeTable['section'] = world_tradeTable['section'].astype(int)\n",
    "        world_tradeTable = world_tradeTable[~(world_tradeTable['partner_code']=='0')] \n",
    "        world_tradeTable['porcentaje'] = world_tradeTable.groupby(['year','imp_exp','SA_4'],group_keys=False)['tradevalue'].apply(lambda x: (x/(x.sum()))*100)\n",
    "        world_tradeTable['porcentaje'] = world_tradeTable['porcentaje'].round(2)\n",
    "        world_tradeTable = world_tradeTable[world_tradeTable['porcentaje'] > 3] \n",
    "\n",
    "        #procesando table sa4_description\n",
    "        query = \"SELECT * FROM sections\"\n",
    "        sectionsTable = self.get_table(query)\n",
    "        sectionsTable = sectionsTable.rename(columns={'id':'section'})\n",
    "\n",
    "        #PROCESANDO TABLA COUNTRIES_\n",
    "        query = \"SELECT * FROM countries_\"\n",
    "        countriesTable_ = self.get_table(query)\n",
    "        countriesTable_ = countriesTable_.rename(columns={'id':'partner_code'})\n",
    "        \n",
    "        #procesando table countries\n",
    "        query = \"SELECT * FROM countries\"\n",
    "        countriesTable = self.get_table(query)  \n",
    "        countriesTable = countriesTable.rename(columns={'partner_code_':'partner_code'})\n",
    "        countriesTable['partner_code'] = countriesTable['partner_code'].astype(str)\n",
    "        df = world_tradeTable.merge(sectionsTable,how='left',on='section')\n",
    "        df = df.merge(countriesTable,how='left',on='partner_code')\n",
    "        df.drop(columns=['fobvalue','quantity_unit','netweight','reporter_country','tradequantity'],inplace=True)\n",
    "        #dar formato a tradevalue en millones de dolares\n",
    "        df['tradevalue'] = df['tradevalue'].astype(float)\n",
    "        df['tradevalue'] = df['tradevalue'].apply(lambda x:x/1000000)\n",
    "        #redondear a 2 decimales\n",
    "        df['tradevalue'] = df['tradevalue'].round(2)\n",
    "        #eliminar registros con tradevalue < 0\n",
    "        df = df[df['tradevalue'] > 0]\n",
    "        print(df.shape)\n",
    "        return [df]\n",
    "\n",
    "    def get_table(self,query):\n",
    "        cur = self.conn.cursor()\n",
    "        cur.execute(query)\n",
    "        rows = cur.fetchall()\n",
    "        table = pd.DataFrame(rows,columns=[x[0] for x in cur.description])\n",
    "        cur.close()\n",
    "        return table \n",
    "        \n",
    "    def obtainCountryList(self):\n",
    "        df = self.read_data()[0]\n",
    "        country_list= df['name'].unique()\n",
    "        return country_list\n",
    "\n",
    "    def grafica_treemap_paises(self,df,periodo=None,imp_exp=None):\n",
    "        imp_exp = 'Importaciones' if imp_exp == 1 else 'Exportaciones'\n",
    "        fig = px.treemap(df, \n",
    "                        path=['description','iso_3'], \n",
    "                        values='tradevalue',\n",
    "                        title='{imp_exp} en millones de dólares ({año})'.format(imp_exp=imp_exp,año=periodo[0])\n",
    "                        #color='porcentaje',\n",
    "                        )\n",
    "        fig.show()\n",
    "    def grafica_treemap_paises_productos(self,df,periodo=None,imp_exp=None):\n",
    "        imp_exp = 'Importaciones' if imp_exp == 1 else 'Exportaciones'\n",
    "        fig = px.treemap(df, \n",
    "                        path=['description','SA_4'], \n",
    "                        values='tradevalue',\n",
    "                        branchvalues='total',\n",
    "                        #color='tradevalue',\n",
    "                        title = '{imp_exp} en millones de dólares ({año})'.format(imp_exp=imp_exp,año=periodo[0]),\n",
    "                        )\n",
    "        fig.show()\n",
    "    def grafica_destino_origen(self,df,periodo=None,imp_exp=None):\n",
    "        imp_exp = 'Orígenes' if imp_exp == 1 else 'Destinos'\n",
    "        df = df.groupby(['region','name','iso_3'],as_index=False)['tradevalue'].sum()\n",
    "        total = df['tradevalue'].sum()\n",
    "        df['porcentaje'] = df.groupby(['name'],group_keys=False)['tradevalue'].apply(lambda x: (x/total)*100)\n",
    "        # #eliminar registros con porcentaje < 3\n",
    "        # df = df[df['porcentaje'] > 3]\n",
    "        # #df.tradevalue.quantile(0.25), df.tradevalue.quantile(0.7)\n",
    "        # fig = px.choropleth(df, locations='iso_3', color='porcentaje',\n",
    "        #                         color_continuous_scale=\"Viridis\",\n",
    "        #                         range_color=(df.tradevalue.quantile(0.25), df.tradevalue.quantile(0.9)), # range of values\n",
    "        #                         labels={'aumento_disminucion':'porcentaje'},\n",
    "        #                         title='{imp_exp} ({año})'.format(imp_exp=imp_exp,año=periodo[0])\n",
    "        #                   )\n",
    "        # fig.update_layout(margin={\"r\":0,\"t\":0,\"l\":0,\"b\":0})                                \n",
    "        # fig.show()\n",
    "        fig = px.treemap(df, \n",
    "                        path=['region','iso_3'], \n",
    "                        values='tradevalue',\n",
    "                        branchvalues='total',\n",
    "                        #color='tradevalue',\n",
    "                        title = '{imp_exp} ({año})'.format(imp_exp=imp_exp,año=periodo[0]),\n",
    "                        )    \n",
    "        fig.show()\n",
    "    def cambio_porcentualImpExp(self):\n",
    "        df = self.read_data()[0]\n",
    "        df =df.groupby(['year','imp_exp','partner_code','iso_3'],group_keys=False)[['tradevalue']].sum().reset_index()\n",
    "        #paises unicos\n",
    "        paises = df['partner_code'].unique()\n",
    "        aumento_disminucion_pais = {}\n",
    "        for pais in paises:\n",
    "            df_pais = df[df['partner_code']==pais]\n",
    "            df_pais=df_pais['tradevalue'].values.tolist()\n",
    "            if len(df_pais) > 1:\n",
    "                diff = ((df_pais[1]-df_pais[0])/df_pais[1]*100)\n",
    "                aumento_disminucion_pais[pais] = diff\n",
    "                #dicc to dataframe\n",
    "        df_ = pd.DataFrame.from_dict(aumento_disminucion_pais,orient='index',columns=['aumento_disminucion'])\n",
    "        df_['partner_code'] = df_.index\n",
    "        df = df.merge(df_,how='inner',on='partner_code')\n",
    "        return df\n",
    "    \n",
    "    def grafica_incrementoMercado_pais(self,df,scope_=None,periodo=None,imp_exp=None):\n",
    "        periodo.sort()\n",
    "        imp_exp = 'Importaciones' if imp_exp == 1 else 'Exportaciones'\n",
    "        fig = px.choropleth(df, locations='iso_3', color='aumento_disminucion',\n",
    "                                color_continuous_scale=\"Viridis\",\n",
    "                                range_color=(df.aumento_disminucion.quantile(0.25), df.aumento_disminucion.quantile(1)), # range of values\n",
    "                                scope = scope_,\n",
    "                                labels={'aumento_disminucion':'Aumento/disminucion'},\n",
    "                                title='Cambio en el valor de importaciones del {} al {}'.format(periodo[0],periodo[1])\n",
    "                          )\n",
    "        fig.update_layout(margin={\"r\":0,\"t\":0,\"l\":0,\"b\":0})                                \n",
    "        fig.show()\n",
    "    def ITrade_pricnipalesSocios(self):\n",
    "        df = self.read_data()[0]\n",
    "\n",
    "        df_usa = df[df['iso_3']=='USA']\n",
    "        df_canada = df[df['iso_3']=='CAN']\n",
    "        df_jpn= df[df['iso_3']=='JPN']\n",
    "        df_ue = df[df['iso_3'].isin(['AUT','BEL','BGR','HRV','CYP','CZE','DNK','EST','FIN','FRA','DEU','GRC','HUN','IRL','ITA','LVA','LTU','LUX','MLT','NLD','POL','PRT','ROU','SVK','SVN','ESP','SWE','GBR'])]\n",
    "        df_aliazna_pacifico = df[df['iso_3'].isin(['CHL','PER','COL'])]\n",
    "        df_centroamerica = df[df['iso_3'].isin(['CUB','PAN','GTM','CRI','SLV','NIC','HND','DOM'])]\n",
    "\n",
    "        #UNIR DATAFRAMES\n",
    "        df = pd.concat([df_usa,df_canada,df_jpn,df_ue,df_aliazna_pacifico,df_centroamerica])\n",
    "        #CREAR COLUMNA REGION\n",
    "        df['region_'] = np.where(df['iso_3'].isin(['USA']),'USA',\n",
    "                        np.where(df['iso_3'].isin(['CAN']),'CAN',\n",
    "                        np.where(df['iso_3'].isin(['JPN']),'JPN',\n",
    "                        np.where(df['iso_3'].isin(['AUT','BEL','BGR','HRV','CYP','CZE','DNK','EST','FIN','FRA','DEU','GRC','HUN','IRL','ITA','LVA','LTU','LUX','MLT','NLD','POL','PRT','ROU','SVK','SVN','ESP','SWE','GBR']),'UE',\n",
    "                        np.where(df['iso_3'].isin(['CHL','PER','COL']),'ALIANZA PACIFICO',\n",
    "                        np.where(df['iso_3'].isin(['CUB','PAN','GTM','CRI','SLV','NIC','HND','DOM']),'CENTROAMERICA',''))))))\n",
    "\n",
    "        #IMPORTACIONES\n",
    "        df_imp = df[(df['imp_exp']==1)]\n",
    "        df.groupby(['year','imp_exp','region_'],group_keys=False)[['tradevalue']].sum().reset_index()\n",
    "        df_imp = df_imp.groupby(['year','imp_exp','region_'],group_keys=False)[['tradevalue']].sum().reset_index()\n",
    "        df_imp = df_imp.pivot(index='year',columns='region_',values='tradevalue')\n",
    "\n",
    "        #EXPORTACIONES\n",
    "        df_exp = df[(df['imp_exp']==2)]\n",
    "        df_exp.groupby(['year','imp_exp','region_'],group_keys=False)[['tradevalue']].sum().reset_index()\n",
    "        df_exp = df_exp.groupby(['year','imp_exp','region_'],group_keys=False)[['tradevalue']].sum().reset_index()\n",
    "        df_exp = df_exp.pivot(index='year',columns='region_',values='tradevalue')\n",
    "        fig = make_subplots(rows=2, cols=3,subplot_titles=('USA','CAN','UE','JPN','ALIANZA PACIFICO','CENTROAMERICA'))\n",
    "        fig.add_trace(go.Scatter(x=df_imp.index, y=df_imp['USA'],line_color='green',name='Importaciones'),row=1, col=1),\n",
    "        fig.add_trace(go.Scatter(x=df_exp.index, y=df_exp['USA'],line_color='blue',name='Exportaciones'),row=1, col=1),\n",
    "        fig.add_trace(go.Scatter(x=df_imp.index, y=df_imp['CAN'],line_color='green',name='Importaciones',showlegend=False),row=1, col=2),\n",
    "        fig.add_trace(go.Scatter(x=df_exp.index, y=df_exp['CAN'],line_color='blue',name='Exportaciones',showlegend=False),row=1, col=2),\n",
    "        fig.add_trace(go.Scatter(x=df_imp.index, y=df_imp['UE'],line_color='green',name='Importaciones',showlegend=False),row=1, col=3),\n",
    "        fig.add_trace(go.Scatter(x=df_exp.index, y=df_exp['UE'],line_color='blue',name='Exportaciones',showlegend=False),row=1, col=3),\n",
    "        fig.add_trace(go.Scatter(x=df_imp.index, y=df_imp['JPN'],line_color='green',name='Importaciones',showlegend=False),row=2, col=1),\n",
    "        fig.add_trace(go.Scatter(x=df_exp.index, y=df_exp['JPN'],line_color='blue',name='Exportaciones',showlegend=False),row=2, col=1),\n",
    "        fig.add_trace(go.Scatter(x=df_imp.index, y=df_imp['ALIANZA PACIFICO'],line_color='green',name='Importaciones',showlegend=False),row=2, col=2),\n",
    "        fig.add_trace(go.Scatter(x=df_exp.index, y=df_exp['ALIANZA PACIFICO'],line_color='blue',name='Exportaciones',showlegend=False),row=2, col=2),\n",
    "        fig.add_trace(go.Scatter(x=df_imp.index, y=df_imp['CENTROAMERICA'],line_color='green',name='Importaciones',showlegend=False),row=2, col=3),\n",
    "        fig.add_trace(go.Scatter(x=df_exp.index, y=df_exp['CENTROAMERICA'],line_color='blue',name='Exportaciones',showlegend=False),row=2, col=3),\n",
    "        fig.update_layout(height=600, width=800, title_text=\"Intercambio comercial con socios princiapales (2015-2021)\")\n",
    "        fig.show()\n"
   ]
  },
  {
   "cell_type": "markdown",
   "metadata": {},
   "source": []
  },
  {
   "cell_type": "code",
   "execution_count": 8,
   "metadata": {},
   "outputs": [
    {
     "name": "stdout",
     "output_type": "stream",
     "text": [
      "(141, 12)\n"
     ]
    },
    {
     "data": {
      "text/html": [
       "<div>\n",
       "<style scoped>\n",
       "    .dataframe tbody tr th:only-of-type {\n",
       "        vertical-align: middle;\n",
       "    }\n",
       "\n",
       "    .dataframe tbody tr th {\n",
       "        vertical-align: top;\n",
       "    }\n",
       "\n",
       "    .dataframe thead th {\n",
       "        text-align: right;\n",
       "    }\n",
       "</style>\n",
       "<table border=\"1\" class=\"dataframe\">\n",
       "  <thead>\n",
       "    <tr style=\"text-align: right;\">\n",
       "      <th></th>\n",
       "      <th>year</th>\n",
       "      <th>region</th>\n",
       "      <th>name</th>\n",
       "      <th>SA_4</th>\n",
       "      <th>imp_exp</th>\n",
       "      <th>tradevalue</th>\n",
       "      <th>porcentaje</th>\n",
       "      <th>description</th>\n",
       "    </tr>\n",
       "  </thead>\n",
       "  <tbody>\n",
       "    <tr>\n",
       "      <th>0</th>\n",
       "      <td>2020</td>\n",
       "      <td>Europe</td>\n",
       "      <td>Germany</td>\n",
       "      <td>0101</td>\n",
       "      <td>1</td>\n",
       "      <td>21.97</td>\n",
       "      <td>35.57</td>\n",
       "      <td>Animales vivos y productos del reino animal</td>\n",
       "    </tr>\n",
       "    <tr>\n",
       "      <th>1</th>\n",
       "      <td>2020</td>\n",
       "      <td>Europe</td>\n",
       "      <td>Belgium</td>\n",
       "      <td>0101</td>\n",
       "      <td>1</td>\n",
       "      <td>4.02</td>\n",
       "      <td>6.51</td>\n",
       "      <td>Animales vivos y productos del reino animal</td>\n",
       "    </tr>\n",
       "    <tr>\n",
       "      <th>2</th>\n",
       "      <td>2020</td>\n",
       "      <td>America</td>\n",
       "      <td>United States of America</td>\n",
       "      <td>0101</td>\n",
       "      <td>1</td>\n",
       "      <td>32.32</td>\n",
       "      <td>52.33</td>\n",
       "      <td>Animales vivos y productos del reino animal</td>\n",
       "    </tr>\n",
       "    <tr>\n",
       "      <th>3</th>\n",
       "      <td>2020</td>\n",
       "      <td>America</td>\n",
       "      <td>United States of America</td>\n",
       "      <td>0102</td>\n",
       "      <td>1</td>\n",
       "      <td>43.91</td>\n",
       "      <td>97.63</td>\n",
       "      <td>Animales vivos y productos del reino animal</td>\n",
       "    </tr>\n",
       "    <tr>\n",
       "      <th>4</th>\n",
       "      <td>2020</td>\n",
       "      <td>America</td>\n",
       "      <td>United States of America</td>\n",
       "      <td>0102</td>\n",
       "      <td>2</td>\n",
       "      <td>883.17</td>\n",
       "      <td>100.00</td>\n",
       "      <td>Animales vivos y productos del reino animal</td>\n",
       "    </tr>\n",
       "    <tr>\n",
       "      <th>5</th>\n",
       "      <td>2020</td>\n",
       "      <td>America</td>\n",
       "      <td>Canada</td>\n",
       "      <td>0105</td>\n",
       "      <td>1</td>\n",
       "      <td>4.08</td>\n",
       "      <td>14.48</td>\n",
       "      <td>Animales vivos y productos del reino animal</td>\n",
       "    </tr>\n",
       "    <tr>\n",
       "      <th>6</th>\n",
       "      <td>2020</td>\n",
       "      <td>Europe</td>\n",
       "      <td>France</td>\n",
       "      <td>0105</td>\n",
       "      <td>1</td>\n",
       "      <td>0.96</td>\n",
       "      <td>3.41</td>\n",
       "      <td>Animales vivos y productos del reino animal</td>\n",
       "    </tr>\n",
       "    <tr>\n",
       "      <th>7</th>\n",
       "      <td>2020</td>\n",
       "      <td>America</td>\n",
       "      <td>United States of America</td>\n",
       "      <td>0105</td>\n",
       "      <td>1</td>\n",
       "      <td>23.16</td>\n",
       "      <td>82.11</td>\n",
       "      <td>Animales vivos y productos del reino animal</td>\n",
       "    </tr>\n",
       "    <tr>\n",
       "      <th>8</th>\n",
       "      <td>2020</td>\n",
       "      <td>Europe</td>\n",
       "      <td>Belgium</td>\n",
       "      <td>0106</td>\n",
       "      <td>1</td>\n",
       "      <td>0.31</td>\n",
       "      <td>9.36</td>\n",
       "      <td>Animales vivos y productos del reino animal</td>\n",
       "    </tr>\n",
       "    <tr>\n",
       "      <th>9</th>\n",
       "      <td>2020</td>\n",
       "      <td>Europe</td>\n",
       "      <td>Spain</td>\n",
       "      <td>0106</td>\n",
       "      <td>1</td>\n",
       "      <td>0.71</td>\n",
       "      <td>21.81</td>\n",
       "      <td>Animales vivos y productos del reino animal</td>\n",
       "    </tr>\n",
       "    <tr>\n",
       "      <th>10</th>\n",
       "      <td>2020</td>\n",
       "      <td>America</td>\n",
       "      <td>United States of America</td>\n",
       "      <td>0106</td>\n",
       "      <td>1</td>\n",
       "      <td>2.07</td>\n",
       "      <td>63.36</td>\n",
       "      <td>Animales vivos y productos del reino animal</td>\n",
       "    </tr>\n",
       "    <tr>\n",
       "      <th>11</th>\n",
       "      <td>2020</td>\n",
       "      <td>America</td>\n",
       "      <td>Canada</td>\n",
       "      <td>0106</td>\n",
       "      <td>2</td>\n",
       "      <td>4.92</td>\n",
       "      <td>73.91</td>\n",
       "      <td>Animales vivos y productos del reino animal</td>\n",
       "    </tr>\n",
       "    <tr>\n",
       "      <th>12</th>\n",
       "      <td>2020</td>\n",
       "      <td>America</td>\n",
       "      <td>United States of America</td>\n",
       "      <td>0106</td>\n",
       "      <td>2</td>\n",
       "      <td>1.45</td>\n",
       "      <td>21.72</td>\n",
       "      <td>Animales vivos y productos del reino animal</td>\n",
       "    </tr>\n",
       "    <tr>\n",
       "      <th>13</th>\n",
       "      <td>2020</td>\n",
       "      <td>America</td>\n",
       "      <td>Canada</td>\n",
       "      <td>0201</td>\n",
       "      <td>1</td>\n",
       "      <td>70.76</td>\n",
       "      <td>11.67</td>\n",
       "      <td>Animales vivos y productos del reino animal</td>\n",
       "    </tr>\n",
       "    <tr>\n",
       "      <th>14</th>\n",
       "      <td>2020</td>\n",
       "      <td>America</td>\n",
       "      <td>United States of America</td>\n",
       "      <td>0201</td>\n",
       "      <td>1</td>\n",
       "      <td>535.48</td>\n",
       "      <td>88.33</td>\n",
       "      <td>Animales vivos y productos del reino animal</td>\n",
       "    </tr>\n",
       "  </tbody>\n",
       "</table>\n",
       "</div>"
      ],
      "text/plain": [
       "    year   region                      name  SA_4  imp_exp  tradevalue  \\\n",
       "0   2020   Europe                   Germany  0101        1       21.97   \n",
       "1   2020   Europe                   Belgium  0101        1        4.02   \n",
       "2   2020  America  United States of America  0101        1       32.32   \n",
       "3   2020  America  United States of America  0102        1       43.91   \n",
       "4   2020  America  United States of America  0102        2      883.17   \n",
       "5   2020  America                    Canada  0105        1        4.08   \n",
       "6   2020   Europe                    France  0105        1        0.96   \n",
       "7   2020  America  United States of America  0105        1       23.16   \n",
       "8   2020   Europe                   Belgium  0106        1        0.31   \n",
       "9   2020   Europe                     Spain  0106        1        0.71   \n",
       "10  2020  America  United States of America  0106        1        2.07   \n",
       "11  2020  America                    Canada  0106        2        4.92   \n",
       "12  2020  America  United States of America  0106        2        1.45   \n",
       "13  2020  America                    Canada  0201        1       70.76   \n",
       "14  2020  America  United States of America  0201        1      535.48   \n",
       "\n",
       "    porcentaje                                  description  \n",
       "0        35.57  Animales vivos y productos del reino animal  \n",
       "1         6.51  Animales vivos y productos del reino animal  \n",
       "2        52.33  Animales vivos y productos del reino animal  \n",
       "3        97.63  Animales vivos y productos del reino animal  \n",
       "4       100.00  Animales vivos y productos del reino animal  \n",
       "5        14.48  Animales vivos y productos del reino animal  \n",
       "6         3.41  Animales vivos y productos del reino animal  \n",
       "7        82.11  Animales vivos y productos del reino animal  \n",
       "8         9.36  Animales vivos y productos del reino animal  \n",
       "9        21.81  Animales vivos y productos del reino animal  \n",
       "10       63.36  Animales vivos y productos del reino animal  \n",
       "11       73.91  Animales vivos y productos del reino animal  \n",
       "12       21.72  Animales vivos y productos del reino animal  \n",
       "13       11.67  Animales vivos y productos del reino animal  \n",
       "14       88.33  Animales vivos y productos del reino animal  "
      ]
     },
     "execution_count": 8,
     "metadata": {},
     "output_type": "execute_result"
    }
   ],
   "source": [
    "c = Data('world_trade',reporting_country='484',year=[2020],section=1)\n",
    "df = c.read_data()\n",
    "#[['year','SA_4','tradevalue','porcentaje','description','iso_3']]\n",
    "df = df[0].head(15)\n",
    "df[['year','region','name','SA_4','imp_exp','tradevalue','porcentaje','description']]"
   ]
  },
  {
   "cell_type": "markdown",
   "metadata": {},
   "source": [
    "## ¿Qué productos se exportaron más el año 2020?"
   ]
  },
  {
   "cell_type": "code",
   "execution_count": 11,
   "metadata": {},
   "outputs": [
    {
     "name": "stdout",
     "output_type": "stream",
     "text": [
      "(2385, 12)\n"
     ]
    },
    {
     "data": {
      "application/vnd.plotly.v1+json": {
       "config": {
        "plotlyServerURL": "https://plot.ly"
       },
       "data": [
        {
         "branchvalues": "total",
         "domain": {
          "x": [
           0,
           1
          ],
          "y": [
           0,
           1
          ]
         },
         "hovertemplate": "labels=%{label}<br>tradevalue=%{value}<br>parent=%{parent}<br>id=%{id}<extra></extra>",
         "ids": [
          "Animales vivos y productos del reino animal/0101",
          "Animales vivos y productos del reino animal/0102",
          "Animales vivos y productos del reino animal/0106",
          "Animales vivos y productos del reino animal/0201",
          "Animales vivos y productos del reino animal/0202",
          "Animales vivos y productos del reino animal/0203",
          "Animales vivos y productos del reino animal/0204",
          "Animales vivos y productos del reino animal/0205",
          "Animales vivos y productos del reino animal/0206",
          "Animales vivos y productos del reino animal/0209",
          "Animales vivos y productos del reino animal/0210",
          "Animales vivos y productos del reino animal/0301",
          "Animales vivos y productos del reino animal/0302",
          "Animales vivos y productos del reino animal/0303",
          "Animales vivos y productos del reino animal/0304",
          "Animales vivos y productos del reino animal/0305",
          "Animales vivos y productos del reino animal/0306",
          "Animales vivos y productos del reino animal/0307",
          "Animales vivos y productos del reino animal/0308",
          "Animales vivos y productos del reino animal/0401",
          "Animales vivos y productos del reino animal/0402",
          "Animales vivos y productos del reino animal/0403",
          "Animales vivos y productos del reino animal/0404",
          "Animales vivos y productos del reino animal/0405",
          "Animales vivos y productos del reino animal/0406",
          "Animales vivos y productos del reino animal/0409",
          "Animales vivos y productos del reino animal/0504",
          "Animales vivos y productos del reino animal/0506",
          "Animales vivos y productos del reino animal/0508",
          "Animales vivos y productos del reino animal/0511",
          "Productos del reino vegetal/0601",
          "Productos del reino vegetal/0602",
          "Productos del reino vegetal/0603",
          "Productos del reino vegetal/0604",
          "Productos del reino vegetal/0701",
          "Productos del reino vegetal/0702",
          "Productos del reino vegetal/0703",
          "Productos del reino vegetal/0704",
          "Productos del reino vegetal/0705",
          "Productos del reino vegetal/0706",
          "Productos del reino vegetal/0707",
          "Productos del reino vegetal/0708",
          "Productos del reino vegetal/0709",
          "Productos del reino vegetal/0710",
          "Productos del reino vegetal/0711",
          "Productos del reino vegetal/0712",
          "Productos del reino vegetal/0713",
          "Productos del reino vegetal/0714",
          "Productos del reino vegetal/0801",
          "Productos del reino vegetal/0802",
          "Productos del reino vegetal/0803",
          "Productos del reino vegetal/0804",
          "Productos del reino vegetal/0805",
          "Productos del reino vegetal/0806",
          "Productos del reino vegetal/0807",
          "Productos del reino vegetal/0808",
          "Productos del reino vegetal/0809",
          "Productos del reino vegetal/0810",
          "Productos del reino vegetal/0811",
          "Productos del reino vegetal/0812",
          "Productos del reino vegetal/0813",
          "Productos del reino vegetal/0814",
          "Productos del reino vegetal/0901",
          "Productos del reino vegetal/0902",
          "Productos del reino vegetal/0904",
          "Productos del reino vegetal/0905",
          "Productos del reino vegetal/0906",
          "Productos del reino vegetal/0907",
          "Productos del reino vegetal/0908",
          "Productos del reino vegetal/0909",
          "Productos del reino vegetal/0910",
          "Productos del reino vegetal/1001",
          "Productos del reino vegetal/1003",
          "Productos del reino vegetal/1004",
          "Productos del reino vegetal/1005",
          "Productos del reino vegetal/1006",
          "Productos del reino vegetal/1007",
          "Productos del reino vegetal/1008",
          "Productos del reino vegetal/1101",
          "Productos del reino vegetal/1102",
          "Productos del reino vegetal/1103",
          "Productos del reino vegetal/1104",
          "Productos del reino vegetal/1105",
          "Productos del reino vegetal/1106",
          "Productos del reino vegetal/1107",
          "Productos del reino vegetal/1108",
          "Productos del reino vegetal/1201",
          "Productos del reino vegetal/1202",
          "Productos del reino vegetal/1204",
          "Productos del reino vegetal/1206",
          "Productos del reino vegetal/1207",
          "Productos del reino vegetal/1208",
          "Productos del reino vegetal/1209",
          "Productos del reino vegetal/1211",
          "Productos del reino vegetal/1212",
          "Productos del reino vegetal/1214",
          "Productos del reino vegetal/1301",
          "Productos del reino vegetal/1302",
          "Productos del reino vegetal/1401",
          "Productos del reino vegetal/1404",
          "Grasas y aceites animales o vegetales; productos de su desdoblamiento; grasas alimenticias elaboradas; ceras de origen animal o vegetal/1501",
          "Grasas y aceites animales o vegetales; productos de su desdoblamiento; grasas alimenticias elaboradas; ceras de origen animal o vegetal/1504",
          "Grasas y aceites animales o vegetales; productos de su desdoblamiento; grasas alimenticias elaboradas; ceras de origen animal o vegetal/1505",
          "Grasas y aceites animales o vegetales; productos de su desdoblamiento; grasas alimenticias elaboradas; ceras de origen animal o vegetal/1507",
          "Grasas y aceites animales o vegetales; productos de su desdoblamiento; grasas alimenticias elaboradas; ceras de origen animal o vegetal/1509",
          "Grasas y aceites animales o vegetales; productos de su desdoblamiento; grasas alimenticias elaboradas; ceras de origen animal o vegetal/1511",
          "Grasas y aceites animales o vegetales; productos de su desdoblamiento; grasas alimenticias elaboradas; ceras de origen animal o vegetal/1512",
          "Grasas y aceites animales o vegetales; productos de su desdoblamiento; grasas alimenticias elaboradas; ceras de origen animal o vegetal/1513",
          "Grasas y aceites animales o vegetales; productos de su desdoblamiento; grasas alimenticias elaboradas; ceras de origen animal o vegetal/1514",
          "Grasas y aceites animales o vegetales; productos de su desdoblamiento; grasas alimenticias elaboradas; ceras de origen animal o vegetal/1515",
          "Grasas y aceites animales o vegetales; productos de su desdoblamiento; grasas alimenticias elaboradas; ceras de origen animal o vegetal/1516",
          "Grasas y aceites animales o vegetales; productos de su desdoblamiento; grasas alimenticias elaboradas; ceras de origen animal o vegetal/1517",
          "Grasas y aceites animales o vegetales; productos de su desdoblamiento; grasas alimenticias elaboradas; ceras de origen animal o vegetal/1518",
          "Grasas y aceites animales o vegetales; productos de su desdoblamiento; grasas alimenticias elaboradas; ceras de origen animal o vegetal/1521",
          "Productos de las industrias alimentarias; bebidas, líquidos alcohólicos y vinagre; tabaco y sucedáneos del tabaco elaborados/1601",
          "Productos de las industrias alimentarias; bebidas, líquidos alcohólicos y vinagre; tabaco y sucedáneos del tabaco elaborados/1602",
          "Productos de las industrias alimentarias; bebidas, líquidos alcohólicos y vinagre; tabaco y sucedáneos del tabaco elaborados/1604",
          "Productos de las industrias alimentarias; bebidas, líquidos alcohólicos y vinagre; tabaco y sucedáneos del tabaco elaborados/1605",
          "Productos de las industrias alimentarias; bebidas, líquidos alcohólicos y vinagre; tabaco y sucedáneos del tabaco elaborados/1701",
          "Productos de las industrias alimentarias; bebidas, líquidos alcohólicos y vinagre; tabaco y sucedáneos del tabaco elaborados/1702",
          "Productos de las industrias alimentarias; bebidas, líquidos alcohólicos y vinagre; tabaco y sucedáneos del tabaco elaborados/1703",
          "Productos de las industrias alimentarias; bebidas, líquidos alcohólicos y vinagre; tabaco y sucedáneos del tabaco elaborados/1704",
          "Productos de las industrias alimentarias; bebidas, líquidos alcohólicos y vinagre; tabaco y sucedáneos del tabaco elaborados/1801",
          "Productos de las industrias alimentarias; bebidas, líquidos alcohólicos y vinagre; tabaco y sucedáneos del tabaco elaborados/1803",
          "Productos de las industrias alimentarias; bebidas, líquidos alcohólicos y vinagre; tabaco y sucedáneos del tabaco elaborados/1804",
          "Productos de las industrias alimentarias; bebidas, líquidos alcohólicos y vinagre; tabaco y sucedáneos del tabaco elaborados/1805",
          "Productos de las industrias alimentarias; bebidas, líquidos alcohólicos y vinagre; tabaco y sucedáneos del tabaco elaborados/1806",
          "Productos de las industrias alimentarias; bebidas, líquidos alcohólicos y vinagre; tabaco y sucedáneos del tabaco elaborados/1901",
          "Productos de las industrias alimentarias; bebidas, líquidos alcohólicos y vinagre; tabaco y sucedáneos del tabaco elaborados/1904",
          "Productos de las industrias alimentarias; bebidas, líquidos alcohólicos y vinagre; tabaco y sucedáneos del tabaco elaborados/1905",
          "Productos de las industrias alimentarias; bebidas, líquidos alcohólicos y vinagre; tabaco y sucedáneos del tabaco elaborados/2001",
          "Productos de las industrias alimentarias; bebidas, líquidos alcohólicos y vinagre; tabaco y sucedáneos del tabaco elaborados/2002",
          "Productos de las industrias alimentarias; bebidas, líquidos alcohólicos y vinagre; tabaco y sucedáneos del tabaco elaborados/2003",
          "Productos de las industrias alimentarias; bebidas, líquidos alcohólicos y vinagre; tabaco y sucedáneos del tabaco elaborados/2004",
          "Productos de las industrias alimentarias; bebidas, líquidos alcohólicos y vinagre; tabaco y sucedáneos del tabaco elaborados/2005",
          "Productos de las industrias alimentarias; bebidas, líquidos alcohólicos y vinagre; tabaco y sucedáneos del tabaco elaborados/2006",
          "Productos de las industrias alimentarias; bebidas, líquidos alcohólicos y vinagre; tabaco y sucedáneos del tabaco elaborados/2007",
          "Productos de las industrias alimentarias; bebidas, líquidos alcohólicos y vinagre; tabaco y sucedáneos del tabaco elaborados/2008",
          "Productos de las industrias alimentarias; bebidas, líquidos alcohólicos y vinagre; tabaco y sucedáneos del tabaco elaborados/2009",
          "Productos de las industrias alimentarias; bebidas, líquidos alcohólicos y vinagre; tabaco y sucedáneos del tabaco elaborados/2101",
          "Productos de las industrias alimentarias; bebidas, líquidos alcohólicos y vinagre; tabaco y sucedáneos del tabaco elaborados/2102",
          "Productos de las industrias alimentarias; bebidas, líquidos alcohólicos y vinagre; tabaco y sucedáneos del tabaco elaborados/2103",
          "Productos de las industrias alimentarias; bebidas, líquidos alcohólicos y vinagre; tabaco y sucedáneos del tabaco elaborados/2104",
          "Productos de las industrias alimentarias; bebidas, líquidos alcohólicos y vinagre; tabaco y sucedáneos del tabaco elaborados/2105",
          "Productos de las industrias alimentarias; bebidas, líquidos alcohólicos y vinagre; tabaco y sucedáneos del tabaco elaborados/2106",
          "Productos de las industrias alimentarias; bebidas, líquidos alcohólicos y vinagre; tabaco y sucedáneos del tabaco elaborados/2201",
          "Productos de las industrias alimentarias; bebidas, líquidos alcohólicos y vinagre; tabaco y sucedáneos del tabaco elaborados/2202",
          "Productos de las industrias alimentarias; bebidas, líquidos alcohólicos y vinagre; tabaco y sucedáneos del tabaco elaborados/2203",
          "Productos de las industrias alimentarias; bebidas, líquidos alcohólicos y vinagre; tabaco y sucedáneos del tabaco elaborados/2204",
          "Productos de las industrias alimentarias; bebidas, líquidos alcohólicos y vinagre; tabaco y sucedáneos del tabaco elaborados/2206",
          "Productos de las industrias alimentarias; bebidas, líquidos alcohólicos y vinagre; tabaco y sucedáneos del tabaco elaborados/2207",
          "Productos de las industrias alimentarias; bebidas, líquidos alcohólicos y vinagre; tabaco y sucedáneos del tabaco elaborados/2208",
          "Productos de las industrias alimentarias; bebidas, líquidos alcohólicos y vinagre; tabaco y sucedáneos del tabaco elaborados/2301",
          "Productos de las industrias alimentarias; bebidas, líquidos alcohólicos y vinagre; tabaco y sucedáneos del tabaco elaborados/2302",
          "Productos de las industrias alimentarias; bebidas, líquidos alcohólicos y vinagre; tabaco y sucedáneos del tabaco elaborados/2308",
          "Productos de las industrias alimentarias; bebidas, líquidos alcohólicos y vinagre; tabaco y sucedáneos del tabaco elaborados/2309",
          "Productos de las industrias alimentarias; bebidas, líquidos alcohólicos y vinagre; tabaco y sucedáneos del tabaco elaborados/2401",
          "Productos de las industrias alimentarias; bebidas, líquidos alcohólicos y vinagre; tabaco y sucedáneos del tabaco elaborados/2402",
          "Productos minerales/2501",
          "Productos minerales/2504",
          "Productos minerales/2505",
          "Productos minerales/2506",
          "Productos minerales/2507",
          "Productos minerales/2508",
          "Productos minerales/2510",
          "Productos minerales/2511",
          "Productos minerales/2512",
          "Productos minerales/2513",
          "Productos minerales/2515",
          "Productos minerales/2516",
          "Productos minerales/2517",
          "Productos minerales/2519",
          "Productos minerales/2520",
          "Productos minerales/2522",
          "Productos minerales/2523",
          "Productos minerales/2526",
          "Productos minerales/2529",
          "Productos minerales/2530",
          "Productos minerales/2601",
          "Productos minerales/2603",
          "Productos minerales/2607",
          "Productos minerales/2608",
          "Productos minerales/2614",
          "Productos minerales/2615",
          "Productos minerales/2616",
          "Productos minerales/2618",
          "Productos minerales/2619",
          "Productos minerales/2620",
          "Productos minerales/2621",
          "Productos minerales/2701",
          "Productos minerales/2707",
          "Productos minerales/2709",
          "Productos minerales/2710",
          "Productos minerales/2711",
          "Productos minerales/2712",
          "Productos minerales/2713",
          "Productos minerales/2715",
          "Productos minerales/2716",
          "Productos de las industrias químicas o de las industrias conexas/2801",
          "Productos de las industrias químicas o de las industrias conexas/2803",
          "Productos de las industrias químicas o de las industrias conexas/2804",
          "Productos de las industrias químicas o de las industrias conexas/2805",
          "Productos de las industrias químicas o de las industrias conexas/2806",
          "Productos de las industrias químicas o de las industrias conexas/2807",
          "Productos de las industrias químicas o de las industrias conexas/2808",
          "Productos de las industrias químicas o de las industrias conexas/2809",
          "Productos de las industrias químicas o de las industrias conexas/2810",
          "Productos de las industrias químicas o de las industrias conexas/2811",
          "Productos de las industrias químicas o de las industrias conexas/2814",
          "Productos de las industrias químicas o de las industrias conexas/2815",
          "Productos de las industrias químicas o de las industrias conexas/2816",
          "Productos de las industrias químicas o de las industrias conexas/2817",
          "Productos de las industrias químicas o de las industrias conexas/2818",
          "Productos de las industrias químicas o de las industrias conexas/2819",
          "Productos de las industrias químicas o de las industrias conexas/2820",
          "Productos de las industrias químicas o de las industrias conexas/2821",
          "Productos de las industrias químicas o de las industrias conexas/2823",
          "Productos de las industrias químicas o de las industrias conexas/2825",
          "Productos de las industrias químicas o de las industrias conexas/2826",
          "Productos de las industrias químicas o de las industrias conexas/2827",
          "Productos de las industrias químicas o de las industrias conexas/2828",
          "Productos de las industrias químicas o de las industrias conexas/2829",
          "Productos de las industrias químicas o de las industrias conexas/2830",
          "Productos de las industrias químicas o de las industrias conexas/2832",
          "Productos de las industrias químicas o de las industrias conexas/2833",
          "Productos de las industrias químicas o de las industrias conexas/2834",
          "Productos de las industrias químicas o de las industrias conexas/2835",
          "Productos de las industrias químicas o de las industrias conexas/2836",
          "Productos de las industrias químicas o de las industrias conexas/2837",
          "Productos de las industrias químicas o de las industrias conexas/2839",
          "Productos de las industrias químicas o de las industrias conexas/2840",
          "Productos de las industrias químicas o de las industrias conexas/2841",
          "Productos de las industrias químicas o de las industrias conexas/2842",
          "Productos de las industrias químicas o de las industrias conexas/2843",
          "Productos de las industrias químicas o de las industrias conexas/2844",
          "Productos de las industrias químicas o de las industrias conexas/2846",
          "Productos de las industrias químicas o de las industrias conexas/2847",
          "Productos de las industrias químicas o de las industrias conexas/2849",
          "Productos de las industrias químicas o de las industrias conexas/2853",
          "Productos de las industrias químicas o de las industrias conexas/2901",
          "Productos de las industrias químicas o de las industrias conexas/2902",
          "Productos de las industrias químicas o de las industrias conexas/2903",
          "Productos de las industrias químicas o de las industrias conexas/2904",
          "Productos de las industrias químicas o de las industrias conexas/2905",
          "Productos de las industrias químicas o de las industrias conexas/2906",
          "Productos de las industrias químicas o de las industrias conexas/2907",
          "Productos de las industrias químicas o de las industrias conexas/2908",
          "Productos de las industrias químicas o de las industrias conexas/2909",
          "Productos de las industrias químicas o de las industrias conexas/2911",
          "Productos de las industrias químicas o de las industrias conexas/2912",
          "Productos de las industrias químicas o de las industrias conexas/2914",
          "Productos de las industrias químicas o de las industrias conexas/2915",
          "Productos de las industrias químicas o de las industrias conexas/2916",
          "Productos de las industrias químicas o de las industrias conexas/2917",
          "Productos de las industrias químicas o de las industrias conexas/2918",
          "Productos de las industrias químicas o de las industrias conexas/2919",
          "Productos de las industrias químicas o de las industrias conexas/2920",
          "Productos de las industrias químicas o de las industrias conexas/2921",
          "Productos de las industrias químicas o de las industrias conexas/2922",
          "Productos de las industrias químicas o de las industrias conexas/2923",
          "Productos de las industrias químicas o de las industrias conexas/2924",
          "Productos de las industrias químicas o de las industrias conexas/2925",
          "Productos de las industrias químicas o de las industrias conexas/2926",
          "Productos de las industrias químicas o de las industrias conexas/2927",
          "Productos de las industrias químicas o de las industrias conexas/2928",
          "Productos de las industrias químicas o de las industrias conexas/2929",
          "Productos de las industrias químicas o de las industrias conexas/2930",
          "Productos de las industrias químicas o de las industrias conexas/2931",
          "Productos de las industrias químicas o de las industrias conexas/2932",
          "Productos de las industrias químicas o de las industrias conexas/2933",
          "Productos de las industrias químicas o de las industrias conexas/2934",
          "Productos de las industrias químicas o de las industrias conexas/2935",
          "Productos de las industrias químicas o de las industrias conexas/2936",
          "Productos de las industrias químicas o de las industrias conexas/2937",
          "Productos de las industrias químicas o de las industrias conexas/2938",
          "Productos de las industrias químicas o de las industrias conexas/2939",
          "Productos de las industrias químicas o de las industrias conexas/2940",
          "Productos de las industrias químicas o de las industrias conexas/2941",
          "Productos de las industrias químicas o de las industrias conexas/3001",
          "Productos de las industrias químicas o de las industrias conexas/3002",
          "Productos de las industrias químicas o de las industrias conexas/3003",
          "Productos de las industrias químicas o de las industrias conexas/3004",
          "Productos de las industrias químicas o de las industrias conexas/3005",
          "Productos de las industrias químicas o de las industrias conexas/3006",
          "Productos de las industrias químicas o de las industrias conexas/3101",
          "Productos de las industrias químicas o de las industrias conexas/3102",
          "Productos de las industrias químicas o de las industrias conexas/3103",
          "Productos de las industrias químicas o de las industrias conexas/3104",
          "Productos de las industrias químicas o de las industrias conexas/3105",
          "Productos de las industrias químicas o de las industrias conexas/3201",
          "Productos de las industrias químicas o de las industrias conexas/3202",
          "Productos de las industrias químicas o de las industrias conexas/3203",
          "Productos de las industrias químicas o de las industrias conexas/3204",
          "Productos de las industrias químicas o de las industrias conexas/3205",
          "Productos de las industrias químicas o de las industrias conexas/3206",
          "Productos de las industrias químicas o de las industrias conexas/3207",
          "Productos de las industrias químicas o de las industrias conexas/3208",
          "Productos de las industrias químicas o de las industrias conexas/3209",
          "Productos de las industrias químicas o de las industrias conexas/3210",
          "Productos de las industrias químicas o de las industrias conexas/3211",
          "Productos de las industrias químicas o de las industrias conexas/3212",
          "Productos de las industrias químicas o de las industrias conexas/3213",
          "Productos de las industrias químicas o de las industrias conexas/3214",
          "Productos de las industrias químicas o de las industrias conexas/3215",
          "Productos de las industrias químicas o de las industrias conexas/3301",
          "Productos de las industrias químicas o de las industrias conexas/3302",
          "Productos de las industrias químicas o de las industrias conexas/3303",
          "Productos de las industrias químicas o de las industrias conexas/3304",
          "Productos de las industrias químicas o de las industrias conexas/3305",
          "Productos de las industrias químicas o de las industrias conexas/3306",
          "Productos de las industrias químicas o de las industrias conexas/3307",
          "Productos de las industrias químicas o de las industrias conexas/3401",
          "Productos de las industrias químicas o de las industrias conexas/3402",
          "Productos de las industrias químicas o de las industrias conexas/3403",
          "Productos de las industrias químicas o de las industrias conexas/3404",
          "Productos de las industrias químicas o de las industrias conexas/3405",
          "Productos de las industrias químicas o de las industrias conexas/3406",
          "Productos de las industrias químicas o de las industrias conexas/3407",
          "Productos de las industrias químicas o de las industrias conexas/3503",
          "Productos de las industrias químicas o de las industrias conexas/3504",
          "Productos de las industrias químicas o de las industrias conexas/3505",
          "Productos de las industrias químicas o de las industrias conexas/3506",
          "Productos de las industrias químicas o de las industrias conexas/3507",
          "Productos de las industrias químicas o de las industrias conexas/3602",
          "Productos de las industrias químicas o de las industrias conexas/3603",
          "Productos de las industrias químicas o de las industrias conexas/3604",
          "Productos de las industrias químicas o de las industrias conexas/3605",
          "Productos de las industrias químicas o de las industrias conexas/3606",
          "Productos de las industrias químicas o de las industrias conexas/3701",
          "Productos de las industrias químicas o de las industrias conexas/3702",
          "Productos de las industrias químicas o de las industrias conexas/3703",
          "Productos de las industrias químicas o de las industrias conexas/3705",
          "Productos de las industrias químicas o de las industrias conexas/3707",
          "Productos de las industrias químicas o de las industrias conexas/3801",
          "Productos de las industrias químicas o de las industrias conexas/3802",
          "Productos de las industrias químicas o de las industrias conexas/3804",
          "Productos de las industrias químicas o de las industrias conexas/3805",
          "Productos de las industrias químicas o de las industrias conexas/3806",
          "Productos de las industrias químicas o de las industrias conexas/3808",
          "Productos de las industrias químicas o de las industrias conexas/3809",
          "Productos de las industrias químicas o de las industrias conexas/3810",
          "Productos de las industrias químicas o de las industrias conexas/3811",
          "Productos de las industrias químicas o de las industrias conexas/3812",
          "Productos de las industrias químicas o de las industrias conexas/3813",
          "Productos de las industrias químicas o de las industrias conexas/3814",
          "Productos de las industrias químicas o de las industrias conexas/3815",
          "Productos de las industrias químicas o de las industrias conexas/3816",
          "Productos de las industrias químicas o de las industrias conexas/3819",
          "Productos de las industrias químicas o de las industrias conexas/3820",
          "Productos de las industrias químicas o de las industrias conexas/3821",
          "Productos de las industrias químicas o de las industrias conexas/3822",
          "Productos de las industrias químicas o de las industrias conexas/3823",
          "Productos de las industrias químicas o de las industrias conexas/3824",
          "Productos de las industrias químicas o de las industrias conexas/3825",
          "Plástico y sus manufacturas; caucho y sus manufacturas/3901",
          "Plástico y sus manufacturas; caucho y sus manufacturas/3902",
          "Plástico y sus manufacturas; caucho y sus manufacturas/3903",
          "Plástico y sus manufacturas; caucho y sus manufacturas/3904",
          "Plástico y sus manufacturas; caucho y sus manufacturas/3905",
          "Plástico y sus manufacturas; caucho y sus manufacturas/3906",
          "Plástico y sus manufacturas; caucho y sus manufacturas/3907",
          "Plástico y sus manufacturas; caucho y sus manufacturas/3908",
          "Plástico y sus manufacturas; caucho y sus manufacturas/3909",
          "Plástico y sus manufacturas; caucho y sus manufacturas/3910",
          "Plástico y sus manufacturas; caucho y sus manufacturas/3911",
          "Plástico y sus manufacturas; caucho y sus manufacturas/3912",
          "Plástico y sus manufacturas; caucho y sus manufacturas/3913",
          "Plástico y sus manufacturas; caucho y sus manufacturas/3914",
          "Plástico y sus manufacturas; caucho y sus manufacturas/3915",
          "Plástico y sus manufacturas; caucho y sus manufacturas/3916",
          "Plástico y sus manufacturas; caucho y sus manufacturas/3918",
          "Plástico y sus manufacturas; caucho y sus manufacturas/3920",
          "Plástico y sus manufacturas; caucho y sus manufacturas/3921",
          "Plástico y sus manufacturas; caucho y sus manufacturas/3922",
          "Plástico y sus manufacturas; caucho y sus manufacturas/3924",
          "Plástico y sus manufacturas; caucho y sus manufacturas/3925",
          "Plástico y sus manufacturas; caucho y sus manufacturas/4001",
          "Plástico y sus manufacturas; caucho y sus manufacturas/4002",
          "Plástico y sus manufacturas; caucho y sus manufacturas/4004",
          "Plástico y sus manufacturas; caucho y sus manufacturas/4005",
          "Plástico y sus manufacturas; caucho y sus manufacturas/4006",
          "Plástico y sus manufacturas; caucho y sus manufacturas/4008",
          "Plástico y sus manufacturas; caucho y sus manufacturas/4009",
          "Plástico y sus manufacturas; caucho y sus manufacturas/4010",
          "Plástico y sus manufacturas; caucho y sus manufacturas/4011",
          "Plástico y sus manufacturas; caucho y sus manufacturas/4012",
          "Plástico y sus manufacturas; caucho y sus manufacturas/4013",
          "Plástico y sus manufacturas; caucho y sus manufacturas/4014",
          "Plástico y sus manufacturas; caucho y sus manufacturas/4015",
          "Plástico y sus manufacturas; caucho y sus manufacturas/4017",
          "Pieles, cueros, peletería y manufacturas de estas materias; artículos de talabartería o guarnicionería; artículos de viaje, bolsos de mano (carteras) y continentes similares; manufacturas de tripa/4101",
          "Pieles, cueros, peletería y manufacturas de estas materias; artículos de talabartería o guarnicionería; artículos de viaje, bolsos de mano (carteras) y continentes similares; manufacturas de tripa/4104",
          "Pieles, cueros, peletería y manufacturas de estas materias; artículos de talabartería o guarnicionería; artículos de viaje, bolsos de mano (carteras) y continentes similares; manufacturas de tripa/4105",
          "Pieles, cueros, peletería y manufacturas de estas materias; artículos de talabartería o guarnicionería; artículos de viaje, bolsos de mano (carteras) y continentes similares; manufacturas de tripa/4106",
          "Pieles, cueros, peletería y manufacturas de estas materias; artículos de talabartería o guarnicionería; artículos de viaje, bolsos de mano (carteras) y continentes similares; manufacturas de tripa/4107",
          "Pieles, cueros, peletería y manufacturas de estas materias; artículos de talabartería o guarnicionería; artículos de viaje, bolsos de mano (carteras) y continentes similares; manufacturas de tripa/4113",
          "Pieles, cueros, peletería y manufacturas de estas materias; artículos de talabartería o guarnicionería; artículos de viaje, bolsos de mano (carteras) y continentes similares; manufacturas de tripa/4114",
          "Pieles, cueros, peletería y manufacturas de estas materias; artículos de talabartería o guarnicionería; artículos de viaje, bolsos de mano (carteras) y continentes similares; manufacturas de tripa/4115",
          "Pieles, cueros, peletería y manufacturas de estas materias; artículos de talabartería o guarnicionería; artículos de viaje, bolsos de mano (carteras) y continentes similares; manufacturas de tripa/4201",
          "Pieles, cueros, peletería y manufacturas de estas materias; artículos de talabartería o guarnicionería; artículos de viaje, bolsos de mano (carteras) y continentes similares; manufacturas de tripa/4202",
          "Pieles, cueros, peletería y manufacturas de estas materias; artículos de talabartería o guarnicionería; artículos de viaje, bolsos de mano (carteras) y continentes similares; manufacturas de tripa/4203",
          "Pieles, cueros, peletería y manufacturas de estas materias; artículos de talabartería o guarnicionería; artículos de viaje, bolsos de mano (carteras) y continentes similares; manufacturas de tripa/4205",
          "Pieles, cueros, peletería y manufacturas de estas materias; artículos de talabartería o guarnicionería; artículos de viaje, bolsos de mano (carteras) y continentes similares; manufacturas de tripa/4302",
          "Pieles, cueros, peletería y manufacturas de estas materias; artículos de talabartería o guarnicionería; artículos de viaje, bolsos de mano (carteras) y continentes similares; manufacturas de tripa/4303",
          "Pieles, cueros, peletería y manufacturas de estas materias; artículos de talabartería o guarnicionería; artículos de viaje, bolsos de mano (carteras) y continentes similares; manufacturas de tripa/4304",
          "Madera, carbón vegetal y manufacturas de madera; corcho y sus manufacturas; manufacturas de espartería o cestería/4401",
          "Madera, carbón vegetal y manufacturas de madera; corcho y sus manufacturas; manufacturas de espartería o cestería/4402",
          "Madera, carbón vegetal y manufacturas de madera; corcho y sus manufacturas; manufacturas de espartería o cestería/4403",
          "Madera, carbón vegetal y manufacturas de madera; corcho y sus manufacturas; manufacturas de espartería o cestería/4404",
          "Madera, carbón vegetal y manufacturas de madera; corcho y sus manufacturas; manufacturas de espartería o cestería/4407",
          "Madera, carbón vegetal y manufacturas de madera; corcho y sus manufacturas; manufacturas de espartería o cestería/4408",
          "Madera, carbón vegetal y manufacturas de madera; corcho y sus manufacturas; manufacturas de espartería o cestería/4409",
          "Madera, carbón vegetal y manufacturas de madera; corcho y sus manufacturas; manufacturas de espartería o cestería/4410",
          "Madera, carbón vegetal y manufacturas de madera; corcho y sus manufacturas; manufacturas de espartería o cestería/4411",
          "Madera, carbón vegetal y manufacturas de madera; corcho y sus manufacturas; manufacturas de espartería o cestería/4412",
          "Madera, carbón vegetal y manufacturas de madera; corcho y sus manufacturas; manufacturas de espartería o cestería/4414",
          "Madera, carbón vegetal y manufacturas de madera; corcho y sus manufacturas; manufacturas de espartería o cestería/4415",
          "Madera, carbón vegetal y manufacturas de madera; corcho y sus manufacturas; manufacturas de espartería o cestería/4416",
          "Madera, carbón vegetal y manufacturas de madera; corcho y sus manufacturas; manufacturas de espartería o cestería/4417",
          "Madera, carbón vegetal y manufacturas de madera; corcho y sus manufacturas; manufacturas de espartería o cestería/4418",
          "Madera, carbón vegetal y manufacturas de madera; corcho y sus manufacturas; manufacturas de espartería o cestería/4419",
          "Madera, carbón vegetal y manufacturas de madera; corcho y sus manufacturas; manufacturas de espartería o cestería/4420",
          "Madera, carbón vegetal y manufacturas de madera; corcho y sus manufacturas; manufacturas de espartería o cestería/4421",
          "Madera, carbón vegetal y manufacturas de madera; corcho y sus manufacturas; manufacturas de espartería o cestería/4503",
          "Madera, carbón vegetal y manufacturas de madera; corcho y sus manufacturas; manufacturas de espartería o cestería/4504",
          "Madera, carbón vegetal y manufacturas de madera; corcho y sus manufacturas; manufacturas de espartería o cestería/4601",
          "Madera, carbón vegetal y manufacturas de madera; corcho y sus manufacturas; manufacturas de espartería o cestería/4602",
          "Pasta de madera o de las demás materias fibrosas celulósicas; papel o cartón para reciclar (desperdicios y desechos); papel o cartón y sus aplicaciones/4707",
          "Pasta de madera o de las demás materias fibrosas celulósicas; papel o cartón para reciclar (desperdicios y desechos); papel o cartón y sus aplicaciones/4801",
          "Pasta de madera o de las demás materias fibrosas celulósicas; papel o cartón para reciclar (desperdicios y desechos); papel o cartón y sus aplicaciones/4802",
          "Pasta de madera o de las demás materias fibrosas celulósicas; papel o cartón para reciclar (desperdicios y desechos); papel o cartón y sus aplicaciones/4803",
          "Pasta de madera o de las demás materias fibrosas celulósicas; papel o cartón para reciclar (desperdicios y desechos); papel o cartón y sus aplicaciones/4804",
          "Pasta de madera o de las demás materias fibrosas celulósicas; papel o cartón para reciclar (desperdicios y desechos); papel o cartón y sus aplicaciones/4805",
          "Pasta de madera o de las demás materias fibrosas celulósicas; papel o cartón para reciclar (desperdicios y desechos); papel o cartón y sus aplicaciones/4806",
          "Pasta de madera o de las demás materias fibrosas celulósicas; papel o cartón para reciclar (desperdicios y desechos); papel o cartón y sus aplicaciones/4807",
          "Pasta de madera o de las demás materias fibrosas celulósicas; papel o cartón para reciclar (desperdicios y desechos); papel o cartón y sus aplicaciones/4808",
          "Pasta de madera o de las demás materias fibrosas celulósicas; papel o cartón para reciclar (desperdicios y desechos); papel o cartón y sus aplicaciones/4809",
          "Pasta de madera o de las demás materias fibrosas celulósicas; papel o cartón para reciclar (desperdicios y desechos); papel o cartón y sus aplicaciones/4810",
          "Pasta de madera o de las demás materias fibrosas celulósicas; papel o cartón para reciclar (desperdicios y desechos); papel o cartón y sus aplicaciones/4811",
          "Pasta de madera o de las demás materias fibrosas celulósicas; papel o cartón para reciclar (desperdicios y desechos); papel o cartón y sus aplicaciones/4812",
          "Pasta de madera o de las demás materias fibrosas celulósicas; papel o cartón para reciclar (desperdicios y desechos); papel o cartón y sus aplicaciones/4813",
          "Pasta de madera o de las demás materias fibrosas celulósicas; papel o cartón para reciclar (desperdicios y desechos); papel o cartón y sus aplicaciones/4814",
          "Pasta de madera o de las demás materias fibrosas celulósicas; papel o cartón para reciclar (desperdicios y desechos); papel o cartón y sus aplicaciones/4816",
          "Pasta de madera o de las demás materias fibrosas celulósicas; papel o cartón para reciclar (desperdicios y desechos); papel o cartón y sus aplicaciones/4817",
          "Pasta de madera o de las demás materias fibrosas celulósicas; papel o cartón para reciclar (desperdicios y desechos); papel o cartón y sus aplicaciones/4818",
          "Pasta de madera o de las demás materias fibrosas celulósicas; papel o cartón para reciclar (desperdicios y desechos); papel o cartón y sus aplicaciones/4819",
          "Pasta de madera o de las demás materias fibrosas celulósicas; papel o cartón para reciclar (desperdicios y desechos); papel o cartón y sus aplicaciones/4820",
          "Pasta de madera o de las demás materias fibrosas celulósicas; papel o cartón para reciclar (desperdicios y desechos); papel o cartón y sus aplicaciones/4821",
          "Pasta de madera o de las demás materias fibrosas celulósicas; papel o cartón para reciclar (desperdicios y desechos); papel o cartón y sus aplicaciones/4822",
          "Pasta de madera o de las demás materias fibrosas celulósicas; papel o cartón para reciclar (desperdicios y desechos); papel o cartón y sus aplicaciones/4823",
          "Pasta de madera o de las demás materias fibrosas celulósicas; papel o cartón para reciclar (desperdicios y desechos); papel o cartón y sus aplicaciones/4902",
          "Pasta de madera o de las demás materias fibrosas celulósicas; papel o cartón para reciclar (desperdicios y desechos); papel o cartón y sus aplicaciones/4903",
          "Pasta de madera o de las demás materias fibrosas celulósicas; papel o cartón para reciclar (desperdicios y desechos); papel o cartón y sus aplicaciones/4908",
          "Pasta de madera o de las demás materias fibrosas celulósicas; papel o cartón para reciclar (desperdicios y desechos); papel o cartón y sus aplicaciones/4909",
          "Pasta de madera o de las demás materias fibrosas celulósicas; papel o cartón para reciclar (desperdicios y desechos); papel o cartón y sus aplicaciones/4910",
          "Pasta de madera o de las demás materias fibrosas celulósicas; papel o cartón para reciclar (desperdicios y desechos); papel o cartón y sus aplicaciones/4911",
          "Materias textiles y sus manufacturas/5105",
          "Materias textiles y sus manufacturas/5111",
          "Materias textiles y sus manufacturas/5112",
          "Materias textiles y sus manufacturas/5201",
          "Materias textiles y sus manufacturas/5202",
          "Materias textiles y sus manufacturas/5203",
          "Materias textiles y sus manufacturas/5204",
          "Materias textiles y sus manufacturas/5205",
          "Materias textiles y sus manufacturas/5206",
          "Materias textiles y sus manufacturas/5207",
          "Materias textiles y sus manufacturas/5208",
          "Materias textiles y sus manufacturas/5209",
          "Materias textiles y sus manufacturas/5210",
          "Materias textiles y sus manufacturas/5211",
          "Materias textiles y sus manufacturas/5212",
          "Materias textiles y sus manufacturas/5303",
          "Materias textiles y sus manufacturas/5305",
          "Materias textiles y sus manufacturas/5309",
          "Materias textiles y sus manufacturas/5311",
          "Materias textiles y sus manufacturas/5401",
          "Materias textiles y sus manufacturas/5402",
          "Materias textiles y sus manufacturas/5403",
          "Materias textiles y sus manufacturas/5404",
          "Materias textiles y sus manufacturas/5406",
          "Materias textiles y sus manufacturas/5407",
          "Materias textiles y sus manufacturas/5408",
          "Materias textiles y sus manufacturas/5501",
          "Materias textiles y sus manufacturas/5503",
          "Materias textiles y sus manufacturas/5505",
          "Materias textiles y sus manufacturas/5506",
          "Materias textiles y sus manufacturas/5508",
          "Materias textiles y sus manufacturas/5509",
          "Materias textiles y sus manufacturas/5511",
          "Materias textiles y sus manufacturas/5512",
          "Materias textiles y sus manufacturas/5513",
          "Materias textiles y sus manufacturas/5514",
          "Materias textiles y sus manufacturas/5515",
          "Materias textiles y sus manufacturas/5516",
          "Materias textiles y sus manufacturas/5601",
          "Materias textiles y sus manufacturas/5602",
          "Materias textiles y sus manufacturas/5603",
          "Materias textiles y sus manufacturas/5604",
          "Materias textiles y sus manufacturas/5605",
          "Materias textiles y sus manufacturas/5606",
          "Materias textiles y sus manufacturas/5607",
          "Materias textiles y sus manufacturas/5608",
          "Materias textiles y sus manufacturas/5609",
          "Materias textiles y sus manufacturas/5701",
          "Materias textiles y sus manufacturas/5702",
          "Materias textiles y sus manufacturas/5703",
          "Materias textiles y sus manufacturas/5704",
          "Materias textiles y sus manufacturas/5705",
          "Materias textiles y sus manufacturas/5801",
          "Materias textiles y sus manufacturas/5804",
          "Materias textiles y sus manufacturas/5806",
          "Materias textiles y sus manufacturas/5807",
          "Materias textiles y sus manufacturas/5808",
          "Materias textiles y sus manufacturas/5810",
          "Materias textiles y sus manufacturas/5811",
          "Materias textiles y sus manufacturas/5901",
          "Materias textiles y sus manufacturas/5902",
          "Materias textiles y sus manufacturas/5903",
          "Materias textiles y sus manufacturas/5906",
          "Materias textiles y sus manufacturas/5907",
          "Materias textiles y sus manufacturas/5908",
          "Materias textiles y sus manufacturas/5909",
          "Materias textiles y sus manufacturas/5910",
          "Materias textiles y sus manufacturas/5911",
          "Materias textiles y sus manufacturas/6001",
          "Materias textiles y sus manufacturas/6002",
          "Materias textiles y sus manufacturas/6003",
          "Materias textiles y sus manufacturas/6004",
          "Materias textiles y sus manufacturas/6005",
          "Materias textiles y sus manufacturas/6006",
          "Materias textiles y sus manufacturas/6101",
          "Materias textiles y sus manufacturas/6102",
          "Materias textiles y sus manufacturas/6103",
          "Materias textiles y sus manufacturas/6104",
          "Materias textiles y sus manufacturas/6105",
          "Materias textiles y sus manufacturas/6106",
          "Materias textiles y sus manufacturas/6107",
          "Materias textiles y sus manufacturas/6108",
          "Materias textiles y sus manufacturas/6109",
          "Materias textiles y sus manufacturas/6110",
          "Materias textiles y sus manufacturas/6111",
          "Materias textiles y sus manufacturas/6112",
          "Materias textiles y sus manufacturas/6113",
          "Materias textiles y sus manufacturas/6114",
          "Materias textiles y sus manufacturas/6115",
          "Materias textiles y sus manufacturas/6116",
          "Materias textiles y sus manufacturas/6117",
          "Materias textiles y sus manufacturas/6201",
          "Materias textiles y sus manufacturas/6202",
          "Materias textiles y sus manufacturas/6203",
          "Materias textiles y sus manufacturas/6204",
          "Materias textiles y sus manufacturas/6205",
          "Materias textiles y sus manufacturas/6206",
          "Materias textiles y sus manufacturas/6207",
          "Materias textiles y sus manufacturas/6208",
          "Materias textiles y sus manufacturas/6209",
          "Materias textiles y sus manufacturas/6210",
          "Materias textiles y sus manufacturas/6211",
          "Materias textiles y sus manufacturas/6212",
          "Materias textiles y sus manufacturas/6213",
          "Materias textiles y sus manufacturas/6214",
          "Materias textiles y sus manufacturas/6215",
          "Materias textiles y sus manufacturas/6216",
          "Materias textiles y sus manufacturas/6217",
          "Materias textiles y sus manufacturas/6301",
          "Materias textiles y sus manufacturas/6302",
          "Materias textiles y sus manufacturas/6303",
          "Materias textiles y sus manufacturas/6304",
          "Materias textiles y sus manufacturas/6305",
          "Materias textiles y sus manufacturas/6306",
          "Materias textiles y sus manufacturas/6307",
          "Materias textiles y sus manufacturas/6308",
          "Materias textiles y sus manufacturas/6310",
          "Calzado, sombreros y demás tocados, paraguas, quitasoles, bastones, látigos, fustas y sus partes; plumas preparadas y artículos de plumas; flores artificiales; manufacturas de cabello/6401",
          "Calzado, sombreros y demás tocados, paraguas, quitasoles, bastones, látigos, fustas y sus partes; plumas preparadas y artículos de plumas; flores artificiales; manufacturas de cabello/6402",
          "Calzado, sombreros y demás tocados, paraguas, quitasoles, bastones, látigos, fustas y sus partes; plumas preparadas y artículos de plumas; flores artificiales; manufacturas de cabello/6403",
          "Calzado, sombreros y demás tocados, paraguas, quitasoles, bastones, látigos, fustas y sus partes; plumas preparadas y artículos de plumas; flores artificiales; manufacturas de cabello/6404",
          "Calzado, sombreros y demás tocados, paraguas, quitasoles, bastones, látigos, fustas y sus partes; plumas preparadas y artículos de plumas; flores artificiales; manufacturas de cabello/6405",
          "Calzado, sombreros y demás tocados, paraguas, quitasoles, bastones, látigos, fustas y sus partes; plumas preparadas y artículos de plumas; flores artificiales; manufacturas de cabello/6406",
          "Calzado, sombreros y demás tocados, paraguas, quitasoles, bastones, látigos, fustas y sus partes; plumas preparadas y artículos de plumas; flores artificiales; manufacturas de cabello/6504",
          "Calzado, sombreros y demás tocados, paraguas, quitasoles, bastones, látigos, fustas y sus partes; plumas preparadas y artículos de plumas; flores artificiales; manufacturas de cabello/6505",
          "Calzado, sombreros y demás tocados, paraguas, quitasoles, bastones, látigos, fustas y sus partes; plumas preparadas y artículos de plumas; flores artificiales; manufacturas de cabello/6506",
          "Calzado, sombreros y demás tocados, paraguas, quitasoles, bastones, látigos, fustas y sus partes; plumas preparadas y artículos de plumas; flores artificiales; manufacturas de cabello/6507",
          "Calzado, sombreros y demás tocados, paraguas, quitasoles, bastones, látigos, fustas y sus partes; plumas preparadas y artículos de plumas; flores artificiales; manufacturas de cabello/6601",
          "Calzado, sombreros y demás tocados, paraguas, quitasoles, bastones, látigos, fustas y sus partes; plumas preparadas y artículos de plumas; flores artificiales; manufacturas de cabello/6602",
          "Calzado, sombreros y demás tocados, paraguas, quitasoles, bastones, látigos, fustas y sus partes; plumas preparadas y artículos de plumas; flores artificiales; manufacturas de cabello/6603",
          "Calzado, sombreros y demás tocados, paraguas, quitasoles, bastones, látigos, fustas y sus partes; plumas preparadas y artículos de plumas; flores artificiales; manufacturas de cabello/6702",
          "Calzado, sombreros y demás tocados, paraguas, quitasoles, bastones, látigos, fustas y sus partes; plumas preparadas y artículos de plumas; flores artificiales; manufacturas de cabello/6704",
          "Manufacturas de piedra, yeso fraguable, cemento, amianto (asbesto), mica o materias análogas; productos cerámicos; vidrio y manufacturas de vidrio/6801",
          "Manufacturas de piedra, yeso fraguable, cemento, amianto (asbesto), mica o materias análogas; productos cerámicos; vidrio y manufacturas de vidrio/6802",
          "Manufacturas de piedra, yeso fraguable, cemento, amianto (asbesto), mica o materias análogas; productos cerámicos; vidrio y manufacturas de vidrio/6803",
          "Manufacturas de piedra, yeso fraguable, cemento, amianto (asbesto), mica o materias análogas; productos cerámicos; vidrio y manufacturas de vidrio/6804",
          "Manufacturas de piedra, yeso fraguable, cemento, amianto (asbesto), mica o materias análogas; productos cerámicos; vidrio y manufacturas de vidrio/6805",
          "Manufacturas de piedra, yeso fraguable, cemento, amianto (asbesto), mica o materias análogas; productos cerámicos; vidrio y manufacturas de vidrio/6806",
          "Manufacturas de piedra, yeso fraguable, cemento, amianto (asbesto), mica o materias análogas; productos cerámicos; vidrio y manufacturas de vidrio/6807",
          "Manufacturas de piedra, yeso fraguable, cemento, amianto (asbesto), mica o materias análogas; productos cerámicos; vidrio y manufacturas de vidrio/6808",
          "Manufacturas de piedra, yeso fraguable, cemento, amianto (asbesto), mica o materias análogas; productos cerámicos; vidrio y manufacturas de vidrio/6809",
          "Manufacturas de piedra, yeso fraguable, cemento, amianto (asbesto), mica o materias análogas; productos cerámicos; vidrio y manufacturas de vidrio/6810",
          "Manufacturas de piedra, yeso fraguable, cemento, amianto (asbesto), mica o materias análogas; productos cerámicos; vidrio y manufacturas de vidrio/6811",
          "Manufacturas de piedra, yeso fraguable, cemento, amianto (asbesto), mica o materias análogas; productos cerámicos; vidrio y manufacturas de vidrio/6812",
          "Manufacturas de piedra, yeso fraguable, cemento, amianto (asbesto), mica o materias análogas; productos cerámicos; vidrio y manufacturas de vidrio/6813",
          "Manufacturas de piedra, yeso fraguable, cemento, amianto (asbesto), mica o materias análogas; productos cerámicos; vidrio y manufacturas de vidrio/6814",
          "Manufacturas de piedra, yeso fraguable, cemento, amianto (asbesto), mica o materias análogas; productos cerámicos; vidrio y manufacturas de vidrio/6815",
          "Manufacturas de piedra, yeso fraguable, cemento, amianto (asbesto), mica o materias análogas; productos cerámicos; vidrio y manufacturas de vidrio/6901",
          "Manufacturas de piedra, yeso fraguable, cemento, amianto (asbesto), mica o materias análogas; productos cerámicos; vidrio y manufacturas de vidrio/6902",
          "Manufacturas de piedra, yeso fraguable, cemento, amianto (asbesto), mica o materias análogas; productos cerámicos; vidrio y manufacturas de vidrio/6903",
          "Manufacturas de piedra, yeso fraguable, cemento, amianto (asbesto), mica o materias análogas; productos cerámicos; vidrio y manufacturas de vidrio/6904",
          "Manufacturas de piedra, yeso fraguable, cemento, amianto (asbesto), mica o materias análogas; productos cerámicos; vidrio y manufacturas de vidrio/6905",
          "Manufacturas de piedra, yeso fraguable, cemento, amianto (asbesto), mica o materias análogas; productos cerámicos; vidrio y manufacturas de vidrio/6906",
          "Manufacturas de piedra, yeso fraguable, cemento, amianto (asbesto), mica o materias análogas; productos cerámicos; vidrio y manufacturas de vidrio/6907",
          "Manufacturas de piedra, yeso fraguable, cemento, amianto (asbesto), mica o materias análogas; productos cerámicos; vidrio y manufacturas de vidrio/6909",
          "Manufacturas de piedra, yeso fraguable, cemento, amianto (asbesto), mica o materias análogas; productos cerámicos; vidrio y manufacturas de vidrio/6910",
          "Manufacturas de piedra, yeso fraguable, cemento, amianto (asbesto), mica o materias análogas; productos cerámicos; vidrio y manufacturas de vidrio/6911",
          "Manufacturas de piedra, yeso fraguable, cemento, amianto (asbesto), mica o materias análogas; productos cerámicos; vidrio y manufacturas de vidrio/6912",
          "Manufacturas de piedra, yeso fraguable, cemento, amianto (asbesto), mica o materias análogas; productos cerámicos; vidrio y manufacturas de vidrio/6913",
          "Manufacturas de piedra, yeso fraguable, cemento, amianto (asbesto), mica o materias análogas; productos cerámicos; vidrio y manufacturas de vidrio/6914",
          "Manufacturas de piedra, yeso fraguable, cemento, amianto (asbesto), mica o materias análogas; productos cerámicos; vidrio y manufacturas de vidrio/7001",
          "Manufacturas de piedra, yeso fraguable, cemento, amianto (asbesto), mica o materias análogas; productos cerámicos; vidrio y manufacturas de vidrio/7002",
          "Manufacturas de piedra, yeso fraguable, cemento, amianto (asbesto), mica o materias análogas; productos cerámicos; vidrio y manufacturas de vidrio/7003",
          "Manufacturas de piedra, yeso fraguable, cemento, amianto (asbesto), mica o materias análogas; productos cerámicos; vidrio y manufacturas de vidrio/7004",
          "Manufacturas de piedra, yeso fraguable, cemento, amianto (asbesto), mica o materias análogas; productos cerámicos; vidrio y manufacturas de vidrio/7005",
          "Manufacturas de piedra, yeso fraguable, cemento, amianto (asbesto), mica o materias análogas; productos cerámicos; vidrio y manufacturas de vidrio/7006",
          "Manufacturas de piedra, yeso fraguable, cemento, amianto (asbesto), mica o materias análogas; productos cerámicos; vidrio y manufacturas de vidrio/7007",
          "Manufacturas de piedra, yeso fraguable, cemento, amianto (asbesto), mica o materias análogas; productos cerámicos; vidrio y manufacturas de vidrio/7008",
          "Manufacturas de piedra, yeso fraguable, cemento, amianto (asbesto), mica o materias análogas; productos cerámicos; vidrio y manufacturas de vidrio/7009",
          "Manufacturas de piedra, yeso fraguable, cemento, amianto (asbesto), mica o materias análogas; productos cerámicos; vidrio y manufacturas de vidrio/7010",
          "Manufacturas de piedra, yeso fraguable, cemento, amianto (asbesto), mica o materias análogas; productos cerámicos; vidrio y manufacturas de vidrio/7011",
          "Manufacturas de piedra, yeso fraguable, cemento, amianto (asbesto), mica o materias análogas; productos cerámicos; vidrio y manufacturas de vidrio/7013",
          "Manufacturas de piedra, yeso fraguable, cemento, amianto (asbesto), mica o materias análogas; productos cerámicos; vidrio y manufacturas de vidrio/7014",
          "Manufacturas de piedra, yeso fraguable, cemento, amianto (asbesto), mica o materias análogas; productos cerámicos; vidrio y manufacturas de vidrio/7015",
          "Manufacturas de piedra, yeso fraguable, cemento, amianto (asbesto), mica o materias análogas; productos cerámicos; vidrio y manufacturas de vidrio/7016",
          "Manufacturas de piedra, yeso fraguable, cemento, amianto (asbesto), mica o materias análogas; productos cerámicos; vidrio y manufacturas de vidrio/7017",
          "Manufacturas de piedra, yeso fraguable, cemento, amianto (asbesto), mica o materias análogas; productos cerámicos; vidrio y manufacturas de vidrio/7018",
          "Manufacturas de piedra, yeso fraguable, cemento, amianto (asbesto), mica o materias análogas; productos cerámicos; vidrio y manufacturas de vidrio/7019",
          "Manufacturas de piedra, yeso fraguable, cemento, amianto (asbesto), mica o materias análogas; productos cerámicos; vidrio y manufacturas de vidrio/7020",
          "Perlas finas (naturales) o cultivadas, piedras preciosas o semipreciosas, metales preciosos, chapados de metal precioso (plaqué) y manufacturas de estas materias; bisutería; monedas/7102",
          "Perlas finas (naturales) o cultivadas, piedras preciosas o semipreciosas, metales preciosos, chapados de metal precioso (plaqué) y manufacturas de estas materias; bisutería; monedas/7103",
          "Perlas finas (naturales) o cultivadas, piedras preciosas o semipreciosas, metales preciosos, chapados de metal precioso (plaqué) y manufacturas de estas materias; bisutería; monedas/7104",
          "Perlas finas (naturales) o cultivadas, piedras preciosas o semipreciosas, metales preciosos, chapados de metal precioso (plaqué) y manufacturas de estas materias; bisutería; monedas/7106",
          "Perlas finas (naturales) o cultivadas, piedras preciosas o semipreciosas, metales preciosos, chapados de metal precioso (plaqué) y manufacturas de estas materias; bisutería; monedas/7107",
          "Perlas finas (naturales) o cultivadas, piedras preciosas o semipreciosas, metales preciosos, chapados de metal precioso (plaqué) y manufacturas de estas materias; bisutería; monedas/7108",
          "Perlas finas (naturales) o cultivadas, piedras preciosas o semipreciosas, metales preciosos, chapados de metal precioso (plaqué) y manufacturas de estas materias; bisutería; monedas/7112",
          "Perlas finas (naturales) o cultivadas, piedras preciosas o semipreciosas, metales preciosos, chapados de metal precioso (plaqué) y manufacturas de estas materias; bisutería; monedas/7113",
          "Perlas finas (naturales) o cultivadas, piedras preciosas o semipreciosas, metales preciosos, chapados de metal precioso (plaqué) y manufacturas de estas materias; bisutería; monedas/7114",
          "Perlas finas (naturales) o cultivadas, piedras preciosas o semipreciosas, metales preciosos, chapados de metal precioso (plaqué) y manufacturas de estas materias; bisutería; monedas/7115",
          "Perlas finas (naturales) o cultivadas, piedras preciosas o semipreciosas, metales preciosos, chapados de metal precioso (plaqué) y manufacturas de estas materias; bisutería; monedas/7116",
          "Perlas finas (naturales) o cultivadas, piedras preciosas o semipreciosas, metales preciosos, chapados de metal precioso (plaqué) y manufacturas de estas materias; bisutería; monedas/7117",
          "Perlas finas (naturales) o cultivadas, piedras preciosas o semipreciosas, metales preciosos, chapados de metal precioso (plaqué) y manufacturas de estas materias; bisutería; monedas/7118",
          "Metales comunes y manufacturas de esos metales/7202",
          "Metales comunes y manufacturas de esos metales/7204",
          "Metales comunes y manufacturas de esos metales/7205",
          "Metales comunes y manufacturas de esos metales/7206",
          "Metales comunes y manufacturas de esos metales/7207",
          "Metales comunes y manufacturas de esos metales/7208",
          "Metales comunes y manufacturas de esos metales/7209",
          "Metales comunes y manufacturas de esos metales/7210",
          "Metales comunes y manufacturas de esos metales/7211",
          "Metales comunes y manufacturas de esos metales/7212",
          "Metales comunes y manufacturas de esos metales/7213",
          "Metales comunes y manufacturas de esos metales/7214",
          "Metales comunes y manufacturas de esos metales/7215",
          "Metales comunes y manufacturas de esos metales/7216",
          "Metales comunes y manufacturas de esos metales/7217",
          "Metales comunes y manufacturas de esos metales/7218",
          "Metales comunes y manufacturas de esos metales/7219",
          "Metales comunes y manufacturas de esos metales/7220",
          "Metales comunes y manufacturas de esos metales/7222",
          "Metales comunes y manufacturas de esos metales/7223",
          "Metales comunes y manufacturas de esos metales/7224",
          "Metales comunes y manufacturas de esos metales/7225",
          "Metales comunes y manufacturas de esos metales/7226",
          "Metales comunes y manufacturas de esos metales/7227",
          "Metales comunes y manufacturas de esos metales/7228",
          "Metales comunes y manufacturas de esos metales/7229",
          "Metales comunes y manufacturas de esos metales/7301",
          "Metales comunes y manufacturas de esos metales/7302",
          "Metales comunes y manufacturas de esos metales/7303",
          "Metales comunes y manufacturas de esos metales/7304",
          "Metales comunes y manufacturas de esos metales/7305",
          "Metales comunes y manufacturas de esos metales/7306",
          "Metales comunes y manufacturas de esos metales/7308",
          "Metales comunes y manufacturas de esos metales/7309",
          "Metales comunes y manufacturas de esos metales/7310",
          "Metales comunes y manufacturas de esos metales/7311",
          "Metales comunes y manufacturas de esos metales/7312",
          "Metales comunes y manufacturas de esos metales/7313",
          "Metales comunes y manufacturas de esos metales/7314",
          "Metales comunes y manufacturas de esos metales/7315",
          "Metales comunes y manufacturas de esos metales/7316",
          "Metales comunes y manufacturas de esos metales/7317",
          "Metales comunes y manufacturas de esos metales/7319",
          "Metales comunes y manufacturas de esos metales/7320",
          "Metales comunes y manufacturas de esos metales/7321",
          "Metales comunes y manufacturas de esos metales/7322",
          "Metales comunes y manufacturas de esos metales/7323",
          "Metales comunes y manufacturas de esos metales/7324",
          "Metales comunes y manufacturas de esos metales/7325",
          "Metales comunes y manufacturas de esos metales/7401",
          "Metales comunes y manufacturas de esos metales/7403",
          "Metales comunes y manufacturas de esos metales/7404",
          "Metales comunes y manufacturas de esos metales/7407",
          "Metales comunes y manufacturas de esos metales/7408",
          "Metales comunes y manufacturas de esos metales/7409",
          "Metales comunes y manufacturas de esos metales/7410",
          "Metales comunes y manufacturas de esos metales/7411",
          "Metales comunes y manufacturas de esos metales/7412",
          "Metales comunes y manufacturas de esos metales/7413",
          "Metales comunes y manufacturas de esos metales/7415",
          "Metales comunes y manufacturas de esos metales/7418",
          "Metales comunes y manufacturas de esos metales/7419",
          "Metales comunes y manufacturas de esos metales/7503",
          "Metales comunes y manufacturas de esos metales/7504",
          "Metales comunes y manufacturas de esos metales/7505",
          "Metales comunes y manufacturas de esos metales/7507",
          "Metales comunes y manufacturas de esos metales/7508",
          "Metales comunes y manufacturas de esos metales/7601",
          "Metales comunes y manufacturas de esos metales/7602",
          "Metales comunes y manufacturas de esos metales/7604",
          "Metales comunes y manufacturas de esos metales/7605",
          "Metales comunes y manufacturas de esos metales/7606",
          "Metales comunes y manufacturas de esos metales/7607",
          "Metales comunes y manufacturas de esos metales/7608",
          "Metales comunes y manufacturas de esos metales/7609",
          "Metales comunes y manufacturas de esos metales/7610",
          "Metales comunes y manufacturas de esos metales/7612",
          "Metales comunes y manufacturas de esos metales/7613",
          "Metales comunes y manufacturas de esos metales/7614",
          "Metales comunes y manufacturas de esos metales/7615",
          "Metales comunes y manufacturas de esos metales/7616",
          "Metales comunes y manufacturas de esos metales/7901",
          "Metales comunes y manufacturas de esos metales/7902",
          "Metales comunes y manufacturas de esos metales/7903",
          "Metales comunes y manufacturas de esos metales/7904",
          "Metales comunes y manufacturas de esos metales/7907",
          "Metales comunes y manufacturas de esos metales/8001",
          "Metales comunes y manufacturas de esos metales/8002",
          "Metales comunes y manufacturas de esos metales/8003",
          "Metales comunes y manufacturas de esos metales/8007",
          "Metales comunes y manufacturas de esos metales/8101",
          "Metales comunes y manufacturas de esos metales/8102",
          "Metales comunes y manufacturas de esos metales/8103",
          "Metales comunes y manufacturas de esos metales/8104",
          "Metales comunes y manufacturas de esos metales/8105",
          "Metales comunes y manufacturas de esos metales/8106",
          "Metales comunes y manufacturas de esos metales/8107",
          "Metales comunes y manufacturas de esos metales/8108",
          "Metales comunes y manufacturas de esos metales/8110",
          "Metales comunes y manufacturas de esos metales/8112",
          "Metales comunes y manufacturas de esos metales/8113",
          "Metales comunes y manufacturas de esos metales/8201",
          "Metales comunes y manufacturas de esos metales/8202",
          "Metales comunes y manufacturas de esos metales/8203",
          "Metales comunes y manufacturas de esos metales/8204",
          "Metales comunes y manufacturas de esos metales/8206",
          "Metales comunes y manufacturas de esos metales/8207",
          "Metales comunes y manufacturas de esos metales/8208",
          "Metales comunes y manufacturas de esos metales/8209",
          "Metales comunes y manufacturas de esos metales/8210",
          "Metales comunes y manufacturas de esos metales/8211",
          "Metales comunes y manufacturas de esos metales/8212",
          "Metales comunes y manufacturas de esos metales/8213",
          "Metales comunes y manufacturas de esos metales/8214",
          "Metales comunes y manufacturas de esos metales/8215",
          "Metales comunes y manufacturas de esos metales/8301",
          "Metales comunes y manufacturas de esos metales/8303",
          "Metales comunes y manufacturas de esos metales/8304",
          "Metales comunes y manufacturas de esos metales/8305",
          "Metales comunes y manufacturas de esos metales/8306",
          "Metales comunes y manufacturas de esos metales/8307",
          "Metales comunes y manufacturas de esos metales/8308",
          "Metales comunes y manufacturas de esos metales/8309",
          "Metales comunes y manufacturas de esos metales/8310",
          "Metales comunes y manufacturas de esos metales/8311",
          "Máquinas y aparatos, material eléctrico y sus partes; aparatos de grabación o reproducción de sonido, aparatos de grabación o reproducción de imagen y sonido en televisión, y las partes y accesorios de estos aparatos/8402",
          "Máquinas y aparatos, material eléctrico y sus partes; aparatos de grabación o reproducción de sonido, aparatos de grabación o reproducción de imagen y sonido en televisión, y las partes y accesorios de estos aparatos/8403",
          "Máquinas y aparatos, material eléctrico y sus partes; aparatos de grabación o reproducción de sonido, aparatos de grabación o reproducción de imagen y sonido en televisión, y las partes y accesorios de estos aparatos/8404",
          "Máquinas y aparatos, material eléctrico y sus partes; aparatos de grabación o reproducción de sonido, aparatos de grabación o reproducción de imagen y sonido en televisión, y las partes y accesorios de estos aparatos/8405",
          "Máquinas y aparatos, material eléctrico y sus partes; aparatos de grabación o reproducción de sonido, aparatos de grabación o reproducción de imagen y sonido en televisión, y las partes y accesorios de estos aparatos/8406",
          "Máquinas y aparatos, material eléctrico y sus partes; aparatos de grabación o reproducción de sonido, aparatos de grabación o reproducción de imagen y sonido en televisión, y las partes y accesorios de estos aparatos/8407",
          "Máquinas y aparatos, material eléctrico y sus partes; aparatos de grabación o reproducción de sonido, aparatos de grabación o reproducción de imagen y sonido en televisión, y las partes y accesorios de estos aparatos/8408",
          "Máquinas y aparatos, material eléctrico y sus partes; aparatos de grabación o reproducción de sonido, aparatos de grabación o reproducción de imagen y sonido en televisión, y las partes y accesorios de estos aparatos/8409",
          "Máquinas y aparatos, material eléctrico y sus partes; aparatos de grabación o reproducción de sonido, aparatos de grabación o reproducción de imagen y sonido en televisión, y las partes y accesorios de estos aparatos/8410",
          "Máquinas y aparatos, material eléctrico y sus partes; aparatos de grabación o reproducción de sonido, aparatos de grabación o reproducción de imagen y sonido en televisión, y las partes y accesorios de estos aparatos/8411",
          "Máquinas y aparatos, material eléctrico y sus partes; aparatos de grabación o reproducción de sonido, aparatos de grabación o reproducción de imagen y sonido en televisión, y las partes y accesorios de estos aparatos/8412",
          "Máquinas y aparatos, material eléctrico y sus partes; aparatos de grabación o reproducción de sonido, aparatos de grabación o reproducción de imagen y sonido en televisión, y las partes y accesorios de estos aparatos/8415",
          "Máquinas y aparatos, material eléctrico y sus partes; aparatos de grabación o reproducción de sonido, aparatos de grabación o reproducción de imagen y sonido en televisión, y las partes y accesorios de estos aparatos/8416",
          "Máquinas y aparatos, material eléctrico y sus partes; aparatos de grabación o reproducción de sonido, aparatos de grabación o reproducción de imagen y sonido en televisión, y las partes y accesorios de estos aparatos/8417",
          "Máquinas y aparatos, material eléctrico y sus partes; aparatos de grabación o reproducción de sonido, aparatos de grabación o reproducción de imagen y sonido en televisión, y las partes y accesorios de estos aparatos/8418",
          "Máquinas y aparatos, material eléctrico y sus partes; aparatos de grabación o reproducción de sonido, aparatos de grabación o reproducción de imagen y sonido en televisión, y las partes y accesorios de estos aparatos/8419",
          "Máquinas y aparatos, material eléctrico y sus partes; aparatos de grabación o reproducción de sonido, aparatos de grabación o reproducción de imagen y sonido en televisión, y las partes y accesorios de estos aparatos/8420",
          "Máquinas y aparatos, material eléctrico y sus partes; aparatos de grabación o reproducción de sonido, aparatos de grabación o reproducción de imagen y sonido en televisión, y las partes y accesorios de estos aparatos/8422",
          "Máquinas y aparatos, material eléctrico y sus partes; aparatos de grabación o reproducción de sonido, aparatos de grabación o reproducción de imagen y sonido en televisión, y las partes y accesorios de estos aparatos/8423",
          "Máquinas y aparatos, material eléctrico y sus partes; aparatos de grabación o reproducción de sonido, aparatos de grabación o reproducción de imagen y sonido en televisión, y las partes y accesorios de estos aparatos/8424",
          "Máquinas y aparatos, material eléctrico y sus partes; aparatos de grabación o reproducción de sonido, aparatos de grabación o reproducción de imagen y sonido en televisión, y las partes y accesorios de estos aparatos/8425",
          "Máquinas y aparatos, material eléctrico y sus partes; aparatos de grabación o reproducción de sonido, aparatos de grabación o reproducción de imagen y sonido en televisión, y las partes y accesorios de estos aparatos/8426",
          "Máquinas y aparatos, material eléctrico y sus partes; aparatos de grabación o reproducción de sonido, aparatos de grabación o reproducción de imagen y sonido en televisión, y las partes y accesorios de estos aparatos/8427",
          "Máquinas y aparatos, material eléctrico y sus partes; aparatos de grabación o reproducción de sonido, aparatos de grabación o reproducción de imagen y sonido en televisión, y las partes y accesorios de estos aparatos/8428",
          "Máquinas y aparatos, material eléctrico y sus partes; aparatos de grabación o reproducción de sonido, aparatos de grabación o reproducción de imagen y sonido en televisión, y las partes y accesorios de estos aparatos/8429",
          "Máquinas y aparatos, material eléctrico y sus partes; aparatos de grabación o reproducción de sonido, aparatos de grabación o reproducción de imagen y sonido en televisión, y las partes y accesorios de estos aparatos/8430",
          "Máquinas y aparatos, material eléctrico y sus partes; aparatos de grabación o reproducción de sonido, aparatos de grabación o reproducción de imagen y sonido en televisión, y las partes y accesorios de estos aparatos/8432",
          "Máquinas y aparatos, material eléctrico y sus partes; aparatos de grabación o reproducción de sonido, aparatos de grabación o reproducción de imagen y sonido en televisión, y las partes y accesorios de estos aparatos/8433",
          "Máquinas y aparatos, material eléctrico y sus partes; aparatos de grabación o reproducción de sonido, aparatos de grabación o reproducción de imagen y sonido en televisión, y las partes y accesorios de estos aparatos/8434",
          "Máquinas y aparatos, material eléctrico y sus partes; aparatos de grabación o reproducción de sonido, aparatos de grabación o reproducción de imagen y sonido en televisión, y las partes y accesorios de estos aparatos/8435",
          "Máquinas y aparatos, material eléctrico y sus partes; aparatos de grabación o reproducción de sonido, aparatos de grabación o reproducción de imagen y sonido en televisión, y las partes y accesorios de estos aparatos/8436",
          "Máquinas y aparatos, material eléctrico y sus partes; aparatos de grabación o reproducción de sonido, aparatos de grabación o reproducción de imagen y sonido en televisión, y las partes y accesorios de estos aparatos/8437",
          "Máquinas y aparatos, material eléctrico y sus partes; aparatos de grabación o reproducción de sonido, aparatos de grabación o reproducción de imagen y sonido en televisión, y las partes y accesorios de estos aparatos/8438",
          "Máquinas y aparatos, material eléctrico y sus partes; aparatos de grabación o reproducción de sonido, aparatos de grabación o reproducción de imagen y sonido en televisión, y las partes y accesorios de estos aparatos/8439",
          "Máquinas y aparatos, material eléctrico y sus partes; aparatos de grabación o reproducción de sonido, aparatos de grabación o reproducción de imagen y sonido en televisión, y las partes y accesorios de estos aparatos/8440",
          "Máquinas y aparatos, material eléctrico y sus partes; aparatos de grabación o reproducción de sonido, aparatos de grabación o reproducción de imagen y sonido en televisión, y las partes y accesorios de estos aparatos/8441",
          "Máquinas y aparatos, material eléctrico y sus partes; aparatos de grabación o reproducción de sonido, aparatos de grabación o reproducción de imagen y sonido en televisión, y las partes y accesorios de estos aparatos/8442",
          "Máquinas y aparatos, material eléctrico y sus partes; aparatos de grabación o reproducción de sonido, aparatos de grabación o reproducción de imagen y sonido en televisión, y las partes y accesorios de estos aparatos/8443",
          "Máquinas y aparatos, material eléctrico y sus partes; aparatos de grabación o reproducción de sonido, aparatos de grabación o reproducción de imagen y sonido en televisión, y las partes y accesorios de estos aparatos/8444",
          "Máquinas y aparatos, material eléctrico y sus partes; aparatos de grabación o reproducción de sonido, aparatos de grabación o reproducción de imagen y sonido en televisión, y las partes y accesorios de estos aparatos/8445",
          "Máquinas y aparatos, material eléctrico y sus partes; aparatos de grabación o reproducción de sonido, aparatos de grabación o reproducción de imagen y sonido en televisión, y las partes y accesorios de estos aparatos/8446",
          "Máquinas y aparatos, material eléctrico y sus partes; aparatos de grabación o reproducción de sonido, aparatos de grabación o reproducción de imagen y sonido en televisión, y las partes y accesorios de estos aparatos/8447",
          "Máquinas y aparatos, material eléctrico y sus partes; aparatos de grabación o reproducción de sonido, aparatos de grabación o reproducción de imagen y sonido en televisión, y las partes y accesorios de estos aparatos/8448",
          "Máquinas y aparatos, material eléctrico y sus partes; aparatos de grabación o reproducción de sonido, aparatos de grabación o reproducción de imagen y sonido en televisión, y las partes y accesorios de estos aparatos/8449",
          "Máquinas y aparatos, material eléctrico y sus partes; aparatos de grabación o reproducción de sonido, aparatos de grabación o reproducción de imagen y sonido en televisión, y las partes y accesorios de estos aparatos/8450",
          "Máquinas y aparatos, material eléctrico y sus partes; aparatos de grabación o reproducción de sonido, aparatos de grabación o reproducción de imagen y sonido en televisión, y las partes y accesorios de estos aparatos/8451",
          "Máquinas y aparatos, material eléctrico y sus partes; aparatos de grabación o reproducción de sonido, aparatos de grabación o reproducción de imagen y sonido en televisión, y las partes y accesorios de estos aparatos/8452",
          "Máquinas y aparatos, material eléctrico y sus partes; aparatos de grabación o reproducción de sonido, aparatos de grabación o reproducción de imagen y sonido en televisión, y las partes y accesorios de estos aparatos/8453",
          "Máquinas y aparatos, material eléctrico y sus partes; aparatos de grabación o reproducción de sonido, aparatos de grabación o reproducción de imagen y sonido en televisión, y las partes y accesorios de estos aparatos/8454",
          "Máquinas y aparatos, material eléctrico y sus partes; aparatos de grabación o reproducción de sonido, aparatos de grabación o reproducción de imagen y sonido en televisión, y las partes y accesorios de estos aparatos/8455",
          "Máquinas y aparatos, material eléctrico y sus partes; aparatos de grabación o reproducción de sonido, aparatos de grabación o reproducción de imagen y sonido en televisión, y las partes y accesorios de estos aparatos/8456",
          "Máquinas y aparatos, material eléctrico y sus partes; aparatos de grabación o reproducción de sonido, aparatos de grabación o reproducción de imagen y sonido en televisión, y las partes y accesorios de estos aparatos/8457",
          "Máquinas y aparatos, material eléctrico y sus partes; aparatos de grabación o reproducción de sonido, aparatos de grabación o reproducción de imagen y sonido en televisión, y las partes y accesorios de estos aparatos/8458",
          "Máquinas y aparatos, material eléctrico y sus partes; aparatos de grabación o reproducción de sonido, aparatos de grabación o reproducción de imagen y sonido en televisión, y las partes y accesorios de estos aparatos/8459",
          "Máquinas y aparatos, material eléctrico y sus partes; aparatos de grabación o reproducción de sonido, aparatos de grabación o reproducción de imagen y sonido en televisión, y las partes y accesorios de estos aparatos/8460",
          "Máquinas y aparatos, material eléctrico y sus partes; aparatos de grabación o reproducción de sonido, aparatos de grabación o reproducción de imagen y sonido en televisión, y las partes y accesorios de estos aparatos/8461",
          "Máquinas y aparatos, material eléctrico y sus partes; aparatos de grabación o reproducción de sonido, aparatos de grabación o reproducción de imagen y sonido en televisión, y las partes y accesorios de estos aparatos/8462",
          "Máquinas y aparatos, material eléctrico y sus partes; aparatos de grabación o reproducción de sonido, aparatos de grabación o reproducción de imagen y sonido en televisión, y las partes y accesorios de estos aparatos/8463",
          "Máquinas y aparatos, material eléctrico y sus partes; aparatos de grabación o reproducción de sonido, aparatos de grabación o reproducción de imagen y sonido en televisión, y las partes y accesorios de estos aparatos/8464",
          "Máquinas y aparatos, material eléctrico y sus partes; aparatos de grabación o reproducción de sonido, aparatos de grabación o reproducción de imagen y sonido en televisión, y las partes y accesorios de estos aparatos/8465",
          "Máquinas y aparatos, material eléctrico y sus partes; aparatos de grabación o reproducción de sonido, aparatos de grabación o reproducción de imagen y sonido en televisión, y las partes y accesorios de estos aparatos/8466",
          "Máquinas y aparatos, material eléctrico y sus partes; aparatos de grabación o reproducción de sonido, aparatos de grabación o reproducción de imagen y sonido en televisión, y las partes y accesorios de estos aparatos/8467",
          "Máquinas y aparatos, material eléctrico y sus partes; aparatos de grabación o reproducción de sonido, aparatos de grabación o reproducción de imagen y sonido en televisión, y las partes y accesorios de estos aparatos/8468",
          "Máquinas y aparatos, material eléctrico y sus partes; aparatos de grabación o reproducción de sonido, aparatos de grabación o reproducción de imagen y sonido en televisión, y las partes y accesorios de estos aparatos/8470",
          "Máquinas y aparatos, material eléctrico y sus partes; aparatos de grabación o reproducción de sonido, aparatos de grabación o reproducción de imagen y sonido en televisión, y las partes y accesorios de estos aparatos/8472",
          "Máquinas y aparatos, material eléctrico y sus partes; aparatos de grabación o reproducción de sonido, aparatos de grabación o reproducción de imagen y sonido en televisión, y las partes y accesorios de estos aparatos/8473",
          "Máquinas y aparatos, material eléctrico y sus partes; aparatos de grabación o reproducción de sonido, aparatos de grabación o reproducción de imagen y sonido en televisión, y las partes y accesorios de estos aparatos/8474",
          "Máquinas y aparatos, material eléctrico y sus partes; aparatos de grabación o reproducción de sonido, aparatos de grabación o reproducción de imagen y sonido en televisión, y las partes y accesorios de estos aparatos/8475",
          "Máquinas y aparatos, material eléctrico y sus partes; aparatos de grabación o reproducción de sonido, aparatos de grabación o reproducción de imagen y sonido en televisión, y las partes y accesorios de estos aparatos/8476",
          "Máquinas y aparatos, material eléctrico y sus partes; aparatos de grabación o reproducción de sonido, aparatos de grabación o reproducción de imagen y sonido en televisión, y las partes y accesorios de estos aparatos/8477",
          "Máquinas y aparatos, material eléctrico y sus partes; aparatos de grabación o reproducción de sonido, aparatos de grabación o reproducción de imagen y sonido en televisión, y las partes y accesorios de estos aparatos/8480",
          "Máquinas y aparatos, material eléctrico y sus partes; aparatos de grabación o reproducción de sonido, aparatos de grabación o reproducción de imagen y sonido en televisión, y las partes y accesorios de estos aparatos/8484",
          "Máquinas y aparatos, material eléctrico y sus partes; aparatos de grabación o reproducción de sonido, aparatos de grabación o reproducción de imagen y sonido en televisión, y las partes y accesorios de estos aparatos/8486",
          "Máquinas y aparatos, material eléctrico y sus partes; aparatos de grabación o reproducción de sonido, aparatos de grabación o reproducción de imagen y sonido en televisión, y las partes y accesorios de estos aparatos/8487",
          "Máquinas y aparatos, material eléctrico y sus partes; aparatos de grabación o reproducción de sonido, aparatos de grabación o reproducción de imagen y sonido en televisión, y las partes y accesorios de estos aparatos/8502",
          "Máquinas y aparatos, material eléctrico y sus partes; aparatos de grabación o reproducción de sonido, aparatos de grabación o reproducción de imagen y sonido en televisión, y las partes y accesorios de estos aparatos/8503",
          "Máquinas y aparatos, material eléctrico y sus partes; aparatos de grabación o reproducción de sonido, aparatos de grabación o reproducción de imagen y sonido en televisión, y las partes y accesorios de estos aparatos/8505",
          "Máquinas y aparatos, material eléctrico y sus partes; aparatos de grabación o reproducción de sonido, aparatos de grabación o reproducción de imagen y sonido en televisión, y las partes y accesorios de estos aparatos/8506",
          "Máquinas y aparatos, material eléctrico y sus partes; aparatos de grabación o reproducción de sonido, aparatos de grabación o reproducción de imagen y sonido en televisión, y las partes y accesorios de estos aparatos/8507",
          "Máquinas y aparatos, material eléctrico y sus partes; aparatos de grabación o reproducción de sonido, aparatos de grabación o reproducción de imagen y sonido en televisión, y las partes y accesorios de estos aparatos/8508",
          "Máquinas y aparatos, material eléctrico y sus partes; aparatos de grabación o reproducción de sonido, aparatos de grabación o reproducción de imagen y sonido en televisión, y las partes y accesorios de estos aparatos/8509",
          "Máquinas y aparatos, material eléctrico y sus partes; aparatos de grabación o reproducción de sonido, aparatos de grabación o reproducción de imagen y sonido en televisión, y las partes y accesorios de estos aparatos/8510",
          "Máquinas y aparatos, material eléctrico y sus partes; aparatos de grabación o reproducción de sonido, aparatos de grabación o reproducción de imagen y sonido en televisión, y las partes y accesorios de estos aparatos/8511",
          "Máquinas y aparatos, material eléctrico y sus partes; aparatos de grabación o reproducción de sonido, aparatos de grabación o reproducción de imagen y sonido en televisión, y las partes y accesorios de estos aparatos/8512",
          "Máquinas y aparatos, material eléctrico y sus partes; aparatos de grabación o reproducción de sonido, aparatos de grabación o reproducción de imagen y sonido en televisión, y las partes y accesorios de estos aparatos/8513",
          "Máquinas y aparatos, material eléctrico y sus partes; aparatos de grabación o reproducción de sonido, aparatos de grabación o reproducción de imagen y sonido en televisión, y las partes y accesorios de estos aparatos/8514",
          "Máquinas y aparatos, material eléctrico y sus partes; aparatos de grabación o reproducción de sonido, aparatos de grabación o reproducción de imagen y sonido en televisión, y las partes y accesorios de estos aparatos/8515",
          "Máquinas y aparatos, material eléctrico y sus partes; aparatos de grabación o reproducción de sonido, aparatos de grabación o reproducción de imagen y sonido en televisión, y las partes y accesorios de estos aparatos/8516",
          "Máquinas y aparatos, material eléctrico y sus partes; aparatos de grabación o reproducción de sonido, aparatos de grabación o reproducción de imagen y sonido en televisión, y las partes y accesorios de estos aparatos/8518",
          "Máquinas y aparatos, material eléctrico y sus partes; aparatos de grabación o reproducción de sonido, aparatos de grabación o reproducción de imagen y sonido en televisión, y las partes y accesorios de estos aparatos/8519",
          "Máquinas y aparatos, material eléctrico y sus partes; aparatos de grabación o reproducción de sonido, aparatos de grabación o reproducción de imagen y sonido en televisión, y las partes y accesorios de estos aparatos/8521",
          "Máquinas y aparatos, material eléctrico y sus partes; aparatos de grabación o reproducción de sonido, aparatos de grabación o reproducción de imagen y sonido en televisión, y las partes y accesorios de estos aparatos/8522",
          "Máquinas y aparatos, material eléctrico y sus partes; aparatos de grabación o reproducción de sonido, aparatos de grabación o reproducción de imagen y sonido en televisión, y las partes y accesorios de estos aparatos/8525",
          "Máquinas y aparatos, material eléctrico y sus partes; aparatos de grabación o reproducción de sonido, aparatos de grabación o reproducción de imagen y sonido en televisión, y las partes y accesorios de estos aparatos/8526",
          "Máquinas y aparatos, material eléctrico y sus partes; aparatos de grabación o reproducción de sonido, aparatos de grabación o reproducción de imagen y sonido en televisión, y las partes y accesorios de estos aparatos/8527",
          "Máquinas y aparatos, material eléctrico y sus partes; aparatos de grabación o reproducción de sonido, aparatos de grabación o reproducción de imagen y sonido en televisión, y las partes y accesorios de estos aparatos/8528",
          "Máquinas y aparatos, material eléctrico y sus partes; aparatos de grabación o reproducción de sonido, aparatos de grabación o reproducción de imagen y sonido en televisión, y las partes y accesorios de estos aparatos/8529",
          "Máquinas y aparatos, material eléctrico y sus partes; aparatos de grabación o reproducción de sonido, aparatos de grabación o reproducción de imagen y sonido en televisión, y las partes y accesorios de estos aparatos/8530",
          "Máquinas y aparatos, material eléctrico y sus partes; aparatos de grabación o reproducción de sonido, aparatos de grabación o reproducción de imagen y sonido en televisión, y las partes y accesorios de estos aparatos/8531",
          "Máquinas y aparatos, material eléctrico y sus partes; aparatos de grabación o reproducción de sonido, aparatos de grabación o reproducción de imagen y sonido en televisión, y las partes y accesorios de estos aparatos/8532",
          "Máquinas y aparatos, material eléctrico y sus partes; aparatos de grabación o reproducción de sonido, aparatos de grabación o reproducción de imagen y sonido en televisión, y las partes y accesorios de estos aparatos/8534",
          "Máquinas y aparatos, material eléctrico y sus partes; aparatos de grabación o reproducción de sonido, aparatos de grabación o reproducción de imagen y sonido en televisión, y las partes y accesorios de estos aparatos/8535",
          "Máquinas y aparatos, material eléctrico y sus partes; aparatos de grabación o reproducción de sonido, aparatos de grabación o reproducción de imagen y sonido en televisión, y las partes y accesorios de estos aparatos/8539",
          "Máquinas y aparatos, material eléctrico y sus partes; aparatos de grabación o reproducción de sonido, aparatos de grabación o reproducción de imagen y sonido en televisión, y las partes y accesorios de estos aparatos/8540",
          "Máquinas y aparatos, material eléctrico y sus partes; aparatos de grabación o reproducción de sonido, aparatos de grabación o reproducción de imagen y sonido en televisión, y las partes y accesorios de estos aparatos/8545",
          "Máquinas y aparatos, material eléctrico y sus partes; aparatos de grabación o reproducción de sonido, aparatos de grabación o reproducción de imagen y sonido en televisión, y las partes y accesorios de estos aparatos/8546",
          "Máquinas y aparatos, material eléctrico y sus partes; aparatos de grabación o reproducción de sonido, aparatos de grabación o reproducción de imagen y sonido en televisión, y las partes y accesorios de estos aparatos/8547",
          "Máquinas y aparatos, material eléctrico y sus partes; aparatos de grabación o reproducción de sonido, aparatos de grabación o reproducción de imagen y sonido en televisión, y las partes y accesorios de estos aparatos/8548",
          "Material de transporte/8606",
          "Material de transporte/8607",
          "Material de transporte/8608",
          "Material de transporte/8609",
          "Material de transporte/8701",
          "Material de transporte/8702",
          "Material de transporte/8703",
          "Material de transporte/8704",
          "Material de transporte/8705",
          "Material de transporte/8706",
          "Material de transporte/8707",
          "Material de transporte/8709",
          "Material de transporte/8711",
          "Material de transporte/8713",
          "Material de transporte/8714",
          "Material de transporte/8715",
          "Material de transporte/8716",
          "Material de transporte/8802",
          "Material de transporte/8803",
          "Material de transporte/8805",
          "Material de transporte/8903",
          "Material de transporte/8905",
          "Material de transporte/8907",
          "Instrumentos y aparatos de óptica, fotografía o cinematografía, de medida, control o precisión; instrumentos y aparatos médicoquirúrgicos; aparatos de relojería; instrumentos musicales; partes y accesorios de estos instrumentos o aparatos/9001",
          "Instrumentos y aparatos de óptica, fotografía o cinematografía, de medida, control o precisión; instrumentos y aparatos médicoquirúrgicos; aparatos de relojería; instrumentos musicales; partes y accesorios de estos instrumentos o aparatos/9002",
          "Instrumentos y aparatos de óptica, fotografía o cinematografía, de medida, control o precisión; instrumentos y aparatos médicoquirúrgicos; aparatos de relojería; instrumentos musicales; partes y accesorios de estos instrumentos o aparatos/9003",
          "Instrumentos y aparatos de óptica, fotografía o cinematografía, de medida, control o precisión; instrumentos y aparatos médicoquirúrgicos; aparatos de relojería; instrumentos musicales; partes y accesorios de estos instrumentos o aparatos/9004",
          "Instrumentos y aparatos de óptica, fotografía o cinematografía, de medida, control o precisión; instrumentos y aparatos médicoquirúrgicos; aparatos de relojería; instrumentos musicales; partes y accesorios de estos instrumentos o aparatos/9005",
          "Instrumentos y aparatos de óptica, fotografía o cinematografía, de medida, control o precisión; instrumentos y aparatos médicoquirúrgicos; aparatos de relojería; instrumentos musicales; partes y accesorios de estos instrumentos o aparatos/9006",
          "Instrumentos y aparatos de óptica, fotografía o cinematografía, de medida, control o precisión; instrumentos y aparatos médicoquirúrgicos; aparatos de relojería; instrumentos musicales; partes y accesorios de estos instrumentos o aparatos/9007",
          "Instrumentos y aparatos de óptica, fotografía o cinematografía, de medida, control o precisión; instrumentos y aparatos médicoquirúrgicos; aparatos de relojería; instrumentos musicales; partes y accesorios de estos instrumentos o aparatos/9008",
          "Instrumentos y aparatos de óptica, fotografía o cinematografía, de medida, control o precisión; instrumentos y aparatos médicoquirúrgicos; aparatos de relojería; instrumentos musicales; partes y accesorios de estos instrumentos o aparatos/9010",
          "Instrumentos y aparatos de óptica, fotografía o cinematografía, de medida, control o precisión; instrumentos y aparatos médicoquirúrgicos; aparatos de relojería; instrumentos musicales; partes y accesorios de estos instrumentos o aparatos/9011",
          "Instrumentos y aparatos de óptica, fotografía o cinematografía, de medida, control o precisión; instrumentos y aparatos médicoquirúrgicos; aparatos de relojería; instrumentos musicales; partes y accesorios de estos instrumentos o aparatos/9012",
          "Instrumentos y aparatos de óptica, fotografía o cinematografía, de medida, control o precisión; instrumentos y aparatos médicoquirúrgicos; aparatos de relojería; instrumentos musicales; partes y accesorios de estos instrumentos o aparatos/9013",
          "Instrumentos y aparatos de óptica, fotografía o cinematografía, de medida, control o precisión; instrumentos y aparatos médicoquirúrgicos; aparatos de relojería; instrumentos musicales; partes y accesorios de estos instrumentos o aparatos/9014",
          "Instrumentos y aparatos de óptica, fotografía o cinematografía, de medida, control o precisión; instrumentos y aparatos médicoquirúrgicos; aparatos de relojería; instrumentos musicales; partes y accesorios de estos instrumentos o aparatos/9015",
          "Instrumentos y aparatos de óptica, fotografía o cinematografía, de medida, control o precisión; instrumentos y aparatos médicoquirúrgicos; aparatos de relojería; instrumentos musicales; partes y accesorios de estos instrumentos o aparatos/9016",
          "Instrumentos y aparatos de óptica, fotografía o cinematografía, de medida, control o precisión; instrumentos y aparatos médicoquirúrgicos; aparatos de relojería; instrumentos musicales; partes y accesorios de estos instrumentos o aparatos/9017",
          "Instrumentos y aparatos de óptica, fotografía o cinematografía, de medida, control o precisión; instrumentos y aparatos médicoquirúrgicos; aparatos de relojería; instrumentos musicales; partes y accesorios de estos instrumentos o aparatos/9018",
          "Instrumentos y aparatos de óptica, fotografía o cinematografía, de medida, control o precisión; instrumentos y aparatos médicoquirúrgicos; aparatos de relojería; instrumentos musicales; partes y accesorios de estos instrumentos o aparatos/9019",
          "Instrumentos y aparatos de óptica, fotografía o cinematografía, de medida, control o precisión; instrumentos y aparatos médicoquirúrgicos; aparatos de relojería; instrumentos musicales; partes y accesorios de estos instrumentos o aparatos/9020",
          "Instrumentos y aparatos de óptica, fotografía o cinematografía, de medida, control o precisión; instrumentos y aparatos médicoquirúrgicos; aparatos de relojería; instrumentos musicales; partes y accesorios de estos instrumentos o aparatos/9021",
          "Instrumentos y aparatos de óptica, fotografía o cinematografía, de medida, control o precisión; instrumentos y aparatos médicoquirúrgicos; aparatos de relojería; instrumentos musicales; partes y accesorios de estos instrumentos o aparatos/9022",
          "Instrumentos y aparatos de óptica, fotografía o cinematografía, de medida, control o precisión; instrumentos y aparatos médicoquirúrgicos; aparatos de relojería; instrumentos musicales; partes y accesorios de estos instrumentos o aparatos/9023",
          "Instrumentos y aparatos de óptica, fotografía o cinematografía, de medida, control o precisión; instrumentos y aparatos médicoquirúrgicos; aparatos de relojería; instrumentos musicales; partes y accesorios de estos instrumentos o aparatos/9024",
          "Instrumentos y aparatos de óptica, fotografía o cinematografía, de medida, control o precisión; instrumentos y aparatos médicoquirúrgicos; aparatos de relojería; instrumentos musicales; partes y accesorios de estos instrumentos o aparatos/9025",
          "Instrumentos y aparatos de óptica, fotografía o cinematografía, de medida, control o precisión; instrumentos y aparatos médicoquirúrgicos; aparatos de relojería; instrumentos musicales; partes y accesorios de estos instrumentos o aparatos/9027",
          "Instrumentos y aparatos de óptica, fotografía o cinematografía, de medida, control o precisión; instrumentos y aparatos médicoquirúrgicos; aparatos de relojería; instrumentos musicales; partes y accesorios de estos instrumentos o aparatos/9028",
          "Instrumentos y aparatos de óptica, fotografía o cinematografía, de medida, control o precisión; instrumentos y aparatos médicoquirúrgicos; aparatos de relojería; instrumentos musicales; partes y accesorios de estos instrumentos o aparatos/9029",
          "Instrumentos y aparatos de óptica, fotografía o cinematografía, de medida, control o precisión; instrumentos y aparatos médicoquirúrgicos; aparatos de relojería; instrumentos musicales; partes y accesorios de estos instrumentos o aparatos/9030",
          "Instrumentos y aparatos de óptica, fotografía o cinematografía, de medida, control o precisión; instrumentos y aparatos médicoquirúrgicos; aparatos de relojería; instrumentos musicales; partes y accesorios de estos instrumentos o aparatos/9033",
          "Instrumentos y aparatos de óptica, fotografía o cinematografía, de medida, control o precisión; instrumentos y aparatos médicoquirúrgicos; aparatos de relojería; instrumentos musicales; partes y accesorios de estos instrumentos o aparatos/9101",
          "Instrumentos y aparatos de óptica, fotografía o cinematografía, de medida, control o precisión; instrumentos y aparatos médicoquirúrgicos; aparatos de relojería; instrumentos musicales; partes y accesorios de estos instrumentos o aparatos/9102",
          "Instrumentos y aparatos de óptica, fotografía o cinematografía, de medida, control o precisión; instrumentos y aparatos médicoquirúrgicos; aparatos de relojería; instrumentos musicales; partes y accesorios de estos instrumentos o aparatos/9104",
          "Instrumentos y aparatos de óptica, fotografía o cinematografía, de medida, control o precisión; instrumentos y aparatos médicoquirúrgicos; aparatos de relojería; instrumentos musicales; partes y accesorios de estos instrumentos o aparatos/9105",
          "Instrumentos y aparatos de óptica, fotografía o cinematografía, de medida, control o precisión; instrumentos y aparatos médicoquirúrgicos; aparatos de relojería; instrumentos musicales; partes y accesorios de estos instrumentos o aparatos/9106",
          "Instrumentos y aparatos de óptica, fotografía o cinematografía, de medida, control o precisión; instrumentos y aparatos médicoquirúrgicos; aparatos de relojería; instrumentos musicales; partes y accesorios de estos instrumentos o aparatos/9107",
          "Instrumentos y aparatos de óptica, fotografía o cinematografía, de medida, control o precisión; instrumentos y aparatos médicoquirúrgicos; aparatos de relojería; instrumentos musicales; partes y accesorios de estos instrumentos o aparatos/9111",
          "Instrumentos y aparatos de óptica, fotografía o cinematografía, de medida, control o precisión; instrumentos y aparatos médicoquirúrgicos; aparatos de relojería; instrumentos musicales; partes y accesorios de estos instrumentos o aparatos/9113",
          "Instrumentos y aparatos de óptica, fotografía o cinematografía, de medida, control o precisión; instrumentos y aparatos médicoquirúrgicos; aparatos de relojería; instrumentos musicales; partes y accesorios de estos instrumentos o aparatos/9114",
          "Instrumentos y aparatos de óptica, fotografía o cinematografía, de medida, control o precisión; instrumentos y aparatos médicoquirúrgicos; aparatos de relojería; instrumentos musicales; partes y accesorios de estos instrumentos o aparatos/9202",
          "Instrumentos y aparatos de óptica, fotografía o cinematografía, de medida, control o precisión; instrumentos y aparatos médicoquirúrgicos; aparatos de relojería; instrumentos musicales; partes y accesorios de estos instrumentos o aparatos/9205",
          "Instrumentos y aparatos de óptica, fotografía o cinematografía, de medida, control o precisión; instrumentos y aparatos médicoquirúrgicos; aparatos de relojería; instrumentos musicales; partes y accesorios de estos instrumentos o aparatos/9206",
          "Instrumentos y aparatos de óptica, fotografía o cinematografía, de medida, control o precisión; instrumentos y aparatos médicoquirúrgicos; aparatos de relojería; instrumentos musicales; partes y accesorios de estos instrumentos o aparatos/9207",
          "Instrumentos y aparatos de óptica, fotografía o cinematografía, de medida, control o precisión; instrumentos y aparatos médicoquirúrgicos; aparatos de relojería; instrumentos musicales; partes y accesorios de estos instrumentos o aparatos/9208",
          "Instrumentos y aparatos de óptica, fotografía o cinematografía, de medida, control o precisión; instrumentos y aparatos médicoquirúrgicos; aparatos de relojería; instrumentos musicales; partes y accesorios de estos instrumentos o aparatos/9209",
          "Armas, municiones, y sus partes y accesorios/9306",
          "Mercancías y productos diversos/9401",
          "Mercancías y productos diversos/9402",
          "Mercancías y productos diversos/9404",
          "Mercancías y productos diversos/9405",
          "Mercancías y productos diversos/9406",
          "Mercancías y productos diversos/9503",
          "Mercancías y productos diversos/9504",
          "Mercancías y productos diversos/9505",
          "Mercancías y productos diversos/9506",
          "Mercancías y productos diversos/9507",
          "Mercancías y productos diversos/9508",
          "Mercancías y productos diversos/9601",
          "Mercancías y productos diversos/9602",
          "Mercancías y productos diversos/9603",
          "Mercancías y productos diversos/9604",
          "Mercancías y productos diversos/9605",
          "Mercancías y productos diversos/9606",
          "Mercancías y productos diversos/9607",
          "Mercancías y productos diversos/9608",
          "Mercancías y productos diversos/9609",
          "Mercancías y productos diversos/9610",
          "Mercancías y productos diversos/9611",
          "Mercancías y productos diversos/9612",
          "Mercancías y productos diversos/9613",
          "Mercancías y productos diversos/9614",
          "Mercancías y productos diversos/9615",
          "Mercancías y productos diversos/9616",
          "Mercancías y productos diversos/9617",
          "Mercancías y productos diversos/9618",
          "Mercancías y productos diversos/9619",
          "Objetos de arte o colección y antigüedades/9701",
          "Objetos de arte o colección y antigüedades/9702",
          "Objetos de arte o colección y antigüedades/9703",
          "Objetos de arte o colección y antigüedades/9705",
          "Animales vivos y productos del reino animal",
          "Armas, municiones, y sus partes y accesorios",
          "Calzado, sombreros y demás tocados, paraguas, quitasoles, bastones, látigos, fustas y sus partes; plumas preparadas y artículos de plumas; flores artificiales; manufacturas de cabello",
          "Grasas y aceites animales o vegetales; productos de su desdoblamiento; grasas alimenticias elaboradas; ceras de origen animal o vegetal",
          "Instrumentos y aparatos de óptica, fotografía o cinematografía, de medida, control o precisión; instrumentos y aparatos médicoquirúrgicos; aparatos de relojería; instrumentos musicales; partes y accesorios de estos instrumentos o aparatos",
          "Madera, carbón vegetal y manufacturas de madera; corcho y sus manufacturas; manufacturas de espartería o cestería",
          "Manufacturas de piedra, yeso fraguable, cemento, amianto (asbesto), mica o materias análogas; productos cerámicos; vidrio y manufacturas de vidrio",
          "Material de transporte",
          "Materias textiles y sus manufacturas",
          "Mercancías y productos diversos",
          "Metales comunes y manufacturas de esos metales",
          "Máquinas y aparatos, material eléctrico y sus partes; aparatos de grabación o reproducción de sonido, aparatos de grabación o reproducción de imagen y sonido en televisión, y las partes y accesorios de estos aparatos",
          "Objetos de arte o colección y antigüedades",
          "Pasta de madera o de las demás materias fibrosas celulósicas; papel o cartón para reciclar (desperdicios y desechos); papel o cartón y sus aplicaciones",
          "Perlas finas (naturales) o cultivadas, piedras preciosas o semipreciosas, metales preciosos, chapados de metal precioso (plaqué) y manufacturas de estas materias; bisutería; monedas",
          "Pieles, cueros, peletería y manufacturas de estas materias; artículos de talabartería o guarnicionería; artículos de viaje, bolsos de mano (carteras) y continentes similares; manufacturas de tripa",
          "Plástico y sus manufacturas; caucho y sus manufacturas",
          "Productos de las industrias alimentarias; bebidas, líquidos alcohólicos y vinagre; tabaco y sucedáneos del tabaco elaborados",
          "Productos de las industrias químicas o de las industrias conexas",
          "Productos del reino vegetal",
          "Productos minerales"
         ],
         "labels": [
          "0101",
          "0102",
          "0106",
          "0201",
          "0202",
          "0203",
          "0204",
          "0205",
          "0206",
          "0209",
          "0210",
          "0301",
          "0302",
          "0303",
          "0304",
          "0305",
          "0306",
          "0307",
          "0308",
          "0401",
          "0402",
          "0403",
          "0404",
          "0405",
          "0406",
          "0409",
          "0504",
          "0506",
          "0508",
          "0511",
          "0601",
          "0602",
          "0603",
          "0604",
          "0701",
          "0702",
          "0703",
          "0704",
          "0705",
          "0706",
          "0707",
          "0708",
          "0709",
          "0710",
          "0711",
          "0712",
          "0713",
          "0714",
          "0801",
          "0802",
          "0803",
          "0804",
          "0805",
          "0806",
          "0807",
          "0808",
          "0809",
          "0810",
          "0811",
          "0812",
          "0813",
          "0814",
          "0901",
          "0902",
          "0904",
          "0905",
          "0906",
          "0907",
          "0908",
          "0909",
          "0910",
          "1001",
          "1003",
          "1004",
          "1005",
          "1006",
          "1007",
          "1008",
          "1101",
          "1102",
          "1103",
          "1104",
          "1105",
          "1106",
          "1107",
          "1108",
          "1201",
          "1202",
          "1204",
          "1206",
          "1207",
          "1208",
          "1209",
          "1211",
          "1212",
          "1214",
          "1301",
          "1302",
          "1401",
          "1404",
          "1501",
          "1504",
          "1505",
          "1507",
          "1509",
          "1511",
          "1512",
          "1513",
          "1514",
          "1515",
          "1516",
          "1517",
          "1518",
          "1521",
          "1601",
          "1602",
          "1604",
          "1605",
          "1701",
          "1702",
          "1703",
          "1704",
          "1801",
          "1803",
          "1804",
          "1805",
          "1806",
          "1901",
          "1904",
          "1905",
          "2001",
          "2002",
          "2003",
          "2004",
          "2005",
          "2006",
          "2007",
          "2008",
          "2009",
          "2101",
          "2102",
          "2103",
          "2104",
          "2105",
          "2106",
          "2201",
          "2202",
          "2203",
          "2204",
          "2206",
          "2207",
          "2208",
          "2301",
          "2302",
          "2308",
          "2309",
          "2401",
          "2402",
          "2501",
          "2504",
          "2505",
          "2506",
          "2507",
          "2508",
          "2510",
          "2511",
          "2512",
          "2513",
          "2515",
          "2516",
          "2517",
          "2519",
          "2520",
          "2522",
          "2523",
          "2526",
          "2529",
          "2530",
          "2601",
          "2603",
          "2607",
          "2608",
          "2614",
          "2615",
          "2616",
          "2618",
          "2619",
          "2620",
          "2621",
          "2701",
          "2707",
          "2709",
          "2710",
          "2711",
          "2712",
          "2713",
          "2715",
          "2716",
          "2801",
          "2803",
          "2804",
          "2805",
          "2806",
          "2807",
          "2808",
          "2809",
          "2810",
          "2811",
          "2814",
          "2815",
          "2816",
          "2817",
          "2818",
          "2819",
          "2820",
          "2821",
          "2823",
          "2825",
          "2826",
          "2827",
          "2828",
          "2829",
          "2830",
          "2832",
          "2833",
          "2834",
          "2835",
          "2836",
          "2837",
          "2839",
          "2840",
          "2841",
          "2842",
          "2843",
          "2844",
          "2846",
          "2847",
          "2849",
          "2853",
          "2901",
          "2902",
          "2903",
          "2904",
          "2905",
          "2906",
          "2907",
          "2908",
          "2909",
          "2911",
          "2912",
          "2914",
          "2915",
          "2916",
          "2917",
          "2918",
          "2919",
          "2920",
          "2921",
          "2922",
          "2923",
          "2924",
          "2925",
          "2926",
          "2927",
          "2928",
          "2929",
          "2930",
          "2931",
          "2932",
          "2933",
          "2934",
          "2935",
          "2936",
          "2937",
          "2938",
          "2939",
          "2940",
          "2941",
          "3001",
          "3002",
          "3003",
          "3004",
          "3005",
          "3006",
          "3101",
          "3102",
          "3103",
          "3104",
          "3105",
          "3201",
          "3202",
          "3203",
          "3204",
          "3205",
          "3206",
          "3207",
          "3208",
          "3209",
          "3210",
          "3211",
          "3212",
          "3213",
          "3214",
          "3215",
          "3301",
          "3302",
          "3303",
          "3304",
          "3305",
          "3306",
          "3307",
          "3401",
          "3402",
          "3403",
          "3404",
          "3405",
          "3406",
          "3407",
          "3503",
          "3504",
          "3505",
          "3506",
          "3507",
          "3602",
          "3603",
          "3604",
          "3605",
          "3606",
          "3701",
          "3702",
          "3703",
          "3705",
          "3707",
          "3801",
          "3802",
          "3804",
          "3805",
          "3806",
          "3808",
          "3809",
          "3810",
          "3811",
          "3812",
          "3813",
          "3814",
          "3815",
          "3816",
          "3819",
          "3820",
          "3821",
          "3822",
          "3823",
          "3824",
          "3825",
          "3901",
          "3902",
          "3903",
          "3904",
          "3905",
          "3906",
          "3907",
          "3908",
          "3909",
          "3910",
          "3911",
          "3912",
          "3913",
          "3914",
          "3915",
          "3916",
          "3918",
          "3920",
          "3921",
          "3922",
          "3924",
          "3925",
          "4001",
          "4002",
          "4004",
          "4005",
          "4006",
          "4008",
          "4009",
          "4010",
          "4011",
          "4012",
          "4013",
          "4014",
          "4015",
          "4017",
          "4101",
          "4104",
          "4105",
          "4106",
          "4107",
          "4113",
          "4114",
          "4115",
          "4201",
          "4202",
          "4203",
          "4205",
          "4302",
          "4303",
          "4304",
          "4401",
          "4402",
          "4403",
          "4404",
          "4407",
          "4408",
          "4409",
          "4410",
          "4411",
          "4412",
          "4414",
          "4415",
          "4416",
          "4417",
          "4418",
          "4419",
          "4420",
          "4421",
          "4503",
          "4504",
          "4601",
          "4602",
          "4707",
          "4801",
          "4802",
          "4803",
          "4804",
          "4805",
          "4806",
          "4807",
          "4808",
          "4809",
          "4810",
          "4811",
          "4812",
          "4813",
          "4814",
          "4816",
          "4817",
          "4818",
          "4819",
          "4820",
          "4821",
          "4822",
          "4823",
          "4902",
          "4903",
          "4908",
          "4909",
          "4910",
          "4911",
          "5105",
          "5111",
          "5112",
          "5201",
          "5202",
          "5203",
          "5204",
          "5205",
          "5206",
          "5207",
          "5208",
          "5209",
          "5210",
          "5211",
          "5212",
          "5303",
          "5305",
          "5309",
          "5311",
          "5401",
          "5402",
          "5403",
          "5404",
          "5406",
          "5407",
          "5408",
          "5501",
          "5503",
          "5505",
          "5506",
          "5508",
          "5509",
          "5511",
          "5512",
          "5513",
          "5514",
          "5515",
          "5516",
          "5601",
          "5602",
          "5603",
          "5604",
          "5605",
          "5606",
          "5607",
          "5608",
          "5609",
          "5701",
          "5702",
          "5703",
          "5704",
          "5705",
          "5801",
          "5804",
          "5806",
          "5807",
          "5808",
          "5810",
          "5811",
          "5901",
          "5902",
          "5903",
          "5906",
          "5907",
          "5908",
          "5909",
          "5910",
          "5911",
          "6001",
          "6002",
          "6003",
          "6004",
          "6005",
          "6006",
          "6101",
          "6102",
          "6103",
          "6104",
          "6105",
          "6106",
          "6107",
          "6108",
          "6109",
          "6110",
          "6111",
          "6112",
          "6113",
          "6114",
          "6115",
          "6116",
          "6117",
          "6201",
          "6202",
          "6203",
          "6204",
          "6205",
          "6206",
          "6207",
          "6208",
          "6209",
          "6210",
          "6211",
          "6212",
          "6213",
          "6214",
          "6215",
          "6216",
          "6217",
          "6301",
          "6302",
          "6303",
          "6304",
          "6305",
          "6306",
          "6307",
          "6308",
          "6310",
          "6401",
          "6402",
          "6403",
          "6404",
          "6405",
          "6406",
          "6504",
          "6505",
          "6506",
          "6507",
          "6601",
          "6602",
          "6603",
          "6702",
          "6704",
          "6801",
          "6802",
          "6803",
          "6804",
          "6805",
          "6806",
          "6807",
          "6808",
          "6809",
          "6810",
          "6811",
          "6812",
          "6813",
          "6814",
          "6815",
          "6901",
          "6902",
          "6903",
          "6904",
          "6905",
          "6906",
          "6907",
          "6909",
          "6910",
          "6911",
          "6912",
          "6913",
          "6914",
          "7001",
          "7002",
          "7003",
          "7004",
          "7005",
          "7006",
          "7007",
          "7008",
          "7009",
          "7010",
          "7011",
          "7013",
          "7014",
          "7015",
          "7016",
          "7017",
          "7018",
          "7019",
          "7020",
          "7102",
          "7103",
          "7104",
          "7106",
          "7107",
          "7108",
          "7112",
          "7113",
          "7114",
          "7115",
          "7116",
          "7117",
          "7118",
          "7202",
          "7204",
          "7205",
          "7206",
          "7207",
          "7208",
          "7209",
          "7210",
          "7211",
          "7212",
          "7213",
          "7214",
          "7215",
          "7216",
          "7217",
          "7218",
          "7219",
          "7220",
          "7222",
          "7223",
          "7224",
          "7225",
          "7226",
          "7227",
          "7228",
          "7229",
          "7301",
          "7302",
          "7303",
          "7304",
          "7305",
          "7306",
          "7308",
          "7309",
          "7310",
          "7311",
          "7312",
          "7313",
          "7314",
          "7315",
          "7316",
          "7317",
          "7319",
          "7320",
          "7321",
          "7322",
          "7323",
          "7324",
          "7325",
          "7401",
          "7403",
          "7404",
          "7407",
          "7408",
          "7409",
          "7410",
          "7411",
          "7412",
          "7413",
          "7415",
          "7418",
          "7419",
          "7503",
          "7504",
          "7505",
          "7507",
          "7508",
          "7601",
          "7602",
          "7604",
          "7605",
          "7606",
          "7607",
          "7608",
          "7609",
          "7610",
          "7612",
          "7613",
          "7614",
          "7615",
          "7616",
          "7901",
          "7902",
          "7903",
          "7904",
          "7907",
          "8001",
          "8002",
          "8003",
          "8007",
          "8101",
          "8102",
          "8103",
          "8104",
          "8105",
          "8106",
          "8107",
          "8108",
          "8110",
          "8112",
          "8113",
          "8201",
          "8202",
          "8203",
          "8204",
          "8206",
          "8207",
          "8208",
          "8209",
          "8210",
          "8211",
          "8212",
          "8213",
          "8214",
          "8215",
          "8301",
          "8303",
          "8304",
          "8305",
          "8306",
          "8307",
          "8308",
          "8309",
          "8310",
          "8311",
          "8402",
          "8403",
          "8404",
          "8405",
          "8406",
          "8407",
          "8408",
          "8409",
          "8410",
          "8411",
          "8412",
          "8415",
          "8416",
          "8417",
          "8418",
          "8419",
          "8420",
          "8422",
          "8423",
          "8424",
          "8425",
          "8426",
          "8427",
          "8428",
          "8429",
          "8430",
          "8432",
          "8433",
          "8434",
          "8435",
          "8436",
          "8437",
          "8438",
          "8439",
          "8440",
          "8441",
          "8442",
          "8443",
          "8444",
          "8445",
          "8446",
          "8447",
          "8448",
          "8449",
          "8450",
          "8451",
          "8452",
          "8453",
          "8454",
          "8455",
          "8456",
          "8457",
          "8458",
          "8459",
          "8460",
          "8461",
          "8462",
          "8463",
          "8464",
          "8465",
          "8466",
          "8467",
          "8468",
          "8470",
          "8472",
          "8473",
          "8474",
          "8475",
          "8476",
          "8477",
          "8480",
          "8484",
          "8486",
          "8487",
          "8502",
          "8503",
          "8505",
          "8506",
          "8507",
          "8508",
          "8509",
          "8510",
          "8511",
          "8512",
          "8513",
          "8514",
          "8515",
          "8516",
          "8518",
          "8519",
          "8521",
          "8522",
          "8525",
          "8526",
          "8527",
          "8528",
          "8529",
          "8530",
          "8531",
          "8532",
          "8534",
          "8535",
          "8539",
          "8540",
          "8545",
          "8546",
          "8547",
          "8548",
          "8606",
          "8607",
          "8608",
          "8609",
          "8701",
          "8702",
          "8703",
          "8704",
          "8705",
          "8706",
          "8707",
          "8709",
          "8711",
          "8713",
          "8714",
          "8715",
          "8716",
          "8802",
          "8803",
          "8805",
          "8903",
          "8905",
          "8907",
          "9001",
          "9002",
          "9003",
          "9004",
          "9005",
          "9006",
          "9007",
          "9008",
          "9010",
          "9011",
          "9012",
          "9013",
          "9014",
          "9015",
          "9016",
          "9017",
          "9018",
          "9019",
          "9020",
          "9021",
          "9022",
          "9023",
          "9024",
          "9025",
          "9027",
          "9028",
          "9029",
          "9030",
          "9033",
          "9101",
          "9102",
          "9104",
          "9105",
          "9106",
          "9107",
          "9111",
          "9113",
          "9114",
          "9202",
          "9205",
          "9206",
          "9207",
          "9208",
          "9209",
          "9306",
          "9401",
          "9402",
          "9404",
          "9405",
          "9406",
          "9503",
          "9504",
          "9505",
          "9506",
          "9507",
          "9508",
          "9601",
          "9602",
          "9603",
          "9604",
          "9605",
          "9606",
          "9607",
          "9608",
          "9609",
          "9610",
          "9611",
          "9612",
          "9613",
          "9614",
          "9615",
          "9616",
          "9617",
          "9618",
          "9619",
          "9701",
          "9702",
          "9703",
          "9705",
          "Animales vivos y productos del reino animal",
          "Armas, municiones, y sus partes y accesorios",
          "Calzado, sombreros y demás tocados, paraguas, quitasoles, bastones, látigos, fustas y sus partes; plumas preparadas y artículos de plumas; flores artificiales; manufacturas de cabello",
          "Grasas y aceites animales o vegetales; productos de su desdoblamiento; grasas alimenticias elaboradas; ceras de origen animal o vegetal",
          "Instrumentos y aparatos de óptica, fotografía o cinematografía, de medida, control o precisión; instrumentos y aparatos médicoquirúrgicos; aparatos de relojería; instrumentos musicales; partes y accesorios de estos instrumentos o aparatos",
          "Madera, carbón vegetal y manufacturas de madera; corcho y sus manufacturas; manufacturas de espartería o cestería",
          "Manufacturas de piedra, yeso fraguable, cemento, amianto (asbesto), mica o materias análogas; productos cerámicos; vidrio y manufacturas de vidrio",
          "Material de transporte",
          "Materias textiles y sus manufacturas",
          "Mercancías y productos diversos",
          "Metales comunes y manufacturas de esos metales",
          "Máquinas y aparatos, material eléctrico y sus partes; aparatos de grabación o reproducción de sonido, aparatos de grabación o reproducción de imagen y sonido en televisión, y las partes y accesorios de estos aparatos",
          "Objetos de arte o colección y antigüedades",
          "Pasta de madera o de las demás materias fibrosas celulósicas; papel o cartón para reciclar (desperdicios y desechos); papel o cartón y sus aplicaciones",
          "Perlas finas (naturales) o cultivadas, piedras preciosas o semipreciosas, metales preciosos, chapados de metal precioso (plaqué) y manufacturas de estas materias; bisutería; monedas",
          "Pieles, cueros, peletería y manufacturas de estas materias; artículos de talabartería o guarnicionería; artículos de viaje, bolsos de mano (carteras) y continentes similares; manufacturas de tripa",
          "Plástico y sus manufacturas; caucho y sus manufacturas",
          "Productos de las industrias alimentarias; bebidas, líquidos alcohólicos y vinagre; tabaco y sucedáneos del tabaco elaborados",
          "Productos de las industrias químicas o de las industrias conexas",
          "Productos del reino vegetal",
          "Productos minerales"
         ],
         "name": "",
         "parents": [
          "Animales vivos y productos del reino animal",
          "Animales vivos y productos del reino animal",
          "Animales vivos y productos del reino animal",
          "Animales vivos y productos del reino animal",
          "Animales vivos y productos del reino animal",
          "Animales vivos y productos del reino animal",
          "Animales vivos y productos del reino animal",
          "Animales vivos y productos del reino animal",
          "Animales vivos y productos del reino animal",
          "Animales vivos y productos del reino animal",
          "Animales vivos y productos del reino animal",
          "Animales vivos y productos del reino animal",
          "Animales vivos y productos del reino animal",
          "Animales vivos y productos del reino animal",
          "Animales vivos y productos del reino animal",
          "Animales vivos y productos del reino animal",
          "Animales vivos y productos del reino animal",
          "Animales vivos y productos del reino animal",
          "Animales vivos y productos del reino animal",
          "Animales vivos y productos del reino animal",
          "Animales vivos y productos del reino animal",
          "Animales vivos y productos del reino animal",
          "Animales vivos y productos del reino animal",
          "Animales vivos y productos del reino animal",
          "Animales vivos y productos del reino animal",
          "Animales vivos y productos del reino animal",
          "Animales vivos y productos del reino animal",
          "Animales vivos y productos del reino animal",
          "Animales vivos y productos del reino animal",
          "Animales vivos y productos del reino animal",
          "Productos del reino vegetal",
          "Productos del reino vegetal",
          "Productos del reino vegetal",
          "Productos del reino vegetal",
          "Productos del reino vegetal",
          "Productos del reino vegetal",
          "Productos del reino vegetal",
          "Productos del reino vegetal",
          "Productos del reino vegetal",
          "Productos del reino vegetal",
          "Productos del reino vegetal",
          "Productos del reino vegetal",
          "Productos del reino vegetal",
          "Productos del reino vegetal",
          "Productos del reino vegetal",
          "Productos del reino vegetal",
          "Productos del reino vegetal",
          "Productos del reino vegetal",
          "Productos del reino vegetal",
          "Productos del reino vegetal",
          "Productos del reino vegetal",
          "Productos del reino vegetal",
          "Productos del reino vegetal",
          "Productos del reino vegetal",
          "Productos del reino vegetal",
          "Productos del reino vegetal",
          "Productos del reino vegetal",
          "Productos del reino vegetal",
          "Productos del reino vegetal",
          "Productos del reino vegetal",
          "Productos del reino vegetal",
          "Productos del reino vegetal",
          "Productos del reino vegetal",
          "Productos del reino vegetal",
          "Productos del reino vegetal",
          "Productos del reino vegetal",
          "Productos del reino vegetal",
          "Productos del reino vegetal",
          "Productos del reino vegetal",
          "Productos del reino vegetal",
          "Productos del reino vegetal",
          "Productos del reino vegetal",
          "Productos del reino vegetal",
          "Productos del reino vegetal",
          "Productos del reino vegetal",
          "Productos del reino vegetal",
          "Productos del reino vegetal",
          "Productos del reino vegetal",
          "Productos del reino vegetal",
          "Productos del reino vegetal",
          "Productos del reino vegetal",
          "Productos del reino vegetal",
          "Productos del reino vegetal",
          "Productos del reino vegetal",
          "Productos del reino vegetal",
          "Productos del reino vegetal",
          "Productos del reino vegetal",
          "Productos del reino vegetal",
          "Productos del reino vegetal",
          "Productos del reino vegetal",
          "Productos del reino vegetal",
          "Productos del reino vegetal",
          "Productos del reino vegetal",
          "Productos del reino vegetal",
          "Productos del reino vegetal",
          "Productos del reino vegetal",
          "Productos del reino vegetal",
          "Productos del reino vegetal",
          "Productos del reino vegetal",
          "Productos del reino vegetal",
          "Grasas y aceites animales o vegetales; productos de su desdoblamiento; grasas alimenticias elaboradas; ceras de origen animal o vegetal",
          "Grasas y aceites animales o vegetales; productos de su desdoblamiento; grasas alimenticias elaboradas; ceras de origen animal o vegetal",
          "Grasas y aceites animales o vegetales; productos de su desdoblamiento; grasas alimenticias elaboradas; ceras de origen animal o vegetal",
          "Grasas y aceites animales o vegetales; productos de su desdoblamiento; grasas alimenticias elaboradas; ceras de origen animal o vegetal",
          "Grasas y aceites animales o vegetales; productos de su desdoblamiento; grasas alimenticias elaboradas; ceras de origen animal o vegetal",
          "Grasas y aceites animales o vegetales; productos de su desdoblamiento; grasas alimenticias elaboradas; ceras de origen animal o vegetal",
          "Grasas y aceites animales o vegetales; productos de su desdoblamiento; grasas alimenticias elaboradas; ceras de origen animal o vegetal",
          "Grasas y aceites animales o vegetales; productos de su desdoblamiento; grasas alimenticias elaboradas; ceras de origen animal o vegetal",
          "Grasas y aceites animales o vegetales; productos de su desdoblamiento; grasas alimenticias elaboradas; ceras de origen animal o vegetal",
          "Grasas y aceites animales o vegetales; productos de su desdoblamiento; grasas alimenticias elaboradas; ceras de origen animal o vegetal",
          "Grasas y aceites animales o vegetales; productos de su desdoblamiento; grasas alimenticias elaboradas; ceras de origen animal o vegetal",
          "Grasas y aceites animales o vegetales; productos de su desdoblamiento; grasas alimenticias elaboradas; ceras de origen animal o vegetal",
          "Grasas y aceites animales o vegetales; productos de su desdoblamiento; grasas alimenticias elaboradas; ceras de origen animal o vegetal",
          "Grasas y aceites animales o vegetales; productos de su desdoblamiento; grasas alimenticias elaboradas; ceras de origen animal o vegetal",
          "Productos de las industrias alimentarias; bebidas, líquidos alcohólicos y vinagre; tabaco y sucedáneos del tabaco elaborados",
          "Productos de las industrias alimentarias; bebidas, líquidos alcohólicos y vinagre; tabaco y sucedáneos del tabaco elaborados",
          "Productos de las industrias alimentarias; bebidas, líquidos alcohólicos y vinagre; tabaco y sucedáneos del tabaco elaborados",
          "Productos de las industrias alimentarias; bebidas, líquidos alcohólicos y vinagre; tabaco y sucedáneos del tabaco elaborados",
          "Productos de las industrias alimentarias; bebidas, líquidos alcohólicos y vinagre; tabaco y sucedáneos del tabaco elaborados",
          "Productos de las industrias alimentarias; bebidas, líquidos alcohólicos y vinagre; tabaco y sucedáneos del tabaco elaborados",
          "Productos de las industrias alimentarias; bebidas, líquidos alcohólicos y vinagre; tabaco y sucedáneos del tabaco elaborados",
          "Productos de las industrias alimentarias; bebidas, líquidos alcohólicos y vinagre; tabaco y sucedáneos del tabaco elaborados",
          "Productos de las industrias alimentarias; bebidas, líquidos alcohólicos y vinagre; tabaco y sucedáneos del tabaco elaborados",
          "Productos de las industrias alimentarias; bebidas, líquidos alcohólicos y vinagre; tabaco y sucedáneos del tabaco elaborados",
          "Productos de las industrias alimentarias; bebidas, líquidos alcohólicos y vinagre; tabaco y sucedáneos del tabaco elaborados",
          "Productos de las industrias alimentarias; bebidas, líquidos alcohólicos y vinagre; tabaco y sucedáneos del tabaco elaborados",
          "Productos de las industrias alimentarias; bebidas, líquidos alcohólicos y vinagre; tabaco y sucedáneos del tabaco elaborados",
          "Productos de las industrias alimentarias; bebidas, líquidos alcohólicos y vinagre; tabaco y sucedáneos del tabaco elaborados",
          "Productos de las industrias alimentarias; bebidas, líquidos alcohólicos y vinagre; tabaco y sucedáneos del tabaco elaborados",
          "Productos de las industrias alimentarias; bebidas, líquidos alcohólicos y vinagre; tabaco y sucedáneos del tabaco elaborados",
          "Productos de las industrias alimentarias; bebidas, líquidos alcohólicos y vinagre; tabaco y sucedáneos del tabaco elaborados",
          "Productos de las industrias alimentarias; bebidas, líquidos alcohólicos y vinagre; tabaco y sucedáneos del tabaco elaborados",
          "Productos de las industrias alimentarias; bebidas, líquidos alcohólicos y vinagre; tabaco y sucedáneos del tabaco elaborados",
          "Productos de las industrias alimentarias; bebidas, líquidos alcohólicos y vinagre; tabaco y sucedáneos del tabaco elaborados",
          "Productos de las industrias alimentarias; bebidas, líquidos alcohólicos y vinagre; tabaco y sucedáneos del tabaco elaborados",
          "Productos de las industrias alimentarias; bebidas, líquidos alcohólicos y vinagre; tabaco y sucedáneos del tabaco elaborados",
          "Productos de las industrias alimentarias; bebidas, líquidos alcohólicos y vinagre; tabaco y sucedáneos del tabaco elaborados",
          "Productos de las industrias alimentarias; bebidas, líquidos alcohólicos y vinagre; tabaco y sucedáneos del tabaco elaborados",
          "Productos de las industrias alimentarias; bebidas, líquidos alcohólicos y vinagre; tabaco y sucedáneos del tabaco elaborados",
          "Productos de las industrias alimentarias; bebidas, líquidos alcohólicos y vinagre; tabaco y sucedáneos del tabaco elaborados",
          "Productos de las industrias alimentarias; bebidas, líquidos alcohólicos y vinagre; tabaco y sucedáneos del tabaco elaborados",
          "Productos de las industrias alimentarias; bebidas, líquidos alcohólicos y vinagre; tabaco y sucedáneos del tabaco elaborados",
          "Productos de las industrias alimentarias; bebidas, líquidos alcohólicos y vinagre; tabaco y sucedáneos del tabaco elaborados",
          "Productos de las industrias alimentarias; bebidas, líquidos alcohólicos y vinagre; tabaco y sucedáneos del tabaco elaborados",
          "Productos de las industrias alimentarias; bebidas, líquidos alcohólicos y vinagre; tabaco y sucedáneos del tabaco elaborados",
          "Productos de las industrias alimentarias; bebidas, líquidos alcohólicos y vinagre; tabaco y sucedáneos del tabaco elaborados",
          "Productos de las industrias alimentarias; bebidas, líquidos alcohólicos y vinagre; tabaco y sucedáneos del tabaco elaborados",
          "Productos de las industrias alimentarias; bebidas, líquidos alcohólicos y vinagre; tabaco y sucedáneos del tabaco elaborados",
          "Productos de las industrias alimentarias; bebidas, líquidos alcohólicos y vinagre; tabaco y sucedáneos del tabaco elaborados",
          "Productos de las industrias alimentarias; bebidas, líquidos alcohólicos y vinagre; tabaco y sucedáneos del tabaco elaborados",
          "Productos de las industrias alimentarias; bebidas, líquidos alcohólicos y vinagre; tabaco y sucedáneos del tabaco elaborados",
          "Productos de las industrias alimentarias; bebidas, líquidos alcohólicos y vinagre; tabaco y sucedáneos del tabaco elaborados",
          "Productos de las industrias alimentarias; bebidas, líquidos alcohólicos y vinagre; tabaco y sucedáneos del tabaco elaborados",
          "Productos de las industrias alimentarias; bebidas, líquidos alcohólicos y vinagre; tabaco y sucedáneos del tabaco elaborados",
          "Productos de las industrias alimentarias; bebidas, líquidos alcohólicos y vinagre; tabaco y sucedáneos del tabaco elaborados",
          "Productos de las industrias alimentarias; bebidas, líquidos alcohólicos y vinagre; tabaco y sucedáneos del tabaco elaborados",
          "Productos de las industrias alimentarias; bebidas, líquidos alcohólicos y vinagre; tabaco y sucedáneos del tabaco elaborados",
          "Productos de las industrias alimentarias; bebidas, líquidos alcohólicos y vinagre; tabaco y sucedáneos del tabaco elaborados",
          "Productos minerales",
          "Productos minerales",
          "Productos minerales",
          "Productos minerales",
          "Productos minerales",
          "Productos minerales",
          "Productos minerales",
          "Productos minerales",
          "Productos minerales",
          "Productos minerales",
          "Productos minerales",
          "Productos minerales",
          "Productos minerales",
          "Productos minerales",
          "Productos minerales",
          "Productos minerales",
          "Productos minerales",
          "Productos minerales",
          "Productos minerales",
          "Productos minerales",
          "Productos minerales",
          "Productos minerales",
          "Productos minerales",
          "Productos minerales",
          "Productos minerales",
          "Productos minerales",
          "Productos minerales",
          "Productos minerales",
          "Productos minerales",
          "Productos minerales",
          "Productos minerales",
          "Productos minerales",
          "Productos minerales",
          "Productos minerales",
          "Productos minerales",
          "Productos minerales",
          "Productos minerales",
          "Productos minerales",
          "Productos minerales",
          "Productos minerales",
          "Productos de las industrias químicas o de las industrias conexas",
          "Productos de las industrias químicas o de las industrias conexas",
          "Productos de las industrias químicas o de las industrias conexas",
          "Productos de las industrias químicas o de las industrias conexas",
          "Productos de las industrias químicas o de las industrias conexas",
          "Productos de las industrias químicas o de las industrias conexas",
          "Productos de las industrias químicas o de las industrias conexas",
          "Productos de las industrias químicas o de las industrias conexas",
          "Productos de las industrias químicas o de las industrias conexas",
          "Productos de las industrias químicas o de las industrias conexas",
          "Productos de las industrias químicas o de las industrias conexas",
          "Productos de las industrias químicas o de las industrias conexas",
          "Productos de las industrias químicas o de las industrias conexas",
          "Productos de las industrias químicas o de las industrias conexas",
          "Productos de las industrias químicas o de las industrias conexas",
          "Productos de las industrias químicas o de las industrias conexas",
          "Productos de las industrias químicas o de las industrias conexas",
          "Productos de las industrias químicas o de las industrias conexas",
          "Productos de las industrias químicas o de las industrias conexas",
          "Productos de las industrias químicas o de las industrias conexas",
          "Productos de las industrias químicas o de las industrias conexas",
          "Productos de las industrias químicas o de las industrias conexas",
          "Productos de las industrias químicas o de las industrias conexas",
          "Productos de las industrias químicas o de las industrias conexas",
          "Productos de las industrias químicas o de las industrias conexas",
          "Productos de las industrias químicas o de las industrias conexas",
          "Productos de las industrias químicas o de las industrias conexas",
          "Productos de las industrias químicas o de las industrias conexas",
          "Productos de las industrias químicas o de las industrias conexas",
          "Productos de las industrias químicas o de las industrias conexas",
          "Productos de las industrias químicas o de las industrias conexas",
          "Productos de las industrias químicas o de las industrias conexas",
          "Productos de las industrias químicas o de las industrias conexas",
          "Productos de las industrias químicas o de las industrias conexas",
          "Productos de las industrias químicas o de las industrias conexas",
          "Productos de las industrias químicas o de las industrias conexas",
          "Productos de las industrias químicas o de las industrias conexas",
          "Productos de las industrias químicas o de las industrias conexas",
          "Productos de las industrias químicas o de las industrias conexas",
          "Productos de las industrias químicas o de las industrias conexas",
          "Productos de las industrias químicas o de las industrias conexas",
          "Productos de las industrias químicas o de las industrias conexas",
          "Productos de las industrias químicas o de las industrias conexas",
          "Productos de las industrias químicas o de las industrias conexas",
          "Productos de las industrias químicas o de las industrias conexas",
          "Productos de las industrias químicas o de las industrias conexas",
          "Productos de las industrias químicas o de las industrias conexas",
          "Productos de las industrias químicas o de las industrias conexas",
          "Productos de las industrias químicas o de las industrias conexas",
          "Productos de las industrias químicas o de las industrias conexas",
          "Productos de las industrias químicas o de las industrias conexas",
          "Productos de las industrias químicas o de las industrias conexas",
          "Productos de las industrias químicas o de las industrias conexas",
          "Productos de las industrias químicas o de las industrias conexas",
          "Productos de las industrias químicas o de las industrias conexas",
          "Productos de las industrias químicas o de las industrias conexas",
          "Productos de las industrias químicas o de las industrias conexas",
          "Productos de las industrias químicas o de las industrias conexas",
          "Productos de las industrias químicas o de las industrias conexas",
          "Productos de las industrias químicas o de las industrias conexas",
          "Productos de las industrias químicas o de las industrias conexas",
          "Productos de las industrias químicas o de las industrias conexas",
          "Productos de las industrias químicas o de las industrias conexas",
          "Productos de las industrias químicas o de las industrias conexas",
          "Productos de las industrias químicas o de las industrias conexas",
          "Productos de las industrias químicas o de las industrias conexas",
          "Productos de las industrias químicas o de las industrias conexas",
          "Productos de las industrias químicas o de las industrias conexas",
          "Productos de las industrias químicas o de las industrias conexas",
          "Productos de las industrias químicas o de las industrias conexas",
          "Productos de las industrias químicas o de las industrias conexas",
          "Productos de las industrias químicas o de las industrias conexas",
          "Productos de las industrias químicas o de las industrias conexas",
          "Productos de las industrias químicas o de las industrias conexas",
          "Productos de las industrias químicas o de las industrias conexas",
          "Productos de las industrias químicas o de las industrias conexas",
          "Productos de las industrias químicas o de las industrias conexas",
          "Productos de las industrias químicas o de las industrias conexas",
          "Productos de las industrias químicas o de las industrias conexas",
          "Productos de las industrias químicas o de las industrias conexas",
          "Productos de las industrias químicas o de las industrias conexas",
          "Productos de las industrias químicas o de las industrias conexas",
          "Productos de las industrias químicas o de las industrias conexas",
          "Productos de las industrias químicas o de las industrias conexas",
          "Productos de las industrias químicas o de las industrias conexas",
          "Productos de las industrias químicas o de las industrias conexas",
          "Productos de las industrias químicas o de las industrias conexas",
          "Productos de las industrias químicas o de las industrias conexas",
          "Productos de las industrias químicas o de las industrias conexas",
          "Productos de las industrias químicas o de las industrias conexas",
          "Productos de las industrias químicas o de las industrias conexas",
          "Productos de las industrias químicas o de las industrias conexas",
          "Productos de las industrias químicas o de las industrias conexas",
          "Productos de las industrias químicas o de las industrias conexas",
          "Productos de las industrias químicas o de las industrias conexas",
          "Productos de las industrias químicas o de las industrias conexas",
          "Productos de las industrias químicas o de las industrias conexas",
          "Productos de las industrias químicas o de las industrias conexas",
          "Productos de las industrias químicas o de las industrias conexas",
          "Productos de las industrias químicas o de las industrias conexas",
          "Productos de las industrias químicas o de las industrias conexas",
          "Productos de las industrias químicas o de las industrias conexas",
          "Productos de las industrias químicas o de las industrias conexas",
          "Productos de las industrias químicas o de las industrias conexas",
          "Productos de las industrias químicas o de las industrias conexas",
          "Productos de las industrias químicas o de las industrias conexas",
          "Productos de las industrias químicas o de las industrias conexas",
          "Productos de las industrias químicas o de las industrias conexas",
          "Productos de las industrias químicas o de las industrias conexas",
          "Productos de las industrias químicas o de las industrias conexas",
          "Productos de las industrias químicas o de las industrias conexas",
          "Productos de las industrias químicas o de las industrias conexas",
          "Productos de las industrias químicas o de las industrias conexas",
          "Productos de las industrias químicas o de las industrias conexas",
          "Productos de las industrias químicas o de las industrias conexas",
          "Productos de las industrias químicas o de las industrias conexas",
          "Productos de las industrias químicas o de las industrias conexas",
          "Productos de las industrias químicas o de las industrias conexas",
          "Productos de las industrias químicas o de las industrias conexas",
          "Productos de las industrias químicas o de las industrias conexas",
          "Productos de las industrias químicas o de las industrias conexas",
          "Productos de las industrias químicas o de las industrias conexas",
          "Productos de las industrias químicas o de las industrias conexas",
          "Productos de las industrias químicas o de las industrias conexas",
          "Productos de las industrias químicas o de las industrias conexas",
          "Productos de las industrias químicas o de las industrias conexas",
          "Productos de las industrias químicas o de las industrias conexas",
          "Productos de las industrias químicas o de las industrias conexas",
          "Productos de las industrias químicas o de las industrias conexas",
          "Productos de las industrias químicas o de las industrias conexas",
          "Productos de las industrias químicas o de las industrias conexas",
          "Productos de las industrias químicas o de las industrias conexas",
          "Productos de las industrias químicas o de las industrias conexas",
          "Productos de las industrias químicas o de las industrias conexas",
          "Productos de las industrias químicas o de las industrias conexas",
          "Productos de las industrias químicas o de las industrias conexas",
          "Productos de las industrias químicas o de las industrias conexas",
          "Productos de las industrias químicas o de las industrias conexas",
          "Productos de las industrias químicas o de las industrias conexas",
          "Productos de las industrias químicas o de las industrias conexas",
          "Productos de las industrias químicas o de las industrias conexas",
          "Productos de las industrias químicas o de las industrias conexas",
          "Productos de las industrias químicas o de las industrias conexas",
          "Productos de las industrias químicas o de las industrias conexas",
          "Productos de las industrias químicas o de las industrias conexas",
          "Productos de las industrias químicas o de las industrias conexas",
          "Productos de las industrias químicas o de las industrias conexas",
          "Productos de las industrias químicas o de las industrias conexas",
          "Productos de las industrias químicas o de las industrias conexas",
          "Productos de las industrias químicas o de las industrias conexas",
          "Productos de las industrias químicas o de las industrias conexas",
          "Productos de las industrias químicas o de las industrias conexas",
          "Productos de las industrias químicas o de las industrias conexas",
          "Productos de las industrias químicas o de las industrias conexas",
          "Productos de las industrias químicas o de las industrias conexas",
          "Productos de las industrias químicas o de las industrias conexas",
          "Plástico y sus manufacturas; caucho y sus manufacturas",
          "Plástico y sus manufacturas; caucho y sus manufacturas",
          "Plástico y sus manufacturas; caucho y sus manufacturas",
          "Plástico y sus manufacturas; caucho y sus manufacturas",
          "Plástico y sus manufacturas; caucho y sus manufacturas",
          "Plástico y sus manufacturas; caucho y sus manufacturas",
          "Plástico y sus manufacturas; caucho y sus manufacturas",
          "Plástico y sus manufacturas; caucho y sus manufacturas",
          "Plástico y sus manufacturas; caucho y sus manufacturas",
          "Plástico y sus manufacturas; caucho y sus manufacturas",
          "Plástico y sus manufacturas; caucho y sus manufacturas",
          "Plástico y sus manufacturas; caucho y sus manufacturas",
          "Plástico y sus manufacturas; caucho y sus manufacturas",
          "Plástico y sus manufacturas; caucho y sus manufacturas",
          "Plástico y sus manufacturas; caucho y sus manufacturas",
          "Plástico y sus manufacturas; caucho y sus manufacturas",
          "Plástico y sus manufacturas; caucho y sus manufacturas",
          "Plástico y sus manufacturas; caucho y sus manufacturas",
          "Plástico y sus manufacturas; caucho y sus manufacturas",
          "Plástico y sus manufacturas; caucho y sus manufacturas",
          "Plástico y sus manufacturas; caucho y sus manufacturas",
          "Plástico y sus manufacturas; caucho y sus manufacturas",
          "Plástico y sus manufacturas; caucho y sus manufacturas",
          "Plástico y sus manufacturas; caucho y sus manufacturas",
          "Plástico y sus manufacturas; caucho y sus manufacturas",
          "Plástico y sus manufacturas; caucho y sus manufacturas",
          "Plástico y sus manufacturas; caucho y sus manufacturas",
          "Plástico y sus manufacturas; caucho y sus manufacturas",
          "Plástico y sus manufacturas; caucho y sus manufacturas",
          "Plástico y sus manufacturas; caucho y sus manufacturas",
          "Plástico y sus manufacturas; caucho y sus manufacturas",
          "Plástico y sus manufacturas; caucho y sus manufacturas",
          "Plástico y sus manufacturas; caucho y sus manufacturas",
          "Plástico y sus manufacturas; caucho y sus manufacturas",
          "Plástico y sus manufacturas; caucho y sus manufacturas",
          "Plástico y sus manufacturas; caucho y sus manufacturas",
          "Pieles, cueros, peletería y manufacturas de estas materias; artículos de talabartería o guarnicionería; artículos de viaje, bolsos de mano (carteras) y continentes similares; manufacturas de tripa",
          "Pieles, cueros, peletería y manufacturas de estas materias; artículos de talabartería o guarnicionería; artículos de viaje, bolsos de mano (carteras) y continentes similares; manufacturas de tripa",
          "Pieles, cueros, peletería y manufacturas de estas materias; artículos de talabartería o guarnicionería; artículos de viaje, bolsos de mano (carteras) y continentes similares; manufacturas de tripa",
          "Pieles, cueros, peletería y manufacturas de estas materias; artículos de talabartería o guarnicionería; artículos de viaje, bolsos de mano (carteras) y continentes similares; manufacturas de tripa",
          "Pieles, cueros, peletería y manufacturas de estas materias; artículos de talabartería o guarnicionería; artículos de viaje, bolsos de mano (carteras) y continentes similares; manufacturas de tripa",
          "Pieles, cueros, peletería y manufacturas de estas materias; artículos de talabartería o guarnicionería; artículos de viaje, bolsos de mano (carteras) y continentes similares; manufacturas de tripa",
          "Pieles, cueros, peletería y manufacturas de estas materias; artículos de talabartería o guarnicionería; artículos de viaje, bolsos de mano (carteras) y continentes similares; manufacturas de tripa",
          "Pieles, cueros, peletería y manufacturas de estas materias; artículos de talabartería o guarnicionería; artículos de viaje, bolsos de mano (carteras) y continentes similares; manufacturas de tripa",
          "Pieles, cueros, peletería y manufacturas de estas materias; artículos de talabartería o guarnicionería; artículos de viaje, bolsos de mano (carteras) y continentes similares; manufacturas de tripa",
          "Pieles, cueros, peletería y manufacturas de estas materias; artículos de talabartería o guarnicionería; artículos de viaje, bolsos de mano (carteras) y continentes similares; manufacturas de tripa",
          "Pieles, cueros, peletería y manufacturas de estas materias; artículos de talabartería o guarnicionería; artículos de viaje, bolsos de mano (carteras) y continentes similares; manufacturas de tripa",
          "Pieles, cueros, peletería y manufacturas de estas materias; artículos de talabartería o guarnicionería; artículos de viaje, bolsos de mano (carteras) y continentes similares; manufacturas de tripa",
          "Pieles, cueros, peletería y manufacturas de estas materias; artículos de talabartería o guarnicionería; artículos de viaje, bolsos de mano (carteras) y continentes similares; manufacturas de tripa",
          "Pieles, cueros, peletería y manufacturas de estas materias; artículos de talabartería o guarnicionería; artículos de viaje, bolsos de mano (carteras) y continentes similares; manufacturas de tripa",
          "Pieles, cueros, peletería y manufacturas de estas materias; artículos de talabartería o guarnicionería; artículos de viaje, bolsos de mano (carteras) y continentes similares; manufacturas de tripa",
          "Madera, carbón vegetal y manufacturas de madera; corcho y sus manufacturas; manufacturas de espartería o cestería",
          "Madera, carbón vegetal y manufacturas de madera; corcho y sus manufacturas; manufacturas de espartería o cestería",
          "Madera, carbón vegetal y manufacturas de madera; corcho y sus manufacturas; manufacturas de espartería o cestería",
          "Madera, carbón vegetal y manufacturas de madera; corcho y sus manufacturas; manufacturas de espartería o cestería",
          "Madera, carbón vegetal y manufacturas de madera; corcho y sus manufacturas; manufacturas de espartería o cestería",
          "Madera, carbón vegetal y manufacturas de madera; corcho y sus manufacturas; manufacturas de espartería o cestería",
          "Madera, carbón vegetal y manufacturas de madera; corcho y sus manufacturas; manufacturas de espartería o cestería",
          "Madera, carbón vegetal y manufacturas de madera; corcho y sus manufacturas; manufacturas de espartería o cestería",
          "Madera, carbón vegetal y manufacturas de madera; corcho y sus manufacturas; manufacturas de espartería o cestería",
          "Madera, carbón vegetal y manufacturas de madera; corcho y sus manufacturas; manufacturas de espartería o cestería",
          "Madera, carbón vegetal y manufacturas de madera; corcho y sus manufacturas; manufacturas de espartería o cestería",
          "Madera, carbón vegetal y manufacturas de madera; corcho y sus manufacturas; manufacturas de espartería o cestería",
          "Madera, carbón vegetal y manufacturas de madera; corcho y sus manufacturas; manufacturas de espartería o cestería",
          "Madera, carbón vegetal y manufacturas de madera; corcho y sus manufacturas; manufacturas de espartería o cestería",
          "Madera, carbón vegetal y manufacturas de madera; corcho y sus manufacturas; manufacturas de espartería o cestería",
          "Madera, carbón vegetal y manufacturas de madera; corcho y sus manufacturas; manufacturas de espartería o cestería",
          "Madera, carbón vegetal y manufacturas de madera; corcho y sus manufacturas; manufacturas de espartería o cestería",
          "Madera, carbón vegetal y manufacturas de madera; corcho y sus manufacturas; manufacturas de espartería o cestería",
          "Madera, carbón vegetal y manufacturas de madera; corcho y sus manufacturas; manufacturas de espartería o cestería",
          "Madera, carbón vegetal y manufacturas de madera; corcho y sus manufacturas; manufacturas de espartería o cestería",
          "Madera, carbón vegetal y manufacturas de madera; corcho y sus manufacturas; manufacturas de espartería o cestería",
          "Madera, carbón vegetal y manufacturas de madera; corcho y sus manufacturas; manufacturas de espartería o cestería",
          "Pasta de madera o de las demás materias fibrosas celulósicas; papel o cartón para reciclar (desperdicios y desechos); papel o cartón y sus aplicaciones",
          "Pasta de madera o de las demás materias fibrosas celulósicas; papel o cartón para reciclar (desperdicios y desechos); papel o cartón y sus aplicaciones",
          "Pasta de madera o de las demás materias fibrosas celulósicas; papel o cartón para reciclar (desperdicios y desechos); papel o cartón y sus aplicaciones",
          "Pasta de madera o de las demás materias fibrosas celulósicas; papel o cartón para reciclar (desperdicios y desechos); papel o cartón y sus aplicaciones",
          "Pasta de madera o de las demás materias fibrosas celulósicas; papel o cartón para reciclar (desperdicios y desechos); papel o cartón y sus aplicaciones",
          "Pasta de madera o de las demás materias fibrosas celulósicas; papel o cartón para reciclar (desperdicios y desechos); papel o cartón y sus aplicaciones",
          "Pasta de madera o de las demás materias fibrosas celulósicas; papel o cartón para reciclar (desperdicios y desechos); papel o cartón y sus aplicaciones",
          "Pasta de madera o de las demás materias fibrosas celulósicas; papel o cartón para reciclar (desperdicios y desechos); papel o cartón y sus aplicaciones",
          "Pasta de madera o de las demás materias fibrosas celulósicas; papel o cartón para reciclar (desperdicios y desechos); papel o cartón y sus aplicaciones",
          "Pasta de madera o de las demás materias fibrosas celulósicas; papel o cartón para reciclar (desperdicios y desechos); papel o cartón y sus aplicaciones",
          "Pasta de madera o de las demás materias fibrosas celulósicas; papel o cartón para reciclar (desperdicios y desechos); papel o cartón y sus aplicaciones",
          "Pasta de madera o de las demás materias fibrosas celulósicas; papel o cartón para reciclar (desperdicios y desechos); papel o cartón y sus aplicaciones",
          "Pasta de madera o de las demás materias fibrosas celulósicas; papel o cartón para reciclar (desperdicios y desechos); papel o cartón y sus aplicaciones",
          "Pasta de madera o de las demás materias fibrosas celulósicas; papel o cartón para reciclar (desperdicios y desechos); papel o cartón y sus aplicaciones",
          "Pasta de madera o de las demás materias fibrosas celulósicas; papel o cartón para reciclar (desperdicios y desechos); papel o cartón y sus aplicaciones",
          "Pasta de madera o de las demás materias fibrosas celulósicas; papel o cartón para reciclar (desperdicios y desechos); papel o cartón y sus aplicaciones",
          "Pasta de madera o de las demás materias fibrosas celulósicas; papel o cartón para reciclar (desperdicios y desechos); papel o cartón y sus aplicaciones",
          "Pasta de madera o de las demás materias fibrosas celulósicas; papel o cartón para reciclar (desperdicios y desechos); papel o cartón y sus aplicaciones",
          "Pasta de madera o de las demás materias fibrosas celulósicas; papel o cartón para reciclar (desperdicios y desechos); papel o cartón y sus aplicaciones",
          "Pasta de madera o de las demás materias fibrosas celulósicas; papel o cartón para reciclar (desperdicios y desechos); papel o cartón y sus aplicaciones",
          "Pasta de madera o de las demás materias fibrosas celulósicas; papel o cartón para reciclar (desperdicios y desechos); papel o cartón y sus aplicaciones",
          "Pasta de madera o de las demás materias fibrosas celulósicas; papel o cartón para reciclar (desperdicios y desechos); papel o cartón y sus aplicaciones",
          "Pasta de madera o de las demás materias fibrosas celulósicas; papel o cartón para reciclar (desperdicios y desechos); papel o cartón y sus aplicaciones",
          "Pasta de madera o de las demás materias fibrosas celulósicas; papel o cartón para reciclar (desperdicios y desechos); papel o cartón y sus aplicaciones",
          "Pasta de madera o de las demás materias fibrosas celulósicas; papel o cartón para reciclar (desperdicios y desechos); papel o cartón y sus aplicaciones",
          "Pasta de madera o de las demás materias fibrosas celulósicas; papel o cartón para reciclar (desperdicios y desechos); papel o cartón y sus aplicaciones",
          "Pasta de madera o de las demás materias fibrosas celulósicas; papel o cartón para reciclar (desperdicios y desechos); papel o cartón y sus aplicaciones",
          "Pasta de madera o de las demás materias fibrosas celulósicas; papel o cartón para reciclar (desperdicios y desechos); papel o cartón y sus aplicaciones",
          "Pasta de madera o de las demás materias fibrosas celulósicas; papel o cartón para reciclar (desperdicios y desechos); papel o cartón y sus aplicaciones",
          "Materias textiles y sus manufacturas",
          "Materias textiles y sus manufacturas",
          "Materias textiles y sus manufacturas",
          "Materias textiles y sus manufacturas",
          "Materias textiles y sus manufacturas",
          "Materias textiles y sus manufacturas",
          "Materias textiles y sus manufacturas",
          "Materias textiles y sus manufacturas",
          "Materias textiles y sus manufacturas",
          "Materias textiles y sus manufacturas",
          "Materias textiles y sus manufacturas",
          "Materias textiles y sus manufacturas",
          "Materias textiles y sus manufacturas",
          "Materias textiles y sus manufacturas",
          "Materias textiles y sus manufacturas",
          "Materias textiles y sus manufacturas",
          "Materias textiles y sus manufacturas",
          "Materias textiles y sus manufacturas",
          "Materias textiles y sus manufacturas",
          "Materias textiles y sus manufacturas",
          "Materias textiles y sus manufacturas",
          "Materias textiles y sus manufacturas",
          "Materias textiles y sus manufacturas",
          "Materias textiles y sus manufacturas",
          "Materias textiles y sus manufacturas",
          "Materias textiles y sus manufacturas",
          "Materias textiles y sus manufacturas",
          "Materias textiles y sus manufacturas",
          "Materias textiles y sus manufacturas",
          "Materias textiles y sus manufacturas",
          "Materias textiles y sus manufacturas",
          "Materias textiles y sus manufacturas",
          "Materias textiles y sus manufacturas",
          "Materias textiles y sus manufacturas",
          "Materias textiles y sus manufacturas",
          "Materias textiles y sus manufacturas",
          "Materias textiles y sus manufacturas",
          "Materias textiles y sus manufacturas",
          "Materias textiles y sus manufacturas",
          "Materias textiles y sus manufacturas",
          "Materias textiles y sus manufacturas",
          "Materias textiles y sus manufacturas",
          "Materias textiles y sus manufacturas",
          "Materias textiles y sus manufacturas",
          "Materias textiles y sus manufacturas",
          "Materias textiles y sus manufacturas",
          "Materias textiles y sus manufacturas",
          "Materias textiles y sus manufacturas",
          "Materias textiles y sus manufacturas",
          "Materias textiles y sus manufacturas",
          "Materias textiles y sus manufacturas",
          "Materias textiles y sus manufacturas",
          "Materias textiles y sus manufacturas",
          "Materias textiles y sus manufacturas",
          "Materias textiles y sus manufacturas",
          "Materias textiles y sus manufacturas",
          "Materias textiles y sus manufacturas",
          "Materias textiles y sus manufacturas",
          "Materias textiles y sus manufacturas",
          "Materias textiles y sus manufacturas",
          "Materias textiles y sus manufacturas",
          "Materias textiles y sus manufacturas",
          "Materias textiles y sus manufacturas",
          "Materias textiles y sus manufacturas",
          "Materias textiles y sus manufacturas",
          "Materias textiles y sus manufacturas",
          "Materias textiles y sus manufacturas",
          "Materias textiles y sus manufacturas",
          "Materias textiles y sus manufacturas",
          "Materias textiles y sus manufacturas",
          "Materias textiles y sus manufacturas",
          "Materias textiles y sus manufacturas",
          "Materias textiles y sus manufacturas",
          "Materias textiles y sus manufacturas",
          "Materias textiles y sus manufacturas",
          "Materias textiles y sus manufacturas",
          "Materias textiles y sus manufacturas",
          "Materias textiles y sus manufacturas",
          "Materias textiles y sus manufacturas",
          "Materias textiles y sus manufacturas",
          "Materias textiles y sus manufacturas",
          "Materias textiles y sus manufacturas",
          "Materias textiles y sus manufacturas",
          "Materias textiles y sus manufacturas",
          "Materias textiles y sus manufacturas",
          "Materias textiles y sus manufacturas",
          "Materias textiles y sus manufacturas",
          "Materias textiles y sus manufacturas",
          "Materias textiles y sus manufacturas",
          "Materias textiles y sus manufacturas",
          "Materias textiles y sus manufacturas",
          "Materias textiles y sus manufacturas",
          "Materias textiles y sus manufacturas",
          "Materias textiles y sus manufacturas",
          "Materias textiles y sus manufacturas",
          "Materias textiles y sus manufacturas",
          "Materias textiles y sus manufacturas",
          "Materias textiles y sus manufacturas",
          "Materias textiles y sus manufacturas",
          "Materias textiles y sus manufacturas",
          "Materias textiles y sus manufacturas",
          "Materias textiles y sus manufacturas",
          "Materias textiles y sus manufacturas",
          "Materias textiles y sus manufacturas",
          "Materias textiles y sus manufacturas",
          "Materias textiles y sus manufacturas",
          "Materias textiles y sus manufacturas",
          "Materias textiles y sus manufacturas",
          "Materias textiles y sus manufacturas",
          "Materias textiles y sus manufacturas",
          "Materias textiles y sus manufacturas",
          "Materias textiles y sus manufacturas",
          "Materias textiles y sus manufacturas",
          "Materias textiles y sus manufacturas",
          "Materias textiles y sus manufacturas",
          "Materias textiles y sus manufacturas",
          "Materias textiles y sus manufacturas",
          "Calzado, sombreros y demás tocados, paraguas, quitasoles, bastones, látigos, fustas y sus partes; plumas preparadas y artículos de plumas; flores artificiales; manufacturas de cabello",
          "Calzado, sombreros y demás tocados, paraguas, quitasoles, bastones, látigos, fustas y sus partes; plumas preparadas y artículos de plumas; flores artificiales; manufacturas de cabello",
          "Calzado, sombreros y demás tocados, paraguas, quitasoles, bastones, látigos, fustas y sus partes; plumas preparadas y artículos de plumas; flores artificiales; manufacturas de cabello",
          "Calzado, sombreros y demás tocados, paraguas, quitasoles, bastones, látigos, fustas y sus partes; plumas preparadas y artículos de plumas; flores artificiales; manufacturas de cabello",
          "Calzado, sombreros y demás tocados, paraguas, quitasoles, bastones, látigos, fustas y sus partes; plumas preparadas y artículos de plumas; flores artificiales; manufacturas de cabello",
          "Calzado, sombreros y demás tocados, paraguas, quitasoles, bastones, látigos, fustas y sus partes; plumas preparadas y artículos de plumas; flores artificiales; manufacturas de cabello",
          "Calzado, sombreros y demás tocados, paraguas, quitasoles, bastones, látigos, fustas y sus partes; plumas preparadas y artículos de plumas; flores artificiales; manufacturas de cabello",
          "Calzado, sombreros y demás tocados, paraguas, quitasoles, bastones, látigos, fustas y sus partes; plumas preparadas y artículos de plumas; flores artificiales; manufacturas de cabello",
          "Calzado, sombreros y demás tocados, paraguas, quitasoles, bastones, látigos, fustas y sus partes; plumas preparadas y artículos de plumas; flores artificiales; manufacturas de cabello",
          "Calzado, sombreros y demás tocados, paraguas, quitasoles, bastones, látigos, fustas y sus partes; plumas preparadas y artículos de plumas; flores artificiales; manufacturas de cabello",
          "Calzado, sombreros y demás tocados, paraguas, quitasoles, bastones, látigos, fustas y sus partes; plumas preparadas y artículos de plumas; flores artificiales; manufacturas de cabello",
          "Calzado, sombreros y demás tocados, paraguas, quitasoles, bastones, látigos, fustas y sus partes; plumas preparadas y artículos de plumas; flores artificiales; manufacturas de cabello",
          "Calzado, sombreros y demás tocados, paraguas, quitasoles, bastones, látigos, fustas y sus partes; plumas preparadas y artículos de plumas; flores artificiales; manufacturas de cabello",
          "Calzado, sombreros y demás tocados, paraguas, quitasoles, bastones, látigos, fustas y sus partes; plumas preparadas y artículos de plumas; flores artificiales; manufacturas de cabello",
          "Calzado, sombreros y demás tocados, paraguas, quitasoles, bastones, látigos, fustas y sus partes; plumas preparadas y artículos de plumas; flores artificiales; manufacturas de cabello",
          "Manufacturas de piedra, yeso fraguable, cemento, amianto (asbesto), mica o materias análogas; productos cerámicos; vidrio y manufacturas de vidrio",
          "Manufacturas de piedra, yeso fraguable, cemento, amianto (asbesto), mica o materias análogas; productos cerámicos; vidrio y manufacturas de vidrio",
          "Manufacturas de piedra, yeso fraguable, cemento, amianto (asbesto), mica o materias análogas; productos cerámicos; vidrio y manufacturas de vidrio",
          "Manufacturas de piedra, yeso fraguable, cemento, amianto (asbesto), mica o materias análogas; productos cerámicos; vidrio y manufacturas de vidrio",
          "Manufacturas de piedra, yeso fraguable, cemento, amianto (asbesto), mica o materias análogas; productos cerámicos; vidrio y manufacturas de vidrio",
          "Manufacturas de piedra, yeso fraguable, cemento, amianto (asbesto), mica o materias análogas; productos cerámicos; vidrio y manufacturas de vidrio",
          "Manufacturas de piedra, yeso fraguable, cemento, amianto (asbesto), mica o materias análogas; productos cerámicos; vidrio y manufacturas de vidrio",
          "Manufacturas de piedra, yeso fraguable, cemento, amianto (asbesto), mica o materias análogas; productos cerámicos; vidrio y manufacturas de vidrio",
          "Manufacturas de piedra, yeso fraguable, cemento, amianto (asbesto), mica o materias análogas; productos cerámicos; vidrio y manufacturas de vidrio",
          "Manufacturas de piedra, yeso fraguable, cemento, amianto (asbesto), mica o materias análogas; productos cerámicos; vidrio y manufacturas de vidrio",
          "Manufacturas de piedra, yeso fraguable, cemento, amianto (asbesto), mica o materias análogas; productos cerámicos; vidrio y manufacturas de vidrio",
          "Manufacturas de piedra, yeso fraguable, cemento, amianto (asbesto), mica o materias análogas; productos cerámicos; vidrio y manufacturas de vidrio",
          "Manufacturas de piedra, yeso fraguable, cemento, amianto (asbesto), mica o materias análogas; productos cerámicos; vidrio y manufacturas de vidrio",
          "Manufacturas de piedra, yeso fraguable, cemento, amianto (asbesto), mica o materias análogas; productos cerámicos; vidrio y manufacturas de vidrio",
          "Manufacturas de piedra, yeso fraguable, cemento, amianto (asbesto), mica o materias análogas; productos cerámicos; vidrio y manufacturas de vidrio",
          "Manufacturas de piedra, yeso fraguable, cemento, amianto (asbesto), mica o materias análogas; productos cerámicos; vidrio y manufacturas de vidrio",
          "Manufacturas de piedra, yeso fraguable, cemento, amianto (asbesto), mica o materias análogas; productos cerámicos; vidrio y manufacturas de vidrio",
          "Manufacturas de piedra, yeso fraguable, cemento, amianto (asbesto), mica o materias análogas; productos cerámicos; vidrio y manufacturas de vidrio",
          "Manufacturas de piedra, yeso fraguable, cemento, amianto (asbesto), mica o materias análogas; productos cerámicos; vidrio y manufacturas de vidrio",
          "Manufacturas de piedra, yeso fraguable, cemento, amianto (asbesto), mica o materias análogas; productos cerámicos; vidrio y manufacturas de vidrio",
          "Manufacturas de piedra, yeso fraguable, cemento, amianto (asbesto), mica o materias análogas; productos cerámicos; vidrio y manufacturas de vidrio",
          "Manufacturas de piedra, yeso fraguable, cemento, amianto (asbesto), mica o materias análogas; productos cerámicos; vidrio y manufacturas de vidrio",
          "Manufacturas de piedra, yeso fraguable, cemento, amianto (asbesto), mica o materias análogas; productos cerámicos; vidrio y manufacturas de vidrio",
          "Manufacturas de piedra, yeso fraguable, cemento, amianto (asbesto), mica o materias análogas; productos cerámicos; vidrio y manufacturas de vidrio",
          "Manufacturas de piedra, yeso fraguable, cemento, amianto (asbesto), mica o materias análogas; productos cerámicos; vidrio y manufacturas de vidrio",
          "Manufacturas de piedra, yeso fraguable, cemento, amianto (asbesto), mica o materias análogas; productos cerámicos; vidrio y manufacturas de vidrio",
          "Manufacturas de piedra, yeso fraguable, cemento, amianto (asbesto), mica o materias análogas; productos cerámicos; vidrio y manufacturas de vidrio",
          "Manufacturas de piedra, yeso fraguable, cemento, amianto (asbesto), mica o materias análogas; productos cerámicos; vidrio y manufacturas de vidrio",
          "Manufacturas de piedra, yeso fraguable, cemento, amianto (asbesto), mica o materias análogas; productos cerámicos; vidrio y manufacturas de vidrio",
          "Manufacturas de piedra, yeso fraguable, cemento, amianto (asbesto), mica o materias análogas; productos cerámicos; vidrio y manufacturas de vidrio",
          "Manufacturas de piedra, yeso fraguable, cemento, amianto (asbesto), mica o materias análogas; productos cerámicos; vidrio y manufacturas de vidrio",
          "Manufacturas de piedra, yeso fraguable, cemento, amianto (asbesto), mica o materias análogas; productos cerámicos; vidrio y manufacturas de vidrio",
          "Manufacturas de piedra, yeso fraguable, cemento, amianto (asbesto), mica o materias análogas; productos cerámicos; vidrio y manufacturas de vidrio",
          "Manufacturas de piedra, yeso fraguable, cemento, amianto (asbesto), mica o materias análogas; productos cerámicos; vidrio y manufacturas de vidrio",
          "Manufacturas de piedra, yeso fraguable, cemento, amianto (asbesto), mica o materias análogas; productos cerámicos; vidrio y manufacturas de vidrio",
          "Manufacturas de piedra, yeso fraguable, cemento, amianto (asbesto), mica o materias análogas; productos cerámicos; vidrio y manufacturas de vidrio",
          "Manufacturas de piedra, yeso fraguable, cemento, amianto (asbesto), mica o materias análogas; productos cerámicos; vidrio y manufacturas de vidrio",
          "Manufacturas de piedra, yeso fraguable, cemento, amianto (asbesto), mica o materias análogas; productos cerámicos; vidrio y manufacturas de vidrio",
          "Manufacturas de piedra, yeso fraguable, cemento, amianto (asbesto), mica o materias análogas; productos cerámicos; vidrio y manufacturas de vidrio",
          "Manufacturas de piedra, yeso fraguable, cemento, amianto (asbesto), mica o materias análogas; productos cerámicos; vidrio y manufacturas de vidrio",
          "Manufacturas de piedra, yeso fraguable, cemento, amianto (asbesto), mica o materias análogas; productos cerámicos; vidrio y manufacturas de vidrio",
          "Manufacturas de piedra, yeso fraguable, cemento, amianto (asbesto), mica o materias análogas; productos cerámicos; vidrio y manufacturas de vidrio",
          "Manufacturas de piedra, yeso fraguable, cemento, amianto (asbesto), mica o materias análogas; productos cerámicos; vidrio y manufacturas de vidrio",
          "Manufacturas de piedra, yeso fraguable, cemento, amianto (asbesto), mica o materias análogas; productos cerámicos; vidrio y manufacturas de vidrio",
          "Manufacturas de piedra, yeso fraguable, cemento, amianto (asbesto), mica o materias análogas; productos cerámicos; vidrio y manufacturas de vidrio",
          "Manufacturas de piedra, yeso fraguable, cemento, amianto (asbesto), mica o materias análogas; productos cerámicos; vidrio y manufacturas de vidrio",
          "Manufacturas de piedra, yeso fraguable, cemento, amianto (asbesto), mica o materias análogas; productos cerámicos; vidrio y manufacturas de vidrio",
          "Perlas finas (naturales) o cultivadas, piedras preciosas o semipreciosas, metales preciosos, chapados de metal precioso (plaqué) y manufacturas de estas materias; bisutería; monedas",
          "Perlas finas (naturales) o cultivadas, piedras preciosas o semipreciosas, metales preciosos, chapados de metal precioso (plaqué) y manufacturas de estas materias; bisutería; monedas",
          "Perlas finas (naturales) o cultivadas, piedras preciosas o semipreciosas, metales preciosos, chapados de metal precioso (plaqué) y manufacturas de estas materias; bisutería; monedas",
          "Perlas finas (naturales) o cultivadas, piedras preciosas o semipreciosas, metales preciosos, chapados de metal precioso (plaqué) y manufacturas de estas materias; bisutería; monedas",
          "Perlas finas (naturales) o cultivadas, piedras preciosas o semipreciosas, metales preciosos, chapados de metal precioso (plaqué) y manufacturas de estas materias; bisutería; monedas",
          "Perlas finas (naturales) o cultivadas, piedras preciosas o semipreciosas, metales preciosos, chapados de metal precioso (plaqué) y manufacturas de estas materias; bisutería; monedas",
          "Perlas finas (naturales) o cultivadas, piedras preciosas o semipreciosas, metales preciosos, chapados de metal precioso (plaqué) y manufacturas de estas materias; bisutería; monedas",
          "Perlas finas (naturales) o cultivadas, piedras preciosas o semipreciosas, metales preciosos, chapados de metal precioso (plaqué) y manufacturas de estas materias; bisutería; monedas",
          "Perlas finas (naturales) o cultivadas, piedras preciosas o semipreciosas, metales preciosos, chapados de metal precioso (plaqué) y manufacturas de estas materias; bisutería; monedas",
          "Perlas finas (naturales) o cultivadas, piedras preciosas o semipreciosas, metales preciosos, chapados de metal precioso (plaqué) y manufacturas de estas materias; bisutería; monedas",
          "Perlas finas (naturales) o cultivadas, piedras preciosas o semipreciosas, metales preciosos, chapados de metal precioso (plaqué) y manufacturas de estas materias; bisutería; monedas",
          "Perlas finas (naturales) o cultivadas, piedras preciosas o semipreciosas, metales preciosos, chapados de metal precioso (plaqué) y manufacturas de estas materias; bisutería; monedas",
          "Perlas finas (naturales) o cultivadas, piedras preciosas o semipreciosas, metales preciosos, chapados de metal precioso (plaqué) y manufacturas de estas materias; bisutería; monedas",
          "Metales comunes y manufacturas de esos metales",
          "Metales comunes y manufacturas de esos metales",
          "Metales comunes y manufacturas de esos metales",
          "Metales comunes y manufacturas de esos metales",
          "Metales comunes y manufacturas de esos metales",
          "Metales comunes y manufacturas de esos metales",
          "Metales comunes y manufacturas de esos metales",
          "Metales comunes y manufacturas de esos metales",
          "Metales comunes y manufacturas de esos metales",
          "Metales comunes y manufacturas de esos metales",
          "Metales comunes y manufacturas de esos metales",
          "Metales comunes y manufacturas de esos metales",
          "Metales comunes y manufacturas de esos metales",
          "Metales comunes y manufacturas de esos metales",
          "Metales comunes y manufacturas de esos metales",
          "Metales comunes y manufacturas de esos metales",
          "Metales comunes y manufacturas de esos metales",
          "Metales comunes y manufacturas de esos metales",
          "Metales comunes y manufacturas de esos metales",
          "Metales comunes y manufacturas de esos metales",
          "Metales comunes y manufacturas de esos metales",
          "Metales comunes y manufacturas de esos metales",
          "Metales comunes y manufacturas de esos metales",
          "Metales comunes y manufacturas de esos metales",
          "Metales comunes y manufacturas de esos metales",
          "Metales comunes y manufacturas de esos metales",
          "Metales comunes y manufacturas de esos metales",
          "Metales comunes y manufacturas de esos metales",
          "Metales comunes y manufacturas de esos metales",
          "Metales comunes y manufacturas de esos metales",
          "Metales comunes y manufacturas de esos metales",
          "Metales comunes y manufacturas de esos metales",
          "Metales comunes y manufacturas de esos metales",
          "Metales comunes y manufacturas de esos metales",
          "Metales comunes y manufacturas de esos metales",
          "Metales comunes y manufacturas de esos metales",
          "Metales comunes y manufacturas de esos metales",
          "Metales comunes y manufacturas de esos metales",
          "Metales comunes y manufacturas de esos metales",
          "Metales comunes y manufacturas de esos metales",
          "Metales comunes y manufacturas de esos metales",
          "Metales comunes y manufacturas de esos metales",
          "Metales comunes y manufacturas de esos metales",
          "Metales comunes y manufacturas de esos metales",
          "Metales comunes y manufacturas de esos metales",
          "Metales comunes y manufacturas de esos metales",
          "Metales comunes y manufacturas de esos metales",
          "Metales comunes y manufacturas de esos metales",
          "Metales comunes y manufacturas de esos metales",
          "Metales comunes y manufacturas de esos metales",
          "Metales comunes y manufacturas de esos metales",
          "Metales comunes y manufacturas de esos metales",
          "Metales comunes y manufacturas de esos metales",
          "Metales comunes y manufacturas de esos metales",
          "Metales comunes y manufacturas de esos metales",
          "Metales comunes y manufacturas de esos metales",
          "Metales comunes y manufacturas de esos metales",
          "Metales comunes y manufacturas de esos metales",
          "Metales comunes y manufacturas de esos metales",
          "Metales comunes y manufacturas de esos metales",
          "Metales comunes y manufacturas de esos metales",
          "Metales comunes y manufacturas de esos metales",
          "Metales comunes y manufacturas de esos metales",
          "Metales comunes y manufacturas de esos metales",
          "Metales comunes y manufacturas de esos metales",
          "Metales comunes y manufacturas de esos metales",
          "Metales comunes y manufacturas de esos metales",
          "Metales comunes y manufacturas de esos metales",
          "Metales comunes y manufacturas de esos metales",
          "Metales comunes y manufacturas de esos metales",
          "Metales comunes y manufacturas de esos metales",
          "Metales comunes y manufacturas de esos metales",
          "Metales comunes y manufacturas de esos metales",
          "Metales comunes y manufacturas de esos metales",
          "Metales comunes y manufacturas de esos metales",
          "Metales comunes y manufacturas de esos metales",
          "Metales comunes y manufacturas de esos metales",
          "Metales comunes y manufacturas de esos metales",
          "Metales comunes y manufacturas de esos metales",
          "Metales comunes y manufacturas de esos metales",
          "Metales comunes y manufacturas de esos metales",
          "Metales comunes y manufacturas de esos metales",
          "Metales comunes y manufacturas de esos metales",
          "Metales comunes y manufacturas de esos metales",
          "Metales comunes y manufacturas de esos metales",
          "Metales comunes y manufacturas de esos metales",
          "Metales comunes y manufacturas de esos metales",
          "Metales comunes y manufacturas de esos metales",
          "Metales comunes y manufacturas de esos metales",
          "Metales comunes y manufacturas de esos metales",
          "Metales comunes y manufacturas de esos metales",
          "Metales comunes y manufacturas de esos metales",
          "Metales comunes y manufacturas de esos metales",
          "Metales comunes y manufacturas de esos metales",
          "Metales comunes y manufacturas de esos metales",
          "Metales comunes y manufacturas de esos metales",
          "Metales comunes y manufacturas de esos metales",
          "Metales comunes y manufacturas de esos metales",
          "Metales comunes y manufacturas de esos metales",
          "Metales comunes y manufacturas de esos metales",
          "Metales comunes y manufacturas de esos metales",
          "Metales comunes y manufacturas de esos metales",
          "Metales comunes y manufacturas de esos metales",
          "Metales comunes y manufacturas de esos metales",
          "Metales comunes y manufacturas de esos metales",
          "Metales comunes y manufacturas de esos metales",
          "Metales comunes y manufacturas de esos metales",
          "Metales comunes y manufacturas de esos metales",
          "Metales comunes y manufacturas de esos metales",
          "Metales comunes y manufacturas de esos metales",
          "Metales comunes y manufacturas de esos metales",
          "Metales comunes y manufacturas de esos metales",
          "Metales comunes y manufacturas de esos metales",
          "Metales comunes y manufacturas de esos metales",
          "Metales comunes y manufacturas de esos metales",
          "Metales comunes y manufacturas de esos metales",
          "Metales comunes y manufacturas de esos metales",
          "Metales comunes y manufacturas de esos metales",
          "Metales comunes y manufacturas de esos metales",
          "Metales comunes y manufacturas de esos metales",
          "Metales comunes y manufacturas de esos metales",
          "Metales comunes y manufacturas de esos metales",
          "Metales comunes y manufacturas de esos metales",
          "Metales comunes y manufacturas de esos metales",
          "Metales comunes y manufacturas de esos metales",
          "Máquinas y aparatos, material eléctrico y sus partes; aparatos de grabación o reproducción de sonido, aparatos de grabación o reproducción de imagen y sonido en televisión, y las partes y accesorios de estos aparatos",
          "Máquinas y aparatos, material eléctrico y sus partes; aparatos de grabación o reproducción de sonido, aparatos de grabación o reproducción de imagen y sonido en televisión, y las partes y accesorios de estos aparatos",
          "Máquinas y aparatos, material eléctrico y sus partes; aparatos de grabación o reproducción de sonido, aparatos de grabación o reproducción de imagen y sonido en televisión, y las partes y accesorios de estos aparatos",
          "Máquinas y aparatos, material eléctrico y sus partes; aparatos de grabación o reproducción de sonido, aparatos de grabación o reproducción de imagen y sonido en televisión, y las partes y accesorios de estos aparatos",
          "Máquinas y aparatos, material eléctrico y sus partes; aparatos de grabación o reproducción de sonido, aparatos de grabación o reproducción de imagen y sonido en televisión, y las partes y accesorios de estos aparatos",
          "Máquinas y aparatos, material eléctrico y sus partes; aparatos de grabación o reproducción de sonido, aparatos de grabación o reproducción de imagen y sonido en televisión, y las partes y accesorios de estos aparatos",
          "Máquinas y aparatos, material eléctrico y sus partes; aparatos de grabación o reproducción de sonido, aparatos de grabación o reproducción de imagen y sonido en televisión, y las partes y accesorios de estos aparatos",
          "Máquinas y aparatos, material eléctrico y sus partes; aparatos de grabación o reproducción de sonido, aparatos de grabación o reproducción de imagen y sonido en televisión, y las partes y accesorios de estos aparatos",
          "Máquinas y aparatos, material eléctrico y sus partes; aparatos de grabación o reproducción de sonido, aparatos de grabación o reproducción de imagen y sonido en televisión, y las partes y accesorios de estos aparatos",
          "Máquinas y aparatos, material eléctrico y sus partes; aparatos de grabación o reproducción de sonido, aparatos de grabación o reproducción de imagen y sonido en televisión, y las partes y accesorios de estos aparatos",
          "Máquinas y aparatos, material eléctrico y sus partes; aparatos de grabación o reproducción de sonido, aparatos de grabación o reproducción de imagen y sonido en televisión, y las partes y accesorios de estos aparatos",
          "Máquinas y aparatos, material eléctrico y sus partes; aparatos de grabación o reproducción de sonido, aparatos de grabación o reproducción de imagen y sonido en televisión, y las partes y accesorios de estos aparatos",
          "Máquinas y aparatos, material eléctrico y sus partes; aparatos de grabación o reproducción de sonido, aparatos de grabación o reproducción de imagen y sonido en televisión, y las partes y accesorios de estos aparatos",
          "Máquinas y aparatos, material eléctrico y sus partes; aparatos de grabación o reproducción de sonido, aparatos de grabación o reproducción de imagen y sonido en televisión, y las partes y accesorios de estos aparatos",
          "Máquinas y aparatos, material eléctrico y sus partes; aparatos de grabación o reproducción de sonido, aparatos de grabación o reproducción de imagen y sonido en televisión, y las partes y accesorios de estos aparatos",
          "Máquinas y aparatos, material eléctrico y sus partes; aparatos de grabación o reproducción de sonido, aparatos de grabación o reproducción de imagen y sonido en televisión, y las partes y accesorios de estos aparatos",
          "Máquinas y aparatos, material eléctrico y sus partes; aparatos de grabación o reproducción de sonido, aparatos de grabación o reproducción de imagen y sonido en televisión, y las partes y accesorios de estos aparatos",
          "Máquinas y aparatos, material eléctrico y sus partes; aparatos de grabación o reproducción de sonido, aparatos de grabación o reproducción de imagen y sonido en televisión, y las partes y accesorios de estos aparatos",
          "Máquinas y aparatos, material eléctrico y sus partes; aparatos de grabación o reproducción de sonido, aparatos de grabación o reproducción de imagen y sonido en televisión, y las partes y accesorios de estos aparatos",
          "Máquinas y aparatos, material eléctrico y sus partes; aparatos de grabación o reproducción de sonido, aparatos de grabación o reproducción de imagen y sonido en televisión, y las partes y accesorios de estos aparatos",
          "Máquinas y aparatos, material eléctrico y sus partes; aparatos de grabación o reproducción de sonido, aparatos de grabación o reproducción de imagen y sonido en televisión, y las partes y accesorios de estos aparatos",
          "Máquinas y aparatos, material eléctrico y sus partes; aparatos de grabación o reproducción de sonido, aparatos de grabación o reproducción de imagen y sonido en televisión, y las partes y accesorios de estos aparatos",
          "Máquinas y aparatos, material eléctrico y sus partes; aparatos de grabación o reproducción de sonido, aparatos de grabación o reproducción de imagen y sonido en televisión, y las partes y accesorios de estos aparatos",
          "Máquinas y aparatos, material eléctrico y sus partes; aparatos de grabación o reproducción de sonido, aparatos de grabación o reproducción de imagen y sonido en televisión, y las partes y accesorios de estos aparatos",
          "Máquinas y aparatos, material eléctrico y sus partes; aparatos de grabación o reproducción de sonido, aparatos de grabación o reproducción de imagen y sonido en televisión, y las partes y accesorios de estos aparatos",
          "Máquinas y aparatos, material eléctrico y sus partes; aparatos de grabación o reproducción de sonido, aparatos de grabación o reproducción de imagen y sonido en televisión, y las partes y accesorios de estos aparatos",
          "Máquinas y aparatos, material eléctrico y sus partes; aparatos de grabación o reproducción de sonido, aparatos de grabación o reproducción de imagen y sonido en televisión, y las partes y accesorios de estos aparatos",
          "Máquinas y aparatos, material eléctrico y sus partes; aparatos de grabación o reproducción de sonido, aparatos de grabación o reproducción de imagen y sonido en televisión, y las partes y accesorios de estos aparatos",
          "Máquinas y aparatos, material eléctrico y sus partes; aparatos de grabación o reproducción de sonido, aparatos de grabación o reproducción de imagen y sonido en televisión, y las partes y accesorios de estos aparatos",
          "Máquinas y aparatos, material eléctrico y sus partes; aparatos de grabación o reproducción de sonido, aparatos de grabación o reproducción de imagen y sonido en televisión, y las partes y accesorios de estos aparatos",
          "Máquinas y aparatos, material eléctrico y sus partes; aparatos de grabación o reproducción de sonido, aparatos de grabación o reproducción de imagen y sonido en televisión, y las partes y accesorios de estos aparatos",
          "Máquinas y aparatos, material eléctrico y sus partes; aparatos de grabación o reproducción de sonido, aparatos de grabación o reproducción de imagen y sonido en televisión, y las partes y accesorios de estos aparatos",
          "Máquinas y aparatos, material eléctrico y sus partes; aparatos de grabación o reproducción de sonido, aparatos de grabación o reproducción de imagen y sonido en televisión, y las partes y accesorios de estos aparatos",
          "Máquinas y aparatos, material eléctrico y sus partes; aparatos de grabación o reproducción de sonido, aparatos de grabación o reproducción de imagen y sonido en televisión, y las partes y accesorios de estos aparatos",
          "Máquinas y aparatos, material eléctrico y sus partes; aparatos de grabación o reproducción de sonido, aparatos de grabación o reproducción de imagen y sonido en televisión, y las partes y accesorios de estos aparatos",
          "Máquinas y aparatos, material eléctrico y sus partes; aparatos de grabación o reproducción de sonido, aparatos de grabación o reproducción de imagen y sonido en televisión, y las partes y accesorios de estos aparatos",
          "Máquinas y aparatos, material eléctrico y sus partes; aparatos de grabación o reproducción de sonido, aparatos de grabación o reproducción de imagen y sonido en televisión, y las partes y accesorios de estos aparatos",
          "Máquinas y aparatos, material eléctrico y sus partes; aparatos de grabación o reproducción de sonido, aparatos de grabación o reproducción de imagen y sonido en televisión, y las partes y accesorios de estos aparatos",
          "Máquinas y aparatos, material eléctrico y sus partes; aparatos de grabación o reproducción de sonido, aparatos de grabación o reproducción de imagen y sonido en televisión, y las partes y accesorios de estos aparatos",
          "Máquinas y aparatos, material eléctrico y sus partes; aparatos de grabación o reproducción de sonido, aparatos de grabación o reproducción de imagen y sonido en televisión, y las partes y accesorios de estos aparatos",
          "Máquinas y aparatos, material eléctrico y sus partes; aparatos de grabación o reproducción de sonido, aparatos de grabación o reproducción de imagen y sonido en televisión, y las partes y accesorios de estos aparatos",
          "Máquinas y aparatos, material eléctrico y sus partes; aparatos de grabación o reproducción de sonido, aparatos de grabación o reproducción de imagen y sonido en televisión, y las partes y accesorios de estos aparatos",
          "Máquinas y aparatos, material eléctrico y sus partes; aparatos de grabación o reproducción de sonido, aparatos de grabación o reproducción de imagen y sonido en televisión, y las partes y accesorios de estos aparatos",
          "Máquinas y aparatos, material eléctrico y sus partes; aparatos de grabación o reproducción de sonido, aparatos de grabación o reproducción de imagen y sonido en televisión, y las partes y accesorios de estos aparatos",
          "Máquinas y aparatos, material eléctrico y sus partes; aparatos de grabación o reproducción de sonido, aparatos de grabación o reproducción de imagen y sonido en televisión, y las partes y accesorios de estos aparatos",
          "Máquinas y aparatos, material eléctrico y sus partes; aparatos de grabación o reproducción de sonido, aparatos de grabación o reproducción de imagen y sonido en televisión, y las partes y accesorios de estos aparatos",
          "Máquinas y aparatos, material eléctrico y sus partes; aparatos de grabación o reproducción de sonido, aparatos de grabación o reproducción de imagen y sonido en televisión, y las partes y accesorios de estos aparatos",
          "Máquinas y aparatos, material eléctrico y sus partes; aparatos de grabación o reproducción de sonido, aparatos de grabación o reproducción de imagen y sonido en televisión, y las partes y accesorios de estos aparatos",
          "Máquinas y aparatos, material eléctrico y sus partes; aparatos de grabación o reproducción de sonido, aparatos de grabación o reproducción de imagen y sonido en televisión, y las partes y accesorios de estos aparatos",
          "Máquinas y aparatos, material eléctrico y sus partes; aparatos de grabación o reproducción de sonido, aparatos de grabación o reproducción de imagen y sonido en televisión, y las partes y accesorios de estos aparatos",
          "Máquinas y aparatos, material eléctrico y sus partes; aparatos de grabación o reproducción de sonido, aparatos de grabación o reproducción de imagen y sonido en televisión, y las partes y accesorios de estos aparatos",
          "Máquinas y aparatos, material eléctrico y sus partes; aparatos de grabación o reproducción de sonido, aparatos de grabación o reproducción de imagen y sonido en televisión, y las partes y accesorios de estos aparatos",
          "Máquinas y aparatos, material eléctrico y sus partes; aparatos de grabación o reproducción de sonido, aparatos de grabación o reproducción de imagen y sonido en televisión, y las partes y accesorios de estos aparatos",
          "Máquinas y aparatos, material eléctrico y sus partes; aparatos de grabación o reproducción de sonido, aparatos de grabación o reproducción de imagen y sonido en televisión, y las partes y accesorios de estos aparatos",
          "Máquinas y aparatos, material eléctrico y sus partes; aparatos de grabación o reproducción de sonido, aparatos de grabación o reproducción de imagen y sonido en televisión, y las partes y accesorios de estos aparatos",
          "Máquinas y aparatos, material eléctrico y sus partes; aparatos de grabación o reproducción de sonido, aparatos de grabación o reproducción de imagen y sonido en televisión, y las partes y accesorios de estos aparatos",
          "Máquinas y aparatos, material eléctrico y sus partes; aparatos de grabación o reproducción de sonido, aparatos de grabación o reproducción de imagen y sonido en televisión, y las partes y accesorios de estos aparatos",
          "Máquinas y aparatos, material eléctrico y sus partes; aparatos de grabación o reproducción de sonido, aparatos de grabación o reproducción de imagen y sonido en televisión, y las partes y accesorios de estos aparatos",
          "Máquinas y aparatos, material eléctrico y sus partes; aparatos de grabación o reproducción de sonido, aparatos de grabación o reproducción de imagen y sonido en televisión, y las partes y accesorios de estos aparatos",
          "Máquinas y aparatos, material eléctrico y sus partes; aparatos de grabación o reproducción de sonido, aparatos de grabación o reproducción de imagen y sonido en televisión, y las partes y accesorios de estos aparatos",
          "Máquinas y aparatos, material eléctrico y sus partes; aparatos de grabación o reproducción de sonido, aparatos de grabación o reproducción de imagen y sonido en televisión, y las partes y accesorios de estos aparatos",
          "Máquinas y aparatos, material eléctrico y sus partes; aparatos de grabación o reproducción de sonido, aparatos de grabación o reproducción de imagen y sonido en televisión, y las partes y accesorios de estos aparatos",
          "Máquinas y aparatos, material eléctrico y sus partes; aparatos de grabación o reproducción de sonido, aparatos de grabación o reproducción de imagen y sonido en televisión, y las partes y accesorios de estos aparatos",
          "Máquinas y aparatos, material eléctrico y sus partes; aparatos de grabación o reproducción de sonido, aparatos de grabación o reproducción de imagen y sonido en televisión, y las partes y accesorios de estos aparatos",
          "Máquinas y aparatos, material eléctrico y sus partes; aparatos de grabación o reproducción de sonido, aparatos de grabación o reproducción de imagen y sonido en televisión, y las partes y accesorios de estos aparatos",
          "Máquinas y aparatos, material eléctrico y sus partes; aparatos de grabación o reproducción de sonido, aparatos de grabación o reproducción de imagen y sonido en televisión, y las partes y accesorios de estos aparatos",
          "Máquinas y aparatos, material eléctrico y sus partes; aparatos de grabación o reproducción de sonido, aparatos de grabación o reproducción de imagen y sonido en televisión, y las partes y accesorios de estos aparatos",
          "Máquinas y aparatos, material eléctrico y sus partes; aparatos de grabación o reproducción de sonido, aparatos de grabación o reproducción de imagen y sonido en televisión, y las partes y accesorios de estos aparatos",
          "Máquinas y aparatos, material eléctrico y sus partes; aparatos de grabación o reproducción de sonido, aparatos de grabación o reproducción de imagen y sonido en televisión, y las partes y accesorios de estos aparatos",
          "Máquinas y aparatos, material eléctrico y sus partes; aparatos de grabación o reproducción de sonido, aparatos de grabación o reproducción de imagen y sonido en televisión, y las partes y accesorios de estos aparatos",
          "Máquinas y aparatos, material eléctrico y sus partes; aparatos de grabación o reproducción de sonido, aparatos de grabación o reproducción de imagen y sonido en televisión, y las partes y accesorios de estos aparatos",
          "Máquinas y aparatos, material eléctrico y sus partes; aparatos de grabación o reproducción de sonido, aparatos de grabación o reproducción de imagen y sonido en televisión, y las partes y accesorios de estos aparatos",
          "Máquinas y aparatos, material eléctrico y sus partes; aparatos de grabación o reproducción de sonido, aparatos de grabación o reproducción de imagen y sonido en televisión, y las partes y accesorios de estos aparatos",
          "Máquinas y aparatos, material eléctrico y sus partes; aparatos de grabación o reproducción de sonido, aparatos de grabación o reproducción de imagen y sonido en televisión, y las partes y accesorios de estos aparatos",
          "Máquinas y aparatos, material eléctrico y sus partes; aparatos de grabación o reproducción de sonido, aparatos de grabación o reproducción de imagen y sonido en televisión, y las partes y accesorios de estos aparatos",
          "Máquinas y aparatos, material eléctrico y sus partes; aparatos de grabación o reproducción de sonido, aparatos de grabación o reproducción de imagen y sonido en televisión, y las partes y accesorios de estos aparatos",
          "Máquinas y aparatos, material eléctrico y sus partes; aparatos de grabación o reproducción de sonido, aparatos de grabación o reproducción de imagen y sonido en televisión, y las partes y accesorios de estos aparatos",
          "Máquinas y aparatos, material eléctrico y sus partes; aparatos de grabación o reproducción de sonido, aparatos de grabación o reproducción de imagen y sonido en televisión, y las partes y accesorios de estos aparatos",
          "Máquinas y aparatos, material eléctrico y sus partes; aparatos de grabación o reproducción de sonido, aparatos de grabación o reproducción de imagen y sonido en televisión, y las partes y accesorios de estos aparatos",
          "Máquinas y aparatos, material eléctrico y sus partes; aparatos de grabación o reproducción de sonido, aparatos de grabación o reproducción de imagen y sonido en televisión, y las partes y accesorios de estos aparatos",
          "Máquinas y aparatos, material eléctrico y sus partes; aparatos de grabación o reproducción de sonido, aparatos de grabación o reproducción de imagen y sonido en televisión, y las partes y accesorios de estos aparatos",
          "Máquinas y aparatos, material eléctrico y sus partes; aparatos de grabación o reproducción de sonido, aparatos de grabación o reproducción de imagen y sonido en televisión, y las partes y accesorios de estos aparatos",
          "Máquinas y aparatos, material eléctrico y sus partes; aparatos de grabación o reproducción de sonido, aparatos de grabación o reproducción de imagen y sonido en televisión, y las partes y accesorios de estos aparatos",
          "Máquinas y aparatos, material eléctrico y sus partes; aparatos de grabación o reproducción de sonido, aparatos de grabación o reproducción de imagen y sonido en televisión, y las partes y accesorios de estos aparatos",
          "Máquinas y aparatos, material eléctrico y sus partes; aparatos de grabación o reproducción de sonido, aparatos de grabación o reproducción de imagen y sonido en televisión, y las partes y accesorios de estos aparatos",
          "Máquinas y aparatos, material eléctrico y sus partes; aparatos de grabación o reproducción de sonido, aparatos de grabación o reproducción de imagen y sonido en televisión, y las partes y accesorios de estos aparatos",
          "Máquinas y aparatos, material eléctrico y sus partes; aparatos de grabación o reproducción de sonido, aparatos de grabación o reproducción de imagen y sonido en televisión, y las partes y accesorios de estos aparatos",
          "Máquinas y aparatos, material eléctrico y sus partes; aparatos de grabación o reproducción de sonido, aparatos de grabación o reproducción de imagen y sonido en televisión, y las partes y accesorios de estos aparatos",
          "Máquinas y aparatos, material eléctrico y sus partes; aparatos de grabación o reproducción de sonido, aparatos de grabación o reproducción de imagen y sonido en televisión, y las partes y accesorios de estos aparatos",
          "Máquinas y aparatos, material eléctrico y sus partes; aparatos de grabación o reproducción de sonido, aparatos de grabación o reproducción de imagen y sonido en televisión, y las partes y accesorios de estos aparatos",
          "Máquinas y aparatos, material eléctrico y sus partes; aparatos de grabación o reproducción de sonido, aparatos de grabación o reproducción de imagen y sonido en televisión, y las partes y accesorios de estos aparatos",
          "Máquinas y aparatos, material eléctrico y sus partes; aparatos de grabación o reproducción de sonido, aparatos de grabación o reproducción de imagen y sonido en televisión, y las partes y accesorios de estos aparatos",
          "Máquinas y aparatos, material eléctrico y sus partes; aparatos de grabación o reproducción de sonido, aparatos de grabación o reproducción de imagen y sonido en televisión, y las partes y accesorios de estos aparatos",
          "Máquinas y aparatos, material eléctrico y sus partes; aparatos de grabación o reproducción de sonido, aparatos de grabación o reproducción de imagen y sonido en televisión, y las partes y accesorios de estos aparatos",
          "Máquinas y aparatos, material eléctrico y sus partes; aparatos de grabación o reproducción de sonido, aparatos de grabación o reproducción de imagen y sonido en televisión, y las partes y accesorios de estos aparatos",
          "Máquinas y aparatos, material eléctrico y sus partes; aparatos de grabación o reproducción de sonido, aparatos de grabación o reproducción de imagen y sonido en televisión, y las partes y accesorios de estos aparatos",
          "Máquinas y aparatos, material eléctrico y sus partes; aparatos de grabación o reproducción de sonido, aparatos de grabación o reproducción de imagen y sonido en televisión, y las partes y accesorios de estos aparatos",
          "Máquinas y aparatos, material eléctrico y sus partes; aparatos de grabación o reproducción de sonido, aparatos de grabación o reproducción de imagen y sonido en televisión, y las partes y accesorios de estos aparatos",
          "Máquinas y aparatos, material eléctrico y sus partes; aparatos de grabación o reproducción de sonido, aparatos de grabación o reproducción de imagen y sonido en televisión, y las partes y accesorios de estos aparatos",
          "Máquinas y aparatos, material eléctrico y sus partes; aparatos de grabación o reproducción de sonido, aparatos de grabación o reproducción de imagen y sonido en televisión, y las partes y accesorios de estos aparatos",
          "Máquinas y aparatos, material eléctrico y sus partes; aparatos de grabación o reproducción de sonido, aparatos de grabación o reproducción de imagen y sonido en televisión, y las partes y accesorios de estos aparatos",
          "Máquinas y aparatos, material eléctrico y sus partes; aparatos de grabación o reproducción de sonido, aparatos de grabación o reproducción de imagen y sonido en televisión, y las partes y accesorios de estos aparatos",
          "Máquinas y aparatos, material eléctrico y sus partes; aparatos de grabación o reproducción de sonido, aparatos de grabación o reproducción de imagen y sonido en televisión, y las partes y accesorios de estos aparatos",
          "Máquinas y aparatos, material eléctrico y sus partes; aparatos de grabación o reproducción de sonido, aparatos de grabación o reproducción de imagen y sonido en televisión, y las partes y accesorios de estos aparatos",
          "Máquinas y aparatos, material eléctrico y sus partes; aparatos de grabación o reproducción de sonido, aparatos de grabación o reproducción de imagen y sonido en televisión, y las partes y accesorios de estos aparatos",
          "Máquinas y aparatos, material eléctrico y sus partes; aparatos de grabación o reproducción de sonido, aparatos de grabación o reproducción de imagen y sonido en televisión, y las partes y accesorios de estos aparatos",
          "Máquinas y aparatos, material eléctrico y sus partes; aparatos de grabación o reproducción de sonido, aparatos de grabación o reproducción de imagen y sonido en televisión, y las partes y accesorios de estos aparatos",
          "Máquinas y aparatos, material eléctrico y sus partes; aparatos de grabación o reproducción de sonido, aparatos de grabación o reproducción de imagen y sonido en televisión, y las partes y accesorios de estos aparatos",
          "Material de transporte",
          "Material de transporte",
          "Material de transporte",
          "Material de transporte",
          "Material de transporte",
          "Material de transporte",
          "Material de transporte",
          "Material de transporte",
          "Material de transporte",
          "Material de transporte",
          "Material de transporte",
          "Material de transporte",
          "Material de transporte",
          "Material de transporte",
          "Material de transporte",
          "Material de transporte",
          "Material de transporte",
          "Material de transporte",
          "Material de transporte",
          "Material de transporte",
          "Material de transporte",
          "Material de transporte",
          "Material de transporte",
          "Instrumentos y aparatos de óptica, fotografía o cinematografía, de medida, control o precisión; instrumentos y aparatos médicoquirúrgicos; aparatos de relojería; instrumentos musicales; partes y accesorios de estos instrumentos o aparatos",
          "Instrumentos y aparatos de óptica, fotografía o cinematografía, de medida, control o precisión; instrumentos y aparatos médicoquirúrgicos; aparatos de relojería; instrumentos musicales; partes y accesorios de estos instrumentos o aparatos",
          "Instrumentos y aparatos de óptica, fotografía o cinematografía, de medida, control o precisión; instrumentos y aparatos médicoquirúrgicos; aparatos de relojería; instrumentos musicales; partes y accesorios de estos instrumentos o aparatos",
          "Instrumentos y aparatos de óptica, fotografía o cinematografía, de medida, control o precisión; instrumentos y aparatos médicoquirúrgicos; aparatos de relojería; instrumentos musicales; partes y accesorios de estos instrumentos o aparatos",
          "Instrumentos y aparatos de óptica, fotografía o cinematografía, de medida, control o precisión; instrumentos y aparatos médicoquirúrgicos; aparatos de relojería; instrumentos musicales; partes y accesorios de estos instrumentos o aparatos",
          "Instrumentos y aparatos de óptica, fotografía o cinematografía, de medida, control o precisión; instrumentos y aparatos médicoquirúrgicos; aparatos de relojería; instrumentos musicales; partes y accesorios de estos instrumentos o aparatos",
          "Instrumentos y aparatos de óptica, fotografía o cinematografía, de medida, control o precisión; instrumentos y aparatos médicoquirúrgicos; aparatos de relojería; instrumentos musicales; partes y accesorios de estos instrumentos o aparatos",
          "Instrumentos y aparatos de óptica, fotografía o cinematografía, de medida, control o precisión; instrumentos y aparatos médicoquirúrgicos; aparatos de relojería; instrumentos musicales; partes y accesorios de estos instrumentos o aparatos",
          "Instrumentos y aparatos de óptica, fotografía o cinematografía, de medida, control o precisión; instrumentos y aparatos médicoquirúrgicos; aparatos de relojería; instrumentos musicales; partes y accesorios de estos instrumentos o aparatos",
          "Instrumentos y aparatos de óptica, fotografía o cinematografía, de medida, control o precisión; instrumentos y aparatos médicoquirúrgicos; aparatos de relojería; instrumentos musicales; partes y accesorios de estos instrumentos o aparatos",
          "Instrumentos y aparatos de óptica, fotografía o cinematografía, de medida, control o precisión; instrumentos y aparatos médicoquirúrgicos; aparatos de relojería; instrumentos musicales; partes y accesorios de estos instrumentos o aparatos",
          "Instrumentos y aparatos de óptica, fotografía o cinematografía, de medida, control o precisión; instrumentos y aparatos médicoquirúrgicos; aparatos de relojería; instrumentos musicales; partes y accesorios de estos instrumentos o aparatos",
          "Instrumentos y aparatos de óptica, fotografía o cinematografía, de medida, control o precisión; instrumentos y aparatos médicoquirúrgicos; aparatos de relojería; instrumentos musicales; partes y accesorios de estos instrumentos o aparatos",
          "Instrumentos y aparatos de óptica, fotografía o cinematografía, de medida, control o precisión; instrumentos y aparatos médicoquirúrgicos; aparatos de relojería; instrumentos musicales; partes y accesorios de estos instrumentos o aparatos",
          "Instrumentos y aparatos de óptica, fotografía o cinematografía, de medida, control o precisión; instrumentos y aparatos médicoquirúrgicos; aparatos de relojería; instrumentos musicales; partes y accesorios de estos instrumentos o aparatos",
          "Instrumentos y aparatos de óptica, fotografía o cinematografía, de medida, control o precisión; instrumentos y aparatos médicoquirúrgicos; aparatos de relojería; instrumentos musicales; partes y accesorios de estos instrumentos o aparatos",
          "Instrumentos y aparatos de óptica, fotografía o cinematografía, de medida, control o precisión; instrumentos y aparatos médicoquirúrgicos; aparatos de relojería; instrumentos musicales; partes y accesorios de estos instrumentos o aparatos",
          "Instrumentos y aparatos de óptica, fotografía o cinematografía, de medida, control o precisión; instrumentos y aparatos médicoquirúrgicos; aparatos de relojería; instrumentos musicales; partes y accesorios de estos instrumentos o aparatos",
          "Instrumentos y aparatos de óptica, fotografía o cinematografía, de medida, control o precisión; instrumentos y aparatos médicoquirúrgicos; aparatos de relojería; instrumentos musicales; partes y accesorios de estos instrumentos o aparatos",
          "Instrumentos y aparatos de óptica, fotografía o cinematografía, de medida, control o precisión; instrumentos y aparatos médicoquirúrgicos; aparatos de relojería; instrumentos musicales; partes y accesorios de estos instrumentos o aparatos",
          "Instrumentos y aparatos de óptica, fotografía o cinematografía, de medida, control o precisión; instrumentos y aparatos médicoquirúrgicos; aparatos de relojería; instrumentos musicales; partes y accesorios de estos instrumentos o aparatos",
          "Instrumentos y aparatos de óptica, fotografía o cinematografía, de medida, control o precisión; instrumentos y aparatos médicoquirúrgicos; aparatos de relojería; instrumentos musicales; partes y accesorios de estos instrumentos o aparatos",
          "Instrumentos y aparatos de óptica, fotografía o cinematografía, de medida, control o precisión; instrumentos y aparatos médicoquirúrgicos; aparatos de relojería; instrumentos musicales; partes y accesorios de estos instrumentos o aparatos",
          "Instrumentos y aparatos de óptica, fotografía o cinematografía, de medida, control o precisión; instrumentos y aparatos médicoquirúrgicos; aparatos de relojería; instrumentos musicales; partes y accesorios de estos instrumentos o aparatos",
          "Instrumentos y aparatos de óptica, fotografía o cinematografía, de medida, control o precisión; instrumentos y aparatos médicoquirúrgicos; aparatos de relojería; instrumentos musicales; partes y accesorios de estos instrumentos o aparatos",
          "Instrumentos y aparatos de óptica, fotografía o cinematografía, de medida, control o precisión; instrumentos y aparatos médicoquirúrgicos; aparatos de relojería; instrumentos musicales; partes y accesorios de estos instrumentos o aparatos",
          "Instrumentos y aparatos de óptica, fotografía o cinematografía, de medida, control o precisión; instrumentos y aparatos médicoquirúrgicos; aparatos de relojería; instrumentos musicales; partes y accesorios de estos instrumentos o aparatos",
          "Instrumentos y aparatos de óptica, fotografía o cinematografía, de medida, control o precisión; instrumentos y aparatos médicoquirúrgicos; aparatos de relojería; instrumentos musicales; partes y accesorios de estos instrumentos o aparatos",
          "Instrumentos y aparatos de óptica, fotografía o cinematografía, de medida, control o precisión; instrumentos y aparatos médicoquirúrgicos; aparatos de relojería; instrumentos musicales; partes y accesorios de estos instrumentos o aparatos",
          "Instrumentos y aparatos de óptica, fotografía o cinematografía, de medida, control o precisión; instrumentos y aparatos médicoquirúrgicos; aparatos de relojería; instrumentos musicales; partes y accesorios de estos instrumentos o aparatos",
          "Instrumentos y aparatos de óptica, fotografía o cinematografía, de medida, control o precisión; instrumentos y aparatos médicoquirúrgicos; aparatos de relojería; instrumentos musicales; partes y accesorios de estos instrumentos o aparatos",
          "Instrumentos y aparatos de óptica, fotografía o cinematografía, de medida, control o precisión; instrumentos y aparatos médicoquirúrgicos; aparatos de relojería; instrumentos musicales; partes y accesorios de estos instrumentos o aparatos",
          "Instrumentos y aparatos de óptica, fotografía o cinematografía, de medida, control o precisión; instrumentos y aparatos médicoquirúrgicos; aparatos de relojería; instrumentos musicales; partes y accesorios de estos instrumentos o aparatos",
          "Instrumentos y aparatos de óptica, fotografía o cinematografía, de medida, control o precisión; instrumentos y aparatos médicoquirúrgicos; aparatos de relojería; instrumentos musicales; partes y accesorios de estos instrumentos o aparatos",
          "Instrumentos y aparatos de óptica, fotografía o cinematografía, de medida, control o precisión; instrumentos y aparatos médicoquirúrgicos; aparatos de relojería; instrumentos musicales; partes y accesorios de estos instrumentos o aparatos",
          "Instrumentos y aparatos de óptica, fotografía o cinematografía, de medida, control o precisión; instrumentos y aparatos médicoquirúrgicos; aparatos de relojería; instrumentos musicales; partes y accesorios de estos instrumentos o aparatos",
          "Instrumentos y aparatos de óptica, fotografía o cinematografía, de medida, control o precisión; instrumentos y aparatos médicoquirúrgicos; aparatos de relojería; instrumentos musicales; partes y accesorios de estos instrumentos o aparatos",
          "Instrumentos y aparatos de óptica, fotografía o cinematografía, de medida, control o precisión; instrumentos y aparatos médicoquirúrgicos; aparatos de relojería; instrumentos musicales; partes y accesorios de estos instrumentos o aparatos",
          "Instrumentos y aparatos de óptica, fotografía o cinematografía, de medida, control o precisión; instrumentos y aparatos médicoquirúrgicos; aparatos de relojería; instrumentos musicales; partes y accesorios de estos instrumentos o aparatos",
          "Instrumentos y aparatos de óptica, fotografía o cinematografía, de medida, control o precisión; instrumentos y aparatos médicoquirúrgicos; aparatos de relojería; instrumentos musicales; partes y accesorios de estos instrumentos o aparatos",
          "Instrumentos y aparatos de óptica, fotografía o cinematografía, de medida, control o precisión; instrumentos y aparatos médicoquirúrgicos; aparatos de relojería; instrumentos musicales; partes y accesorios de estos instrumentos o aparatos",
          "Instrumentos y aparatos de óptica, fotografía o cinematografía, de medida, control o precisión; instrumentos y aparatos médicoquirúrgicos; aparatos de relojería; instrumentos musicales; partes y accesorios de estos instrumentos o aparatos",
          "Instrumentos y aparatos de óptica, fotografía o cinematografía, de medida, control o precisión; instrumentos y aparatos médicoquirúrgicos; aparatos de relojería; instrumentos musicales; partes y accesorios de estos instrumentos o aparatos",
          "Instrumentos y aparatos de óptica, fotografía o cinematografía, de medida, control o precisión; instrumentos y aparatos médicoquirúrgicos; aparatos de relojería; instrumentos musicales; partes y accesorios de estos instrumentos o aparatos",
          "Armas, municiones, y sus partes y accesorios",
          "Mercancías y productos diversos",
          "Mercancías y productos diversos",
          "Mercancías y productos diversos",
          "Mercancías y productos diversos",
          "Mercancías y productos diversos",
          "Mercancías y productos diversos",
          "Mercancías y productos diversos",
          "Mercancías y productos diversos",
          "Mercancías y productos diversos",
          "Mercancías y productos diversos",
          "Mercancías y productos diversos",
          "Mercancías y productos diversos",
          "Mercancías y productos diversos",
          "Mercancías y productos diversos",
          "Mercancías y productos diversos",
          "Mercancías y productos diversos",
          "Mercancías y productos diversos",
          "Mercancías y productos diversos",
          "Mercancías y productos diversos",
          "Mercancías y productos diversos",
          "Mercancías y productos diversos",
          "Mercancías y productos diversos",
          "Mercancías y productos diversos",
          "Mercancías y productos diversos",
          "Mercancías y productos diversos",
          "Mercancías y productos diversos",
          "Mercancías y productos diversos",
          "Mercancías y productos diversos",
          "Mercancías y productos diversos",
          "Mercancías y productos diversos",
          "Objetos de arte o colección y antigüedades",
          "Objetos de arte o colección y antigüedades",
          "Objetos de arte o colección y antigüedades",
          "Objetos de arte o colección y antigüedades",
          "",
          "",
          "",
          "",
          "",
          "",
          "",
          "",
          "",
          "",
          "",
          "",
          "",
          "",
          "",
          "",
          "",
          "",
          "",
          "",
          ""
         ],
         "type": "treemap",
         "values": [
          2.9,
          824.13,
          5.56,
          1159.48,
          192.2,
          696.88,
          6.49,
          3.44,
          86.50999999999999,
          0.91,
          0.56,
          0.26,
          207.11,
          94.52000000000001,
          78.49,
          6.25,
          504.32,
          96.91,
          20.83,
          2.86,
          70.76,
          16.55,
          0.06,
          57.51,
          24.79,
          61.209999999999994,
          21.99,
          1.6400000000000001,
          1.96,
          18.15,
          0.04,
          20.990000000000002,
          38.95,
          25.89,
          1.04,
          2156,
          367.8,
          474.24,
          304.4,
          86.01,
          552.52,
          115.13000000000001,
          2562.48,
          491.66,
          9.5,
          11.24,
          154.57,
          28.09,
          14.35,
          855.45,
          257.67,
          3122.47,
          562.48,
          284.09,
          514.93,
          0.99,
          2.32,
          1105.2,
          249.75,
          0.02,
          9.04,
          7.73,
          275.27,
          1.11,
          61.8,
          0.4,
          0.05,
          0.01,
          0.01,
          0.08,
          8.12,
          186.17000000000002,
          0.02,
          0.06,
          218.41,
          7.83,
          0.09,
          0.01,
          13.96,
          102.64,
          23.17,
          0.83,
          0.15,
          1.63,
          0.12,
          18.02,
          1.53,
          2.68,
          0.23,
          0.05,
          36.839999999999996,
          0.26,
          20.33,
          57.79,
          2.76,
          16.31,
          0.24,
          101.50999999999999,
          0.01,
          50.61,
          1.04,
          14.7,
          0.59,
          6.1000000000000005,
          7.85,
          1.82,
          26.72,
          1.76,
          5.78,
          159.03,
          6.67,
          32.01,
          0.7,
          7.08,
          9.94,
          46.57,
          40.5,
          53.260000000000005,
          620.73,
          127.57,
          22.81,
          686.94,
          0.5800000000000001,
          0.04,
          5.22,
          0.98,
          640.97,
          368.28,
          246.84,
          1293.62,
          153.88,
          18.13,
          0.9299999999999999,
          93.16,
          144.01,
          13.28,
          32.11,
          517.01,
          501.74,
          142.42000000000002,
          93.22,
          330.87,
          50.14,
          0.34,
          289.61,
          70.49,
          449.69,
          3936.84,
          4.3999999999999995,
          1.54,
          1.92,
          1648.3,
          106.06,
          0.09,
          0.68,
          124.97,
          12.79,
          3.76,
          53.18,
          4.88,
          14.39,
          0.17,
          0.22000000000000003,
          5.79,
          0.02,
          43.46,
          2.2600000000000002,
          1.85,
          6.0200000000000005,
          2.28,
          91.51,
          12.08,
          25.73,
          6.26,
          154.27,
          0.01,
          110.33999999999999,
          16.25,
          15.860000000000001,
          2206.01,
          739.13,
          654.03,
          0.33,
          7.03,
          505.17,
          0.34,
          0.32,
          30.23,
          1.77,
          0.14,
          8.39,
          22361.22,
          1829.75,
          15.32,
          0.14,
          0.76,
          0.02,
          228.33999999999997,
          0.5,
          38.79,
          4.59,
          0.35,
          0.51,
          46.629999999999995,
          0.06,
          69.15,
          0.06,
          186.39,
          1.7,
          4.67,
          5.45,
          85.03,
          1.28,
          0.84,
          0.9299999999999999,
          0.16999999999999998,
          1.16,
          4.32,
          42.650000000000006,
          35.47,
          0.65,
          0.11,
          5.76,
          0.08,
          144.95000000000002,
          2.86,
          30.099999999999998,
          10.670000000000002,
          0.06,
          1.31,
          0.23,
          0.6799999999999999,
          0.73,
          0.01,
          0.7,
          0.04,
          0.53,
          2.57,
          0.27,
          15.46,
          34.58,
          20.29,
          0.09,
          31.24,
          1.62,
          0.4,
          9.43,
          3.74,
          0.84,
          12,
          39.76,
          234.67000000000002,
          99.85,
          494.26,
          61.22,
          0.74,
          8.24,
          23.05,
          10.34,
          5.04,
          1.02,
          0.1,
          3.4000000000000004,
          0.06,
          0.34,
          0.45999999999999996,
          13,
          1,
          89.72,
          145.55,
          138.34,
          0.88,
          8.49,
          20.97,
          2.18,
          3.6500000000000004,
          0.13999999999999999,
          34.5,
          0.37,
          129.22,
          1.7,
          820.28,
          131.12,
          78.96,
          6.53,
          9.98,
          0.11,
          0.67,
          184.59,
          0.01,
          0.81,
          15.05,
          115.03,
          1.82,
          172.07,
          43.3,
          73.91,
          34.769999999999996,
          0.22000000000000003,
          0.01,
          6.0200000000000005,
          3.09,
          62.730000000000004,
          25.15,
          96.14,
          198.17,
          113.65,
          261.36,
          474.96000000000004,
          255.54000000000002,
          394.56,
          157.71,
          448.59999999999997,
          12.86,
          17.11,
          18.59,
          36.38,
          9.91,
          2.88,
          4.9,
          9.45,
          88.81,
          39.099999999999994,
          22.93,
          88.26,
          0.22,
          0.08,
          0.06999999999999999,
          8.120000000000001,
          2.68,
          0.12,
          0.51,
          5.41,
          55.71,
          44.83,
          2,
          7.87,
          17.06,
          220.6,
          108.5,
          28.470000000000002,
          89.71,
          42.44,
          1.11,
          4.75,
          8.14,
          15.01,
          2.8899999999999997,
          2.49,
          3.97,
          9,
          1.14,
          161.93,
          14.8,
          411.37,
          46.96,
          485.32,
          84.41,
          4.58,
          67.71000000000001,
          561.84,
          30.229999999999997,
          38,
          6.34,
          30.34,
          27.009999999999998,
          2.46,
          1.42,
          106.94999999999999,
          19.1,
          3.4000000000000004,
          595.24,
          278.77,
          39.64,
          212.17,
          292.09,
          3.23,
          176.8,
          1.53,
          54.14,
          0.5,
          19.71,
          555.8100000000001,
          144.77,
          1033.44,
          51.01,
          1.57,
          22.58,
          5.5,
          0.41000000000000003,
          0.75,
          71.2,
          0.51,
          0.04,
          134.25,
          2.23,
          3.4899999999999998,
          3.58,
          16.18,
          173.45,
          31.439999999999998,
          160.94,
          0.06,
          0.12,
          0.01,
          5.59,
          33.71,
          8.940000000000001,
          0.5,
          6.76,
          2.43,
          99.26,
          12.17,
          12.36,
          8.91,
          4.909999999999999,
          59.709999999999994,
          2.51,
          4.27,
          91.29,
          4.57,
          5.88,
          150.52,
          1.47,
          0.33,
          1.01,
          13.54,
          12.01,
          0.01,
          26.83,
          85.63,
          29.43,
          12.14,
          28.93,
          0.07,
          5.6899999999999995,
          3.09,
          27.96,
          220.7,
          1.97,
          1.7000000000000002,
          0.12,
          2.41,
          80.46,
          159.41,
          429.58,
          143.4,
          95.77000000000001,
          2.3200000000000003,
          100.9,
          5.04,
          0.95,
          19.58,
          9.48,
          4.81,
          169.2,
          0.1,
          11.64,
          16.939999999999998,
          108.51,
          1.49,
          37.35,
          0.52,
          24.81,
          0.87,
          3.93,
          7,
          108.28999999999999,
          0.48000000000000004,
          58.56,
          0.03,
          0.11,
          0.25,
          0.11,
          0.01,
          13.35,
          118.42,
          0.88,
          14.82,
          2.85,
          38.75,
          0.22,
          0.54,
          15.41,
          5.25,
          1.37,
          1.4100000000000001,
          24.119999999999997,
          0.12,
          29.92,
          0.78,
          4.54,
          12.77,
          1.4000000000000001,
          31.549999999999997,
          25.69,
          89.95,
          0.8,
          1.08,
          0.85,
          33.07,
          15.99,
          9.950000000000001,
          0.02,
          0.44,
          78.56,
          3.48,
          1.36,
          3.17,
          0.73,
          35.980000000000004,
          8.61,
          17.55,
          11.76,
          4.66,
          4.8,
          24.82,
          123.99000000000001,
          11.38,
          0.39,
          0.09,
          3.86,
          4.43,
          108.63,
          3.09,
          0.05,
          1.41,
          3.9699999999999998,
          8.09,
          31.01,
          28.99,
          5.19,
          32.33,
          71.69,
          48.56,
          65.95,
          18.3,
          45.9,
          928.5200000000001,
          239.24,
          3.45,
          14.96,
          2.5,
          45.699999999999996,
          97.87,
          16.34,
          7.89,
          88.22,
          11.07,
          1262.17,
          202.47,
          155.6,
          19.18,
          1.76,
          0.81,
          1.4000000000000001,
          111.41999999999999,
          274.12,
          21.3,
          0.08,
          1.76,
          0.3,
          0.98,
          37.14,
          20.259999999999998,
          56.22,
          388.26,
          42.75,
          86.22,
          7.11,
          521.34,
          0.05,
          14.89,
          8.45,
          36.5,
          374.55,
          30.509999999999998,
          2.71,
          44.339999999999996,
          17.52,
          76.77000000000001,
          61.25,
          14.440000000000001,
          3.66,
          0.05,
          0.54,
          5.61,
          0.8700000000000001,
          0.44,
          44.64,
          0.05,
          43.8,
          151.1,
          38.17,
          29.51,
          3.4,
          122.38,
          171.08,
          26.27,
          1.13,
          15.29,
          0.11,
          168.44,
          0.13,
          12.379999999999999,
          98.33,
          33.27,
          5.77,
          0.01,
          5.05,
          300.74,
          469.15,
          4.44,
          22.49,
          31.13,
          6.94,
          0.35,
          0.39,
          6.5,
          0.01,
          25.35,
          9.86,
          272.74,
          134.92,
          140.01999999999998,
          503.53999999999996,
          0.15000000000000002,
          78.89,
          0.08,
          0.88,
          17.01,
          41.019999999999996,
          1.71,
          372.36,
          3.4,
          30.99,
          1.32,
          1.55,
          1844.94,
          0.83,
          3234.32,
          200.76999999999998,
          289.53000000000003,
          0.2,
          9.01,
          3.63,
          21.53,
          20.59,
          58.1,
          287.08,
          0.26,
          2.94,
          749.6,
          88.2,
          158.01,
          286.40999999999997,
          49.02,
          21.2,
          175.65,
          136.98000000000002,
          3.0200000000000005,
          181.37,
          126.16000000000001,
          0.07,
          85.78,
          9.31,
          6.1,
          8.82,
          78.52,
          16.21,
          11.39,
          0.6,
          27.37,
          17.67,
          0.12000000000000001,
          0.74,
          1.06,
          550.85,
          60.45,
          374.79,
          1150.99,
          70.53,
          117.54,
          93.53,
          55.72,
          12.59,
          148.82,
          35.980000000000004,
          0.21000000000000002,
          36.15,
          0.47000000000000003,
          659.96,
          535.51,
          399.15,
          30.53,
          52.44,
          45.4,
          37.22,
          740.76,
          502.85,
          48.63,
          114.73,
          23.45,
          14.1,
          164.9,
          83.59,
          14.31,
          14.629999999999999,
          4.98,
          37.7,
          30.28,
          0.03,
          5.42,
          9.04,
          104.86,
          10.059999999999999,
          343.2,
          139.39,
          3.88,
          21.78,
          9.42,
          48.08,
          22.02,
          166.58,
          145.18,
          0.33999999999999997,
          38.87,
          12.36,
          426.21000000000004,
          349.19,
          7.63,
          1.19,
          0.52,
          14.43,
          4.5,
          3.3,
          12.44,
          0.26,
          8.09,
          0.12,
          3.9,
          13.39,
          0.73,
          1.11,
          2.05,
          48.489999999999995,
          3.46,
          0.19,
          4.3,
          82.72,
          22.11,
          26.07,
          16.98,
          1.46,
          176.07,
          15.05,
          43.14,
          2.07,
          11.61,
          487.49,
          1.62,
          19.58,
          1.3599999999999999,
          1071.09,
          119.33,
          0.09000000000000001,
          1.9100000000000001,
          10.34,
          26.82,
          14.32,
          317.74,
          17.03,
          31.86,
          21.1,
          3.36,
          23.07,
          3.55,
          15.98,
          3957.44,
          1827.3,
          3810.95,
          1.93,
          3476.9300000000003,
          164.03,
          3957.71,
          40.93,
          33.56,
          4610.200000000001,
          1215.51,
          2.75,
          47.97,
          86.3,
          474.98,
          61.29,
          8.88,
          167.51,
          312.35,
          13.15,
          224.87,
          69.52,
          316.11,
          5.11,
          0.02,
          15.22,
          2.9699999999999998,
          30.66,
          19.04,
          0.4,
          9.94,
          5.88,
          754.55,
          0.31,
          0.58,
          0.21,
          1.46,
          2.02,
          0.41,
          365.8,
          853.14,
          16.74,
          0.99,
          3.28,
          6.17,
          36.519999999999996,
          10,
          10.53,
          4.23,
          5.85,
          15.93,
          38.94,
          3.8499999999999996,
          2.85,
          25.73,
          82.21,
          679.71,
          36.69,
          237.63,
          194.3,
          1033.87,
          67.89,
          112.69,
          24.880000000000003,
          58.58,
          266.94,
          115.01,
          111.08,
          176.73,
          12.62,
          687.97,
          67.88,
          29.53,
          1406.68,
          167.9,
          157.8,
          13.37,
          1724.07,
          2865.8999999999996,
          7.209999999999999,
          34.46,
          163.23,
          1334.8400000000001,
          1768.04,
          27.3,
          35.19,
          2.02,
          599.52,
          1004.44,
          1832.25,
          12181.85,
          477.56,
          132.43,
          951.12,
          514.36,
          116.06,
          437.95,
          44.92,
          2.74,
          158.93,
          43.04,
          37.57,
          204.78,
          3349.42,
          317.82,
          0.68,
          12.89,
          9844.410000000002,
          93.16,
          44748.22,
          25387.9,
          20.06,
          0.68,
          93.62,
          8.16,
          105.79,
          52.44,
          88.35,
          0.14,
          2111.04,
          4.36,
          594.8399999999999,
          7.25,
          469.66,
          0.46,
          0.65,
          469.01,
          19.950000000000003,
          2.62,
          101.61,
          4.369999999999999,
          1.21,
          0.06,
          0.14,
          0.34,
          1.11,
          0.67,
          810.51,
          199.84,
          38.66,
          0.060000000000000005,
          17.85,
          7726.86,
          645.13,
          20.67,
          1254.6899999999998,
          270.31,
          21.09,
          5.54,
          198.3,
          539.81,
          1169.27,
          1116.91,
          201.53,
          19.09,
          6.470000000000001,
          10.55,
          6.78,
          1.28,
          3.8,
          82.03,
          0.01,
          0.24,
          1.73,
          48.56,
          0.06999999999999999,
          0.16,
          41.48,
          0.02,
          8.39,
          28.12,
          6127.31,
          165.41,
          291.02,
          2049.75,
          33.71,
          608.1,
          256.47,
          47.38,
          470.53999999999996,
          15.56,
          1.69,
          0.18,
          62.5,
          131.76,
          0.07,
          0.13,
          5.8,
          3.1799999999999997,
          356.57,
          40.31,
          0.95,
          0.15,
          28.81,
          28.36,
          0.06,
          1.41,
          13.82,
          22.11,
          12.72,
          443.71,
          1.89,
          0.02,
          1.01,
          0.02,
          4265.23,
          28.12,
          677.77,
          271.84999999999997,
          15068.78,
          530.64,
          3414.82,
          87312,
          6373.4400000000005,
          11219.54,
          13355.369999999999,
          59642.3,
          2.94,
          1679.59,
          5659.21,
          598.25,
          5416.35,
          12907.23,
          7832.69,
          15598.15,
          29155.27
         ]
        }
       ],
       "layout": {
        "legend": {
         "tracegroupgap": 0
        },
        "template": {
         "data": {
          "bar": [
           {
            "error_x": {
             "color": "#2a3f5f"
            },
            "error_y": {
             "color": "#2a3f5f"
            },
            "marker": {
             "line": {
              "color": "#E5ECF6",
              "width": 0.5
             },
             "pattern": {
              "fillmode": "overlay",
              "size": 10,
              "solidity": 0.2
             }
            },
            "type": "bar"
           }
          ],
          "barpolar": [
           {
            "marker": {
             "line": {
              "color": "#E5ECF6",
              "width": 0.5
             },
             "pattern": {
              "fillmode": "overlay",
              "size": 10,
              "solidity": 0.2
             }
            },
            "type": "barpolar"
           }
          ],
          "carpet": [
           {
            "aaxis": {
             "endlinecolor": "#2a3f5f",
             "gridcolor": "white",
             "linecolor": "white",
             "minorgridcolor": "white",
             "startlinecolor": "#2a3f5f"
            },
            "baxis": {
             "endlinecolor": "#2a3f5f",
             "gridcolor": "white",
             "linecolor": "white",
             "minorgridcolor": "white",
             "startlinecolor": "#2a3f5f"
            },
            "type": "carpet"
           }
          ],
          "choropleth": [
           {
            "colorbar": {
             "outlinewidth": 0,
             "ticks": ""
            },
            "type": "choropleth"
           }
          ],
          "contour": [
           {
            "colorbar": {
             "outlinewidth": 0,
             "ticks": ""
            },
            "colorscale": [
             [
              0,
              "#0d0887"
             ],
             [
              0.1111111111111111,
              "#46039f"
             ],
             [
              0.2222222222222222,
              "#7201a8"
             ],
             [
              0.3333333333333333,
              "#9c179e"
             ],
             [
              0.4444444444444444,
              "#bd3786"
             ],
             [
              0.5555555555555556,
              "#d8576b"
             ],
             [
              0.6666666666666666,
              "#ed7953"
             ],
             [
              0.7777777777777778,
              "#fb9f3a"
             ],
             [
              0.8888888888888888,
              "#fdca26"
             ],
             [
              1,
              "#f0f921"
             ]
            ],
            "type": "contour"
           }
          ],
          "contourcarpet": [
           {
            "colorbar": {
             "outlinewidth": 0,
             "ticks": ""
            },
            "type": "contourcarpet"
           }
          ],
          "heatmap": [
           {
            "colorbar": {
             "outlinewidth": 0,
             "ticks": ""
            },
            "colorscale": [
             [
              0,
              "#0d0887"
             ],
             [
              0.1111111111111111,
              "#46039f"
             ],
             [
              0.2222222222222222,
              "#7201a8"
             ],
             [
              0.3333333333333333,
              "#9c179e"
             ],
             [
              0.4444444444444444,
              "#bd3786"
             ],
             [
              0.5555555555555556,
              "#d8576b"
             ],
             [
              0.6666666666666666,
              "#ed7953"
             ],
             [
              0.7777777777777778,
              "#fb9f3a"
             ],
             [
              0.8888888888888888,
              "#fdca26"
             ],
             [
              1,
              "#f0f921"
             ]
            ],
            "type": "heatmap"
           }
          ],
          "heatmapgl": [
           {
            "colorbar": {
             "outlinewidth": 0,
             "ticks": ""
            },
            "colorscale": [
             [
              0,
              "#0d0887"
             ],
             [
              0.1111111111111111,
              "#46039f"
             ],
             [
              0.2222222222222222,
              "#7201a8"
             ],
             [
              0.3333333333333333,
              "#9c179e"
             ],
             [
              0.4444444444444444,
              "#bd3786"
             ],
             [
              0.5555555555555556,
              "#d8576b"
             ],
             [
              0.6666666666666666,
              "#ed7953"
             ],
             [
              0.7777777777777778,
              "#fb9f3a"
             ],
             [
              0.8888888888888888,
              "#fdca26"
             ],
             [
              1,
              "#f0f921"
             ]
            ],
            "type": "heatmapgl"
           }
          ],
          "histogram": [
           {
            "marker": {
             "pattern": {
              "fillmode": "overlay",
              "size": 10,
              "solidity": 0.2
             }
            },
            "type": "histogram"
           }
          ],
          "histogram2d": [
           {
            "colorbar": {
             "outlinewidth": 0,
             "ticks": ""
            },
            "colorscale": [
             [
              0,
              "#0d0887"
             ],
             [
              0.1111111111111111,
              "#46039f"
             ],
             [
              0.2222222222222222,
              "#7201a8"
             ],
             [
              0.3333333333333333,
              "#9c179e"
             ],
             [
              0.4444444444444444,
              "#bd3786"
             ],
             [
              0.5555555555555556,
              "#d8576b"
             ],
             [
              0.6666666666666666,
              "#ed7953"
             ],
             [
              0.7777777777777778,
              "#fb9f3a"
             ],
             [
              0.8888888888888888,
              "#fdca26"
             ],
             [
              1,
              "#f0f921"
             ]
            ],
            "type": "histogram2d"
           }
          ],
          "histogram2dcontour": [
           {
            "colorbar": {
             "outlinewidth": 0,
             "ticks": ""
            },
            "colorscale": [
             [
              0,
              "#0d0887"
             ],
             [
              0.1111111111111111,
              "#46039f"
             ],
             [
              0.2222222222222222,
              "#7201a8"
             ],
             [
              0.3333333333333333,
              "#9c179e"
             ],
             [
              0.4444444444444444,
              "#bd3786"
             ],
             [
              0.5555555555555556,
              "#d8576b"
             ],
             [
              0.6666666666666666,
              "#ed7953"
             ],
             [
              0.7777777777777778,
              "#fb9f3a"
             ],
             [
              0.8888888888888888,
              "#fdca26"
             ],
             [
              1,
              "#f0f921"
             ]
            ],
            "type": "histogram2dcontour"
           }
          ],
          "mesh3d": [
           {
            "colorbar": {
             "outlinewidth": 0,
             "ticks": ""
            },
            "type": "mesh3d"
           }
          ],
          "parcoords": [
           {
            "line": {
             "colorbar": {
              "outlinewidth": 0,
              "ticks": ""
             }
            },
            "type": "parcoords"
           }
          ],
          "pie": [
           {
            "automargin": true,
            "type": "pie"
           }
          ],
          "scatter": [
           {
            "fillpattern": {
             "fillmode": "overlay",
             "size": 10,
             "solidity": 0.2
            },
            "type": "scatter"
           }
          ],
          "scatter3d": [
           {
            "line": {
             "colorbar": {
              "outlinewidth": 0,
              "ticks": ""
             }
            },
            "marker": {
             "colorbar": {
              "outlinewidth": 0,
              "ticks": ""
             }
            },
            "type": "scatter3d"
           }
          ],
          "scattercarpet": [
           {
            "marker": {
             "colorbar": {
              "outlinewidth": 0,
              "ticks": ""
             }
            },
            "type": "scattercarpet"
           }
          ],
          "scattergeo": [
           {
            "marker": {
             "colorbar": {
              "outlinewidth": 0,
              "ticks": ""
             }
            },
            "type": "scattergeo"
           }
          ],
          "scattergl": [
           {
            "marker": {
             "colorbar": {
              "outlinewidth": 0,
              "ticks": ""
             }
            },
            "type": "scattergl"
           }
          ],
          "scattermapbox": [
           {
            "marker": {
             "colorbar": {
              "outlinewidth": 0,
              "ticks": ""
             }
            },
            "type": "scattermapbox"
           }
          ],
          "scatterpolar": [
           {
            "marker": {
             "colorbar": {
              "outlinewidth": 0,
              "ticks": ""
             }
            },
            "type": "scatterpolar"
           }
          ],
          "scatterpolargl": [
           {
            "marker": {
             "colorbar": {
              "outlinewidth": 0,
              "ticks": ""
             }
            },
            "type": "scatterpolargl"
           }
          ],
          "scatterternary": [
           {
            "marker": {
             "colorbar": {
              "outlinewidth": 0,
              "ticks": ""
             }
            },
            "type": "scatterternary"
           }
          ],
          "surface": [
           {
            "colorbar": {
             "outlinewidth": 0,
             "ticks": ""
            },
            "colorscale": [
             [
              0,
              "#0d0887"
             ],
             [
              0.1111111111111111,
              "#46039f"
             ],
             [
              0.2222222222222222,
              "#7201a8"
             ],
             [
              0.3333333333333333,
              "#9c179e"
             ],
             [
              0.4444444444444444,
              "#bd3786"
             ],
             [
              0.5555555555555556,
              "#d8576b"
             ],
             [
              0.6666666666666666,
              "#ed7953"
             ],
             [
              0.7777777777777778,
              "#fb9f3a"
             ],
             [
              0.8888888888888888,
              "#fdca26"
             ],
             [
              1,
              "#f0f921"
             ]
            ],
            "type": "surface"
           }
          ],
          "table": [
           {
            "cells": {
             "fill": {
              "color": "#EBF0F8"
             },
             "line": {
              "color": "white"
             }
            },
            "header": {
             "fill": {
              "color": "#C8D4E3"
             },
             "line": {
              "color": "white"
             }
            },
            "type": "table"
           }
          ]
         },
         "layout": {
          "annotationdefaults": {
           "arrowcolor": "#2a3f5f",
           "arrowhead": 0,
           "arrowwidth": 1
          },
          "autotypenumbers": "strict",
          "coloraxis": {
           "colorbar": {
            "outlinewidth": 0,
            "ticks": ""
           }
          },
          "colorscale": {
           "diverging": [
            [
             0,
             "#8e0152"
            ],
            [
             0.1,
             "#c51b7d"
            ],
            [
             0.2,
             "#de77ae"
            ],
            [
             0.3,
             "#f1b6da"
            ],
            [
             0.4,
             "#fde0ef"
            ],
            [
             0.5,
             "#f7f7f7"
            ],
            [
             0.6,
             "#e6f5d0"
            ],
            [
             0.7,
             "#b8e186"
            ],
            [
             0.8,
             "#7fbc41"
            ],
            [
             0.9,
             "#4d9221"
            ],
            [
             1,
             "#276419"
            ]
           ],
           "sequential": [
            [
             0,
             "#0d0887"
            ],
            [
             0.1111111111111111,
             "#46039f"
            ],
            [
             0.2222222222222222,
             "#7201a8"
            ],
            [
             0.3333333333333333,
             "#9c179e"
            ],
            [
             0.4444444444444444,
             "#bd3786"
            ],
            [
             0.5555555555555556,
             "#d8576b"
            ],
            [
             0.6666666666666666,
             "#ed7953"
            ],
            [
             0.7777777777777778,
             "#fb9f3a"
            ],
            [
             0.8888888888888888,
             "#fdca26"
            ],
            [
             1,
             "#f0f921"
            ]
           ],
           "sequentialminus": [
            [
             0,
             "#0d0887"
            ],
            [
             0.1111111111111111,
             "#46039f"
            ],
            [
             0.2222222222222222,
             "#7201a8"
            ],
            [
             0.3333333333333333,
             "#9c179e"
            ],
            [
             0.4444444444444444,
             "#bd3786"
            ],
            [
             0.5555555555555556,
             "#d8576b"
            ],
            [
             0.6666666666666666,
             "#ed7953"
            ],
            [
             0.7777777777777778,
             "#fb9f3a"
            ],
            [
             0.8888888888888888,
             "#fdca26"
            ],
            [
             1,
             "#f0f921"
            ]
           ]
          },
          "colorway": [
           "#636efa",
           "#EF553B",
           "#00cc96",
           "#ab63fa",
           "#FFA15A",
           "#19d3f3",
           "#FF6692",
           "#B6E880",
           "#FF97FF",
           "#FECB52"
          ],
          "font": {
           "color": "#2a3f5f"
          },
          "geo": {
           "bgcolor": "white",
           "lakecolor": "white",
           "landcolor": "#E5ECF6",
           "showlakes": true,
           "showland": true,
           "subunitcolor": "white"
          },
          "hoverlabel": {
           "align": "left"
          },
          "hovermode": "closest",
          "mapbox": {
           "style": "light"
          },
          "paper_bgcolor": "white",
          "plot_bgcolor": "#E5ECF6",
          "polar": {
           "angularaxis": {
            "gridcolor": "white",
            "linecolor": "white",
            "ticks": ""
           },
           "bgcolor": "#E5ECF6",
           "radialaxis": {
            "gridcolor": "white",
            "linecolor": "white",
            "ticks": ""
           }
          },
          "scene": {
           "xaxis": {
            "backgroundcolor": "#E5ECF6",
            "gridcolor": "white",
            "gridwidth": 2,
            "linecolor": "white",
            "showbackground": true,
            "ticks": "",
            "zerolinecolor": "white"
           },
           "yaxis": {
            "backgroundcolor": "#E5ECF6",
            "gridcolor": "white",
            "gridwidth": 2,
            "linecolor": "white",
            "showbackground": true,
            "ticks": "",
            "zerolinecolor": "white"
           },
           "zaxis": {
            "backgroundcolor": "#E5ECF6",
            "gridcolor": "white",
            "gridwidth": 2,
            "linecolor": "white",
            "showbackground": true,
            "ticks": "",
            "zerolinecolor": "white"
           }
          },
          "shapedefaults": {
           "line": {
            "color": "#2a3f5f"
           }
          },
          "ternary": {
           "aaxis": {
            "gridcolor": "white",
            "linecolor": "white",
            "ticks": ""
           },
           "baxis": {
            "gridcolor": "white",
            "linecolor": "white",
            "ticks": ""
           },
           "bgcolor": "#E5ECF6",
           "caxis": {
            "gridcolor": "white",
            "linecolor": "white",
            "ticks": ""
           }
          },
          "title": {
           "x": 0.05
          },
          "xaxis": {
           "automargin": true,
           "gridcolor": "white",
           "linecolor": "white",
           "ticks": "",
           "title": {
            "standoff": 15
           },
           "zerolinecolor": "white",
           "zerolinewidth": 2
          },
          "yaxis": {
           "automargin": true,
           "gridcolor": "white",
           "linecolor": "white",
           "ticks": "",
           "title": {
            "standoff": 15
           },
           "zerolinecolor": "white",
           "zerolinewidth": 2
          }
         }
        },
        "title": {
         "text": "Exportaciones en millones de dólares (2019)"
        }
       }
      }
     },
     "metadata": {},
     "output_type": "display_data"
    }
   ],
   "source": [
    "c = Data('world_trade',reporting_country='484',year=[2019],imp_exp=2)\n",
    "df = c.read_data()\n",
    "c.grafica_treemap_paises_productos(df[0],periodo=c.year,imp_exp=c.imp_exp)"
   ]
  },
  {
   "cell_type": "markdown",
   "metadata": {},
   "source": [
    "## ¿A dónde se exportaron esos productos en el 2020?"
   ]
  },
  {
   "cell_type": "code",
   "execution_count": 12,
   "metadata": {},
   "outputs": [
    {
     "name": "stdout",
     "output_type": "stream",
     "text": [
      "(2325, 12)\n"
     ]
    },
    {
     "data": {
      "application/vnd.plotly.v1+json": {
       "config": {
        "plotlyServerURL": "https://plot.ly"
       },
       "data": [
        {
         "branchvalues": "total",
         "domain": {
          "x": [
           0,
           1
          ],
          "y": [
           0,
           1
          ]
         },
         "hovertemplate": "labels=%{label}<br>tradevalue=%{value}<br>parent=%{parent}<br>id=%{id}<extra></extra>",
         "ids": [
          "Asia/ARE",
          "America/ARG",
          "Europe/AUT",
          "Europe/BEL",
          "Europe/BGR",
          "America/BLZ",
          "America/BOL",
          "America/BRA",
          "America/CAN",
          "Europe/CHE",
          "America/CHL",
          "Asia/CHN",
          "America/COL",
          "America/CRI",
          "America/CUB",
          "Europe/CZE",
          "Europe/DEU",
          "Europe/DNK",
          "America/DOM",
          "Africa/DZA",
          "America/ECU",
          "Europe/ESP",
          "Europe/EUo",
          "Europe/FRA",
          "Europe/GBR",
          "Africa/GHA",
          "America/GTM",
          "America/GUY",
          "Asia/HKG",
          "America/HND",
          "America/HTI",
          "Europe/HUN",
          "Asia/IDN",
          "Asia/IND",
          "Europe/IRL",
          "Europe/ITA",
          "America/JAM",
          "Asia/JPN",
          "Asia/KOR",
          "Asia/MYS",
          "America/NAC",
          "America/NIC",
          "Europe/NLD",
          "Europe/NOR",
          "Asia/PAK",
          "America/PAN",
          "America/PER",
          "Europe/POL",
          "Europe/RUS",
          "Asia/SAU",
          "Asia/SGP",
          "America/SLV",
          "Asia/THA",
          "America/TTO",
          "Asia/TUR",
          "Asia/TWN",
          "America/URY",
          "America/USA",
          "America/VEN",
          "Asia/VNM",
          "Africa",
          "America",
          "Asia",
          "Europe"
         ],
         "labels": [
          "ARE",
          "ARG",
          "AUT",
          "BEL",
          "BGR",
          "BLZ",
          "BOL",
          "BRA",
          "CAN",
          "CHE",
          "CHL",
          "CHN",
          "COL",
          "CRI",
          "CUB",
          "CZE",
          "DEU",
          "DNK",
          "DOM",
          "DZA",
          "ECU",
          "ESP",
          "EUo",
          "FRA",
          "GBR",
          "GHA",
          "GTM",
          "GUY",
          "HKG",
          "HND",
          "HTI",
          "HUN",
          "IDN",
          "IND",
          "IRL",
          "ITA",
          "JAM",
          "JPN",
          "KOR",
          "MYS",
          "NAC",
          "NIC",
          "NLD",
          "NOR",
          "PAK",
          "PAN",
          "PER",
          "POL",
          "RUS",
          "SAU",
          "SGP",
          "SLV",
          "THA",
          "TTO",
          "TUR",
          "TWN",
          "URY",
          "USA",
          "VEN",
          "VNM",
          "Africa",
          "America",
          "Asia",
          "Europe"
         ],
         "name": "",
         "parents": [
          "Asia",
          "America",
          "Europe",
          "Europe",
          "Europe",
          "America",
          "America",
          "America",
          "America",
          "Europe",
          "America",
          "Asia",
          "America",
          "America",
          "America",
          "Europe",
          "Europe",
          "Europe",
          "America",
          "Africa",
          "America",
          "Europe",
          "Europe",
          "Europe",
          "Europe",
          "Africa",
          "America",
          "America",
          "Asia",
          "America",
          "America",
          "Europe",
          "Asia",
          "Asia",
          "Europe",
          "Europe",
          "America",
          "Asia",
          "Asia",
          "Asia",
          "America",
          "America",
          "Europe",
          "Europe",
          "Asia",
          "America",
          "America",
          "Europe",
          "Europe",
          "Asia",
          "Asia",
          "America",
          "Asia",
          "America",
          "Asia",
          "Asia",
          "America",
          "America",
          "America",
          "Asia",
          "",
          "",
          "",
          ""
         ],
         "type": "treemap",
         "values": [
          0.12,
          100.2,
          5.35,
          429.94,
          63.32,
          49.76,
          2.43,
          910.61,
          7967.79,
          650.12,
          309.32,
          4980.74,
          1265.26,
          178.81,
          75.51,
          17.79,
          4839.97,
          6.92,
          155.14000000000001,
          97.64,
          118.85,
          287.71999999999997,
          2082.8,
          324.28,
          208.03,
          0.2,
          1008.72,
          68.47,
          535.79,
          146.24,
          3.69,
          42.25,
          5.21,
          95.27,
          17.64,
          72.58,
          1.38,
          1362.49,
          1551.65,
          11.28,
          8746.86,
          216.11,
          909.02,
          3.77,
          81.41,
          176.10999999999999,
          314.68,
          0.5,
          1.89,
          24.7,
          11.129999999999999,
          333.17,
          1.7999999999999998,
          8.37,
          111.09,
          3876.6200000000003,
          15.82,
          307581.68,
          161.15,
          29.269999999999996,
          97.84,
          329916.12999999995,
          12678.57,
          9963.890000000001
         ]
        }
       ],
       "layout": {
        "legend": {
         "tracegroupgap": 0
        },
        "template": {
         "data": {
          "bar": [
           {
            "error_x": {
             "color": "#2a3f5f"
            },
            "error_y": {
             "color": "#2a3f5f"
            },
            "marker": {
             "line": {
              "color": "#E5ECF6",
              "width": 0.5
             },
             "pattern": {
              "fillmode": "overlay",
              "size": 10,
              "solidity": 0.2
             }
            },
            "type": "bar"
           }
          ],
          "barpolar": [
           {
            "marker": {
             "line": {
              "color": "#E5ECF6",
              "width": 0.5
             },
             "pattern": {
              "fillmode": "overlay",
              "size": 10,
              "solidity": 0.2
             }
            },
            "type": "barpolar"
           }
          ],
          "carpet": [
           {
            "aaxis": {
             "endlinecolor": "#2a3f5f",
             "gridcolor": "white",
             "linecolor": "white",
             "minorgridcolor": "white",
             "startlinecolor": "#2a3f5f"
            },
            "baxis": {
             "endlinecolor": "#2a3f5f",
             "gridcolor": "white",
             "linecolor": "white",
             "minorgridcolor": "white",
             "startlinecolor": "#2a3f5f"
            },
            "type": "carpet"
           }
          ],
          "choropleth": [
           {
            "colorbar": {
             "outlinewidth": 0,
             "ticks": ""
            },
            "type": "choropleth"
           }
          ],
          "contour": [
           {
            "colorbar": {
             "outlinewidth": 0,
             "ticks": ""
            },
            "colorscale": [
             [
              0,
              "#0d0887"
             ],
             [
              0.1111111111111111,
              "#46039f"
             ],
             [
              0.2222222222222222,
              "#7201a8"
             ],
             [
              0.3333333333333333,
              "#9c179e"
             ],
             [
              0.4444444444444444,
              "#bd3786"
             ],
             [
              0.5555555555555556,
              "#d8576b"
             ],
             [
              0.6666666666666666,
              "#ed7953"
             ],
             [
              0.7777777777777778,
              "#fb9f3a"
             ],
             [
              0.8888888888888888,
              "#fdca26"
             ],
             [
              1,
              "#f0f921"
             ]
            ],
            "type": "contour"
           }
          ],
          "contourcarpet": [
           {
            "colorbar": {
             "outlinewidth": 0,
             "ticks": ""
            },
            "type": "contourcarpet"
           }
          ],
          "heatmap": [
           {
            "colorbar": {
             "outlinewidth": 0,
             "ticks": ""
            },
            "colorscale": [
             [
              0,
              "#0d0887"
             ],
             [
              0.1111111111111111,
              "#46039f"
             ],
             [
              0.2222222222222222,
              "#7201a8"
             ],
             [
              0.3333333333333333,
              "#9c179e"
             ],
             [
              0.4444444444444444,
              "#bd3786"
             ],
             [
              0.5555555555555556,
              "#d8576b"
             ],
             [
              0.6666666666666666,
              "#ed7953"
             ],
             [
              0.7777777777777778,
              "#fb9f3a"
             ],
             [
              0.8888888888888888,
              "#fdca26"
             ],
             [
              1,
              "#f0f921"
             ]
            ],
            "type": "heatmap"
           }
          ],
          "heatmapgl": [
           {
            "colorbar": {
             "outlinewidth": 0,
             "ticks": ""
            },
            "colorscale": [
             [
              0,
              "#0d0887"
             ],
             [
              0.1111111111111111,
              "#46039f"
             ],
             [
              0.2222222222222222,
              "#7201a8"
             ],
             [
              0.3333333333333333,
              "#9c179e"
             ],
             [
              0.4444444444444444,
              "#bd3786"
             ],
             [
              0.5555555555555556,
              "#d8576b"
             ],
             [
              0.6666666666666666,
              "#ed7953"
             ],
             [
              0.7777777777777778,
              "#fb9f3a"
             ],
             [
              0.8888888888888888,
              "#fdca26"
             ],
             [
              1,
              "#f0f921"
             ]
            ],
            "type": "heatmapgl"
           }
          ],
          "histogram": [
           {
            "marker": {
             "pattern": {
              "fillmode": "overlay",
              "size": 10,
              "solidity": 0.2
             }
            },
            "type": "histogram"
           }
          ],
          "histogram2d": [
           {
            "colorbar": {
             "outlinewidth": 0,
             "ticks": ""
            },
            "colorscale": [
             [
              0,
              "#0d0887"
             ],
             [
              0.1111111111111111,
              "#46039f"
             ],
             [
              0.2222222222222222,
              "#7201a8"
             ],
             [
              0.3333333333333333,
              "#9c179e"
             ],
             [
              0.4444444444444444,
              "#bd3786"
             ],
             [
              0.5555555555555556,
              "#d8576b"
             ],
             [
              0.6666666666666666,
              "#ed7953"
             ],
             [
              0.7777777777777778,
              "#fb9f3a"
             ],
             [
              0.8888888888888888,
              "#fdca26"
             ],
             [
              1,
              "#f0f921"
             ]
            ],
            "type": "histogram2d"
           }
          ],
          "histogram2dcontour": [
           {
            "colorbar": {
             "outlinewidth": 0,
             "ticks": ""
            },
            "colorscale": [
             [
              0,
              "#0d0887"
             ],
             [
              0.1111111111111111,
              "#46039f"
             ],
             [
              0.2222222222222222,
              "#7201a8"
             ],
             [
              0.3333333333333333,
              "#9c179e"
             ],
             [
              0.4444444444444444,
              "#bd3786"
             ],
             [
              0.5555555555555556,
              "#d8576b"
             ],
             [
              0.6666666666666666,
              "#ed7953"
             ],
             [
              0.7777777777777778,
              "#fb9f3a"
             ],
             [
              0.8888888888888888,
              "#fdca26"
             ],
             [
              1,
              "#f0f921"
             ]
            ],
            "type": "histogram2dcontour"
           }
          ],
          "mesh3d": [
           {
            "colorbar": {
             "outlinewidth": 0,
             "ticks": ""
            },
            "type": "mesh3d"
           }
          ],
          "parcoords": [
           {
            "line": {
             "colorbar": {
              "outlinewidth": 0,
              "ticks": ""
             }
            },
            "type": "parcoords"
           }
          ],
          "pie": [
           {
            "automargin": true,
            "type": "pie"
           }
          ],
          "scatter": [
           {
            "fillpattern": {
             "fillmode": "overlay",
             "size": 10,
             "solidity": 0.2
            },
            "type": "scatter"
           }
          ],
          "scatter3d": [
           {
            "line": {
             "colorbar": {
              "outlinewidth": 0,
              "ticks": ""
             }
            },
            "marker": {
             "colorbar": {
              "outlinewidth": 0,
              "ticks": ""
             }
            },
            "type": "scatter3d"
           }
          ],
          "scattercarpet": [
           {
            "marker": {
             "colorbar": {
              "outlinewidth": 0,
              "ticks": ""
             }
            },
            "type": "scattercarpet"
           }
          ],
          "scattergeo": [
           {
            "marker": {
             "colorbar": {
              "outlinewidth": 0,
              "ticks": ""
             }
            },
            "type": "scattergeo"
           }
          ],
          "scattergl": [
           {
            "marker": {
             "colorbar": {
              "outlinewidth": 0,
              "ticks": ""
             }
            },
            "type": "scattergl"
           }
          ],
          "scattermapbox": [
           {
            "marker": {
             "colorbar": {
              "outlinewidth": 0,
              "ticks": ""
             }
            },
            "type": "scattermapbox"
           }
          ],
          "scatterpolar": [
           {
            "marker": {
             "colorbar": {
              "outlinewidth": 0,
              "ticks": ""
             }
            },
            "type": "scatterpolar"
           }
          ],
          "scatterpolargl": [
           {
            "marker": {
             "colorbar": {
              "outlinewidth": 0,
              "ticks": ""
             }
            },
            "type": "scatterpolargl"
           }
          ],
          "scatterternary": [
           {
            "marker": {
             "colorbar": {
              "outlinewidth": 0,
              "ticks": ""
             }
            },
            "type": "scatterternary"
           }
          ],
          "surface": [
           {
            "colorbar": {
             "outlinewidth": 0,
             "ticks": ""
            },
            "colorscale": [
             [
              0,
              "#0d0887"
             ],
             [
              0.1111111111111111,
              "#46039f"
             ],
             [
              0.2222222222222222,
              "#7201a8"
             ],
             [
              0.3333333333333333,
              "#9c179e"
             ],
             [
              0.4444444444444444,
              "#bd3786"
             ],
             [
              0.5555555555555556,
              "#d8576b"
             ],
             [
              0.6666666666666666,
              "#ed7953"
             ],
             [
              0.7777777777777778,
              "#fb9f3a"
             ],
             [
              0.8888888888888888,
              "#fdca26"
             ],
             [
              1,
              "#f0f921"
             ]
            ],
            "type": "surface"
           }
          ],
          "table": [
           {
            "cells": {
             "fill": {
              "color": "#EBF0F8"
             },
             "line": {
              "color": "white"
             }
            },
            "header": {
             "fill": {
              "color": "#C8D4E3"
             },
             "line": {
              "color": "white"
             }
            },
            "type": "table"
           }
          ]
         },
         "layout": {
          "annotationdefaults": {
           "arrowcolor": "#2a3f5f",
           "arrowhead": 0,
           "arrowwidth": 1
          },
          "autotypenumbers": "strict",
          "coloraxis": {
           "colorbar": {
            "outlinewidth": 0,
            "ticks": ""
           }
          },
          "colorscale": {
           "diverging": [
            [
             0,
             "#8e0152"
            ],
            [
             0.1,
             "#c51b7d"
            ],
            [
             0.2,
             "#de77ae"
            ],
            [
             0.3,
             "#f1b6da"
            ],
            [
             0.4,
             "#fde0ef"
            ],
            [
             0.5,
             "#f7f7f7"
            ],
            [
             0.6,
             "#e6f5d0"
            ],
            [
             0.7,
             "#b8e186"
            ],
            [
             0.8,
             "#7fbc41"
            ],
            [
             0.9,
             "#4d9221"
            ],
            [
             1,
             "#276419"
            ]
           ],
           "sequential": [
            [
             0,
             "#0d0887"
            ],
            [
             0.1111111111111111,
             "#46039f"
            ],
            [
             0.2222222222222222,
             "#7201a8"
            ],
            [
             0.3333333333333333,
             "#9c179e"
            ],
            [
             0.4444444444444444,
             "#bd3786"
            ],
            [
             0.5555555555555556,
             "#d8576b"
            ],
            [
             0.6666666666666666,
             "#ed7953"
            ],
            [
             0.7777777777777778,
             "#fb9f3a"
            ],
            [
             0.8888888888888888,
             "#fdca26"
            ],
            [
             1,
             "#f0f921"
            ]
           ],
           "sequentialminus": [
            [
             0,
             "#0d0887"
            ],
            [
             0.1111111111111111,
             "#46039f"
            ],
            [
             0.2222222222222222,
             "#7201a8"
            ],
            [
             0.3333333333333333,
             "#9c179e"
            ],
            [
             0.4444444444444444,
             "#bd3786"
            ],
            [
             0.5555555555555556,
             "#d8576b"
            ],
            [
             0.6666666666666666,
             "#ed7953"
            ],
            [
             0.7777777777777778,
             "#fb9f3a"
            ],
            [
             0.8888888888888888,
             "#fdca26"
            ],
            [
             1,
             "#f0f921"
            ]
           ]
          },
          "colorway": [
           "#636efa",
           "#EF553B",
           "#00cc96",
           "#ab63fa",
           "#FFA15A",
           "#19d3f3",
           "#FF6692",
           "#B6E880",
           "#FF97FF",
           "#FECB52"
          ],
          "font": {
           "color": "#2a3f5f"
          },
          "geo": {
           "bgcolor": "white",
           "lakecolor": "white",
           "landcolor": "#E5ECF6",
           "showlakes": true,
           "showland": true,
           "subunitcolor": "white"
          },
          "hoverlabel": {
           "align": "left"
          },
          "hovermode": "closest",
          "mapbox": {
           "style": "light"
          },
          "paper_bgcolor": "white",
          "plot_bgcolor": "#E5ECF6",
          "polar": {
           "angularaxis": {
            "gridcolor": "white",
            "linecolor": "white",
            "ticks": ""
           },
           "bgcolor": "#E5ECF6",
           "radialaxis": {
            "gridcolor": "white",
            "linecolor": "white",
            "ticks": ""
           }
          },
          "scene": {
           "xaxis": {
            "backgroundcolor": "#E5ECF6",
            "gridcolor": "white",
            "gridwidth": 2,
            "linecolor": "white",
            "showbackground": true,
            "ticks": "",
            "zerolinecolor": "white"
           },
           "yaxis": {
            "backgroundcolor": "#E5ECF6",
            "gridcolor": "white",
            "gridwidth": 2,
            "linecolor": "white",
            "showbackground": true,
            "ticks": "",
            "zerolinecolor": "white"
           },
           "zaxis": {
            "backgroundcolor": "#E5ECF6",
            "gridcolor": "white",
            "gridwidth": 2,
            "linecolor": "white",
            "showbackground": true,
            "ticks": "",
            "zerolinecolor": "white"
           }
          },
          "shapedefaults": {
           "line": {
            "color": "#2a3f5f"
           }
          },
          "ternary": {
           "aaxis": {
            "gridcolor": "white",
            "linecolor": "white",
            "ticks": ""
           },
           "baxis": {
            "gridcolor": "white",
            "linecolor": "white",
            "ticks": ""
           },
           "bgcolor": "#E5ECF6",
           "caxis": {
            "gridcolor": "white",
            "linecolor": "white",
            "ticks": ""
           }
          },
          "title": {
           "x": 0.05
          },
          "xaxis": {
           "automargin": true,
           "gridcolor": "white",
           "linecolor": "white",
           "ticks": "",
           "title": {
            "standoff": 15
           },
           "zerolinecolor": "white",
           "zerolinewidth": 2
          },
          "yaxis": {
           "automargin": true,
           "gridcolor": "white",
           "linecolor": "white",
           "ticks": "",
           "title": {
            "standoff": 15
           },
           "zerolinecolor": "white",
           "zerolinewidth": 2
          }
         }
        },
        "title": {
         "text": "Destinos (2020)"
        }
       }
      }
     },
     "metadata": {},
     "output_type": "display_data"
    }
   ],
   "source": [
    "c = Data('world_trade_',reporting_country='484',year=[2020],imp_exp=2)\n",
    "df = c.read_data()\n",
    "c.grafica_destino_origen(df[0],periodo=c.year,imp_exp=c.imp_exp)"
   ]
  },
  {
   "cell_type": "markdown",
   "metadata": {},
   "source": [
    "## ¿Qué productos se importaron más el año 2020?"
   ]
  },
  {
   "cell_type": "code",
   "execution_count": 13,
   "metadata": {},
   "outputs": [
    {
     "name": "stdout",
     "output_type": "stream",
     "text": [
      "(1089, 12)\n"
     ]
    },
    {
     "data": {
      "application/vnd.plotly.v1+json": {
       "config": {
        "plotlyServerURL": "https://plot.ly"
       },
       "data": [
        {
         "branchvalues": "total",
         "domain": {
          "x": [
           0,
           1
          ],
          "y": [
           0,
           1
          ]
         },
         "hovertemplate": "labels=%{label}<br>tradevalue=%{value}<br>parent=%{parent}<br>id=%{id}<extra></extra>",
         "ids": [
          "Animales vivos y productos del reino animal/0101",
          "Animales vivos y productos del reino animal/0102",
          "Animales vivos y productos del reino animal/0105",
          "Animales vivos y productos del reino animal/0106",
          "Animales vivos y productos del reino animal/0201",
          "Animales vivos y productos del reino animal/0202",
          "Animales vivos y productos del reino animal/0203",
          "Animales vivos y productos del reino animal/0206",
          "Animales vivos y productos del reino animal/0207",
          "Animales vivos y productos del reino animal/0209",
          "Animales vivos y productos del reino animal/0210",
          "Animales vivos y productos del reino animal/0301",
          "Animales vivos y productos del reino animal/0302",
          "Animales vivos y productos del reino animal/0303",
          "Animales vivos y productos del reino animal/0304",
          "Animales vivos y productos del reino animal/0305",
          "Animales vivos y productos del reino animal/0306",
          "Animales vivos y productos del reino animal/0307",
          "Animales vivos y productos del reino animal/0401",
          "Animales vivos y productos del reino animal/0402",
          "Animales vivos y productos del reino animal/0403",
          "Animales vivos y productos del reino animal/0404",
          "Animales vivos y productos del reino animal/0405",
          "Animales vivos y productos del reino animal/0406",
          "Animales vivos y productos del reino animal/0407",
          "Animales vivos y productos del reino animal/0504",
          "Animales vivos y productos del reino animal/0505",
          "Animales vivos y productos del reino animal/0508",
          "Animales vivos y productos del reino animal/0511",
          "Productos del reino vegetal/0602",
          "Productos del reino vegetal/0604",
          "Productos del reino vegetal/0701",
          "Productos del reino vegetal/0703",
          "Productos del reino vegetal/0705",
          "Productos del reino vegetal/0706",
          "Productos del reino vegetal/0709",
          "Productos del reino vegetal/0710",
          "Productos del reino vegetal/0711",
          "Productos del reino vegetal/0712",
          "Productos del reino vegetal/0713",
          "Productos del reino vegetal/0714",
          "Productos del reino vegetal/0801",
          "Productos del reino vegetal/0802",
          "Productos del reino vegetal/0804",
          "Productos del reino vegetal/0805",
          "Productos del reino vegetal/0806",
          "Productos del reino vegetal/0807",
          "Productos del reino vegetal/0808",
          "Productos del reino vegetal/0809",
          "Productos del reino vegetal/0810",
          "Productos del reino vegetal/0811",
          "Productos del reino vegetal/0812",
          "Productos del reino vegetal/0813",
          "Productos del reino vegetal/0901",
          "Productos del reino vegetal/0902",
          "Productos del reino vegetal/0904",
          "Productos del reino vegetal/0905",
          "Productos del reino vegetal/0906",
          "Productos del reino vegetal/0907",
          "Productos del reino vegetal/0908",
          "Productos del reino vegetal/0909",
          "Productos del reino vegetal/0910",
          "Productos del reino vegetal/1001",
          "Productos del reino vegetal/1003",
          "Productos del reino vegetal/1005",
          "Productos del reino vegetal/1006",
          "Productos del reino vegetal/1101",
          "Productos del reino vegetal/1102",
          "Productos del reino vegetal/1103",
          "Productos del reino vegetal/1104",
          "Productos del reino vegetal/1105",
          "Productos del reino vegetal/1106",
          "Productos del reino vegetal/1107",
          "Productos del reino vegetal/1108",
          "Productos del reino vegetal/1109",
          "Productos del reino vegetal/1201",
          "Productos del reino vegetal/1202",
          "Productos del reino vegetal/1206",
          "Productos del reino vegetal/1207",
          "Productos del reino vegetal/1208",
          "Productos del reino vegetal/1209",
          "Productos del reino vegetal/1210",
          "Productos del reino vegetal/1211",
          "Productos del reino vegetal/1212",
          "Productos del reino vegetal/1214",
          "Productos del reino vegetal/1301",
          "Productos del reino vegetal/1302",
          "Grasas y aceites animales o vegetales; productos de su desdoblamiento; grasas alimenticias elaboradas; ceras de origen animal o vegetal/1501",
          "Grasas y aceites animales o vegetales; productos de su desdoblamiento; grasas alimenticias elaboradas; ceras de origen animal o vegetal/1502",
          "Grasas y aceites animales o vegetales; productos de su desdoblamiento; grasas alimenticias elaboradas; ceras de origen animal o vegetal/1503",
          "Grasas y aceites animales o vegetales; productos de su desdoblamiento; grasas alimenticias elaboradas; ceras de origen animal o vegetal/1504",
          "Grasas y aceites animales o vegetales; productos de su desdoblamiento; grasas alimenticias elaboradas; ceras de origen animal o vegetal/1505",
          "Grasas y aceites animales o vegetales; productos de su desdoblamiento; grasas alimenticias elaboradas; ceras de origen animal o vegetal/1507",
          "Grasas y aceites animales o vegetales; productos de su desdoblamiento; grasas alimenticias elaboradas; ceras de origen animal o vegetal/1508",
          "Grasas y aceites animales o vegetales; productos de su desdoblamiento; grasas alimenticias elaboradas; ceras de origen animal o vegetal/1509",
          "Grasas y aceites animales o vegetales; productos de su desdoblamiento; grasas alimenticias elaboradas; ceras de origen animal o vegetal/1510",
          "Grasas y aceites animales o vegetales; productos de su desdoblamiento; grasas alimenticias elaboradas; ceras de origen animal o vegetal/1511",
          "Grasas y aceites animales o vegetales; productos de su desdoblamiento; grasas alimenticias elaboradas; ceras de origen animal o vegetal/1512",
          "Grasas y aceites animales o vegetales; productos de su desdoblamiento; grasas alimenticias elaboradas; ceras de origen animal o vegetal/1513",
          "Grasas y aceites animales o vegetales; productos de su desdoblamiento; grasas alimenticias elaboradas; ceras de origen animal o vegetal/1514",
          "Grasas y aceites animales o vegetales; productos de su desdoblamiento; grasas alimenticias elaboradas; ceras de origen animal o vegetal/1515",
          "Grasas y aceites animales o vegetales; productos de su desdoblamiento; grasas alimenticias elaboradas; ceras de origen animal o vegetal/1516",
          "Grasas y aceites animales o vegetales; productos de su desdoblamiento; grasas alimenticias elaboradas; ceras de origen animal o vegetal/1517",
          "Grasas y aceites animales o vegetales; productos de su desdoblamiento; grasas alimenticias elaboradas; ceras de origen animal o vegetal/1518",
          "Grasas y aceites animales o vegetales; productos de su desdoblamiento; grasas alimenticias elaboradas; ceras de origen animal o vegetal/1520",
          "Grasas y aceites animales o vegetales; productos de su desdoblamiento; grasas alimenticias elaboradas; ceras de origen animal o vegetal/1521",
          "Grasas y aceites animales o vegetales; productos de su desdoblamiento; grasas alimenticias elaboradas; ceras de origen animal o vegetal/1522",
          "Productos de las industrias alimentarias; bebidas, líquidos alcohólicos y vinagre; tabaco y sucedáneos del tabaco elaborados/1601",
          "Productos de las industrias alimentarias; bebidas, líquidos alcohólicos y vinagre; tabaco y sucedáneos del tabaco elaborados/1602",
          "Productos de las industrias alimentarias; bebidas, líquidos alcohólicos y vinagre; tabaco y sucedáneos del tabaco elaborados/1603",
          "Productos de las industrias alimentarias; bebidas, líquidos alcohólicos y vinagre; tabaco y sucedáneos del tabaco elaborados/1604",
          "Productos de las industrias alimentarias; bebidas, líquidos alcohólicos y vinagre; tabaco y sucedáneos del tabaco elaborados/1605",
          "Productos de las industrias alimentarias; bebidas, líquidos alcohólicos y vinagre; tabaco y sucedáneos del tabaco elaborados/1701",
          "Productos de las industrias alimentarias; bebidas, líquidos alcohólicos y vinagre; tabaco y sucedáneos del tabaco elaborados/1702",
          "Productos de las industrias alimentarias; bebidas, líquidos alcohólicos y vinagre; tabaco y sucedáneos del tabaco elaborados/1703",
          "Productos de las industrias alimentarias; bebidas, líquidos alcohólicos y vinagre; tabaco y sucedáneos del tabaco elaborados/1704",
          "Productos de las industrias alimentarias; bebidas, líquidos alcohólicos y vinagre; tabaco y sucedáneos del tabaco elaborados/1804",
          "Productos de las industrias alimentarias; bebidas, líquidos alcohólicos y vinagre; tabaco y sucedáneos del tabaco elaborados/1805",
          "Productos de las industrias alimentarias; bebidas, líquidos alcohólicos y vinagre; tabaco y sucedáneos del tabaco elaborados/1806",
          "Productos de las industrias alimentarias; bebidas, líquidos alcohólicos y vinagre; tabaco y sucedáneos del tabaco elaborados/1901",
          "Productos de las industrias alimentarias; bebidas, líquidos alcohólicos y vinagre; tabaco y sucedáneos del tabaco elaborados/1902",
          "Productos de las industrias alimentarias; bebidas, líquidos alcohólicos y vinagre; tabaco y sucedáneos del tabaco elaborados/1903",
          "Productos de las industrias alimentarias; bebidas, líquidos alcohólicos y vinagre; tabaco y sucedáneos del tabaco elaborados/1904",
          "Productos de las industrias alimentarias; bebidas, líquidos alcohólicos y vinagre; tabaco y sucedáneos del tabaco elaborados/1905",
          "Productos de las industrias alimentarias; bebidas, líquidos alcohólicos y vinagre; tabaco y sucedáneos del tabaco elaborados/2001",
          "Productos de las industrias alimentarias; bebidas, líquidos alcohólicos y vinagre; tabaco y sucedáneos del tabaco elaborados/2002",
          "Productos de las industrias alimentarias; bebidas, líquidos alcohólicos y vinagre; tabaco y sucedáneos del tabaco elaborados/2004",
          "Productos de las industrias alimentarias; bebidas, líquidos alcohólicos y vinagre; tabaco y sucedáneos del tabaco elaborados/2005",
          "Productos de las industrias alimentarias; bebidas, líquidos alcohólicos y vinagre; tabaco y sucedáneos del tabaco elaborados/2006",
          "Productos de las industrias alimentarias; bebidas, líquidos alcohólicos y vinagre; tabaco y sucedáneos del tabaco elaborados/2007",
          "Productos de las industrias alimentarias; bebidas, líquidos alcohólicos y vinagre; tabaco y sucedáneos del tabaco elaborados/2008",
          "Productos de las industrias alimentarias; bebidas, líquidos alcohólicos y vinagre; tabaco y sucedáneos del tabaco elaborados/2009",
          "Productos de las industrias alimentarias; bebidas, líquidos alcohólicos y vinagre; tabaco y sucedáneos del tabaco elaborados/2101",
          "Productos de las industrias alimentarias; bebidas, líquidos alcohólicos y vinagre; tabaco y sucedáneos del tabaco elaborados/2102",
          "Productos de las industrias alimentarias; bebidas, líquidos alcohólicos y vinagre; tabaco y sucedáneos del tabaco elaborados/2103",
          "Productos de las industrias alimentarias; bebidas, líquidos alcohólicos y vinagre; tabaco y sucedáneos del tabaco elaborados/2104",
          "Productos de las industrias alimentarias; bebidas, líquidos alcohólicos y vinagre; tabaco y sucedáneos del tabaco elaborados/2105",
          "Productos de las industrias alimentarias; bebidas, líquidos alcohólicos y vinagre; tabaco y sucedáneos del tabaco elaborados/2106",
          "Productos de las industrias alimentarias; bebidas, líquidos alcohólicos y vinagre; tabaco y sucedáneos del tabaco elaborados/2201",
          "Productos de las industrias alimentarias; bebidas, líquidos alcohólicos y vinagre; tabaco y sucedáneos del tabaco elaborados/2202",
          "Productos de las industrias alimentarias; bebidas, líquidos alcohólicos y vinagre; tabaco y sucedáneos del tabaco elaborados/2203",
          "Productos de las industrias alimentarias; bebidas, líquidos alcohólicos y vinagre; tabaco y sucedáneos del tabaco elaborados/2204",
          "Productos de las industrias alimentarias; bebidas, líquidos alcohólicos y vinagre; tabaco y sucedáneos del tabaco elaborados/2205",
          "Productos de las industrias alimentarias; bebidas, líquidos alcohólicos y vinagre; tabaco y sucedáneos del tabaco elaborados/2206",
          "Productos de las industrias alimentarias; bebidas, líquidos alcohólicos y vinagre; tabaco y sucedáneos del tabaco elaborados/2207",
          "Productos de las industrias alimentarias; bebidas, líquidos alcohólicos y vinagre; tabaco y sucedáneos del tabaco elaborados/2208",
          "Productos de las industrias alimentarias; bebidas, líquidos alcohólicos y vinagre; tabaco y sucedáneos del tabaco elaborados/2209",
          "Productos de las industrias alimentarias; bebidas, líquidos alcohólicos y vinagre; tabaco y sucedáneos del tabaco elaborados/2301",
          "Productos de las industrias alimentarias; bebidas, líquidos alcohólicos y vinagre; tabaco y sucedáneos del tabaco elaborados/2302",
          "Productos de las industrias alimentarias; bebidas, líquidos alcohólicos y vinagre; tabaco y sucedáneos del tabaco elaborados/2303",
          "Productos de las industrias alimentarias; bebidas, líquidos alcohólicos y vinagre; tabaco y sucedáneos del tabaco elaborados/2304",
          "Productos de las industrias alimentarias; bebidas, líquidos alcohólicos y vinagre; tabaco y sucedáneos del tabaco elaborados/2306",
          "Productos de las industrias alimentarias; bebidas, líquidos alcohólicos y vinagre; tabaco y sucedáneos del tabaco elaborados/2308",
          "Productos de las industrias alimentarias; bebidas, líquidos alcohólicos y vinagre; tabaco y sucedáneos del tabaco elaborados/2309",
          "Productos de las industrias alimentarias; bebidas, líquidos alcohólicos y vinagre; tabaco y sucedáneos del tabaco elaborados/2401",
          "Productos de las industrias alimentarias; bebidas, líquidos alcohólicos y vinagre; tabaco y sucedáneos del tabaco elaborados/2403",
          "Productos minerales/2501",
          "Productos minerales/2502",
          "Productos minerales/2503",
          "Productos minerales/2504",
          "Productos minerales/2505",
          "Productos minerales/2506",
          "Productos minerales/2507",
          "Productos minerales/2508",
          "Productos minerales/2509",
          "Productos minerales/2510",
          "Productos minerales/2511",
          "Productos minerales/2512",
          "Productos minerales/2513",
          "Productos minerales/2515",
          "Productos minerales/2516",
          "Productos minerales/2517",
          "Productos minerales/2518",
          "Productos minerales/2519",
          "Productos minerales/2520",
          "Productos minerales/2522",
          "Productos minerales/2523",
          "Productos minerales/2525",
          "Productos minerales/2526",
          "Productos minerales/2528",
          "Productos minerales/2529",
          "Productos minerales/2530",
          "Productos minerales/2601",
          "Productos minerales/2602",
          "Productos minerales/2603",
          "Productos minerales/2606",
          "Productos minerales/2607",
          "Productos minerales/2610",
          "Productos minerales/2613",
          "Productos minerales/2614",
          "Productos minerales/2615",
          "Productos minerales/2616",
          "Productos minerales/2617",
          "Productos minerales/2618",
          "Productos minerales/2619",
          "Productos minerales/2620",
          "Productos minerales/2621",
          "Productos minerales/2701",
          "Productos minerales/2702",
          "Productos minerales/2703",
          "Productos minerales/2704",
          "Productos minerales/2707",
          "Productos minerales/2708",
          "Productos minerales/2710",
          "Productos minerales/2711",
          "Productos minerales/2712",
          "Productos minerales/2713",
          "Productos minerales/2714",
          "Productos minerales/2715",
          "Productos minerales/2716",
          "Productos de las industrias químicas o de las industrias conexas/2801",
          "Productos de las industrias químicas o de las industrias conexas/2802",
          "Productos de las industrias químicas o de las industrias conexas/2803",
          "Productos de las industrias químicas o de las industrias conexas/2804",
          "Productos de las industrias químicas o de las industrias conexas/2805",
          "Productos de las industrias químicas o de las industrias conexas/2806",
          "Productos de las industrias químicas o de las industrias conexas/2807",
          "Productos de las industrias químicas o de las industrias conexas/2808",
          "Productos de las industrias químicas o de las industrias conexas/2809",
          "Productos de las industrias químicas o de las industrias conexas/2810",
          "Productos de las industrias químicas o de las industrias conexas/2811",
          "Productos de las industrias químicas o de las industrias conexas/2812",
          "Productos de las industrias químicas o de las industrias conexas/2813",
          "Productos de las industrias químicas o de las industrias conexas/2814",
          "Productos de las industrias químicas o de las industrias conexas/2815",
          "Productos de las industrias químicas o de las industrias conexas/2816",
          "Productos de las industrias químicas o de las industrias conexas/2817",
          "Productos de las industrias químicas o de las industrias conexas/2818",
          "Productos de las industrias químicas o de las industrias conexas/2819",
          "Productos de las industrias químicas o de las industrias conexas/2820",
          "Productos de las industrias químicas o de las industrias conexas/2821",
          "Productos de las industrias químicas o de las industrias conexas/2822",
          "Productos de las industrias químicas o de las industrias conexas/2823",
          "Productos de las industrias químicas o de las industrias conexas/2824",
          "Productos de las industrias químicas o de las industrias conexas/2825",
          "Productos de las industrias químicas o de las industrias conexas/2826",
          "Productos de las industrias químicas o de las industrias conexas/2827",
          "Productos de las industrias químicas o de las industrias conexas/2828",
          "Productos de las industrias químicas o de las industrias conexas/2829",
          "Productos de las industrias químicas o de las industrias conexas/2830",
          "Productos de las industrias químicas o de las industrias conexas/2831",
          "Productos de las industrias químicas o de las industrias conexas/2832",
          "Productos de las industrias químicas o de las industrias conexas/2833",
          "Productos de las industrias químicas o de las industrias conexas/2834",
          "Productos de las industrias químicas o de las industrias conexas/2835",
          "Productos de las industrias químicas o de las industrias conexas/2836",
          "Productos de las industrias químicas o de las industrias conexas/2837",
          "Productos de las industrias químicas o de las industrias conexas/2839",
          "Productos de las industrias químicas o de las industrias conexas/2840",
          "Productos de las industrias químicas o de las industrias conexas/2841",
          "Productos de las industrias químicas o de las industrias conexas/2842",
          "Productos de las industrias químicas o de las industrias conexas/2843",
          "Productos de las industrias químicas o de las industrias conexas/2844",
          "Productos de las industrias químicas o de las industrias conexas/2845",
          "Productos de las industrias químicas o de las industrias conexas/2846",
          "Productos de las industrias químicas o de las industrias conexas/2847",
          "Productos de las industrias químicas o de las industrias conexas/2849",
          "Productos de las industrias químicas o de las industrias conexas/2850",
          "Productos de las industrias químicas o de las industrias conexas/2853",
          "Productos de las industrias químicas o de las industrias conexas/2901",
          "Productos de las industrias químicas o de las industrias conexas/2902",
          "Productos de las industrias químicas o de las industrias conexas/2903",
          "Productos de las industrias químicas o de las industrias conexas/2904",
          "Productos de las industrias químicas o de las industrias conexas/2905",
          "Productos de las industrias químicas o de las industrias conexas/2906",
          "Productos de las industrias químicas o de las industrias conexas/2907",
          "Productos de las industrias químicas o de las industrias conexas/2908",
          "Productos de las industrias químicas o de las industrias conexas/2909",
          "Productos de las industrias químicas o de las industrias conexas/2910",
          "Productos de las industrias químicas o de las industrias conexas/2911",
          "Productos de las industrias químicas o de las industrias conexas/2912",
          "Productos de las industrias químicas o de las industrias conexas/2913",
          "Productos de las industrias químicas o de las industrias conexas/2914",
          "Productos de las industrias químicas o de las industrias conexas/2915",
          "Productos de las industrias químicas o de las industrias conexas/2916",
          "Productos de las industrias químicas o de las industrias conexas/2917",
          "Productos de las industrias químicas o de las industrias conexas/2918",
          "Productos de las industrias químicas o de las industrias conexas/2919",
          "Productos de las industrias químicas o de las industrias conexas/2920",
          "Productos de las industrias químicas o de las industrias conexas/2921",
          "Productos de las industrias químicas o de las industrias conexas/2922",
          "Productos de las industrias químicas o de las industrias conexas/2923",
          "Productos de las industrias químicas o de las industrias conexas/2924",
          "Productos de las industrias químicas o de las industrias conexas/2925",
          "Productos de las industrias químicas o de las industrias conexas/2926",
          "Productos de las industrias químicas o de las industrias conexas/2927",
          "Productos de las industrias químicas o de las industrias conexas/2928",
          "Productos de las industrias químicas o de las industrias conexas/2929",
          "Productos de las industrias químicas o de las industrias conexas/2930",
          "Productos de las industrias químicas o de las industrias conexas/2931",
          "Productos de las industrias químicas o de las industrias conexas/2932",
          "Productos de las industrias químicas o de las industrias conexas/2933",
          "Productos de las industrias químicas o de las industrias conexas/2934",
          "Productos de las industrias químicas o de las industrias conexas/2935",
          "Productos de las industrias químicas o de las industrias conexas/2936",
          "Productos de las industrias químicas o de las industrias conexas/2937",
          "Productos de las industrias químicas o de las industrias conexas/2938",
          "Productos de las industrias químicas o de las industrias conexas/2939",
          "Productos de las industrias químicas o de las industrias conexas/2940",
          "Productos de las industrias químicas o de las industrias conexas/2941",
          "Productos de las industrias químicas o de las industrias conexas/2942",
          "Productos de las industrias químicas o de las industrias conexas/3001",
          "Productos de las industrias químicas o de las industrias conexas/3002",
          "Productos de las industrias químicas o de las industrias conexas/3003",
          "Productos de las industrias químicas o de las industrias conexas/3004",
          "Productos de las industrias químicas o de las industrias conexas/3005",
          "Productos de las industrias químicas o de las industrias conexas/3006",
          "Productos de las industrias químicas o de las industrias conexas/3101",
          "Productos de las industrias químicas o de las industrias conexas/3102",
          "Productos de las industrias químicas o de las industrias conexas/3103",
          "Productos de las industrias químicas o de las industrias conexas/3104",
          "Productos de las industrias químicas o de las industrias conexas/3105",
          "Productos de las industrias químicas o de las industrias conexas/3201",
          "Productos de las industrias químicas o de las industrias conexas/3202",
          "Productos de las industrias químicas o de las industrias conexas/3203",
          "Productos de las industrias químicas o de las industrias conexas/3204",
          "Productos de las industrias químicas o de las industrias conexas/3205",
          "Productos de las industrias químicas o de las industrias conexas/3206",
          "Productos de las industrias químicas o de las industrias conexas/3207",
          "Productos de las industrias químicas o de las industrias conexas/3208",
          "Productos de las industrias químicas o de las industrias conexas/3209",
          "Productos de las industrias químicas o de las industrias conexas/3210",
          "Productos de las industrias químicas o de las industrias conexas/3211",
          "Productos de las industrias químicas o de las industrias conexas/3212",
          "Productos de las industrias químicas o de las industrias conexas/3213",
          "Productos de las industrias químicas o de las industrias conexas/3214",
          "Productos de las industrias químicas o de las industrias conexas/3215",
          "Productos de las industrias químicas o de las industrias conexas/3301",
          "Productos de las industrias químicas o de las industrias conexas/3302",
          "Productos de las industrias químicas o de las industrias conexas/3303",
          "Productos de las industrias químicas o de las industrias conexas/3304",
          "Productos de las industrias químicas o de las industrias conexas/3305",
          "Productos de las industrias químicas o de las industrias conexas/3306",
          "Productos de las industrias químicas o de las industrias conexas/3307",
          "Productos de las industrias químicas o de las industrias conexas/3401",
          "Productos de las industrias químicas o de las industrias conexas/3402",
          "Productos de las industrias químicas o de las industrias conexas/3403",
          "Productos de las industrias químicas o de las industrias conexas/3404",
          "Productos de las industrias químicas o de las industrias conexas/3405",
          "Productos de las industrias químicas o de las industrias conexas/3406",
          "Productos de las industrias químicas o de las industrias conexas/3407",
          "Productos de las industrias químicas o de las industrias conexas/3501",
          "Productos de las industrias químicas o de las industrias conexas/3502",
          "Productos de las industrias químicas o de las industrias conexas/3503",
          "Productos de las industrias químicas o de las industrias conexas/3504",
          "Productos de las industrias químicas o de las industrias conexas/3505",
          "Productos de las industrias químicas o de las industrias conexas/3506",
          "Productos de las industrias químicas o de las industrias conexas/3507",
          "Productos de las industrias químicas o de las industrias conexas/3601",
          "Productos de las industrias químicas o de las industrias conexas/3602",
          "Productos de las industrias químicas o de las industrias conexas/3603",
          "Productos de las industrias químicas o de las industrias conexas/3604",
          "Productos de las industrias químicas o de las industrias conexas/3606",
          "Productos de las industrias químicas o de las industrias conexas/3701",
          "Productos de las industrias químicas o de las industrias conexas/3702",
          "Productos de las industrias químicas o de las industrias conexas/3703",
          "Productos de las industrias químicas o de las industrias conexas/3704",
          "Productos de las industrias químicas o de las industrias conexas/3705",
          "Productos de las industrias químicas o de las industrias conexas/3706",
          "Productos de las industrias químicas o de las industrias conexas/3707",
          "Productos de las industrias químicas o de las industrias conexas/3801",
          "Productos de las industrias químicas o de las industrias conexas/3802",
          "Productos de las industrias químicas o de las industrias conexas/3803",
          "Productos de las industrias químicas o de las industrias conexas/3804",
          "Productos de las industrias químicas o de las industrias conexas/3805",
          "Productos de las industrias químicas o de las industrias conexas/3806",
          "Productos de las industrias químicas o de las industrias conexas/3808",
          "Productos de las industrias químicas o de las industrias conexas/3809",
          "Productos de las industrias químicas o de las industrias conexas/3810",
          "Productos de las industrias químicas o de las industrias conexas/3811",
          "Productos de las industrias químicas o de las industrias conexas/3812",
          "Productos de las industrias químicas o de las industrias conexas/3813",
          "Productos de las industrias químicas o de las industrias conexas/3814",
          "Productos de las industrias químicas o de las industrias conexas/3815",
          "Productos de las industrias químicas o de las industrias conexas/3816",
          "Productos de las industrias químicas o de las industrias conexas/3817",
          "Productos de las industrias químicas o de las industrias conexas/3818",
          "Productos de las industrias químicas o de las industrias conexas/3819",
          "Productos de las industrias químicas o de las industrias conexas/3820",
          "Productos de las industrias químicas o de las industrias conexas/3821",
          "Productos de las industrias químicas o de las industrias conexas/3822",
          "Productos de las industrias químicas o de las industrias conexas/3823",
          "Productos de las industrias químicas o de las industrias conexas/3824",
          "Productos de las industrias químicas o de las industrias conexas/3825",
          "Plástico y sus manufacturas; caucho y sus manufacturas/3901",
          "Plástico y sus manufacturas; caucho y sus manufacturas/3902",
          "Plástico y sus manufacturas; caucho y sus manufacturas/3903",
          "Plástico y sus manufacturas; caucho y sus manufacturas/3904",
          "Plástico y sus manufacturas; caucho y sus manufacturas/3905",
          "Plástico y sus manufacturas; caucho y sus manufacturas/3906",
          "Plástico y sus manufacturas; caucho y sus manufacturas/3907",
          "Plástico y sus manufacturas; caucho y sus manufacturas/3908",
          "Plástico y sus manufacturas; caucho y sus manufacturas/3909",
          "Plástico y sus manufacturas; caucho y sus manufacturas/3910",
          "Plástico y sus manufacturas; caucho y sus manufacturas/3911",
          "Plástico y sus manufacturas; caucho y sus manufacturas/3912",
          "Plástico y sus manufacturas; caucho y sus manufacturas/3913",
          "Plástico y sus manufacturas; caucho y sus manufacturas/3914",
          "Plástico y sus manufacturas; caucho y sus manufacturas/3915",
          "Plástico y sus manufacturas; caucho y sus manufacturas/3916",
          "Plástico y sus manufacturas; caucho y sus manufacturas/3917",
          "Plástico y sus manufacturas; caucho y sus manufacturas/3918",
          "Plástico y sus manufacturas; caucho y sus manufacturas/3919",
          "Plástico y sus manufacturas; caucho y sus manufacturas/3920",
          "Plástico y sus manufacturas; caucho y sus manufacturas/3921",
          "Plástico y sus manufacturas; caucho y sus manufacturas/3922",
          "Plástico y sus manufacturas; caucho y sus manufacturas/3923",
          "Plástico y sus manufacturas; caucho y sus manufacturas/3924",
          "Plástico y sus manufacturas; caucho y sus manufacturas/3925",
          "Plástico y sus manufacturas; caucho y sus manufacturas/4001",
          "Plástico y sus manufacturas; caucho y sus manufacturas/4002",
          "Plástico y sus manufacturas; caucho y sus manufacturas/4003",
          "Plástico y sus manufacturas; caucho y sus manufacturas/4004",
          "Plástico y sus manufacturas; caucho y sus manufacturas/4005",
          "Plástico y sus manufacturas; caucho y sus manufacturas/4006",
          "Plástico y sus manufacturas; caucho y sus manufacturas/4007",
          "Plástico y sus manufacturas; caucho y sus manufacturas/4008",
          "Plástico y sus manufacturas; caucho y sus manufacturas/4009",
          "Plástico y sus manufacturas; caucho y sus manufacturas/4010",
          "Plástico y sus manufacturas; caucho y sus manufacturas/4011",
          "Plástico y sus manufacturas; caucho y sus manufacturas/4012",
          "Plástico y sus manufacturas; caucho y sus manufacturas/4013",
          "Plástico y sus manufacturas; caucho y sus manufacturas/4014",
          "Plástico y sus manufacturas; caucho y sus manufacturas/4015",
          "Plástico y sus manufacturas; caucho y sus manufacturas/4016",
          "Plástico y sus manufacturas; caucho y sus manufacturas/4017",
          "Pieles, cueros, peletería y manufacturas de estas materias; artículos de talabartería o guarnicionería; artículos de viaje, bolsos de mano (carteras) y continentes similares; manufacturas de tripa/4101",
          "Pieles, cueros, peletería y manufacturas de estas materias; artículos de talabartería o guarnicionería; artículos de viaje, bolsos de mano (carteras) y continentes similares; manufacturas de tripa/4102",
          "Pieles, cueros, peletería y manufacturas de estas materias; artículos de talabartería o guarnicionería; artículos de viaje, bolsos de mano (carteras) y continentes similares; manufacturas de tripa/4103",
          "Pieles, cueros, peletería y manufacturas de estas materias; artículos de talabartería o guarnicionería; artículos de viaje, bolsos de mano (carteras) y continentes similares; manufacturas de tripa/4104",
          "Pieles, cueros, peletería y manufacturas de estas materias; artículos de talabartería o guarnicionería; artículos de viaje, bolsos de mano (carteras) y continentes similares; manufacturas de tripa/4107",
          "Pieles, cueros, peletería y manufacturas de estas materias; artículos de talabartería o guarnicionería; artículos de viaje, bolsos de mano (carteras) y continentes similares; manufacturas de tripa/4113",
          "Pieles, cueros, peletería y manufacturas de estas materias; artículos de talabartería o guarnicionería; artículos de viaje, bolsos de mano (carteras) y continentes similares; manufacturas de tripa/4114",
          "Pieles, cueros, peletería y manufacturas de estas materias; artículos de talabartería o guarnicionería; artículos de viaje, bolsos de mano (carteras) y continentes similares; manufacturas de tripa/4115",
          "Pieles, cueros, peletería y manufacturas de estas materias; artículos de talabartería o guarnicionería; artículos de viaje, bolsos de mano (carteras) y continentes similares; manufacturas de tripa/4201",
          "Pieles, cueros, peletería y manufacturas de estas materias; artículos de talabartería o guarnicionería; artículos de viaje, bolsos de mano (carteras) y continentes similares; manufacturas de tripa/4202",
          "Pieles, cueros, peletería y manufacturas de estas materias; artículos de talabartería o guarnicionería; artículos de viaje, bolsos de mano (carteras) y continentes similares; manufacturas de tripa/4203",
          "Pieles, cueros, peletería y manufacturas de estas materias; artículos de talabartería o guarnicionería; artículos de viaje, bolsos de mano (carteras) y continentes similares; manufacturas de tripa/4205",
          "Pieles, cueros, peletería y manufacturas de estas materias; artículos de talabartería o guarnicionería; artículos de viaje, bolsos de mano (carteras) y continentes similares; manufacturas de tripa/4302",
          "Pieles, cueros, peletería y manufacturas de estas materias; artículos de talabartería o guarnicionería; artículos de viaje, bolsos de mano (carteras) y continentes similares; manufacturas de tripa/4303",
          "Pieles, cueros, peletería y manufacturas de estas materias; artículos de talabartería o guarnicionería; artículos de viaje, bolsos de mano (carteras) y continentes similares; manufacturas de tripa/4304",
          "Madera, carbón vegetal y manufacturas de madera; corcho y sus manufacturas; manufacturas de espartería o cestería/4401",
          "Madera, carbón vegetal y manufacturas de madera; corcho y sus manufacturas; manufacturas de espartería o cestería/4402",
          "Madera, carbón vegetal y manufacturas de madera; corcho y sus manufacturas; manufacturas de espartería o cestería/4403",
          "Madera, carbón vegetal y manufacturas de madera; corcho y sus manufacturas; manufacturas de espartería o cestería/4404",
          "Madera, carbón vegetal y manufacturas de madera; corcho y sus manufacturas; manufacturas de espartería o cestería/4405",
          "Madera, carbón vegetal y manufacturas de madera; corcho y sus manufacturas; manufacturas de espartería o cestería/4407",
          "Madera, carbón vegetal y manufacturas de madera; corcho y sus manufacturas; manufacturas de espartería o cestería/4408",
          "Madera, carbón vegetal y manufacturas de madera; corcho y sus manufacturas; manufacturas de espartería o cestería/4409",
          "Madera, carbón vegetal y manufacturas de madera; corcho y sus manufacturas; manufacturas de espartería o cestería/4410",
          "Madera, carbón vegetal y manufacturas de madera; corcho y sus manufacturas; manufacturas de espartería o cestería/4411",
          "Madera, carbón vegetal y manufacturas de madera; corcho y sus manufacturas; manufacturas de espartería o cestería/4412",
          "Madera, carbón vegetal y manufacturas de madera; corcho y sus manufacturas; manufacturas de espartería o cestería/4413",
          "Madera, carbón vegetal y manufacturas de madera; corcho y sus manufacturas; manufacturas de espartería o cestería/4414",
          "Madera, carbón vegetal y manufacturas de madera; corcho y sus manufacturas; manufacturas de espartería o cestería/4415",
          "Madera, carbón vegetal y manufacturas de madera; corcho y sus manufacturas; manufacturas de espartería o cestería/4416",
          "Madera, carbón vegetal y manufacturas de madera; corcho y sus manufacturas; manufacturas de espartería o cestería/4417",
          "Madera, carbón vegetal y manufacturas de madera; corcho y sus manufacturas; manufacturas de espartería o cestería/4418",
          "Madera, carbón vegetal y manufacturas de madera; corcho y sus manufacturas; manufacturas de espartería o cestería/4419",
          "Madera, carbón vegetal y manufacturas de madera; corcho y sus manufacturas; manufacturas de espartería o cestería/4420",
          "Madera, carbón vegetal y manufacturas de madera; corcho y sus manufacturas; manufacturas de espartería o cestería/4421",
          "Madera, carbón vegetal y manufacturas de madera; corcho y sus manufacturas; manufacturas de espartería o cestería/4501",
          "Madera, carbón vegetal y manufacturas de madera; corcho y sus manufacturas; manufacturas de espartería o cestería/4502",
          "Madera, carbón vegetal y manufacturas de madera; corcho y sus manufacturas; manufacturas de espartería o cestería/4503",
          "Madera, carbón vegetal y manufacturas de madera; corcho y sus manufacturas; manufacturas de espartería o cestería/4504",
          "Madera, carbón vegetal y manufacturas de madera; corcho y sus manufacturas; manufacturas de espartería o cestería/4601",
          "Madera, carbón vegetal y manufacturas de madera; corcho y sus manufacturas; manufacturas de espartería o cestería/4602",
          "Pasta de madera o de las demás materias fibrosas celulósicas; papel o cartón para reciclar (desperdicios y desechos); papel o cartón y sus aplicaciones/4702",
          "Pasta de madera o de las demás materias fibrosas celulósicas; papel o cartón para reciclar (desperdicios y desechos); papel o cartón y sus aplicaciones/4703",
          "Pasta de madera o de las demás materias fibrosas celulósicas; papel o cartón para reciclar (desperdicios y desechos); papel o cartón y sus aplicaciones/4706",
          "Pasta de madera o de las demás materias fibrosas celulósicas; papel o cartón para reciclar (desperdicios y desechos); papel o cartón y sus aplicaciones/4707",
          "Pasta de madera o de las demás materias fibrosas celulósicas; papel o cartón para reciclar (desperdicios y desechos); papel o cartón y sus aplicaciones/4801",
          "Pasta de madera o de las demás materias fibrosas celulósicas; papel o cartón para reciclar (desperdicios y desechos); papel o cartón y sus aplicaciones/4802",
          "Pasta de madera o de las demás materias fibrosas celulósicas; papel o cartón para reciclar (desperdicios y desechos); papel o cartón y sus aplicaciones/4803",
          "Pasta de madera o de las demás materias fibrosas celulósicas; papel o cartón para reciclar (desperdicios y desechos); papel o cartón y sus aplicaciones/4804",
          "Pasta de madera o de las demás materias fibrosas celulósicas; papel o cartón para reciclar (desperdicios y desechos); papel o cartón y sus aplicaciones/4805",
          "Pasta de madera o de las demás materias fibrosas celulósicas; papel o cartón para reciclar (desperdicios y desechos); papel o cartón y sus aplicaciones/4806",
          "Pasta de madera o de las demás materias fibrosas celulósicas; papel o cartón para reciclar (desperdicios y desechos); papel o cartón y sus aplicaciones/4807",
          "Pasta de madera o de las demás materias fibrosas celulósicas; papel o cartón para reciclar (desperdicios y desechos); papel o cartón y sus aplicaciones/4808",
          "Pasta de madera o de las demás materias fibrosas celulósicas; papel o cartón para reciclar (desperdicios y desechos); papel o cartón y sus aplicaciones/4809",
          "Pasta de madera o de las demás materias fibrosas celulósicas; papel o cartón para reciclar (desperdicios y desechos); papel o cartón y sus aplicaciones/4810",
          "Pasta de madera o de las demás materias fibrosas celulósicas; papel o cartón para reciclar (desperdicios y desechos); papel o cartón y sus aplicaciones/4811",
          "Pasta de madera o de las demás materias fibrosas celulósicas; papel o cartón para reciclar (desperdicios y desechos); papel o cartón y sus aplicaciones/4812",
          "Pasta de madera o de las demás materias fibrosas celulósicas; papel o cartón para reciclar (desperdicios y desechos); papel o cartón y sus aplicaciones/4813",
          "Pasta de madera o de las demás materias fibrosas celulósicas; papel o cartón para reciclar (desperdicios y desechos); papel o cartón y sus aplicaciones/4814",
          "Pasta de madera o de las demás materias fibrosas celulósicas; papel o cartón para reciclar (desperdicios y desechos); papel o cartón y sus aplicaciones/4816",
          "Pasta de madera o de las demás materias fibrosas celulósicas; papel o cartón para reciclar (desperdicios y desechos); papel o cartón y sus aplicaciones/4817",
          "Pasta de madera o de las demás materias fibrosas celulósicas; papel o cartón para reciclar (desperdicios y desechos); papel o cartón y sus aplicaciones/4818",
          "Pasta de madera o de las demás materias fibrosas celulósicas; papel o cartón para reciclar (desperdicios y desechos); papel o cartón y sus aplicaciones/4819",
          "Pasta de madera o de las demás materias fibrosas celulósicas; papel o cartón para reciclar (desperdicios y desechos); papel o cartón y sus aplicaciones/4820",
          "Pasta de madera o de las demás materias fibrosas celulósicas; papel o cartón para reciclar (desperdicios y desechos); papel o cartón y sus aplicaciones/4821",
          "Pasta de madera o de las demás materias fibrosas celulósicas; papel o cartón para reciclar (desperdicios y desechos); papel o cartón y sus aplicaciones/4822",
          "Pasta de madera o de las demás materias fibrosas celulósicas; papel o cartón para reciclar (desperdicios y desechos); papel o cartón y sus aplicaciones/4823",
          "Pasta de madera o de las demás materias fibrosas celulósicas; papel o cartón para reciclar (desperdicios y desechos); papel o cartón y sus aplicaciones/4901",
          "Pasta de madera o de las demás materias fibrosas celulósicas; papel o cartón para reciclar (desperdicios y desechos); papel o cartón y sus aplicaciones/4902",
          "Pasta de madera o de las demás materias fibrosas celulósicas; papel o cartón para reciclar (desperdicios y desechos); papel o cartón y sus aplicaciones/4903",
          "Pasta de madera o de las demás materias fibrosas celulósicas; papel o cartón para reciclar (desperdicios y desechos); papel o cartón y sus aplicaciones/4904",
          "Pasta de madera o de las demás materias fibrosas celulósicas; papel o cartón para reciclar (desperdicios y desechos); papel o cartón y sus aplicaciones/4905",
          "Pasta de madera o de las demás materias fibrosas celulósicas; papel o cartón para reciclar (desperdicios y desechos); papel o cartón y sus aplicaciones/4906",
          "Pasta de madera o de las demás materias fibrosas celulósicas; papel o cartón para reciclar (desperdicios y desechos); papel o cartón y sus aplicaciones/4908",
          "Pasta de madera o de las demás materias fibrosas celulósicas; papel o cartón para reciclar (desperdicios y desechos); papel o cartón y sus aplicaciones/4909",
          "Pasta de madera o de las demás materias fibrosas celulósicas; papel o cartón para reciclar (desperdicios y desechos); papel o cartón y sus aplicaciones/4910",
          "Pasta de madera o de las demás materias fibrosas celulósicas; papel o cartón para reciclar (desperdicios y desechos); papel o cartón y sus aplicaciones/4911",
          "Materias textiles y sus manufacturas/5007",
          "Materias textiles y sus manufacturas/5105",
          "Materias textiles y sus manufacturas/5106",
          "Materias textiles y sus manufacturas/5107",
          "Materias textiles y sus manufacturas/5111",
          "Materias textiles y sus manufacturas/5112",
          "Materias textiles y sus manufacturas/5201",
          "Materias textiles y sus manufacturas/5202",
          "Materias textiles y sus manufacturas/5203",
          "Materias textiles y sus manufacturas/5204",
          "Materias textiles y sus manufacturas/5205",
          "Materias textiles y sus manufacturas/5206",
          "Materias textiles y sus manufacturas/5207",
          "Materias textiles y sus manufacturas/5208",
          "Materias textiles y sus manufacturas/5209",
          "Materias textiles y sus manufacturas/5210",
          "Materias textiles y sus manufacturas/5211",
          "Materias textiles y sus manufacturas/5212",
          "Materias textiles y sus manufacturas/5305",
          "Materias textiles y sus manufacturas/5308",
          "Materias textiles y sus manufacturas/5309",
          "Materias textiles y sus manufacturas/5311",
          "Materias textiles y sus manufacturas/5401",
          "Materias textiles y sus manufacturas/5402",
          "Materias textiles y sus manufacturas/5403",
          "Materias textiles y sus manufacturas/5404",
          "Materias textiles y sus manufacturas/5406",
          "Materias textiles y sus manufacturas/5407",
          "Materias textiles y sus manufacturas/5408",
          "Materias textiles y sus manufacturas/5503",
          "Materias textiles y sus manufacturas/5504",
          "Materias textiles y sus manufacturas/5505",
          "Materias textiles y sus manufacturas/5506",
          "Materias textiles y sus manufacturas/5507",
          "Materias textiles y sus manufacturas/5508",
          "Materias textiles y sus manufacturas/5509",
          "Materias textiles y sus manufacturas/5510",
          "Materias textiles y sus manufacturas/5511",
          "Materias textiles y sus manufacturas/5512",
          "Materias textiles y sus manufacturas/5513",
          "Materias textiles y sus manufacturas/5514",
          "Materias textiles y sus manufacturas/5515",
          "Materias textiles y sus manufacturas/5516",
          "Materias textiles y sus manufacturas/5601",
          "Materias textiles y sus manufacturas/5602",
          "Materias textiles y sus manufacturas/5603",
          "Materias textiles y sus manufacturas/5604",
          "Materias textiles y sus manufacturas/5605",
          "Materias textiles y sus manufacturas/5606",
          "Materias textiles y sus manufacturas/5607",
          "Materias textiles y sus manufacturas/5608",
          "Materias textiles y sus manufacturas/5609",
          "Materias textiles y sus manufacturas/5701",
          "Materias textiles y sus manufacturas/5702",
          "Materias textiles y sus manufacturas/5703",
          "Materias textiles y sus manufacturas/5704",
          "Materias textiles y sus manufacturas/5705",
          "Materias textiles y sus manufacturas/5801",
          "Materias textiles y sus manufacturas/5802",
          "Materias textiles y sus manufacturas/5803",
          "Materias textiles y sus manufacturas/5804",
          "Materias textiles y sus manufacturas/5806",
          "Materias textiles y sus manufacturas/5807",
          "Materias textiles y sus manufacturas/5808",
          "Materias textiles y sus manufacturas/5809",
          "Materias textiles y sus manufacturas/5810",
          "Materias textiles y sus manufacturas/5811",
          "Materias textiles y sus manufacturas/5901",
          "Materias textiles y sus manufacturas/5902",
          "Materias textiles y sus manufacturas/5903",
          "Materias textiles y sus manufacturas/5904",
          "Materias textiles y sus manufacturas/5905",
          "Materias textiles y sus manufacturas/5906",
          "Materias textiles y sus manufacturas/5907",
          "Materias textiles y sus manufacturas/5908",
          "Materias textiles y sus manufacturas/5909",
          "Materias textiles y sus manufacturas/5910",
          "Materias textiles y sus manufacturas/5911",
          "Materias textiles y sus manufacturas/6001",
          "Materias textiles y sus manufacturas/6002",
          "Materias textiles y sus manufacturas/6003",
          "Materias textiles y sus manufacturas/6004",
          "Materias textiles y sus manufacturas/6005",
          "Materias textiles y sus manufacturas/6006",
          "Materias textiles y sus manufacturas/6101",
          "Materias textiles y sus manufacturas/6102",
          "Materias textiles y sus manufacturas/6103",
          "Materias textiles y sus manufacturas/6104",
          "Materias textiles y sus manufacturas/6105",
          "Materias textiles y sus manufacturas/6106",
          "Materias textiles y sus manufacturas/6107",
          "Materias textiles y sus manufacturas/6108",
          "Materias textiles y sus manufacturas/6109",
          "Materias textiles y sus manufacturas/6110",
          "Materias textiles y sus manufacturas/6111",
          "Materias textiles y sus manufacturas/6112",
          "Materias textiles y sus manufacturas/6113",
          "Materias textiles y sus manufacturas/6114",
          "Materias textiles y sus manufacturas/6115",
          "Materias textiles y sus manufacturas/6116",
          "Materias textiles y sus manufacturas/6117",
          "Materias textiles y sus manufacturas/6201",
          "Materias textiles y sus manufacturas/6202",
          "Materias textiles y sus manufacturas/6203",
          "Materias textiles y sus manufacturas/6204",
          "Materias textiles y sus manufacturas/6205",
          "Materias textiles y sus manufacturas/6206",
          "Materias textiles y sus manufacturas/6207",
          "Materias textiles y sus manufacturas/6208",
          "Materias textiles y sus manufacturas/6209",
          "Materias textiles y sus manufacturas/6210",
          "Materias textiles y sus manufacturas/6211",
          "Materias textiles y sus manufacturas/6212",
          "Materias textiles y sus manufacturas/6213",
          "Materias textiles y sus manufacturas/6214",
          "Materias textiles y sus manufacturas/6216",
          "Materias textiles y sus manufacturas/6217",
          "Materias textiles y sus manufacturas/6301",
          "Materias textiles y sus manufacturas/6302",
          "Materias textiles y sus manufacturas/6303",
          "Materias textiles y sus manufacturas/6304",
          "Materias textiles y sus manufacturas/6305",
          "Materias textiles y sus manufacturas/6306",
          "Materias textiles y sus manufacturas/6307",
          "Materias textiles y sus manufacturas/6310",
          "Calzado, sombreros y demás tocados, paraguas, quitasoles, bastones, látigos, fustas y sus partes; plumas preparadas y artículos de plumas; flores artificiales; manufacturas de cabello/6401",
          "Calzado, sombreros y demás tocados, paraguas, quitasoles, bastones, látigos, fustas y sus partes; plumas preparadas y artículos de plumas; flores artificiales; manufacturas de cabello/6402",
          "Calzado, sombreros y demás tocados, paraguas, quitasoles, bastones, látigos, fustas y sus partes; plumas preparadas y artículos de plumas; flores artificiales; manufacturas de cabello/6403",
          "Calzado, sombreros y demás tocados, paraguas, quitasoles, bastones, látigos, fustas y sus partes; plumas preparadas y artículos de plumas; flores artificiales; manufacturas de cabello/6404",
          "Calzado, sombreros y demás tocados, paraguas, quitasoles, bastones, látigos, fustas y sus partes; plumas preparadas y artículos de plumas; flores artificiales; manufacturas de cabello/6405",
          "Calzado, sombreros y demás tocados, paraguas, quitasoles, bastones, látigos, fustas y sus partes; plumas preparadas y artículos de plumas; flores artificiales; manufacturas de cabello/6406",
          "Calzado, sombreros y demás tocados, paraguas, quitasoles, bastones, látigos, fustas y sus partes; plumas preparadas y artículos de plumas; flores artificiales; manufacturas de cabello/6504",
          "Calzado, sombreros y demás tocados, paraguas, quitasoles, bastones, látigos, fustas y sus partes; plumas preparadas y artículos de plumas; flores artificiales; manufacturas de cabello/6505",
          "Calzado, sombreros y demás tocados, paraguas, quitasoles, bastones, látigos, fustas y sus partes; plumas preparadas y artículos de plumas; flores artificiales; manufacturas de cabello/6506",
          "Calzado, sombreros y demás tocados, paraguas, quitasoles, bastones, látigos, fustas y sus partes; plumas preparadas y artículos de plumas; flores artificiales; manufacturas de cabello/6507",
          "Calzado, sombreros y demás tocados, paraguas, quitasoles, bastones, látigos, fustas y sus partes; plumas preparadas y artículos de plumas; flores artificiales; manufacturas de cabello/6601",
          "Calzado, sombreros y demás tocados, paraguas, quitasoles, bastones, látigos, fustas y sus partes; plumas preparadas y artículos de plumas; flores artificiales; manufacturas de cabello/6602",
          "Calzado, sombreros y demás tocados, paraguas, quitasoles, bastones, látigos, fustas y sus partes; plumas preparadas y artículos de plumas; flores artificiales; manufacturas de cabello/6603",
          "Calzado, sombreros y demás tocados, paraguas, quitasoles, bastones, látigos, fustas y sus partes; plumas preparadas y artículos de plumas; flores artificiales; manufacturas de cabello/6701",
          "Calzado, sombreros y demás tocados, paraguas, quitasoles, bastones, látigos, fustas y sus partes; plumas preparadas y artículos de plumas; flores artificiales; manufacturas de cabello/6702",
          "Calzado, sombreros y demás tocados, paraguas, quitasoles, bastones, látigos, fustas y sus partes; plumas preparadas y artículos de plumas; flores artificiales; manufacturas de cabello/6703",
          "Calzado, sombreros y demás tocados, paraguas, quitasoles, bastones, látigos, fustas y sus partes; plumas preparadas y artículos de plumas; flores artificiales; manufacturas de cabello/6704",
          "Manufacturas de piedra, yeso fraguable, cemento, amianto (asbesto), mica o materias análogas; productos cerámicos; vidrio y manufacturas de vidrio/6801",
          "Manufacturas de piedra, yeso fraguable, cemento, amianto (asbesto), mica o materias análogas; productos cerámicos; vidrio y manufacturas de vidrio/6802",
          "Manufacturas de piedra, yeso fraguable, cemento, amianto (asbesto), mica o materias análogas; productos cerámicos; vidrio y manufacturas de vidrio/6804",
          "Manufacturas de piedra, yeso fraguable, cemento, amianto (asbesto), mica o materias análogas; productos cerámicos; vidrio y manufacturas de vidrio/6805",
          "Manufacturas de piedra, yeso fraguable, cemento, amianto (asbesto), mica o materias análogas; productos cerámicos; vidrio y manufacturas de vidrio/6806",
          "Manufacturas de piedra, yeso fraguable, cemento, amianto (asbesto), mica o materias análogas; productos cerámicos; vidrio y manufacturas de vidrio/6807",
          "Manufacturas de piedra, yeso fraguable, cemento, amianto (asbesto), mica o materias análogas; productos cerámicos; vidrio y manufacturas de vidrio/6808",
          "Manufacturas de piedra, yeso fraguable, cemento, amianto (asbesto), mica o materias análogas; productos cerámicos; vidrio y manufacturas de vidrio/6809",
          "Manufacturas de piedra, yeso fraguable, cemento, amianto (asbesto), mica o materias análogas; productos cerámicos; vidrio y manufacturas de vidrio/6810",
          "Manufacturas de piedra, yeso fraguable, cemento, amianto (asbesto), mica o materias análogas; productos cerámicos; vidrio y manufacturas de vidrio/6811",
          "Manufacturas de piedra, yeso fraguable, cemento, amianto (asbesto), mica o materias análogas; productos cerámicos; vidrio y manufacturas de vidrio/6812",
          "Manufacturas de piedra, yeso fraguable, cemento, amianto (asbesto), mica o materias análogas; productos cerámicos; vidrio y manufacturas de vidrio/6813",
          "Manufacturas de piedra, yeso fraguable, cemento, amianto (asbesto), mica o materias análogas; productos cerámicos; vidrio y manufacturas de vidrio/6814",
          "Manufacturas de piedra, yeso fraguable, cemento, amianto (asbesto), mica o materias análogas; productos cerámicos; vidrio y manufacturas de vidrio/6815",
          "Manufacturas de piedra, yeso fraguable, cemento, amianto (asbesto), mica o materias análogas; productos cerámicos; vidrio y manufacturas de vidrio/6901",
          "Manufacturas de piedra, yeso fraguable, cemento, amianto (asbesto), mica o materias análogas; productos cerámicos; vidrio y manufacturas de vidrio/6902",
          "Manufacturas de piedra, yeso fraguable, cemento, amianto (asbesto), mica o materias análogas; productos cerámicos; vidrio y manufacturas de vidrio/6903",
          "Manufacturas de piedra, yeso fraguable, cemento, amianto (asbesto), mica o materias análogas; productos cerámicos; vidrio y manufacturas de vidrio/6904",
          "Manufacturas de piedra, yeso fraguable, cemento, amianto (asbesto), mica o materias análogas; productos cerámicos; vidrio y manufacturas de vidrio/6905",
          "Manufacturas de piedra, yeso fraguable, cemento, amianto (asbesto), mica o materias análogas; productos cerámicos; vidrio y manufacturas de vidrio/6906",
          "Manufacturas de piedra, yeso fraguable, cemento, amianto (asbesto), mica o materias análogas; productos cerámicos; vidrio y manufacturas de vidrio/6907",
          "Manufacturas de piedra, yeso fraguable, cemento, amianto (asbesto), mica o materias análogas; productos cerámicos; vidrio y manufacturas de vidrio/6909",
          "Manufacturas de piedra, yeso fraguable, cemento, amianto (asbesto), mica o materias análogas; productos cerámicos; vidrio y manufacturas de vidrio/6910",
          "Manufacturas de piedra, yeso fraguable, cemento, amianto (asbesto), mica o materias análogas; productos cerámicos; vidrio y manufacturas de vidrio/6911",
          "Manufacturas de piedra, yeso fraguable, cemento, amianto (asbesto), mica o materias análogas; productos cerámicos; vidrio y manufacturas de vidrio/6912",
          "Manufacturas de piedra, yeso fraguable, cemento, amianto (asbesto), mica o materias análogas; productos cerámicos; vidrio y manufacturas de vidrio/6913",
          "Manufacturas de piedra, yeso fraguable, cemento, amianto (asbesto), mica o materias análogas; productos cerámicos; vidrio y manufacturas de vidrio/6914",
          "Manufacturas de piedra, yeso fraguable, cemento, amianto (asbesto), mica o materias análogas; productos cerámicos; vidrio y manufacturas de vidrio/7001",
          "Manufacturas de piedra, yeso fraguable, cemento, amianto (asbesto), mica o materias análogas; productos cerámicos; vidrio y manufacturas de vidrio/7002",
          "Manufacturas de piedra, yeso fraguable, cemento, amianto (asbesto), mica o materias análogas; productos cerámicos; vidrio y manufacturas de vidrio/7003",
          "Manufacturas de piedra, yeso fraguable, cemento, amianto (asbesto), mica o materias análogas; productos cerámicos; vidrio y manufacturas de vidrio/7004",
          "Manufacturas de piedra, yeso fraguable, cemento, amianto (asbesto), mica o materias análogas; productos cerámicos; vidrio y manufacturas de vidrio/7005",
          "Manufacturas de piedra, yeso fraguable, cemento, amianto (asbesto), mica o materias análogas; productos cerámicos; vidrio y manufacturas de vidrio/7006",
          "Manufacturas de piedra, yeso fraguable, cemento, amianto (asbesto), mica o materias análogas; productos cerámicos; vidrio y manufacturas de vidrio/7007",
          "Manufacturas de piedra, yeso fraguable, cemento, amianto (asbesto), mica o materias análogas; productos cerámicos; vidrio y manufacturas de vidrio/7008",
          "Manufacturas de piedra, yeso fraguable, cemento, amianto (asbesto), mica o materias análogas; productos cerámicos; vidrio y manufacturas de vidrio/7009",
          "Manufacturas de piedra, yeso fraguable, cemento, amianto (asbesto), mica o materias análogas; productos cerámicos; vidrio y manufacturas de vidrio/7010",
          "Manufacturas de piedra, yeso fraguable, cemento, amianto (asbesto), mica o materias análogas; productos cerámicos; vidrio y manufacturas de vidrio/7011",
          "Manufacturas de piedra, yeso fraguable, cemento, amianto (asbesto), mica o materias análogas; productos cerámicos; vidrio y manufacturas de vidrio/7013",
          "Manufacturas de piedra, yeso fraguable, cemento, amianto (asbesto), mica o materias análogas; productos cerámicos; vidrio y manufacturas de vidrio/7014",
          "Manufacturas de piedra, yeso fraguable, cemento, amianto (asbesto), mica o materias análogas; productos cerámicos; vidrio y manufacturas de vidrio/7015",
          "Manufacturas de piedra, yeso fraguable, cemento, amianto (asbesto), mica o materias análogas; productos cerámicos; vidrio y manufacturas de vidrio/7016",
          "Manufacturas de piedra, yeso fraguable, cemento, amianto (asbesto), mica o materias análogas; productos cerámicos; vidrio y manufacturas de vidrio/7017",
          "Manufacturas de piedra, yeso fraguable, cemento, amianto (asbesto), mica o materias análogas; productos cerámicos; vidrio y manufacturas de vidrio/7018",
          "Manufacturas de piedra, yeso fraguable, cemento, amianto (asbesto), mica o materias análogas; productos cerámicos; vidrio y manufacturas de vidrio/7019",
          "Manufacturas de piedra, yeso fraguable, cemento, amianto (asbesto), mica o materias análogas; productos cerámicos; vidrio y manufacturas de vidrio/7020",
          "Perlas finas (naturales) o cultivadas, piedras preciosas o semipreciosas, metales preciosos, chapados de metal precioso (plaqué) y manufacturas de estas materias; bisutería; monedas/7101",
          "Perlas finas (naturales) o cultivadas, piedras preciosas o semipreciosas, metales preciosos, chapados de metal precioso (plaqué) y manufacturas de estas materias; bisutería; monedas/7102",
          "Perlas finas (naturales) o cultivadas, piedras preciosas o semipreciosas, metales preciosos, chapados de metal precioso (plaqué) y manufacturas de estas materias; bisutería; monedas/7103",
          "Perlas finas (naturales) o cultivadas, piedras preciosas o semipreciosas, metales preciosos, chapados de metal precioso (plaqué) y manufacturas de estas materias; bisutería; monedas/7104",
          "Perlas finas (naturales) o cultivadas, piedras preciosas o semipreciosas, metales preciosos, chapados de metal precioso (plaqué) y manufacturas de estas materias; bisutería; monedas/7105",
          "Perlas finas (naturales) o cultivadas, piedras preciosas o semipreciosas, metales preciosos, chapados de metal precioso (plaqué) y manufacturas de estas materias; bisutería; monedas/7106",
          "Perlas finas (naturales) o cultivadas, piedras preciosas o semipreciosas, metales preciosos, chapados de metal precioso (plaqué) y manufacturas de estas materias; bisutería; monedas/7107",
          "Perlas finas (naturales) o cultivadas, piedras preciosas o semipreciosas, metales preciosos, chapados de metal precioso (plaqué) y manufacturas de estas materias; bisutería; monedas/7108",
          "Perlas finas (naturales) o cultivadas, piedras preciosas o semipreciosas, metales preciosos, chapados de metal precioso (plaqué) y manufacturas de estas materias; bisutería; monedas/7109",
          "Perlas finas (naturales) o cultivadas, piedras preciosas o semipreciosas, metales preciosos, chapados de metal precioso (plaqué) y manufacturas de estas materias; bisutería; monedas/7110",
          "Perlas finas (naturales) o cultivadas, piedras preciosas o semipreciosas, metales preciosos, chapados de metal precioso (plaqué) y manufacturas de estas materias; bisutería; monedas/7113",
          "Perlas finas (naturales) o cultivadas, piedras preciosas o semipreciosas, metales preciosos, chapados de metal precioso (plaqué) y manufacturas de estas materias; bisutería; monedas/7114",
          "Perlas finas (naturales) o cultivadas, piedras preciosas o semipreciosas, metales preciosos, chapados de metal precioso (plaqué) y manufacturas de estas materias; bisutería; monedas/7115",
          "Perlas finas (naturales) o cultivadas, piedras preciosas o semipreciosas, metales preciosos, chapados de metal precioso (plaqué) y manufacturas de estas materias; bisutería; monedas/7116",
          "Perlas finas (naturales) o cultivadas, piedras preciosas o semipreciosas, metales preciosos, chapados de metal precioso (plaqué) y manufacturas de estas materias; bisutería; monedas/7117",
          "Perlas finas (naturales) o cultivadas, piedras preciosas o semipreciosas, metales preciosos, chapados de metal precioso (plaqué) y manufacturas de estas materias; bisutería; monedas/7118",
          "Metales comunes y manufacturas de esos metales/7201",
          "Metales comunes y manufacturas de esos metales/7202",
          "Metales comunes y manufacturas de esos metales/7203",
          "Metales comunes y manufacturas de esos metales/7204",
          "Metales comunes y manufacturas de esos metales/7205",
          "Metales comunes y manufacturas de esos metales/7206",
          "Metales comunes y manufacturas de esos metales/7207",
          "Metales comunes y manufacturas de esos metales/7208",
          "Metales comunes y manufacturas de esos metales/7209",
          "Metales comunes y manufacturas de esos metales/7210",
          "Metales comunes y manufacturas de esos metales/7211",
          "Metales comunes y manufacturas de esos metales/7212",
          "Metales comunes y manufacturas de esos metales/7213",
          "Metales comunes y manufacturas de esos metales/7214",
          "Metales comunes y manufacturas de esos metales/7215",
          "Metales comunes y manufacturas de esos metales/7216",
          "Metales comunes y manufacturas de esos metales/7217",
          "Metales comunes y manufacturas de esos metales/7218",
          "Metales comunes y manufacturas de esos metales/7219",
          "Metales comunes y manufacturas de esos metales/7220",
          "Metales comunes y manufacturas de esos metales/7221",
          "Metales comunes y manufacturas de esos metales/7222",
          "Metales comunes y manufacturas de esos metales/7223",
          "Metales comunes y manufacturas de esos metales/7224",
          "Metales comunes y manufacturas de esos metales/7225",
          "Metales comunes y manufacturas de esos metales/7226",
          "Metales comunes y manufacturas de esos metales/7227",
          "Metales comunes y manufacturas de esos metales/7228",
          "Metales comunes y manufacturas de esos metales/7229",
          "Metales comunes y manufacturas de esos metales/7301",
          "Metales comunes y manufacturas de esos metales/7302",
          "Metales comunes y manufacturas de esos metales/7303",
          "Metales comunes y manufacturas de esos metales/7304",
          "Metales comunes y manufacturas de esos metales/7305",
          "Metales comunes y manufacturas de esos metales/7306",
          "Metales comunes y manufacturas de esos metales/7307",
          "Metales comunes y manufacturas de esos metales/7308",
          "Metales comunes y manufacturas de esos metales/7309",
          "Metales comunes y manufacturas de esos metales/7310",
          "Metales comunes y manufacturas de esos metales/7311",
          "Metales comunes y manufacturas de esos metales/7312",
          "Metales comunes y manufacturas de esos metales/7313",
          "Metales comunes y manufacturas de esos metales/7314",
          "Metales comunes y manufacturas de esos metales/7315",
          "Metales comunes y manufacturas de esos metales/7316",
          "Metales comunes y manufacturas de esos metales/7317",
          "Metales comunes y manufacturas de esos metales/7319",
          "Metales comunes y manufacturas de esos metales/7320",
          "Metales comunes y manufacturas de esos metales/7321",
          "Metales comunes y manufacturas de esos metales/7322",
          "Metales comunes y manufacturas de esos metales/7323",
          "Metales comunes y manufacturas de esos metales/7324",
          "Metales comunes y manufacturas de esos metales/7325",
          "Metales comunes y manufacturas de esos metales/7326",
          "Metales comunes y manufacturas de esos metales/7403",
          "Metales comunes y manufacturas de esos metales/7404",
          "Metales comunes y manufacturas de esos metales/7405",
          "Metales comunes y manufacturas de esos metales/7406",
          "Metales comunes y manufacturas de esos metales/7407",
          "Metales comunes y manufacturas de esos metales/7408",
          "Metales comunes y manufacturas de esos metales/7409",
          "Metales comunes y manufacturas de esos metales/7410",
          "Metales comunes y manufacturas de esos metales/7411",
          "Metales comunes y manufacturas de esos metales/7412",
          "Metales comunes y manufacturas de esos metales/7413",
          "Metales comunes y manufacturas de esos metales/7415",
          "Metales comunes y manufacturas de esos metales/7418",
          "Metales comunes y manufacturas de esos metales/7419",
          "Metales comunes y manufacturas de esos metales/7502",
          "Metales comunes y manufacturas de esos metales/7504",
          "Metales comunes y manufacturas de esos metales/7505",
          "Metales comunes y manufacturas de esos metales/7506",
          "Metales comunes y manufacturas de esos metales/7507",
          "Metales comunes y manufacturas de esos metales/7508",
          "Metales comunes y manufacturas de esos metales/7601",
          "Metales comunes y manufacturas de esos metales/7602",
          "Metales comunes y manufacturas de esos metales/7603",
          "Metales comunes y manufacturas de esos metales/7604",
          "Metales comunes y manufacturas de esos metales/7605",
          "Metales comunes y manufacturas de esos metales/7606",
          "Metales comunes y manufacturas de esos metales/7607",
          "Metales comunes y manufacturas de esos metales/7608",
          "Metales comunes y manufacturas de esos metales/7609",
          "Metales comunes y manufacturas de esos metales/7610",
          "Metales comunes y manufacturas de esos metales/7611",
          "Metales comunes y manufacturas de esos metales/7612",
          "Metales comunes y manufacturas de esos metales/7613",
          "Metales comunes y manufacturas de esos metales/7614",
          "Metales comunes y manufacturas de esos metales/7615",
          "Metales comunes y manufacturas de esos metales/7616",
          "Metales comunes y manufacturas de esos metales/7901",
          "Metales comunes y manufacturas de esos metales/7903",
          "Metales comunes y manufacturas de esos metales/7904",
          "Metales comunes y manufacturas de esos metales/7905",
          "Metales comunes y manufacturas de esos metales/7907",
          "Metales comunes y manufacturas de esos metales/8001",
          "Metales comunes y manufacturas de esos metales/8002",
          "Metales comunes y manufacturas de esos metales/8003",
          "Metales comunes y manufacturas de esos metales/8007",
          "Metales comunes y manufacturas de esos metales/8101",
          "Metales comunes y manufacturas de esos metales/8102",
          "Metales comunes y manufacturas de esos metales/8103",
          "Metales comunes y manufacturas de esos metales/8104",
          "Metales comunes y manufacturas de esos metales/8105",
          "Metales comunes y manufacturas de esos metales/8106",
          "Metales comunes y manufacturas de esos metales/8107",
          "Metales comunes y manufacturas de esos metales/8108",
          "Metales comunes y manufacturas de esos metales/8109",
          "Metales comunes y manufacturas de esos metales/8110",
          "Metales comunes y manufacturas de esos metales/8111",
          "Metales comunes y manufacturas de esos metales/8112",
          "Metales comunes y manufacturas de esos metales/8113",
          "Metales comunes y manufacturas de esos metales/8201",
          "Metales comunes y manufacturas de esos metales/8202",
          "Metales comunes y manufacturas de esos metales/8203",
          "Metales comunes y manufacturas de esos metales/8204",
          "Metales comunes y manufacturas de esos metales/8205",
          "Metales comunes y manufacturas de esos metales/8206",
          "Metales comunes y manufacturas de esos metales/8207",
          "Metales comunes y manufacturas de esos metales/8208",
          "Metales comunes y manufacturas de esos metales/8209",
          "Metales comunes y manufacturas de esos metales/8210",
          "Metales comunes y manufacturas de esos metales/8211",
          "Metales comunes y manufacturas de esos metales/8212",
          "Metales comunes y manufacturas de esos metales/8213",
          "Metales comunes y manufacturas de esos metales/8214",
          "Metales comunes y manufacturas de esos metales/8215",
          "Metales comunes y manufacturas de esos metales/8301",
          "Metales comunes y manufacturas de esos metales/8302",
          "Metales comunes y manufacturas de esos metales/8303",
          "Metales comunes y manufacturas de esos metales/8304",
          "Metales comunes y manufacturas de esos metales/8305",
          "Metales comunes y manufacturas de esos metales/8306",
          "Metales comunes y manufacturas de esos metales/8307",
          "Metales comunes y manufacturas de esos metales/8308",
          "Metales comunes y manufacturas de esos metales/8309",
          "Metales comunes y manufacturas de esos metales/8310",
          "Metales comunes y manufacturas de esos metales/8311",
          "Máquinas y aparatos, material eléctrico y sus partes; aparatos de grabación o reproducción de sonido, aparatos de grabación o reproducción de imagen y sonido en televisión, y las partes y accesorios de estos aparatos/8401",
          "Máquinas y aparatos, material eléctrico y sus partes; aparatos de grabación o reproducción de sonido, aparatos de grabación o reproducción de imagen y sonido en televisión, y las partes y accesorios de estos aparatos/8402",
          "Máquinas y aparatos, material eléctrico y sus partes; aparatos de grabación o reproducción de sonido, aparatos de grabación o reproducción de imagen y sonido en televisión, y las partes y accesorios de estos aparatos/8403",
          "Máquinas y aparatos, material eléctrico y sus partes; aparatos de grabación o reproducción de sonido, aparatos de grabación o reproducción de imagen y sonido en televisión, y las partes y accesorios de estos aparatos/8404",
          "Máquinas y aparatos, material eléctrico y sus partes; aparatos de grabación o reproducción de sonido, aparatos de grabación o reproducción de imagen y sonido en televisión, y las partes y accesorios de estos aparatos/8405",
          "Máquinas y aparatos, material eléctrico y sus partes; aparatos de grabación o reproducción de sonido, aparatos de grabación o reproducción de imagen y sonido en televisión, y las partes y accesorios de estos aparatos/8406",
          "Máquinas y aparatos, material eléctrico y sus partes; aparatos de grabación o reproducción de sonido, aparatos de grabación o reproducción de imagen y sonido en televisión, y las partes y accesorios de estos aparatos/8407",
          "Máquinas y aparatos, material eléctrico y sus partes; aparatos de grabación o reproducción de sonido, aparatos de grabación o reproducción de imagen y sonido en televisión, y las partes y accesorios de estos aparatos/8408",
          "Máquinas y aparatos, material eléctrico y sus partes; aparatos de grabación o reproducción de sonido, aparatos de grabación o reproducción de imagen y sonido en televisión, y las partes y accesorios de estos aparatos/8409",
          "Máquinas y aparatos, material eléctrico y sus partes; aparatos de grabación o reproducción de sonido, aparatos de grabación o reproducción de imagen y sonido en televisión, y las partes y accesorios de estos aparatos/8410",
          "Máquinas y aparatos, material eléctrico y sus partes; aparatos de grabación o reproducción de sonido, aparatos de grabación o reproducción de imagen y sonido en televisión, y las partes y accesorios de estos aparatos/8411",
          "Máquinas y aparatos, material eléctrico y sus partes; aparatos de grabación o reproducción de sonido, aparatos de grabación o reproducción de imagen y sonido en televisión, y las partes y accesorios de estos aparatos/8412",
          "Máquinas y aparatos, material eléctrico y sus partes; aparatos de grabación o reproducción de sonido, aparatos de grabación o reproducción de imagen y sonido en televisión, y las partes y accesorios de estos aparatos/8413",
          "Máquinas y aparatos, material eléctrico y sus partes; aparatos de grabación o reproducción de sonido, aparatos de grabación o reproducción de imagen y sonido en televisión, y las partes y accesorios de estos aparatos/8414",
          "Máquinas y aparatos, material eléctrico y sus partes; aparatos de grabación o reproducción de sonido, aparatos de grabación o reproducción de imagen y sonido en televisión, y las partes y accesorios de estos aparatos/8415",
          "Máquinas y aparatos, material eléctrico y sus partes; aparatos de grabación o reproducción de sonido, aparatos de grabación o reproducción de imagen y sonido en televisión, y las partes y accesorios de estos aparatos/8416",
          "Máquinas y aparatos, material eléctrico y sus partes; aparatos de grabación o reproducción de sonido, aparatos de grabación o reproducción de imagen y sonido en televisión, y las partes y accesorios de estos aparatos/8417",
          "Máquinas y aparatos, material eléctrico y sus partes; aparatos de grabación o reproducción de sonido, aparatos de grabación o reproducción de imagen y sonido en televisión, y las partes y accesorios de estos aparatos/8418",
          "Máquinas y aparatos, material eléctrico y sus partes; aparatos de grabación o reproducción de sonido, aparatos de grabación o reproducción de imagen y sonido en televisión, y las partes y accesorios de estos aparatos/8419",
          "Máquinas y aparatos, material eléctrico y sus partes; aparatos de grabación o reproducción de sonido, aparatos de grabación o reproducción de imagen y sonido en televisión, y las partes y accesorios de estos aparatos/8420",
          "Máquinas y aparatos, material eléctrico y sus partes; aparatos de grabación o reproducción de sonido, aparatos de grabación o reproducción de imagen y sonido en televisión, y las partes y accesorios de estos aparatos/8421",
          "Máquinas y aparatos, material eléctrico y sus partes; aparatos de grabación o reproducción de sonido, aparatos de grabación o reproducción de imagen y sonido en televisión, y las partes y accesorios de estos aparatos/8422",
          "Máquinas y aparatos, material eléctrico y sus partes; aparatos de grabación o reproducción de sonido, aparatos de grabación o reproducción de imagen y sonido en televisión, y las partes y accesorios de estos aparatos/8423",
          "Máquinas y aparatos, material eléctrico y sus partes; aparatos de grabación o reproducción de sonido, aparatos de grabación o reproducción de imagen y sonido en televisión, y las partes y accesorios de estos aparatos/8424",
          "Máquinas y aparatos, material eléctrico y sus partes; aparatos de grabación o reproducción de sonido, aparatos de grabación o reproducción de imagen y sonido en televisión, y las partes y accesorios de estos aparatos/8425",
          "Máquinas y aparatos, material eléctrico y sus partes; aparatos de grabación o reproducción de sonido, aparatos de grabación o reproducción de imagen y sonido en televisión, y las partes y accesorios de estos aparatos/8426",
          "Máquinas y aparatos, material eléctrico y sus partes; aparatos de grabación o reproducción de sonido, aparatos de grabación o reproducción de imagen y sonido en televisión, y las partes y accesorios de estos aparatos/8427",
          "Máquinas y aparatos, material eléctrico y sus partes; aparatos de grabación o reproducción de sonido, aparatos de grabación o reproducción de imagen y sonido en televisión, y las partes y accesorios de estos aparatos/8428",
          "Máquinas y aparatos, material eléctrico y sus partes; aparatos de grabación o reproducción de sonido, aparatos de grabación o reproducción de imagen y sonido en televisión, y las partes y accesorios de estos aparatos/8429",
          "Máquinas y aparatos, material eléctrico y sus partes; aparatos de grabación o reproducción de sonido, aparatos de grabación o reproducción de imagen y sonido en televisión, y las partes y accesorios de estos aparatos/8430",
          "Máquinas y aparatos, material eléctrico y sus partes; aparatos de grabación o reproducción de sonido, aparatos de grabación o reproducción de imagen y sonido en televisión, y las partes y accesorios de estos aparatos/8431",
          "Máquinas y aparatos, material eléctrico y sus partes; aparatos de grabación o reproducción de sonido, aparatos de grabación o reproducción de imagen y sonido en televisión, y las partes y accesorios de estos aparatos/8432",
          "Máquinas y aparatos, material eléctrico y sus partes; aparatos de grabación o reproducción de sonido, aparatos de grabación o reproducción de imagen y sonido en televisión, y las partes y accesorios de estos aparatos/8433",
          "Máquinas y aparatos, material eléctrico y sus partes; aparatos de grabación o reproducción de sonido, aparatos de grabación o reproducción de imagen y sonido en televisión, y las partes y accesorios de estos aparatos/8434",
          "Máquinas y aparatos, material eléctrico y sus partes; aparatos de grabación o reproducción de sonido, aparatos de grabación o reproducción de imagen y sonido en televisión, y las partes y accesorios de estos aparatos/8435",
          "Máquinas y aparatos, material eléctrico y sus partes; aparatos de grabación o reproducción de sonido, aparatos de grabación o reproducción de imagen y sonido en televisión, y las partes y accesorios de estos aparatos/8436",
          "Máquinas y aparatos, material eléctrico y sus partes; aparatos de grabación o reproducción de sonido, aparatos de grabación o reproducción de imagen y sonido en televisión, y las partes y accesorios de estos aparatos/8437",
          "Máquinas y aparatos, material eléctrico y sus partes; aparatos de grabación o reproducción de sonido, aparatos de grabación o reproducción de imagen y sonido en televisión, y las partes y accesorios de estos aparatos/8438",
          "Máquinas y aparatos, material eléctrico y sus partes; aparatos de grabación o reproducción de sonido, aparatos de grabación o reproducción de imagen y sonido en televisión, y las partes y accesorios de estos aparatos/8439",
          "Máquinas y aparatos, material eléctrico y sus partes; aparatos de grabación o reproducción de sonido, aparatos de grabación o reproducción de imagen y sonido en televisión, y las partes y accesorios de estos aparatos/8440",
          "Máquinas y aparatos, material eléctrico y sus partes; aparatos de grabación o reproducción de sonido, aparatos de grabación o reproducción de imagen y sonido en televisión, y las partes y accesorios de estos aparatos/8441",
          "Máquinas y aparatos, material eléctrico y sus partes; aparatos de grabación o reproducción de sonido, aparatos de grabación o reproducción de imagen y sonido en televisión, y las partes y accesorios de estos aparatos/8442",
          "Máquinas y aparatos, material eléctrico y sus partes; aparatos de grabación o reproducción de sonido, aparatos de grabación o reproducción de imagen y sonido en televisión, y las partes y accesorios de estos aparatos/8443",
          "Máquinas y aparatos, material eléctrico y sus partes; aparatos de grabación o reproducción de sonido, aparatos de grabación o reproducción de imagen y sonido en televisión, y las partes y accesorios de estos aparatos/8444",
          "Máquinas y aparatos, material eléctrico y sus partes; aparatos de grabación o reproducción de sonido, aparatos de grabación o reproducción de imagen y sonido en televisión, y las partes y accesorios de estos aparatos/8445",
          "Máquinas y aparatos, material eléctrico y sus partes; aparatos de grabación o reproducción de sonido, aparatos de grabación o reproducción de imagen y sonido en televisión, y las partes y accesorios de estos aparatos/8446",
          "Máquinas y aparatos, material eléctrico y sus partes; aparatos de grabación o reproducción de sonido, aparatos de grabación o reproducción de imagen y sonido en televisión, y las partes y accesorios de estos aparatos/8447",
          "Máquinas y aparatos, material eléctrico y sus partes; aparatos de grabación o reproducción de sonido, aparatos de grabación o reproducción de imagen y sonido en televisión, y las partes y accesorios de estos aparatos/8448",
          "Máquinas y aparatos, material eléctrico y sus partes; aparatos de grabación o reproducción de sonido, aparatos de grabación o reproducción de imagen y sonido en televisión, y las partes y accesorios de estos aparatos/8449",
          "Máquinas y aparatos, material eléctrico y sus partes; aparatos de grabación o reproducción de sonido, aparatos de grabación o reproducción de imagen y sonido en televisión, y las partes y accesorios de estos aparatos/8450",
          "Máquinas y aparatos, material eléctrico y sus partes; aparatos de grabación o reproducción de sonido, aparatos de grabación o reproducción de imagen y sonido en televisión, y las partes y accesorios de estos aparatos/8451",
          "Máquinas y aparatos, material eléctrico y sus partes; aparatos de grabación o reproducción de sonido, aparatos de grabación o reproducción de imagen y sonido en televisión, y las partes y accesorios de estos aparatos/8452",
          "Máquinas y aparatos, material eléctrico y sus partes; aparatos de grabación o reproducción de sonido, aparatos de grabación o reproducción de imagen y sonido en televisión, y las partes y accesorios de estos aparatos/8453",
          "Máquinas y aparatos, material eléctrico y sus partes; aparatos de grabación o reproducción de sonido, aparatos de grabación o reproducción de imagen y sonido en televisión, y las partes y accesorios de estos aparatos/8454",
          "Máquinas y aparatos, material eléctrico y sus partes; aparatos de grabación o reproducción de sonido, aparatos de grabación o reproducción de imagen y sonido en televisión, y las partes y accesorios de estos aparatos/8455",
          "Máquinas y aparatos, material eléctrico y sus partes; aparatos de grabación o reproducción de sonido, aparatos de grabación o reproducción de imagen y sonido en televisión, y las partes y accesorios de estos aparatos/8456",
          "Máquinas y aparatos, material eléctrico y sus partes; aparatos de grabación o reproducción de sonido, aparatos de grabación o reproducción de imagen y sonido en televisión, y las partes y accesorios de estos aparatos/8457",
          "Máquinas y aparatos, material eléctrico y sus partes; aparatos de grabación o reproducción de sonido, aparatos de grabación o reproducción de imagen y sonido en televisión, y las partes y accesorios de estos aparatos/8458",
          "Máquinas y aparatos, material eléctrico y sus partes; aparatos de grabación o reproducción de sonido, aparatos de grabación o reproducción de imagen y sonido en televisión, y las partes y accesorios de estos aparatos/8459",
          "Máquinas y aparatos, material eléctrico y sus partes; aparatos de grabación o reproducción de sonido, aparatos de grabación o reproducción de imagen y sonido en televisión, y las partes y accesorios de estos aparatos/8460",
          "Máquinas y aparatos, material eléctrico y sus partes; aparatos de grabación o reproducción de sonido, aparatos de grabación o reproducción de imagen y sonido en televisión, y las partes y accesorios de estos aparatos/8461",
          "Máquinas y aparatos, material eléctrico y sus partes; aparatos de grabación o reproducción de sonido, aparatos de grabación o reproducción de imagen y sonido en televisión, y las partes y accesorios de estos aparatos/8462",
          "Máquinas y aparatos, material eléctrico y sus partes; aparatos de grabación o reproducción de sonido, aparatos de grabación o reproducción de imagen y sonido en televisión, y las partes y accesorios de estos aparatos/8463",
          "Máquinas y aparatos, material eléctrico y sus partes; aparatos de grabación o reproducción de sonido, aparatos de grabación o reproducción de imagen y sonido en televisión, y las partes y accesorios de estos aparatos/8464",
          "Máquinas y aparatos, material eléctrico y sus partes; aparatos de grabación o reproducción de sonido, aparatos de grabación o reproducción de imagen y sonido en televisión, y las partes y accesorios de estos aparatos/8465",
          "Máquinas y aparatos, material eléctrico y sus partes; aparatos de grabación o reproducción de sonido, aparatos de grabación o reproducción de imagen y sonido en televisión, y las partes y accesorios de estos aparatos/8466",
          "Máquinas y aparatos, material eléctrico y sus partes; aparatos de grabación o reproducción de sonido, aparatos de grabación o reproducción de imagen y sonido en televisión, y las partes y accesorios de estos aparatos/8467",
          "Máquinas y aparatos, material eléctrico y sus partes; aparatos de grabación o reproducción de sonido, aparatos de grabación o reproducción de imagen y sonido en televisión, y las partes y accesorios de estos aparatos/8468",
          "Máquinas y aparatos, material eléctrico y sus partes; aparatos de grabación o reproducción de sonido, aparatos de grabación o reproducción de imagen y sonido en televisión, y las partes y accesorios de estos aparatos/8470",
          "Máquinas y aparatos, material eléctrico y sus partes; aparatos de grabación o reproducción de sonido, aparatos de grabación o reproducción de imagen y sonido en televisión, y las partes y accesorios de estos aparatos/8471",
          "Máquinas y aparatos, material eléctrico y sus partes; aparatos de grabación o reproducción de sonido, aparatos de grabación o reproducción de imagen y sonido en televisión, y las partes y accesorios de estos aparatos/8472",
          "Máquinas y aparatos, material eléctrico y sus partes; aparatos de grabación o reproducción de sonido, aparatos de grabación o reproducción de imagen y sonido en televisión, y las partes y accesorios de estos aparatos/8473",
          "Máquinas y aparatos, material eléctrico y sus partes; aparatos de grabación o reproducción de sonido, aparatos de grabación o reproducción de imagen y sonido en televisión, y las partes y accesorios de estos aparatos/8474",
          "Máquinas y aparatos, material eléctrico y sus partes; aparatos de grabación o reproducción de sonido, aparatos de grabación o reproducción de imagen y sonido en televisión, y las partes y accesorios de estos aparatos/8475",
          "Máquinas y aparatos, material eléctrico y sus partes; aparatos de grabación o reproducción de sonido, aparatos de grabación o reproducción de imagen y sonido en televisión, y las partes y accesorios de estos aparatos/8476",
          "Máquinas y aparatos, material eléctrico y sus partes; aparatos de grabación o reproducción de sonido, aparatos de grabación o reproducción de imagen y sonido en televisión, y las partes y accesorios de estos aparatos/8477",
          "Máquinas y aparatos, material eléctrico y sus partes; aparatos de grabación o reproducción de sonido, aparatos de grabación o reproducción de imagen y sonido en televisión, y las partes y accesorios de estos aparatos/8478",
          "Máquinas y aparatos, material eléctrico y sus partes; aparatos de grabación o reproducción de sonido, aparatos de grabación o reproducción de imagen y sonido en televisión, y las partes y accesorios de estos aparatos/8479",
          "Máquinas y aparatos, material eléctrico y sus partes; aparatos de grabación o reproducción de sonido, aparatos de grabación o reproducción de imagen y sonido en televisión, y las partes y accesorios de estos aparatos/8480",
          "Máquinas y aparatos, material eléctrico y sus partes; aparatos de grabación o reproducción de sonido, aparatos de grabación o reproducción de imagen y sonido en televisión, y las partes y accesorios de estos aparatos/8481",
          "Máquinas y aparatos, material eléctrico y sus partes; aparatos de grabación o reproducción de sonido, aparatos de grabación o reproducción de imagen y sonido en televisión, y las partes y accesorios de estos aparatos/8482",
          "Máquinas y aparatos, material eléctrico y sus partes; aparatos de grabación o reproducción de sonido, aparatos de grabación o reproducción de imagen y sonido en televisión, y las partes y accesorios de estos aparatos/8483",
          "Máquinas y aparatos, material eléctrico y sus partes; aparatos de grabación o reproducción de sonido, aparatos de grabación o reproducción de imagen y sonido en televisión, y las partes y accesorios de estos aparatos/8484",
          "Máquinas y aparatos, material eléctrico y sus partes; aparatos de grabación o reproducción de sonido, aparatos de grabación o reproducción de imagen y sonido en televisión, y las partes y accesorios de estos aparatos/8486",
          "Máquinas y aparatos, material eléctrico y sus partes; aparatos de grabación o reproducción de sonido, aparatos de grabación o reproducción de imagen y sonido en televisión, y las partes y accesorios de estos aparatos/8487",
          "Máquinas y aparatos, material eléctrico y sus partes; aparatos de grabación o reproducción de sonido, aparatos de grabación o reproducción de imagen y sonido en televisión, y las partes y accesorios de estos aparatos/8501",
          "Máquinas y aparatos, material eléctrico y sus partes; aparatos de grabación o reproducción de sonido, aparatos de grabación o reproducción de imagen y sonido en televisión, y las partes y accesorios de estos aparatos/8502",
          "Máquinas y aparatos, material eléctrico y sus partes; aparatos de grabación o reproducción de sonido, aparatos de grabación o reproducción de imagen y sonido en televisión, y las partes y accesorios de estos aparatos/8503",
          "Máquinas y aparatos, material eléctrico y sus partes; aparatos de grabación o reproducción de sonido, aparatos de grabación o reproducción de imagen y sonido en televisión, y las partes y accesorios de estos aparatos/8504",
          "Máquinas y aparatos, material eléctrico y sus partes; aparatos de grabación o reproducción de sonido, aparatos de grabación o reproducción de imagen y sonido en televisión, y las partes y accesorios de estos aparatos/8505",
          "Máquinas y aparatos, material eléctrico y sus partes; aparatos de grabación o reproducción de sonido, aparatos de grabación o reproducción de imagen y sonido en televisión, y las partes y accesorios de estos aparatos/8506",
          "Máquinas y aparatos, material eléctrico y sus partes; aparatos de grabación o reproducción de sonido, aparatos de grabación o reproducción de imagen y sonido en televisión, y las partes y accesorios de estos aparatos/8507",
          "Máquinas y aparatos, material eléctrico y sus partes; aparatos de grabación o reproducción de sonido, aparatos de grabación o reproducción de imagen y sonido en televisión, y las partes y accesorios de estos aparatos/8508",
          "Máquinas y aparatos, material eléctrico y sus partes; aparatos de grabación o reproducción de sonido, aparatos de grabación o reproducción de imagen y sonido en televisión, y las partes y accesorios de estos aparatos/8509",
          "Máquinas y aparatos, material eléctrico y sus partes; aparatos de grabación o reproducción de sonido, aparatos de grabación o reproducción de imagen y sonido en televisión, y las partes y accesorios de estos aparatos/8510",
          "Máquinas y aparatos, material eléctrico y sus partes; aparatos de grabación o reproducción de sonido, aparatos de grabación o reproducción de imagen y sonido en televisión, y las partes y accesorios de estos aparatos/8511",
          "Máquinas y aparatos, material eléctrico y sus partes; aparatos de grabación o reproducción de sonido, aparatos de grabación o reproducción de imagen y sonido en televisión, y las partes y accesorios de estos aparatos/8512",
          "Máquinas y aparatos, material eléctrico y sus partes; aparatos de grabación o reproducción de sonido, aparatos de grabación o reproducción de imagen y sonido en televisión, y las partes y accesorios de estos aparatos/8513",
          "Máquinas y aparatos, material eléctrico y sus partes; aparatos de grabación o reproducción de sonido, aparatos de grabación o reproducción de imagen y sonido en televisión, y las partes y accesorios de estos aparatos/8514",
          "Máquinas y aparatos, material eléctrico y sus partes; aparatos de grabación o reproducción de sonido, aparatos de grabación o reproducción de imagen y sonido en televisión, y las partes y accesorios de estos aparatos/8515",
          "Máquinas y aparatos, material eléctrico y sus partes; aparatos de grabación o reproducción de sonido, aparatos de grabación o reproducción de imagen y sonido en televisión, y las partes y accesorios de estos aparatos/8516",
          "Máquinas y aparatos, material eléctrico y sus partes; aparatos de grabación o reproducción de sonido, aparatos de grabación o reproducción de imagen y sonido en televisión, y las partes y accesorios de estos aparatos/8517",
          "Máquinas y aparatos, material eléctrico y sus partes; aparatos de grabación o reproducción de sonido, aparatos de grabación o reproducción de imagen y sonido en televisión, y las partes y accesorios de estos aparatos/8518",
          "Máquinas y aparatos, material eléctrico y sus partes; aparatos de grabación o reproducción de sonido, aparatos de grabación o reproducción de imagen y sonido en televisión, y las partes y accesorios de estos aparatos/8519",
          "Máquinas y aparatos, material eléctrico y sus partes; aparatos de grabación o reproducción de sonido, aparatos de grabación o reproducción de imagen y sonido en televisión, y las partes y accesorios de estos aparatos/8521",
          "Máquinas y aparatos, material eléctrico y sus partes; aparatos de grabación o reproducción de sonido, aparatos de grabación o reproducción de imagen y sonido en televisión, y las partes y accesorios de estos aparatos/8522",
          "Máquinas y aparatos, material eléctrico y sus partes; aparatos de grabación o reproducción de sonido, aparatos de grabación o reproducción de imagen y sonido en televisión, y las partes y accesorios de estos aparatos/8523",
          "Máquinas y aparatos, material eléctrico y sus partes; aparatos de grabación o reproducción de sonido, aparatos de grabación o reproducción de imagen y sonido en televisión, y las partes y accesorios de estos aparatos/8525",
          "Máquinas y aparatos, material eléctrico y sus partes; aparatos de grabación o reproducción de sonido, aparatos de grabación o reproducción de imagen y sonido en televisión, y las partes y accesorios de estos aparatos/8526",
          "Máquinas y aparatos, material eléctrico y sus partes; aparatos de grabación o reproducción de sonido, aparatos de grabación o reproducción de imagen y sonido en televisión, y las partes y accesorios de estos aparatos/8527",
          "Máquinas y aparatos, material eléctrico y sus partes; aparatos de grabación o reproducción de sonido, aparatos de grabación o reproducción de imagen y sonido en televisión, y las partes y accesorios de estos aparatos/8528",
          "Máquinas y aparatos, material eléctrico y sus partes; aparatos de grabación o reproducción de sonido, aparatos de grabación o reproducción de imagen y sonido en televisión, y las partes y accesorios de estos aparatos/8529",
          "Máquinas y aparatos, material eléctrico y sus partes; aparatos de grabación o reproducción de sonido, aparatos de grabación o reproducción de imagen y sonido en televisión, y las partes y accesorios de estos aparatos/8530",
          "Máquinas y aparatos, material eléctrico y sus partes; aparatos de grabación o reproducción de sonido, aparatos de grabación o reproducción de imagen y sonido en televisión, y las partes y accesorios de estos aparatos/8531",
          "Máquinas y aparatos, material eléctrico y sus partes; aparatos de grabación o reproducción de sonido, aparatos de grabación o reproducción de imagen y sonido en televisión, y las partes y accesorios de estos aparatos/8532",
          "Máquinas y aparatos, material eléctrico y sus partes; aparatos de grabación o reproducción de sonido, aparatos de grabación o reproducción de imagen y sonido en televisión, y las partes y accesorios de estos aparatos/8533",
          "Máquinas y aparatos, material eléctrico y sus partes; aparatos de grabación o reproducción de sonido, aparatos de grabación o reproducción de imagen y sonido en televisión, y las partes y accesorios de estos aparatos/8534",
          "Máquinas y aparatos, material eléctrico y sus partes; aparatos de grabación o reproducción de sonido, aparatos de grabación o reproducción de imagen y sonido en televisión, y las partes y accesorios de estos aparatos/8535",
          "Máquinas y aparatos, material eléctrico y sus partes; aparatos de grabación o reproducción de sonido, aparatos de grabación o reproducción de imagen y sonido en televisión, y las partes y accesorios de estos aparatos/8537",
          "Máquinas y aparatos, material eléctrico y sus partes; aparatos de grabación o reproducción de sonido, aparatos de grabación o reproducción de imagen y sonido en televisión, y las partes y accesorios de estos aparatos/8538",
          "Máquinas y aparatos, material eléctrico y sus partes; aparatos de grabación o reproducción de sonido, aparatos de grabación o reproducción de imagen y sonido en televisión, y las partes y accesorios de estos aparatos/8539",
          "Máquinas y aparatos, material eléctrico y sus partes; aparatos de grabación o reproducción de sonido, aparatos de grabación o reproducción de imagen y sonido en televisión, y las partes y accesorios de estos aparatos/8540",
          "Máquinas y aparatos, material eléctrico y sus partes; aparatos de grabación o reproducción de sonido, aparatos de grabación o reproducción de imagen y sonido en televisión, y las partes y accesorios de estos aparatos/8541",
          "Máquinas y aparatos, material eléctrico y sus partes; aparatos de grabación o reproducción de sonido, aparatos de grabación o reproducción de imagen y sonido en televisión, y las partes y accesorios de estos aparatos/8542",
          "Máquinas y aparatos, material eléctrico y sus partes; aparatos de grabación o reproducción de sonido, aparatos de grabación o reproducción de imagen y sonido en televisión, y las partes y accesorios de estos aparatos/8543",
          "Máquinas y aparatos, material eléctrico y sus partes; aparatos de grabación o reproducción de sonido, aparatos de grabación o reproducción de imagen y sonido en televisión, y las partes y accesorios de estos aparatos/8545",
          "Máquinas y aparatos, material eléctrico y sus partes; aparatos de grabación o reproducción de sonido, aparatos de grabación o reproducción de imagen y sonido en televisión, y las partes y accesorios de estos aparatos/8546",
          "Máquinas y aparatos, material eléctrico y sus partes; aparatos de grabación o reproducción de sonido, aparatos de grabación o reproducción de imagen y sonido en televisión, y las partes y accesorios de estos aparatos/8547",
          "Máquinas y aparatos, material eléctrico y sus partes; aparatos de grabación o reproducción de sonido, aparatos de grabación o reproducción de imagen y sonido en televisión, y las partes y accesorios de estos aparatos/8548",
          "Material de transporte/8604",
          "Material de transporte/8606",
          "Material de transporte/8607",
          "Material de transporte/8608",
          "Material de transporte/8609",
          "Material de transporte/8701",
          "Material de transporte/8702",
          "Material de transporte/8703",
          "Material de transporte/8704",
          "Material de transporte/8705",
          "Material de transporte/8706",
          "Material de transporte/8707",
          "Material de transporte/8708",
          "Material de transporte/8709",
          "Material de transporte/8711",
          "Material de transporte/8712",
          "Material de transporte/8714",
          "Material de transporte/8715",
          "Material de transporte/8716",
          "Material de transporte/8802",
          "Material de transporte/8803",
          "Material de transporte/8804",
          "Material de transporte/8805",
          "Material de transporte/8903",
          "Material de transporte/8905",
          "Material de transporte/8906",
          "Material de transporte/8907",
          "Instrumentos y aparatos de óptica, fotografía o cinematografía, de medida, control o precisión; instrumentos y aparatos médicoquirúrgicos; aparatos de relojería; instrumentos musicales; partes y accesorios de estos instrumentos o aparatos/9001",
          "Instrumentos y aparatos de óptica, fotografía o cinematografía, de medida, control o precisión; instrumentos y aparatos médicoquirúrgicos; aparatos de relojería; instrumentos musicales; partes y accesorios de estos instrumentos o aparatos/9002",
          "Instrumentos y aparatos de óptica, fotografía o cinematografía, de medida, control o precisión; instrumentos y aparatos médicoquirúrgicos; aparatos de relojería; instrumentos musicales; partes y accesorios de estos instrumentos o aparatos/9003",
          "Instrumentos y aparatos de óptica, fotografía o cinematografía, de medida, control o precisión; instrumentos y aparatos médicoquirúrgicos; aparatos de relojería; instrumentos musicales; partes y accesorios de estos instrumentos o aparatos/9004",
          "Instrumentos y aparatos de óptica, fotografía o cinematografía, de medida, control o precisión; instrumentos y aparatos médicoquirúrgicos; aparatos de relojería; instrumentos musicales; partes y accesorios de estos instrumentos o aparatos/9005",
          "Instrumentos y aparatos de óptica, fotografía o cinematografía, de medida, control o precisión; instrumentos y aparatos médicoquirúrgicos; aparatos de relojería; instrumentos musicales; partes y accesorios de estos instrumentos o aparatos/9006",
          "Instrumentos y aparatos de óptica, fotografía o cinematografía, de medida, control o precisión; instrumentos y aparatos médicoquirúrgicos; aparatos de relojería; instrumentos musicales; partes y accesorios de estos instrumentos o aparatos/9007",
          "Instrumentos y aparatos de óptica, fotografía o cinematografía, de medida, control o precisión; instrumentos y aparatos médicoquirúrgicos; aparatos de relojería; instrumentos musicales; partes y accesorios de estos instrumentos o aparatos/9008",
          "Instrumentos y aparatos de óptica, fotografía o cinematografía, de medida, control o precisión; instrumentos y aparatos médicoquirúrgicos; aparatos de relojería; instrumentos musicales; partes y accesorios de estos instrumentos o aparatos/9010",
          "Instrumentos y aparatos de óptica, fotografía o cinematografía, de medida, control o precisión; instrumentos y aparatos médicoquirúrgicos; aparatos de relojería; instrumentos musicales; partes y accesorios de estos instrumentos o aparatos/9011",
          "Instrumentos y aparatos de óptica, fotografía o cinematografía, de medida, control o precisión; instrumentos y aparatos médicoquirúrgicos; aparatos de relojería; instrumentos musicales; partes y accesorios de estos instrumentos o aparatos/9012",
          "Instrumentos y aparatos de óptica, fotografía o cinematografía, de medida, control o precisión; instrumentos y aparatos médicoquirúrgicos; aparatos de relojería; instrumentos musicales; partes y accesorios de estos instrumentos o aparatos/9013",
          "Instrumentos y aparatos de óptica, fotografía o cinematografía, de medida, control o precisión; instrumentos y aparatos médicoquirúrgicos; aparatos de relojería; instrumentos musicales; partes y accesorios de estos instrumentos o aparatos/9014",
          "Instrumentos y aparatos de óptica, fotografía o cinematografía, de medida, control o precisión; instrumentos y aparatos médicoquirúrgicos; aparatos de relojería; instrumentos musicales; partes y accesorios de estos instrumentos o aparatos/9015",
          "Instrumentos y aparatos de óptica, fotografía o cinematografía, de medida, control o precisión; instrumentos y aparatos médicoquirúrgicos; aparatos de relojería; instrumentos musicales; partes y accesorios de estos instrumentos o aparatos/9016",
          "Instrumentos y aparatos de óptica, fotografía o cinematografía, de medida, control o precisión; instrumentos y aparatos médicoquirúrgicos; aparatos de relojería; instrumentos musicales; partes y accesorios de estos instrumentos o aparatos/9017",
          "Instrumentos y aparatos de óptica, fotografía o cinematografía, de medida, control o precisión; instrumentos y aparatos médicoquirúrgicos; aparatos de relojería; instrumentos musicales; partes y accesorios de estos instrumentos o aparatos/9018",
          "Instrumentos y aparatos de óptica, fotografía o cinematografía, de medida, control o precisión; instrumentos y aparatos médicoquirúrgicos; aparatos de relojería; instrumentos musicales; partes y accesorios de estos instrumentos o aparatos/9019",
          "Instrumentos y aparatos de óptica, fotografía o cinematografía, de medida, control o precisión; instrumentos y aparatos médicoquirúrgicos; aparatos de relojería; instrumentos musicales; partes y accesorios de estos instrumentos o aparatos/9020",
          "Instrumentos y aparatos de óptica, fotografía o cinematografía, de medida, control o precisión; instrumentos y aparatos médicoquirúrgicos; aparatos de relojería; instrumentos musicales; partes y accesorios de estos instrumentos o aparatos/9021",
          "Instrumentos y aparatos de óptica, fotografía o cinematografía, de medida, control o precisión; instrumentos y aparatos médicoquirúrgicos; aparatos de relojería; instrumentos musicales; partes y accesorios de estos instrumentos o aparatos/9022",
          "Instrumentos y aparatos de óptica, fotografía o cinematografía, de medida, control o precisión; instrumentos y aparatos médicoquirúrgicos; aparatos de relojería; instrumentos musicales; partes y accesorios de estos instrumentos o aparatos/9023",
          "Instrumentos y aparatos de óptica, fotografía o cinematografía, de medida, control o precisión; instrumentos y aparatos médicoquirúrgicos; aparatos de relojería; instrumentos musicales; partes y accesorios de estos instrumentos o aparatos/9024",
          "Instrumentos y aparatos de óptica, fotografía o cinematografía, de medida, control o precisión; instrumentos y aparatos médicoquirúrgicos; aparatos de relojería; instrumentos musicales; partes y accesorios de estos instrumentos o aparatos/9025",
          "Instrumentos y aparatos de óptica, fotografía o cinematografía, de medida, control o precisión; instrumentos y aparatos médicoquirúrgicos; aparatos de relojería; instrumentos musicales; partes y accesorios de estos instrumentos o aparatos/9026",
          "Instrumentos y aparatos de óptica, fotografía o cinematografía, de medida, control o precisión; instrumentos y aparatos médicoquirúrgicos; aparatos de relojería; instrumentos musicales; partes y accesorios de estos instrumentos o aparatos/9027",
          "Instrumentos y aparatos de óptica, fotografía o cinematografía, de medida, control o precisión; instrumentos y aparatos médicoquirúrgicos; aparatos de relojería; instrumentos musicales; partes y accesorios de estos instrumentos o aparatos/9028",
          "Instrumentos y aparatos de óptica, fotografía o cinematografía, de medida, control o precisión; instrumentos y aparatos médicoquirúrgicos; aparatos de relojería; instrumentos musicales; partes y accesorios de estos instrumentos o aparatos/9029",
          "Instrumentos y aparatos de óptica, fotografía o cinematografía, de medida, control o precisión; instrumentos y aparatos médicoquirúrgicos; aparatos de relojería; instrumentos musicales; partes y accesorios de estos instrumentos o aparatos/9030",
          "Instrumentos y aparatos de óptica, fotografía o cinematografía, de medida, control o precisión; instrumentos y aparatos médicoquirúrgicos; aparatos de relojería; instrumentos musicales; partes y accesorios de estos instrumentos o aparatos/9031",
          "Instrumentos y aparatos de óptica, fotografía o cinematografía, de medida, control o precisión; instrumentos y aparatos médicoquirúrgicos; aparatos de relojería; instrumentos musicales; partes y accesorios de estos instrumentos o aparatos/9032",
          "Instrumentos y aparatos de óptica, fotografía o cinematografía, de medida, control o precisión; instrumentos y aparatos médicoquirúrgicos; aparatos de relojería; instrumentos musicales; partes y accesorios de estos instrumentos o aparatos/9033",
          "Instrumentos y aparatos de óptica, fotografía o cinematografía, de medida, control o precisión; instrumentos y aparatos médicoquirúrgicos; aparatos de relojería; instrumentos musicales; partes y accesorios de estos instrumentos o aparatos/9101",
          "Instrumentos y aparatos de óptica, fotografía o cinematografía, de medida, control o precisión; instrumentos y aparatos médicoquirúrgicos; aparatos de relojería; instrumentos musicales; partes y accesorios de estos instrumentos o aparatos/9102",
          "Instrumentos y aparatos de óptica, fotografía o cinematografía, de medida, control o precisión; instrumentos y aparatos médicoquirúrgicos; aparatos de relojería; instrumentos musicales; partes y accesorios de estos instrumentos o aparatos/9104",
          "Instrumentos y aparatos de óptica, fotografía o cinematografía, de medida, control o precisión; instrumentos y aparatos médicoquirúrgicos; aparatos de relojería; instrumentos musicales; partes y accesorios de estos instrumentos o aparatos/9105",
          "Instrumentos y aparatos de óptica, fotografía o cinematografía, de medida, control o precisión; instrumentos y aparatos médicoquirúrgicos; aparatos de relojería; instrumentos musicales; partes y accesorios de estos instrumentos o aparatos/9106",
          "Instrumentos y aparatos de óptica, fotografía o cinematografía, de medida, control o precisión; instrumentos y aparatos médicoquirúrgicos; aparatos de relojería; instrumentos musicales; partes y accesorios de estos instrumentos o aparatos/9107",
          "Instrumentos y aparatos de óptica, fotografía o cinematografía, de medida, control o precisión; instrumentos y aparatos médicoquirúrgicos; aparatos de relojería; instrumentos musicales; partes y accesorios de estos instrumentos o aparatos/9110",
          "Instrumentos y aparatos de óptica, fotografía o cinematografía, de medida, control o precisión; instrumentos y aparatos médicoquirúrgicos; aparatos de relojería; instrumentos musicales; partes y accesorios de estos instrumentos o aparatos/9112",
          "Instrumentos y aparatos de óptica, fotografía o cinematografía, de medida, control o precisión; instrumentos y aparatos médicoquirúrgicos; aparatos de relojería; instrumentos musicales; partes y accesorios de estos instrumentos o aparatos/9113",
          "Instrumentos y aparatos de óptica, fotografía o cinematografía, de medida, control o precisión; instrumentos y aparatos médicoquirúrgicos; aparatos de relojería; instrumentos musicales; partes y accesorios de estos instrumentos o aparatos/9114",
          "Instrumentos y aparatos de óptica, fotografía o cinematografía, de medida, control o precisión; instrumentos y aparatos médicoquirúrgicos; aparatos de relojería; instrumentos musicales; partes y accesorios de estos instrumentos o aparatos/9201",
          "Instrumentos y aparatos de óptica, fotografía o cinematografía, de medida, control o precisión; instrumentos y aparatos médicoquirúrgicos; aparatos de relojería; instrumentos musicales; partes y accesorios de estos instrumentos o aparatos/9202",
          "Instrumentos y aparatos de óptica, fotografía o cinematografía, de medida, control o precisión; instrumentos y aparatos médicoquirúrgicos; aparatos de relojería; instrumentos musicales; partes y accesorios de estos instrumentos o aparatos/9205",
          "Instrumentos y aparatos de óptica, fotografía o cinematografía, de medida, control o precisión; instrumentos y aparatos médicoquirúrgicos; aparatos de relojería; instrumentos musicales; partes y accesorios de estos instrumentos o aparatos/9206",
          "Instrumentos y aparatos de óptica, fotografía o cinematografía, de medida, control o precisión; instrumentos y aparatos médicoquirúrgicos; aparatos de relojería; instrumentos musicales; partes y accesorios de estos instrumentos o aparatos/9207",
          "Instrumentos y aparatos de óptica, fotografía o cinematografía, de medida, control o precisión; instrumentos y aparatos médicoquirúrgicos; aparatos de relojería; instrumentos musicales; partes y accesorios de estos instrumentos o aparatos/9208",
          "Instrumentos y aparatos de óptica, fotografía o cinematografía, de medida, control o precisión; instrumentos y aparatos médicoquirúrgicos; aparatos de relojería; instrumentos musicales; partes y accesorios de estos instrumentos o aparatos/9209",
          "Armas, municiones, y sus partes y accesorios/9304",
          "Armas, municiones, y sus partes y accesorios/9305",
          "Armas, municiones, y sus partes y accesorios/9306",
          "Armas, municiones, y sus partes y accesorios/9307",
          "Mercancías y productos diversos/9401",
          "Mercancías y productos diversos/9402",
          "Mercancías y productos diversos/9403",
          "Mercancías y productos diversos/9404",
          "Mercancías y productos diversos/9405",
          "Mercancías y productos diversos/9406",
          "Mercancías y productos diversos/9503",
          "Mercancías y productos diversos/9504",
          "Mercancías y productos diversos/9505",
          "Mercancías y productos diversos/9506",
          "Mercancías y productos diversos/9507",
          "Mercancías y productos diversos/9508",
          "Mercancías y productos diversos/9601",
          "Mercancías y productos diversos/9602",
          "Mercancías y productos diversos/9603",
          "Mercancías y productos diversos/9604",
          "Mercancías y productos diversos/9605",
          "Mercancías y productos diversos/9606",
          "Mercancías y productos diversos/9607",
          "Mercancías y productos diversos/9608",
          "Mercancías y productos diversos/9609",
          "Mercancías y productos diversos/9610",
          "Mercancías y productos diversos/9611",
          "Mercancías y productos diversos/9612",
          "Mercancías y productos diversos/9613",
          "Mercancías y productos diversos/9614",
          "Mercancías y productos diversos/9615",
          "Mercancías y productos diversos/9616",
          "Mercancías y productos diversos/9617",
          "Mercancías y productos diversos/9618",
          "Mercancías y productos diversos/9619",
          "Objetos de arte o colección y antigüedades/9701",
          "Objetos de arte o colección y antigüedades/9703",
          "Objetos de arte o colección y antigüedades/9705",
          "Objetos de arte o colección y antigüedades/9706",
          "Animales vivos y productos del reino animal",
          "Armas, municiones, y sus partes y accesorios",
          "Calzado, sombreros y demás tocados, paraguas, quitasoles, bastones, látigos, fustas y sus partes; plumas preparadas y artículos de plumas; flores artificiales; manufacturas de cabello",
          "Grasas y aceites animales o vegetales; productos de su desdoblamiento; grasas alimenticias elaboradas; ceras de origen animal o vegetal",
          "Instrumentos y aparatos de óptica, fotografía o cinematografía, de medida, control o precisión; instrumentos y aparatos médicoquirúrgicos; aparatos de relojería; instrumentos musicales; partes y accesorios de estos instrumentos o aparatos",
          "Madera, carbón vegetal y manufacturas de madera; corcho y sus manufacturas; manufacturas de espartería o cestería",
          "Manufacturas de piedra, yeso fraguable, cemento, amianto (asbesto), mica o materias análogas; productos cerámicos; vidrio y manufacturas de vidrio",
          "Material de transporte",
          "Materias textiles y sus manufacturas",
          "Mercancías y productos diversos",
          "Metales comunes y manufacturas de esos metales",
          "Máquinas y aparatos, material eléctrico y sus partes; aparatos de grabación o reproducción de sonido, aparatos de grabación o reproducción de imagen y sonido en televisión, y las partes y accesorios de estos aparatos",
          "Objetos de arte o colección y antigüedades",
          "Pasta de madera o de las demás materias fibrosas celulósicas; papel o cartón para reciclar (desperdicios y desechos); papel o cartón y sus aplicaciones",
          "Perlas finas (naturales) o cultivadas, piedras preciosas o semipreciosas, metales preciosos, chapados de metal precioso (plaqué) y manufacturas de estas materias; bisutería; monedas",
          "Pieles, cueros, peletería y manufacturas de estas materias; artículos de talabartería o guarnicionería; artículos de viaje, bolsos de mano (carteras) y continentes similares; manufacturas de tripa",
          "Plástico y sus manufacturas; caucho y sus manufacturas",
          "Productos de las industrias alimentarias; bebidas, líquidos alcohólicos y vinagre; tabaco y sucedáneos del tabaco elaborados",
          "Productos de las industrias químicas o de las industrias conexas",
          "Productos del reino vegetal",
          "Productos minerales"
         ],
         "labels": [
          "0101",
          "0102",
          "0105",
          "0106",
          "0201",
          "0202",
          "0203",
          "0206",
          "0207",
          "0209",
          "0210",
          "0301",
          "0302",
          "0303",
          "0304",
          "0305",
          "0306",
          "0307",
          "0401",
          "0402",
          "0403",
          "0404",
          "0405",
          "0406",
          "0407",
          "0504",
          "0505",
          "0508",
          "0511",
          "0602",
          "0604",
          "0701",
          "0703",
          "0705",
          "0706",
          "0709",
          "0710",
          "0711",
          "0712",
          "0713",
          "0714",
          "0801",
          "0802",
          "0804",
          "0805",
          "0806",
          "0807",
          "0808",
          "0809",
          "0810",
          "0811",
          "0812",
          "0813",
          "0901",
          "0902",
          "0904",
          "0905",
          "0906",
          "0907",
          "0908",
          "0909",
          "0910",
          "1001",
          "1003",
          "1005",
          "1006",
          "1101",
          "1102",
          "1103",
          "1104",
          "1105",
          "1106",
          "1107",
          "1108",
          "1109",
          "1201",
          "1202",
          "1206",
          "1207",
          "1208",
          "1209",
          "1210",
          "1211",
          "1212",
          "1214",
          "1301",
          "1302",
          "1501",
          "1502",
          "1503",
          "1504",
          "1505",
          "1507",
          "1508",
          "1509",
          "1510",
          "1511",
          "1512",
          "1513",
          "1514",
          "1515",
          "1516",
          "1517",
          "1518",
          "1520",
          "1521",
          "1522",
          "1601",
          "1602",
          "1603",
          "1604",
          "1605",
          "1701",
          "1702",
          "1703",
          "1704",
          "1804",
          "1805",
          "1806",
          "1901",
          "1902",
          "1903",
          "1904",
          "1905",
          "2001",
          "2002",
          "2004",
          "2005",
          "2006",
          "2007",
          "2008",
          "2009",
          "2101",
          "2102",
          "2103",
          "2104",
          "2105",
          "2106",
          "2201",
          "2202",
          "2203",
          "2204",
          "2205",
          "2206",
          "2207",
          "2208",
          "2209",
          "2301",
          "2302",
          "2303",
          "2304",
          "2306",
          "2308",
          "2309",
          "2401",
          "2403",
          "2501",
          "2502",
          "2503",
          "2504",
          "2505",
          "2506",
          "2507",
          "2508",
          "2509",
          "2510",
          "2511",
          "2512",
          "2513",
          "2515",
          "2516",
          "2517",
          "2518",
          "2519",
          "2520",
          "2522",
          "2523",
          "2525",
          "2526",
          "2528",
          "2529",
          "2530",
          "2601",
          "2602",
          "2603",
          "2606",
          "2607",
          "2610",
          "2613",
          "2614",
          "2615",
          "2616",
          "2617",
          "2618",
          "2619",
          "2620",
          "2621",
          "2701",
          "2702",
          "2703",
          "2704",
          "2707",
          "2708",
          "2710",
          "2711",
          "2712",
          "2713",
          "2714",
          "2715",
          "2716",
          "2801",
          "2802",
          "2803",
          "2804",
          "2805",
          "2806",
          "2807",
          "2808",
          "2809",
          "2810",
          "2811",
          "2812",
          "2813",
          "2814",
          "2815",
          "2816",
          "2817",
          "2818",
          "2819",
          "2820",
          "2821",
          "2822",
          "2823",
          "2824",
          "2825",
          "2826",
          "2827",
          "2828",
          "2829",
          "2830",
          "2831",
          "2832",
          "2833",
          "2834",
          "2835",
          "2836",
          "2837",
          "2839",
          "2840",
          "2841",
          "2842",
          "2843",
          "2844",
          "2845",
          "2846",
          "2847",
          "2849",
          "2850",
          "2853",
          "2901",
          "2902",
          "2903",
          "2904",
          "2905",
          "2906",
          "2907",
          "2908",
          "2909",
          "2910",
          "2911",
          "2912",
          "2913",
          "2914",
          "2915",
          "2916",
          "2917",
          "2918",
          "2919",
          "2920",
          "2921",
          "2922",
          "2923",
          "2924",
          "2925",
          "2926",
          "2927",
          "2928",
          "2929",
          "2930",
          "2931",
          "2932",
          "2933",
          "2934",
          "2935",
          "2936",
          "2937",
          "2938",
          "2939",
          "2940",
          "2941",
          "2942",
          "3001",
          "3002",
          "3003",
          "3004",
          "3005",
          "3006",
          "3101",
          "3102",
          "3103",
          "3104",
          "3105",
          "3201",
          "3202",
          "3203",
          "3204",
          "3205",
          "3206",
          "3207",
          "3208",
          "3209",
          "3210",
          "3211",
          "3212",
          "3213",
          "3214",
          "3215",
          "3301",
          "3302",
          "3303",
          "3304",
          "3305",
          "3306",
          "3307",
          "3401",
          "3402",
          "3403",
          "3404",
          "3405",
          "3406",
          "3407",
          "3501",
          "3502",
          "3503",
          "3504",
          "3505",
          "3506",
          "3507",
          "3601",
          "3602",
          "3603",
          "3604",
          "3606",
          "3701",
          "3702",
          "3703",
          "3704",
          "3705",
          "3706",
          "3707",
          "3801",
          "3802",
          "3803",
          "3804",
          "3805",
          "3806",
          "3808",
          "3809",
          "3810",
          "3811",
          "3812",
          "3813",
          "3814",
          "3815",
          "3816",
          "3817",
          "3818",
          "3819",
          "3820",
          "3821",
          "3822",
          "3823",
          "3824",
          "3825",
          "3901",
          "3902",
          "3903",
          "3904",
          "3905",
          "3906",
          "3907",
          "3908",
          "3909",
          "3910",
          "3911",
          "3912",
          "3913",
          "3914",
          "3915",
          "3916",
          "3917",
          "3918",
          "3919",
          "3920",
          "3921",
          "3922",
          "3923",
          "3924",
          "3925",
          "4001",
          "4002",
          "4003",
          "4004",
          "4005",
          "4006",
          "4007",
          "4008",
          "4009",
          "4010",
          "4011",
          "4012",
          "4013",
          "4014",
          "4015",
          "4016",
          "4017",
          "4101",
          "4102",
          "4103",
          "4104",
          "4107",
          "4113",
          "4114",
          "4115",
          "4201",
          "4202",
          "4203",
          "4205",
          "4302",
          "4303",
          "4304",
          "4401",
          "4402",
          "4403",
          "4404",
          "4405",
          "4407",
          "4408",
          "4409",
          "4410",
          "4411",
          "4412",
          "4413",
          "4414",
          "4415",
          "4416",
          "4417",
          "4418",
          "4419",
          "4420",
          "4421",
          "4501",
          "4502",
          "4503",
          "4504",
          "4601",
          "4602",
          "4702",
          "4703",
          "4706",
          "4707",
          "4801",
          "4802",
          "4803",
          "4804",
          "4805",
          "4806",
          "4807",
          "4808",
          "4809",
          "4810",
          "4811",
          "4812",
          "4813",
          "4814",
          "4816",
          "4817",
          "4818",
          "4819",
          "4820",
          "4821",
          "4822",
          "4823",
          "4901",
          "4902",
          "4903",
          "4904",
          "4905",
          "4906",
          "4908",
          "4909",
          "4910",
          "4911",
          "5007",
          "5105",
          "5106",
          "5107",
          "5111",
          "5112",
          "5201",
          "5202",
          "5203",
          "5204",
          "5205",
          "5206",
          "5207",
          "5208",
          "5209",
          "5210",
          "5211",
          "5212",
          "5305",
          "5308",
          "5309",
          "5311",
          "5401",
          "5402",
          "5403",
          "5404",
          "5406",
          "5407",
          "5408",
          "5503",
          "5504",
          "5505",
          "5506",
          "5507",
          "5508",
          "5509",
          "5510",
          "5511",
          "5512",
          "5513",
          "5514",
          "5515",
          "5516",
          "5601",
          "5602",
          "5603",
          "5604",
          "5605",
          "5606",
          "5607",
          "5608",
          "5609",
          "5701",
          "5702",
          "5703",
          "5704",
          "5705",
          "5801",
          "5802",
          "5803",
          "5804",
          "5806",
          "5807",
          "5808",
          "5809",
          "5810",
          "5811",
          "5901",
          "5902",
          "5903",
          "5904",
          "5905",
          "5906",
          "5907",
          "5908",
          "5909",
          "5910",
          "5911",
          "6001",
          "6002",
          "6003",
          "6004",
          "6005",
          "6006",
          "6101",
          "6102",
          "6103",
          "6104",
          "6105",
          "6106",
          "6107",
          "6108",
          "6109",
          "6110",
          "6111",
          "6112",
          "6113",
          "6114",
          "6115",
          "6116",
          "6117",
          "6201",
          "6202",
          "6203",
          "6204",
          "6205",
          "6206",
          "6207",
          "6208",
          "6209",
          "6210",
          "6211",
          "6212",
          "6213",
          "6214",
          "6216",
          "6217",
          "6301",
          "6302",
          "6303",
          "6304",
          "6305",
          "6306",
          "6307",
          "6310",
          "6401",
          "6402",
          "6403",
          "6404",
          "6405",
          "6406",
          "6504",
          "6505",
          "6506",
          "6507",
          "6601",
          "6602",
          "6603",
          "6701",
          "6702",
          "6703",
          "6704",
          "6801",
          "6802",
          "6804",
          "6805",
          "6806",
          "6807",
          "6808",
          "6809",
          "6810",
          "6811",
          "6812",
          "6813",
          "6814",
          "6815",
          "6901",
          "6902",
          "6903",
          "6904",
          "6905",
          "6906",
          "6907",
          "6909",
          "6910",
          "6911",
          "6912",
          "6913",
          "6914",
          "7001",
          "7002",
          "7003",
          "7004",
          "7005",
          "7006",
          "7007",
          "7008",
          "7009",
          "7010",
          "7011",
          "7013",
          "7014",
          "7015",
          "7016",
          "7017",
          "7018",
          "7019",
          "7020",
          "7101",
          "7102",
          "7103",
          "7104",
          "7105",
          "7106",
          "7107",
          "7108",
          "7109",
          "7110",
          "7113",
          "7114",
          "7115",
          "7116",
          "7117",
          "7118",
          "7201",
          "7202",
          "7203",
          "7204",
          "7205",
          "7206",
          "7207",
          "7208",
          "7209",
          "7210",
          "7211",
          "7212",
          "7213",
          "7214",
          "7215",
          "7216",
          "7217",
          "7218",
          "7219",
          "7220",
          "7221",
          "7222",
          "7223",
          "7224",
          "7225",
          "7226",
          "7227",
          "7228",
          "7229",
          "7301",
          "7302",
          "7303",
          "7304",
          "7305",
          "7306",
          "7307",
          "7308",
          "7309",
          "7310",
          "7311",
          "7312",
          "7313",
          "7314",
          "7315",
          "7316",
          "7317",
          "7319",
          "7320",
          "7321",
          "7322",
          "7323",
          "7324",
          "7325",
          "7326",
          "7403",
          "7404",
          "7405",
          "7406",
          "7407",
          "7408",
          "7409",
          "7410",
          "7411",
          "7412",
          "7413",
          "7415",
          "7418",
          "7419",
          "7502",
          "7504",
          "7505",
          "7506",
          "7507",
          "7508",
          "7601",
          "7602",
          "7603",
          "7604",
          "7605",
          "7606",
          "7607",
          "7608",
          "7609",
          "7610",
          "7611",
          "7612",
          "7613",
          "7614",
          "7615",
          "7616",
          "7901",
          "7903",
          "7904",
          "7905",
          "7907",
          "8001",
          "8002",
          "8003",
          "8007",
          "8101",
          "8102",
          "8103",
          "8104",
          "8105",
          "8106",
          "8107",
          "8108",
          "8109",
          "8110",
          "8111",
          "8112",
          "8113",
          "8201",
          "8202",
          "8203",
          "8204",
          "8205",
          "8206",
          "8207",
          "8208",
          "8209",
          "8210",
          "8211",
          "8212",
          "8213",
          "8214",
          "8215",
          "8301",
          "8302",
          "8303",
          "8304",
          "8305",
          "8306",
          "8307",
          "8308",
          "8309",
          "8310",
          "8311",
          "8401",
          "8402",
          "8403",
          "8404",
          "8405",
          "8406",
          "8407",
          "8408",
          "8409",
          "8410",
          "8411",
          "8412",
          "8413",
          "8414",
          "8415",
          "8416",
          "8417",
          "8418",
          "8419",
          "8420",
          "8421",
          "8422",
          "8423",
          "8424",
          "8425",
          "8426",
          "8427",
          "8428",
          "8429",
          "8430",
          "8431",
          "8432",
          "8433",
          "8434",
          "8435",
          "8436",
          "8437",
          "8438",
          "8439",
          "8440",
          "8441",
          "8442",
          "8443",
          "8444",
          "8445",
          "8446",
          "8447",
          "8448",
          "8449",
          "8450",
          "8451",
          "8452",
          "8453",
          "8454",
          "8455",
          "8456",
          "8457",
          "8458",
          "8459",
          "8460",
          "8461",
          "8462",
          "8463",
          "8464",
          "8465",
          "8466",
          "8467",
          "8468",
          "8470",
          "8471",
          "8472",
          "8473",
          "8474",
          "8475",
          "8476",
          "8477",
          "8478",
          "8479",
          "8480",
          "8481",
          "8482",
          "8483",
          "8484",
          "8486",
          "8487",
          "8501",
          "8502",
          "8503",
          "8504",
          "8505",
          "8506",
          "8507",
          "8508",
          "8509",
          "8510",
          "8511",
          "8512",
          "8513",
          "8514",
          "8515",
          "8516",
          "8517",
          "8518",
          "8519",
          "8521",
          "8522",
          "8523",
          "8525",
          "8526",
          "8527",
          "8528",
          "8529",
          "8530",
          "8531",
          "8532",
          "8533",
          "8534",
          "8535",
          "8537",
          "8538",
          "8539",
          "8540",
          "8541",
          "8542",
          "8543",
          "8545",
          "8546",
          "8547",
          "8548",
          "8604",
          "8606",
          "8607",
          "8608",
          "8609",
          "8701",
          "8702",
          "8703",
          "8704",
          "8705",
          "8706",
          "8707",
          "8708",
          "8709",
          "8711",
          "8712",
          "8714",
          "8715",
          "8716",
          "8802",
          "8803",
          "8804",
          "8805",
          "8903",
          "8905",
          "8906",
          "8907",
          "9001",
          "9002",
          "9003",
          "9004",
          "9005",
          "9006",
          "9007",
          "9008",
          "9010",
          "9011",
          "9012",
          "9013",
          "9014",
          "9015",
          "9016",
          "9017",
          "9018",
          "9019",
          "9020",
          "9021",
          "9022",
          "9023",
          "9024",
          "9025",
          "9026",
          "9027",
          "9028",
          "9029",
          "9030",
          "9031",
          "9032",
          "9033",
          "9101",
          "9102",
          "9104",
          "9105",
          "9106",
          "9107",
          "9110",
          "9112",
          "9113",
          "9114",
          "9201",
          "9202",
          "9205",
          "9206",
          "9207",
          "9208",
          "9209",
          "9304",
          "9305",
          "9306",
          "9307",
          "9401",
          "9402",
          "9403",
          "9404",
          "9405",
          "9406",
          "9503",
          "9504",
          "9505",
          "9506",
          "9507",
          "9508",
          "9601",
          "9602",
          "9603",
          "9604",
          "9605",
          "9606",
          "9607",
          "9608",
          "9609",
          "9610",
          "9611",
          "9612",
          "9613",
          "9614",
          "9615",
          "9616",
          "9617",
          "9618",
          "9619",
          "9701",
          "9703",
          "9705",
          "9706",
          "Animales vivos y productos del reino animal",
          "Armas, municiones, y sus partes y accesorios",
          "Calzado, sombreros y demás tocados, paraguas, quitasoles, bastones, látigos, fustas y sus partes; plumas preparadas y artículos de plumas; flores artificiales; manufacturas de cabello",
          "Grasas y aceites animales o vegetales; productos de su desdoblamiento; grasas alimenticias elaboradas; ceras de origen animal o vegetal",
          "Instrumentos y aparatos de óptica, fotografía o cinematografía, de medida, control o precisión; instrumentos y aparatos médicoquirúrgicos; aparatos de relojería; instrumentos musicales; partes y accesorios de estos instrumentos o aparatos",
          "Madera, carbón vegetal y manufacturas de madera; corcho y sus manufacturas; manufacturas de espartería o cestería",
          "Manufacturas de piedra, yeso fraguable, cemento, amianto (asbesto), mica o materias análogas; productos cerámicos; vidrio y manufacturas de vidrio",
          "Material de transporte",
          "Materias textiles y sus manufacturas",
          "Mercancías y productos diversos",
          "Metales comunes y manufacturas de esos metales",
          "Máquinas y aparatos, material eléctrico y sus partes; aparatos de grabación o reproducción de sonido, aparatos de grabación o reproducción de imagen y sonido en televisión, y las partes y accesorios de estos aparatos",
          "Objetos de arte o colección y antigüedades",
          "Pasta de madera o de las demás materias fibrosas celulósicas; papel o cartón para reciclar (desperdicios y desechos); papel o cartón y sus aplicaciones",
          "Perlas finas (naturales) o cultivadas, piedras preciosas o semipreciosas, metales preciosos, chapados de metal precioso (plaqué) y manufacturas de estas materias; bisutería; monedas",
          "Pieles, cueros, peletería y manufacturas de estas materias; artículos de talabartería o guarnicionería; artículos de viaje, bolsos de mano (carteras) y continentes similares; manufacturas de tripa",
          "Plástico y sus manufacturas; caucho y sus manufacturas",
          "Productos de las industrias alimentarias; bebidas, líquidos alcohólicos y vinagre; tabaco y sucedáneos del tabaco elaborados",
          "Productos de las industrias químicas o de las industrias conexas",
          "Productos del reino vegetal",
          "Productos minerales"
         ],
         "name": "",
         "parents": [
          "Animales vivos y productos del reino animal",
          "Animales vivos y productos del reino animal",
          "Animales vivos y productos del reino animal",
          "Animales vivos y productos del reino animal",
          "Animales vivos y productos del reino animal",
          "Animales vivos y productos del reino animal",
          "Animales vivos y productos del reino animal",
          "Animales vivos y productos del reino animal",
          "Animales vivos y productos del reino animal",
          "Animales vivos y productos del reino animal",
          "Animales vivos y productos del reino animal",
          "Animales vivos y productos del reino animal",
          "Animales vivos y productos del reino animal",
          "Animales vivos y productos del reino animal",
          "Animales vivos y productos del reino animal",
          "Animales vivos y productos del reino animal",
          "Animales vivos y productos del reino animal",
          "Animales vivos y productos del reino animal",
          "Animales vivos y productos del reino animal",
          "Animales vivos y productos del reino animal",
          "Animales vivos y productos del reino animal",
          "Animales vivos y productos del reino animal",
          "Animales vivos y productos del reino animal",
          "Animales vivos y productos del reino animal",
          "Animales vivos y productos del reino animal",
          "Animales vivos y productos del reino animal",
          "Animales vivos y productos del reino animal",
          "Animales vivos y productos del reino animal",
          "Animales vivos y productos del reino animal",
          "Productos del reino vegetal",
          "Productos del reino vegetal",
          "Productos del reino vegetal",
          "Productos del reino vegetal",
          "Productos del reino vegetal",
          "Productos del reino vegetal",
          "Productos del reino vegetal",
          "Productos del reino vegetal",
          "Productos del reino vegetal",
          "Productos del reino vegetal",
          "Productos del reino vegetal",
          "Productos del reino vegetal",
          "Productos del reino vegetal",
          "Productos del reino vegetal",
          "Productos del reino vegetal",
          "Productos del reino vegetal",
          "Productos del reino vegetal",
          "Productos del reino vegetal",
          "Productos del reino vegetal",
          "Productos del reino vegetal",
          "Productos del reino vegetal",
          "Productos del reino vegetal",
          "Productos del reino vegetal",
          "Productos del reino vegetal",
          "Productos del reino vegetal",
          "Productos del reino vegetal",
          "Productos del reino vegetal",
          "Productos del reino vegetal",
          "Productos del reino vegetal",
          "Productos del reino vegetal",
          "Productos del reino vegetal",
          "Productos del reino vegetal",
          "Productos del reino vegetal",
          "Productos del reino vegetal",
          "Productos del reino vegetal",
          "Productos del reino vegetal",
          "Productos del reino vegetal",
          "Productos del reino vegetal",
          "Productos del reino vegetal",
          "Productos del reino vegetal",
          "Productos del reino vegetal",
          "Productos del reino vegetal",
          "Productos del reino vegetal",
          "Productos del reino vegetal",
          "Productos del reino vegetal",
          "Productos del reino vegetal",
          "Productos del reino vegetal",
          "Productos del reino vegetal",
          "Productos del reino vegetal",
          "Productos del reino vegetal",
          "Productos del reino vegetal",
          "Productos del reino vegetal",
          "Productos del reino vegetal",
          "Productos del reino vegetal",
          "Productos del reino vegetal",
          "Productos del reino vegetal",
          "Productos del reino vegetal",
          "Productos del reino vegetal",
          "Grasas y aceites animales o vegetales; productos de su desdoblamiento; grasas alimenticias elaboradas; ceras de origen animal o vegetal",
          "Grasas y aceites animales o vegetales; productos de su desdoblamiento; grasas alimenticias elaboradas; ceras de origen animal o vegetal",
          "Grasas y aceites animales o vegetales; productos de su desdoblamiento; grasas alimenticias elaboradas; ceras de origen animal o vegetal",
          "Grasas y aceites animales o vegetales; productos de su desdoblamiento; grasas alimenticias elaboradas; ceras de origen animal o vegetal",
          "Grasas y aceites animales o vegetales; productos de su desdoblamiento; grasas alimenticias elaboradas; ceras de origen animal o vegetal",
          "Grasas y aceites animales o vegetales; productos de su desdoblamiento; grasas alimenticias elaboradas; ceras de origen animal o vegetal",
          "Grasas y aceites animales o vegetales; productos de su desdoblamiento; grasas alimenticias elaboradas; ceras de origen animal o vegetal",
          "Grasas y aceites animales o vegetales; productos de su desdoblamiento; grasas alimenticias elaboradas; ceras de origen animal o vegetal",
          "Grasas y aceites animales o vegetales; productos de su desdoblamiento; grasas alimenticias elaboradas; ceras de origen animal o vegetal",
          "Grasas y aceites animales o vegetales; productos de su desdoblamiento; grasas alimenticias elaboradas; ceras de origen animal o vegetal",
          "Grasas y aceites animales o vegetales; productos de su desdoblamiento; grasas alimenticias elaboradas; ceras de origen animal o vegetal",
          "Grasas y aceites animales o vegetales; productos de su desdoblamiento; grasas alimenticias elaboradas; ceras de origen animal o vegetal",
          "Grasas y aceites animales o vegetales; productos de su desdoblamiento; grasas alimenticias elaboradas; ceras de origen animal o vegetal",
          "Grasas y aceites animales o vegetales; productos de su desdoblamiento; grasas alimenticias elaboradas; ceras de origen animal o vegetal",
          "Grasas y aceites animales o vegetales; productos de su desdoblamiento; grasas alimenticias elaboradas; ceras de origen animal o vegetal",
          "Grasas y aceites animales o vegetales; productos de su desdoblamiento; grasas alimenticias elaboradas; ceras de origen animal o vegetal",
          "Grasas y aceites animales o vegetales; productos de su desdoblamiento; grasas alimenticias elaboradas; ceras de origen animal o vegetal",
          "Grasas y aceites animales o vegetales; productos de su desdoblamiento; grasas alimenticias elaboradas; ceras de origen animal o vegetal",
          "Grasas y aceites animales o vegetales; productos de su desdoblamiento; grasas alimenticias elaboradas; ceras de origen animal o vegetal",
          "Grasas y aceites animales o vegetales; productos de su desdoblamiento; grasas alimenticias elaboradas; ceras de origen animal o vegetal",
          "Productos de las industrias alimentarias; bebidas, líquidos alcohólicos y vinagre; tabaco y sucedáneos del tabaco elaborados",
          "Productos de las industrias alimentarias; bebidas, líquidos alcohólicos y vinagre; tabaco y sucedáneos del tabaco elaborados",
          "Productos de las industrias alimentarias; bebidas, líquidos alcohólicos y vinagre; tabaco y sucedáneos del tabaco elaborados",
          "Productos de las industrias alimentarias; bebidas, líquidos alcohólicos y vinagre; tabaco y sucedáneos del tabaco elaborados",
          "Productos de las industrias alimentarias; bebidas, líquidos alcohólicos y vinagre; tabaco y sucedáneos del tabaco elaborados",
          "Productos de las industrias alimentarias; bebidas, líquidos alcohólicos y vinagre; tabaco y sucedáneos del tabaco elaborados",
          "Productos de las industrias alimentarias; bebidas, líquidos alcohólicos y vinagre; tabaco y sucedáneos del tabaco elaborados",
          "Productos de las industrias alimentarias; bebidas, líquidos alcohólicos y vinagre; tabaco y sucedáneos del tabaco elaborados",
          "Productos de las industrias alimentarias; bebidas, líquidos alcohólicos y vinagre; tabaco y sucedáneos del tabaco elaborados",
          "Productos de las industrias alimentarias; bebidas, líquidos alcohólicos y vinagre; tabaco y sucedáneos del tabaco elaborados",
          "Productos de las industrias alimentarias; bebidas, líquidos alcohólicos y vinagre; tabaco y sucedáneos del tabaco elaborados",
          "Productos de las industrias alimentarias; bebidas, líquidos alcohólicos y vinagre; tabaco y sucedáneos del tabaco elaborados",
          "Productos de las industrias alimentarias; bebidas, líquidos alcohólicos y vinagre; tabaco y sucedáneos del tabaco elaborados",
          "Productos de las industrias alimentarias; bebidas, líquidos alcohólicos y vinagre; tabaco y sucedáneos del tabaco elaborados",
          "Productos de las industrias alimentarias; bebidas, líquidos alcohólicos y vinagre; tabaco y sucedáneos del tabaco elaborados",
          "Productos de las industrias alimentarias; bebidas, líquidos alcohólicos y vinagre; tabaco y sucedáneos del tabaco elaborados",
          "Productos de las industrias alimentarias; bebidas, líquidos alcohólicos y vinagre; tabaco y sucedáneos del tabaco elaborados",
          "Productos de las industrias alimentarias; bebidas, líquidos alcohólicos y vinagre; tabaco y sucedáneos del tabaco elaborados",
          "Productos de las industrias alimentarias; bebidas, líquidos alcohólicos y vinagre; tabaco y sucedáneos del tabaco elaborados",
          "Productos de las industrias alimentarias; bebidas, líquidos alcohólicos y vinagre; tabaco y sucedáneos del tabaco elaborados",
          "Productos de las industrias alimentarias; bebidas, líquidos alcohólicos y vinagre; tabaco y sucedáneos del tabaco elaborados",
          "Productos de las industrias alimentarias; bebidas, líquidos alcohólicos y vinagre; tabaco y sucedáneos del tabaco elaborados",
          "Productos de las industrias alimentarias; bebidas, líquidos alcohólicos y vinagre; tabaco y sucedáneos del tabaco elaborados",
          "Productos de las industrias alimentarias; bebidas, líquidos alcohólicos y vinagre; tabaco y sucedáneos del tabaco elaborados",
          "Productos de las industrias alimentarias; bebidas, líquidos alcohólicos y vinagre; tabaco y sucedáneos del tabaco elaborados",
          "Productos de las industrias alimentarias; bebidas, líquidos alcohólicos y vinagre; tabaco y sucedáneos del tabaco elaborados",
          "Productos de las industrias alimentarias; bebidas, líquidos alcohólicos y vinagre; tabaco y sucedáneos del tabaco elaborados",
          "Productos de las industrias alimentarias; bebidas, líquidos alcohólicos y vinagre; tabaco y sucedáneos del tabaco elaborados",
          "Productos de las industrias alimentarias; bebidas, líquidos alcohólicos y vinagre; tabaco y sucedáneos del tabaco elaborados",
          "Productos de las industrias alimentarias; bebidas, líquidos alcohólicos y vinagre; tabaco y sucedáneos del tabaco elaborados",
          "Productos de las industrias alimentarias; bebidas, líquidos alcohólicos y vinagre; tabaco y sucedáneos del tabaco elaborados",
          "Productos de las industrias alimentarias; bebidas, líquidos alcohólicos y vinagre; tabaco y sucedáneos del tabaco elaborados",
          "Productos de las industrias alimentarias; bebidas, líquidos alcohólicos y vinagre; tabaco y sucedáneos del tabaco elaborados",
          "Productos de las industrias alimentarias; bebidas, líquidos alcohólicos y vinagre; tabaco y sucedáneos del tabaco elaborados",
          "Productos de las industrias alimentarias; bebidas, líquidos alcohólicos y vinagre; tabaco y sucedáneos del tabaco elaborados",
          "Productos de las industrias alimentarias; bebidas, líquidos alcohólicos y vinagre; tabaco y sucedáneos del tabaco elaborados",
          "Productos de las industrias alimentarias; bebidas, líquidos alcohólicos y vinagre; tabaco y sucedáneos del tabaco elaborados",
          "Productos de las industrias alimentarias; bebidas, líquidos alcohólicos y vinagre; tabaco y sucedáneos del tabaco elaborados",
          "Productos de las industrias alimentarias; bebidas, líquidos alcohólicos y vinagre; tabaco y sucedáneos del tabaco elaborados",
          "Productos de las industrias alimentarias; bebidas, líquidos alcohólicos y vinagre; tabaco y sucedáneos del tabaco elaborados",
          "Productos de las industrias alimentarias; bebidas, líquidos alcohólicos y vinagre; tabaco y sucedáneos del tabaco elaborados",
          "Productos de las industrias alimentarias; bebidas, líquidos alcohólicos y vinagre; tabaco y sucedáneos del tabaco elaborados",
          "Productos de las industrias alimentarias; bebidas, líquidos alcohólicos y vinagre; tabaco y sucedáneos del tabaco elaborados",
          "Productos de las industrias alimentarias; bebidas, líquidos alcohólicos y vinagre; tabaco y sucedáneos del tabaco elaborados",
          "Productos de las industrias alimentarias; bebidas, líquidos alcohólicos y vinagre; tabaco y sucedáneos del tabaco elaborados",
          "Productos de las industrias alimentarias; bebidas, líquidos alcohólicos y vinagre; tabaco y sucedáneos del tabaco elaborados",
          "Productos de las industrias alimentarias; bebidas, líquidos alcohólicos y vinagre; tabaco y sucedáneos del tabaco elaborados",
          "Productos de las industrias alimentarias; bebidas, líquidos alcohólicos y vinagre; tabaco y sucedáneos del tabaco elaborados",
          "Productos de las industrias alimentarias; bebidas, líquidos alcohólicos y vinagre; tabaco y sucedáneos del tabaco elaborados",
          "Productos minerales",
          "Productos minerales",
          "Productos minerales",
          "Productos minerales",
          "Productos minerales",
          "Productos minerales",
          "Productos minerales",
          "Productos minerales",
          "Productos minerales",
          "Productos minerales",
          "Productos minerales",
          "Productos minerales",
          "Productos minerales",
          "Productos minerales",
          "Productos minerales",
          "Productos minerales",
          "Productos minerales",
          "Productos minerales",
          "Productos minerales",
          "Productos minerales",
          "Productos minerales",
          "Productos minerales",
          "Productos minerales",
          "Productos minerales",
          "Productos minerales",
          "Productos minerales",
          "Productos minerales",
          "Productos minerales",
          "Productos minerales",
          "Productos minerales",
          "Productos minerales",
          "Productos minerales",
          "Productos minerales",
          "Productos minerales",
          "Productos minerales",
          "Productos minerales",
          "Productos minerales",
          "Productos minerales",
          "Productos minerales",
          "Productos minerales",
          "Productos minerales",
          "Productos minerales",
          "Productos minerales",
          "Productos minerales",
          "Productos minerales",
          "Productos minerales",
          "Productos minerales",
          "Productos minerales",
          "Productos minerales",
          "Productos minerales",
          "Productos minerales",
          "Productos minerales",
          "Productos minerales",
          "Productos minerales",
          "Productos de las industrias químicas o de las industrias conexas",
          "Productos de las industrias químicas o de las industrias conexas",
          "Productos de las industrias químicas o de las industrias conexas",
          "Productos de las industrias químicas o de las industrias conexas",
          "Productos de las industrias químicas o de las industrias conexas",
          "Productos de las industrias químicas o de las industrias conexas",
          "Productos de las industrias químicas o de las industrias conexas",
          "Productos de las industrias químicas o de las industrias conexas",
          "Productos de las industrias químicas o de las industrias conexas",
          "Productos de las industrias químicas o de las industrias conexas",
          "Productos de las industrias químicas o de las industrias conexas",
          "Productos de las industrias químicas o de las industrias conexas",
          "Productos de las industrias químicas o de las industrias conexas",
          "Productos de las industrias químicas o de las industrias conexas",
          "Productos de las industrias químicas o de las industrias conexas",
          "Productos de las industrias químicas o de las industrias conexas",
          "Productos de las industrias químicas o de las industrias conexas",
          "Productos de las industrias químicas o de las industrias conexas",
          "Productos de las industrias químicas o de las industrias conexas",
          "Productos de las industrias químicas o de las industrias conexas",
          "Productos de las industrias químicas o de las industrias conexas",
          "Productos de las industrias químicas o de las industrias conexas",
          "Productos de las industrias químicas o de las industrias conexas",
          "Productos de las industrias químicas o de las industrias conexas",
          "Productos de las industrias químicas o de las industrias conexas",
          "Productos de las industrias químicas o de las industrias conexas",
          "Productos de las industrias químicas o de las industrias conexas",
          "Productos de las industrias químicas o de las industrias conexas",
          "Productos de las industrias químicas o de las industrias conexas",
          "Productos de las industrias químicas o de las industrias conexas",
          "Productos de las industrias químicas o de las industrias conexas",
          "Productos de las industrias químicas o de las industrias conexas",
          "Productos de las industrias químicas o de las industrias conexas",
          "Productos de las industrias químicas o de las industrias conexas",
          "Productos de las industrias químicas o de las industrias conexas",
          "Productos de las industrias químicas o de las industrias conexas",
          "Productos de las industrias químicas o de las industrias conexas",
          "Productos de las industrias químicas o de las industrias conexas",
          "Productos de las industrias químicas o de las industrias conexas",
          "Productos de las industrias químicas o de las industrias conexas",
          "Productos de las industrias químicas o de las industrias conexas",
          "Productos de las industrias químicas o de las industrias conexas",
          "Productos de las industrias químicas o de las industrias conexas",
          "Productos de las industrias químicas o de las industrias conexas",
          "Productos de las industrias químicas o de las industrias conexas",
          "Productos de las industrias químicas o de las industrias conexas",
          "Productos de las industrias químicas o de las industrias conexas",
          "Productos de las industrias químicas o de las industrias conexas",
          "Productos de las industrias químicas o de las industrias conexas",
          "Productos de las industrias químicas o de las industrias conexas",
          "Productos de las industrias químicas o de las industrias conexas",
          "Productos de las industrias químicas o de las industrias conexas",
          "Productos de las industrias químicas o de las industrias conexas",
          "Productos de las industrias químicas o de las industrias conexas",
          "Productos de las industrias químicas o de las industrias conexas",
          "Productos de las industrias químicas o de las industrias conexas",
          "Productos de las industrias químicas o de las industrias conexas",
          "Productos de las industrias químicas o de las industrias conexas",
          "Productos de las industrias químicas o de las industrias conexas",
          "Productos de las industrias químicas o de las industrias conexas",
          "Productos de las industrias químicas o de las industrias conexas",
          "Productos de las industrias químicas o de las industrias conexas",
          "Productos de las industrias químicas o de las industrias conexas",
          "Productos de las industrias químicas o de las industrias conexas",
          "Productos de las industrias químicas o de las industrias conexas",
          "Productos de las industrias químicas o de las industrias conexas",
          "Productos de las industrias químicas o de las industrias conexas",
          "Productos de las industrias químicas o de las industrias conexas",
          "Productos de las industrias químicas o de las industrias conexas",
          "Productos de las industrias químicas o de las industrias conexas",
          "Productos de las industrias químicas o de las industrias conexas",
          "Productos de las industrias químicas o de las industrias conexas",
          "Productos de las industrias químicas o de las industrias conexas",
          "Productos de las industrias químicas o de las industrias conexas",
          "Productos de las industrias químicas o de las industrias conexas",
          "Productos de las industrias químicas o de las industrias conexas",
          "Productos de las industrias químicas o de las industrias conexas",
          "Productos de las industrias químicas o de las industrias conexas",
          "Productos de las industrias químicas o de las industrias conexas",
          "Productos de las industrias químicas o de las industrias conexas",
          "Productos de las industrias químicas o de las industrias conexas",
          "Productos de las industrias químicas o de las industrias conexas",
          "Productos de las industrias químicas o de las industrias conexas",
          "Productos de las industrias químicas o de las industrias conexas",
          "Productos de las industrias químicas o de las industrias conexas",
          "Productos de las industrias químicas o de las industrias conexas",
          "Productos de las industrias químicas o de las industrias conexas",
          "Productos de las industrias químicas o de las industrias conexas",
          "Productos de las industrias químicas o de las industrias conexas",
          "Productos de las industrias químicas o de las industrias conexas",
          "Productos de las industrias químicas o de las industrias conexas",
          "Productos de las industrias químicas o de las industrias conexas",
          "Productos de las industrias químicas o de las industrias conexas",
          "Productos de las industrias químicas o de las industrias conexas",
          "Productos de las industrias químicas o de las industrias conexas",
          "Productos de las industrias químicas o de las industrias conexas",
          "Productos de las industrias químicas o de las industrias conexas",
          "Productos de las industrias químicas o de las industrias conexas",
          "Productos de las industrias químicas o de las industrias conexas",
          "Productos de las industrias químicas o de las industrias conexas",
          "Productos de las industrias químicas o de las industrias conexas",
          "Productos de las industrias químicas o de las industrias conexas",
          "Productos de las industrias químicas o de las industrias conexas",
          "Productos de las industrias químicas o de las industrias conexas",
          "Productos de las industrias químicas o de las industrias conexas",
          "Productos de las industrias químicas o de las industrias conexas",
          "Productos de las industrias químicas o de las industrias conexas",
          "Productos de las industrias químicas o de las industrias conexas",
          "Productos de las industrias químicas o de las industrias conexas",
          "Productos de las industrias químicas o de las industrias conexas",
          "Productos de las industrias químicas o de las industrias conexas",
          "Productos de las industrias químicas o de las industrias conexas",
          "Productos de las industrias químicas o de las industrias conexas",
          "Productos de las industrias químicas o de las industrias conexas",
          "Productos de las industrias químicas o de las industrias conexas",
          "Productos de las industrias químicas o de las industrias conexas",
          "Productos de las industrias químicas o de las industrias conexas",
          "Productos de las industrias químicas o de las industrias conexas",
          "Productos de las industrias químicas o de las industrias conexas",
          "Productos de las industrias químicas o de las industrias conexas",
          "Productos de las industrias químicas o de las industrias conexas",
          "Productos de las industrias químicas o de las industrias conexas",
          "Productos de las industrias químicas o de las industrias conexas",
          "Productos de las industrias químicas o de las industrias conexas",
          "Productos de las industrias químicas o de las industrias conexas",
          "Productos de las industrias químicas o de las industrias conexas",
          "Productos de las industrias químicas o de las industrias conexas",
          "Productos de las industrias químicas o de las industrias conexas",
          "Productos de las industrias químicas o de las industrias conexas",
          "Productos de las industrias químicas o de las industrias conexas",
          "Productos de las industrias químicas o de las industrias conexas",
          "Productos de las industrias químicas o de las industrias conexas",
          "Productos de las industrias químicas o de las industrias conexas",
          "Productos de las industrias químicas o de las industrias conexas",
          "Productos de las industrias químicas o de las industrias conexas",
          "Productos de las industrias químicas o de las industrias conexas",
          "Productos de las industrias químicas o de las industrias conexas",
          "Productos de las industrias químicas o de las industrias conexas",
          "Productos de las industrias químicas o de las industrias conexas",
          "Productos de las industrias químicas o de las industrias conexas",
          "Productos de las industrias químicas o de las industrias conexas",
          "Productos de las industrias químicas o de las industrias conexas",
          "Productos de las industrias químicas o de las industrias conexas",
          "Productos de las industrias químicas o de las industrias conexas",
          "Productos de las industrias químicas o de las industrias conexas",
          "Productos de las industrias químicas o de las industrias conexas",
          "Productos de las industrias químicas o de las industrias conexas",
          "Productos de las industrias químicas o de las industrias conexas",
          "Productos de las industrias químicas o de las industrias conexas",
          "Productos de las industrias químicas o de las industrias conexas",
          "Productos de las industrias químicas o de las industrias conexas",
          "Productos de las industrias químicas o de las industrias conexas",
          "Productos de las industrias químicas o de las industrias conexas",
          "Productos de las industrias químicas o de las industrias conexas",
          "Productos de las industrias químicas o de las industrias conexas",
          "Productos de las industrias químicas o de las industrias conexas",
          "Productos de las industrias químicas o de las industrias conexas",
          "Productos de las industrias químicas o de las industrias conexas",
          "Productos de las industrias químicas o de las industrias conexas",
          "Productos de las industrias químicas o de las industrias conexas",
          "Productos de las industrias químicas o de las industrias conexas",
          "Productos de las industrias químicas o de las industrias conexas",
          "Productos de las industrias químicas o de las industrias conexas",
          "Productos de las industrias químicas o de las industrias conexas",
          "Productos de las industrias químicas o de las industrias conexas",
          "Productos de las industrias químicas o de las industrias conexas",
          "Productos de las industrias químicas o de las industrias conexas",
          "Productos de las industrias químicas o de las industrias conexas",
          "Productos de las industrias químicas o de las industrias conexas",
          "Productos de las industrias químicas o de las industrias conexas",
          "Productos de las industrias químicas o de las industrias conexas",
          "Productos de las industrias químicas o de las industrias conexas",
          "Productos de las industrias químicas o de las industrias conexas",
          "Productos de las industrias químicas o de las industrias conexas",
          "Plástico y sus manufacturas; caucho y sus manufacturas",
          "Plástico y sus manufacturas; caucho y sus manufacturas",
          "Plástico y sus manufacturas; caucho y sus manufacturas",
          "Plástico y sus manufacturas; caucho y sus manufacturas",
          "Plástico y sus manufacturas; caucho y sus manufacturas",
          "Plástico y sus manufacturas; caucho y sus manufacturas",
          "Plástico y sus manufacturas; caucho y sus manufacturas",
          "Plástico y sus manufacturas; caucho y sus manufacturas",
          "Plástico y sus manufacturas; caucho y sus manufacturas",
          "Plástico y sus manufacturas; caucho y sus manufacturas",
          "Plástico y sus manufacturas; caucho y sus manufacturas",
          "Plástico y sus manufacturas; caucho y sus manufacturas",
          "Plástico y sus manufacturas; caucho y sus manufacturas",
          "Plástico y sus manufacturas; caucho y sus manufacturas",
          "Plástico y sus manufacturas; caucho y sus manufacturas",
          "Plástico y sus manufacturas; caucho y sus manufacturas",
          "Plástico y sus manufacturas; caucho y sus manufacturas",
          "Plástico y sus manufacturas; caucho y sus manufacturas",
          "Plástico y sus manufacturas; caucho y sus manufacturas",
          "Plástico y sus manufacturas; caucho y sus manufacturas",
          "Plástico y sus manufacturas; caucho y sus manufacturas",
          "Plástico y sus manufacturas; caucho y sus manufacturas",
          "Plástico y sus manufacturas; caucho y sus manufacturas",
          "Plástico y sus manufacturas; caucho y sus manufacturas",
          "Plástico y sus manufacturas; caucho y sus manufacturas",
          "Plástico y sus manufacturas; caucho y sus manufacturas",
          "Plástico y sus manufacturas; caucho y sus manufacturas",
          "Plástico y sus manufacturas; caucho y sus manufacturas",
          "Plástico y sus manufacturas; caucho y sus manufacturas",
          "Plástico y sus manufacturas; caucho y sus manufacturas",
          "Plástico y sus manufacturas; caucho y sus manufacturas",
          "Plástico y sus manufacturas; caucho y sus manufacturas",
          "Plástico y sus manufacturas; caucho y sus manufacturas",
          "Plástico y sus manufacturas; caucho y sus manufacturas",
          "Plástico y sus manufacturas; caucho y sus manufacturas",
          "Plástico y sus manufacturas; caucho y sus manufacturas",
          "Plástico y sus manufacturas; caucho y sus manufacturas",
          "Plástico y sus manufacturas; caucho y sus manufacturas",
          "Plástico y sus manufacturas; caucho y sus manufacturas",
          "Plástico y sus manufacturas; caucho y sus manufacturas",
          "Plástico y sus manufacturas; caucho y sus manufacturas",
          "Plástico y sus manufacturas; caucho y sus manufacturas",
          "Pieles, cueros, peletería y manufacturas de estas materias; artículos de talabartería o guarnicionería; artículos de viaje, bolsos de mano (carteras) y continentes similares; manufacturas de tripa",
          "Pieles, cueros, peletería y manufacturas de estas materias; artículos de talabartería o guarnicionería; artículos de viaje, bolsos de mano (carteras) y continentes similares; manufacturas de tripa",
          "Pieles, cueros, peletería y manufacturas de estas materias; artículos de talabartería o guarnicionería; artículos de viaje, bolsos de mano (carteras) y continentes similares; manufacturas de tripa",
          "Pieles, cueros, peletería y manufacturas de estas materias; artículos de talabartería o guarnicionería; artículos de viaje, bolsos de mano (carteras) y continentes similares; manufacturas de tripa",
          "Pieles, cueros, peletería y manufacturas de estas materias; artículos de talabartería o guarnicionería; artículos de viaje, bolsos de mano (carteras) y continentes similares; manufacturas de tripa",
          "Pieles, cueros, peletería y manufacturas de estas materias; artículos de talabartería o guarnicionería; artículos de viaje, bolsos de mano (carteras) y continentes similares; manufacturas de tripa",
          "Pieles, cueros, peletería y manufacturas de estas materias; artículos de talabartería o guarnicionería; artículos de viaje, bolsos de mano (carteras) y continentes similares; manufacturas de tripa",
          "Pieles, cueros, peletería y manufacturas de estas materias; artículos de talabartería o guarnicionería; artículos de viaje, bolsos de mano (carteras) y continentes similares; manufacturas de tripa",
          "Pieles, cueros, peletería y manufacturas de estas materias; artículos de talabartería o guarnicionería; artículos de viaje, bolsos de mano (carteras) y continentes similares; manufacturas de tripa",
          "Pieles, cueros, peletería y manufacturas de estas materias; artículos de talabartería o guarnicionería; artículos de viaje, bolsos de mano (carteras) y continentes similares; manufacturas de tripa",
          "Pieles, cueros, peletería y manufacturas de estas materias; artículos de talabartería o guarnicionería; artículos de viaje, bolsos de mano (carteras) y continentes similares; manufacturas de tripa",
          "Pieles, cueros, peletería y manufacturas de estas materias; artículos de talabartería o guarnicionería; artículos de viaje, bolsos de mano (carteras) y continentes similares; manufacturas de tripa",
          "Pieles, cueros, peletería y manufacturas de estas materias; artículos de talabartería o guarnicionería; artículos de viaje, bolsos de mano (carteras) y continentes similares; manufacturas de tripa",
          "Pieles, cueros, peletería y manufacturas de estas materias; artículos de talabartería o guarnicionería; artículos de viaje, bolsos de mano (carteras) y continentes similares; manufacturas de tripa",
          "Pieles, cueros, peletería y manufacturas de estas materias; artículos de talabartería o guarnicionería; artículos de viaje, bolsos de mano (carteras) y continentes similares; manufacturas de tripa",
          "Madera, carbón vegetal y manufacturas de madera; corcho y sus manufacturas; manufacturas de espartería o cestería",
          "Madera, carbón vegetal y manufacturas de madera; corcho y sus manufacturas; manufacturas de espartería o cestería",
          "Madera, carbón vegetal y manufacturas de madera; corcho y sus manufacturas; manufacturas de espartería o cestería",
          "Madera, carbón vegetal y manufacturas de madera; corcho y sus manufacturas; manufacturas de espartería o cestería",
          "Madera, carbón vegetal y manufacturas de madera; corcho y sus manufacturas; manufacturas de espartería o cestería",
          "Madera, carbón vegetal y manufacturas de madera; corcho y sus manufacturas; manufacturas de espartería o cestería",
          "Madera, carbón vegetal y manufacturas de madera; corcho y sus manufacturas; manufacturas de espartería o cestería",
          "Madera, carbón vegetal y manufacturas de madera; corcho y sus manufacturas; manufacturas de espartería o cestería",
          "Madera, carbón vegetal y manufacturas de madera; corcho y sus manufacturas; manufacturas de espartería o cestería",
          "Madera, carbón vegetal y manufacturas de madera; corcho y sus manufacturas; manufacturas de espartería o cestería",
          "Madera, carbón vegetal y manufacturas de madera; corcho y sus manufacturas; manufacturas de espartería o cestería",
          "Madera, carbón vegetal y manufacturas de madera; corcho y sus manufacturas; manufacturas de espartería o cestería",
          "Madera, carbón vegetal y manufacturas de madera; corcho y sus manufacturas; manufacturas de espartería o cestería",
          "Madera, carbón vegetal y manufacturas de madera; corcho y sus manufacturas; manufacturas de espartería o cestería",
          "Madera, carbón vegetal y manufacturas de madera; corcho y sus manufacturas; manufacturas de espartería o cestería",
          "Madera, carbón vegetal y manufacturas de madera; corcho y sus manufacturas; manufacturas de espartería o cestería",
          "Madera, carbón vegetal y manufacturas de madera; corcho y sus manufacturas; manufacturas de espartería o cestería",
          "Madera, carbón vegetal y manufacturas de madera; corcho y sus manufacturas; manufacturas de espartería o cestería",
          "Madera, carbón vegetal y manufacturas de madera; corcho y sus manufacturas; manufacturas de espartería o cestería",
          "Madera, carbón vegetal y manufacturas de madera; corcho y sus manufacturas; manufacturas de espartería o cestería",
          "Madera, carbón vegetal y manufacturas de madera; corcho y sus manufacturas; manufacturas de espartería o cestería",
          "Madera, carbón vegetal y manufacturas de madera; corcho y sus manufacturas; manufacturas de espartería o cestería",
          "Madera, carbón vegetal y manufacturas de madera; corcho y sus manufacturas; manufacturas de espartería o cestería",
          "Madera, carbón vegetal y manufacturas de madera; corcho y sus manufacturas; manufacturas de espartería o cestería",
          "Madera, carbón vegetal y manufacturas de madera; corcho y sus manufacturas; manufacturas de espartería o cestería",
          "Madera, carbón vegetal y manufacturas de madera; corcho y sus manufacturas; manufacturas de espartería o cestería",
          "Pasta de madera o de las demás materias fibrosas celulósicas; papel o cartón para reciclar (desperdicios y desechos); papel o cartón y sus aplicaciones",
          "Pasta de madera o de las demás materias fibrosas celulósicas; papel o cartón para reciclar (desperdicios y desechos); papel o cartón y sus aplicaciones",
          "Pasta de madera o de las demás materias fibrosas celulósicas; papel o cartón para reciclar (desperdicios y desechos); papel o cartón y sus aplicaciones",
          "Pasta de madera o de las demás materias fibrosas celulósicas; papel o cartón para reciclar (desperdicios y desechos); papel o cartón y sus aplicaciones",
          "Pasta de madera o de las demás materias fibrosas celulósicas; papel o cartón para reciclar (desperdicios y desechos); papel o cartón y sus aplicaciones",
          "Pasta de madera o de las demás materias fibrosas celulósicas; papel o cartón para reciclar (desperdicios y desechos); papel o cartón y sus aplicaciones",
          "Pasta de madera o de las demás materias fibrosas celulósicas; papel o cartón para reciclar (desperdicios y desechos); papel o cartón y sus aplicaciones",
          "Pasta de madera o de las demás materias fibrosas celulósicas; papel o cartón para reciclar (desperdicios y desechos); papel o cartón y sus aplicaciones",
          "Pasta de madera o de las demás materias fibrosas celulósicas; papel o cartón para reciclar (desperdicios y desechos); papel o cartón y sus aplicaciones",
          "Pasta de madera o de las demás materias fibrosas celulósicas; papel o cartón para reciclar (desperdicios y desechos); papel o cartón y sus aplicaciones",
          "Pasta de madera o de las demás materias fibrosas celulósicas; papel o cartón para reciclar (desperdicios y desechos); papel o cartón y sus aplicaciones",
          "Pasta de madera o de las demás materias fibrosas celulósicas; papel o cartón para reciclar (desperdicios y desechos); papel o cartón y sus aplicaciones",
          "Pasta de madera o de las demás materias fibrosas celulósicas; papel o cartón para reciclar (desperdicios y desechos); papel o cartón y sus aplicaciones",
          "Pasta de madera o de las demás materias fibrosas celulósicas; papel o cartón para reciclar (desperdicios y desechos); papel o cartón y sus aplicaciones",
          "Pasta de madera o de las demás materias fibrosas celulósicas; papel o cartón para reciclar (desperdicios y desechos); papel o cartón y sus aplicaciones",
          "Pasta de madera o de las demás materias fibrosas celulósicas; papel o cartón para reciclar (desperdicios y desechos); papel o cartón y sus aplicaciones",
          "Pasta de madera o de las demás materias fibrosas celulósicas; papel o cartón para reciclar (desperdicios y desechos); papel o cartón y sus aplicaciones",
          "Pasta de madera o de las demás materias fibrosas celulósicas; papel o cartón para reciclar (desperdicios y desechos); papel o cartón y sus aplicaciones",
          "Pasta de madera o de las demás materias fibrosas celulósicas; papel o cartón para reciclar (desperdicios y desechos); papel o cartón y sus aplicaciones",
          "Pasta de madera o de las demás materias fibrosas celulósicas; papel o cartón para reciclar (desperdicios y desechos); papel o cartón y sus aplicaciones",
          "Pasta de madera o de las demás materias fibrosas celulósicas; papel o cartón para reciclar (desperdicios y desechos); papel o cartón y sus aplicaciones",
          "Pasta de madera o de las demás materias fibrosas celulósicas; papel o cartón para reciclar (desperdicios y desechos); papel o cartón y sus aplicaciones",
          "Pasta de madera o de las demás materias fibrosas celulósicas; papel o cartón para reciclar (desperdicios y desechos); papel o cartón y sus aplicaciones",
          "Pasta de madera o de las demás materias fibrosas celulósicas; papel o cartón para reciclar (desperdicios y desechos); papel o cartón y sus aplicaciones",
          "Pasta de madera o de las demás materias fibrosas celulósicas; papel o cartón para reciclar (desperdicios y desechos); papel o cartón y sus aplicaciones",
          "Pasta de madera o de las demás materias fibrosas celulósicas; papel o cartón para reciclar (desperdicios y desechos); papel o cartón y sus aplicaciones",
          "Pasta de madera o de las demás materias fibrosas celulósicas; papel o cartón para reciclar (desperdicios y desechos); papel o cartón y sus aplicaciones",
          "Pasta de madera o de las demás materias fibrosas celulósicas; papel o cartón para reciclar (desperdicios y desechos); papel o cartón y sus aplicaciones",
          "Pasta de madera o de las demás materias fibrosas celulósicas; papel o cartón para reciclar (desperdicios y desechos); papel o cartón y sus aplicaciones",
          "Pasta de madera o de las demás materias fibrosas celulósicas; papel o cartón para reciclar (desperdicios y desechos); papel o cartón y sus aplicaciones",
          "Pasta de madera o de las demás materias fibrosas celulósicas; papel o cartón para reciclar (desperdicios y desechos); papel o cartón y sus aplicaciones",
          "Pasta de madera o de las demás materias fibrosas celulósicas; papel o cartón para reciclar (desperdicios y desechos); papel o cartón y sus aplicaciones",
          "Pasta de madera o de las demás materias fibrosas celulósicas; papel o cartón para reciclar (desperdicios y desechos); papel o cartón y sus aplicaciones",
          "Pasta de madera o de las demás materias fibrosas celulósicas; papel o cartón para reciclar (desperdicios y desechos); papel o cartón y sus aplicaciones",
          "Pasta de madera o de las demás materias fibrosas celulósicas; papel o cartón para reciclar (desperdicios y desechos); papel o cartón y sus aplicaciones",
          "Pasta de madera o de las demás materias fibrosas celulósicas; papel o cartón para reciclar (desperdicios y desechos); papel o cartón y sus aplicaciones",
          "Materias textiles y sus manufacturas",
          "Materias textiles y sus manufacturas",
          "Materias textiles y sus manufacturas",
          "Materias textiles y sus manufacturas",
          "Materias textiles y sus manufacturas",
          "Materias textiles y sus manufacturas",
          "Materias textiles y sus manufacturas",
          "Materias textiles y sus manufacturas",
          "Materias textiles y sus manufacturas",
          "Materias textiles y sus manufacturas",
          "Materias textiles y sus manufacturas",
          "Materias textiles y sus manufacturas",
          "Materias textiles y sus manufacturas",
          "Materias textiles y sus manufacturas",
          "Materias textiles y sus manufacturas",
          "Materias textiles y sus manufacturas",
          "Materias textiles y sus manufacturas",
          "Materias textiles y sus manufacturas",
          "Materias textiles y sus manufacturas",
          "Materias textiles y sus manufacturas",
          "Materias textiles y sus manufacturas",
          "Materias textiles y sus manufacturas",
          "Materias textiles y sus manufacturas",
          "Materias textiles y sus manufacturas",
          "Materias textiles y sus manufacturas",
          "Materias textiles y sus manufacturas",
          "Materias textiles y sus manufacturas",
          "Materias textiles y sus manufacturas",
          "Materias textiles y sus manufacturas",
          "Materias textiles y sus manufacturas",
          "Materias textiles y sus manufacturas",
          "Materias textiles y sus manufacturas",
          "Materias textiles y sus manufacturas",
          "Materias textiles y sus manufacturas",
          "Materias textiles y sus manufacturas",
          "Materias textiles y sus manufacturas",
          "Materias textiles y sus manufacturas",
          "Materias textiles y sus manufacturas",
          "Materias textiles y sus manufacturas",
          "Materias textiles y sus manufacturas",
          "Materias textiles y sus manufacturas",
          "Materias textiles y sus manufacturas",
          "Materias textiles y sus manufacturas",
          "Materias textiles y sus manufacturas",
          "Materias textiles y sus manufacturas",
          "Materias textiles y sus manufacturas",
          "Materias textiles y sus manufacturas",
          "Materias textiles y sus manufacturas",
          "Materias textiles y sus manufacturas",
          "Materias textiles y sus manufacturas",
          "Materias textiles y sus manufacturas",
          "Materias textiles y sus manufacturas",
          "Materias textiles y sus manufacturas",
          "Materias textiles y sus manufacturas",
          "Materias textiles y sus manufacturas",
          "Materias textiles y sus manufacturas",
          "Materias textiles y sus manufacturas",
          "Materias textiles y sus manufacturas",
          "Materias textiles y sus manufacturas",
          "Materias textiles y sus manufacturas",
          "Materias textiles y sus manufacturas",
          "Materias textiles y sus manufacturas",
          "Materias textiles y sus manufacturas",
          "Materias textiles y sus manufacturas",
          "Materias textiles y sus manufacturas",
          "Materias textiles y sus manufacturas",
          "Materias textiles y sus manufacturas",
          "Materias textiles y sus manufacturas",
          "Materias textiles y sus manufacturas",
          "Materias textiles y sus manufacturas",
          "Materias textiles y sus manufacturas",
          "Materias textiles y sus manufacturas",
          "Materias textiles y sus manufacturas",
          "Materias textiles y sus manufacturas",
          "Materias textiles y sus manufacturas",
          "Materias textiles y sus manufacturas",
          "Materias textiles y sus manufacturas",
          "Materias textiles y sus manufacturas",
          "Materias textiles y sus manufacturas",
          "Materias textiles y sus manufacturas",
          "Materias textiles y sus manufacturas",
          "Materias textiles y sus manufacturas",
          "Materias textiles y sus manufacturas",
          "Materias textiles y sus manufacturas",
          "Materias textiles y sus manufacturas",
          "Materias textiles y sus manufacturas",
          "Materias textiles y sus manufacturas",
          "Materias textiles y sus manufacturas",
          "Materias textiles y sus manufacturas",
          "Materias textiles y sus manufacturas",
          "Materias textiles y sus manufacturas",
          "Materias textiles y sus manufacturas",
          "Materias textiles y sus manufacturas",
          "Materias textiles y sus manufacturas",
          "Materias textiles y sus manufacturas",
          "Materias textiles y sus manufacturas",
          "Materias textiles y sus manufacturas",
          "Materias textiles y sus manufacturas",
          "Materias textiles y sus manufacturas",
          "Materias textiles y sus manufacturas",
          "Materias textiles y sus manufacturas",
          "Materias textiles y sus manufacturas",
          "Materias textiles y sus manufacturas",
          "Materias textiles y sus manufacturas",
          "Materias textiles y sus manufacturas",
          "Materias textiles y sus manufacturas",
          "Materias textiles y sus manufacturas",
          "Materias textiles y sus manufacturas",
          "Materias textiles y sus manufacturas",
          "Materias textiles y sus manufacturas",
          "Materias textiles y sus manufacturas",
          "Materias textiles y sus manufacturas",
          "Materias textiles y sus manufacturas",
          "Materias textiles y sus manufacturas",
          "Materias textiles y sus manufacturas",
          "Materias textiles y sus manufacturas",
          "Materias textiles y sus manufacturas",
          "Materias textiles y sus manufacturas",
          "Materias textiles y sus manufacturas",
          "Materias textiles y sus manufacturas",
          "Materias textiles y sus manufacturas",
          "Materias textiles y sus manufacturas",
          "Materias textiles y sus manufacturas",
          "Materias textiles y sus manufacturas",
          "Materias textiles y sus manufacturas",
          "Calzado, sombreros y demás tocados, paraguas, quitasoles, bastones, látigos, fustas y sus partes; plumas preparadas y artículos de plumas; flores artificiales; manufacturas de cabello",
          "Calzado, sombreros y demás tocados, paraguas, quitasoles, bastones, látigos, fustas y sus partes; plumas preparadas y artículos de plumas; flores artificiales; manufacturas de cabello",
          "Calzado, sombreros y demás tocados, paraguas, quitasoles, bastones, látigos, fustas y sus partes; plumas preparadas y artículos de plumas; flores artificiales; manufacturas de cabello",
          "Calzado, sombreros y demás tocados, paraguas, quitasoles, bastones, látigos, fustas y sus partes; plumas preparadas y artículos de plumas; flores artificiales; manufacturas de cabello",
          "Calzado, sombreros y demás tocados, paraguas, quitasoles, bastones, látigos, fustas y sus partes; plumas preparadas y artículos de plumas; flores artificiales; manufacturas de cabello",
          "Calzado, sombreros y demás tocados, paraguas, quitasoles, bastones, látigos, fustas y sus partes; plumas preparadas y artículos de plumas; flores artificiales; manufacturas de cabello",
          "Calzado, sombreros y demás tocados, paraguas, quitasoles, bastones, látigos, fustas y sus partes; plumas preparadas y artículos de plumas; flores artificiales; manufacturas de cabello",
          "Calzado, sombreros y demás tocados, paraguas, quitasoles, bastones, látigos, fustas y sus partes; plumas preparadas y artículos de plumas; flores artificiales; manufacturas de cabello",
          "Calzado, sombreros y demás tocados, paraguas, quitasoles, bastones, látigos, fustas y sus partes; plumas preparadas y artículos de plumas; flores artificiales; manufacturas de cabello",
          "Calzado, sombreros y demás tocados, paraguas, quitasoles, bastones, látigos, fustas y sus partes; plumas preparadas y artículos de plumas; flores artificiales; manufacturas de cabello",
          "Calzado, sombreros y demás tocados, paraguas, quitasoles, bastones, látigos, fustas y sus partes; plumas preparadas y artículos de plumas; flores artificiales; manufacturas de cabello",
          "Calzado, sombreros y demás tocados, paraguas, quitasoles, bastones, látigos, fustas y sus partes; plumas preparadas y artículos de plumas; flores artificiales; manufacturas de cabello",
          "Calzado, sombreros y demás tocados, paraguas, quitasoles, bastones, látigos, fustas y sus partes; plumas preparadas y artículos de plumas; flores artificiales; manufacturas de cabello",
          "Calzado, sombreros y demás tocados, paraguas, quitasoles, bastones, látigos, fustas y sus partes; plumas preparadas y artículos de plumas; flores artificiales; manufacturas de cabello",
          "Calzado, sombreros y demás tocados, paraguas, quitasoles, bastones, látigos, fustas y sus partes; plumas preparadas y artículos de plumas; flores artificiales; manufacturas de cabello",
          "Calzado, sombreros y demás tocados, paraguas, quitasoles, bastones, látigos, fustas y sus partes; plumas preparadas y artículos de plumas; flores artificiales; manufacturas de cabello",
          "Calzado, sombreros y demás tocados, paraguas, quitasoles, bastones, látigos, fustas y sus partes; plumas preparadas y artículos de plumas; flores artificiales; manufacturas de cabello",
          "Manufacturas de piedra, yeso fraguable, cemento, amianto (asbesto), mica o materias análogas; productos cerámicos; vidrio y manufacturas de vidrio",
          "Manufacturas de piedra, yeso fraguable, cemento, amianto (asbesto), mica o materias análogas; productos cerámicos; vidrio y manufacturas de vidrio",
          "Manufacturas de piedra, yeso fraguable, cemento, amianto (asbesto), mica o materias análogas; productos cerámicos; vidrio y manufacturas de vidrio",
          "Manufacturas de piedra, yeso fraguable, cemento, amianto (asbesto), mica o materias análogas; productos cerámicos; vidrio y manufacturas de vidrio",
          "Manufacturas de piedra, yeso fraguable, cemento, amianto (asbesto), mica o materias análogas; productos cerámicos; vidrio y manufacturas de vidrio",
          "Manufacturas de piedra, yeso fraguable, cemento, amianto (asbesto), mica o materias análogas; productos cerámicos; vidrio y manufacturas de vidrio",
          "Manufacturas de piedra, yeso fraguable, cemento, amianto (asbesto), mica o materias análogas; productos cerámicos; vidrio y manufacturas de vidrio",
          "Manufacturas de piedra, yeso fraguable, cemento, amianto (asbesto), mica o materias análogas; productos cerámicos; vidrio y manufacturas de vidrio",
          "Manufacturas de piedra, yeso fraguable, cemento, amianto (asbesto), mica o materias análogas; productos cerámicos; vidrio y manufacturas de vidrio",
          "Manufacturas de piedra, yeso fraguable, cemento, amianto (asbesto), mica o materias análogas; productos cerámicos; vidrio y manufacturas de vidrio",
          "Manufacturas de piedra, yeso fraguable, cemento, amianto (asbesto), mica o materias análogas; productos cerámicos; vidrio y manufacturas de vidrio",
          "Manufacturas de piedra, yeso fraguable, cemento, amianto (asbesto), mica o materias análogas; productos cerámicos; vidrio y manufacturas de vidrio",
          "Manufacturas de piedra, yeso fraguable, cemento, amianto (asbesto), mica o materias análogas; productos cerámicos; vidrio y manufacturas de vidrio",
          "Manufacturas de piedra, yeso fraguable, cemento, amianto (asbesto), mica o materias análogas; productos cerámicos; vidrio y manufacturas de vidrio",
          "Manufacturas de piedra, yeso fraguable, cemento, amianto (asbesto), mica o materias análogas; productos cerámicos; vidrio y manufacturas de vidrio",
          "Manufacturas de piedra, yeso fraguable, cemento, amianto (asbesto), mica o materias análogas; productos cerámicos; vidrio y manufacturas de vidrio",
          "Manufacturas de piedra, yeso fraguable, cemento, amianto (asbesto), mica o materias análogas; productos cerámicos; vidrio y manufacturas de vidrio",
          "Manufacturas de piedra, yeso fraguable, cemento, amianto (asbesto), mica o materias análogas; productos cerámicos; vidrio y manufacturas de vidrio",
          "Manufacturas de piedra, yeso fraguable, cemento, amianto (asbesto), mica o materias análogas; productos cerámicos; vidrio y manufacturas de vidrio",
          "Manufacturas de piedra, yeso fraguable, cemento, amianto (asbesto), mica o materias análogas; productos cerámicos; vidrio y manufacturas de vidrio",
          "Manufacturas de piedra, yeso fraguable, cemento, amianto (asbesto), mica o materias análogas; productos cerámicos; vidrio y manufacturas de vidrio",
          "Manufacturas de piedra, yeso fraguable, cemento, amianto (asbesto), mica o materias análogas; productos cerámicos; vidrio y manufacturas de vidrio",
          "Manufacturas de piedra, yeso fraguable, cemento, amianto (asbesto), mica o materias análogas; productos cerámicos; vidrio y manufacturas de vidrio",
          "Manufacturas de piedra, yeso fraguable, cemento, amianto (asbesto), mica o materias análogas; productos cerámicos; vidrio y manufacturas de vidrio",
          "Manufacturas de piedra, yeso fraguable, cemento, amianto (asbesto), mica o materias análogas; productos cerámicos; vidrio y manufacturas de vidrio",
          "Manufacturas de piedra, yeso fraguable, cemento, amianto (asbesto), mica o materias análogas; productos cerámicos; vidrio y manufacturas de vidrio",
          "Manufacturas de piedra, yeso fraguable, cemento, amianto (asbesto), mica o materias análogas; productos cerámicos; vidrio y manufacturas de vidrio",
          "Manufacturas de piedra, yeso fraguable, cemento, amianto (asbesto), mica o materias análogas; productos cerámicos; vidrio y manufacturas de vidrio",
          "Manufacturas de piedra, yeso fraguable, cemento, amianto (asbesto), mica o materias análogas; productos cerámicos; vidrio y manufacturas de vidrio",
          "Manufacturas de piedra, yeso fraguable, cemento, amianto (asbesto), mica o materias análogas; productos cerámicos; vidrio y manufacturas de vidrio",
          "Manufacturas de piedra, yeso fraguable, cemento, amianto (asbesto), mica o materias análogas; productos cerámicos; vidrio y manufacturas de vidrio",
          "Manufacturas de piedra, yeso fraguable, cemento, amianto (asbesto), mica o materias análogas; productos cerámicos; vidrio y manufacturas de vidrio",
          "Manufacturas de piedra, yeso fraguable, cemento, amianto (asbesto), mica o materias análogas; productos cerámicos; vidrio y manufacturas de vidrio",
          "Manufacturas de piedra, yeso fraguable, cemento, amianto (asbesto), mica o materias análogas; productos cerámicos; vidrio y manufacturas de vidrio",
          "Manufacturas de piedra, yeso fraguable, cemento, amianto (asbesto), mica o materias análogas; productos cerámicos; vidrio y manufacturas de vidrio",
          "Manufacturas de piedra, yeso fraguable, cemento, amianto (asbesto), mica o materias análogas; productos cerámicos; vidrio y manufacturas de vidrio",
          "Manufacturas de piedra, yeso fraguable, cemento, amianto (asbesto), mica o materias análogas; productos cerámicos; vidrio y manufacturas de vidrio",
          "Manufacturas de piedra, yeso fraguable, cemento, amianto (asbesto), mica o materias análogas; productos cerámicos; vidrio y manufacturas de vidrio",
          "Manufacturas de piedra, yeso fraguable, cemento, amianto (asbesto), mica o materias análogas; productos cerámicos; vidrio y manufacturas de vidrio",
          "Manufacturas de piedra, yeso fraguable, cemento, amianto (asbesto), mica o materias análogas; productos cerámicos; vidrio y manufacturas de vidrio",
          "Manufacturas de piedra, yeso fraguable, cemento, amianto (asbesto), mica o materias análogas; productos cerámicos; vidrio y manufacturas de vidrio",
          "Manufacturas de piedra, yeso fraguable, cemento, amianto (asbesto), mica o materias análogas; productos cerámicos; vidrio y manufacturas de vidrio",
          "Manufacturas de piedra, yeso fraguable, cemento, amianto (asbesto), mica o materias análogas; productos cerámicos; vidrio y manufacturas de vidrio",
          "Manufacturas de piedra, yeso fraguable, cemento, amianto (asbesto), mica o materias análogas; productos cerámicos; vidrio y manufacturas de vidrio",
          "Manufacturas de piedra, yeso fraguable, cemento, amianto (asbesto), mica o materias análogas; productos cerámicos; vidrio y manufacturas de vidrio",
          "Manufacturas de piedra, yeso fraguable, cemento, amianto (asbesto), mica o materias análogas; productos cerámicos; vidrio y manufacturas de vidrio",
          "Perlas finas (naturales) o cultivadas, piedras preciosas o semipreciosas, metales preciosos, chapados de metal precioso (plaqué) y manufacturas de estas materias; bisutería; monedas",
          "Perlas finas (naturales) o cultivadas, piedras preciosas o semipreciosas, metales preciosos, chapados de metal precioso (plaqué) y manufacturas de estas materias; bisutería; monedas",
          "Perlas finas (naturales) o cultivadas, piedras preciosas o semipreciosas, metales preciosos, chapados de metal precioso (plaqué) y manufacturas de estas materias; bisutería; monedas",
          "Perlas finas (naturales) o cultivadas, piedras preciosas o semipreciosas, metales preciosos, chapados de metal precioso (plaqué) y manufacturas de estas materias; bisutería; monedas",
          "Perlas finas (naturales) o cultivadas, piedras preciosas o semipreciosas, metales preciosos, chapados de metal precioso (plaqué) y manufacturas de estas materias; bisutería; monedas",
          "Perlas finas (naturales) o cultivadas, piedras preciosas o semipreciosas, metales preciosos, chapados de metal precioso (plaqué) y manufacturas de estas materias; bisutería; monedas",
          "Perlas finas (naturales) o cultivadas, piedras preciosas o semipreciosas, metales preciosos, chapados de metal precioso (plaqué) y manufacturas de estas materias; bisutería; monedas",
          "Perlas finas (naturales) o cultivadas, piedras preciosas o semipreciosas, metales preciosos, chapados de metal precioso (plaqué) y manufacturas de estas materias; bisutería; monedas",
          "Perlas finas (naturales) o cultivadas, piedras preciosas o semipreciosas, metales preciosos, chapados de metal precioso (plaqué) y manufacturas de estas materias; bisutería; monedas",
          "Perlas finas (naturales) o cultivadas, piedras preciosas o semipreciosas, metales preciosos, chapados de metal precioso (plaqué) y manufacturas de estas materias; bisutería; monedas",
          "Perlas finas (naturales) o cultivadas, piedras preciosas o semipreciosas, metales preciosos, chapados de metal precioso (plaqué) y manufacturas de estas materias; bisutería; monedas",
          "Perlas finas (naturales) o cultivadas, piedras preciosas o semipreciosas, metales preciosos, chapados de metal precioso (plaqué) y manufacturas de estas materias; bisutería; monedas",
          "Perlas finas (naturales) o cultivadas, piedras preciosas o semipreciosas, metales preciosos, chapados de metal precioso (plaqué) y manufacturas de estas materias; bisutería; monedas",
          "Perlas finas (naturales) o cultivadas, piedras preciosas o semipreciosas, metales preciosos, chapados de metal precioso (plaqué) y manufacturas de estas materias; bisutería; monedas",
          "Perlas finas (naturales) o cultivadas, piedras preciosas o semipreciosas, metales preciosos, chapados de metal precioso (plaqué) y manufacturas de estas materias; bisutería; monedas",
          "Perlas finas (naturales) o cultivadas, piedras preciosas o semipreciosas, metales preciosos, chapados de metal precioso (plaqué) y manufacturas de estas materias; bisutería; monedas",
          "Metales comunes y manufacturas de esos metales",
          "Metales comunes y manufacturas de esos metales",
          "Metales comunes y manufacturas de esos metales",
          "Metales comunes y manufacturas de esos metales",
          "Metales comunes y manufacturas de esos metales",
          "Metales comunes y manufacturas de esos metales",
          "Metales comunes y manufacturas de esos metales",
          "Metales comunes y manufacturas de esos metales",
          "Metales comunes y manufacturas de esos metales",
          "Metales comunes y manufacturas de esos metales",
          "Metales comunes y manufacturas de esos metales",
          "Metales comunes y manufacturas de esos metales",
          "Metales comunes y manufacturas de esos metales",
          "Metales comunes y manufacturas de esos metales",
          "Metales comunes y manufacturas de esos metales",
          "Metales comunes y manufacturas de esos metales",
          "Metales comunes y manufacturas de esos metales",
          "Metales comunes y manufacturas de esos metales",
          "Metales comunes y manufacturas de esos metales",
          "Metales comunes y manufacturas de esos metales",
          "Metales comunes y manufacturas de esos metales",
          "Metales comunes y manufacturas de esos metales",
          "Metales comunes y manufacturas de esos metales",
          "Metales comunes y manufacturas de esos metales",
          "Metales comunes y manufacturas de esos metales",
          "Metales comunes y manufacturas de esos metales",
          "Metales comunes y manufacturas de esos metales",
          "Metales comunes y manufacturas de esos metales",
          "Metales comunes y manufacturas de esos metales",
          "Metales comunes y manufacturas de esos metales",
          "Metales comunes y manufacturas de esos metales",
          "Metales comunes y manufacturas de esos metales",
          "Metales comunes y manufacturas de esos metales",
          "Metales comunes y manufacturas de esos metales",
          "Metales comunes y manufacturas de esos metales",
          "Metales comunes y manufacturas de esos metales",
          "Metales comunes y manufacturas de esos metales",
          "Metales comunes y manufacturas de esos metales",
          "Metales comunes y manufacturas de esos metales",
          "Metales comunes y manufacturas de esos metales",
          "Metales comunes y manufacturas de esos metales",
          "Metales comunes y manufacturas de esos metales",
          "Metales comunes y manufacturas de esos metales",
          "Metales comunes y manufacturas de esos metales",
          "Metales comunes y manufacturas de esos metales",
          "Metales comunes y manufacturas de esos metales",
          "Metales comunes y manufacturas de esos metales",
          "Metales comunes y manufacturas de esos metales",
          "Metales comunes y manufacturas de esos metales",
          "Metales comunes y manufacturas de esos metales",
          "Metales comunes y manufacturas de esos metales",
          "Metales comunes y manufacturas de esos metales",
          "Metales comunes y manufacturas de esos metales",
          "Metales comunes y manufacturas de esos metales",
          "Metales comunes y manufacturas de esos metales",
          "Metales comunes y manufacturas de esos metales",
          "Metales comunes y manufacturas de esos metales",
          "Metales comunes y manufacturas de esos metales",
          "Metales comunes y manufacturas de esos metales",
          "Metales comunes y manufacturas de esos metales",
          "Metales comunes y manufacturas de esos metales",
          "Metales comunes y manufacturas de esos metales",
          "Metales comunes y manufacturas de esos metales",
          "Metales comunes y manufacturas de esos metales",
          "Metales comunes y manufacturas de esos metales",
          "Metales comunes y manufacturas de esos metales",
          "Metales comunes y manufacturas de esos metales",
          "Metales comunes y manufacturas de esos metales",
          "Metales comunes y manufacturas de esos metales",
          "Metales comunes y manufacturas de esos metales",
          "Metales comunes y manufacturas de esos metales",
          "Metales comunes y manufacturas de esos metales",
          "Metales comunes y manufacturas de esos metales",
          "Metales comunes y manufacturas de esos metales",
          "Metales comunes y manufacturas de esos metales",
          "Metales comunes y manufacturas de esos metales",
          "Metales comunes y manufacturas de esos metales",
          "Metales comunes y manufacturas de esos metales",
          "Metales comunes y manufacturas de esos metales",
          "Metales comunes y manufacturas de esos metales",
          "Metales comunes y manufacturas de esos metales",
          "Metales comunes y manufacturas de esos metales",
          "Metales comunes y manufacturas de esos metales",
          "Metales comunes y manufacturas de esos metales",
          "Metales comunes y manufacturas de esos metales",
          "Metales comunes y manufacturas de esos metales",
          "Metales comunes y manufacturas de esos metales",
          "Metales comunes y manufacturas de esos metales",
          "Metales comunes y manufacturas de esos metales",
          "Metales comunes y manufacturas de esos metales",
          "Metales comunes y manufacturas de esos metales",
          "Metales comunes y manufacturas de esos metales",
          "Metales comunes y manufacturas de esos metales",
          "Metales comunes y manufacturas de esos metales",
          "Metales comunes y manufacturas de esos metales",
          "Metales comunes y manufacturas de esos metales",
          "Metales comunes y manufacturas de esos metales",
          "Metales comunes y manufacturas de esos metales",
          "Metales comunes y manufacturas de esos metales",
          "Metales comunes y manufacturas de esos metales",
          "Metales comunes y manufacturas de esos metales",
          "Metales comunes y manufacturas de esos metales",
          "Metales comunes y manufacturas de esos metales",
          "Metales comunes y manufacturas de esos metales",
          "Metales comunes y manufacturas de esos metales",
          "Metales comunes y manufacturas de esos metales",
          "Metales comunes y manufacturas de esos metales",
          "Metales comunes y manufacturas de esos metales",
          "Metales comunes y manufacturas de esos metales",
          "Metales comunes y manufacturas de esos metales",
          "Metales comunes y manufacturas de esos metales",
          "Metales comunes y manufacturas de esos metales",
          "Metales comunes y manufacturas de esos metales",
          "Metales comunes y manufacturas de esos metales",
          "Metales comunes y manufacturas de esos metales",
          "Metales comunes y manufacturas de esos metales",
          "Metales comunes y manufacturas de esos metales",
          "Metales comunes y manufacturas de esos metales",
          "Metales comunes y manufacturas de esos metales",
          "Metales comunes y manufacturas de esos metales",
          "Metales comunes y manufacturas de esos metales",
          "Metales comunes y manufacturas de esos metales",
          "Metales comunes y manufacturas de esos metales",
          "Metales comunes y manufacturas de esos metales",
          "Metales comunes y manufacturas de esos metales",
          "Metales comunes y manufacturas de esos metales",
          "Metales comunes y manufacturas de esos metales",
          "Metales comunes y manufacturas de esos metales",
          "Metales comunes y manufacturas de esos metales",
          "Metales comunes y manufacturas de esos metales",
          "Metales comunes y manufacturas de esos metales",
          "Metales comunes y manufacturas de esos metales",
          "Metales comunes y manufacturas de esos metales",
          "Metales comunes y manufacturas de esos metales",
          "Metales comunes y manufacturas de esos metales",
          "Metales comunes y manufacturas de esos metales",
          "Metales comunes y manufacturas de esos metales",
          "Metales comunes y manufacturas de esos metales",
          "Máquinas y aparatos, material eléctrico y sus partes; aparatos de grabación o reproducción de sonido, aparatos de grabación o reproducción de imagen y sonido en televisión, y las partes y accesorios de estos aparatos",
          "Máquinas y aparatos, material eléctrico y sus partes; aparatos de grabación o reproducción de sonido, aparatos de grabación o reproducción de imagen y sonido en televisión, y las partes y accesorios de estos aparatos",
          "Máquinas y aparatos, material eléctrico y sus partes; aparatos de grabación o reproducción de sonido, aparatos de grabación o reproducción de imagen y sonido en televisión, y las partes y accesorios de estos aparatos",
          "Máquinas y aparatos, material eléctrico y sus partes; aparatos de grabación o reproducción de sonido, aparatos de grabación o reproducción de imagen y sonido en televisión, y las partes y accesorios de estos aparatos",
          "Máquinas y aparatos, material eléctrico y sus partes; aparatos de grabación o reproducción de sonido, aparatos de grabación o reproducción de imagen y sonido en televisión, y las partes y accesorios de estos aparatos",
          "Máquinas y aparatos, material eléctrico y sus partes; aparatos de grabación o reproducción de sonido, aparatos de grabación o reproducción de imagen y sonido en televisión, y las partes y accesorios de estos aparatos",
          "Máquinas y aparatos, material eléctrico y sus partes; aparatos de grabación o reproducción de sonido, aparatos de grabación o reproducción de imagen y sonido en televisión, y las partes y accesorios de estos aparatos",
          "Máquinas y aparatos, material eléctrico y sus partes; aparatos de grabación o reproducción de sonido, aparatos de grabación o reproducción de imagen y sonido en televisión, y las partes y accesorios de estos aparatos",
          "Máquinas y aparatos, material eléctrico y sus partes; aparatos de grabación o reproducción de sonido, aparatos de grabación o reproducción de imagen y sonido en televisión, y las partes y accesorios de estos aparatos",
          "Máquinas y aparatos, material eléctrico y sus partes; aparatos de grabación o reproducción de sonido, aparatos de grabación o reproducción de imagen y sonido en televisión, y las partes y accesorios de estos aparatos",
          "Máquinas y aparatos, material eléctrico y sus partes; aparatos de grabación o reproducción de sonido, aparatos de grabación o reproducción de imagen y sonido en televisión, y las partes y accesorios de estos aparatos",
          "Máquinas y aparatos, material eléctrico y sus partes; aparatos de grabación o reproducción de sonido, aparatos de grabación o reproducción de imagen y sonido en televisión, y las partes y accesorios de estos aparatos",
          "Máquinas y aparatos, material eléctrico y sus partes; aparatos de grabación o reproducción de sonido, aparatos de grabación o reproducción de imagen y sonido en televisión, y las partes y accesorios de estos aparatos",
          "Máquinas y aparatos, material eléctrico y sus partes; aparatos de grabación o reproducción de sonido, aparatos de grabación o reproducción de imagen y sonido en televisión, y las partes y accesorios de estos aparatos",
          "Máquinas y aparatos, material eléctrico y sus partes; aparatos de grabación o reproducción de sonido, aparatos de grabación o reproducción de imagen y sonido en televisión, y las partes y accesorios de estos aparatos",
          "Máquinas y aparatos, material eléctrico y sus partes; aparatos de grabación o reproducción de sonido, aparatos de grabación o reproducción de imagen y sonido en televisión, y las partes y accesorios de estos aparatos",
          "Máquinas y aparatos, material eléctrico y sus partes; aparatos de grabación o reproducción de sonido, aparatos de grabación o reproducción de imagen y sonido en televisión, y las partes y accesorios de estos aparatos",
          "Máquinas y aparatos, material eléctrico y sus partes; aparatos de grabación o reproducción de sonido, aparatos de grabación o reproducción de imagen y sonido en televisión, y las partes y accesorios de estos aparatos",
          "Máquinas y aparatos, material eléctrico y sus partes; aparatos de grabación o reproducción de sonido, aparatos de grabación o reproducción de imagen y sonido en televisión, y las partes y accesorios de estos aparatos",
          "Máquinas y aparatos, material eléctrico y sus partes; aparatos de grabación o reproducción de sonido, aparatos de grabación o reproducción de imagen y sonido en televisión, y las partes y accesorios de estos aparatos",
          "Máquinas y aparatos, material eléctrico y sus partes; aparatos de grabación o reproducción de sonido, aparatos de grabación o reproducción de imagen y sonido en televisión, y las partes y accesorios de estos aparatos",
          "Máquinas y aparatos, material eléctrico y sus partes; aparatos de grabación o reproducción de sonido, aparatos de grabación o reproducción de imagen y sonido en televisión, y las partes y accesorios de estos aparatos",
          "Máquinas y aparatos, material eléctrico y sus partes; aparatos de grabación o reproducción de sonido, aparatos de grabación o reproducción de imagen y sonido en televisión, y las partes y accesorios de estos aparatos",
          "Máquinas y aparatos, material eléctrico y sus partes; aparatos de grabación o reproducción de sonido, aparatos de grabación o reproducción de imagen y sonido en televisión, y las partes y accesorios de estos aparatos",
          "Máquinas y aparatos, material eléctrico y sus partes; aparatos de grabación o reproducción de sonido, aparatos de grabación o reproducción de imagen y sonido en televisión, y las partes y accesorios de estos aparatos",
          "Máquinas y aparatos, material eléctrico y sus partes; aparatos de grabación o reproducción de sonido, aparatos de grabación o reproducción de imagen y sonido en televisión, y las partes y accesorios de estos aparatos",
          "Máquinas y aparatos, material eléctrico y sus partes; aparatos de grabación o reproducción de sonido, aparatos de grabación o reproducción de imagen y sonido en televisión, y las partes y accesorios de estos aparatos",
          "Máquinas y aparatos, material eléctrico y sus partes; aparatos de grabación o reproducción de sonido, aparatos de grabación o reproducción de imagen y sonido en televisión, y las partes y accesorios de estos aparatos",
          "Máquinas y aparatos, material eléctrico y sus partes; aparatos de grabación o reproducción de sonido, aparatos de grabación o reproducción de imagen y sonido en televisión, y las partes y accesorios de estos aparatos",
          "Máquinas y aparatos, material eléctrico y sus partes; aparatos de grabación o reproducción de sonido, aparatos de grabación o reproducción de imagen y sonido en televisión, y las partes y accesorios de estos aparatos",
          "Máquinas y aparatos, material eléctrico y sus partes; aparatos de grabación o reproducción de sonido, aparatos de grabación o reproducción de imagen y sonido en televisión, y las partes y accesorios de estos aparatos",
          "Máquinas y aparatos, material eléctrico y sus partes; aparatos de grabación o reproducción de sonido, aparatos de grabación o reproducción de imagen y sonido en televisión, y las partes y accesorios de estos aparatos",
          "Máquinas y aparatos, material eléctrico y sus partes; aparatos de grabación o reproducción de sonido, aparatos de grabación o reproducción de imagen y sonido en televisión, y las partes y accesorios de estos aparatos",
          "Máquinas y aparatos, material eléctrico y sus partes; aparatos de grabación o reproducción de sonido, aparatos de grabación o reproducción de imagen y sonido en televisión, y las partes y accesorios de estos aparatos",
          "Máquinas y aparatos, material eléctrico y sus partes; aparatos de grabación o reproducción de sonido, aparatos de grabación o reproducción de imagen y sonido en televisión, y las partes y accesorios de estos aparatos",
          "Máquinas y aparatos, material eléctrico y sus partes; aparatos de grabación o reproducción de sonido, aparatos de grabación o reproducción de imagen y sonido en televisión, y las partes y accesorios de estos aparatos",
          "Máquinas y aparatos, material eléctrico y sus partes; aparatos de grabación o reproducción de sonido, aparatos de grabación o reproducción de imagen y sonido en televisión, y las partes y accesorios de estos aparatos",
          "Máquinas y aparatos, material eléctrico y sus partes; aparatos de grabación o reproducción de sonido, aparatos de grabación o reproducción de imagen y sonido en televisión, y las partes y accesorios de estos aparatos",
          "Máquinas y aparatos, material eléctrico y sus partes; aparatos de grabación o reproducción de sonido, aparatos de grabación o reproducción de imagen y sonido en televisión, y las partes y accesorios de estos aparatos",
          "Máquinas y aparatos, material eléctrico y sus partes; aparatos de grabación o reproducción de sonido, aparatos de grabación o reproducción de imagen y sonido en televisión, y las partes y accesorios de estos aparatos",
          "Máquinas y aparatos, material eléctrico y sus partes; aparatos de grabación o reproducción de sonido, aparatos de grabación o reproducción de imagen y sonido en televisión, y las partes y accesorios de estos aparatos",
          "Máquinas y aparatos, material eléctrico y sus partes; aparatos de grabación o reproducción de sonido, aparatos de grabación o reproducción de imagen y sonido en televisión, y las partes y accesorios de estos aparatos",
          "Máquinas y aparatos, material eléctrico y sus partes; aparatos de grabación o reproducción de sonido, aparatos de grabación o reproducción de imagen y sonido en televisión, y las partes y accesorios de estos aparatos",
          "Máquinas y aparatos, material eléctrico y sus partes; aparatos de grabación o reproducción de sonido, aparatos de grabación o reproducción de imagen y sonido en televisión, y las partes y accesorios de estos aparatos",
          "Máquinas y aparatos, material eléctrico y sus partes; aparatos de grabación o reproducción de sonido, aparatos de grabación o reproducción de imagen y sonido en televisión, y las partes y accesorios de estos aparatos",
          "Máquinas y aparatos, material eléctrico y sus partes; aparatos de grabación o reproducción de sonido, aparatos de grabación o reproducción de imagen y sonido en televisión, y las partes y accesorios de estos aparatos",
          "Máquinas y aparatos, material eléctrico y sus partes; aparatos de grabación o reproducción de sonido, aparatos de grabación o reproducción de imagen y sonido en televisión, y las partes y accesorios de estos aparatos",
          "Máquinas y aparatos, material eléctrico y sus partes; aparatos de grabación o reproducción de sonido, aparatos de grabación o reproducción de imagen y sonido en televisión, y las partes y accesorios de estos aparatos",
          "Máquinas y aparatos, material eléctrico y sus partes; aparatos de grabación o reproducción de sonido, aparatos de grabación o reproducción de imagen y sonido en televisión, y las partes y accesorios de estos aparatos",
          "Máquinas y aparatos, material eléctrico y sus partes; aparatos de grabación o reproducción de sonido, aparatos de grabación o reproducción de imagen y sonido en televisión, y las partes y accesorios de estos aparatos",
          "Máquinas y aparatos, material eléctrico y sus partes; aparatos de grabación o reproducción de sonido, aparatos de grabación o reproducción de imagen y sonido en televisión, y las partes y accesorios de estos aparatos",
          "Máquinas y aparatos, material eléctrico y sus partes; aparatos de grabación o reproducción de sonido, aparatos de grabación o reproducción de imagen y sonido en televisión, y las partes y accesorios de estos aparatos",
          "Máquinas y aparatos, material eléctrico y sus partes; aparatos de grabación o reproducción de sonido, aparatos de grabación o reproducción de imagen y sonido en televisión, y las partes y accesorios de estos aparatos",
          "Máquinas y aparatos, material eléctrico y sus partes; aparatos de grabación o reproducción de sonido, aparatos de grabación o reproducción de imagen y sonido en televisión, y las partes y accesorios de estos aparatos",
          "Máquinas y aparatos, material eléctrico y sus partes; aparatos de grabación o reproducción de sonido, aparatos de grabación o reproducción de imagen y sonido en televisión, y las partes y accesorios de estos aparatos",
          "Máquinas y aparatos, material eléctrico y sus partes; aparatos de grabación o reproducción de sonido, aparatos de grabación o reproducción de imagen y sonido en televisión, y las partes y accesorios de estos aparatos",
          "Máquinas y aparatos, material eléctrico y sus partes; aparatos de grabación o reproducción de sonido, aparatos de grabación o reproducción de imagen y sonido en televisión, y las partes y accesorios de estos aparatos",
          "Máquinas y aparatos, material eléctrico y sus partes; aparatos de grabación o reproducción de sonido, aparatos de grabación o reproducción de imagen y sonido en televisión, y las partes y accesorios de estos aparatos",
          "Máquinas y aparatos, material eléctrico y sus partes; aparatos de grabación o reproducción de sonido, aparatos de grabación o reproducción de imagen y sonido en televisión, y las partes y accesorios de estos aparatos",
          "Máquinas y aparatos, material eléctrico y sus partes; aparatos de grabación o reproducción de sonido, aparatos de grabación o reproducción de imagen y sonido en televisión, y las partes y accesorios de estos aparatos",
          "Máquinas y aparatos, material eléctrico y sus partes; aparatos de grabación o reproducción de sonido, aparatos de grabación o reproducción de imagen y sonido en televisión, y las partes y accesorios de estos aparatos",
          "Máquinas y aparatos, material eléctrico y sus partes; aparatos de grabación o reproducción de sonido, aparatos de grabación o reproducción de imagen y sonido en televisión, y las partes y accesorios de estos aparatos",
          "Máquinas y aparatos, material eléctrico y sus partes; aparatos de grabación o reproducción de sonido, aparatos de grabación o reproducción de imagen y sonido en televisión, y las partes y accesorios de estos aparatos",
          "Máquinas y aparatos, material eléctrico y sus partes; aparatos de grabación o reproducción de sonido, aparatos de grabación o reproducción de imagen y sonido en televisión, y las partes y accesorios de estos aparatos",
          "Máquinas y aparatos, material eléctrico y sus partes; aparatos de grabación o reproducción de sonido, aparatos de grabación o reproducción de imagen y sonido en televisión, y las partes y accesorios de estos aparatos",
          "Máquinas y aparatos, material eléctrico y sus partes; aparatos de grabación o reproducción de sonido, aparatos de grabación o reproducción de imagen y sonido en televisión, y las partes y accesorios de estos aparatos",
          "Máquinas y aparatos, material eléctrico y sus partes; aparatos de grabación o reproducción de sonido, aparatos de grabación o reproducción de imagen y sonido en televisión, y las partes y accesorios de estos aparatos",
          "Máquinas y aparatos, material eléctrico y sus partes; aparatos de grabación o reproducción de sonido, aparatos de grabación o reproducción de imagen y sonido en televisión, y las partes y accesorios de estos aparatos",
          "Máquinas y aparatos, material eléctrico y sus partes; aparatos de grabación o reproducción de sonido, aparatos de grabación o reproducción de imagen y sonido en televisión, y las partes y accesorios de estos aparatos",
          "Máquinas y aparatos, material eléctrico y sus partes; aparatos de grabación o reproducción de sonido, aparatos de grabación o reproducción de imagen y sonido en televisión, y las partes y accesorios de estos aparatos",
          "Máquinas y aparatos, material eléctrico y sus partes; aparatos de grabación o reproducción de sonido, aparatos de grabación o reproducción de imagen y sonido en televisión, y las partes y accesorios de estos aparatos",
          "Máquinas y aparatos, material eléctrico y sus partes; aparatos de grabación o reproducción de sonido, aparatos de grabación o reproducción de imagen y sonido en televisión, y las partes y accesorios de estos aparatos",
          "Máquinas y aparatos, material eléctrico y sus partes; aparatos de grabación o reproducción de sonido, aparatos de grabación o reproducción de imagen y sonido en televisión, y las partes y accesorios de estos aparatos",
          "Máquinas y aparatos, material eléctrico y sus partes; aparatos de grabación o reproducción de sonido, aparatos de grabación o reproducción de imagen y sonido en televisión, y las partes y accesorios de estos aparatos",
          "Máquinas y aparatos, material eléctrico y sus partes; aparatos de grabación o reproducción de sonido, aparatos de grabación o reproducción de imagen y sonido en televisión, y las partes y accesorios de estos aparatos",
          "Máquinas y aparatos, material eléctrico y sus partes; aparatos de grabación o reproducción de sonido, aparatos de grabación o reproducción de imagen y sonido en televisión, y las partes y accesorios de estos aparatos",
          "Máquinas y aparatos, material eléctrico y sus partes; aparatos de grabación o reproducción de sonido, aparatos de grabación o reproducción de imagen y sonido en televisión, y las partes y accesorios de estos aparatos",
          "Máquinas y aparatos, material eléctrico y sus partes; aparatos de grabación o reproducción de sonido, aparatos de grabación o reproducción de imagen y sonido en televisión, y las partes y accesorios de estos aparatos",
          "Máquinas y aparatos, material eléctrico y sus partes; aparatos de grabación o reproducción de sonido, aparatos de grabación o reproducción de imagen y sonido en televisión, y las partes y accesorios de estos aparatos",
          "Máquinas y aparatos, material eléctrico y sus partes; aparatos de grabación o reproducción de sonido, aparatos de grabación o reproducción de imagen y sonido en televisión, y las partes y accesorios de estos aparatos",
          "Máquinas y aparatos, material eléctrico y sus partes; aparatos de grabación o reproducción de sonido, aparatos de grabación o reproducción de imagen y sonido en televisión, y las partes y accesorios de estos aparatos",
          "Máquinas y aparatos, material eléctrico y sus partes; aparatos de grabación o reproducción de sonido, aparatos de grabación o reproducción de imagen y sonido en televisión, y las partes y accesorios de estos aparatos",
          "Máquinas y aparatos, material eléctrico y sus partes; aparatos de grabación o reproducción de sonido, aparatos de grabación o reproducción de imagen y sonido en televisión, y las partes y accesorios de estos aparatos",
          "Máquinas y aparatos, material eléctrico y sus partes; aparatos de grabación o reproducción de sonido, aparatos de grabación o reproducción de imagen y sonido en televisión, y las partes y accesorios de estos aparatos",
          "Máquinas y aparatos, material eléctrico y sus partes; aparatos de grabación o reproducción de sonido, aparatos de grabación o reproducción de imagen y sonido en televisión, y las partes y accesorios de estos aparatos",
          "Máquinas y aparatos, material eléctrico y sus partes; aparatos de grabación o reproducción de sonido, aparatos de grabación o reproducción de imagen y sonido en televisión, y las partes y accesorios de estos aparatos",
          "Máquinas y aparatos, material eléctrico y sus partes; aparatos de grabación o reproducción de sonido, aparatos de grabación o reproducción de imagen y sonido en televisión, y las partes y accesorios de estos aparatos",
          "Máquinas y aparatos, material eléctrico y sus partes; aparatos de grabación o reproducción de sonido, aparatos de grabación o reproducción de imagen y sonido en televisión, y las partes y accesorios de estos aparatos",
          "Máquinas y aparatos, material eléctrico y sus partes; aparatos de grabación o reproducción de sonido, aparatos de grabación o reproducción de imagen y sonido en televisión, y las partes y accesorios de estos aparatos",
          "Máquinas y aparatos, material eléctrico y sus partes; aparatos de grabación o reproducción de sonido, aparatos de grabación o reproducción de imagen y sonido en televisión, y las partes y accesorios de estos aparatos",
          "Máquinas y aparatos, material eléctrico y sus partes; aparatos de grabación o reproducción de sonido, aparatos de grabación o reproducción de imagen y sonido en televisión, y las partes y accesorios de estos aparatos",
          "Máquinas y aparatos, material eléctrico y sus partes; aparatos de grabación o reproducción de sonido, aparatos de grabación o reproducción de imagen y sonido en televisión, y las partes y accesorios de estos aparatos",
          "Máquinas y aparatos, material eléctrico y sus partes; aparatos de grabación o reproducción de sonido, aparatos de grabación o reproducción de imagen y sonido en televisión, y las partes y accesorios de estos aparatos",
          "Máquinas y aparatos, material eléctrico y sus partes; aparatos de grabación o reproducción de sonido, aparatos de grabación o reproducción de imagen y sonido en televisión, y las partes y accesorios de estos aparatos",
          "Máquinas y aparatos, material eléctrico y sus partes; aparatos de grabación o reproducción de sonido, aparatos de grabación o reproducción de imagen y sonido en televisión, y las partes y accesorios de estos aparatos",
          "Máquinas y aparatos, material eléctrico y sus partes; aparatos de grabación o reproducción de sonido, aparatos de grabación o reproducción de imagen y sonido en televisión, y las partes y accesorios de estos aparatos",
          "Máquinas y aparatos, material eléctrico y sus partes; aparatos de grabación o reproducción de sonido, aparatos de grabación o reproducción de imagen y sonido en televisión, y las partes y accesorios de estos aparatos",
          "Máquinas y aparatos, material eléctrico y sus partes; aparatos de grabación o reproducción de sonido, aparatos de grabación o reproducción de imagen y sonido en televisión, y las partes y accesorios de estos aparatos",
          "Máquinas y aparatos, material eléctrico y sus partes; aparatos de grabación o reproducción de sonido, aparatos de grabación o reproducción de imagen y sonido en televisión, y las partes y accesorios de estos aparatos",
          "Máquinas y aparatos, material eléctrico y sus partes; aparatos de grabación o reproducción de sonido, aparatos de grabación o reproducción de imagen y sonido en televisión, y las partes y accesorios de estos aparatos",
          "Máquinas y aparatos, material eléctrico y sus partes; aparatos de grabación o reproducción de sonido, aparatos de grabación o reproducción de imagen y sonido en televisión, y las partes y accesorios de estos aparatos",
          "Máquinas y aparatos, material eléctrico y sus partes; aparatos de grabación o reproducción de sonido, aparatos de grabación o reproducción de imagen y sonido en televisión, y las partes y accesorios de estos aparatos",
          "Máquinas y aparatos, material eléctrico y sus partes; aparatos de grabación o reproducción de sonido, aparatos de grabación o reproducción de imagen y sonido en televisión, y las partes y accesorios de estos aparatos",
          "Máquinas y aparatos, material eléctrico y sus partes; aparatos de grabación o reproducción de sonido, aparatos de grabación o reproducción de imagen y sonido en televisión, y las partes y accesorios de estos aparatos",
          "Máquinas y aparatos, material eléctrico y sus partes; aparatos de grabación o reproducción de sonido, aparatos de grabación o reproducción de imagen y sonido en televisión, y las partes y accesorios de estos aparatos",
          "Máquinas y aparatos, material eléctrico y sus partes; aparatos de grabación o reproducción de sonido, aparatos de grabación o reproducción de imagen y sonido en televisión, y las partes y accesorios de estos aparatos",
          "Máquinas y aparatos, material eléctrico y sus partes; aparatos de grabación o reproducción de sonido, aparatos de grabación o reproducción de imagen y sonido en televisión, y las partes y accesorios de estos aparatos",
          "Máquinas y aparatos, material eléctrico y sus partes; aparatos de grabación o reproducción de sonido, aparatos de grabación o reproducción de imagen y sonido en televisión, y las partes y accesorios de estos aparatos",
          "Máquinas y aparatos, material eléctrico y sus partes; aparatos de grabación o reproducción de sonido, aparatos de grabación o reproducción de imagen y sonido en televisión, y las partes y accesorios de estos aparatos",
          "Máquinas y aparatos, material eléctrico y sus partes; aparatos de grabación o reproducción de sonido, aparatos de grabación o reproducción de imagen y sonido en televisión, y las partes y accesorios de estos aparatos",
          "Máquinas y aparatos, material eléctrico y sus partes; aparatos de grabación o reproducción de sonido, aparatos de grabación o reproducción de imagen y sonido en televisión, y las partes y accesorios de estos aparatos",
          "Máquinas y aparatos, material eléctrico y sus partes; aparatos de grabación o reproducción de sonido, aparatos de grabación o reproducción de imagen y sonido en televisión, y las partes y accesorios de estos aparatos",
          "Máquinas y aparatos, material eléctrico y sus partes; aparatos de grabación o reproducción de sonido, aparatos de grabación o reproducción de imagen y sonido en televisión, y las partes y accesorios de estos aparatos",
          "Máquinas y aparatos, material eléctrico y sus partes; aparatos de grabación o reproducción de sonido, aparatos de grabación o reproducción de imagen y sonido en televisión, y las partes y accesorios de estos aparatos",
          "Máquinas y aparatos, material eléctrico y sus partes; aparatos de grabación o reproducción de sonido, aparatos de grabación o reproducción de imagen y sonido en televisión, y las partes y accesorios de estos aparatos",
          "Máquinas y aparatos, material eléctrico y sus partes; aparatos de grabación o reproducción de sonido, aparatos de grabación o reproducción de imagen y sonido en televisión, y las partes y accesorios de estos aparatos",
          "Máquinas y aparatos, material eléctrico y sus partes; aparatos de grabación o reproducción de sonido, aparatos de grabación o reproducción de imagen y sonido en televisión, y las partes y accesorios de estos aparatos",
          "Máquinas y aparatos, material eléctrico y sus partes; aparatos de grabación o reproducción de sonido, aparatos de grabación o reproducción de imagen y sonido en televisión, y las partes y accesorios de estos aparatos",
          "Máquinas y aparatos, material eléctrico y sus partes; aparatos de grabación o reproducción de sonido, aparatos de grabación o reproducción de imagen y sonido en televisión, y las partes y accesorios de estos aparatos",
          "Máquinas y aparatos, material eléctrico y sus partes; aparatos de grabación o reproducción de sonido, aparatos de grabación o reproducción de imagen y sonido en televisión, y las partes y accesorios de estos aparatos",
          "Máquinas y aparatos, material eléctrico y sus partes; aparatos de grabación o reproducción de sonido, aparatos de grabación o reproducción de imagen y sonido en televisión, y las partes y accesorios de estos aparatos",
          "Máquinas y aparatos, material eléctrico y sus partes; aparatos de grabación o reproducción de sonido, aparatos de grabación o reproducción de imagen y sonido en televisión, y las partes y accesorios de estos aparatos",
          "Máquinas y aparatos, material eléctrico y sus partes; aparatos de grabación o reproducción de sonido, aparatos de grabación o reproducción de imagen y sonido en televisión, y las partes y accesorios de estos aparatos",
          "Máquinas y aparatos, material eléctrico y sus partes; aparatos de grabación o reproducción de sonido, aparatos de grabación o reproducción de imagen y sonido en televisión, y las partes y accesorios de estos aparatos",
          "Máquinas y aparatos, material eléctrico y sus partes; aparatos de grabación o reproducción de sonido, aparatos de grabación o reproducción de imagen y sonido en televisión, y las partes y accesorios de estos aparatos",
          "Máquinas y aparatos, material eléctrico y sus partes; aparatos de grabación o reproducción de sonido, aparatos de grabación o reproducción de imagen y sonido en televisión, y las partes y accesorios de estos aparatos",
          "Máquinas y aparatos, material eléctrico y sus partes; aparatos de grabación o reproducción de sonido, aparatos de grabación o reproducción de imagen y sonido en televisión, y las partes y accesorios de estos aparatos",
          "Máquinas y aparatos, material eléctrico y sus partes; aparatos de grabación o reproducción de sonido, aparatos de grabación o reproducción de imagen y sonido en televisión, y las partes y accesorios de estos aparatos",
          "Máquinas y aparatos, material eléctrico y sus partes; aparatos de grabación o reproducción de sonido, aparatos de grabación o reproducción de imagen y sonido en televisión, y las partes y accesorios de estos aparatos",
          "Material de transporte",
          "Material de transporte",
          "Material de transporte",
          "Material de transporte",
          "Material de transporte",
          "Material de transporte",
          "Material de transporte",
          "Material de transporte",
          "Material de transporte",
          "Material de transporte",
          "Material de transporte",
          "Material de transporte",
          "Material de transporte",
          "Material de transporte",
          "Material de transporte",
          "Material de transporte",
          "Material de transporte",
          "Material de transporte",
          "Material de transporte",
          "Material de transporte",
          "Material de transporte",
          "Material de transporte",
          "Material de transporte",
          "Material de transporte",
          "Material de transporte",
          "Material de transporte",
          "Material de transporte",
          "Instrumentos y aparatos de óptica, fotografía o cinematografía, de medida, control o precisión; instrumentos y aparatos médicoquirúrgicos; aparatos de relojería; instrumentos musicales; partes y accesorios de estos instrumentos o aparatos",
          "Instrumentos y aparatos de óptica, fotografía o cinematografía, de medida, control o precisión; instrumentos y aparatos médicoquirúrgicos; aparatos de relojería; instrumentos musicales; partes y accesorios de estos instrumentos o aparatos",
          "Instrumentos y aparatos de óptica, fotografía o cinematografía, de medida, control o precisión; instrumentos y aparatos médicoquirúrgicos; aparatos de relojería; instrumentos musicales; partes y accesorios de estos instrumentos o aparatos",
          "Instrumentos y aparatos de óptica, fotografía o cinematografía, de medida, control o precisión; instrumentos y aparatos médicoquirúrgicos; aparatos de relojería; instrumentos musicales; partes y accesorios de estos instrumentos o aparatos",
          "Instrumentos y aparatos de óptica, fotografía o cinematografía, de medida, control o precisión; instrumentos y aparatos médicoquirúrgicos; aparatos de relojería; instrumentos musicales; partes y accesorios de estos instrumentos o aparatos",
          "Instrumentos y aparatos de óptica, fotografía o cinematografía, de medida, control o precisión; instrumentos y aparatos médicoquirúrgicos; aparatos de relojería; instrumentos musicales; partes y accesorios de estos instrumentos o aparatos",
          "Instrumentos y aparatos de óptica, fotografía o cinematografía, de medida, control o precisión; instrumentos y aparatos médicoquirúrgicos; aparatos de relojería; instrumentos musicales; partes y accesorios de estos instrumentos o aparatos",
          "Instrumentos y aparatos de óptica, fotografía o cinematografía, de medida, control o precisión; instrumentos y aparatos médicoquirúrgicos; aparatos de relojería; instrumentos musicales; partes y accesorios de estos instrumentos o aparatos",
          "Instrumentos y aparatos de óptica, fotografía o cinematografía, de medida, control o precisión; instrumentos y aparatos médicoquirúrgicos; aparatos de relojería; instrumentos musicales; partes y accesorios de estos instrumentos o aparatos",
          "Instrumentos y aparatos de óptica, fotografía o cinematografía, de medida, control o precisión; instrumentos y aparatos médicoquirúrgicos; aparatos de relojería; instrumentos musicales; partes y accesorios de estos instrumentos o aparatos",
          "Instrumentos y aparatos de óptica, fotografía o cinematografía, de medida, control o precisión; instrumentos y aparatos médicoquirúrgicos; aparatos de relojería; instrumentos musicales; partes y accesorios de estos instrumentos o aparatos",
          "Instrumentos y aparatos de óptica, fotografía o cinematografía, de medida, control o precisión; instrumentos y aparatos médicoquirúrgicos; aparatos de relojería; instrumentos musicales; partes y accesorios de estos instrumentos o aparatos",
          "Instrumentos y aparatos de óptica, fotografía o cinematografía, de medida, control o precisión; instrumentos y aparatos médicoquirúrgicos; aparatos de relojería; instrumentos musicales; partes y accesorios de estos instrumentos o aparatos",
          "Instrumentos y aparatos de óptica, fotografía o cinematografía, de medida, control o precisión; instrumentos y aparatos médicoquirúrgicos; aparatos de relojería; instrumentos musicales; partes y accesorios de estos instrumentos o aparatos",
          "Instrumentos y aparatos de óptica, fotografía o cinematografía, de medida, control o precisión; instrumentos y aparatos médicoquirúrgicos; aparatos de relojería; instrumentos musicales; partes y accesorios de estos instrumentos o aparatos",
          "Instrumentos y aparatos de óptica, fotografía o cinematografía, de medida, control o precisión; instrumentos y aparatos médicoquirúrgicos; aparatos de relojería; instrumentos musicales; partes y accesorios de estos instrumentos o aparatos",
          "Instrumentos y aparatos de óptica, fotografía o cinematografía, de medida, control o precisión; instrumentos y aparatos médicoquirúrgicos; aparatos de relojería; instrumentos musicales; partes y accesorios de estos instrumentos o aparatos",
          "Instrumentos y aparatos de óptica, fotografía o cinematografía, de medida, control o precisión; instrumentos y aparatos médicoquirúrgicos; aparatos de relojería; instrumentos musicales; partes y accesorios de estos instrumentos o aparatos",
          "Instrumentos y aparatos de óptica, fotografía o cinematografía, de medida, control o precisión; instrumentos y aparatos médicoquirúrgicos; aparatos de relojería; instrumentos musicales; partes y accesorios de estos instrumentos o aparatos",
          "Instrumentos y aparatos de óptica, fotografía o cinematografía, de medida, control o precisión; instrumentos y aparatos médicoquirúrgicos; aparatos de relojería; instrumentos musicales; partes y accesorios de estos instrumentos o aparatos",
          "Instrumentos y aparatos de óptica, fotografía o cinematografía, de medida, control o precisión; instrumentos y aparatos médicoquirúrgicos; aparatos de relojería; instrumentos musicales; partes y accesorios de estos instrumentos o aparatos",
          "Instrumentos y aparatos de óptica, fotografía o cinematografía, de medida, control o precisión; instrumentos y aparatos médicoquirúrgicos; aparatos de relojería; instrumentos musicales; partes y accesorios de estos instrumentos o aparatos",
          "Instrumentos y aparatos de óptica, fotografía o cinematografía, de medida, control o precisión; instrumentos y aparatos médicoquirúrgicos; aparatos de relojería; instrumentos musicales; partes y accesorios de estos instrumentos o aparatos",
          "Instrumentos y aparatos de óptica, fotografía o cinematografía, de medida, control o precisión; instrumentos y aparatos médicoquirúrgicos; aparatos de relojería; instrumentos musicales; partes y accesorios de estos instrumentos o aparatos",
          "Instrumentos y aparatos de óptica, fotografía o cinematografía, de medida, control o precisión; instrumentos y aparatos médicoquirúrgicos; aparatos de relojería; instrumentos musicales; partes y accesorios de estos instrumentos o aparatos",
          "Instrumentos y aparatos de óptica, fotografía o cinematografía, de medida, control o precisión; instrumentos y aparatos médicoquirúrgicos; aparatos de relojería; instrumentos musicales; partes y accesorios de estos instrumentos o aparatos",
          "Instrumentos y aparatos de óptica, fotografía o cinematografía, de medida, control o precisión; instrumentos y aparatos médicoquirúrgicos; aparatos de relojería; instrumentos musicales; partes y accesorios de estos instrumentos o aparatos",
          "Instrumentos y aparatos de óptica, fotografía o cinematografía, de medida, control o precisión; instrumentos y aparatos médicoquirúrgicos; aparatos de relojería; instrumentos musicales; partes y accesorios de estos instrumentos o aparatos",
          "Instrumentos y aparatos de óptica, fotografía o cinematografía, de medida, control o precisión; instrumentos y aparatos médicoquirúrgicos; aparatos de relojería; instrumentos musicales; partes y accesorios de estos instrumentos o aparatos",
          "Instrumentos y aparatos de óptica, fotografía o cinematografía, de medida, control o precisión; instrumentos y aparatos médicoquirúrgicos; aparatos de relojería; instrumentos musicales; partes y accesorios de estos instrumentos o aparatos",
          "Instrumentos y aparatos de óptica, fotografía o cinematografía, de medida, control o precisión; instrumentos y aparatos médicoquirúrgicos; aparatos de relojería; instrumentos musicales; partes y accesorios de estos instrumentos o aparatos",
          "Instrumentos y aparatos de óptica, fotografía o cinematografía, de medida, control o precisión; instrumentos y aparatos médicoquirúrgicos; aparatos de relojería; instrumentos musicales; partes y accesorios de estos instrumentos o aparatos",
          "Instrumentos y aparatos de óptica, fotografía o cinematografía, de medida, control o precisión; instrumentos y aparatos médicoquirúrgicos; aparatos de relojería; instrumentos musicales; partes y accesorios de estos instrumentos o aparatos",
          "Instrumentos y aparatos de óptica, fotografía o cinematografía, de medida, control o precisión; instrumentos y aparatos médicoquirúrgicos; aparatos de relojería; instrumentos musicales; partes y accesorios de estos instrumentos o aparatos",
          "Instrumentos y aparatos de óptica, fotografía o cinematografía, de medida, control o precisión; instrumentos y aparatos médicoquirúrgicos; aparatos de relojería; instrumentos musicales; partes y accesorios de estos instrumentos o aparatos",
          "Instrumentos y aparatos de óptica, fotografía o cinematografía, de medida, control o precisión; instrumentos y aparatos médicoquirúrgicos; aparatos de relojería; instrumentos musicales; partes y accesorios de estos instrumentos o aparatos",
          "Instrumentos y aparatos de óptica, fotografía o cinematografía, de medida, control o precisión; instrumentos y aparatos médicoquirúrgicos; aparatos de relojería; instrumentos musicales; partes y accesorios de estos instrumentos o aparatos",
          "Instrumentos y aparatos de óptica, fotografía o cinematografía, de medida, control o precisión; instrumentos y aparatos médicoquirúrgicos; aparatos de relojería; instrumentos musicales; partes y accesorios de estos instrumentos o aparatos",
          "Instrumentos y aparatos de óptica, fotografía o cinematografía, de medida, control o precisión; instrumentos y aparatos médicoquirúrgicos; aparatos de relojería; instrumentos musicales; partes y accesorios de estos instrumentos o aparatos",
          "Instrumentos y aparatos de óptica, fotografía o cinematografía, de medida, control o precisión; instrumentos y aparatos médicoquirúrgicos; aparatos de relojería; instrumentos musicales; partes y accesorios de estos instrumentos o aparatos",
          "Instrumentos y aparatos de óptica, fotografía o cinematografía, de medida, control o precisión; instrumentos y aparatos médicoquirúrgicos; aparatos de relojería; instrumentos musicales; partes y accesorios de estos instrumentos o aparatos",
          "Instrumentos y aparatos de óptica, fotografía o cinematografía, de medida, control o precisión; instrumentos y aparatos médicoquirúrgicos; aparatos de relojería; instrumentos musicales; partes y accesorios de estos instrumentos o aparatos",
          "Instrumentos y aparatos de óptica, fotografía o cinematografía, de medida, control o precisión; instrumentos y aparatos médicoquirúrgicos; aparatos de relojería; instrumentos musicales; partes y accesorios de estos instrumentos o aparatos",
          "Instrumentos y aparatos de óptica, fotografía o cinematografía, de medida, control o precisión; instrumentos y aparatos médicoquirúrgicos; aparatos de relojería; instrumentos musicales; partes y accesorios de estos instrumentos o aparatos",
          "Instrumentos y aparatos de óptica, fotografía o cinematografía, de medida, control o precisión; instrumentos y aparatos médicoquirúrgicos; aparatos de relojería; instrumentos musicales; partes y accesorios de estos instrumentos o aparatos",
          "Instrumentos y aparatos de óptica, fotografía o cinematografía, de medida, control o precisión; instrumentos y aparatos médicoquirúrgicos; aparatos de relojería; instrumentos musicales; partes y accesorios de estos instrumentos o aparatos",
          "Instrumentos y aparatos de óptica, fotografía o cinematografía, de medida, control o precisión; instrumentos y aparatos médicoquirúrgicos; aparatos de relojería; instrumentos musicales; partes y accesorios de estos instrumentos o aparatos",
          "Instrumentos y aparatos de óptica, fotografía o cinematografía, de medida, control o precisión; instrumentos y aparatos médicoquirúrgicos; aparatos de relojería; instrumentos musicales; partes y accesorios de estos instrumentos o aparatos",
          "Instrumentos y aparatos de óptica, fotografía o cinematografía, de medida, control o precisión; instrumentos y aparatos médicoquirúrgicos; aparatos de relojería; instrumentos musicales; partes y accesorios de estos instrumentos o aparatos",
          "Armas, municiones, y sus partes y accesorios",
          "Armas, municiones, y sus partes y accesorios",
          "Armas, municiones, y sus partes y accesorios",
          "Armas, municiones, y sus partes y accesorios",
          "Mercancías y productos diversos",
          "Mercancías y productos diversos",
          "Mercancías y productos diversos",
          "Mercancías y productos diversos",
          "Mercancías y productos diversos",
          "Mercancías y productos diversos",
          "Mercancías y productos diversos",
          "Mercancías y productos diversos",
          "Mercancías y productos diversos",
          "Mercancías y productos diversos",
          "Mercancías y productos diversos",
          "Mercancías y productos diversos",
          "Mercancías y productos diversos",
          "Mercancías y productos diversos",
          "Mercancías y productos diversos",
          "Mercancías y productos diversos",
          "Mercancías y productos diversos",
          "Mercancías y productos diversos",
          "Mercancías y productos diversos",
          "Mercancías y productos diversos",
          "Mercancías y productos diversos",
          "Mercancías y productos diversos",
          "Mercancías y productos diversos",
          "Mercancías y productos diversos",
          "Mercancías y productos diversos",
          "Mercancías y productos diversos",
          "Mercancías y productos diversos",
          "Mercancías y productos diversos",
          "Mercancías y productos diversos",
          "Mercancías y productos diversos",
          "Mercancías y productos diversos",
          "Objetos de arte o colección y antigüedades",
          "Objetos de arte o colección y antigüedades",
          "Objetos de arte o colección y antigüedades",
          "Objetos de arte o colección y antigüedades",
          "",
          "",
          "",
          "",
          "",
          "",
          "",
          "",
          "",
          "",
          "",
          "",
          "",
          "",
          "",
          "",
          "",
          "",
          "",
          "",
          ""
         ],
         "type": "treemap",
         "values": [
          32.32,
          43.91,
          23.16,
          2.07,
          535.48,
          36,
          1220.32,
          291.71,
          928.39,
          24.3,
          53.17,
          1,
          0.55,
          32.81,
          6.41,
          0.32,
          0.68,
          2.93,
          19.76,
          779.06,
          30.61,
          91.62,
          8.27,
          432.41,
          188.03,
          180.11,
          0.62,
          0.01,
          19.34,
          71.55,
          14.42,
          60.29,
          66.85,
          34.6,
          9.16,
          42.54,
          32.28,
          9.83,
          14.35,
          147.22,
          4.45,
          0.32,
          281.5,
          29.64,
          24.27,
          124.42,
          6.23,
          318.09,
          35.97,
          55.47,
          9.46,
          0.55,
          16.8,
          31.48,
          2.89,
          4.26,
          0.03,
          2.1,
          0.03,
          0.04,
          0.31,
          1.11,
          796.82,
          10.75,
          2865.8,
          294.29,
          101.95,
          15.81,
          22.13,
          73.27,
          26.67,
          7.21,
          188.11,
          49.58,
          1.76,
          1926.28,
          119.07,
          6.04,
          45.54,
          1.11,
          125.97,
          3.38,
          3.4,
          0.42,
          0.58,
          0.84,
          33.99,
          20.24,
          182.47,
          0.13,
          0.77,
          0.03,
          94.38,
          0.29,
          2.28,
          0.05,
          0.5,
          26.35,
          0.58,
          43.17,
          13.56,
          8.32,
          43.84,
          34.58,
          4.1,
          1.4,
          0.09,
          162.64,
          110.71,
          0.67,
          30.54,
          4.57,
          39.14,
          571.9,
          0.47,
          46.36,
          0.04,
          10.74,
          151.75,
          132.76,
          14.73,
          0.04,
          49.3,
          196.23,
          3.86,
          62.74,
          127.89,
          55.79,
          1.54,
          7.05,
          188.59,
          34.06,
          58.84,
          18.16,
          261.46,
          239.25,
          55.57,
          476.7,
          12.33,
          128.89,
          23.83,
          18.84,
          0.12,
          0.68,
          167.19,
          28.86,
          3.83,
          49.73,
          10.2,
          399.46,
          687.2,
          20.4,
          0.6,
          241.5,
          38.68,
          1.75,
          11.83,
          0.96,
          49.6,
          0.9,
          41.05,
          1.85,
          77.5,
          43.49,
          0.12,
          0.09,
          1.94,
          0.85,
          3.8,
          1.31,
          0.22,
          5.68,
          1.05,
          1.91,
          2.98,
          1.26,
          12.65,
          0.95,
          22.3,
          0.02,
          0.46,
          10.83,
          2.3,
          0.03,
          1032.47,
          0.73,
          25.06,
          0.18,
          61.88,
          0.01,
          7.27,
          0.03,
          0.13,
          1.46,
          0.12,
          6.77,
          2.49,
          51.56,
          1.62,
          0.62,
          19.24,
          47.34,
          0.69,
          15521.6,
          6488.34,
          38.63,
          485.2,
          0.88,
          4.9,
          104.13,
          11.24,
          0.09,
          40.11,
          56.79,
          0.54,
          0.91,
          1.27,
          1.37,
          61.02,
          4.5,
          98.76,
          1.08,
          7.6,
          42.65,
          77.05,
          0.96,
          59.73,
          56.92,
          5.84,
          1.81,
          4.74,
          0.16,
          0.35,
          0.45,
          11.39,
          1.6,
          8.06,
          5.29,
          3.41,
          12.29,
          0.01,
          21.07,
          33.61,
          7.06,
          27.11,
          348.08,
          87.88,
          5.28,
          16.89,
          11,
          6.86,
          805.01,
          2.53,
          0.17,
          3.38,
          21.4,
          2.49,
          2.57,
          2.1,
          422.04,
          1113.21,
          479,
          12.61,
          391.94,
          7.69,
          37.83,
          0.37,
          320.7,
          49.37,
          0.43,
          17.57,
          0.01,
          72.33,
          297.59,
          177.86,
          72.49,
          27.23,
          2.64,
          11.56,
          33.1,
          75.42,
          17.06,
          16.49,
          0.76,
          74.99,
          0.68,
          1.02,
          57.04,
          58.98,
          54.26,
          26.64,
          36.79,
          4.99,
          1.48,
          16.21,
          1.56,
          0.32,
          0.65,
          6.59,
          1.46,
          0.29,
          7.23,
          426.67,
          12.85,
          618.41,
          197.99,
          64.09,
          3.37,
          91.39,
          2.45,
          23.79,
          105.09,
          0.03,
          0.18,
          5.11,
          81.34,
          8.68,
          379.76,
          39.7,
          318.39,
          190.92,
          8.22,
          1.58,
          32.01,
          0.43,
          165.91,
          101.02,
          60.78,
          433.28,
          32.95,
          171.14,
          50.5,
          28.55,
          82.38,
          55.81,
          269.47,
          229.18,
          36.61,
          23.91,
          3.06,
          1.79,
          0.4,
          5.85,
          20.07,
          18.33,
          42.98,
          296.15,
          34.81,
          5.83,
          31.16,
          27.25,
          0.08,
          0.22,
          25.93,
          16.25,
          4.04,
          0.07,
          0.15,
          0.01,
          29.44,
          16.36,
          75.26,
          0.99,
          3.85,
          2.35,
          11.98,
          412.81,
          38.62,
          66.8,
          331.5,
          62.99,
          6.84,
          45.39,
          1122.56,
          41.87,
          82.05,
          0.55,
          17.97,
          20.08,
          17.9,
          178.27,
          71.99,
          1045.93,
          2.38,
          1458.85,
          1096.89,
          407.44,
          538.96,
          132.44,
          282.36,
          1219.6,
          435.4,
          198.78,
          134.33,
          98.75,
          64.13,
          22.73,
          8.85,
          26.63,
          46.32,
          939.03,
          13.56,
          693.08,
          1017.99,
          860.13,
          16.16,
          2018.29,
          55.36,
          56.53,
          1.34,
          216.17,
          0.35,
          2.61,
          242.04,
          3.16,
          0.88,
          51.46,
          257.22,
          61.22,
          974.07,
          19.06,
          0.17,
          4.68,
          2.99,
          666.84,
          0.62,
          67.98,
          0.02,
          4.39,
          49.68,
          17.54,
          0.33,
          0.48,
          0.05,
          1.05,
          30.8,
          0.73,
          69.08,
          0.14,
          0.02,
          0.01,
          1.24,
          1.71,
          11.41,
          0.63,
          1.03,
          248.84,
          33.18,
          79.87,
          31.42,
          41.41,
          29.49,
          1.6,
          0.14,
          39.7,
          10.34,
          14.86,
          8.03,
          0.54,
          0.28,
          17.18,
          0.02,
          0.03,
          3.66,
          1.63,
          0.2,
          0.08,
          4.55,
          282.28,
          5.99,
          342.88,
          20.91,
          98.09,
          64,
          567.77,
          333.14,
          5.56,
          18.87,
          292.02,
          8.05,
          357.51,
          296.6,
          0.21,
          2.94,
          0.85,
          15.04,
          7.81,
          55.62,
          847.14,
          7.22,
          201.51,
          8.55,
          299.2,
          126.11,
          2.4,
          0.43,
          0.06,
          0.08,
          0.39,
          29.9,
          0.91,
          1.38,
          205.02,
          0.02,
          3.41,
          0.04,
          0.41,
          3.83,
          0.73,
          207.67,
          4.81,
          1.5,
          0.38,
          12.38,
          0.95,
          0.06,
          3.18,
          83.76,
          5.07,
          8.98,
          0.06,
          0.08,
          2.07,
          0.12,
          0.49,
          34.82,
          116.62,
          1.52,
          49.65,
          0.42,
          120.97,
          1.92,
          47.39,
          2.78,
          1.38,
          0.47,
          0.04,
          6.81,
          7.83,
          0.98,
          0.13,
          72.59,
          40.3,
          26.85,
          24.15,
          2.24,
          27.09,
          41.44,
          360.3,
          5.25,
          0.19,
          2.23,
          41.89,
          2.59,
          7.46,
          0.03,
          0.61,
          57.76,
          4.32,
          7.11,
          1.62,
          0.1,
          0.11,
          2.13,
          84.45,
          10.51,
          2.28,
          0.06,
          1.47,
          4.73,
          1.54,
          16.75,
          353.31,
          0.16,
          0.27,
          43.68,
          5.15,
          0.58,
          3.97,
          3.24,
          114.83,
          14.18,
          7.23,
          1.86,
          11.79,
          42.31,
          66.7,
          0.03,
          0.28,
          0.9,
          13.07,
          0.25,
          16.39,
          1.56,
          1.05,
          69.95,
          6.99,
          0.19,
          1.81,
          0.04,
          8,
          12.63,
          1.62,
          33.79,
          0.73,
          0.09,
          10.74,
          1.93,
          1.39,
          0.43,
          0.01,
          0.01,
          0.15,
          38.22,
          9.19,
          0.89,
          0.01,
          0.04,
          0.8,
          3.83,
          0.19,
          1.78,
          4.23,
          1.23,
          64.97,
          0.93,
          157.61,
          13.11,
          0.98,
          0.36,
          2.84,
          0.23,
          0.03,
          8.6,
          0.28,
          8.04,
          14.63,
          3.39,
          2.2,
          0.02,
          0.31,
          0.3,
          0.32,
          0.07,
          0.05,
          0.04,
          2.83,
          49.87,
          65.01,
          46.15,
          9.77,
          0.25,
          5.65,
          3.83,
          0.27,
          1.12,
          19.69,
          2.83,
          64,
          0.69,
          18.7,
          42.06,
          0.54,
          0.02,
          0.34,
          3.9,
          103.92,
          1.86,
          0.1,
          1.76,
          0.11,
          17.12,
          10.69,
          46.8,
          1.98,
          0.2,
          42.28,
          3.33,
          112.44,
          4.15,
          136.11,
          11.62,
          0.53,
          9.47,
          1.34,
          0.38,
          3.25,
          7.6,
          6.63,
          317.65,
          9.64,
          0.01,
          11.49,
          0.5,
          1.99,
          0.48,
          76.99,
          2.12,
          60.84,
          0.44,
          15.23,
          92.33,
          0.01,
          33.11,
          3.18,
          3.68,
          0.01,
          0.44,
          13.56,
          63.59,
          565.74,
          31.17,
          0.68,
          52.14,
          659.67,
          173,
          356.27,
          86.75,
          108.95,
          6.59,
          56.52,
          46.4,
          55.31,
          26.84,
          4.91,
          376.54,
          96.36,
          0.42,
          32.85,
          34.8,
          20.37,
          623.21,
          45.11,
          5.22,
          148.94,
          19.37,
          0.07,
          51.96,
          2.83,
          69.2,
          8.65,
          266.8,
          234.31,
          86.93,
          53.71,
          75.26,
          33.54,
          26.03,
          0.1,
          36.97,
          88.28,
          0.1,
          6.16,
          0.17,
          307.84,
          30.02,
          21.25,
          5.72,
          3.32,
          23.29,
          1550.7,
          630.41,
          29.21,
          2.72,
          2.53,
          77.16,
          612.04,
          147.34,
          17.82,
          95.62,
          95.03,
          134.07,
          46.25,
          0.17,
          120.56,
          7.32,
          2.85,
          99.25,
          14.34,
          9.66,
          35.5,
          322.69,
          133.61,
          0.69,
          230.96,
          13.83,
          867.07,
          263.83,
          147.22,
          57.91,
          33.54,
          4.07,
          42.91,
          13.17,
          0.38,
          9.41,
          329.04,
          24.97,
          12.35,
          23.78,
          12.04,
          37.56,
          3.37,
          0.04,
          28.81,
          3.18,
          21.11,
          1.09,
          8.57,
          3.04,
          3.1,
          1.38,
          0.02,
          94.46,
          0.76,
          0.31,
          0.81,
          1.48,
          1.72,
          0.93,
          24.66,
          10.94,
          14.4,
          43.01,
          1.29,
          338.32,
          59.86,
          32.31,
          0.41,
          8.63,
          91.4,
          0.68,
          0.37,
          0.22,
          257.22,
          519.74,
          3.21,
          0.13,
          4.96,
          0.52,
          21.3,
          16.8,
          67.3,
          15.52,
          72.9,
          57.43,
          8.38,
          1.08,
          4.15,
          23.35,
          14.1,
          1436.41,
          3750.17,
          1871.63,
          0.75,
          1705.73,
          140.23,
          881.79,
          1247.04,
          310.08,
          18.39,
          28.31,
          330.08,
          317.22,
          3.92,
          1566.14,
          113.81,
          29.59,
          358.71,
          36.73,
          28.17,
          272.99,
          183.68,
          139.7,
          42.48,
          339.68,
          21.65,
          145.64,
          4.18,
          1.25,
          40.07,
          9.37,
          74.95,
          13.41,
          0.46,
          44.7,
          14.75,
          253.24,
          0.33,
          0.91,
          0.02,
          1.41,
          4.52,
          0.74,
          40.94,
          41.02,
          9.53,
          0.42,
          9.93,
          29.33,
          56.66,
          46.15,
          21.42,
          12.87,
          34.75,
          14.75,
          107.4,
          17.42,
          2.82,
          14.01,
          182.14,
          113,
          12.09,
          2.83,
          1018.88,
          4.64,
          308.22,
          86.29,
          132.34,
          17.34,
          182.21,
          1.98,
          890.17,
          465.53,
          1499.01,
          361.22,
          1141.41,
          119.28,
          38.2,
          86.38,
          627.71,
          64.23,
          347.56,
          597.84,
          98.15,
          65.21,
          397.85,
          11.18,
          17.14,
          8.89,
          658.09,
          477.88,
          2.63,
          40.93,
          218.88,
          220.57,
          1166.84,
          251.67,
          1.49,
          3.54,
          1.75,
          213.42,
          206.9,
          190.88,
          146.19,
          656.73,
          183.04,
          22.39,
          117.89,
          204.79,
          92.8,
          165.92,
          112.91,
          811.07,
          1856.16,
          64.04,
          1.75,
          198.27,
          1182.08,
          676.1,
          35.15,
          56.64,
          117.32,
          408.67,
          6.56,
          100.48,
          346.36,
          5.42,
          1.98,
          178.62,
          22.41,
          1831.43,
          707.06,
          74.32,
          0.05,
          17.74,
          12117.8,
          9.44,
          22.73,
          0.7,
          32.92,
          0.04,
          491.5,
          25.49,
          103.04,
          0.1,
          0.19,
          3.74,
          14.44,
          2.63,
          4.65,
          141.46,
          11.85,
          2.37,
          5.85,
          0.7,
          0.36,
          0.4,
          0.13,
          1.3,
          3.35,
          1.34,
          25.22,
          50.78,
          45.66,
          0.28,
          18.11,
          2234.79,
          108.17,
          25.02,
          175.55,
          140.36,
          9.61,
          19.28,
          77.25,
          370.86,
          328.65,
          248.98,
          153.98,
          176.68,
          485.4,
          667.66,
          12.76,
          0.02,
          0.42,
          0.09,
          0.29,
          1.41,
          2.83,
          0.05,
          0.17,
          0.03,
          1.72,
          0.63,
          0.55,
          0.16,
          0.41,
          2.43,
          0.02,
          5.97,
          0.49,
          6.02,
          6.91,
          0.01,
          790.46,
          24.74,
          137.27,
          37.96,
          105.29,
          35.25,
          43.32,
          39.36,
          2.73,
          48.99,
          1.67,
          1.97,
          0.02,
          22.35,
          44.38,
          1.14,
          0.16,
          8.9,
          57.9,
          81.17,
          2.27,
          0.95,
          0.52,
          43.44,
          11.72,
          0.06,
          0.36,
          4.36,
          1.96,
          0.33,
          27.69,
          4.16,
          0.96,
          0.41,
          0.02,
          4985.37,
          13.43,
          42.65,
          477.13,
          5561.36,
          578.52,
          1188.52,
          16121.84,
          2734.2,
          1578.69,
          13236.09,
          36017.24,
          5.55,
          4510.99,
          302.40999999999997,
          242.29999999999998,
          14347.47,
          4948.18,
          14586.06,
          8173.28,
          24201.280000000002
         ]
        }
       ],
       "layout": {
        "legend": {
         "tracegroupgap": 0
        },
        "template": {
         "data": {
          "bar": [
           {
            "error_x": {
             "color": "#2a3f5f"
            },
            "error_y": {
             "color": "#2a3f5f"
            },
            "marker": {
             "line": {
              "color": "#E5ECF6",
              "width": 0.5
             },
             "pattern": {
              "fillmode": "overlay",
              "size": 10,
              "solidity": 0.2
             }
            },
            "type": "bar"
           }
          ],
          "barpolar": [
           {
            "marker": {
             "line": {
              "color": "#E5ECF6",
              "width": 0.5
             },
             "pattern": {
              "fillmode": "overlay",
              "size": 10,
              "solidity": 0.2
             }
            },
            "type": "barpolar"
           }
          ],
          "carpet": [
           {
            "aaxis": {
             "endlinecolor": "#2a3f5f",
             "gridcolor": "white",
             "linecolor": "white",
             "minorgridcolor": "white",
             "startlinecolor": "#2a3f5f"
            },
            "baxis": {
             "endlinecolor": "#2a3f5f",
             "gridcolor": "white",
             "linecolor": "white",
             "minorgridcolor": "white",
             "startlinecolor": "#2a3f5f"
            },
            "type": "carpet"
           }
          ],
          "choropleth": [
           {
            "colorbar": {
             "outlinewidth": 0,
             "ticks": ""
            },
            "type": "choropleth"
           }
          ],
          "contour": [
           {
            "colorbar": {
             "outlinewidth": 0,
             "ticks": ""
            },
            "colorscale": [
             [
              0,
              "#0d0887"
             ],
             [
              0.1111111111111111,
              "#46039f"
             ],
             [
              0.2222222222222222,
              "#7201a8"
             ],
             [
              0.3333333333333333,
              "#9c179e"
             ],
             [
              0.4444444444444444,
              "#bd3786"
             ],
             [
              0.5555555555555556,
              "#d8576b"
             ],
             [
              0.6666666666666666,
              "#ed7953"
             ],
             [
              0.7777777777777778,
              "#fb9f3a"
             ],
             [
              0.8888888888888888,
              "#fdca26"
             ],
             [
              1,
              "#f0f921"
             ]
            ],
            "type": "contour"
           }
          ],
          "contourcarpet": [
           {
            "colorbar": {
             "outlinewidth": 0,
             "ticks": ""
            },
            "type": "contourcarpet"
           }
          ],
          "heatmap": [
           {
            "colorbar": {
             "outlinewidth": 0,
             "ticks": ""
            },
            "colorscale": [
             [
              0,
              "#0d0887"
             ],
             [
              0.1111111111111111,
              "#46039f"
             ],
             [
              0.2222222222222222,
              "#7201a8"
             ],
             [
              0.3333333333333333,
              "#9c179e"
             ],
             [
              0.4444444444444444,
              "#bd3786"
             ],
             [
              0.5555555555555556,
              "#d8576b"
             ],
             [
              0.6666666666666666,
              "#ed7953"
             ],
             [
              0.7777777777777778,
              "#fb9f3a"
             ],
             [
              0.8888888888888888,
              "#fdca26"
             ],
             [
              1,
              "#f0f921"
             ]
            ],
            "type": "heatmap"
           }
          ],
          "heatmapgl": [
           {
            "colorbar": {
             "outlinewidth": 0,
             "ticks": ""
            },
            "colorscale": [
             [
              0,
              "#0d0887"
             ],
             [
              0.1111111111111111,
              "#46039f"
             ],
             [
              0.2222222222222222,
              "#7201a8"
             ],
             [
              0.3333333333333333,
              "#9c179e"
             ],
             [
              0.4444444444444444,
              "#bd3786"
             ],
             [
              0.5555555555555556,
              "#d8576b"
             ],
             [
              0.6666666666666666,
              "#ed7953"
             ],
             [
              0.7777777777777778,
              "#fb9f3a"
             ],
             [
              0.8888888888888888,
              "#fdca26"
             ],
             [
              1,
              "#f0f921"
             ]
            ],
            "type": "heatmapgl"
           }
          ],
          "histogram": [
           {
            "marker": {
             "pattern": {
              "fillmode": "overlay",
              "size": 10,
              "solidity": 0.2
             }
            },
            "type": "histogram"
           }
          ],
          "histogram2d": [
           {
            "colorbar": {
             "outlinewidth": 0,
             "ticks": ""
            },
            "colorscale": [
             [
              0,
              "#0d0887"
             ],
             [
              0.1111111111111111,
              "#46039f"
             ],
             [
              0.2222222222222222,
              "#7201a8"
             ],
             [
              0.3333333333333333,
              "#9c179e"
             ],
             [
              0.4444444444444444,
              "#bd3786"
             ],
             [
              0.5555555555555556,
              "#d8576b"
             ],
             [
              0.6666666666666666,
              "#ed7953"
             ],
             [
              0.7777777777777778,
              "#fb9f3a"
             ],
             [
              0.8888888888888888,
              "#fdca26"
             ],
             [
              1,
              "#f0f921"
             ]
            ],
            "type": "histogram2d"
           }
          ],
          "histogram2dcontour": [
           {
            "colorbar": {
             "outlinewidth": 0,
             "ticks": ""
            },
            "colorscale": [
             [
              0,
              "#0d0887"
             ],
             [
              0.1111111111111111,
              "#46039f"
             ],
             [
              0.2222222222222222,
              "#7201a8"
             ],
             [
              0.3333333333333333,
              "#9c179e"
             ],
             [
              0.4444444444444444,
              "#bd3786"
             ],
             [
              0.5555555555555556,
              "#d8576b"
             ],
             [
              0.6666666666666666,
              "#ed7953"
             ],
             [
              0.7777777777777778,
              "#fb9f3a"
             ],
             [
              0.8888888888888888,
              "#fdca26"
             ],
             [
              1,
              "#f0f921"
             ]
            ],
            "type": "histogram2dcontour"
           }
          ],
          "mesh3d": [
           {
            "colorbar": {
             "outlinewidth": 0,
             "ticks": ""
            },
            "type": "mesh3d"
           }
          ],
          "parcoords": [
           {
            "line": {
             "colorbar": {
              "outlinewidth": 0,
              "ticks": ""
             }
            },
            "type": "parcoords"
           }
          ],
          "pie": [
           {
            "automargin": true,
            "type": "pie"
           }
          ],
          "scatter": [
           {
            "fillpattern": {
             "fillmode": "overlay",
             "size": 10,
             "solidity": 0.2
            },
            "type": "scatter"
           }
          ],
          "scatter3d": [
           {
            "line": {
             "colorbar": {
              "outlinewidth": 0,
              "ticks": ""
             }
            },
            "marker": {
             "colorbar": {
              "outlinewidth": 0,
              "ticks": ""
             }
            },
            "type": "scatter3d"
           }
          ],
          "scattercarpet": [
           {
            "marker": {
             "colorbar": {
              "outlinewidth": 0,
              "ticks": ""
             }
            },
            "type": "scattercarpet"
           }
          ],
          "scattergeo": [
           {
            "marker": {
             "colorbar": {
              "outlinewidth": 0,
              "ticks": ""
             }
            },
            "type": "scattergeo"
           }
          ],
          "scattergl": [
           {
            "marker": {
             "colorbar": {
              "outlinewidth": 0,
              "ticks": ""
             }
            },
            "type": "scattergl"
           }
          ],
          "scattermapbox": [
           {
            "marker": {
             "colorbar": {
              "outlinewidth": 0,
              "ticks": ""
             }
            },
            "type": "scattermapbox"
           }
          ],
          "scatterpolar": [
           {
            "marker": {
             "colorbar": {
              "outlinewidth": 0,
              "ticks": ""
             }
            },
            "type": "scatterpolar"
           }
          ],
          "scatterpolargl": [
           {
            "marker": {
             "colorbar": {
              "outlinewidth": 0,
              "ticks": ""
             }
            },
            "type": "scatterpolargl"
           }
          ],
          "scatterternary": [
           {
            "marker": {
             "colorbar": {
              "outlinewidth": 0,
              "ticks": ""
             }
            },
            "type": "scatterternary"
           }
          ],
          "surface": [
           {
            "colorbar": {
             "outlinewidth": 0,
             "ticks": ""
            },
            "colorscale": [
             [
              0,
              "#0d0887"
             ],
             [
              0.1111111111111111,
              "#46039f"
             ],
             [
              0.2222222222222222,
              "#7201a8"
             ],
             [
              0.3333333333333333,
              "#9c179e"
             ],
             [
              0.4444444444444444,
              "#bd3786"
             ],
             [
              0.5555555555555556,
              "#d8576b"
             ],
             [
              0.6666666666666666,
              "#ed7953"
             ],
             [
              0.7777777777777778,
              "#fb9f3a"
             ],
             [
              0.8888888888888888,
              "#fdca26"
             ],
             [
              1,
              "#f0f921"
             ]
            ],
            "type": "surface"
           }
          ],
          "table": [
           {
            "cells": {
             "fill": {
              "color": "#EBF0F8"
             },
             "line": {
              "color": "white"
             }
            },
            "header": {
             "fill": {
              "color": "#C8D4E3"
             },
             "line": {
              "color": "white"
             }
            },
            "type": "table"
           }
          ]
         },
         "layout": {
          "annotationdefaults": {
           "arrowcolor": "#2a3f5f",
           "arrowhead": 0,
           "arrowwidth": 1
          },
          "autotypenumbers": "strict",
          "coloraxis": {
           "colorbar": {
            "outlinewidth": 0,
            "ticks": ""
           }
          },
          "colorscale": {
           "diverging": [
            [
             0,
             "#8e0152"
            ],
            [
             0.1,
             "#c51b7d"
            ],
            [
             0.2,
             "#de77ae"
            ],
            [
             0.3,
             "#f1b6da"
            ],
            [
             0.4,
             "#fde0ef"
            ],
            [
             0.5,
             "#f7f7f7"
            ],
            [
             0.6,
             "#e6f5d0"
            ],
            [
             0.7,
             "#b8e186"
            ],
            [
             0.8,
             "#7fbc41"
            ],
            [
             0.9,
             "#4d9221"
            ],
            [
             1,
             "#276419"
            ]
           ],
           "sequential": [
            [
             0,
             "#0d0887"
            ],
            [
             0.1111111111111111,
             "#46039f"
            ],
            [
             0.2222222222222222,
             "#7201a8"
            ],
            [
             0.3333333333333333,
             "#9c179e"
            ],
            [
             0.4444444444444444,
             "#bd3786"
            ],
            [
             0.5555555555555556,
             "#d8576b"
            ],
            [
             0.6666666666666666,
             "#ed7953"
            ],
            [
             0.7777777777777778,
             "#fb9f3a"
            ],
            [
             0.8888888888888888,
             "#fdca26"
            ],
            [
             1,
             "#f0f921"
            ]
           ],
           "sequentialminus": [
            [
             0,
             "#0d0887"
            ],
            [
             0.1111111111111111,
             "#46039f"
            ],
            [
             0.2222222222222222,
             "#7201a8"
            ],
            [
             0.3333333333333333,
             "#9c179e"
            ],
            [
             0.4444444444444444,
             "#bd3786"
            ],
            [
             0.5555555555555556,
             "#d8576b"
            ],
            [
             0.6666666666666666,
             "#ed7953"
            ],
            [
             0.7777777777777778,
             "#fb9f3a"
            ],
            [
             0.8888888888888888,
             "#fdca26"
            ],
            [
             1,
             "#f0f921"
            ]
           ]
          },
          "colorway": [
           "#636efa",
           "#EF553B",
           "#00cc96",
           "#ab63fa",
           "#FFA15A",
           "#19d3f3",
           "#FF6692",
           "#B6E880",
           "#FF97FF",
           "#FECB52"
          ],
          "font": {
           "color": "#2a3f5f"
          },
          "geo": {
           "bgcolor": "white",
           "lakecolor": "white",
           "landcolor": "#E5ECF6",
           "showlakes": true,
           "showland": true,
           "subunitcolor": "white"
          },
          "hoverlabel": {
           "align": "left"
          },
          "hovermode": "closest",
          "mapbox": {
           "style": "light"
          },
          "paper_bgcolor": "white",
          "plot_bgcolor": "#E5ECF6",
          "polar": {
           "angularaxis": {
            "gridcolor": "white",
            "linecolor": "white",
            "ticks": ""
           },
           "bgcolor": "#E5ECF6",
           "radialaxis": {
            "gridcolor": "white",
            "linecolor": "white",
            "ticks": ""
           }
          },
          "scene": {
           "xaxis": {
            "backgroundcolor": "#E5ECF6",
            "gridcolor": "white",
            "gridwidth": 2,
            "linecolor": "white",
            "showbackground": true,
            "ticks": "",
            "zerolinecolor": "white"
           },
           "yaxis": {
            "backgroundcolor": "#E5ECF6",
            "gridcolor": "white",
            "gridwidth": 2,
            "linecolor": "white",
            "showbackground": true,
            "ticks": "",
            "zerolinecolor": "white"
           },
           "zaxis": {
            "backgroundcolor": "#E5ECF6",
            "gridcolor": "white",
            "gridwidth": 2,
            "linecolor": "white",
            "showbackground": true,
            "ticks": "",
            "zerolinecolor": "white"
           }
          },
          "shapedefaults": {
           "line": {
            "color": "#2a3f5f"
           }
          },
          "ternary": {
           "aaxis": {
            "gridcolor": "white",
            "linecolor": "white",
            "ticks": ""
           },
           "baxis": {
            "gridcolor": "white",
            "linecolor": "white",
            "ticks": ""
           },
           "bgcolor": "#E5ECF6",
           "caxis": {
            "gridcolor": "white",
            "linecolor": "white",
            "ticks": ""
           }
          },
          "title": {
           "x": 0.05
          },
          "xaxis": {
           "automargin": true,
           "gridcolor": "white",
           "linecolor": "white",
           "ticks": "",
           "title": {
            "standoff": 15
           },
           "zerolinecolor": "white",
           "zerolinewidth": 2
          },
          "yaxis": {
           "automargin": true,
           "gridcolor": "white",
           "linecolor": "white",
           "ticks": "",
           "title": {
            "standoff": 15
           },
           "zerolinecolor": "white",
           "zerolinewidth": 2
          }
         }
        },
        "title": {
         "text": "Importaciones en millones de dólares (2020)"
        }
       }
      }
     },
     "metadata": {},
     "output_type": "display_data"
    }
   ],
   "source": [
    "c = Data('world_trade_',reporting_country='484',year=[2020],imp_exp=1,partner_code= '842')\n",
    "df = c.read_data()\n",
    "c.grafica_treemap_paises_productos(df[0],periodo=c.year,imp_exp=c.imp_exp)"
   ]
  },
  {
   "cell_type": "markdown",
   "metadata": {},
   "source": [
    "## ¿De dónde se importaron esos productos ?"
   ]
  },
  {
   "cell_type": "code",
   "execution_count": 14,
   "metadata": {},
   "outputs": [
    {
     "name": "stdout",
     "output_type": "stream",
     "text": [
      "(4427, 12)\n"
     ]
    },
    {
     "data": {
      "application/vnd.plotly.v1+json": {
       "config": {
        "plotlyServerURL": "https://plot.ly"
       },
       "data": [
        {
         "branchvalues": "total",
         "domain": {
          "x": [
           0,
           1
          ],
          "y": [
           0,
           1
          ]
         },
         "hovertemplate": "labels=%{label}<br>tradevalue=%{value}<br>parent=%{parent}<br>id=%{id}<extra></extra>",
         "ids": [
          "Asia/ARE",
          "America/ARG",
          "Oceania/AUS",
          "Europe/AUT",
          "Europe/BEL",
          "Asia/BGD",
          "Europe/BGR",
          "Asia/BHR",
          "America/BOL",
          "America/BRA",
          "America/CAN",
          "Europe/CHE",
          "America/CHL",
          "Asia/CHN",
          "America/COL",
          "America/CRI",
          "Europe/CZE",
          "Europe/DEU",
          "Europe/DNK",
          "America/DOM",
          "Africa/DZA",
          "America/ECU",
          "Africa/EGY",
          "Europe/ESP",
          "Europe/EUo",
          "Europe/FIN",
          "Oceania/FJI",
          "Europe/FRA",
          "Africa/GAB",
          "Europe/GBR",
          "Europe/GRC",
          "America/GTM",
          "America/GUY",
          "Asia/HKG",
          "America/HND",
          "Europe/HRV",
          "America/HTI",
          "Europe/HUN",
          "Asia/IDN",
          "Asia/IND",
          "Europe/IRL",
          "Asia/ISR",
          "Europe/ITA",
          "Asia/JOR",
          "Asia/JPN",
          "Asia/KAZ",
          "Asia/KHM",
          "Asia/KOR",
          "Asia/LKA",
          "Europe/LTU",
          "Europe/LUX",
          "Africa/MAR",
          "Asia/MMR",
          "Africa/MOZ",
          "Asia/MYS",
          "Africa/NGA",
          "America/NIC",
          "Europe/NLD",
          "Europe/NOR",
          "Oceania/NZL",
          "Asia/OMN",
          "Asia/PAK",
          "America/PAN",
          "America/PER",
          "Asia/PHL",
          "Europe/POL",
          "Europe/PRT",
          "America/PRY",
          "Europe/ROU",
          "Europe/RUS",
          "Africa/SDN",
          "Asia/SGP",
          "America/SLV",
          "Europe/SVK",
          "Europe/SVN",
          "Europe/SWE",
          "Asia/THA",
          "America/TTO",
          "Asia/TUR",
          "Asia/TWN",
          "Africa/TZA",
          "Europe/UKR",
          "America/URY",
          "America/USA",
          "Asia/VNM",
          "Africa/ZAF",
          "Africa/ZWE",
          "Africa",
          "America",
          "Asia",
          "Europe",
          "Oceania"
         ],
         "labels": [
          "ARE",
          "ARG",
          "AUS",
          "AUT",
          "BEL",
          "BGD",
          "BGR",
          "BHR",
          "BOL",
          "BRA",
          "CAN",
          "CHE",
          "CHL",
          "CHN",
          "COL",
          "CRI",
          "CZE",
          "DEU",
          "DNK",
          "DOM",
          "DZA",
          "ECU",
          "EGY",
          "ESP",
          "EUo",
          "FIN",
          "FJI",
          "FRA",
          "GAB",
          "GBR",
          "GRC",
          "GTM",
          "GUY",
          "HKG",
          "HND",
          "HRV",
          "HTI",
          "HUN",
          "IDN",
          "IND",
          "IRL",
          "ISR",
          "ITA",
          "JOR",
          "JPN",
          "KAZ",
          "KHM",
          "KOR",
          "LKA",
          "LTU",
          "LUX",
          "MAR",
          "MMR",
          "MOZ",
          "MYS",
          "NGA",
          "NIC",
          "NLD",
          "NOR",
          "NZL",
          "OMN",
          "PAK",
          "PAN",
          "PER",
          "PHL",
          "POL",
          "PRT",
          "PRY",
          "ROU",
          "RUS",
          "SDN",
          "SGP",
          "SLV",
          "SVK",
          "SVN",
          "SWE",
          "THA",
          "TTO",
          "TUR",
          "TWN",
          "TZA",
          "UKR",
          "URY",
          "USA",
          "VNM",
          "ZAF",
          "ZWE",
          "Africa",
          "America",
          "Asia",
          "Europe",
          "Oceania"
         ],
         "name": "",
         "parents": [
          "Asia",
          "America",
          "Oceania",
          "Europe",
          "Europe",
          "Asia",
          "Europe",
          "Asia",
          "America",
          "America",
          "America",
          "Europe",
          "America",
          "Asia",
          "America",
          "America",
          "Europe",
          "Europe",
          "Europe",
          "America",
          "Africa",
          "America",
          "Africa",
          "Europe",
          "Europe",
          "Europe",
          "Oceania",
          "Europe",
          "Africa",
          "Europe",
          "Europe",
          "America",
          "America",
          "Asia",
          "America",
          "Europe",
          "America",
          "Europe",
          "Asia",
          "Asia",
          "Europe",
          "Asia",
          "Europe",
          "Asia",
          "Asia",
          "Asia",
          "Asia",
          "Asia",
          "Asia",
          "Europe",
          "Europe",
          "Africa",
          "Asia",
          "Africa",
          "Asia",
          "Africa",
          "America",
          "Europe",
          "Europe",
          "Oceania",
          "Asia",
          "Asia",
          "America",
          "America",
          "Asia",
          "Europe",
          "Europe",
          "America",
          "Europe",
          "Europe",
          "Africa",
          "Asia",
          "America",
          "Europe",
          "Europe",
          "Europe",
          "Asia",
          "America",
          "Asia",
          "Asia",
          "Africa",
          "Europe",
          "America",
          "America",
          "Asia",
          "Africa",
          "Africa",
          "",
          "",
          "",
          "",
          ""
         ],
         "type": "treemap",
         "values": [
          255.29000000000002,
          271.25,
          56.650000000000006,
          608.26,
          206.2,
          269.02,
          3.77,
          53.77,
          4.83,
          3861.85,
          5560.34,
          663.37,
          1083.22,
          66191.57,
          503.43,
          136.62,
          118.36,
          11308.56,
          188.03,
          52.04,
          31.72,
          63.86000000000001,
          1.02,
          1690.19,
          14.56,
          163.67000000000002,
          1.64,
          1437.53,
          10.61,
          522.67,
          54.09,
          288.83,
          5.5,
          1.1199999999999999,
          183.15,
          0.53,
          23.2,
          225.45,
          509.22,
          2458.42,
          1558.8600000000001,
          85.13,
          2376.4,
          6.91,
          10207.18,
          0.61,
          95.34,
          11563.14,
          126.41,
          0.53,
          6.15,
          50.06,
          34.81,
          4.89,
          9279.210000000001,
          3.4299999999999997,
          63.230000000000004,
          1338.09,
          114.86,
          229.13,
          29.12,
          62.22,
          16.74,
          329.17,
          2092.2,
          200.47000000000003,
          91.33,
          46.2,
          20.27,
          615.3100000000001,
          0.34,
          1078.32,
          74.88,
          1.24,
          0.25,
          228.86,
          3079.48,
          136.02,
          221.43,
          5910.64,
          0.08,
          28.240000000000002,
          155.76,
          153762.37,
          4850.21,
          270.62,
          0.29,
          373.06,
          166622.49,
          118460.77000000002,
          23786.1,
          287.42
         ]
        }
       ],
       "layout": {
        "legend": {
         "tracegroupgap": 0
        },
        "template": {
         "data": {
          "bar": [
           {
            "error_x": {
             "color": "#2a3f5f"
            },
            "error_y": {
             "color": "#2a3f5f"
            },
            "marker": {
             "line": {
              "color": "#E5ECF6",
              "width": 0.5
             },
             "pattern": {
              "fillmode": "overlay",
              "size": 10,
              "solidity": 0.2
             }
            },
            "type": "bar"
           }
          ],
          "barpolar": [
           {
            "marker": {
             "line": {
              "color": "#E5ECF6",
              "width": 0.5
             },
             "pattern": {
              "fillmode": "overlay",
              "size": 10,
              "solidity": 0.2
             }
            },
            "type": "barpolar"
           }
          ],
          "carpet": [
           {
            "aaxis": {
             "endlinecolor": "#2a3f5f",
             "gridcolor": "white",
             "linecolor": "white",
             "minorgridcolor": "white",
             "startlinecolor": "#2a3f5f"
            },
            "baxis": {
             "endlinecolor": "#2a3f5f",
             "gridcolor": "white",
             "linecolor": "white",
             "minorgridcolor": "white",
             "startlinecolor": "#2a3f5f"
            },
            "type": "carpet"
           }
          ],
          "choropleth": [
           {
            "colorbar": {
             "outlinewidth": 0,
             "ticks": ""
            },
            "type": "choropleth"
           }
          ],
          "contour": [
           {
            "colorbar": {
             "outlinewidth": 0,
             "ticks": ""
            },
            "colorscale": [
             [
              0,
              "#0d0887"
             ],
             [
              0.1111111111111111,
              "#46039f"
             ],
             [
              0.2222222222222222,
              "#7201a8"
             ],
             [
              0.3333333333333333,
              "#9c179e"
             ],
             [
              0.4444444444444444,
              "#bd3786"
             ],
             [
              0.5555555555555556,
              "#d8576b"
             ],
             [
              0.6666666666666666,
              "#ed7953"
             ],
             [
              0.7777777777777778,
              "#fb9f3a"
             ],
             [
              0.8888888888888888,
              "#fdca26"
             ],
             [
              1,
              "#f0f921"
             ]
            ],
            "type": "contour"
           }
          ],
          "contourcarpet": [
           {
            "colorbar": {
             "outlinewidth": 0,
             "ticks": ""
            },
            "type": "contourcarpet"
           }
          ],
          "heatmap": [
           {
            "colorbar": {
             "outlinewidth": 0,
             "ticks": ""
            },
            "colorscale": [
             [
              0,
              "#0d0887"
             ],
             [
              0.1111111111111111,
              "#46039f"
             ],
             [
              0.2222222222222222,
              "#7201a8"
             ],
             [
              0.3333333333333333,
              "#9c179e"
             ],
             [
              0.4444444444444444,
              "#bd3786"
             ],
             [
              0.5555555555555556,
              "#d8576b"
             ],
             [
              0.6666666666666666,
              "#ed7953"
             ],
             [
              0.7777777777777778,
              "#fb9f3a"
             ],
             [
              0.8888888888888888,
              "#fdca26"
             ],
             [
              1,
              "#f0f921"
             ]
            ],
            "type": "heatmap"
           }
          ],
          "heatmapgl": [
           {
            "colorbar": {
             "outlinewidth": 0,
             "ticks": ""
            },
            "colorscale": [
             [
              0,
              "#0d0887"
             ],
             [
              0.1111111111111111,
              "#46039f"
             ],
             [
              0.2222222222222222,
              "#7201a8"
             ],
             [
              0.3333333333333333,
              "#9c179e"
             ],
             [
              0.4444444444444444,
              "#bd3786"
             ],
             [
              0.5555555555555556,
              "#d8576b"
             ],
             [
              0.6666666666666666,
              "#ed7953"
             ],
             [
              0.7777777777777778,
              "#fb9f3a"
             ],
             [
              0.8888888888888888,
              "#fdca26"
             ],
             [
              1,
              "#f0f921"
             ]
            ],
            "type": "heatmapgl"
           }
          ],
          "histogram": [
           {
            "marker": {
             "pattern": {
              "fillmode": "overlay",
              "size": 10,
              "solidity": 0.2
             }
            },
            "type": "histogram"
           }
          ],
          "histogram2d": [
           {
            "colorbar": {
             "outlinewidth": 0,
             "ticks": ""
            },
            "colorscale": [
             [
              0,
              "#0d0887"
             ],
             [
              0.1111111111111111,
              "#46039f"
             ],
             [
              0.2222222222222222,
              "#7201a8"
             ],
             [
              0.3333333333333333,
              "#9c179e"
             ],
             [
              0.4444444444444444,
              "#bd3786"
             ],
             [
              0.5555555555555556,
              "#d8576b"
             ],
             [
              0.6666666666666666,
              "#ed7953"
             ],
             [
              0.7777777777777778,
              "#fb9f3a"
             ],
             [
              0.8888888888888888,
              "#fdca26"
             ],
             [
              1,
              "#f0f921"
             ]
            ],
            "type": "histogram2d"
           }
          ],
          "histogram2dcontour": [
           {
            "colorbar": {
             "outlinewidth": 0,
             "ticks": ""
            },
            "colorscale": [
             [
              0,
              "#0d0887"
             ],
             [
              0.1111111111111111,
              "#46039f"
             ],
             [
              0.2222222222222222,
              "#7201a8"
             ],
             [
              0.3333333333333333,
              "#9c179e"
             ],
             [
              0.4444444444444444,
              "#bd3786"
             ],
             [
              0.5555555555555556,
              "#d8576b"
             ],
             [
              0.6666666666666666,
              "#ed7953"
             ],
             [
              0.7777777777777778,
              "#fb9f3a"
             ],
             [
              0.8888888888888888,
              "#fdca26"
             ],
             [
              1,
              "#f0f921"
             ]
            ],
            "type": "histogram2dcontour"
           }
          ],
          "mesh3d": [
           {
            "colorbar": {
             "outlinewidth": 0,
             "ticks": ""
            },
            "type": "mesh3d"
           }
          ],
          "parcoords": [
           {
            "line": {
             "colorbar": {
              "outlinewidth": 0,
              "ticks": ""
             }
            },
            "type": "parcoords"
           }
          ],
          "pie": [
           {
            "automargin": true,
            "type": "pie"
           }
          ],
          "scatter": [
           {
            "fillpattern": {
             "fillmode": "overlay",
             "size": 10,
             "solidity": 0.2
            },
            "type": "scatter"
           }
          ],
          "scatter3d": [
           {
            "line": {
             "colorbar": {
              "outlinewidth": 0,
              "ticks": ""
             }
            },
            "marker": {
             "colorbar": {
              "outlinewidth": 0,
              "ticks": ""
             }
            },
            "type": "scatter3d"
           }
          ],
          "scattercarpet": [
           {
            "marker": {
             "colorbar": {
              "outlinewidth": 0,
              "ticks": ""
             }
            },
            "type": "scattercarpet"
           }
          ],
          "scattergeo": [
           {
            "marker": {
             "colorbar": {
              "outlinewidth": 0,
              "ticks": ""
             }
            },
            "type": "scattergeo"
           }
          ],
          "scattergl": [
           {
            "marker": {
             "colorbar": {
              "outlinewidth": 0,
              "ticks": ""
             }
            },
            "type": "scattergl"
           }
          ],
          "scattermapbox": [
           {
            "marker": {
             "colorbar": {
              "outlinewidth": 0,
              "ticks": ""
             }
            },
            "type": "scattermapbox"
           }
          ],
          "scatterpolar": [
           {
            "marker": {
             "colorbar": {
              "outlinewidth": 0,
              "ticks": ""
             }
            },
            "type": "scatterpolar"
           }
          ],
          "scatterpolargl": [
           {
            "marker": {
             "colorbar": {
              "outlinewidth": 0,
              "ticks": ""
             }
            },
            "type": "scatterpolargl"
           }
          ],
          "scatterternary": [
           {
            "marker": {
             "colorbar": {
              "outlinewidth": 0,
              "ticks": ""
             }
            },
            "type": "scatterternary"
           }
          ],
          "surface": [
           {
            "colorbar": {
             "outlinewidth": 0,
             "ticks": ""
            },
            "colorscale": [
             [
              0,
              "#0d0887"
             ],
             [
              0.1111111111111111,
              "#46039f"
             ],
             [
              0.2222222222222222,
              "#7201a8"
             ],
             [
              0.3333333333333333,
              "#9c179e"
             ],
             [
              0.4444444444444444,
              "#bd3786"
             ],
             [
              0.5555555555555556,
              "#d8576b"
             ],
             [
              0.6666666666666666,
              "#ed7953"
             ],
             [
              0.7777777777777778,
              "#fb9f3a"
             ],
             [
              0.8888888888888888,
              "#fdca26"
             ],
             [
              1,
              "#f0f921"
             ]
            ],
            "type": "surface"
           }
          ],
          "table": [
           {
            "cells": {
             "fill": {
              "color": "#EBF0F8"
             },
             "line": {
              "color": "white"
             }
            },
            "header": {
             "fill": {
              "color": "#C8D4E3"
             },
             "line": {
              "color": "white"
             }
            },
            "type": "table"
           }
          ]
         },
         "layout": {
          "annotationdefaults": {
           "arrowcolor": "#2a3f5f",
           "arrowhead": 0,
           "arrowwidth": 1
          },
          "autotypenumbers": "strict",
          "coloraxis": {
           "colorbar": {
            "outlinewidth": 0,
            "ticks": ""
           }
          },
          "colorscale": {
           "diverging": [
            [
             0,
             "#8e0152"
            ],
            [
             0.1,
             "#c51b7d"
            ],
            [
             0.2,
             "#de77ae"
            ],
            [
             0.3,
             "#f1b6da"
            ],
            [
             0.4,
             "#fde0ef"
            ],
            [
             0.5,
             "#f7f7f7"
            ],
            [
             0.6,
             "#e6f5d0"
            ],
            [
             0.7,
             "#b8e186"
            ],
            [
             0.8,
             "#7fbc41"
            ],
            [
             0.9,
             "#4d9221"
            ],
            [
             1,
             "#276419"
            ]
           ],
           "sequential": [
            [
             0,
             "#0d0887"
            ],
            [
             0.1111111111111111,
             "#46039f"
            ],
            [
             0.2222222222222222,
             "#7201a8"
            ],
            [
             0.3333333333333333,
             "#9c179e"
            ],
            [
             0.4444444444444444,
             "#bd3786"
            ],
            [
             0.5555555555555556,
             "#d8576b"
            ],
            [
             0.6666666666666666,
             "#ed7953"
            ],
            [
             0.7777777777777778,
             "#fb9f3a"
            ],
            [
             0.8888888888888888,
             "#fdca26"
            ],
            [
             1,
             "#f0f921"
            ]
           ],
           "sequentialminus": [
            [
             0,
             "#0d0887"
            ],
            [
             0.1111111111111111,
             "#46039f"
            ],
            [
             0.2222222222222222,
             "#7201a8"
            ],
            [
             0.3333333333333333,
             "#9c179e"
            ],
            [
             0.4444444444444444,
             "#bd3786"
            ],
            [
             0.5555555555555556,
             "#d8576b"
            ],
            [
             0.6666666666666666,
             "#ed7953"
            ],
            [
             0.7777777777777778,
             "#fb9f3a"
            ],
            [
             0.8888888888888888,
             "#fdca26"
            ],
            [
             1,
             "#f0f921"
            ]
           ]
          },
          "colorway": [
           "#636efa",
           "#EF553B",
           "#00cc96",
           "#ab63fa",
           "#FFA15A",
           "#19d3f3",
           "#FF6692",
           "#B6E880",
           "#FF97FF",
           "#FECB52"
          ],
          "font": {
           "color": "#2a3f5f"
          },
          "geo": {
           "bgcolor": "white",
           "lakecolor": "white",
           "landcolor": "#E5ECF6",
           "showlakes": true,
           "showland": true,
           "subunitcolor": "white"
          },
          "hoverlabel": {
           "align": "left"
          },
          "hovermode": "closest",
          "mapbox": {
           "style": "light"
          },
          "paper_bgcolor": "white",
          "plot_bgcolor": "#E5ECF6",
          "polar": {
           "angularaxis": {
            "gridcolor": "white",
            "linecolor": "white",
            "ticks": ""
           },
           "bgcolor": "#E5ECF6",
           "radialaxis": {
            "gridcolor": "white",
            "linecolor": "white",
            "ticks": ""
           }
          },
          "scene": {
           "xaxis": {
            "backgroundcolor": "#E5ECF6",
            "gridcolor": "white",
            "gridwidth": 2,
            "linecolor": "white",
            "showbackground": true,
            "ticks": "",
            "zerolinecolor": "white"
           },
           "yaxis": {
            "backgroundcolor": "#E5ECF6",
            "gridcolor": "white",
            "gridwidth": 2,
            "linecolor": "white",
            "showbackground": true,
            "ticks": "",
            "zerolinecolor": "white"
           },
           "zaxis": {
            "backgroundcolor": "#E5ECF6",
            "gridcolor": "white",
            "gridwidth": 2,
            "linecolor": "white",
            "showbackground": true,
            "ticks": "",
            "zerolinecolor": "white"
           }
          },
          "shapedefaults": {
           "line": {
            "color": "#2a3f5f"
           }
          },
          "ternary": {
           "aaxis": {
            "gridcolor": "white",
            "linecolor": "white",
            "ticks": ""
           },
           "baxis": {
            "gridcolor": "white",
            "linecolor": "white",
            "ticks": ""
           },
           "bgcolor": "#E5ECF6",
           "caxis": {
            "gridcolor": "white",
            "linecolor": "white",
            "ticks": ""
           }
          },
          "title": {
           "x": 0.05
          },
          "xaxis": {
           "automargin": true,
           "gridcolor": "white",
           "linecolor": "white",
           "ticks": "",
           "title": {
            "standoff": 15
           },
           "zerolinecolor": "white",
           "zerolinewidth": 2
          },
          "yaxis": {
           "automargin": true,
           "gridcolor": "white",
           "linecolor": "white",
           "ticks": "",
           "title": {
            "standoff": 15
           },
           "zerolinecolor": "white",
           "zerolinewidth": 2
          }
         }
        },
        "title": {
         "text": "Orígenes (2020)"
        }
       }
      }
     },
     "metadata": {},
     "output_type": "display_data"
    }
   ],
   "source": [
    "c = Data('world_trade_',reporting_country='484',year=[2020],imp_exp=1)\n",
    "df = c.read_data()\n",
    "c.grafica_destino_origen(df[0],periodo=c.year,imp_exp=c.imp_exp)"
   ]
  },
  {
   "cell_type": "markdown",
   "metadata": {},
   "source": [
    "## ¿Cómo incrementó o disminuyó el comercio exterior con otros países?"
   ]
  },
  {
   "cell_type": "code",
   "execution_count": 20,
   "metadata": {},
   "outputs": [
    {
     "data": {
      "application/vnd.plotly.v1+json": {
       "config": {
        "plotlyServerURL": "https://plot.ly"
       },
       "data": [
        {
         "coloraxis": "coloraxis",
         "geo": "geo",
         "hovertemplate": "iso_3=%{location}<br>Aumento/disminucion=%{z}<extra></extra>",
         "locations": [
          "BGR",
          "BGR",
          "MMR",
          "MMR",
          "KHM",
          "KHM",
          "DZA",
          "DZA",
          "CAN",
          "CAN",
          "LKA",
          "LKA",
          "CHL",
          "CHL",
          "CHN",
          "CHN",
          "COL",
          "COL",
          "CRI",
          "CRI",
          "HRV",
          "HRV",
          "CZE",
          "CZE",
          "DNK",
          "DNK",
          "DOM",
          "DOM",
          "ECU",
          "ECU",
          "SLV",
          "SLV",
          "FJI",
          "FJI",
          "FIN",
          "FIN",
          "FRA",
          "FRA",
          "GAB",
          "GAB",
          "DEU",
          "DEU",
          "GRC",
          "GRC",
          "ARG",
          "ARG",
          "GTM",
          "GTM",
          "HTI",
          "HTI",
          "HND",
          "HND",
          "HKG",
          "HKG",
          "HUN",
          "HUN",
          "AUS",
          "AUS",
          "IDN",
          "IDN",
          "IRL",
          "IRL",
          "ISR",
          "ISR",
          "ITA",
          "ITA",
          "CIV",
          "CIV",
          "JPN",
          "JPN",
          "KAZ",
          "KAZ",
          "AUT",
          "AUT",
          "JOR",
          "JOR",
          "KOR",
          "KOR",
          "LTU",
          "LTU",
          "LUX",
          "LUX",
          "MDG",
          "MDG",
          "MYS",
          "MYS",
          "TWN",
          "TWN",
          "BGD",
          "BGD",
          "MAR",
          "MAR",
          "NAM",
          "NAM",
          "NLD",
          "NLD",
          "NZL",
          "NZL",
          "NIC",
          "NIC",
          "BEL",
          "BEL",
          "EUo",
          "EUo",
          "NOR",
          "NOR",
          "PAK",
          "PAK",
          "PRY",
          "PRY",
          "PER",
          "PER",
          "PHL",
          "PHL",
          "POL",
          "POL",
          "PRT",
          "PRT",
          "ROU",
          "ROU",
          "RUS",
          "RUS",
          "BOL",
          "BOL",
          "SEN",
          "SEN",
          "IND",
          "IND",
          "SGP",
          "SGP",
          "SVK",
          "SVK",
          "VNM",
          "VNM",
          "SVN",
          "SVN",
          "ZAF",
          "ZAF",
          "ZWE",
          "ZWE",
          "ESP",
          "ESP",
          "SDN",
          "SDN",
          "SWE",
          "SWE",
          "CHE",
          "CHE",
          "BRA",
          "BRA",
          "THA",
          "THA",
          "TTO",
          "TTO",
          "ARE",
          "ARE",
          "TUR",
          "TUR",
          "UKR",
          "UKR",
          "EGY",
          "EGY",
          "GBR",
          "GBR",
          "USA",
          "USA",
          "URY",
          "URY"
         ],
         "name": "",
         "type": "choropleth",
         "z": [
          62.28748068006181,
          62.28748068006181,
          47.823596792668965,
          47.823596792668965,
          7.811573328814707,
          7.811573328814707,
          40.8431928011998,
          40.8431928011998,
          -75.10186212636106,
          -75.10186212636106,
          -16.55464640561075,
          -16.55464640561075,
          -7.49351560590651,
          -7.49351560590651,
          -73.590849752715,
          -73.590849752715,
          -13.940069866258654,
          -13.940069866258654,
          -54.7191480476091,
          -54.7191480476091,
          3.8461538461538494,
          3.8461538461538494,
          0.3573284823284897,
          0.3573284823284897,
          -20.632315158435624,
          -20.632315158435624,
          5.064076064489464,
          5.064076064489464,
          -19.235123914957843,
          -19.235123914957843,
          0.15822784810126805,
          0.15822784810126805,
          5.147058823529416,
          5.147058823529416,
          3.085218744788488,
          3.085218744788488,
          0.01255220576488733,
          0.01255220576488733,
          -45.09803921568626,
          -45.09803921568626,
          -61.63410631840459,
          -61.63410631840459,
          -0.7506914263137198,
          -0.7506914263137198,
          -12.64143073152928,
          -12.64143073152928,
          -15.47441076370113,
          -15.47441076370113,
          8.431550317316407,
          8.431550317316407,
          10.12359241966493,
          10.12359241966493,
          66.87306501547988,
          66.87306501547988,
          -95.79638504207388,
          -95.79638504207388,
          50.55762081784386,
          50.55762081784386,
          -11.684257469897428,
          -11.684257469897428,
          6.849847709156895,
          6.849847709156895,
          -24.233661075766324,
          -24.233661075766324,
          -38.671961618320005,
          -38.671961618320005,
          -26.794828172847907,
          -26.794828172847907,
          -81.69004647007364,
          -81.69004647007364,
          13.684210526315791,
          13.684210526315791,
          13.408665962116888,
          13.408665962116888,
          14.984709480122305,
          14.984709480122305,
          -82.92137987031042,
          -82.92137987031042,
          67.04545454545455,
          67.04545454545455,
          -88.54385228703316,
          -88.54385228703316,
          -733.3333333333334,
          -733.3333333333334,
          -1029.0906960736934,
          -1029.0906960736934,
          -60.107628041086194,
          -60.107628041086194,
          13.750850918992516,
          13.750850918992516,
          -85.53713049747657,
          -85.53713049747657,
          -1058557.1428571425,
          -1058557.1428571425,
          -8.354248834707779,
          -8.354248834707779,
          35.28156346230069,
          35.28156346230069,
          -233.15225826478346,
          -233.15225826478346,
          37.03239812959252,
          37.03239812959252,
          40.440333933540686,
          40.440333933540686,
          -26.055989712137702,
          -26.055989712137702,
          8.533916849015329,
          8.533916849015329,
          -52.48226950354611,
          -52.48226950354611,
          12.570942111237237,
          12.570942111237237,
          -1453.1010300241069,
          -1453.1010300241069,
          13.851428571428576,
          13.851428571428576,
          -1.5443478260869556,
          -1.5443478260869556,
          -90.63291139240508,
          -90.63291139240508,
          -36.91068017659039,
          -36.91068017659039,
          -1549.2307692307688,
          -1549.2307692307688,
          -135.1351351351351,
          -135.1351351351351,
          -4.2168373219629975,
          -4.2168373219629975,
          -468.99914665366344,
          -468.99914665366344,
          -0.6749156355455423,
          -0.6749156355455423,
          -36.35297083018261,
          -36.35297083018261,
          40.41095890410959,
          40.41095890410959,
          42.81453758662027,
          42.81453758662027,
          -49.999999999999986,
          -49.999999999999986,
          -63.414475857837346,
          -63.414475857837346,
          15.686274509803924,
          15.686274509803924,
          -10.526786113221037,
          -10.526786113221037,
          -3.459197104310631,
          -3.459197104310631,
          19.558263938675342,
          19.558263938675342,
          -220.39731056254865,
          -220.39731056254865,
          15.61845330956095,
          15.61845330956095,
          -2.060521063703556,
          -2.060521063703556,
          2.2816650589894016,
          2.2816650589894016,
          -4.285978200628118,
          -4.285978200628118,
          12.152777777777766,
          12.152777777777766,
          -21.439779622009887,
          -21.439779622009887,
          -36.86318946593434,
          -36.86318946593434,
          -34.633095348738955,
          -34.633095348738955
         ]
        }
       ],
       "layout": {
        "coloraxis": {
         "cmax": 67.04545454545455,
         "cmin": -53.041489139561854,
         "colorbar": {
          "title": {
           "text": "Aumento/disminucion"
          }
         },
         "colorscale": [
          [
           0,
           "#440154"
          ],
          [
           0.1111111111111111,
           "#482878"
          ],
          [
           0.2222222222222222,
           "#3e4989"
          ],
          [
           0.3333333333333333,
           "#31688e"
          ],
          [
           0.4444444444444444,
           "#26828e"
          ],
          [
           0.5555555555555556,
           "#1f9e89"
          ],
          [
           0.6666666666666666,
           "#35b779"
          ],
          [
           0.7777777777777778,
           "#6ece58"
          ],
          [
           0.8888888888888888,
           "#b5de2b"
          ],
          [
           1,
           "#fde725"
          ]
         ]
        },
        "geo": {
         "center": {},
         "domain": {
          "x": [
           0,
           1
          ],
          "y": [
           0,
           1
          ]
         },
         "scope": "world"
        },
        "legend": {
         "tracegroupgap": 0
        },
        "margin": {
         "b": 0,
         "l": 0,
         "r": 0,
         "t": 0
        },
        "template": {
         "data": {
          "bar": [
           {
            "error_x": {
             "color": "#2a3f5f"
            },
            "error_y": {
             "color": "#2a3f5f"
            },
            "marker": {
             "line": {
              "color": "#E5ECF6",
              "width": 0.5
             },
             "pattern": {
              "fillmode": "overlay",
              "size": 10,
              "solidity": 0.2
             }
            },
            "type": "bar"
           }
          ],
          "barpolar": [
           {
            "marker": {
             "line": {
              "color": "#E5ECF6",
              "width": 0.5
             },
             "pattern": {
              "fillmode": "overlay",
              "size": 10,
              "solidity": 0.2
             }
            },
            "type": "barpolar"
           }
          ],
          "carpet": [
           {
            "aaxis": {
             "endlinecolor": "#2a3f5f",
             "gridcolor": "white",
             "linecolor": "white",
             "minorgridcolor": "white",
             "startlinecolor": "#2a3f5f"
            },
            "baxis": {
             "endlinecolor": "#2a3f5f",
             "gridcolor": "white",
             "linecolor": "white",
             "minorgridcolor": "white",
             "startlinecolor": "#2a3f5f"
            },
            "type": "carpet"
           }
          ],
          "choropleth": [
           {
            "colorbar": {
             "outlinewidth": 0,
             "ticks": ""
            },
            "type": "choropleth"
           }
          ],
          "contour": [
           {
            "colorbar": {
             "outlinewidth": 0,
             "ticks": ""
            },
            "colorscale": [
             [
              0,
              "#0d0887"
             ],
             [
              0.1111111111111111,
              "#46039f"
             ],
             [
              0.2222222222222222,
              "#7201a8"
             ],
             [
              0.3333333333333333,
              "#9c179e"
             ],
             [
              0.4444444444444444,
              "#bd3786"
             ],
             [
              0.5555555555555556,
              "#d8576b"
             ],
             [
              0.6666666666666666,
              "#ed7953"
             ],
             [
              0.7777777777777778,
              "#fb9f3a"
             ],
             [
              0.8888888888888888,
              "#fdca26"
             ],
             [
              1,
              "#f0f921"
             ]
            ],
            "type": "contour"
           }
          ],
          "contourcarpet": [
           {
            "colorbar": {
             "outlinewidth": 0,
             "ticks": ""
            },
            "type": "contourcarpet"
           }
          ],
          "heatmap": [
           {
            "colorbar": {
             "outlinewidth": 0,
             "ticks": ""
            },
            "colorscale": [
             [
              0,
              "#0d0887"
             ],
             [
              0.1111111111111111,
              "#46039f"
             ],
             [
              0.2222222222222222,
              "#7201a8"
             ],
             [
              0.3333333333333333,
              "#9c179e"
             ],
             [
              0.4444444444444444,
              "#bd3786"
             ],
             [
              0.5555555555555556,
              "#d8576b"
             ],
             [
              0.6666666666666666,
              "#ed7953"
             ],
             [
              0.7777777777777778,
              "#fb9f3a"
             ],
             [
              0.8888888888888888,
              "#fdca26"
             ],
             [
              1,
              "#f0f921"
             ]
            ],
            "type": "heatmap"
           }
          ],
          "heatmapgl": [
           {
            "colorbar": {
             "outlinewidth": 0,
             "ticks": ""
            },
            "colorscale": [
             [
              0,
              "#0d0887"
             ],
             [
              0.1111111111111111,
              "#46039f"
             ],
             [
              0.2222222222222222,
              "#7201a8"
             ],
             [
              0.3333333333333333,
              "#9c179e"
             ],
             [
              0.4444444444444444,
              "#bd3786"
             ],
             [
              0.5555555555555556,
              "#d8576b"
             ],
             [
              0.6666666666666666,
              "#ed7953"
             ],
             [
              0.7777777777777778,
              "#fb9f3a"
             ],
             [
              0.8888888888888888,
              "#fdca26"
             ],
             [
              1,
              "#f0f921"
             ]
            ],
            "type": "heatmapgl"
           }
          ],
          "histogram": [
           {
            "marker": {
             "pattern": {
              "fillmode": "overlay",
              "size": 10,
              "solidity": 0.2
             }
            },
            "type": "histogram"
           }
          ],
          "histogram2d": [
           {
            "colorbar": {
             "outlinewidth": 0,
             "ticks": ""
            },
            "colorscale": [
             [
              0,
              "#0d0887"
             ],
             [
              0.1111111111111111,
              "#46039f"
             ],
             [
              0.2222222222222222,
              "#7201a8"
             ],
             [
              0.3333333333333333,
              "#9c179e"
             ],
             [
              0.4444444444444444,
              "#bd3786"
             ],
             [
              0.5555555555555556,
              "#d8576b"
             ],
             [
              0.6666666666666666,
              "#ed7953"
             ],
             [
              0.7777777777777778,
              "#fb9f3a"
             ],
             [
              0.8888888888888888,
              "#fdca26"
             ],
             [
              1,
              "#f0f921"
             ]
            ],
            "type": "histogram2d"
           }
          ],
          "histogram2dcontour": [
           {
            "colorbar": {
             "outlinewidth": 0,
             "ticks": ""
            },
            "colorscale": [
             [
              0,
              "#0d0887"
             ],
             [
              0.1111111111111111,
              "#46039f"
             ],
             [
              0.2222222222222222,
              "#7201a8"
             ],
             [
              0.3333333333333333,
              "#9c179e"
             ],
             [
              0.4444444444444444,
              "#bd3786"
             ],
             [
              0.5555555555555556,
              "#d8576b"
             ],
             [
              0.6666666666666666,
              "#ed7953"
             ],
             [
              0.7777777777777778,
              "#fb9f3a"
             ],
             [
              0.8888888888888888,
              "#fdca26"
             ],
             [
              1,
              "#f0f921"
             ]
            ],
            "type": "histogram2dcontour"
           }
          ],
          "mesh3d": [
           {
            "colorbar": {
             "outlinewidth": 0,
             "ticks": ""
            },
            "type": "mesh3d"
           }
          ],
          "parcoords": [
           {
            "line": {
             "colorbar": {
              "outlinewidth": 0,
              "ticks": ""
             }
            },
            "type": "parcoords"
           }
          ],
          "pie": [
           {
            "automargin": true,
            "type": "pie"
           }
          ],
          "scatter": [
           {
            "fillpattern": {
             "fillmode": "overlay",
             "size": 10,
             "solidity": 0.2
            },
            "type": "scatter"
           }
          ],
          "scatter3d": [
           {
            "line": {
             "colorbar": {
              "outlinewidth": 0,
              "ticks": ""
             }
            },
            "marker": {
             "colorbar": {
              "outlinewidth": 0,
              "ticks": ""
             }
            },
            "type": "scatter3d"
           }
          ],
          "scattercarpet": [
           {
            "marker": {
             "colorbar": {
              "outlinewidth": 0,
              "ticks": ""
             }
            },
            "type": "scattercarpet"
           }
          ],
          "scattergeo": [
           {
            "marker": {
             "colorbar": {
              "outlinewidth": 0,
              "ticks": ""
             }
            },
            "type": "scattergeo"
           }
          ],
          "scattergl": [
           {
            "marker": {
             "colorbar": {
              "outlinewidth": 0,
              "ticks": ""
             }
            },
            "type": "scattergl"
           }
          ],
          "scattermapbox": [
           {
            "marker": {
             "colorbar": {
              "outlinewidth": 0,
              "ticks": ""
             }
            },
            "type": "scattermapbox"
           }
          ],
          "scatterpolar": [
           {
            "marker": {
             "colorbar": {
              "outlinewidth": 0,
              "ticks": ""
             }
            },
            "type": "scatterpolar"
           }
          ],
          "scatterpolargl": [
           {
            "marker": {
             "colorbar": {
              "outlinewidth": 0,
              "ticks": ""
             }
            },
            "type": "scatterpolargl"
           }
          ],
          "scatterternary": [
           {
            "marker": {
             "colorbar": {
              "outlinewidth": 0,
              "ticks": ""
             }
            },
            "type": "scatterternary"
           }
          ],
          "surface": [
           {
            "colorbar": {
             "outlinewidth": 0,
             "ticks": ""
            },
            "colorscale": [
             [
              0,
              "#0d0887"
             ],
             [
              0.1111111111111111,
              "#46039f"
             ],
             [
              0.2222222222222222,
              "#7201a8"
             ],
             [
              0.3333333333333333,
              "#9c179e"
             ],
             [
              0.4444444444444444,
              "#bd3786"
             ],
             [
              0.5555555555555556,
              "#d8576b"
             ],
             [
              0.6666666666666666,
              "#ed7953"
             ],
             [
              0.7777777777777778,
              "#fb9f3a"
             ],
             [
              0.8888888888888888,
              "#fdca26"
             ],
             [
              1,
              "#f0f921"
             ]
            ],
            "type": "surface"
           }
          ],
          "table": [
           {
            "cells": {
             "fill": {
              "color": "#EBF0F8"
             },
             "line": {
              "color": "white"
             }
            },
            "header": {
             "fill": {
              "color": "#C8D4E3"
             },
             "line": {
              "color": "white"
             }
            },
            "type": "table"
           }
          ]
         },
         "layout": {
          "annotationdefaults": {
           "arrowcolor": "#2a3f5f",
           "arrowhead": 0,
           "arrowwidth": 1
          },
          "autotypenumbers": "strict",
          "coloraxis": {
           "colorbar": {
            "outlinewidth": 0,
            "ticks": ""
           }
          },
          "colorscale": {
           "diverging": [
            [
             0,
             "#8e0152"
            ],
            [
             0.1,
             "#c51b7d"
            ],
            [
             0.2,
             "#de77ae"
            ],
            [
             0.3,
             "#f1b6da"
            ],
            [
             0.4,
             "#fde0ef"
            ],
            [
             0.5,
             "#f7f7f7"
            ],
            [
             0.6,
             "#e6f5d0"
            ],
            [
             0.7,
             "#b8e186"
            ],
            [
             0.8,
             "#7fbc41"
            ],
            [
             0.9,
             "#4d9221"
            ],
            [
             1,
             "#276419"
            ]
           ],
           "sequential": [
            [
             0,
             "#0d0887"
            ],
            [
             0.1111111111111111,
             "#46039f"
            ],
            [
             0.2222222222222222,
             "#7201a8"
            ],
            [
             0.3333333333333333,
             "#9c179e"
            ],
            [
             0.4444444444444444,
             "#bd3786"
            ],
            [
             0.5555555555555556,
             "#d8576b"
            ],
            [
             0.6666666666666666,
             "#ed7953"
            ],
            [
             0.7777777777777778,
             "#fb9f3a"
            ],
            [
             0.8888888888888888,
             "#fdca26"
            ],
            [
             1,
             "#f0f921"
            ]
           ],
           "sequentialminus": [
            [
             0,
             "#0d0887"
            ],
            [
             0.1111111111111111,
             "#46039f"
            ],
            [
             0.2222222222222222,
             "#7201a8"
            ],
            [
             0.3333333333333333,
             "#9c179e"
            ],
            [
             0.4444444444444444,
             "#bd3786"
            ],
            [
             0.5555555555555556,
             "#d8576b"
            ],
            [
             0.6666666666666666,
             "#ed7953"
            ],
            [
             0.7777777777777778,
             "#fb9f3a"
            ],
            [
             0.8888888888888888,
             "#fdca26"
            ],
            [
             1,
             "#f0f921"
            ]
           ]
          },
          "colorway": [
           "#636efa",
           "#EF553B",
           "#00cc96",
           "#ab63fa",
           "#FFA15A",
           "#19d3f3",
           "#FF6692",
           "#B6E880",
           "#FF97FF",
           "#FECB52"
          ],
          "font": {
           "color": "#2a3f5f"
          },
          "geo": {
           "bgcolor": "white",
           "lakecolor": "white",
           "landcolor": "#E5ECF6",
           "showlakes": true,
           "showland": true,
           "subunitcolor": "white"
          },
          "hoverlabel": {
           "align": "left"
          },
          "hovermode": "closest",
          "mapbox": {
           "style": "light"
          },
          "paper_bgcolor": "white",
          "plot_bgcolor": "#E5ECF6",
          "polar": {
           "angularaxis": {
            "gridcolor": "white",
            "linecolor": "white",
            "ticks": ""
           },
           "bgcolor": "#E5ECF6",
           "radialaxis": {
            "gridcolor": "white",
            "linecolor": "white",
            "ticks": ""
           }
          },
          "scene": {
           "xaxis": {
            "backgroundcolor": "#E5ECF6",
            "gridcolor": "white",
            "gridwidth": 2,
            "linecolor": "white",
            "showbackground": true,
            "ticks": "",
            "zerolinecolor": "white"
           },
           "yaxis": {
            "backgroundcolor": "#E5ECF6",
            "gridcolor": "white",
            "gridwidth": 2,
            "linecolor": "white",
            "showbackground": true,
            "ticks": "",
            "zerolinecolor": "white"
           },
           "zaxis": {
            "backgroundcolor": "#E5ECF6",
            "gridcolor": "white",
            "gridwidth": 2,
            "linecolor": "white",
            "showbackground": true,
            "ticks": "",
            "zerolinecolor": "white"
           }
          },
          "shapedefaults": {
           "line": {
            "color": "#2a3f5f"
           }
          },
          "ternary": {
           "aaxis": {
            "gridcolor": "white",
            "linecolor": "white",
            "ticks": ""
           },
           "baxis": {
            "gridcolor": "white",
            "linecolor": "white",
            "ticks": ""
           },
           "bgcolor": "#E5ECF6",
           "caxis": {
            "gridcolor": "white",
            "linecolor": "white",
            "ticks": ""
           }
          },
          "title": {
           "x": 0.05
          },
          "xaxis": {
           "automargin": true,
           "gridcolor": "white",
           "linecolor": "white",
           "ticks": "",
           "title": {
            "standoff": 15
           },
           "zerolinecolor": "white",
           "zerolinewidth": 2
          },
          "yaxis": {
           "automargin": true,
           "gridcolor": "white",
           "linecolor": "white",
           "ticks": "",
           "title": {
            "standoff": 15
           },
           "zerolinecolor": "white",
           "zerolinewidth": 2
          }
         }
        },
        "title": {
         "text": "Cambio en el valor de importaciones del 2018 al 2019"
        }
       }
      }
     },
     "metadata": {},
     "output_type": "display_data"
    }
   ],
   "source": [
    "c = Data('world_trade_',reporting_country='484',year=[2018,2019],imp_exp=1)\n",
    "m = c.cambio_porcentualImpExp()\n",
    "c.grafica_incrementoMercado_pais(m,scope_='world',periodo=c.year,imp_exp=c.imp_exp)"
   ]
  },
  {
   "cell_type": "markdown",
   "metadata": {},
   "source": [
    "## Relaciones comerciales con socios principales"
   ]
  },
  {
   "cell_type": "code",
   "execution_count": 3,
   "metadata": {},
   "outputs": [
    {
     "name": "stdout",
     "output_type": "stream",
     "text": [
      "(47503, 12)\n"
     ]
    },
    {
     "data": {
      "application/vnd.plotly.v1+json": {
       "config": {
        "plotlyServerURL": "https://plot.ly"
       },
       "data": [
        {
         "line": {
          "color": "green"
         },
         "name": "Importaciones",
         "type": "scatter",
         "x": [
          2015,
          2016,
          2017,
          2018,
          2019,
          2020,
          2021
         ],
         "xaxis": "x",
         "y": [
          168752.76,
          122577.58,
          165122.2,
          209036.23,
          198410.64,
          161877.97,
          211203.24
         ],
         "yaxis": "y"
        },
        {
         "line": {
          "color": "blue"
         },
         "name": "Exportaciones",
         "type": "scatter",
         "x": [
          2015,
          2016,
          2017,
          2018,
          2019,
          2020,
          2021
         ],
         "xaxis": "x",
         "y": [
          274673.41,
          220073.82,
          319620.64,
          348350.85,
          351494.55,
          323101.8,
          376195.97
         ],
         "yaxis": "y"
        },
        {
         "line": {
          "color": "green"
         },
         "name": "Importaciones",
         "showlegend": false,
         "type": "scatter",
         "x": [
          2015,
          2016,
          2017,
          2018,
          2019,
          2020,
          2021
         ],
         "xaxis": "x2",
         "y": [
          7414.53,
          6260.04,
          6979.34,
          8219.54,
          6677.36,
          5680.08,
          7299.71
         ],
         "yaxis": "y2"
        },
        {
         "line": {
          "color": "blue"
         },
         "name": "Exportaciones",
         "showlegend": false,
         "type": "scatter",
         "x": [
          2015,
          2016,
          2017,
          2018,
          2019,
          2020,
          2021
         ],
         "xaxis": "x2",
         "y": [
          7340.26,
          6465.719999999999,
          8435.71,
          11173.65,
          10990.55,
          7973.62,
          8374.64
         ],
         "yaxis": "y2"
        },
        {
         "line": {
          "color": "green"
         },
         "name": "Importaciones",
         "showlegend": false,
         "type": "scatter",
         "x": [
          2015,
          2016,
          2017,
          2018,
          2019,
          2020,
          2021
         ],
         "xaxis": "x3",
         "y": [
          23901.41,
          19250.1,
          26225.6,
          29175.579999999998,
          27651.54,
          23901.9,
          27328.83
         ],
         "yaxis": "y3"
        },
        {
         "line": {
          "color": "blue"
         },
         "name": "Exportaciones",
         "showlegend": false,
         "type": "scatter",
         "x": [
          2015,
          2016,
          2017,
          2018,
          2019,
          2020,
          2021
         ],
         "xaxis": "x3",
         "y": [
          6182.75,
          6047.450000000001,
          10882.35,
          11510.25,
          8033.349999999999,
          7236.839999999999,
          7376.280000000001
         ],
         "yaxis": "y3"
        },
        {
         "line": {
          "color": "green"
         },
         "name": "Importaciones",
         "showlegend": false,
         "type": "scatter",
         "x": [
          2015,
          2016,
          2017,
          2018,
          2019,
          2020,
          2021
         ],
         "xaxis": "x4",
         "y": [
          14250.87,
          9515.99,
          15609.38,
          15404.66,
          14350.25,
          11078.789999999999,
          13539.87
         ],
         "yaxis": "y4"
        },
        {
         "line": {
          "color": "blue"
         },
         "name": "Exportaciones",
         "showlegend": false,
         "type": "scatter",
         "x": [
          2015,
          2016,
          2017,
          2018,
          2019,
          2020,
          2021
         ],
         "xaxis": "x4",
         "y": [
          1498.1799999999998,
          2340.26,
          1892.31,
          1379.97,
          1548.98,
          1365.97,
          1212.03
         ],
         "yaxis": "y4"
        },
        {
         "line": {
          "color": "green"
         },
         "name": "Importaciones",
         "showlegend": false,
         "type": "scatter",
         "x": [
          2015,
          2016,
          2017,
          2018,
          2019,
          2020,
          2021
         ],
         "xaxis": "x5",
         "y": [
          1692.96,
          1696.22,
          2469.54,
          2822.58,
          2600.96,
          1915.82,
          2612.98
         ],
         "yaxis": "y5"
        },
        {
         "line": {
          "color": "blue"
         },
         "name": "Exportaciones",
         "showlegend": false,
         "type": "scatter",
         "x": [
          2015,
          2016,
          2017,
          2018,
          2019,
          2020,
          2021
         ],
         "xaxis": "x5",
         "y": [
          2346.77,
          1692.6,
          2117.55,
          2507.91,
          2345.77,
          1902.78,
          1454.16
         ],
         "yaxis": "y5"
        },
        {
         "line": {
          "color": "green"
         },
         "name": "Importaciones",
         "showlegend": false,
         "type": "scatter",
         "x": [
          2015,
          2016,
          2017,
          2018,
          2019,
          2020,
          2021
         ],
         "xaxis": "x6",
         "y": [
          772.19,
          786.73,
          987.45,
          869.14,
          976.11,
          1089.5,
          1331.86
         ],
         "yaxis": "y6"
        },
        {
         "line": {
          "color": "blue"
         },
         "name": "Exportaciones",
         "showlegend": false,
         "type": "scatter",
         "x": [
          2015,
          2016,
          2017,
          2018,
          2019,
          2020,
          2021
         ],
         "xaxis": "x6",
         "y": [
          2543.5099999999998,
          2100.61,
          1971.91,
          2678.29,
          2876.45,
          2300.3,
          2777.95
         ],
         "yaxis": "y6"
        }
       ],
       "layout": {
        "annotations": [
         {
          "font": {
           "size": 16
          },
          "showarrow": false,
          "text": "USA",
          "x": 0.14444444444444446,
          "xanchor": "center",
          "xref": "paper",
          "y": 1,
          "yanchor": "bottom",
          "yref": "paper"
         },
         {
          "font": {
           "size": 16
          },
          "showarrow": false,
          "text": "CAN",
          "x": 0.5,
          "xanchor": "center",
          "xref": "paper",
          "y": 1,
          "yanchor": "bottom",
          "yref": "paper"
         },
         {
          "font": {
           "size": 16
          },
          "showarrow": false,
          "text": "UE",
          "x": 0.8555555555555556,
          "xanchor": "center",
          "xref": "paper",
          "y": 1,
          "yanchor": "bottom",
          "yref": "paper"
         },
         {
          "font": {
           "size": 16
          },
          "showarrow": false,
          "text": "JPN",
          "x": 0.14444444444444446,
          "xanchor": "center",
          "xref": "paper",
          "y": 0.375,
          "yanchor": "bottom",
          "yref": "paper"
         },
         {
          "font": {
           "size": 16
          },
          "showarrow": false,
          "text": "ALIANZA PACIFICO",
          "x": 0.5,
          "xanchor": "center",
          "xref": "paper",
          "y": 0.375,
          "yanchor": "bottom",
          "yref": "paper"
         },
         {
          "font": {
           "size": 16
          },
          "showarrow": false,
          "text": "CENTROAMERICA",
          "x": 0.8555555555555556,
          "xanchor": "center",
          "xref": "paper",
          "y": 0.375,
          "yanchor": "bottom",
          "yref": "paper"
         }
        ],
        "height": 600,
        "template": {
         "data": {
          "bar": [
           {
            "error_x": {
             "color": "#2a3f5f"
            },
            "error_y": {
             "color": "#2a3f5f"
            },
            "marker": {
             "line": {
              "color": "#E5ECF6",
              "width": 0.5
             },
             "pattern": {
              "fillmode": "overlay",
              "size": 10,
              "solidity": 0.2
             }
            },
            "type": "bar"
           }
          ],
          "barpolar": [
           {
            "marker": {
             "line": {
              "color": "#E5ECF6",
              "width": 0.5
             },
             "pattern": {
              "fillmode": "overlay",
              "size": 10,
              "solidity": 0.2
             }
            },
            "type": "barpolar"
           }
          ],
          "carpet": [
           {
            "aaxis": {
             "endlinecolor": "#2a3f5f",
             "gridcolor": "white",
             "linecolor": "white",
             "minorgridcolor": "white",
             "startlinecolor": "#2a3f5f"
            },
            "baxis": {
             "endlinecolor": "#2a3f5f",
             "gridcolor": "white",
             "linecolor": "white",
             "minorgridcolor": "white",
             "startlinecolor": "#2a3f5f"
            },
            "type": "carpet"
           }
          ],
          "choropleth": [
           {
            "colorbar": {
             "outlinewidth": 0,
             "ticks": ""
            },
            "type": "choropleth"
           }
          ],
          "contour": [
           {
            "colorbar": {
             "outlinewidth": 0,
             "ticks": ""
            },
            "colorscale": [
             [
              0,
              "#0d0887"
             ],
             [
              0.1111111111111111,
              "#46039f"
             ],
             [
              0.2222222222222222,
              "#7201a8"
             ],
             [
              0.3333333333333333,
              "#9c179e"
             ],
             [
              0.4444444444444444,
              "#bd3786"
             ],
             [
              0.5555555555555556,
              "#d8576b"
             ],
             [
              0.6666666666666666,
              "#ed7953"
             ],
             [
              0.7777777777777778,
              "#fb9f3a"
             ],
             [
              0.8888888888888888,
              "#fdca26"
             ],
             [
              1,
              "#f0f921"
             ]
            ],
            "type": "contour"
           }
          ],
          "contourcarpet": [
           {
            "colorbar": {
             "outlinewidth": 0,
             "ticks": ""
            },
            "type": "contourcarpet"
           }
          ],
          "heatmap": [
           {
            "colorbar": {
             "outlinewidth": 0,
             "ticks": ""
            },
            "colorscale": [
             [
              0,
              "#0d0887"
             ],
             [
              0.1111111111111111,
              "#46039f"
             ],
             [
              0.2222222222222222,
              "#7201a8"
             ],
             [
              0.3333333333333333,
              "#9c179e"
             ],
             [
              0.4444444444444444,
              "#bd3786"
             ],
             [
              0.5555555555555556,
              "#d8576b"
             ],
             [
              0.6666666666666666,
              "#ed7953"
             ],
             [
              0.7777777777777778,
              "#fb9f3a"
             ],
             [
              0.8888888888888888,
              "#fdca26"
             ],
             [
              1,
              "#f0f921"
             ]
            ],
            "type": "heatmap"
           }
          ],
          "heatmapgl": [
           {
            "colorbar": {
             "outlinewidth": 0,
             "ticks": ""
            },
            "colorscale": [
             [
              0,
              "#0d0887"
             ],
             [
              0.1111111111111111,
              "#46039f"
             ],
             [
              0.2222222222222222,
              "#7201a8"
             ],
             [
              0.3333333333333333,
              "#9c179e"
             ],
             [
              0.4444444444444444,
              "#bd3786"
             ],
             [
              0.5555555555555556,
              "#d8576b"
             ],
             [
              0.6666666666666666,
              "#ed7953"
             ],
             [
              0.7777777777777778,
              "#fb9f3a"
             ],
             [
              0.8888888888888888,
              "#fdca26"
             ],
             [
              1,
              "#f0f921"
             ]
            ],
            "type": "heatmapgl"
           }
          ],
          "histogram": [
           {
            "marker": {
             "pattern": {
              "fillmode": "overlay",
              "size": 10,
              "solidity": 0.2
             }
            },
            "type": "histogram"
           }
          ],
          "histogram2d": [
           {
            "colorbar": {
             "outlinewidth": 0,
             "ticks": ""
            },
            "colorscale": [
             [
              0,
              "#0d0887"
             ],
             [
              0.1111111111111111,
              "#46039f"
             ],
             [
              0.2222222222222222,
              "#7201a8"
             ],
             [
              0.3333333333333333,
              "#9c179e"
             ],
             [
              0.4444444444444444,
              "#bd3786"
             ],
             [
              0.5555555555555556,
              "#d8576b"
             ],
             [
              0.6666666666666666,
              "#ed7953"
             ],
             [
              0.7777777777777778,
              "#fb9f3a"
             ],
             [
              0.8888888888888888,
              "#fdca26"
             ],
             [
              1,
              "#f0f921"
             ]
            ],
            "type": "histogram2d"
           }
          ],
          "histogram2dcontour": [
           {
            "colorbar": {
             "outlinewidth": 0,
             "ticks": ""
            },
            "colorscale": [
             [
              0,
              "#0d0887"
             ],
             [
              0.1111111111111111,
              "#46039f"
             ],
             [
              0.2222222222222222,
              "#7201a8"
             ],
             [
              0.3333333333333333,
              "#9c179e"
             ],
             [
              0.4444444444444444,
              "#bd3786"
             ],
             [
              0.5555555555555556,
              "#d8576b"
             ],
             [
              0.6666666666666666,
              "#ed7953"
             ],
             [
              0.7777777777777778,
              "#fb9f3a"
             ],
             [
              0.8888888888888888,
              "#fdca26"
             ],
             [
              1,
              "#f0f921"
             ]
            ],
            "type": "histogram2dcontour"
           }
          ],
          "mesh3d": [
           {
            "colorbar": {
             "outlinewidth": 0,
             "ticks": ""
            },
            "type": "mesh3d"
           }
          ],
          "parcoords": [
           {
            "line": {
             "colorbar": {
              "outlinewidth": 0,
              "ticks": ""
             }
            },
            "type": "parcoords"
           }
          ],
          "pie": [
           {
            "automargin": true,
            "type": "pie"
           }
          ],
          "scatter": [
           {
            "fillpattern": {
             "fillmode": "overlay",
             "size": 10,
             "solidity": 0.2
            },
            "type": "scatter"
           }
          ],
          "scatter3d": [
           {
            "line": {
             "colorbar": {
              "outlinewidth": 0,
              "ticks": ""
             }
            },
            "marker": {
             "colorbar": {
              "outlinewidth": 0,
              "ticks": ""
             }
            },
            "type": "scatter3d"
           }
          ],
          "scattercarpet": [
           {
            "marker": {
             "colorbar": {
              "outlinewidth": 0,
              "ticks": ""
             }
            },
            "type": "scattercarpet"
           }
          ],
          "scattergeo": [
           {
            "marker": {
             "colorbar": {
              "outlinewidth": 0,
              "ticks": ""
             }
            },
            "type": "scattergeo"
           }
          ],
          "scattergl": [
           {
            "marker": {
             "colorbar": {
              "outlinewidth": 0,
              "ticks": ""
             }
            },
            "type": "scattergl"
           }
          ],
          "scattermapbox": [
           {
            "marker": {
             "colorbar": {
              "outlinewidth": 0,
              "ticks": ""
             }
            },
            "type": "scattermapbox"
           }
          ],
          "scatterpolar": [
           {
            "marker": {
             "colorbar": {
              "outlinewidth": 0,
              "ticks": ""
             }
            },
            "type": "scatterpolar"
           }
          ],
          "scatterpolargl": [
           {
            "marker": {
             "colorbar": {
              "outlinewidth": 0,
              "ticks": ""
             }
            },
            "type": "scatterpolargl"
           }
          ],
          "scatterternary": [
           {
            "marker": {
             "colorbar": {
              "outlinewidth": 0,
              "ticks": ""
             }
            },
            "type": "scatterternary"
           }
          ],
          "surface": [
           {
            "colorbar": {
             "outlinewidth": 0,
             "ticks": ""
            },
            "colorscale": [
             [
              0,
              "#0d0887"
             ],
             [
              0.1111111111111111,
              "#46039f"
             ],
             [
              0.2222222222222222,
              "#7201a8"
             ],
             [
              0.3333333333333333,
              "#9c179e"
             ],
             [
              0.4444444444444444,
              "#bd3786"
             ],
             [
              0.5555555555555556,
              "#d8576b"
             ],
             [
              0.6666666666666666,
              "#ed7953"
             ],
             [
              0.7777777777777778,
              "#fb9f3a"
             ],
             [
              0.8888888888888888,
              "#fdca26"
             ],
             [
              1,
              "#f0f921"
             ]
            ],
            "type": "surface"
           }
          ],
          "table": [
           {
            "cells": {
             "fill": {
              "color": "#EBF0F8"
             },
             "line": {
              "color": "white"
             }
            },
            "header": {
             "fill": {
              "color": "#C8D4E3"
             },
             "line": {
              "color": "white"
             }
            },
            "type": "table"
           }
          ]
         },
         "layout": {
          "annotationdefaults": {
           "arrowcolor": "#2a3f5f",
           "arrowhead": 0,
           "arrowwidth": 1
          },
          "autotypenumbers": "strict",
          "coloraxis": {
           "colorbar": {
            "outlinewidth": 0,
            "ticks": ""
           }
          },
          "colorscale": {
           "diverging": [
            [
             0,
             "#8e0152"
            ],
            [
             0.1,
             "#c51b7d"
            ],
            [
             0.2,
             "#de77ae"
            ],
            [
             0.3,
             "#f1b6da"
            ],
            [
             0.4,
             "#fde0ef"
            ],
            [
             0.5,
             "#f7f7f7"
            ],
            [
             0.6,
             "#e6f5d0"
            ],
            [
             0.7,
             "#b8e186"
            ],
            [
             0.8,
             "#7fbc41"
            ],
            [
             0.9,
             "#4d9221"
            ],
            [
             1,
             "#276419"
            ]
           ],
           "sequential": [
            [
             0,
             "#0d0887"
            ],
            [
             0.1111111111111111,
             "#46039f"
            ],
            [
             0.2222222222222222,
             "#7201a8"
            ],
            [
             0.3333333333333333,
             "#9c179e"
            ],
            [
             0.4444444444444444,
             "#bd3786"
            ],
            [
             0.5555555555555556,
             "#d8576b"
            ],
            [
             0.6666666666666666,
             "#ed7953"
            ],
            [
             0.7777777777777778,
             "#fb9f3a"
            ],
            [
             0.8888888888888888,
             "#fdca26"
            ],
            [
             1,
             "#f0f921"
            ]
           ],
           "sequentialminus": [
            [
             0,
             "#0d0887"
            ],
            [
             0.1111111111111111,
             "#46039f"
            ],
            [
             0.2222222222222222,
             "#7201a8"
            ],
            [
             0.3333333333333333,
             "#9c179e"
            ],
            [
             0.4444444444444444,
             "#bd3786"
            ],
            [
             0.5555555555555556,
             "#d8576b"
            ],
            [
             0.6666666666666666,
             "#ed7953"
            ],
            [
             0.7777777777777778,
             "#fb9f3a"
            ],
            [
             0.8888888888888888,
             "#fdca26"
            ],
            [
             1,
             "#f0f921"
            ]
           ]
          },
          "colorway": [
           "#636efa",
           "#EF553B",
           "#00cc96",
           "#ab63fa",
           "#FFA15A",
           "#19d3f3",
           "#FF6692",
           "#B6E880",
           "#FF97FF",
           "#FECB52"
          ],
          "font": {
           "color": "#2a3f5f"
          },
          "geo": {
           "bgcolor": "white",
           "lakecolor": "white",
           "landcolor": "#E5ECF6",
           "showlakes": true,
           "showland": true,
           "subunitcolor": "white"
          },
          "hoverlabel": {
           "align": "left"
          },
          "hovermode": "closest",
          "mapbox": {
           "style": "light"
          },
          "paper_bgcolor": "white",
          "plot_bgcolor": "#E5ECF6",
          "polar": {
           "angularaxis": {
            "gridcolor": "white",
            "linecolor": "white",
            "ticks": ""
           },
           "bgcolor": "#E5ECF6",
           "radialaxis": {
            "gridcolor": "white",
            "linecolor": "white",
            "ticks": ""
           }
          },
          "scene": {
           "xaxis": {
            "backgroundcolor": "#E5ECF6",
            "gridcolor": "white",
            "gridwidth": 2,
            "linecolor": "white",
            "showbackground": true,
            "ticks": "",
            "zerolinecolor": "white"
           },
           "yaxis": {
            "backgroundcolor": "#E5ECF6",
            "gridcolor": "white",
            "gridwidth": 2,
            "linecolor": "white",
            "showbackground": true,
            "ticks": "",
            "zerolinecolor": "white"
           },
           "zaxis": {
            "backgroundcolor": "#E5ECF6",
            "gridcolor": "white",
            "gridwidth": 2,
            "linecolor": "white",
            "showbackground": true,
            "ticks": "",
            "zerolinecolor": "white"
           }
          },
          "shapedefaults": {
           "line": {
            "color": "#2a3f5f"
           }
          },
          "ternary": {
           "aaxis": {
            "gridcolor": "white",
            "linecolor": "white",
            "ticks": ""
           },
           "baxis": {
            "gridcolor": "white",
            "linecolor": "white",
            "ticks": ""
           },
           "bgcolor": "#E5ECF6",
           "caxis": {
            "gridcolor": "white",
            "linecolor": "white",
            "ticks": ""
           }
          },
          "title": {
           "x": 0.05
          },
          "xaxis": {
           "automargin": true,
           "gridcolor": "white",
           "linecolor": "white",
           "ticks": "",
           "title": {
            "standoff": 15
           },
           "zerolinecolor": "white",
           "zerolinewidth": 2
          },
          "yaxis": {
           "automargin": true,
           "gridcolor": "white",
           "linecolor": "white",
           "ticks": "",
           "title": {
            "standoff": 15
           },
           "zerolinecolor": "white",
           "zerolinewidth": 2
          }
         }
        },
        "title": {
         "text": "Intercambio comercial con socios princiapales (2015-2021)"
        },
        "width": 800,
        "xaxis": {
         "anchor": "y",
         "domain": [
          0,
          0.2888888888888889
         ]
        },
        "xaxis2": {
         "anchor": "y2",
         "domain": [
          0.35555555555555557,
          0.6444444444444445
         ]
        },
        "xaxis3": {
         "anchor": "y3",
         "domain": [
          0.7111111111111111,
          1
         ]
        },
        "xaxis4": {
         "anchor": "y4",
         "domain": [
          0,
          0.2888888888888889
         ]
        },
        "xaxis5": {
         "anchor": "y5",
         "domain": [
          0.35555555555555557,
          0.6444444444444445
         ]
        },
        "xaxis6": {
         "anchor": "y6",
         "domain": [
          0.7111111111111111,
          1
         ]
        },
        "yaxis": {
         "anchor": "x",
         "domain": [
          0.625,
          1
         ]
        },
        "yaxis2": {
         "anchor": "x2",
         "domain": [
          0.625,
          1
         ]
        },
        "yaxis3": {
         "anchor": "x3",
         "domain": [
          0.625,
          1
         ]
        },
        "yaxis4": {
         "anchor": "x4",
         "domain": [
          0,
          0.375
         ]
        },
        "yaxis5": {
         "anchor": "x5",
         "domain": [
          0,
          0.375
         ]
        },
        "yaxis6": {
         "anchor": "x6",
         "domain": [
          0,
          0.375
         ]
        }
       }
      }
     },
     "metadata": {},
     "output_type": "display_data"
    }
   ],
   "source": [
    "c = Data('world_trade',reporting_country='484',year=[i for i in range(2015,2022)])\n",
    "c.ITrade_pricnipalesSocios()"
   ]
  },
  {
   "cell_type": "code",
   "execution_count": null,
   "metadata": {},
   "outputs": [],
   "source": [
    "country_list = Data('world_trade_',reporting_country='484')\n",
    "country_list = country_list.obtainCountryList()\n",
    "country_list\n",
    "\n"
   ]
  },
  {
   "cell_type": "code",
   "execution_count": null,
   "metadata": {},
   "outputs": [],
   "source": [
    "c = Data('world_trade_',reporting_country='484',year=[2020],imp_exp=2)\n",
    "df = c.read_data()\n",
    "c.grafica_treemap_paises(df[0],c.year,imp_exp=c.imp_exp)"
   ]
  },
  {
   "cell_type": "code",
   "execution_count": 8,
   "metadata": {},
   "outputs": [
    {
     "name": "stdout",
     "output_type": "stream",
     "text": [
      "yes\n"
     ]
    }
   ],
   "source": [
    "with open(r'C:\\Users\\ivan_\\OneDrive - UNIVERSIDAD NACIONAL AUTÓNOMA DE MÉXICO\\Desktop\\repositorios\\Comercio_exterior\\files/urls.txt', 'r') as f:\n",
    "    urls = f.readlines()\n",
    "urls = [url.strip() for url in urls]\n",
    "urls\n",
    "if 'https://comtradeapi.un.org/public/v1/preview/C/A/HS?reporterCode=484&period=2021,2020&cmdCode=8536&flowCode=M,X&customsCode=C00&motCode=0' in urls:\n",
    "    print('yes')\n",
    "    "
   ]
  },
  {
   "cell_type": "code",
   "execution_count": 1,
   "metadata": {},
   "outputs": [
    {
     "name": "stderr",
     "output_type": "stream",
     "text": [
      "c:\\Users\\ivan_\\OneDrive - UNIVERSIDAD NACIONAL AUTÓNOMA DE MÉXICO\\Desktop\\repositorios\\suayedApp\\venv_\\lib\\site-packages\\requests\\__init__.py:102: RequestsDependencyWarning: urllib3 (1.26.9) or chardet (5.0.0)/charset_normalizer (2.0.12) doesn't match a supported version!\n",
      "  warnings.warn(\"urllib3 ({}) or chardet ({})/charset_normalizer ({}) doesn't match a supported \"\n"
     ]
    },
    {
     "name": "stdout",
     "output_type": "stream",
     "text": [
      "(136923, 12)\n",
      "(22974, 12)\n",
      "0\n",
      "100\n",
      "200\n",
      "300\n",
      "400\n",
      "500\n",
      "600\n",
      "700\n",
      "800\n",
      "900\n",
      "1000\n",
      "1100\n",
      "1200\n",
      "1300\n",
      "1400\n",
      "1500\n",
      "1600\n",
      "1700\n",
      "1800\n",
      "1900\n",
      "2000\n",
      "2100\n",
      "2200\n",
      "2300\n",
      "2400\n",
      "2500\n",
      "2600\n",
      "2700\n",
      "2800\n",
      "2900\n",
      "3000\n",
      "3100\n",
      "3200\n",
      "3300\n",
      "3400\n",
      "3500\n",
      "3600\n",
      "3700\n",
      "3800\n",
      "3900\n",
      "4000\n",
      "4100\n",
      "4200\n",
      "4300\n",
      "4400\n",
      "4500\n",
      "4600\n",
      "4700\n",
      "4800\n",
      "4900\n",
      "5000\n",
      "5100\n",
      "5200\n",
      "5300\n",
      "5400\n",
      "5500\n",
      "5600\n",
      "5700\n",
      "5800\n",
      "5900\n",
      "6000\n",
      "6100\n",
      "6200\n",
      "6300\n",
      "6400\n",
      "6500\n",
      "6600\n",
      "6700\n",
      "6800\n",
      "6900\n",
      "7000\n",
      "7100\n",
      "7200\n",
      "7300\n",
      "7400\n",
      "7500\n",
      "7600\n",
      "7700\n",
      "7800\n",
      "7900\n",
      "8000\n",
      "8100\n",
      "8200\n",
      "8300\n",
      "8400\n",
      "8500\n",
      "8600\n",
      "8700\n",
      "8800\n",
      "8900\n",
      "9000\n",
      "9100\n",
      "9200\n",
      "9300\n",
      "9400\n",
      "9500\n",
      "9600\n",
      "9700\n",
      "9800\n",
      "9900\n",
      "10000\n",
      "10100\n",
      "10200\n",
      "10300\n",
      "10400\n",
      "10500\n",
      "10600\n",
      "10700\n",
      "10800\n",
      "10900\n",
      "11000\n",
      "11100\n",
      "11200\n",
      "11300\n",
      "11400\n",
      "11500\n",
      "11600\n",
      "11700\n",
      "11800\n",
      "11900\n",
      "12000\n",
      "12100\n",
      "12200\n",
      "12300\n",
      "12400\n",
      "12500\n",
      "12600\n",
      "12700\n",
      "12800\n",
      "12900\n",
      "13000\n",
      "13100\n",
      "13200\n",
      "13300\n",
      "13400\n",
      "13500\n",
      "13600\n",
      "13700\n",
      "13800\n",
      "13900\n",
      "14000\n",
      "14100\n",
      "14200\n",
      "14300\n",
      "14400\n",
      "14500\n",
      "14600\n",
      "14700\n",
      "14800\n",
      "14900\n",
      "15000\n",
      "15100\n",
      "15200\n",
      "15300\n",
      "15400\n",
      "15500\n",
      "15600\n",
      "15700\n",
      "15800\n",
      "15900\n",
      "16000\n",
      "16100\n",
      "16200\n",
      "16300\n",
      "16400\n",
      "16500\n",
      "16600\n",
      "16700\n",
      "16800\n",
      "16900\n",
      "17000\n",
      "17100\n",
      "17200\n",
      "17300\n",
      "17400\n",
      "17500\n",
      "17600\n",
      "17700\n",
      "17800\n",
      "17900\n",
      "18000\n",
      "18100\n",
      "18200\n",
      "18300\n",
      "18400\n",
      "18500\n",
      "18600\n",
      "18700\n",
      "18800\n",
      "18900\n",
      "19000\n",
      "19100\n",
      "19200\n",
      "19300\n",
      "19400\n",
      "19500\n",
      "19600\n",
      "19700\n",
      "19800\n",
      "19900\n",
      "20000\n",
      "20100\n",
      "20200\n",
      "20300\n",
      "20400\n",
      "20500\n",
      "20600\n",
      "20700\n",
      "20800\n",
      "20900\n",
      "21000\n",
      "21100\n",
      "21200\n",
      "21300\n",
      "21400\n",
      "21500\n",
      "21600\n",
      "21700\n",
      "21800\n",
      "21900\n",
      "22000\n",
      "22100\n",
      "22200\n",
      "22300\n",
      "22400\n",
      "22500\n",
      "22600\n",
      "22700\n",
      "22800\n",
      "22900\n"
     ]
    }
   ],
   "source": [
    "import mysql.connector\n",
    "import pandas as pd\n",
    "\n",
    "\n",
    "class MysqlDB():\n",
    "    def __init__(self):\n",
    "       self.conn = mysql.connector.connect(user=\"root\", password=\"123456\",\n",
    "                                       host=\"localhost\",\n",
    "                                       database=\"mexico_it\",\n",
    "                                       port='3306'\n",
    "                                       )\n",
    "    def insertar_registro(self,tabla,diccionario):\n",
    "        cur = self.conn.cursor()\n",
    "        if tabla =='world_trade_':\n",
    "            insertar_registro = \"INSERT INTO world_trade_ (reporter_country,year,section,SA_4, imp_exp,partner_code,tradevalue,fobvalue,tradequantity,quantity_unit,netweight) VALUES(%s,%s,%s,%s,%s,%s,%s,%s,%s,%s,%s)\"\n",
    "            cur.execute(insertar_registro, (diccionario['reporter_country'],\n",
    "                                            diccionario['year'],\n",
    "                                            diccionario['section'],\n",
    "                                            diccionario['SA_4'],\n",
    "                                            diccionario['imp_exp'],\n",
    "                                            diccionario['partner_code'],\n",
    "                                            diccionario['tradevalue'],\n",
    "                                            diccionario['fobvalue'],\n",
    "                                            diccionario['tradequantity'],\n",
    "                                            diccionario['quantity_unit'],\n",
    "                                            diccionario['netweight'],\n",
    "                                            ))\n",
    "        else:\n",
    "            \n",
    "            insertar_registro =  \"INSERT INTO world_trade (reporter_country,year,section,SA_4, imp_exp,partner_code,tradevalue,fobvalue,tradequantity,quantity_unit,netweight) VALUES(%s,%s,%s,%s,%s,%s,%s,%s,%s,%s,%s)\"\n",
    "            \n",
    "            cur.execute(insertar_registro, (diccionario['reporter_country'],\n",
    "                                            diccionario['year'],\n",
    "                                            diccionario['section'],\n",
    "                                            diccionario['SA_4'],\n",
    "                                            diccionario['imp_exp'],\n",
    "                                            diccionario['partner_code'],\n",
    "                                            diccionario['tradevalue'],\n",
    "                                            diccionario['fobvalue'],\n",
    "                                            diccionario['tradequantity'],\n",
    "                                            diccionario['quantity_unit'],\n",
    "                                            diccionario['netweight'],\n",
    "                                            ))\n",
    "        self.conn.commit()\n",
    "        #cur.close()\n",
    "        #self.conn.close\n",
    "\n",
    "    def crear_tabla_secciones(self):\n",
    "        cur = self.conn.cursor()\n",
    "        cur.execute(\"CREATE TABLE if not EXISTS sections (id INT AUTO_INCREMENT PRIMARY KEY, chapters VARCHAR(20))\")\n",
    "        cur.execute('''\n",
    "                        INSERT INTO sections (chapters) VALUES\n",
    "                        ('1-5'),\n",
    "                        ('6-14'),\n",
    "                        ('15'),\n",
    "                        ('16-24'),\n",
    "                        ('25-27'),\n",
    "                        ('28-38'),\n",
    "                        ('39-40'),\n",
    "                        ('41-43'),\n",
    "                        ('44-46'),\n",
    "                        ('47-49'),\n",
    "                        ('50-63'),\n",
    "                        ('64-67'),\n",
    "                        ('68-70'),\n",
    "                        ('71'),\n",
    "                        ('72-83'),\n",
    "                        ('84-85'),\n",
    "                        ('86-89'),\n",
    "                        ('90-92'),\n",
    "                        ('93'),\n",
    "                        ('94-96'),\n",
    "                        ('97')\n",
    "                        ''')\n",
    "        self.conn.commit()\n",
    "        cur.close()\n",
    "        self.conn.close()\n",
    "\n",
    "    def consultar_sections(self):\n",
    "        cur = self.conn.cursor()\n",
    "        cur.execute(\"SELECT chapters FROM sections\")\n",
    "        rows = cur.fetchall()\n",
    "        rows,= list(zip(*rows))\n",
    "        self.conn.commit()\n",
    "        cur.close()\n",
    "        return rows\n",
    "    \n",
    "    def verificar_partner_code_in_countriesTable(self):\n",
    "        cur = self.conn.cursor()\n",
    "        cur.execute(\"SELECT distinct(partner_code)from world_trade_;\")\n",
    "        rows = cur.fetchall()\n",
    "        rows,= list(zip(*rows))\n",
    "        self.conn.commit()\n",
    "        \n",
    "        for row in rows:\n",
    "            cur.execute(\"SELECT name FROM countries WHERE partner_code_ = %s\", (row,))\n",
    "            name = cur.fetchone()\n",
    "            if name is None:\n",
    "                print(row)\n",
    "                #cur.execute(\"INSERT INTO countries (partner_code_) VALUES (%s)\", (row,))\n",
    "        cur.close()  \n",
    "        return rows\n",
    "    \n",
    "    def eliminar_registros_insignificantes(self):\n",
    "        cur = self.conn.cursor()\n",
    "        cur.execute(\"SELECT * FROM world_trade_\")\n",
    "        rows = cur.fetchall()\n",
    "        world_tradeTable = pd.DataFrame(rows,columns=[x[0] for x in cur.description])\n",
    "        world_tradeTable = world_tradeTable[~(world_tradeTable['partner_code']=='0')] \n",
    "        world_tradeTable['porcentaje'] = world_tradeTable.groupby(['year','imp_exp','SA_4'],group_keys=False)['tradevalue'].apply(lambda x: (x/(x.sum()))*100)\n",
    "        \n",
    "\n",
    "        #crear una tabla con los mismo campos en la base de datos\n",
    "\n",
    "        world_tradeTable_insignificantes = world_tradeTable[world_tradeTable['porcentaje']>1]\n",
    "    \n",
    "        #import dataframe into myqsl\n",
    "        #world_tradeTable_insignificantes.to_sql('world_tradeTable_insignificantes', con=self.conn, if_exists='replace', index=False)\n",
    "        print(world_tradeTable_insignificantes.shape)\n",
    "        #añadir world a una nueva tabla en mysql\n",
    "        #crear otro df a partir del registro 10000 de world_tradeTable_insignificantes\n",
    "\n",
    "        world_tradeTable_insignificantes=world_tradeTable_insignificantes.iloc[113949:,:]\n",
    "        print(world_tradeTable_insignificantes.shape)\n",
    "        c = 0\n",
    "        for row in world_tradeTable_insignificantes.itertuples():\n",
    "            \n",
    "            data = {}\n",
    "            data['reporter_country'] = row.reporter_country\n",
    "            data['year'] = row.year\n",
    "            data['imp_exp'] = row.imp_exp\n",
    "            data['partner_code'] = row.partner_code\n",
    "            data['tradevalue'] = row.tradevalue\n",
    "            data['tradequantity'] = row.tradequantity\n",
    "            data['quantity_unit'] = row.quantity_unit\n",
    "            data['netweight'] = row.netweight\n",
    "            data['fobvalue'] = row.fobvalue\n",
    "            data['section'] = row.section\n",
    "            data['SA_4'] = row.SA_4\n",
    "            if c%100==0:\n",
    "                print(c)\n",
    "            self.insertar_registro('world_trade',data)\n",
    "            c+=1\n",
    "        \n",
    "        #comit\n",
    "        self.conn.commit()\n",
    "        cur.close()\n",
    "        self.conn.close()\n",
    "\n",
    "\n",
    "        \n",
    "\n",
    "c = MysqlDB().eliminar_registros_insignificantes()\n"
   ]
  }
 ],
 "metadata": {
  "kernelspec": {
   "display_name": "Python 3.10.4 ('venv_': venv)",
   "language": "python",
   "name": "python3"
  },
  "language_info": {
   "codemirror_mode": {
    "name": "ipython",
    "version": 3
   },
   "file_extension": ".py",
   "mimetype": "text/x-python",
   "name": "python",
   "nbconvert_exporter": "python",
   "pygments_lexer": "ipython3",
   "version": "3.10.4"
  },
  "orig_nbformat": 4,
  "vscode": {
   "interpreter": {
    "hash": "783f502901e0ca42b943c71ea672918d5d1baba502bc82fa661324aafe9c5a37"
   }
  }
 },
 "nbformat": 4,
 "nbformat_minor": 2
}
