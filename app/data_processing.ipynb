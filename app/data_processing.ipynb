{
 "cells": [
  {
   "cell_type": "code",
   "execution_count": 2,
   "metadata": {},
   "outputs": [
    {
     "name": "stderr",
     "output_type": "stream",
     "text": [
      "c:\\Users\\ivan_\\OneDrive - UNIVERSIDAD NACIONAL AUTÓNOMA DE MÉXICO\\Desktop\\repositorios\\suayedApp\\venv_\\lib\\site-packages\\requests\\__init__.py:102: RequestsDependencyWarning: urllib3 (1.26.9) or chardet (5.0.0)/charset_normalizer (2.0.12) doesn't match a supported version!\n",
      "  warnings.warn(\"urllib3 ({}) or chardet ({})/charset_normalizer ({}) doesn't match a supported \"\n"
     ]
    }
   ],
   "source": [
    "import pandas as pd\n",
    "import numpy as np\n",
    "import mysql.connector \n",
    "import plotly.express as px\n",
    "import json\n",
    "from plotly.subplots import make_subplots\n",
    "import plotly.graph_objects as go"
   ]
  },
  {
   "cell_type": "code",
   "execution_count": 56,
   "metadata": {},
   "outputs": [],
   "source": [
    "class Data():\n",
    "    def __init__(self,table_name,reporting_country=None,partner_code = None,year=None,period=None,section=None,SA_4=None,imp_exp=None):\n",
    "        self.conn = mysql.connector.connect(user=\"root\", password=\"123456\",\n",
    "                                       host=\"localhost\",\n",
    "                                       database=\"mexico_it\",\n",
    "                                       port='3306'\n",
    "                                       )\n",
    "        self.table_name = table_name\n",
    "        self.reporting_country = reporting_country\n",
    "        self.partner_code = partner_code\n",
    "        self.year = year\n",
    "        self.period = period\n",
    "        self.section = section\n",
    "        self.SA_4 = SA_4\n",
    "        self.imp_exp = imp_exp\n",
    "\n",
    "\n",
    "\n",
    "    def read_data(self):\n",
    "        #diccionario con los parametros de la consulta\n",
    "        diccionario_filtro = {'reporter_country':self.reporting_country,\n",
    "                                'partner_code':self.partner_code,\n",
    "                                'year':self.year,\n",
    "                                'period':self.period,\n",
    "                                'section':self.section,\n",
    "                                'SA_4':self.SA_4,\n",
    "                                'imp_exp':self.imp_exp}\n",
    "\n",
    "        #parametros de la consulta que ingresó el usuario\n",
    "        diccionario_filtro = {k: v for k, v in diccionario_filtro.items() if v is not None}\n",
    "        line_ =''\n",
    "        for k,v in diccionario_filtro.items():\n",
    "            line_ = ''.join('{} in ({}) AND '.format(k, str(v).replace('[','').replace(']','')) for k, v in diccionario_filtro.items())[0:-4]\n",
    "        \n",
    "        #procesando table world_table\n",
    "        query = \"SELECT * FROM {} WHERE {}\".format(self.table_name,line_)\n",
    "        cur = self.conn.cursor()\n",
    "        cur.execute(query)\n",
    "        rows = cur.fetchall()\n",
    "        world_tradeTable = pd.DataFrame(rows,columns=[x[0] for x in cur.description])\n",
    "        world_tradeTable['section'] = world_tradeTable['section'].astype(int)\n",
    "        world_tradeTable = world_tradeTable[~(world_tradeTable['partner_code']=='0')] #convertir a entero la columna seccion\n",
    "        world_tradeTable['porcentaje'] = world_tradeTable.groupby(['year','imp_exp','SA_4'],group_keys=False)['tradevalue'].apply(lambda x: (x/(x.sum()))*100)\n",
    "        world_tradeTable['porcentaje'] = world_tradeTable['porcentaje'].round(2)\n",
    "        world_tradeTable = world_tradeTable[world_tradeTable['porcentaje'] > 0.05] \n",
    "\n",
    "        #procesando table sa4_description\n",
    "        cur.execute('SELECT * FROM sections') \n",
    "        rows = cur.fetchall()\n",
    "        #world_tradeTable = pd.read_sql(query,self.conn)\n",
    "        sectionsTable = pd.DataFrame(rows,columns=[x[0] for x in cur.description])\n",
    "        sectionsTable = sectionsTable.rename(columns={'id':'section'})\n",
    "\n",
    "        #procesando table countries\n",
    "        cur.execute('SELECT * FROM countries')\n",
    "        rows = cur.fetchall()\n",
    "        #world_tradeTable = pd.read_sql(query,self.conn)\n",
    "        countriesTable = pd.DataFrame(rows,columns=[x[0] for x in cur.description])       \n",
    "        countriesTable = countriesTable.rename(columns={'partner_code_':'partner_code'})\n",
    "        countriesTable['partner_code'] = countriesTable['partner_code'].astype(str)\n",
    "        df = world_tradeTable.merge(sectionsTable,how='left',on='section')\n",
    "        df = df.merge(countriesTable,how='left',on='partner_code')\n",
    "        cur.close()\n",
    "        df.to_csv\n",
    "        return [df]\n",
    "        \n",
    "\n",
    "    def grafica_treemap_paises(self,df,periodo=None,imp_exp=None):\n",
    "        imp_exp = 'Orígenes' if imp_exp == 1 else 'Destinos'\n",
    "        fig = px.treemap(df, \n",
    "                        path=['description','iso_3'], \n",
    "                        values='tradevalue',\n",
    "                        title='{imp_exp} ({año})'.format(imp_exp=imp_exp,año=periodo[0])\n",
    "                        #color='porcentaje',\n",
    "                        )\n",
    "        fig.show()\n",
    "    def grafica_treemap_paises_productos(self,df,periodo=None,imp_exp=None):\n",
    "        imp_exp = 'Importaciones' if imp_exp == 1 else 'Exportaciones'\n",
    "        fig = px.treemap(df, \n",
    "                        path=['description','SA_4'], \n",
    "                        values='tradevalue',\n",
    "                        branchvalues='total',\n",
    "                        color='tradevalue',\n",
    "                        title = '{imp_exp} ({año})'.format(imp_exp=imp_exp,año=periodo[0]),\n",
    "                        )\n",
    "        fig.show()\n",
    "\n",
    "    def cambio_porcentualImpExp(self):\n",
    "        df = self.read_data()[0]\n",
    "        df =df.groupby(['year','imp_exp','partner_code','iso_3'],group_keys=False)[['tradevalue']].sum().reset_index()\n",
    "        #paises unicos\n",
    "        paises = df['partner_code'].unique()\n",
    "        aumento_disminucion_pais = {}\n",
    "        for pais in paises:\n",
    "            df_pais = df[df['partner_code']==pais]\n",
    "            df_pais=df_pais['tradevalue'].values.tolist()\n",
    "            if len(df_pais) > 1:\n",
    "                diff = ((df_pais[1]-df_pais[0])/df_pais[1]*100)\n",
    "                aumento_disminucion_pais[pais] = diff\n",
    "                #dicc to dataframe\n",
    "        df_ = pd.DataFrame.from_dict(aumento_disminucion_pais,orient='index',columns=['aumento_disminucion'])\n",
    "        df_['partner_code'] = df_.index\n",
    "        df = df.merge(df_,how='inner',on='partner_code')\n",
    "        return df\n",
    "    \n",
    "    def grafica_incrementoMercado_pais(self,df,scope_=None,periodo=None,imp_exp=None):\n",
    "        with open('custom.geo.json', encoding=\"utf-8\") as f:\n",
    "            counties = json.load(f)\n",
    "        cur = self.conn.cursor()\n",
    "        periodo.sort()\n",
    "        imp_exp = 'Importaciones' if imp_exp == 1 else 'Exportaciones'\n",
    "        fig = px.choropleth(df, locations='iso_3', color='aumento_disminucion',\n",
    "                                color_continuous_scale=\"Viridis\",\n",
    "                                range_color=(-100, 100),\n",
    "                                scope = scope_,\n",
    "                                labels={'aumento_disminucion':'Aumento/disminucion'},\n",
    "                                title='Cambio en el valor de importaciones del {} al {}'.format(periodo[0],periodo[1])\n",
    "                          )\n",
    "        fig.update_layout(margin={\"r\":0,\"t\":0,\"l\":0,\"b\":0})                                \n",
    "        fig.show()\n",
    "    def ITrade_pricnipalesSocios(self):\n",
    "        df = self.read_data()[0]\n",
    "\n",
    "        df_usa = df[df['iso_3']=='USA']\n",
    "        df_canada = df[df['iso_3']=='CAN']\n",
    "        df_jpn= df[df['iso_3']=='JPN']\n",
    "        df_ue = df[df['iso_3'].isin(['AUT','BEL','BGR','HRV','CYP','CZE','DNK','EST','FIN','FRA','DEU','GRC','HUN','IRL','ITA','LVA','LTU','LUX','MLT','NLD','POL','PRT','ROU','SVK','SVN','ESP','SWE','GBR'])]\n",
    "        df_aliazna_pacifico = df[df['iso_3'].isin(['CHL','PER','COL'])]\n",
    "        df_centroamerica = df[df['iso_3'].isin(['CUB','PAN','GTM','CRI','SLV','NIC','HND','DOM'])]\n",
    "\n",
    "        #UNIR DATAFRAMES\n",
    "        df = pd.concat([df_usa,df_canada,df_jpn,df_ue,df_aliazna_pacifico,df_centroamerica])\n",
    "        #CREAR COLUMNA REGION\n",
    "        df['region'] = np.where(df['iso_3'].isin(['USA']),'USA',\n",
    "                        np.where(df['iso_3'].isin(['CAN']),'CAN',\n",
    "                        np.where(df['iso_3'].isin(['JPN']),'JPN',\n",
    "                        np.where(df['iso_3'].isin(['AUT','BEL','BGR','HRV','CYP','CZE','DNK','EST','FIN','FRA','DEU','GRC','HUN','IRL','ITA','LVA','LTU','LUX','MLT','NLD','POL','PRT','ROU','SVK','SVN','ESP','SWE','GBR']),'UE',\n",
    "                        np.where(df['iso_3'].isin(['CHL','PER','COL']),'ALIANZA PACIFICO',\n",
    "                        np.where(df['iso_3'].isin(['CUB','PAN','GTM','CRI','SLV','NIC','HND','DOM']),'CENTROAMERICA',''))))))\n",
    "\n",
    "        #IMPORTACIONES\n",
    "        df_imp = df[(df['imp_exp']==1)]\n",
    "        df.groupby(['year','imp_exp','region'],group_keys=False)[['tradevalue']].sum().reset_index()\n",
    "        df_imp = df_imp.groupby(['year','imp_exp','region'],group_keys=False)[['tradevalue']].sum().reset_index()\n",
    "        df_imp = df_imp.pivot(index='year',columns='region',values='tradevalue')\n",
    "\n",
    "        #EXPORTACIONES\n",
    "        df_exp = df[(df['imp_exp']==2)]\n",
    "        df_exp.groupby(['year','imp_exp','region'],group_keys=False)[['tradevalue']].sum().reset_index()\n",
    "        df_exp = df_exp.groupby(['year','imp_exp','region'],group_keys=False)[['tradevalue']].sum().reset_index()\n",
    "        df_exp = df_exp.pivot(index='year',columns='region',values='tradevalue')\n",
    "        fig = make_subplots(rows=2, cols=3,subplot_titles=('USA','CAN','UE','JPN','ALIANZA PACIFICO','CENTROAMERICA'))\n",
    "        fig.add_trace(go.Scatter(x=df_imp.index, y=df_imp['USA'],line_color='green',name='Importaciones'),row=1, col=1),\n",
    "        fig.add_trace(go.Scatter(x=df_exp.index, y=df_exp['USA'],line_color='blue',name='Exportaciones'),row=1, col=1),\n",
    "        fig.add_trace(go.Scatter(x=df_imp.index, y=df_imp['CAN'],line_color='green',name='Importaciones',showlegend=False),row=1, col=2),\n",
    "        fig.add_trace(go.Scatter(x=df_exp.index, y=df_exp['CAN'],line_color='blue',name='Exportaciones',showlegend=False),row=1, col=2),\n",
    "        fig.add_trace(go.Scatter(x=df_imp.index, y=df_imp['UE'],line_color='green',name='Importaciones',showlegend=False),row=1, col=3),\n",
    "        fig.add_trace(go.Scatter(x=df_exp.index, y=df_exp['UE'],line_color='blue',name='Exportaciones',showlegend=False),row=1, col=3),\n",
    "        fig.add_trace(go.Scatter(x=df_imp.index, y=df_imp['JPN'],line_color='green',name='Importaciones',showlegend=False),row=2, col=1),\n",
    "        fig.add_trace(go.Scatter(x=df_exp.index, y=df_exp['JPN'],line_color='blue',name='Exportaciones',showlegend=False),row=2, col=1),\n",
    "        fig.add_trace(go.Scatter(x=df_imp.index, y=df_imp['ALIANZA PACIFICO'],line_color='green',name='Importaciones',showlegend=False),row=2, col=2),\n",
    "        fig.add_trace(go.Scatter(x=df_exp.index, y=df_exp['ALIANZA PACIFICO'],line_color='blue',name='Exportaciones',showlegend=False),row=2, col=2),\n",
    "        fig.add_trace(go.Scatter(x=df_imp.index, y=df_imp['CENTROAMERICA'],line_color='green',name='Importaciones',showlegend=False),row=2, col=3),\n",
    "        fig.add_trace(go.Scatter(x=df_exp.index, y=df_exp['CENTROAMERICA'],line_color='blue',name='Exportaciones',showlegend=False),row=2, col=3),\n",
    "        fig.update_layout(height=600, width=800, title_text=\"Intercambio comercial con socios princiapales (2015-2021)\")\n",
    "        fig.show()\n"
   ]
  },
  {
   "cell_type": "markdown",
   "metadata": {},
   "source": []
  },
  {
   "cell_type": "code",
   "execution_count": 15,
   "metadata": {},
   "outputs": [
    {
     "data": {
      "text/html": [
       "<div>\n",
       "<style scoped>\n",
       "    .dataframe tbody tr th:only-of-type {\n",
       "        vertical-align: middle;\n",
       "    }\n",
       "\n",
       "    .dataframe tbody tr th {\n",
       "        vertical-align: top;\n",
       "    }\n",
       "\n",
       "    .dataframe thead th {\n",
       "        text-align: right;\n",
       "    }\n",
       "</style>\n",
       "<table border=\"1\" class=\"dataframe\">\n",
       "  <thead>\n",
       "    <tr style=\"text-align: right;\">\n",
       "      <th></th>\n",
       "      <th>year</th>\n",
       "      <th>SA_4</th>\n",
       "      <th>tradevalue</th>\n",
       "      <th>porcentaje</th>\n",
       "      <th>description</th>\n",
       "      <th>iso_3</th>\n",
       "    </tr>\n",
       "  </thead>\n",
       "  <tbody>\n",
       "    <tr>\n",
       "      <th>0</th>\n",
       "      <td>2020</td>\n",
       "      <td>0102</td>\n",
       "      <td>8.831740e+08</td>\n",
       "      <td>100.00</td>\n",
       "      <td>Animales vivos y productos del reino animal</td>\n",
       "      <td>USA</td>\n",
       "    </tr>\n",
       "    <tr>\n",
       "      <th>1</th>\n",
       "      <td>2020</td>\n",
       "      <td>0201</td>\n",
       "      <td>1.286700e+09</td>\n",
       "      <td>95.40</td>\n",
       "      <td>Animales vivos y productos del reino animal</td>\n",
       "      <td>USA</td>\n",
       "    </tr>\n",
       "    <tr>\n",
       "      <th>2</th>\n",
       "      <td>2020</td>\n",
       "      <td>0201</td>\n",
       "      <td>3.818130e+07</td>\n",
       "      <td>2.83</td>\n",
       "      <td>Animales vivos y productos del reino animal</td>\n",
       "      <td>CAN</td>\n",
       "    </tr>\n",
       "    <tr>\n",
       "      <th>3</th>\n",
       "      <td>2020</td>\n",
       "      <td>0201</td>\n",
       "      <td>2.383460e+07</td>\n",
       "      <td>1.77</td>\n",
       "      <td>Animales vivos y productos del reino animal</td>\n",
       "      <td>JPN</td>\n",
       "    </tr>\n",
       "    <tr>\n",
       "      <th>4</th>\n",
       "      <td>2020</td>\n",
       "      <td>0202</td>\n",
       "      <td>1.117020e+08</td>\n",
       "      <td>50.75</td>\n",
       "      <td>Animales vivos y productos del reino animal</td>\n",
       "      <td>USA</td>\n",
       "    </tr>\n",
       "  </tbody>\n",
       "</table>\n",
       "</div>"
      ],
      "text/plain": [
       "   year  SA_4    tradevalue  porcentaje  \\\n",
       "0  2020  0102  8.831740e+08      100.00   \n",
       "1  2020  0201  1.286700e+09       95.40   \n",
       "2  2020  0201  3.818130e+07        2.83   \n",
       "3  2020  0201  2.383460e+07        1.77   \n",
       "4  2020  0202  1.117020e+08       50.75   \n",
       "\n",
       "                                   description iso_3  \n",
       "0  Animales vivos y productos del reino animal   USA  \n",
       "1  Animales vivos y productos del reino animal   USA  \n",
       "2  Animales vivos y productos del reino animal   CAN  \n",
       "3  Animales vivos y productos del reino animal   JPN  \n",
       "4  Animales vivos y productos del reino animal   USA  "
      ]
     },
     "execution_count": 15,
     "metadata": {},
     "output_type": "execute_result"
    }
   ],
   "source": [
    "c = Data('world_trade_',reporting_country='484',year=[2020],imp_exp= 2)\n",
    "df = c.read_data()\n",
    "df = df[0][['year','SA_4','tradevalue','porcentaje','description','iso_3']].head()\n",
    "df"
   ]
  },
  {
   "cell_type": "code",
   "execution_count": 60,
   "metadata": {},
   "outputs": [
    {
     "data": {
      "application/vnd.plotly.v1+json": {
       "config": {
        "plotlyServerURL": "https://plot.ly"
       },
       "data": [
        {
         "coloraxis": "coloraxis",
         "geo": "geo",
         "hovertemplate": "iso_3=%{location}<br>Aumento/disminucion=%{z}<extra></extra>",
         "locations": [
          "BGR",
          "BGR",
          "MMR",
          "MMR",
          "KHM",
          "KHM",
          "DZA",
          "DZA",
          "CMR",
          "CMR",
          "CAN",
          "CAN",
          "LKA",
          "LKA",
          "CHL",
          "CHL",
          "CHN",
          "CHN",
          "COL",
          "COL",
          "CRI",
          "CRI",
          "CZE",
          "CZE",
          "DNK",
          "DNK",
          "DOM",
          "DOM",
          "ECU",
          "ECU",
          "SLV",
          "SLV",
          "EST",
          "EST",
          "FJI",
          "FJI",
          "FIN",
          "FIN",
          "FRA",
          "FRA",
          "GAB",
          "GAB",
          "DEU",
          "DEU",
          "GRC",
          "GRC",
          "ARG",
          "ARG",
          "GTM",
          "GTM",
          "GUY",
          "GUY",
          "HND",
          "HND",
          "HKG",
          "HKG",
          "HUN",
          "HUN",
          "ISL",
          "ISL",
          "AUS",
          "AUS",
          "IDN",
          "IDN",
          "IRL",
          "IRL",
          "ISR",
          "ISR",
          "ITA",
          "ITA",
          "CIV",
          "CIV",
          "JPN",
          "JPN",
          "KAZ",
          "KAZ",
          "AUT",
          "AUT",
          "KOR",
          "KOR",
          "LTU",
          "LTU",
          "LUX",
          "LUX",
          "MYS",
          "MYS",
          "BHR",
          "BHR",
          "TWN",
          "TWN",
          "BGD",
          "BGD",
          "MAR",
          "MAR",
          "MOZ",
          "MOZ",
          "OMN",
          "OMN",
          "NPL",
          "NPL",
          "NLD",
          "NLD",
          "NZL",
          "NZL",
          "NIC",
          "NIC",
          "BEL",
          "BEL",
          "NGA",
          "NGA",
          "NOR",
          "NOR",
          "PAK",
          "PAK",
          "PAN",
          "PAN",
          "PRY",
          "PRY",
          "PER",
          "PER",
          "PHL",
          "PHL",
          "POL",
          "POL",
          "PRT",
          "PRT",
          "QAT",
          "QAT",
          "ROU",
          "ROU",
          "RUS",
          "RUS",
          "BOL",
          "BOL",
          "IND",
          "IND",
          "BIH",
          "BIH",
          "SGP",
          "SGP",
          "SVK",
          "SVK",
          "VNM",
          "VNM",
          "SVN",
          "SVN",
          "ZAF",
          "ZAF",
          "ZWE",
          "ZWE",
          "ESP",
          "ESP",
          "SWE",
          "SWE",
          "CHE",
          "CHE",
          "BRA",
          "BRA",
          "THA",
          "THA",
          "TTO",
          "TTO",
          "ARE",
          "ARE",
          "TUN",
          "TUN",
          "TUR",
          "TUR",
          "UKR",
          "UKR",
          "EGY",
          "EGY",
          "GBR",
          "GBR",
          "USA",
          "USA",
          "URY",
          "URY"
         ],
         "name": "",
         "type": "choropleth",
         "z": [
          8.689287339291225,
          8.689287339291225,
          -2761.306281864903,
          -2761.306281864903,
          -423.70559155899946,
          -423.70559155899946,
          19.681181073449906,
          19.681181073449906,
          -20.543208666241853,
          -20.543208666241853,
          17.163465614150986,
          17.163465614150986,
          1.490670095461622,
          1.490670095461622,
          23.929802687896746,
          23.929802687896746,
          19.019003795041048,
          19.019003795041048,
          34.848375396189056,
          34.848375396189056,
          12.520953493316666,
          12.520953493316666,
          -116.37605901568804,
          -116.37605901568804,
          -172.15809470659775,
          -172.15809470659775,
          -544.7972474338454,
          -544.7972474338454,
          5.833480712788878,
          5.833480712788878,
          -235.49466075548372,
          -235.49466075548372,
          -347.9841738944535,
          -347.9841738944535,
          35.48224656559367,
          35.48224656559367,
          -210.3002773539025,
          -210.3002773539025,
          -46.30900560831196,
          -46.30900560831196,
          -72.13852597362005,
          -72.13852597362005,
          -35.86065534592625,
          -35.86065534592625,
          -82.0887074540131,
          -82.0887074540131,
          -25.041328509364508,
          -25.041328509364508,
          27.360208646275098,
          27.360208646275098,
          -113.9403164024789,
          -113.9403164024789,
          -24.868786684505064,
          -24.868786684505064,
          -298.28643755388583,
          -298.28643755388583,
          -166.97888733488614,
          -166.97888733488614,
          -22.468248815209016,
          -22.468248815209016,
          -214.6092182788815,
          -214.6092182788815,
          8.437758165365823,
          8.437758165365823,
          16.79491236126087,
          16.79491236126087,
          -199.85832770810578,
          -199.85832770810578,
          -21.43259993999252,
          -21.43259993999252,
          93.32968587106572,
          93.32968587106572,
          0.18080830564724437,
          0.18080830564724437,
          -57.66135207576277,
          -57.66135207576277,
          -22.699230293888085,
          -22.699230293888085,
          8.280118351613462,
          8.280118351613462,
          59.41223696687978,
          59.41223696687978,
          67.79313850313336,
          67.79313850313336,
          1.0580224144411559,
          1.0580224144411559,
          46.71832696655168,
          46.71832696655168,
          14.326145569135134,
          14.326145569135134,
          -118.76595661558595,
          -118.76595661558595,
          -3808.532310804771,
          -3808.532310804771,
          -4257.580452707877,
          -4257.580452707877,
          -10.876943001730496,
          -10.876943001730496,
          -764.434682650464,
          -764.434682650464,
          -4.528602791995459,
          -4.528602791995459,
          -33.49304680121406,
          -33.49304680121406,
          4.106866339420612,
          4.106866339420612,
          8.705077298168964,
          8.705077298168964,
          -1488.1815039889402,
          -1488.1815039889402,
          -143.8093059215318,
          -143.8093059215318,
          -43.2232052854818,
          -43.2232052854818,
          -93.78125622776915,
          -93.78125622776915,
          -370.24272761140156,
          -370.24272761140156,
          -9.910175329152795,
          -9.910175329152795,
          -2.446693938220752,
          -2.446693938220752,
          -101.11296229951164,
          -101.11296229951164,
          5.770846822465803,
          5.770846822465803,
          43.5466603223696,
          43.5466603223696,
          -81.77887639581782,
          -81.77887639581782,
          2.8992290482981375,
          2.8992290482981375,
          64.58508605518188,
          64.58508605518188,
          41.88174646817252,
          41.88174646817252,
          -432.1408734736428,
          -432.1408734736428,
          -48.250700381192345,
          -48.250700381192345,
          -266.0765353327806,
          -266.0765353327806,
          21.912389722893156,
          21.912389722893156,
          -9.316558683169642,
          -9.316558683169642,
          1.6114647734073495,
          1.6114647734073495,
          -1490.8170524818038,
          -1490.8170524818038,
          -34.95625588119095,
          -34.95625588119095,
          -25.007998056754605,
          -25.007998056754605,
          -7.533718286029649,
          -7.533718286029649,
          -9.666818267771532,
          -9.666818267771532,
          -20.106309579273407,
          -20.106309579273407,
          0.30047728546308283,
          0.30047728546308283,
          20.73277998517124,
          20.73277998517124,
          63.32866059702814,
          63.32866059702814,
          -34.10934482586382,
          -34.10934482586382,
          28.60367377893998,
          28.60367377893998,
          12.115837281338084,
          12.115837281338084,
          -121.23495655779585,
          -121.23495655779585,
          18.75996441966401,
          18.75996441966401,
          -44.103367287618354,
          -44.103367287618354
         ]
        }
       ],
       "layout": {
        "coloraxis": {
         "cmax": 100,
         "cmin": -100,
         "colorbar": {
          "title": {
           "text": "Aumento/disminucion"
          }
         },
         "colorscale": [
          [
           0,
           "#440154"
          ],
          [
           0.1111111111111111,
           "#482878"
          ],
          [
           0.2222222222222222,
           "#3e4989"
          ],
          [
           0.3333333333333333,
           "#31688e"
          ],
          [
           0.4444444444444444,
           "#26828e"
          ],
          [
           0.5555555555555556,
           "#1f9e89"
          ],
          [
           0.6666666666666666,
           "#35b779"
          ],
          [
           0.7777777777777778,
           "#6ece58"
          ],
          [
           0.8888888888888888,
           "#b5de2b"
          ],
          [
           1,
           "#fde725"
          ]
         ]
        },
        "geo": {
         "center": {},
         "domain": {
          "x": [
           0,
           1
          ],
          "y": [
           0,
           1
          ]
         },
         "scope": "world"
        },
        "legend": {
         "tracegroupgap": 0
        },
        "margin": {
         "b": 0,
         "l": 0,
         "r": 0,
         "t": 0
        },
        "template": {
         "data": {
          "bar": [
           {
            "error_x": {
             "color": "#2a3f5f"
            },
            "error_y": {
             "color": "#2a3f5f"
            },
            "marker": {
             "line": {
              "color": "#E5ECF6",
              "width": 0.5
             },
             "pattern": {
              "fillmode": "overlay",
              "size": 10,
              "solidity": 0.2
             }
            },
            "type": "bar"
           }
          ],
          "barpolar": [
           {
            "marker": {
             "line": {
              "color": "#E5ECF6",
              "width": 0.5
             },
             "pattern": {
              "fillmode": "overlay",
              "size": 10,
              "solidity": 0.2
             }
            },
            "type": "barpolar"
           }
          ],
          "carpet": [
           {
            "aaxis": {
             "endlinecolor": "#2a3f5f",
             "gridcolor": "white",
             "linecolor": "white",
             "minorgridcolor": "white",
             "startlinecolor": "#2a3f5f"
            },
            "baxis": {
             "endlinecolor": "#2a3f5f",
             "gridcolor": "white",
             "linecolor": "white",
             "minorgridcolor": "white",
             "startlinecolor": "#2a3f5f"
            },
            "type": "carpet"
           }
          ],
          "choropleth": [
           {
            "colorbar": {
             "outlinewidth": 0,
             "ticks": ""
            },
            "type": "choropleth"
           }
          ],
          "contour": [
           {
            "colorbar": {
             "outlinewidth": 0,
             "ticks": ""
            },
            "colorscale": [
             [
              0,
              "#0d0887"
             ],
             [
              0.1111111111111111,
              "#46039f"
             ],
             [
              0.2222222222222222,
              "#7201a8"
             ],
             [
              0.3333333333333333,
              "#9c179e"
             ],
             [
              0.4444444444444444,
              "#bd3786"
             ],
             [
              0.5555555555555556,
              "#d8576b"
             ],
             [
              0.6666666666666666,
              "#ed7953"
             ],
             [
              0.7777777777777778,
              "#fb9f3a"
             ],
             [
              0.8888888888888888,
              "#fdca26"
             ],
             [
              1,
              "#f0f921"
             ]
            ],
            "type": "contour"
           }
          ],
          "contourcarpet": [
           {
            "colorbar": {
             "outlinewidth": 0,
             "ticks": ""
            },
            "type": "contourcarpet"
           }
          ],
          "heatmap": [
           {
            "colorbar": {
             "outlinewidth": 0,
             "ticks": ""
            },
            "colorscale": [
             [
              0,
              "#0d0887"
             ],
             [
              0.1111111111111111,
              "#46039f"
             ],
             [
              0.2222222222222222,
              "#7201a8"
             ],
             [
              0.3333333333333333,
              "#9c179e"
             ],
             [
              0.4444444444444444,
              "#bd3786"
             ],
             [
              0.5555555555555556,
              "#d8576b"
             ],
             [
              0.6666666666666666,
              "#ed7953"
             ],
             [
              0.7777777777777778,
              "#fb9f3a"
             ],
             [
              0.8888888888888888,
              "#fdca26"
             ],
             [
              1,
              "#f0f921"
             ]
            ],
            "type": "heatmap"
           }
          ],
          "heatmapgl": [
           {
            "colorbar": {
             "outlinewidth": 0,
             "ticks": ""
            },
            "colorscale": [
             [
              0,
              "#0d0887"
             ],
             [
              0.1111111111111111,
              "#46039f"
             ],
             [
              0.2222222222222222,
              "#7201a8"
             ],
             [
              0.3333333333333333,
              "#9c179e"
             ],
             [
              0.4444444444444444,
              "#bd3786"
             ],
             [
              0.5555555555555556,
              "#d8576b"
             ],
             [
              0.6666666666666666,
              "#ed7953"
             ],
             [
              0.7777777777777778,
              "#fb9f3a"
             ],
             [
              0.8888888888888888,
              "#fdca26"
             ],
             [
              1,
              "#f0f921"
             ]
            ],
            "type": "heatmapgl"
           }
          ],
          "histogram": [
           {
            "marker": {
             "pattern": {
              "fillmode": "overlay",
              "size": 10,
              "solidity": 0.2
             }
            },
            "type": "histogram"
           }
          ],
          "histogram2d": [
           {
            "colorbar": {
             "outlinewidth": 0,
             "ticks": ""
            },
            "colorscale": [
             [
              0,
              "#0d0887"
             ],
             [
              0.1111111111111111,
              "#46039f"
             ],
             [
              0.2222222222222222,
              "#7201a8"
             ],
             [
              0.3333333333333333,
              "#9c179e"
             ],
             [
              0.4444444444444444,
              "#bd3786"
             ],
             [
              0.5555555555555556,
              "#d8576b"
             ],
             [
              0.6666666666666666,
              "#ed7953"
             ],
             [
              0.7777777777777778,
              "#fb9f3a"
             ],
             [
              0.8888888888888888,
              "#fdca26"
             ],
             [
              1,
              "#f0f921"
             ]
            ],
            "type": "histogram2d"
           }
          ],
          "histogram2dcontour": [
           {
            "colorbar": {
             "outlinewidth": 0,
             "ticks": ""
            },
            "colorscale": [
             [
              0,
              "#0d0887"
             ],
             [
              0.1111111111111111,
              "#46039f"
             ],
             [
              0.2222222222222222,
              "#7201a8"
             ],
             [
              0.3333333333333333,
              "#9c179e"
             ],
             [
              0.4444444444444444,
              "#bd3786"
             ],
             [
              0.5555555555555556,
              "#d8576b"
             ],
             [
              0.6666666666666666,
              "#ed7953"
             ],
             [
              0.7777777777777778,
              "#fb9f3a"
             ],
             [
              0.8888888888888888,
              "#fdca26"
             ],
             [
              1,
              "#f0f921"
             ]
            ],
            "type": "histogram2dcontour"
           }
          ],
          "mesh3d": [
           {
            "colorbar": {
             "outlinewidth": 0,
             "ticks": ""
            },
            "type": "mesh3d"
           }
          ],
          "parcoords": [
           {
            "line": {
             "colorbar": {
              "outlinewidth": 0,
              "ticks": ""
             }
            },
            "type": "parcoords"
           }
          ],
          "pie": [
           {
            "automargin": true,
            "type": "pie"
           }
          ],
          "scatter": [
           {
            "fillpattern": {
             "fillmode": "overlay",
             "size": 10,
             "solidity": 0.2
            },
            "type": "scatter"
           }
          ],
          "scatter3d": [
           {
            "line": {
             "colorbar": {
              "outlinewidth": 0,
              "ticks": ""
             }
            },
            "marker": {
             "colorbar": {
              "outlinewidth": 0,
              "ticks": ""
             }
            },
            "type": "scatter3d"
           }
          ],
          "scattercarpet": [
           {
            "marker": {
             "colorbar": {
              "outlinewidth": 0,
              "ticks": ""
             }
            },
            "type": "scattercarpet"
           }
          ],
          "scattergeo": [
           {
            "marker": {
             "colorbar": {
              "outlinewidth": 0,
              "ticks": ""
             }
            },
            "type": "scattergeo"
           }
          ],
          "scattergl": [
           {
            "marker": {
             "colorbar": {
              "outlinewidth": 0,
              "ticks": ""
             }
            },
            "type": "scattergl"
           }
          ],
          "scattermapbox": [
           {
            "marker": {
             "colorbar": {
              "outlinewidth": 0,
              "ticks": ""
             }
            },
            "type": "scattermapbox"
           }
          ],
          "scatterpolar": [
           {
            "marker": {
             "colorbar": {
              "outlinewidth": 0,
              "ticks": ""
             }
            },
            "type": "scatterpolar"
           }
          ],
          "scatterpolargl": [
           {
            "marker": {
             "colorbar": {
              "outlinewidth": 0,
              "ticks": ""
             }
            },
            "type": "scatterpolargl"
           }
          ],
          "scatterternary": [
           {
            "marker": {
             "colorbar": {
              "outlinewidth": 0,
              "ticks": ""
             }
            },
            "type": "scatterternary"
           }
          ],
          "surface": [
           {
            "colorbar": {
             "outlinewidth": 0,
             "ticks": ""
            },
            "colorscale": [
             [
              0,
              "#0d0887"
             ],
             [
              0.1111111111111111,
              "#46039f"
             ],
             [
              0.2222222222222222,
              "#7201a8"
             ],
             [
              0.3333333333333333,
              "#9c179e"
             ],
             [
              0.4444444444444444,
              "#bd3786"
             ],
             [
              0.5555555555555556,
              "#d8576b"
             ],
             [
              0.6666666666666666,
              "#ed7953"
             ],
             [
              0.7777777777777778,
              "#fb9f3a"
             ],
             [
              0.8888888888888888,
              "#fdca26"
             ],
             [
              1,
              "#f0f921"
             ]
            ],
            "type": "surface"
           }
          ],
          "table": [
           {
            "cells": {
             "fill": {
              "color": "#EBF0F8"
             },
             "line": {
              "color": "white"
             }
            },
            "header": {
             "fill": {
              "color": "#C8D4E3"
             },
             "line": {
              "color": "white"
             }
            },
            "type": "table"
           }
          ]
         },
         "layout": {
          "annotationdefaults": {
           "arrowcolor": "#2a3f5f",
           "arrowhead": 0,
           "arrowwidth": 1
          },
          "autotypenumbers": "strict",
          "coloraxis": {
           "colorbar": {
            "outlinewidth": 0,
            "ticks": ""
           }
          },
          "colorscale": {
           "diverging": [
            [
             0,
             "#8e0152"
            ],
            [
             0.1,
             "#c51b7d"
            ],
            [
             0.2,
             "#de77ae"
            ],
            [
             0.3,
             "#f1b6da"
            ],
            [
             0.4,
             "#fde0ef"
            ],
            [
             0.5,
             "#f7f7f7"
            ],
            [
             0.6,
             "#e6f5d0"
            ],
            [
             0.7,
             "#b8e186"
            ],
            [
             0.8,
             "#7fbc41"
            ],
            [
             0.9,
             "#4d9221"
            ],
            [
             1,
             "#276419"
            ]
           ],
           "sequential": [
            [
             0,
             "#0d0887"
            ],
            [
             0.1111111111111111,
             "#46039f"
            ],
            [
             0.2222222222222222,
             "#7201a8"
            ],
            [
             0.3333333333333333,
             "#9c179e"
            ],
            [
             0.4444444444444444,
             "#bd3786"
            ],
            [
             0.5555555555555556,
             "#d8576b"
            ],
            [
             0.6666666666666666,
             "#ed7953"
            ],
            [
             0.7777777777777778,
             "#fb9f3a"
            ],
            [
             0.8888888888888888,
             "#fdca26"
            ],
            [
             1,
             "#f0f921"
            ]
           ],
           "sequentialminus": [
            [
             0,
             "#0d0887"
            ],
            [
             0.1111111111111111,
             "#46039f"
            ],
            [
             0.2222222222222222,
             "#7201a8"
            ],
            [
             0.3333333333333333,
             "#9c179e"
            ],
            [
             0.4444444444444444,
             "#bd3786"
            ],
            [
             0.5555555555555556,
             "#d8576b"
            ],
            [
             0.6666666666666666,
             "#ed7953"
            ],
            [
             0.7777777777777778,
             "#fb9f3a"
            ],
            [
             0.8888888888888888,
             "#fdca26"
            ],
            [
             1,
             "#f0f921"
            ]
           ]
          },
          "colorway": [
           "#636efa",
           "#EF553B",
           "#00cc96",
           "#ab63fa",
           "#FFA15A",
           "#19d3f3",
           "#FF6692",
           "#B6E880",
           "#FF97FF",
           "#FECB52"
          ],
          "font": {
           "color": "#2a3f5f"
          },
          "geo": {
           "bgcolor": "white",
           "lakecolor": "white",
           "landcolor": "#E5ECF6",
           "showlakes": true,
           "showland": true,
           "subunitcolor": "white"
          },
          "hoverlabel": {
           "align": "left"
          },
          "hovermode": "closest",
          "mapbox": {
           "style": "light"
          },
          "paper_bgcolor": "white",
          "plot_bgcolor": "#E5ECF6",
          "polar": {
           "angularaxis": {
            "gridcolor": "white",
            "linecolor": "white",
            "ticks": ""
           },
           "bgcolor": "#E5ECF6",
           "radialaxis": {
            "gridcolor": "white",
            "linecolor": "white",
            "ticks": ""
           }
          },
          "scene": {
           "xaxis": {
            "backgroundcolor": "#E5ECF6",
            "gridcolor": "white",
            "gridwidth": 2,
            "linecolor": "white",
            "showbackground": true,
            "ticks": "",
            "zerolinecolor": "white"
           },
           "yaxis": {
            "backgroundcolor": "#E5ECF6",
            "gridcolor": "white",
            "gridwidth": 2,
            "linecolor": "white",
            "showbackground": true,
            "ticks": "",
            "zerolinecolor": "white"
           },
           "zaxis": {
            "backgroundcolor": "#E5ECF6",
            "gridcolor": "white",
            "gridwidth": 2,
            "linecolor": "white",
            "showbackground": true,
            "ticks": "",
            "zerolinecolor": "white"
           }
          },
          "shapedefaults": {
           "line": {
            "color": "#2a3f5f"
           }
          },
          "ternary": {
           "aaxis": {
            "gridcolor": "white",
            "linecolor": "white",
            "ticks": ""
           },
           "baxis": {
            "gridcolor": "white",
            "linecolor": "white",
            "ticks": ""
           },
           "bgcolor": "#E5ECF6",
           "caxis": {
            "gridcolor": "white",
            "linecolor": "white",
            "ticks": ""
           }
          },
          "title": {
           "x": 0.05
          },
          "xaxis": {
           "automargin": true,
           "gridcolor": "white",
           "linecolor": "white",
           "ticks": "",
           "title": {
            "standoff": 15
           },
           "zerolinecolor": "white",
           "zerolinewidth": 2
          },
          "yaxis": {
           "automargin": true,
           "gridcolor": "white",
           "linecolor": "white",
           "ticks": "",
           "title": {
            "standoff": 15
           },
           "zerolinecolor": "white",
           "zerolinewidth": 2
          }
         }
        },
        "title": {
         "text": "Cambio en el valor de importaciones del 2020 al 2021"
        }
       }
      }
     },
     "metadata": {},
     "output_type": "display_data"
    }
   ],
   "source": [
    "c = Data('world_trade_',reporting_country='484',year=[2021,2020],imp_exp=1)\n",
    "m = c.cambio_porcentualImpExp()\n",
    "c.grafica_incrementoMercado_pais(m,scope_='world',periodo=c.year,imp_exp=c.imp_exp)"
   ]
  },
  {
   "cell_type": "code",
   "execution_count": 58,
   "metadata": {},
   "outputs": [
    {
     "data": {
      "application/vnd.plotly.v1+json": {
       "config": {
        "plotlyServerURL": "https://plot.ly"
       },
       "data": [
        {
         "branchvalues": "total",
         "domain": {
          "x": [
           0,
           1
          ],
          "y": [
           0,
           1
          ]
         },
         "hovertemplate": "labels=%{label}<br>tradevalue=%{value}<br>parent=%{parent}<br>id=%{id}<extra></extra>",
         "ids": [
          "Madera, carbón vegetal y manufacturas de madera; corcho y sus manufacturas; manufacturas de espartería o cestería/ALB",
          "Mercancías y productos diversos/ARE",
          "Metales comunes y manufacturas de esos metales/ARE",
          "Productos del reino vegetal/ARE",
          "Productos minerales/ARE",
          "Grasas y aceites animales o vegetales; productos de su desdoblamiento; grasas alimenticias elaboradas; ceras de origen animal o vegetal/ARG",
          "Instrumentos y aparatos de óptica, fotografía o cinematografía, de medida, control o precisión; instrumentos y aparatos médicoquirúrgicos; aparatos de relojería; instrumentos musicales; partes y accesorios de estos instrumentos o aparatos/ARG",
          "Madera, carbón vegetal y manufacturas de madera; corcho y sus manufacturas; manufacturas de espartería o cestería/ARG",
          "Materias textiles y sus manufacturas/ARG",
          "Mercancías y productos diversos/ARG",
          "Metales comunes y manufacturas de esos metales/ARG",
          "Máquinas y aparatos, material eléctrico y sus partes; aparatos de grabación o reproducción de sonido, aparatos de grabación o reproducción de imagen y sonido en televisión, y las partes y accesorios de estos aparatos/ARG",
          "Pieles, cueros, peletería y manufacturas de estas materias; artículos de talabartería o guarnicionería; artículos de viaje, bolsos de mano (carteras) y continentes similares; manufacturas de tripa/ARG",
          "Productos de las industrias alimentarias; bebidas, líquidos alcohólicos y vinagre; tabaco y sucedáneos del tabaco elaborados/ARG",
          "Productos de las industrias químicas o de las industrias conexas/ARG",
          "Productos del reino vegetal/ARG",
          "Animales vivos y productos del reino animal/AUS",
          "Instrumentos y aparatos de óptica, fotografía o cinematografía, de medida, control o precisión; instrumentos y aparatos médicoquirúrgicos; aparatos de relojería; instrumentos musicales; partes y accesorios de estos instrumentos o aparatos/AUS",
          "Metales comunes y manufacturas de esos metales/AUS",
          "Máquinas y aparatos, material eléctrico y sus partes; aparatos de grabación o reproducción de sonido, aparatos de grabación o reproducción de imagen y sonido en televisión, y las partes y accesorios de estos aparatos/AUS",
          "Pasta de madera o de las demás materias fibrosas celulósicas; papel o cartón para reciclar (desperdicios y desechos); papel o cartón y sus aplicaciones/AUS",
          "Perlas finas (naturales) o cultivadas, piedras preciosas o semipreciosas, metales preciosos, chapados de metal precioso (plaqué) y manufacturas de estas materias; bisutería; monedas/AUS",
          "Plástico y sus manufacturas; caucho y sus manufacturas/AUS",
          "Productos de las industrias alimentarias; bebidas, líquidos alcohólicos y vinagre; tabaco y sucedáneos del tabaco elaborados/AUS",
          "Productos de las industrias químicas o de las industrias conexas/AUS",
          "Productos del reino vegetal/AUS",
          "Productos minerales/AUS",
          "Animales vivos y productos del reino animal/AUT",
          "Instrumentos y aparatos de óptica, fotografía o cinematografía, de medida, control o precisión; instrumentos y aparatos médicoquirúrgicos; aparatos de relojería; instrumentos musicales; partes y accesorios de estos instrumentos o aparatos/AUT",
          "Madera, carbón vegetal y manufacturas de madera; corcho y sus manufacturas; manufacturas de espartería o cestería/AUT",
          "Manufacturas de piedra, yeso fraguable, cemento, amianto (asbesto), mica o materias análogas; productos cerámicos; vidrio y manufacturas de vidrio/AUT",
          "Material de transporte/AUT",
          "Materias textiles y sus manufacturas/AUT",
          "Mercancías y productos diversos/AUT",
          "Metales comunes y manufacturas de esos metales/AUT",
          "Máquinas y aparatos, material eléctrico y sus partes; aparatos de grabación o reproducción de sonido, aparatos de grabación o reproducción de imagen y sonido en televisión, y las partes y accesorios de estos aparatos/AUT",
          "Objetos de arte o colección y antigüedades/AUT",
          "Pasta de madera o de las demás materias fibrosas celulósicas; papel o cartón para reciclar (desperdicios y desechos); papel o cartón y sus aplicaciones/AUT",
          "Perlas finas (naturales) o cultivadas, piedras preciosas o semipreciosas, metales preciosos, chapados de metal precioso (plaqué) y manufacturas de estas materias; bisutería; monedas/AUT",
          "Plástico y sus manufacturas; caucho y sus manufacturas/AUT",
          "Productos de las industrias alimentarias; bebidas, líquidos alcohólicos y vinagre; tabaco y sucedáneos del tabaco elaborados/AUT",
          "Productos de las industrias químicas o de las industrias conexas/AUT",
          "Productos del reino vegetal/AUT",
          "Productos minerales/AUT",
          "Animales vivos y productos del reino animal/BEL",
          "Calzado, sombreros y demás tocados, paraguas, quitasoles, bastones, látigos, fustas y sus partes; plumas preparadas y artículos de plumas; flores artificiales; manufacturas de cabello/BEL",
          "Instrumentos y aparatos de óptica, fotografía o cinematografía, de medida, control o precisión; instrumentos y aparatos médicoquirúrgicos; aparatos de relojería; instrumentos musicales; partes y accesorios de estos instrumentos o aparatos/BEL",
          "Madera, carbón vegetal y manufacturas de madera; corcho y sus manufacturas; manufacturas de espartería o cestería/BEL",
          "Manufacturas de piedra, yeso fraguable, cemento, amianto (asbesto), mica o materias análogas; productos cerámicos; vidrio y manufacturas de vidrio/BEL",
          "Material de transporte/BEL",
          "Materias textiles y sus manufacturas/BEL",
          "Mercancías y productos diversos/BEL",
          "Metales comunes y manufacturas de esos metales/BEL",
          "Máquinas y aparatos, material eléctrico y sus partes; aparatos de grabación o reproducción de sonido, aparatos de grabación o reproducción de imagen y sonido en televisión, y las partes y accesorios de estos aparatos/BEL",
          "Objetos de arte o colección y antigüedades/BEL",
          "Pasta de madera o de las demás materias fibrosas celulósicas; papel o cartón para reciclar (desperdicios y desechos); papel o cartón y sus aplicaciones/BEL",
          "Perlas finas (naturales) o cultivadas, piedras preciosas o semipreciosas, metales preciosos, chapados de metal precioso (plaqué) y manufacturas de estas materias; bisutería; monedas/BEL",
          "Plástico y sus manufacturas; caucho y sus manufacturas/BEL",
          "Productos de las industrias alimentarias; bebidas, líquidos alcohólicos y vinagre; tabaco y sucedáneos del tabaco elaborados/BEL",
          "Productos de las industrias químicas o de las industrias conexas/BEL",
          "Productos del reino vegetal/BEL",
          "Productos minerales/BEL",
          "Calzado, sombreros y demás tocados, paraguas, quitasoles, bastones, látigos, fustas y sus partes; plumas preparadas y artículos de plumas; flores artificiales; manufacturas de cabello/BGD",
          "Instrumentos y aparatos de óptica, fotografía o cinematografía, de medida, control o precisión; instrumentos y aparatos médicoquirúrgicos; aparatos de relojería; instrumentos musicales; partes y accesorios de estos instrumentos o aparatos/BGD",
          "Materias textiles y sus manufacturas/BGD",
          "Mercancías y productos diversos/BGD",
          "Manufacturas de piedra, yeso fraguable, cemento, amianto (asbesto), mica o materias análogas; productos cerámicos; vidrio y manufacturas de vidrio/BGR",
          "Material de transporte/BGR",
          "Materias textiles y sus manufacturas/BGR",
          "Metales comunes y manufacturas de esos metales/BGR",
          "Máquinas y aparatos, material eléctrico y sus partes; aparatos de grabación o reproducción de sonido, aparatos de grabación o reproducción de imagen y sonido en televisión, y las partes y accesorios de estos aparatos/BGR",
          "Productos del reino vegetal/BGR",
          "Metales comunes y manufacturas de esos metales/BHR",
          "Metales comunes y manufacturas de esos metales/BIH",
          "Máquinas y aparatos, material eléctrico y sus partes; aparatos de grabación o reproducción de sonido, aparatos de grabación o reproducción de imagen y sonido en televisión, y las partes y accesorios de estos aparatos/BIH",
          "Productos de las industrias químicas o de las industrias conexas/BIH",
          "Metales comunes y manufacturas de esos metales/BLZ",
          "Calzado, sombreros y demás tocados, paraguas, quitasoles, bastones, látigos, fustas y sus partes; plumas preparadas y artículos de plumas; flores artificiales; manufacturas de cabello/BOL",
          "Madera, carbón vegetal y manufacturas de madera; corcho y sus manufacturas; manufacturas de espartería o cestería/BOL",
          "Pieles, cueros, peletería y manufacturas de estas materias; artículos de talabartería o guarnicionería; artículos de viaje, bolsos de mano (carteras) y continentes similares; manufacturas de tripa/BOL",
          "Productos minerales/BOL",
          "Animales vivos y productos del reino animal/BRA",
          "Calzado, sombreros y demás tocados, paraguas, quitasoles, bastones, látigos, fustas y sus partes; plumas preparadas y artículos de plumas; flores artificiales; manufacturas de cabello/BRA",
          "Grasas y aceites animales o vegetales; productos de su desdoblamiento; grasas alimenticias elaboradas; ceras de origen animal o vegetal/BRA",
          "Instrumentos y aparatos de óptica, fotografía o cinematografía, de medida, control o precisión; instrumentos y aparatos médicoquirúrgicos; aparatos de relojería; instrumentos musicales; partes y accesorios de estos instrumentos o aparatos/BRA",
          "Madera, carbón vegetal y manufacturas de madera; corcho y sus manufacturas; manufacturas de espartería o cestería/BRA",
          "Manufacturas de piedra, yeso fraguable, cemento, amianto (asbesto), mica o materias análogas; productos cerámicos; vidrio y manufacturas de vidrio/BRA",
          "Material de transporte/BRA",
          "Materias textiles y sus manufacturas/BRA",
          "Mercancías y productos diversos/BRA",
          "Metales comunes y manufacturas de esos metales/BRA",
          "Máquinas y aparatos, material eléctrico y sus partes; aparatos de grabación o reproducción de sonido, aparatos de grabación o reproducción de imagen y sonido en televisión, y las partes y accesorios de estos aparatos/BRA",
          "Pasta de madera o de las demás materias fibrosas celulósicas; papel o cartón para reciclar (desperdicios y desechos); papel o cartón y sus aplicaciones/BRA",
          "Perlas finas (naturales) o cultivadas, piedras preciosas o semipreciosas, metales preciosos, chapados de metal precioso (plaqué) y manufacturas de estas materias; bisutería; monedas/BRA",
          "Pieles, cueros, peletería y manufacturas de estas materias; artículos de talabartería o guarnicionería; artículos de viaje, bolsos de mano (carteras) y continentes similares; manufacturas de tripa/BRA",
          "Plástico y sus manufacturas; caucho y sus manufacturas/BRA",
          "Productos de las industrias alimentarias; bebidas, líquidos alcohólicos y vinagre; tabaco y sucedáneos del tabaco elaborados/BRA",
          "Productos de las industrias químicas o de las industrias conexas/BRA",
          "Productos del reino vegetal/BRA",
          "Productos minerales/BRA",
          "Animales vivos y productos del reino animal/CAN",
          "Calzado, sombreros y demás tocados, paraguas, quitasoles, bastones, látigos, fustas y sus partes; plumas preparadas y artículos de plumas; flores artificiales; manufacturas de cabello/CAN",
          "Grasas y aceites animales o vegetales; productos de su desdoblamiento; grasas alimenticias elaboradas; ceras de origen animal o vegetal/CAN",
          "Instrumentos y aparatos de óptica, fotografía o cinematografía, de medida, control o precisión; instrumentos y aparatos médicoquirúrgicos; aparatos de relojería; instrumentos musicales; partes y accesorios de estos instrumentos o aparatos/CAN",
          "Madera, carbón vegetal y manufacturas de madera; corcho y sus manufacturas; manufacturas de espartería o cestería/CAN",
          "Manufacturas de piedra, yeso fraguable, cemento, amianto (asbesto), mica o materias análogas; productos cerámicos; vidrio y manufacturas de vidrio/CAN",
          "Material de transporte/CAN",
          "Materias textiles y sus manufacturas/CAN",
          "Mercancías y productos diversos/CAN",
          "Metales comunes y manufacturas de esos metales/CAN",
          "Máquinas y aparatos, material eléctrico y sus partes; aparatos de grabación o reproducción de sonido, aparatos de grabación o reproducción de imagen y sonido en televisión, y las partes y accesorios de estos aparatos/CAN",
          "Objetos de arte o colección y antigüedades/CAN",
          "Pasta de madera o de las demás materias fibrosas celulósicas; papel o cartón para reciclar (desperdicios y desechos); papel o cartón y sus aplicaciones/CAN",
          "Perlas finas (naturales) o cultivadas, piedras preciosas o semipreciosas, metales preciosos, chapados de metal precioso (plaqué) y manufacturas de estas materias; bisutería; monedas/CAN",
          "Pieles, cueros, peletería y manufacturas de estas materias; artículos de talabartería o guarnicionería; artículos de viaje, bolsos de mano (carteras) y continentes similares; manufacturas de tripa/CAN",
          "Plástico y sus manufacturas; caucho y sus manufacturas/CAN",
          "Productos de las industrias alimentarias; bebidas, líquidos alcohólicos y vinagre; tabaco y sucedáneos del tabaco elaborados/CAN",
          "Productos de las industrias químicas o de las industrias conexas/CAN",
          "Productos del reino vegetal/CAN",
          "Productos minerales/CAN",
          "Animales vivos y productos del reino animal/CHE",
          "Grasas y aceites animales o vegetales; productos de su desdoblamiento; grasas alimenticias elaboradas; ceras de origen animal o vegetal/CHE",
          "Instrumentos y aparatos de óptica, fotografía o cinematografía, de medida, control o precisión; instrumentos y aparatos médicoquirúrgicos; aparatos de relojería; instrumentos musicales; partes y accesorios de estos instrumentos o aparatos/CHE",
          "Manufacturas de piedra, yeso fraguable, cemento, amianto (asbesto), mica o materias análogas; productos cerámicos; vidrio y manufacturas de vidrio/CHE",
          "Materias textiles y sus manufacturas/CHE",
          "Mercancías y productos diversos/CHE",
          "Metales comunes y manufacturas de esos metales/CHE",
          "Máquinas y aparatos, material eléctrico y sus partes; aparatos de grabación o reproducción de sonido, aparatos de grabación o reproducción de imagen y sonido en televisión, y las partes y accesorios de estos aparatos/CHE",
          "Objetos de arte o colección y antigüedades/CHE",
          "Pasta de madera o de las demás materias fibrosas celulósicas; papel o cartón para reciclar (desperdicios y desechos); papel o cartón y sus aplicaciones/CHE",
          "Perlas finas (naturales) o cultivadas, piedras preciosas o semipreciosas, metales preciosos, chapados de metal precioso (plaqué) y manufacturas de estas materias; bisutería; monedas/CHE",
          "Plástico y sus manufacturas; caucho y sus manufacturas/CHE",
          "Productos de las industrias alimentarias; bebidas, líquidos alcohólicos y vinagre; tabaco y sucedáneos del tabaco elaborados/CHE",
          "Productos de las industrias químicas o de las industrias conexas/CHE",
          "Productos minerales/CHE",
          "Animales vivos y productos del reino animal/CHL",
          "Grasas y aceites animales o vegetales; productos de su desdoblamiento; grasas alimenticias elaboradas; ceras de origen animal o vegetal/CHL",
          "Madera, carbón vegetal y manufacturas de madera; corcho y sus manufacturas; manufacturas de espartería o cestería/CHL",
          "Material de transporte/CHL",
          "Materias textiles y sus manufacturas/CHL",
          "Metales comunes y manufacturas de esos metales/CHL",
          "Pasta de madera o de las demás materias fibrosas celulósicas; papel o cartón para reciclar (desperdicios y desechos); papel o cartón y sus aplicaciones/CHL",
          "Pieles, cueros, peletería y manufacturas de estas materias; artículos de talabartería o guarnicionería; artículos de viaje, bolsos de mano (carteras) y continentes similares; manufacturas de tripa/CHL",
          "Productos de las industrias alimentarias; bebidas, líquidos alcohólicos y vinagre; tabaco y sucedáneos del tabaco elaborados/CHL",
          "Productos de las industrias químicas o de las industrias conexas/CHL",
          "Productos del reino vegetal/CHL",
          "Productos minerales/CHL",
          "Animales vivos y productos del reino animal/CHN",
          "Armas, municiones, y sus partes y accesorios/CHN",
          "Calzado, sombreros y demás tocados, paraguas, quitasoles, bastones, látigos, fustas y sus partes; plumas preparadas y artículos de plumas; flores artificiales; manufacturas de cabello/CHN",
          "Grasas y aceites animales o vegetales; productos de su desdoblamiento; grasas alimenticias elaboradas; ceras de origen animal o vegetal/CHN",
          "Instrumentos y aparatos de óptica, fotografía o cinematografía, de medida, control o precisión; instrumentos y aparatos médicoquirúrgicos; aparatos de relojería; instrumentos musicales; partes y accesorios de estos instrumentos o aparatos/CHN",
          "Madera, carbón vegetal y manufacturas de madera; corcho y sus manufacturas; manufacturas de espartería o cestería/CHN",
          "Manufacturas de piedra, yeso fraguable, cemento, amianto (asbesto), mica o materias análogas; productos cerámicos; vidrio y manufacturas de vidrio/CHN",
          "Material de transporte/CHN",
          "Materias textiles y sus manufacturas/CHN",
          "Mercancías y productos diversos/CHN",
          "Metales comunes y manufacturas de esos metales/CHN",
          "Máquinas y aparatos, material eléctrico y sus partes; aparatos de grabación o reproducción de sonido, aparatos de grabación o reproducción de imagen y sonido en televisión, y las partes y accesorios de estos aparatos/CHN",
          "Objetos de arte o colección y antigüedades/CHN",
          "Pasta de madera o de las demás materias fibrosas celulósicas; papel o cartón para reciclar (desperdicios y desechos); papel o cartón y sus aplicaciones/CHN",
          "Perlas finas (naturales) o cultivadas, piedras preciosas o semipreciosas, metales preciosos, chapados de metal precioso (plaqué) y manufacturas de estas materias; bisutería; monedas/CHN",
          "Pieles, cueros, peletería y manufacturas de estas materias; artículos de talabartería o guarnicionería; artículos de viaje, bolsos de mano (carteras) y continentes similares; manufacturas de tripa/CHN",
          "Plástico y sus manufacturas; caucho y sus manufacturas/CHN",
          "Productos de las industrias alimentarias; bebidas, líquidos alcohólicos y vinagre; tabaco y sucedáneos del tabaco elaborados/CHN",
          "Productos de las industrias químicas o de las industrias conexas/CHN",
          "Productos del reino vegetal/CHN",
          "Productos minerales/CHN",
          "Productos de las industrias alimentarias; bebidas, líquidos alcohólicos y vinagre; tabaco y sucedáneos del tabaco elaborados/CIV",
          "Madera, carbón vegetal y manufacturas de madera; corcho y sus manufacturas; manufacturas de espartería o cestería/CMR",
          "Madera, carbón vegetal y manufacturas de madera; corcho y sus manufacturas; manufacturas de espartería o cestería/COG",
          "Animales vivos y productos del reino animal/COL",
          "Calzado, sombreros y demás tocados, paraguas, quitasoles, bastones, látigos, fustas y sus partes; plumas preparadas y artículos de plumas; flores artificiales; manufacturas de cabello/COL",
          "Grasas y aceites animales o vegetales; productos de su desdoblamiento; grasas alimenticias elaboradas; ceras de origen animal o vegetal/COL",
          "Madera, carbón vegetal y manufacturas de madera; corcho y sus manufacturas; manufacturas de espartería o cestería/COL",
          "Manufacturas de piedra, yeso fraguable, cemento, amianto (asbesto), mica o materias análogas; productos cerámicos; vidrio y manufacturas de vidrio/COL",
          "Materias textiles y sus manufacturas/COL",
          "Mercancías y productos diversos/COL",
          "Metales comunes y manufacturas de esos metales/COL",
          "Máquinas y aparatos, material eléctrico y sus partes; aparatos de grabación o reproducción de sonido, aparatos de grabación o reproducción de imagen y sonido en televisión, y las partes y accesorios de estos aparatos/COL",
          "Pasta de madera o de las demás materias fibrosas celulósicas; papel o cartón para reciclar (desperdicios y desechos); papel o cartón y sus aplicaciones/COL",
          "Pieles, cueros, peletería y manufacturas de estas materias; artículos de talabartería o guarnicionería; artículos de viaje, bolsos de mano (carteras) y continentes similares; manufacturas de tripa/COL",
          "Plástico y sus manufacturas; caucho y sus manufacturas/COL",
          "Productos de las industrias alimentarias; bebidas, líquidos alcohólicos y vinagre; tabaco y sucedáneos del tabaco elaborados/COL",
          "Productos de las industrias químicas o de las industrias conexas/COL",
          "Productos del reino vegetal/COL",
          "Productos minerales/COL",
          "Grasas y aceites animales o vegetales; productos de su desdoblamiento; grasas alimenticias elaboradas; ceras de origen animal o vegetal/CRI",
          "Instrumentos y aparatos de óptica, fotografía o cinematografía, de medida, control o precisión; instrumentos y aparatos médicoquirúrgicos; aparatos de relojería; instrumentos musicales; partes y accesorios de estos instrumentos o aparatos/CRI",
          "Materias textiles y sus manufacturas/CRI",
          "Mercancías y productos diversos/CRI",
          "Máquinas y aparatos, material eléctrico y sus partes; aparatos de grabación o reproducción de sonido, aparatos de grabación o reproducción de imagen y sonido en televisión, y las partes y accesorios de estos aparatos/CRI",
          "Plástico y sus manufacturas; caucho y sus manufacturas/CRI",
          "Productos de las industrias alimentarias; bebidas, líquidos alcohólicos y vinagre; tabaco y sucedáneos del tabaco elaborados/CRI",
          "Productos del reino vegetal/CRI",
          "Productos de las industrias alimentarias; bebidas, líquidos alcohólicos y vinagre; tabaco y sucedáneos del tabaco elaborados/CUB",
          "Pasta de madera o de las demás materias fibrosas celulósicas; papel o cartón para reciclar (desperdicios y desechos); papel o cartón y sus aplicaciones/CYP",
          "Instrumentos y aparatos de óptica, fotografía o cinematografía, de medida, control o precisión; instrumentos y aparatos médicoquirúrgicos; aparatos de relojería; instrumentos musicales; partes y accesorios de estos instrumentos o aparatos/CZE",
          "Madera, carbón vegetal y manufacturas de madera; corcho y sus manufacturas; manufacturas de espartería o cestería/CZE",
          "Manufacturas de piedra, yeso fraguable, cemento, amianto (asbesto), mica o materias análogas; productos cerámicos; vidrio y manufacturas de vidrio/CZE",
          "Materias textiles y sus manufacturas/CZE",
          "Mercancías y productos diversos/CZE",
          "Metales comunes y manufacturas de esos metales/CZE",
          "Máquinas y aparatos, material eléctrico y sus partes; aparatos de grabación o reproducción de sonido, aparatos de grabación o reproducción de imagen y sonido en televisión, y las partes y accesorios de estos aparatos/CZE",
          "Pasta de madera o de las demás materias fibrosas celulósicas; papel o cartón para reciclar (desperdicios y desechos); papel o cartón y sus aplicaciones/CZE",
          "Plástico y sus manufacturas; caucho y sus manufacturas/CZE",
          "Productos de las industrias químicas o de las industrias conexas/CZE",
          "Productos minerales/CZE",
          "Animales vivos y productos del reino animal/DEU",
          "Armas, municiones, y sus partes y accesorios/DEU",
          "Calzado, sombreros y demás tocados, paraguas, quitasoles, bastones, látigos, fustas y sus partes; plumas preparadas y artículos de plumas; flores artificiales; manufacturas de cabello/DEU",
          "Grasas y aceites animales o vegetales; productos de su desdoblamiento; grasas alimenticias elaboradas; ceras de origen animal o vegetal/DEU",
          "Instrumentos y aparatos de óptica, fotografía o cinematografía, de medida, control o precisión; instrumentos y aparatos médicoquirúrgicos; aparatos de relojería; instrumentos musicales; partes y accesorios de estos instrumentos o aparatos/DEU",
          "Madera, carbón vegetal y manufacturas de madera; corcho y sus manufacturas; manufacturas de espartería o cestería/DEU",
          "Manufacturas de piedra, yeso fraguable, cemento, amianto (asbesto), mica o materias análogas; productos cerámicos; vidrio y manufacturas de vidrio/DEU",
          "Material de transporte/DEU",
          "Materias textiles y sus manufacturas/DEU",
          "Mercancías y productos diversos/DEU",
          "Metales comunes y manufacturas de esos metales/DEU",
          "Máquinas y aparatos, material eléctrico y sus partes; aparatos de grabación o reproducción de sonido, aparatos de grabación o reproducción de imagen y sonido en televisión, y las partes y accesorios de estos aparatos/DEU",
          "Objetos de arte o colección y antigüedades/DEU",
          "Pasta de madera o de las demás materias fibrosas celulósicas; papel o cartón para reciclar (desperdicios y desechos); papel o cartón y sus aplicaciones/DEU",
          "Perlas finas (naturales) o cultivadas, piedras preciosas o semipreciosas, metales preciosos, chapados de metal precioso (plaqué) y manufacturas de estas materias; bisutería; monedas/DEU",
          "Pieles, cueros, peletería y manufacturas de estas materias; artículos de talabartería o guarnicionería; artículos de viaje, bolsos de mano (carteras) y continentes similares; manufacturas de tripa/DEU",
          "Plástico y sus manufacturas; caucho y sus manufacturas/DEU",
          "Productos de las industrias alimentarias; bebidas, líquidos alcohólicos y vinagre; tabaco y sucedáneos del tabaco elaborados/DEU",
          "Productos de las industrias químicas o de las industrias conexas/DEU",
          "Productos del reino vegetal/DEU",
          "Productos minerales/DEU",
          "Animales vivos y productos del reino animal/DNK",
          "Instrumentos y aparatos de óptica, fotografía o cinematografía, de medida, control o precisión; instrumentos y aparatos médicoquirúrgicos; aparatos de relojería; instrumentos musicales; partes y accesorios de estos instrumentos o aparatos/DNK",
          "Manufacturas de piedra, yeso fraguable, cemento, amianto (asbesto), mica o materias análogas; productos cerámicos; vidrio y manufacturas de vidrio/DNK",
          "Material de transporte/DNK",
          "Materias textiles y sus manufacturas/DNK",
          "Metales comunes y manufacturas de esos metales/DNK",
          "Máquinas y aparatos, material eléctrico y sus partes; aparatos de grabación o reproducción de sonido, aparatos de grabación o reproducción de imagen y sonido en televisión, y las partes y accesorios de estos aparatos/DNK",
          "Pieles, cueros, peletería y manufacturas de estas materias; artículos de talabartería o guarnicionería; artículos de viaje, bolsos de mano (carteras) y continentes similares; manufacturas de tripa/DNK",
          "Plástico y sus manufacturas; caucho y sus manufacturas/DNK",
          "Productos de las industrias alimentarias; bebidas, líquidos alcohólicos y vinagre; tabaco y sucedáneos del tabaco elaborados/DNK",
          "Productos de las industrias químicas o de las industrias conexas/DNK",
          "Productos del reino vegetal/DNK",
          "Productos minerales/DNK",
          "Materias textiles y sus manufacturas/DOM",
          "Pasta de madera o de las demás materias fibrosas celulósicas; papel o cartón para reciclar (desperdicios y desechos); papel o cartón y sus aplicaciones/DOM",
          "Plástico y sus manufacturas; caucho y sus manufacturas/DOM",
          "Productos de las industrias alimentarias; bebidas, líquidos alcohólicos y vinagre; tabaco y sucedáneos del tabaco elaborados/DOM",
          "Productos de las industrias químicas o de las industrias conexas/DZA",
          "Animales vivos y productos del reino animal/ECU",
          "Calzado, sombreros y demás tocados, paraguas, quitasoles, bastones, látigos, fustas y sus partes; plumas preparadas y artículos de plumas; flores artificiales; manufacturas de cabello/ECU",
          "Madera, carbón vegetal y manufacturas de madera; corcho y sus manufacturas; manufacturas de espartería o cestería/ECU",
          "Materias textiles y sus manufacturas/ECU",
          "Productos de las industrias alimentarias; bebidas, líquidos alcohólicos y vinagre; tabaco y sucedáneos del tabaco elaborados/ECU",
          "Productos del reino vegetal/ECU",
          "Materias textiles y sus manufacturas/EGY",
          "Metales comunes y manufacturas de esos metales/EGY",
          "Productos de las industrias alimentarias; bebidas, líquidos alcohólicos y vinagre; tabaco y sucedáneos del tabaco elaborados/EGY",
          "Productos del reino vegetal/EGY",
          "Animales vivos y productos del reino animal/ESP",
          "Armas, municiones, y sus partes y accesorios/ESP",
          "Calzado, sombreros y demás tocados, paraguas, quitasoles, bastones, látigos, fustas y sus partes; plumas preparadas y artículos de plumas; flores artificiales; manufacturas de cabello/ESP",
          "Grasas y aceites animales o vegetales; productos de su desdoblamiento; grasas alimenticias elaboradas; ceras de origen animal o vegetal/ESP",
          "Instrumentos y aparatos de óptica, fotografía o cinematografía, de medida, control o precisión; instrumentos y aparatos médicoquirúrgicos; aparatos de relojería; instrumentos musicales; partes y accesorios de estos instrumentos o aparatos/ESP",
          "Madera, carbón vegetal y manufacturas de madera; corcho y sus manufacturas; manufacturas de espartería o cestería/ESP",
          "Manufacturas de piedra, yeso fraguable, cemento, amianto (asbesto), mica o materias análogas; productos cerámicos; vidrio y manufacturas de vidrio/ESP",
          "Material de transporte/ESP",
          "Materias textiles y sus manufacturas/ESP",
          "Mercancías y productos diversos/ESP",
          "Metales comunes y manufacturas de esos metales/ESP",
          "Máquinas y aparatos, material eléctrico y sus partes; aparatos de grabación o reproducción de sonido, aparatos de grabación o reproducción de imagen y sonido en televisión, y las partes y accesorios de estos aparatos/ESP",
          "Objetos de arte o colección y antigüedades/ESP",
          "Pasta de madera o de las demás materias fibrosas celulósicas; papel o cartón para reciclar (desperdicios y desechos); papel o cartón y sus aplicaciones/ESP",
          "Perlas finas (naturales) o cultivadas, piedras preciosas o semipreciosas, metales preciosos, chapados de metal precioso (plaqué) y manufacturas de estas materias; bisutería; monedas/ESP",
          "Pieles, cueros, peletería y manufacturas de estas materias; artículos de talabartería o guarnicionería; artículos de viaje, bolsos de mano (carteras) y continentes similares; manufacturas de tripa/ESP",
          "Plástico y sus manufacturas; caucho y sus manufacturas/ESP",
          "Productos de las industrias alimentarias; bebidas, líquidos alcohólicos y vinagre; tabaco y sucedáneos del tabaco elaborados/ESP",
          "Productos de las industrias químicas o de las industrias conexas/ESP",
          "Productos del reino vegetal/ESP",
          "Productos minerales/ESP",
          "Máquinas y aparatos, material eléctrico y sus partes; aparatos de grabación o reproducción de sonido, aparatos de grabación o reproducción de imagen y sonido en televisión, y las partes y accesorios de estos aparatos/EST",
          "Pasta de madera o de las demás materias fibrosas celulósicas; papel o cartón para reciclar (desperdicios y desechos); papel o cartón y sus aplicaciones/EST",
          "Productos de las industrias alimentarias; bebidas, líquidos alcohólicos y vinagre; tabaco y sucedáneos del tabaco elaborados/EST",
          "Productos de las industrias químicas o de las industrias conexas/EST",
          "Manufacturas de piedra, yeso fraguable, cemento, amianto (asbesto), mica o materias análogas; productos cerámicos; vidrio y manufacturas de vidrio/EUo",
          "Máquinas y aparatos, material eléctrico y sus partes; aparatos de grabación o reproducción de sonido, aparatos de grabación o reproducción de imagen y sonido en televisión, y las partes y accesorios de estos aparatos/EUo",
          "Instrumentos y aparatos de óptica, fotografía o cinematografía, de medida, control o precisión; instrumentos y aparatos médicoquirúrgicos; aparatos de relojería; instrumentos musicales; partes y accesorios de estos instrumentos o aparatos/FIN",
          "Materias textiles y sus manufacturas/FIN",
          "Mercancías y productos diversos/FIN",
          "Metales comunes y manufacturas de esos metales/FIN",
          "Máquinas y aparatos, material eléctrico y sus partes; aparatos de grabación o reproducción de sonido, aparatos de grabación o reproducción de imagen y sonido en televisión, y las partes y accesorios de estos aparatos/FIN",
          "Pasta de madera o de las demás materias fibrosas celulósicas; papel o cartón para reciclar (desperdicios y desechos); papel o cartón y sus aplicaciones/FIN",
          "Plástico y sus manufacturas; caucho y sus manufacturas/FIN",
          "Productos de las industrias químicas o de las industrias conexas/FIN",
          "Productos minerales/FIN",
          "Madera, carbón vegetal y manufacturas de madera; corcho y sus manufacturas; manufacturas de espartería o cestería/FJI",
          "Productos de las industrias alimentarias; bebidas, líquidos alcohólicos y vinagre; tabaco y sucedáneos del tabaco elaborados/FJI",
          "Animales vivos y productos del reino animal/FRA",
          "Calzado, sombreros y demás tocados, paraguas, quitasoles, bastones, látigos, fustas y sus partes; plumas preparadas y artículos de plumas; flores artificiales; manufacturas de cabello/FRA",
          "Grasas y aceites animales o vegetales; productos de su desdoblamiento; grasas alimenticias elaboradas; ceras de origen animal o vegetal/FRA",
          "Instrumentos y aparatos de óptica, fotografía o cinematografía, de medida, control o precisión; instrumentos y aparatos médicoquirúrgicos; aparatos de relojería; instrumentos musicales; partes y accesorios de estos instrumentos o aparatos/FRA",
          "Madera, carbón vegetal y manufacturas de madera; corcho y sus manufacturas; manufacturas de espartería o cestería/FRA",
          "Manufacturas de piedra, yeso fraguable, cemento, amianto (asbesto), mica o materias análogas; productos cerámicos; vidrio y manufacturas de vidrio/FRA",
          "Material de transporte/FRA",
          "Materias textiles y sus manufacturas/FRA",
          "Mercancías y productos diversos/FRA",
          "Metales comunes y manufacturas de esos metales/FRA",
          "Máquinas y aparatos, material eléctrico y sus partes; aparatos de grabación o reproducción de sonido, aparatos de grabación o reproducción de imagen y sonido en televisión, y las partes y accesorios de estos aparatos/FRA",
          "Objetos de arte o colección y antigüedades/FRA",
          "Pasta de madera o de las demás materias fibrosas celulósicas; papel o cartón para reciclar (desperdicios y desechos); papel o cartón y sus aplicaciones/FRA",
          "Perlas finas (naturales) o cultivadas, piedras preciosas o semipreciosas, metales preciosos, chapados de metal precioso (plaqué) y manufacturas de estas materias; bisutería; monedas/FRA",
          "Pieles, cueros, peletería y manufacturas de estas materias; artículos de talabartería o guarnicionería; artículos de viaje, bolsos de mano (carteras) y continentes similares; manufacturas de tripa/FRA",
          "Plástico y sus manufacturas; caucho y sus manufacturas/FRA",
          "Productos de las industrias alimentarias; bebidas, líquidos alcohólicos y vinagre; tabaco y sucedáneos del tabaco elaborados/FRA",
          "Productos de las industrias químicas o de las industrias conexas/FRA",
          "Productos del reino vegetal/FRA",
          "Productos minerales/FRA",
          "Madera, carbón vegetal y manufacturas de madera; corcho y sus manufacturas; manufacturas de espartería o cestería/GAB",
          "Productos minerales/GAB",
          "Animales vivos y productos del reino animal/GBR",
          "Calzado, sombreros y demás tocados, paraguas, quitasoles, bastones, látigos, fustas y sus partes; plumas preparadas y artículos de plumas; flores artificiales; manufacturas de cabello/GBR",
          "Instrumentos y aparatos de óptica, fotografía o cinematografía, de medida, control o precisión; instrumentos y aparatos médicoquirúrgicos; aparatos de relojería; instrumentos musicales; partes y accesorios de estos instrumentos o aparatos/GBR",
          "Madera, carbón vegetal y manufacturas de madera; corcho y sus manufacturas; manufacturas de espartería o cestería/GBR",
          "Manufacturas de piedra, yeso fraguable, cemento, amianto (asbesto), mica o materias análogas; productos cerámicos; vidrio y manufacturas de vidrio/GBR",
          "Material de transporte/GBR",
          "Materias textiles y sus manufacturas/GBR",
          "Mercancías y productos diversos/GBR",
          "Metales comunes y manufacturas de esos metales/GBR",
          "Máquinas y aparatos, material eléctrico y sus partes; aparatos de grabación o reproducción de sonido, aparatos de grabación o reproducción de imagen y sonido en televisión, y las partes y accesorios de estos aparatos/GBR",
          "Objetos de arte o colección y antigüedades/GBR",
          "Pasta de madera o de las demás materias fibrosas celulósicas; papel o cartón para reciclar (desperdicios y desechos); papel o cartón y sus aplicaciones/GBR",
          "Perlas finas (naturales) o cultivadas, piedras preciosas o semipreciosas, metales preciosos, chapados de metal precioso (plaqué) y manufacturas de estas materias; bisutería; monedas/GBR",
          "Plástico y sus manufacturas; caucho y sus manufacturas/GBR",
          "Productos de las industrias alimentarias; bebidas, líquidos alcohólicos y vinagre; tabaco y sucedáneos del tabaco elaborados/GBR",
          "Productos de las industrias químicas o de las industrias conexas/GBR",
          "Productos del reino vegetal/GBR",
          "Productos minerales/GBR",
          "Grasas y aceites animales o vegetales; productos de su desdoblamiento; grasas alimenticias elaboradas; ceras de origen animal o vegetal/GRC",
          "Mercancías y productos diversos/GRC",
          "Pasta de madera o de las demás materias fibrosas celulósicas; papel o cartón para reciclar (desperdicios y desechos); papel o cartón y sus aplicaciones/GRC",
          "Productos minerales/GRC",
          "Animales vivos y productos del reino animal/GTM",
          "Grasas y aceites animales o vegetales; productos de su desdoblamiento; grasas alimenticias elaboradas; ceras de origen animal o vegetal/GTM",
          "Madera, carbón vegetal y manufacturas de madera; corcho y sus manufacturas; manufacturas de espartería o cestería/GTM",
          "Materias textiles y sus manufacturas/GTM",
          "Mercancías y productos diversos/GTM",
          "Metales comunes y manufacturas de esos metales/GTM",
          "Pasta de madera o de las demás materias fibrosas celulósicas; papel o cartón para reciclar (desperdicios y desechos); papel o cartón y sus aplicaciones/GTM",
          "Plástico y sus manufacturas; caucho y sus manufacturas/GTM",
          "Productos de las industrias alimentarias; bebidas, líquidos alcohólicos y vinagre; tabaco y sucedáneos del tabaco elaborados/GTM",
          "Productos de las industrias químicas o de las industrias conexas/GTM",
          "Productos del reino vegetal/GTM",
          "Productos minerales/GTM",
          "Productos minerales/GUY",
          "Calzado, sombreros y demás tocados, paraguas, quitasoles, bastones, látigos, fustas y sus partes; plumas preparadas y artículos de plumas; flores artificiales; manufacturas de cabello/HKG",
          "Grasas y aceites animales o vegetales; productos de su desdoblamiento; grasas alimenticias elaboradas; ceras de origen animal o vegetal/HKG",
          "Instrumentos y aparatos de óptica, fotografía o cinematografía, de medida, control o precisión; instrumentos y aparatos médicoquirúrgicos; aparatos de relojería; instrumentos musicales; partes y accesorios de estos instrumentos o aparatos/HKG",
          "Madera, carbón vegetal y manufacturas de madera; corcho y sus manufacturas; manufacturas de espartería o cestería/HKG",
          "Manufacturas de piedra, yeso fraguable, cemento, amianto (asbesto), mica o materias análogas; productos cerámicos; vidrio y manufacturas de vidrio/HKG",
          "Materias textiles y sus manufacturas/HKG",
          "Mercancías y productos diversos/HKG",
          "Metales comunes y manufacturas de esos metales/HKG",
          "Máquinas y aparatos, material eléctrico y sus partes; aparatos de grabación o reproducción de sonido, aparatos de grabación o reproducción de imagen y sonido en televisión, y las partes y accesorios de estos aparatos/HKG",
          "Pasta de madera o de las demás materias fibrosas celulósicas; papel o cartón para reciclar (desperdicios y desechos); papel o cartón y sus aplicaciones/HKG",
          "Perlas finas (naturales) o cultivadas, piedras preciosas o semipreciosas, metales preciosos, chapados de metal precioso (plaqué) y manufacturas de estas materias; bisutería; monedas/HKG",
          "Pieles, cueros, peletería y manufacturas de estas materias; artículos de talabartería o guarnicionería; artículos de viaje, bolsos de mano (carteras) y continentes similares; manufacturas de tripa/HKG",
          "Plástico y sus manufacturas; caucho y sus manufacturas/HKG",
          "Productos de las industrias alimentarias; bebidas, líquidos alcohólicos y vinagre; tabaco y sucedáneos del tabaco elaborados/HKG",
          "Productos de las industrias químicas o de las industrias conexas/HKG",
          "Productos minerales/HKG",
          "Animales vivos y productos del reino animal/HND",
          "Grasas y aceites animales o vegetales; productos de su desdoblamiento; grasas alimenticias elaboradas; ceras de origen animal o vegetal/HND",
          "Materias textiles y sus manufacturas/HND",
          "Pasta de madera o de las demás materias fibrosas celulósicas; papel o cartón para reciclar (desperdicios y desechos); papel o cartón y sus aplicaciones/HND",
          "Productos del reino vegetal/HND",
          "Materias textiles y sus manufacturas/HTI",
          "Instrumentos y aparatos de óptica, fotografía o cinematografía, de medida, control o precisión; instrumentos y aparatos médicoquirúrgicos; aparatos de relojería; instrumentos musicales; partes y accesorios de estos instrumentos o aparatos/HUN",
          "Madera, carbón vegetal y manufacturas de madera; corcho y sus manufacturas; manufacturas de espartería o cestería/HUN",
          "Manufacturas de piedra, yeso fraguable, cemento, amianto (asbesto), mica o materias análogas; productos cerámicos; vidrio y manufacturas de vidrio/HUN",
          "Máquinas y aparatos, material eléctrico y sus partes; aparatos de grabación o reproducción de sonido, aparatos de grabación o reproducción de imagen y sonido en televisión, y las partes y accesorios de estos aparatos/HUN",
          "Pieles, cueros, peletería y manufacturas de estas materias; artículos de talabartería o guarnicionería; artículos de viaje, bolsos de mano (carteras) y continentes similares; manufacturas de tripa/HUN",
          "Plástico y sus manufacturas; caucho y sus manufacturas/HUN",
          "Productos de las industrias químicas o de las industrias conexas/HUN",
          "Productos del reino vegetal/HUN",
          "Animales vivos y productos del reino animal/IDN",
          "Calzado, sombreros y demás tocados, paraguas, quitasoles, bastones, látigos, fustas y sus partes; plumas preparadas y artículos de plumas; flores artificiales; manufacturas de cabello/IDN",
          "Grasas y aceites animales o vegetales; productos de su desdoblamiento; grasas alimenticias elaboradas; ceras de origen animal o vegetal/IDN",
          "Instrumentos y aparatos de óptica, fotografía o cinematografía, de medida, control o precisión; instrumentos y aparatos médicoquirúrgicos; aparatos de relojería; instrumentos musicales; partes y accesorios de estos instrumentos o aparatos/IDN",
          "Madera, carbón vegetal y manufacturas de madera; corcho y sus manufacturas; manufacturas de espartería o cestería/IDN",
          "Manufacturas de piedra, yeso fraguable, cemento, amianto (asbesto), mica o materias análogas; productos cerámicos; vidrio y manufacturas de vidrio/IDN",
          "Material de transporte/IDN",
          "Materias textiles y sus manufacturas/IDN",
          "Mercancías y productos diversos/IDN",
          "Metales comunes y manufacturas de esos metales/IDN",
          "Máquinas y aparatos, material eléctrico y sus partes; aparatos de grabación o reproducción de sonido, aparatos de grabación o reproducción de imagen y sonido en televisión, y las partes y accesorios de estos aparatos/IDN",
          "Objetos de arte o colección y antigüedades/IDN",
          "Pasta de madera o de las demás materias fibrosas celulósicas; papel o cartón para reciclar (desperdicios y desechos); papel o cartón y sus aplicaciones/IDN",
          "Perlas finas (naturales) o cultivadas, piedras preciosas o semipreciosas, metales preciosos, chapados de metal precioso (plaqué) y manufacturas de estas materias; bisutería; monedas/IDN",
          "Pieles, cueros, peletería y manufacturas de estas materias; artículos de talabartería o guarnicionería; artículos de viaje, bolsos de mano (carteras) y continentes similares; manufacturas de tripa/IDN",
          "Plástico y sus manufacturas; caucho y sus manufacturas/IDN",
          "Productos de las industrias alimentarias; bebidas, líquidos alcohólicos y vinagre; tabaco y sucedáneos del tabaco elaborados/IDN",
          "Productos de las industrias químicas o de las industrias conexas/IDN",
          "Productos del reino vegetal/IDN",
          "Productos minerales/IDN",
          "Animales vivos y productos del reino animal/IND",
          "Calzado, sombreros y demás tocados, paraguas, quitasoles, bastones, látigos, fustas y sus partes; plumas preparadas y artículos de plumas; flores artificiales; manufacturas de cabello/IND",
          "Grasas y aceites animales o vegetales; productos de su desdoblamiento; grasas alimenticias elaboradas; ceras de origen animal o vegetal/IND",
          "Instrumentos y aparatos de óptica, fotografía o cinematografía, de medida, control o precisión; instrumentos y aparatos médicoquirúrgicos; aparatos de relojería; instrumentos musicales; partes y accesorios de estos instrumentos o aparatos/IND",
          "Madera, carbón vegetal y manufacturas de madera; corcho y sus manufacturas; manufacturas de espartería o cestería/IND",
          "Manufacturas de piedra, yeso fraguable, cemento, amianto (asbesto), mica o materias análogas; productos cerámicos; vidrio y manufacturas de vidrio/IND",
          "Material de transporte/IND",
          "Materias textiles y sus manufacturas/IND",
          "Mercancías y productos diversos/IND",
          "Metales comunes y manufacturas de esos metales/IND",
          "Máquinas y aparatos, material eléctrico y sus partes; aparatos de grabación o reproducción de sonido, aparatos de grabación o reproducción de imagen y sonido en televisión, y las partes y accesorios de estos aparatos/IND",
          "Objetos de arte o colección y antigüedades/IND",
          "Pasta de madera o de las demás materias fibrosas celulósicas; papel o cartón para reciclar (desperdicios y desechos); papel o cartón y sus aplicaciones/IND",
          "Perlas finas (naturales) o cultivadas, piedras preciosas o semipreciosas, metales preciosos, chapados de metal precioso (plaqué) y manufacturas de estas materias; bisutería; monedas/IND",
          "Pieles, cueros, peletería y manufacturas de estas materias; artículos de talabartería o guarnicionería; artículos de viaje, bolsos de mano (carteras) y continentes similares; manufacturas de tripa/IND",
          "Plástico y sus manufacturas; caucho y sus manufacturas/IND",
          "Productos de las industrias alimentarias; bebidas, líquidos alcohólicos y vinagre; tabaco y sucedáneos del tabaco elaborados/IND",
          "Productos de las industrias químicas o de las industrias conexas/IND",
          "Productos del reino vegetal/IND",
          "Productos minerales/IND",
          "Instrumentos y aparatos de óptica, fotografía o cinematografía, de medida, control o precisión; instrumentos y aparatos médicoquirúrgicos; aparatos de relojería; instrumentos musicales; partes y accesorios de estos instrumentos o aparatos/IRL",
          "Máquinas y aparatos, material eléctrico y sus partes; aparatos de grabación o reproducción de sonido, aparatos de grabación o reproducción de imagen y sonido en televisión, y las partes y accesorios de estos aparatos/IRL",
          "Plástico y sus manufacturas; caucho y sus manufacturas/IRL",
          "Productos de las industrias químicas o de las industrias conexas/IRL",
          "Productos de las industrias alimentarias; bebidas, líquidos alcohólicos y vinagre; tabaco y sucedáneos del tabaco elaborados/ISL",
          "Instrumentos y aparatos de óptica, fotografía o cinematografía, de medida, control o precisión; instrumentos y aparatos médicoquirúrgicos; aparatos de relojería; instrumentos musicales; partes y accesorios de estos instrumentos o aparatos/ISR",
          "Manufacturas de piedra, yeso fraguable, cemento, amianto (asbesto), mica o materias análogas; productos cerámicos; vidrio y manufacturas de vidrio/ISR",
          "Materias textiles y sus manufacturas/ISR",
          "Mercancías y productos diversos/ISR",
          "Metales comunes y manufacturas de esos metales/ISR",
          "Máquinas y aparatos, material eléctrico y sus partes; aparatos de grabación o reproducción de sonido, aparatos de grabación o reproducción de imagen y sonido en televisión, y las partes y accesorios de estos aparatos/ISR",
          "Objetos de arte o colección y antigüedades/ISR",
          "Perlas finas (naturales) o cultivadas, piedras preciosas o semipreciosas, metales preciosos, chapados de metal precioso (plaqué) y manufacturas de estas materias; bisutería; monedas/ISR",
          "Productos de las industrias alimentarias; bebidas, líquidos alcohólicos y vinagre; tabaco y sucedáneos del tabaco elaborados/ISR",
          "Productos de las industrias químicas o de las industrias conexas/ISR",
          "Productos del reino vegetal/ISR",
          "Productos minerales/ISR",
          "Animales vivos y productos del reino animal/ITA",
          "Armas, municiones, y sus partes y accesorios/ITA",
          "Calzado, sombreros y demás tocados, paraguas, quitasoles, bastones, látigos, fustas y sus partes; plumas preparadas y artículos de plumas; flores artificiales; manufacturas de cabello/ITA",
          "Grasas y aceites animales o vegetales; productos de su desdoblamiento; grasas alimenticias elaboradas; ceras de origen animal o vegetal/ITA",
          "Instrumentos y aparatos de óptica, fotografía o cinematografía, de medida, control o precisión; instrumentos y aparatos médicoquirúrgicos; aparatos de relojería; instrumentos musicales; partes y accesorios de estos instrumentos o aparatos/ITA",
          "Madera, carbón vegetal y manufacturas de madera; corcho y sus manufacturas; manufacturas de espartería o cestería/ITA",
          "Manufacturas de piedra, yeso fraguable, cemento, amianto (asbesto), mica o materias análogas; productos cerámicos; vidrio y manufacturas de vidrio/ITA",
          "Material de transporte/ITA",
          "Materias textiles y sus manufacturas/ITA",
          "Mercancías y productos diversos/ITA",
          "Metales comunes y manufacturas de esos metales/ITA",
          "Máquinas y aparatos, material eléctrico y sus partes; aparatos de grabación o reproducción de sonido, aparatos de grabación o reproducción de imagen y sonido en televisión, y las partes y accesorios de estos aparatos/ITA",
          "Objetos de arte o colección y antigüedades/ITA",
          "Pasta de madera o de las demás materias fibrosas celulósicas; papel o cartón para reciclar (desperdicios y desechos); papel o cartón y sus aplicaciones/ITA",
          "Perlas finas (naturales) o cultivadas, piedras preciosas o semipreciosas, metales preciosos, chapados de metal precioso (plaqué) y manufacturas de estas materias; bisutería; monedas/ITA",
          "Pieles, cueros, peletería y manufacturas de estas materias; artículos de talabartería o guarnicionería; artículos de viaje, bolsos de mano (carteras) y continentes similares; manufacturas de tripa/ITA",
          "Plástico y sus manufacturas; caucho y sus manufacturas/ITA",
          "Productos de las industrias alimentarias; bebidas, líquidos alcohólicos y vinagre; tabaco y sucedáneos del tabaco elaborados/ITA",
          "Productos de las industrias químicas o de las industrias conexas/ITA",
          "Productos del reino vegetal/ITA",
          "Productos minerales/ITA",
          "Materias textiles y sus manufacturas/JOR",
          "Productos de las industrias químicas o de las industrias conexas/JOR",
          "Animales vivos y productos del reino animal/JPN",
          "Calzado, sombreros y demás tocados, paraguas, quitasoles, bastones, látigos, fustas y sus partes; plumas preparadas y artículos de plumas; flores artificiales; manufacturas de cabello/JPN",
          "Grasas y aceites animales o vegetales; productos de su desdoblamiento; grasas alimenticias elaboradas; ceras de origen animal o vegetal/JPN",
          "Instrumentos y aparatos de óptica, fotografía o cinematografía, de medida, control o precisión; instrumentos y aparatos médicoquirúrgicos; aparatos de relojería; instrumentos musicales; partes y accesorios de estos instrumentos o aparatos/JPN",
          "Madera, carbón vegetal y manufacturas de madera; corcho y sus manufacturas; manufacturas de espartería o cestería/JPN",
          "Manufacturas de piedra, yeso fraguable, cemento, amianto (asbesto), mica o materias análogas; productos cerámicos; vidrio y manufacturas de vidrio/JPN",
          "Material de transporte/JPN",
          "Materias textiles y sus manufacturas/JPN",
          "Mercancías y productos diversos/JPN",
          "Metales comunes y manufacturas de esos metales/JPN",
          "Máquinas y aparatos, material eléctrico y sus partes; aparatos de grabación o reproducción de sonido, aparatos de grabación o reproducción de imagen y sonido en televisión, y las partes y accesorios de estos aparatos/JPN",
          "Pasta de madera o de las demás materias fibrosas celulósicas; papel o cartón para reciclar (desperdicios y desechos); papel o cartón y sus aplicaciones/JPN",
          "Perlas finas (naturales) o cultivadas, piedras preciosas o semipreciosas, metales preciosos, chapados de metal precioso (plaqué) y manufacturas de estas materias; bisutería; monedas/JPN",
          "Plástico y sus manufacturas; caucho y sus manufacturas/JPN",
          "Productos de las industrias alimentarias; bebidas, líquidos alcohólicos y vinagre; tabaco y sucedáneos del tabaco elaborados/JPN",
          "Productos de las industrias químicas o de las industrias conexas/JPN",
          "Productos del reino vegetal/JPN",
          "Productos minerales/JPN",
          "Metales comunes y manufacturas de esos metales/KAZ",
          "Productos de las industrias químicas o de las industrias conexas/KAZ",
          "Productos del reino vegetal/KEN",
          "Objetos de arte o colección y antigüedades/KGZ",
          "Calzado, sombreros y demás tocados, paraguas, quitasoles, bastones, látigos, fustas y sus partes; plumas preparadas y artículos de plumas; flores artificiales; manufacturas de cabello/KHM",
          "Material de transporte/KHM",
          "Materias textiles y sus manufacturas/KHM",
          "Pieles, cueros, peletería y manufacturas de estas materias; artículos de talabartería o guarnicionería; artículos de viaje, bolsos de mano (carteras) y continentes similares; manufacturas de tripa/KHM",
          "Calzado, sombreros y demás tocados, paraguas, quitasoles, bastones, látigos, fustas y sus partes; plumas preparadas y artículos de plumas; flores artificiales; manufacturas de cabello/KOR",
          "Instrumentos y aparatos de óptica, fotografía o cinematografía, de medida, control o precisión; instrumentos y aparatos médicoquirúrgicos; aparatos de relojería; instrumentos musicales; partes y accesorios de estos instrumentos o aparatos/KOR",
          "Manufacturas de piedra, yeso fraguable, cemento, amianto (asbesto), mica o materias análogas; productos cerámicos; vidrio y manufacturas de vidrio/KOR",
          "Material de transporte/KOR",
          "Materias textiles y sus manufacturas/KOR",
          "Mercancías y productos diversos/KOR",
          "Metales comunes y manufacturas de esos metales/KOR",
          "Máquinas y aparatos, material eléctrico y sus partes; aparatos de grabación o reproducción de sonido, aparatos de grabación o reproducción de imagen y sonido en televisión, y las partes y accesorios de estos aparatos/KOR",
          "Objetos de arte o colección y antigüedades/KOR",
          "Pasta de madera o de las demás materias fibrosas celulósicas; papel o cartón para reciclar (desperdicios y desechos); papel o cartón y sus aplicaciones/KOR",
          "Perlas finas (naturales) o cultivadas, piedras preciosas o semipreciosas, metales preciosos, chapados de metal precioso (plaqué) y manufacturas de estas materias; bisutería; monedas/KOR",
          "Plástico y sus manufacturas; caucho y sus manufacturas/KOR",
          "Productos de las industrias alimentarias; bebidas, líquidos alcohólicos y vinagre; tabaco y sucedáneos del tabaco elaborados/KOR",
          "Productos de las industrias químicas o de las industrias conexas/KOR",
          "Productos del reino vegetal/KOR",
          "Productos minerales/KOR",
          "Calzado, sombreros y demás tocados, paraguas, quitasoles, bastones, látigos, fustas y sus partes; plumas preparadas y artículos de plumas; flores artificiales; manufacturas de cabello/LKA",
          "Grasas y aceites animales o vegetales; productos de su desdoblamiento; grasas alimenticias elaboradas; ceras de origen animal o vegetal/LKA",
          "Madera, carbón vegetal y manufacturas de madera; corcho y sus manufacturas; manufacturas de espartería o cestería/LKA",
          "Manufacturas de piedra, yeso fraguable, cemento, amianto (asbesto), mica o materias análogas; productos cerámicos; vidrio y manufacturas de vidrio/LKA",
          "Materias textiles y sus manufacturas/LKA",
          "Productos de las industrias químicas o de las industrias conexas/LKA",
          "Productos del reino vegetal/LKA",
          "Animales vivos y productos del reino animal/LTU",
          "Instrumentos y aparatos de óptica, fotografía o cinematografía, de medida, control o precisión; instrumentos y aparatos médicoquirúrgicos; aparatos de relojería; instrumentos musicales; partes y accesorios de estos instrumentos o aparatos/LTU",
          "Materias textiles y sus manufacturas/LTU",
          "Mercancías y productos diversos/LTU",
          "Productos del reino vegetal/LTU",
          "Metales comunes y manufacturas de esos metales/LUX",
          "Instrumentos y aparatos de óptica, fotografía o cinematografía, de medida, control o precisión; instrumentos y aparatos médicoquirúrgicos; aparatos de relojería; instrumentos musicales; partes y accesorios de estos instrumentos o aparatos/MAC",
          "Madera, carbón vegetal y manufacturas de madera; corcho y sus manufacturas; manufacturas de espartería o cestería/MAR",
          "Materias textiles y sus manufacturas/MAR",
          "Objetos de arte o colección y antigüedades/MAR",
          "Perlas finas (naturales) o cultivadas, piedras preciosas o semipreciosas, metales preciosos, chapados de metal precioso (plaqué) y manufacturas de estas materias; bisutería; monedas/MAR",
          "Productos de las industrias alimentarias; bebidas, líquidos alcohólicos y vinagre; tabaco y sucedáneos del tabaco elaborados/MAR",
          "Productos de las industrias químicas o de las industrias conexas/MAR",
          "Productos del reino vegetal/MAR",
          "Madera, carbón vegetal y manufacturas de madera; corcho y sus manufacturas; manufacturas de espartería o cestería/MDG",
          "Objetos de arte o colección y antigüedades/MDG",
          "Productos del reino vegetal/MDG",
          "Productos minerales/MDG",
          "Calzado, sombreros y demás tocados, paraguas, quitasoles, bastones, látigos, fustas y sus partes; plumas preparadas y artículos de plumas; flores artificiales; manufacturas de cabello/MMR",
          "Instrumentos y aparatos de óptica, fotografía o cinematografía, de medida, control o precisión; instrumentos y aparatos médicoquirúrgicos; aparatos de relojería; instrumentos musicales; partes y accesorios de estos instrumentos o aparatos/MMR",
          "Madera, carbón vegetal y manufacturas de madera; corcho y sus manufacturas; manufacturas de espartería o cestería/MMR",
          "Materias textiles y sus manufacturas/MMR",
          "Pieles, cueros, peletería y manufacturas de estas materias; artículos de talabartería o guarnicionería; artículos de viaje, bolsos de mano (carteras) y continentes similares; manufacturas de tripa/MMR",
          "Productos minerales/MOZ",
          "Calzado, sombreros y demás tocados, paraguas, quitasoles, bastones, látigos, fustas y sus partes; plumas preparadas y artículos de plumas; flores artificiales; manufacturas de cabello/MYS",
          "Grasas y aceites animales o vegetales; productos de su desdoblamiento; grasas alimenticias elaboradas; ceras de origen animal o vegetal/MYS",
          "Instrumentos y aparatos de óptica, fotografía o cinematografía, de medida, control o precisión; instrumentos y aparatos médicoquirúrgicos; aparatos de relojería; instrumentos musicales; partes y accesorios de estos instrumentos o aparatos/MYS",
          "Madera, carbón vegetal y manufacturas de madera; corcho y sus manufacturas; manufacturas de espartería o cestería/MYS",
          "Manufacturas de piedra, yeso fraguable, cemento, amianto (asbesto), mica o materias análogas; productos cerámicos; vidrio y manufacturas de vidrio/MYS",
          "Materias textiles y sus manufacturas/MYS",
          "Mercancías y productos diversos/MYS",
          "Metales comunes y manufacturas de esos metales/MYS",
          "Máquinas y aparatos, material eléctrico y sus partes; aparatos de grabación o reproducción de sonido, aparatos de grabación o reproducción de imagen y sonido en televisión, y las partes y accesorios de estos aparatos/MYS",
          "Pasta de madera o de las demás materias fibrosas celulósicas; papel o cartón para reciclar (desperdicios y desechos); papel o cartón y sus aplicaciones/MYS",
          "Plástico y sus manufacturas; caucho y sus manufacturas/MYS",
          "Productos de las industrias alimentarias; bebidas, líquidos alcohólicos y vinagre; tabaco y sucedáneos del tabaco elaborados/MYS",
          "Productos de las industrias químicas o de las industrias conexas/MYS",
          "Productos minerales/MYS",
          "Objetos de arte o colección y antigüedades/NAM",
          "Productos del reino vegetal/NGA",
          "Animales vivos y productos del reino animal/NIC",
          "Grasas y aceites animales o vegetales; productos de su desdoblamiento; grasas alimenticias elaboradas; ceras de origen animal o vegetal/NIC",
          "Materias textiles y sus manufacturas/NIC",
          "Pieles, cueros, peletería y manufacturas de estas materias; artículos de talabartería o guarnicionería; artículos de viaje, bolsos de mano (carteras) y continentes similares; manufacturas de tripa/NIC",
          "Productos de las industrias alimentarias; bebidas, líquidos alcohólicos y vinagre; tabaco y sucedáneos del tabaco elaborados/NIC",
          "Productos del reino vegetal/NIC",
          "Animales vivos y productos del reino animal/NLD",
          "Grasas y aceites animales o vegetales; productos de su desdoblamiento; grasas alimenticias elaboradas; ceras de origen animal o vegetal/NLD",
          "Instrumentos y aparatos de óptica, fotografía o cinematografía, de medida, control o precisión; instrumentos y aparatos médicoquirúrgicos; aparatos de relojería; instrumentos musicales; partes y accesorios de estos instrumentos o aparatos/NLD",
          "Madera, carbón vegetal y manufacturas de madera; corcho y sus manufacturas; manufacturas de espartería o cestería/NLD",
          "Manufacturas de piedra, yeso fraguable, cemento, amianto (asbesto), mica o materias análogas; productos cerámicos; vidrio y manufacturas de vidrio/NLD",
          "Material de transporte/NLD",
          "Materias textiles y sus manufacturas/NLD",
          "Mercancías y productos diversos/NLD",
          "Metales comunes y manufacturas de esos metales/NLD",
          "Máquinas y aparatos, material eléctrico y sus partes; aparatos de grabación o reproducción de sonido, aparatos de grabación o reproducción de imagen y sonido en televisión, y las partes y accesorios de estos aparatos/NLD",
          "Pasta de madera o de las demás materias fibrosas celulósicas; papel o cartón para reciclar (desperdicios y desechos); papel o cartón y sus aplicaciones/NLD",
          "Plástico y sus manufacturas; caucho y sus manufacturas/NLD",
          "Productos de las industrias alimentarias; bebidas, líquidos alcohólicos y vinagre; tabaco y sucedáneos del tabaco elaborados/NLD",
          "Productos de las industrias químicas o de las industrias conexas/NLD",
          "Productos del reino vegetal/NLD",
          "Productos minerales/NLD",
          "Animales vivos y productos del reino animal/NOR",
          "Instrumentos y aparatos de óptica, fotografía o cinematografía, de medida, control o precisión; instrumentos y aparatos médicoquirúrgicos; aparatos de relojería; instrumentos musicales; partes y accesorios de estos instrumentos o aparatos/NOR",
          "Manufacturas de piedra, yeso fraguable, cemento, amianto (asbesto), mica o materias análogas; productos cerámicos; vidrio y manufacturas de vidrio/NOR",
          "Metales comunes y manufacturas de esos metales/NOR",
          "Pasta de madera o de las demás materias fibrosas celulósicas; papel o cartón para reciclar (desperdicios y desechos); papel o cartón y sus aplicaciones/NOR",
          "Plástico y sus manufacturas; caucho y sus manufacturas/NOR",
          "Productos de las industrias alimentarias; bebidas, líquidos alcohólicos y vinagre; tabaco y sucedáneos del tabaco elaborados/NOR",
          "Productos de las industrias químicas o de las industrias conexas/NOR",
          "Instrumentos y aparatos de óptica, fotografía o cinematografía, de medida, control o precisión; instrumentos y aparatos médicoquirúrgicos; aparatos de relojería; instrumentos musicales; partes y accesorios de estos instrumentos o aparatos/NPL",
          "Materias textiles y sus manufacturas/NPL",
          "Animales vivos y productos del reino animal/NZL",
          "Madera, carbón vegetal y manufacturas de madera; corcho y sus manufacturas; manufacturas de espartería o cestería/NZL",
          "Materias textiles y sus manufacturas/NZL",
          "Mercancías y productos diversos/NZL",
          "Metales comunes y manufacturas de esos metales/NZL",
          "Máquinas y aparatos, material eléctrico y sus partes; aparatos de grabación o reproducción de sonido, aparatos de grabación o reproducción de imagen y sonido en televisión, y las partes y accesorios de estos aparatos/NZL",
          "Productos de las industrias alimentarias; bebidas, líquidos alcohólicos y vinagre; tabaco y sucedáneos del tabaco elaborados/NZL",
          "Productos de las industrias químicas o de las industrias conexas/NZL",
          "Productos del reino vegetal/NZL",
          "Metales comunes y manufacturas de esos metales/OMN",
          "Productos de las industrias químicas o de las industrias conexas/OMN",
          "Materias textiles y sus manufacturas/PAK",
          "Metales comunes y manufacturas de esos metales/PAK",
          "Pieles, cueros, peletería y manufacturas de estas materias; artículos de talabartería o guarnicionería; artículos de viaje, bolsos de mano (carteras) y continentes similares; manufacturas de tripa/PAK",
          "Productos minerales/PAK",
          "Grasas y aceites animales o vegetales; productos de su desdoblamiento; grasas alimenticias elaboradas; ceras de origen animal o vegetal/PAN",
          "Animales vivos y productos del reino animal/PER",
          "Grasas y aceites animales o vegetales; productos de su desdoblamiento; grasas alimenticias elaboradas; ceras de origen animal o vegetal/PER",
          "Instrumentos y aparatos de óptica, fotografía o cinematografía, de medida, control o precisión; instrumentos y aparatos médicoquirúrgicos; aparatos de relojería; instrumentos musicales; partes y accesorios de estos instrumentos o aparatos/PER",
          "Madera, carbón vegetal y manufacturas de madera; corcho y sus manufacturas; manufacturas de espartería o cestería/PER",
          "Manufacturas de piedra, yeso fraguable, cemento, amianto (asbesto), mica o materias análogas; productos cerámicos; vidrio y manufacturas de vidrio/PER",
          "Materias textiles y sus manufacturas/PER",
          "Mercancías y productos diversos/PER",
          "Metales comunes y manufacturas de esos metales/PER",
          "Máquinas y aparatos, material eléctrico y sus partes; aparatos de grabación o reproducción de sonido, aparatos de grabación o reproducción de imagen y sonido en televisión, y las partes y accesorios de estos aparatos/PER",
          "Productos de las industrias alimentarias; bebidas, líquidos alcohólicos y vinagre; tabaco y sucedáneos del tabaco elaborados/PER",
          "Productos de las industrias químicas o de las industrias conexas/PER",
          "Productos del reino vegetal/PER",
          "Productos minerales/PER",
          "Grasas y aceites animales o vegetales; productos de su desdoblamiento; grasas alimenticias elaboradas; ceras de origen animal o vegetal/PHL",
          "Instrumentos y aparatos de óptica, fotografía o cinematografía, de medida, control o precisión; instrumentos y aparatos médicoquirúrgicos; aparatos de relojería; instrumentos musicales; partes y accesorios de estos instrumentos o aparatos/PHL",
          "Madera, carbón vegetal y manufacturas de madera; corcho y sus manufacturas; manufacturas de espartería o cestería/PHL",
          "Manufacturas de piedra, yeso fraguable, cemento, amianto (asbesto), mica o materias análogas; productos cerámicos; vidrio y manufacturas de vidrio/PHL",
          "Materias textiles y sus manufacturas/PHL",
          "Mercancías y productos diversos/PHL",
          "Máquinas y aparatos, material eléctrico y sus partes; aparatos de grabación o reproducción de sonido, aparatos de grabación o reproducción de imagen y sonido en televisión, y las partes y accesorios de estos aparatos/PHL",
          "Pasta de madera o de las demás materias fibrosas celulósicas; papel o cartón para reciclar (desperdicios y desechos); papel o cartón y sus aplicaciones/PHL",
          "Perlas finas (naturales) o cultivadas, piedras preciosas o semipreciosas, metales preciosos, chapados de metal precioso (plaqué) y manufacturas de estas materias; bisutería; monedas/PHL",
          "Productos de las industrias químicas o de las industrias conexas/PHL",
          "Productos del reino vegetal/PHL",
          "Instrumentos y aparatos de óptica, fotografía o cinematografía, de medida, control o precisión; instrumentos y aparatos médicoquirúrgicos; aparatos de relojería; instrumentos musicales; partes y accesorios de estos instrumentos o aparatos/POL",
          "Madera, carbón vegetal y manufacturas de madera; corcho y sus manufacturas; manufacturas de espartería o cestería/POL",
          "Manufacturas de piedra, yeso fraguable, cemento, amianto (asbesto), mica o materias análogas; productos cerámicos; vidrio y manufacturas de vidrio/POL",
          "Material de transporte/POL",
          "Materias textiles y sus manufacturas/POL",
          "Mercancías y productos diversos/POL",
          "Metales comunes y manufacturas de esos metales/POL",
          "Máquinas y aparatos, material eléctrico y sus partes; aparatos de grabación o reproducción de sonido, aparatos de grabación o reproducción de imagen y sonido en televisión, y las partes y accesorios de estos aparatos/POL",
          "Objetos de arte o colección y antigüedades/POL",
          "Pasta de madera o de las demás materias fibrosas celulósicas; papel o cartón para reciclar (desperdicios y desechos); papel o cartón y sus aplicaciones/POL",
          "Plástico y sus manufacturas; caucho y sus manufacturas/POL",
          "Productos de las industrias químicas o de las industrias conexas/POL",
          "Productos del reino vegetal/POL",
          "Productos minerales/POL",
          "Calzado, sombreros y demás tocados, paraguas, quitasoles, bastones, látigos, fustas y sus partes; plumas preparadas y artículos de plumas; flores artificiales; manufacturas de cabello/PRT",
          "Grasas y aceites animales o vegetales; productos de su desdoblamiento; grasas alimenticias elaboradas; ceras de origen animal o vegetal/PRT",
          "Instrumentos y aparatos de óptica, fotografía o cinematografía, de medida, control o precisión; instrumentos y aparatos médicoquirúrgicos; aparatos de relojería; instrumentos musicales; partes y accesorios de estos instrumentos o aparatos/PRT",
          "Madera, carbón vegetal y manufacturas de madera; corcho y sus manufacturas; manufacturas de espartería o cestería/PRT",
          "Manufacturas de piedra, yeso fraguable, cemento, amianto (asbesto), mica o materias análogas; productos cerámicos; vidrio y manufacturas de vidrio/PRT",
          "Materias textiles y sus manufacturas/PRT",
          "Mercancías y productos diversos/PRT",
          "Metales comunes y manufacturas de esos metales/PRT",
          "Máquinas y aparatos, material eléctrico y sus partes; aparatos de grabación o reproducción de sonido, aparatos de grabación o reproducción de imagen y sonido en televisión, y las partes y accesorios de estos aparatos/PRT",
          "Pasta de madera o de las demás materias fibrosas celulósicas; papel o cartón para reciclar (desperdicios y desechos); papel o cartón y sus aplicaciones/PRT",
          "Productos de las industrias alimentarias; bebidas, líquidos alcohólicos y vinagre; tabaco y sucedáneos del tabaco elaborados/PRT",
          "Productos de las industrias químicas o de las industrias conexas/PRT",
          "Productos minerales/PRT",
          "Productos de las industrias alimentarias; bebidas, líquidos alcohólicos y vinagre; tabaco y sucedáneos del tabaco elaborados/PRY",
          "Productos del reino vegetal/PRY",
          "Metales comunes y manufacturas de esos metales/QAT",
          "Calzado, sombreros y demás tocados, paraguas, quitasoles, bastones, látigos, fustas y sus partes; plumas preparadas y artículos de plumas; flores artificiales; manufacturas de cabello/ROU",
          "Instrumentos y aparatos de óptica, fotografía o cinematografía, de medida, control o precisión; instrumentos y aparatos médicoquirúrgicos; aparatos de relojería; instrumentos musicales; partes y accesorios de estos instrumentos o aparatos/ROU",
          "Madera, carbón vegetal y manufacturas de madera; corcho y sus manufacturas; manufacturas de espartería o cestería/ROU",
          "Manufacturas de piedra, yeso fraguable, cemento, amianto (asbesto), mica o materias análogas; productos cerámicos; vidrio y manufacturas de vidrio/ROU",
          "Materias textiles y sus manufacturas/ROU",
          "Metales comunes y manufacturas de esos metales/ROU",
          "Máquinas y aparatos, material eléctrico y sus partes; aparatos de grabación o reproducción de sonido, aparatos de grabación o reproducción de imagen y sonido en televisión, y las partes y accesorios de estos aparatos/ROU",
          "Pasta de madera o de las demás materias fibrosas celulósicas; papel o cartón para reciclar (desperdicios y desechos); papel o cartón y sus aplicaciones/ROU",
          "Pieles, cueros, peletería y manufacturas de estas materias; artículos de talabartería o guarnicionería; artículos de viaje, bolsos de mano (carteras) y continentes similares; manufacturas de tripa/ROU",
          "Plástico y sus manufacturas; caucho y sus manufacturas/ROU",
          "Productos de las industrias químicas o de las industrias conexas/ROU",
          "Animales vivos y productos del reino animal/RUS",
          "Madera, carbón vegetal y manufacturas de madera; corcho y sus manufacturas; manufacturas de espartería o cestería/RUS",
          "Material de transporte/RUS",
          "Metales comunes y manufacturas de esos metales/RUS",
          "Máquinas y aparatos, material eléctrico y sus partes; aparatos de grabación o reproducción de sonido, aparatos de grabación o reproducción de imagen y sonido en televisión, y las partes y accesorios de estos aparatos/RUS",
          "Pasta de madera o de las demás materias fibrosas celulósicas; papel o cartón para reciclar (desperdicios y desechos); papel o cartón y sus aplicaciones/RUS",
          "Productos de las industrias alimentarias; bebidas, líquidos alcohólicos y vinagre; tabaco y sucedáneos del tabaco elaborados/RUS",
          "Productos de las industrias químicas o de las industrias conexas/RUS",
          "Productos del reino vegetal/RUS",
          "Productos minerales/RUS",
          "Productos del reino vegetal/SDN",
          "Instrumentos y aparatos de óptica, fotografía o cinematografía, de medida, control o precisión; instrumentos y aparatos médicoquirúrgicos; aparatos de relojería; instrumentos musicales; partes y accesorios de estos instrumentos o aparatos/SGP",
          "Madera, carbón vegetal y manufacturas de madera; corcho y sus manufacturas; manufacturas de espartería o cestería/SGP",
          "Manufacturas de piedra, yeso fraguable, cemento, amianto (asbesto), mica o materias análogas; productos cerámicos; vidrio y manufacturas de vidrio/SGP",
          "Materias textiles y sus manufacturas/SGP",
          "Máquinas y aparatos, material eléctrico y sus partes; aparatos de grabación o reproducción de sonido, aparatos de grabación o reproducción de imagen y sonido en televisión, y las partes y accesorios de estos aparatos/SGP",
          "Perlas finas (naturales) o cultivadas, piedras preciosas o semipreciosas, metales preciosos, chapados de metal precioso (plaqué) y manufacturas de estas materias; bisutería; monedas/SGP",
          "Plástico y sus manufacturas; caucho y sus manufacturas/SGP",
          "Productos de las industrias químicas o de las industrias conexas/SGP",
          "Productos del reino vegetal/SGP",
          "Materias textiles y sus manufacturas/SLV",
          "Mercancías y productos diversos/SLV",
          "Pasta de madera o de las demás materias fibrosas celulósicas; papel o cartón para reciclar (desperdicios y desechos); papel o cartón y sus aplicaciones/SLV",
          "Productos del reino vegetal/SLV",
          "Materias textiles y sus manufacturas/SRB",
          "Productos de las industrias químicas o de las industrias conexas/SRB",
          "Productos del reino vegetal/SRB",
          "Máquinas y aparatos, material eléctrico y sus partes; aparatos de grabación o reproducción de sonido, aparatos de grabación o reproducción de imagen y sonido en televisión, y las partes y accesorios de estos aparatos/SVK",
          "Productos de las industrias químicas o de las industrias conexas/SVK",
          "Madera, carbón vegetal y manufacturas de madera; corcho y sus manufacturas; manufacturas de espartería o cestería/SVN",
          "Materias textiles y sus manufacturas/SVN",
          "Metales comunes y manufacturas de esos metales/SVN",
          "Máquinas y aparatos, material eléctrico y sus partes; aparatos de grabación o reproducción de sonido, aparatos de grabación o reproducción de imagen y sonido en televisión, y las partes y accesorios de estos aparatos/SVN",
          "Pasta de madera o de las demás materias fibrosas celulósicas; papel o cartón para reciclar (desperdicios y desechos); papel o cartón y sus aplicaciones/SVN",
          "Productos de las industrias químicas o de las industrias conexas/SVN",
          "Productos del reino vegetal/SVN",
          "Calzado, sombreros y demás tocados, paraguas, quitasoles, bastones, látigos, fustas y sus partes; plumas preparadas y artículos de plumas; flores artificiales; manufacturas de cabello/SWE",
          "Grasas y aceites animales o vegetales; productos de su desdoblamiento; grasas alimenticias elaboradas; ceras de origen animal o vegetal/SWE",
          "Instrumentos y aparatos de óptica, fotografía o cinematografía, de medida, control o precisión; instrumentos y aparatos médicoquirúrgicos; aparatos de relojería; instrumentos musicales; partes y accesorios de estos instrumentos o aparatos/SWE",
          "Manufacturas de piedra, yeso fraguable, cemento, amianto (asbesto), mica o materias análogas; productos cerámicos; vidrio y manufacturas de vidrio/SWE",
          "Material de transporte/SWE",
          "Materias textiles y sus manufacturas/SWE",
          "Mercancías y productos diversos/SWE",
          "Metales comunes y manufacturas de esos metales/SWE",
          "Máquinas y aparatos, material eléctrico y sus partes; aparatos de grabación o reproducción de sonido, aparatos de grabación o reproducción de imagen y sonido en televisión, y las partes y accesorios de estos aparatos/SWE",
          "Pasta de madera o de las demás materias fibrosas celulósicas; papel o cartón para reciclar (desperdicios y desechos); papel o cartón y sus aplicaciones/SWE",
          "Plástico y sus manufacturas; caucho y sus manufacturas/SWE",
          "Productos de las industrias químicas o de las industrias conexas/SWE",
          "Máquinas y aparatos, material eléctrico y sus partes; aparatos de grabación o reproducción de sonido, aparatos de grabación o reproducción de imagen y sonido en televisión, y las partes y accesorios de estos aparatos/SWZ",
          "Calzado, sombreros y demás tocados, paraguas, quitasoles, bastones, látigos, fustas y sus partes; plumas preparadas y artículos de plumas; flores artificiales; manufacturas de cabello/THA",
          "Instrumentos y aparatos de óptica, fotografía o cinematografía, de medida, control o precisión; instrumentos y aparatos médicoquirúrgicos; aparatos de relojería; instrumentos musicales; partes y accesorios de estos instrumentos o aparatos/THA",
          "Madera, carbón vegetal y manufacturas de madera; corcho y sus manufacturas; manufacturas de espartería o cestería/THA",
          "Manufacturas de piedra, yeso fraguable, cemento, amianto (asbesto), mica o materias análogas; productos cerámicos; vidrio y manufacturas de vidrio/THA",
          "Material de transporte/THA",
          "Materias textiles y sus manufacturas/THA",
          "Mercancías y productos diversos/THA",
          "Metales comunes y manufacturas de esos metales/THA",
          "Máquinas y aparatos, material eléctrico y sus partes; aparatos de grabación o reproducción de sonido, aparatos de grabación o reproducción de imagen y sonido en televisión, y las partes y accesorios de estos aparatos/THA",
          "Perlas finas (naturales) o cultivadas, piedras preciosas o semipreciosas, metales preciosos, chapados de metal precioso (plaqué) y manufacturas de estas materias; bisutería; monedas/THA",
          "Plástico y sus manufacturas; caucho y sus manufacturas/THA",
          "Productos de las industrias alimentarias; bebidas, líquidos alcohólicos y vinagre; tabaco y sucedáneos del tabaco elaborados/THA",
          "Productos de las industrias químicas o de las industrias conexas/THA",
          "Productos del reino vegetal/THA",
          "Productos minerales/THA",
          "Productos de las industrias químicas o de las industrias conexas/TTO",
          "Grasas y aceites animales o vegetales; productos de su desdoblamiento; grasas alimenticias elaboradas; ceras de origen animal o vegetal/TUN",
          "Madera, carbón vegetal y manufacturas de madera; corcho y sus manufacturas; manufacturas de espartería o cestería/TUN",
          "Materias textiles y sus manufacturas/TUN",
          "Productos del reino vegetal/TUN",
          "Calzado, sombreros y demás tocados, paraguas, quitasoles, bastones, látigos, fustas y sus partes; plumas preparadas y artículos de plumas; flores artificiales; manufacturas de cabello/TUR",
          "Instrumentos y aparatos de óptica, fotografía o cinematografía, de medida, control o precisión; instrumentos y aparatos médicoquirúrgicos; aparatos de relojería; instrumentos musicales; partes y accesorios de estos instrumentos o aparatos/TUR",
          "Madera, carbón vegetal y manufacturas de madera; corcho y sus manufacturas; manufacturas de espartería o cestería/TUR",
          "Manufacturas de piedra, yeso fraguable, cemento, amianto (asbesto), mica o materias análogas; productos cerámicos; vidrio y manufacturas de vidrio/TUR",
          "Material de transporte/TUR",
          "Materias textiles y sus manufacturas/TUR",
          "Mercancías y productos diversos/TUR",
          "Metales comunes y manufacturas de esos metales/TUR",
          "Máquinas y aparatos, material eléctrico y sus partes; aparatos de grabación o reproducción de sonido, aparatos de grabación o reproducción de imagen y sonido en televisión, y las partes y accesorios de estos aparatos/TUR",
          "Pasta de madera o de las demás materias fibrosas celulósicas; papel o cartón para reciclar (desperdicios y desechos); papel o cartón y sus aplicaciones/TUR",
          "Pieles, cueros, peletería y manufacturas de estas materias; artículos de talabartería o guarnicionería; artículos de viaje, bolsos de mano (carteras) y continentes similares; manufacturas de tripa/TUR",
          "Plástico y sus manufacturas; caucho y sus manufacturas/TUR",
          "Productos de las industrias alimentarias; bebidas, líquidos alcohólicos y vinagre; tabaco y sucedáneos del tabaco elaborados/TUR",
          "Productos de las industrias químicas o de las industrias conexas/TUR",
          "Productos del reino vegetal/TUR",
          "Productos minerales/TUR",
          "Armas, municiones, y sus partes y accesorios/TWN",
          "Calzado, sombreros y demás tocados, paraguas, quitasoles, bastones, látigos, fustas y sus partes; plumas preparadas y artículos de plumas; flores artificiales; manufacturas de cabello/TWN",
          "Instrumentos y aparatos de óptica, fotografía o cinematografía, de medida, control o precisión; instrumentos y aparatos médicoquirúrgicos; aparatos de relojería; instrumentos musicales; partes y accesorios de estos instrumentos o aparatos/TWN",
          "Madera, carbón vegetal y manufacturas de madera; corcho y sus manufacturas; manufacturas de espartería o cestería/TWN",
          "Manufacturas de piedra, yeso fraguable, cemento, amianto (asbesto), mica o materias análogas; productos cerámicos; vidrio y manufacturas de vidrio/TWN",
          "Material de transporte/TWN",
          "Materias textiles y sus manufacturas/TWN",
          "Mercancías y productos diversos/TWN",
          "Metales comunes y manufacturas de esos metales/TWN",
          "Máquinas y aparatos, material eléctrico y sus partes; aparatos de grabación o reproducción de sonido, aparatos de grabación o reproducción de imagen y sonido en televisión, y las partes y accesorios de estos aparatos/TWN",
          "Pasta de madera o de las demás materias fibrosas celulósicas; papel o cartón para reciclar (desperdicios y desechos); papel o cartón y sus aplicaciones/TWN",
          "Pieles, cueros, peletería y manufacturas de estas materias; artículos de talabartería o guarnicionería; artículos de viaje, bolsos de mano (carteras) y continentes similares; manufacturas de tripa/TWN",
          "Plástico y sus manufacturas; caucho y sus manufacturas/TWN",
          "Productos de las industrias alimentarias; bebidas, líquidos alcohólicos y vinagre; tabaco y sucedáneos del tabaco elaborados/TWN",
          "Productos de las industrias químicas o de las industrias conexas/TWN",
          "Productos del reino vegetal/TWN",
          "Productos minerales/TWN",
          "Objetos de arte o colección y antigüedades/TZA",
          "Grasas y aceites animales o vegetales; productos de su desdoblamiento; grasas alimenticias elaboradas; ceras de origen animal o vegetal/UKR",
          "Instrumentos y aparatos de óptica, fotografía o cinematografía, de medida, control o precisión; instrumentos y aparatos médicoquirúrgicos; aparatos de relojería; instrumentos musicales; partes y accesorios de estos instrumentos o aparatos/UKR",
          "Metales comunes y manufacturas de esos metales/UKR",
          "Máquinas y aparatos, material eléctrico y sus partes; aparatos de grabación o reproducción de sonido, aparatos de grabación o reproducción de imagen y sonido en televisión, y las partes y accesorios de estos aparatos/UKR",
          "Pasta de madera o de las demás materias fibrosas celulósicas; papel o cartón para reciclar (desperdicios y desechos); papel o cartón y sus aplicaciones/UKR",
          "Productos de las industrias químicas o de las industrias conexas/UKR",
          "Productos del reino vegetal/UKR",
          "Productos minerales/UKR",
          "Animales vivos y productos del reino animal/URY",
          "Madera, carbón vegetal y manufacturas de madera; corcho y sus manufacturas; manufacturas de espartería o cestería/URY",
          "Pieles, cueros, peletería y manufacturas de estas materias; artículos de talabartería o guarnicionería; artículos de viaje, bolsos de mano (carteras) y continentes similares; manufacturas de tripa/URY",
          "Productos de las industrias alimentarias; bebidas, líquidos alcohólicos y vinagre; tabaco y sucedáneos del tabaco elaborados/URY",
          "Productos de las industrias químicas o de las industrias conexas/URY",
          "Productos del reino vegetal/URY",
          "Animales vivos y productos del reino animal/USA",
          "Armas, municiones, y sus partes y accesorios/USA",
          "Calzado, sombreros y demás tocados, paraguas, quitasoles, bastones, látigos, fustas y sus partes; plumas preparadas y artículos de plumas; flores artificiales; manufacturas de cabello/USA",
          "Grasas y aceites animales o vegetales; productos de su desdoblamiento; grasas alimenticias elaboradas; ceras de origen animal o vegetal/USA",
          "Instrumentos y aparatos de óptica, fotografía o cinematografía, de medida, control o precisión; instrumentos y aparatos médicoquirúrgicos; aparatos de relojería; instrumentos musicales; partes y accesorios de estos instrumentos o aparatos/USA",
          "Madera, carbón vegetal y manufacturas de madera; corcho y sus manufacturas; manufacturas de espartería o cestería/USA",
          "Manufacturas de piedra, yeso fraguable, cemento, amianto (asbesto), mica o materias análogas; productos cerámicos; vidrio y manufacturas de vidrio/USA",
          "Material de transporte/USA",
          "Materias textiles y sus manufacturas/USA",
          "Mercancías y productos diversos/USA",
          "Metales comunes y manufacturas de esos metales/USA",
          "Máquinas y aparatos, material eléctrico y sus partes; aparatos de grabación o reproducción de sonido, aparatos de grabación o reproducción de imagen y sonido en televisión, y las partes y accesorios de estos aparatos/USA",
          "Objetos de arte o colección y antigüedades/USA",
          "Pasta de madera o de las demás materias fibrosas celulósicas; papel o cartón para reciclar (desperdicios y desechos); papel o cartón y sus aplicaciones/USA",
          "Perlas finas (naturales) o cultivadas, piedras preciosas o semipreciosas, metales preciosos, chapados de metal precioso (plaqué) y manufacturas de estas materias; bisutería; monedas/USA",
          "Pieles, cueros, peletería y manufacturas de estas materias; artículos de talabartería o guarnicionería; artículos de viaje, bolsos de mano (carteras) y continentes similares; manufacturas de tripa/USA",
          "Plástico y sus manufacturas; caucho y sus manufacturas/USA",
          "Productos de las industrias alimentarias; bebidas, líquidos alcohólicos y vinagre; tabaco y sucedáneos del tabaco elaborados/USA",
          "Productos de las industrias químicas o de las industrias conexas/USA",
          "Productos del reino vegetal/USA",
          "Productos minerales/USA",
          "Animales vivos y productos del reino animal/VNM",
          "Calzado, sombreros y demás tocados, paraguas, quitasoles, bastones, látigos, fustas y sus partes; plumas preparadas y artículos de plumas; flores artificiales; manufacturas de cabello/VNM",
          "Instrumentos y aparatos de óptica, fotografía o cinematografía, de medida, control o precisión; instrumentos y aparatos médicoquirúrgicos; aparatos de relojería; instrumentos musicales; partes y accesorios de estos instrumentos o aparatos/VNM",
          "Madera, carbón vegetal y manufacturas de madera; corcho y sus manufacturas; manufacturas de espartería o cestería/VNM",
          "Manufacturas de piedra, yeso fraguable, cemento, amianto (asbesto), mica o materias análogas; productos cerámicos; vidrio y manufacturas de vidrio/VNM",
          "Material de transporte/VNM",
          "Materias textiles y sus manufacturas/VNM",
          "Mercancías y productos diversos/VNM",
          "Metales comunes y manufacturas de esos metales/VNM",
          "Máquinas y aparatos, material eléctrico y sus partes; aparatos de grabación o reproducción de sonido, aparatos de grabación o reproducción de imagen y sonido en televisión, y las partes y accesorios de estos aparatos/VNM",
          "Pasta de madera o de las demás materias fibrosas celulósicas; papel o cartón para reciclar (desperdicios y desechos); papel o cartón y sus aplicaciones/VNM",
          "Pieles, cueros, peletería y manufacturas de estas materias; artículos de talabartería o guarnicionería; artículos de viaje, bolsos de mano (carteras) y continentes similares; manufacturas de tripa/VNM",
          "Plástico y sus manufacturas; caucho y sus manufacturas/VNM",
          "Productos de las industrias alimentarias; bebidas, líquidos alcohólicos y vinagre; tabaco y sucedáneos del tabaco elaborados/VNM",
          "Productos de las industrias químicas o de las industrias conexas/VNM",
          "Productos del reino vegetal/VNM",
          "Manufacturas de piedra, yeso fraguable, cemento, amianto (asbesto), mica o materias análogas; productos cerámicos; vidrio y manufacturas de vidrio/ZAF",
          "Materias textiles y sus manufacturas/ZAF",
          "Metales comunes y manufacturas de esos metales/ZAF",
          "Objetos de arte o colección y antigüedades/ZAF",
          "Pasta de madera o de las demás materias fibrosas celulósicas; papel o cartón para reciclar (desperdicios y desechos); papel o cartón y sus aplicaciones/ZAF",
          "Perlas finas (naturales) o cultivadas, piedras preciosas o semipreciosas, metales preciosos, chapados de metal precioso (plaqué) y manufacturas de estas materias; bisutería; monedas/ZAF",
          "Pieles, cueros, peletería y manufacturas de estas materias; artículos de talabartería o guarnicionería; artículos de viaje, bolsos de mano (carteras) y continentes similares; manufacturas de tripa/ZAF",
          "Productos de las industrias alimentarias; bebidas, líquidos alcohólicos y vinagre; tabaco y sucedáneos del tabaco elaborados/ZAF",
          "Productos de las industrias químicas o de las industrias conexas/ZAF",
          "Productos del reino vegetal/ZAF",
          "Productos minerales/ZAF",
          "Materias textiles y sus manufacturas/ZNE",
          "Máquinas y aparatos, material eléctrico y sus partes; aparatos de grabación o reproducción de sonido, aparatos de grabación o reproducción de imagen y sonido en televisión, y las partes y accesorios de estos aparatos/ZNE",
          "Perlas finas (naturales) o cultivadas, piedras preciosas o semipreciosas, metales preciosos, chapados de metal precioso (plaqué) y manufacturas de estas materias; bisutería; monedas/ZNE",
          "Pieles, cueros, peletería y manufacturas de estas materias; artículos de talabartería o guarnicionería; artículos de viaje, bolsos de mano (carteras) y continentes similares; manufacturas de tripa/ZWE",
          "Animales vivos y productos del reino animal",
          "Armas, municiones, y sus partes y accesorios",
          "Calzado, sombreros y demás tocados, paraguas, quitasoles, bastones, látigos, fustas y sus partes; plumas preparadas y artículos de plumas; flores artificiales; manufacturas de cabello",
          "Grasas y aceites animales o vegetales; productos de su desdoblamiento; grasas alimenticias elaboradas; ceras de origen animal o vegetal",
          "Instrumentos y aparatos de óptica, fotografía o cinematografía, de medida, control o precisión; instrumentos y aparatos médicoquirúrgicos; aparatos de relojería; instrumentos musicales; partes y accesorios de estos instrumentos o aparatos",
          "Madera, carbón vegetal y manufacturas de madera; corcho y sus manufacturas; manufacturas de espartería o cestería",
          "Manufacturas de piedra, yeso fraguable, cemento, amianto (asbesto), mica o materias análogas; productos cerámicos; vidrio y manufacturas de vidrio",
          "Material de transporte",
          "Materias textiles y sus manufacturas",
          "Mercancías y productos diversos",
          "Metales comunes y manufacturas de esos metales",
          "Máquinas y aparatos, material eléctrico y sus partes; aparatos de grabación o reproducción de sonido, aparatos de grabación o reproducción de imagen y sonido en televisión, y las partes y accesorios de estos aparatos",
          "Objetos de arte o colección y antigüedades",
          "Pasta de madera o de las demás materias fibrosas celulósicas; papel o cartón para reciclar (desperdicios y desechos); papel o cartón y sus aplicaciones",
          "Perlas finas (naturales) o cultivadas, piedras preciosas o semipreciosas, metales preciosos, chapados de metal precioso (plaqué) y manufacturas de estas materias; bisutería; monedas",
          "Pieles, cueros, peletería y manufacturas de estas materias; artículos de talabartería o guarnicionería; artículos de viaje, bolsos de mano (carteras) y continentes similares; manufacturas de tripa",
          "Plástico y sus manufacturas; caucho y sus manufacturas",
          "Productos de las industrias alimentarias; bebidas, líquidos alcohólicos y vinagre; tabaco y sucedáneos del tabaco elaborados",
          "Productos de las industrias químicas o de las industrias conexas",
          "Productos del reino vegetal",
          "Productos minerales"
         ],
         "labels": [
          "ALB",
          "ARE",
          "ARE",
          "ARE",
          "ARE",
          "ARG",
          "ARG",
          "ARG",
          "ARG",
          "ARG",
          "ARG",
          "ARG",
          "ARG",
          "ARG",
          "ARG",
          "ARG",
          "AUS",
          "AUS",
          "AUS",
          "AUS",
          "AUS",
          "AUS",
          "AUS",
          "AUS",
          "AUS",
          "AUS",
          "AUS",
          "AUT",
          "AUT",
          "AUT",
          "AUT",
          "AUT",
          "AUT",
          "AUT",
          "AUT",
          "AUT",
          "AUT",
          "AUT",
          "AUT",
          "AUT",
          "AUT",
          "AUT",
          "AUT",
          "AUT",
          "BEL",
          "BEL",
          "BEL",
          "BEL",
          "BEL",
          "BEL",
          "BEL",
          "BEL",
          "BEL",
          "BEL",
          "BEL",
          "BEL",
          "BEL",
          "BEL",
          "BEL",
          "BEL",
          "BEL",
          "BEL",
          "BGD",
          "BGD",
          "BGD",
          "BGD",
          "BGR",
          "BGR",
          "BGR",
          "BGR",
          "BGR",
          "BGR",
          "BHR",
          "BIH",
          "BIH",
          "BIH",
          "BLZ",
          "BOL",
          "BOL",
          "BOL",
          "BOL",
          "BRA",
          "BRA",
          "BRA",
          "BRA",
          "BRA",
          "BRA",
          "BRA",
          "BRA",
          "BRA",
          "BRA",
          "BRA",
          "BRA",
          "BRA",
          "BRA",
          "BRA",
          "BRA",
          "BRA",
          "BRA",
          "BRA",
          "CAN",
          "CAN",
          "CAN",
          "CAN",
          "CAN",
          "CAN",
          "CAN",
          "CAN",
          "CAN",
          "CAN",
          "CAN",
          "CAN",
          "CAN",
          "CAN",
          "CAN",
          "CAN",
          "CAN",
          "CAN",
          "CAN",
          "CAN",
          "CHE",
          "CHE",
          "CHE",
          "CHE",
          "CHE",
          "CHE",
          "CHE",
          "CHE",
          "CHE",
          "CHE",
          "CHE",
          "CHE",
          "CHE",
          "CHE",
          "CHE",
          "CHL",
          "CHL",
          "CHL",
          "CHL",
          "CHL",
          "CHL",
          "CHL",
          "CHL",
          "CHL",
          "CHL",
          "CHL",
          "CHL",
          "CHN",
          "CHN",
          "CHN",
          "CHN",
          "CHN",
          "CHN",
          "CHN",
          "CHN",
          "CHN",
          "CHN",
          "CHN",
          "CHN",
          "CHN",
          "CHN",
          "CHN",
          "CHN",
          "CHN",
          "CHN",
          "CHN",
          "CHN",
          "CHN",
          "CIV",
          "CMR",
          "COG",
          "COL",
          "COL",
          "COL",
          "COL",
          "COL",
          "COL",
          "COL",
          "COL",
          "COL",
          "COL",
          "COL",
          "COL",
          "COL",
          "COL",
          "COL",
          "COL",
          "CRI",
          "CRI",
          "CRI",
          "CRI",
          "CRI",
          "CRI",
          "CRI",
          "CRI",
          "CUB",
          "CYP",
          "CZE",
          "CZE",
          "CZE",
          "CZE",
          "CZE",
          "CZE",
          "CZE",
          "CZE",
          "CZE",
          "CZE",
          "CZE",
          "DEU",
          "DEU",
          "DEU",
          "DEU",
          "DEU",
          "DEU",
          "DEU",
          "DEU",
          "DEU",
          "DEU",
          "DEU",
          "DEU",
          "DEU",
          "DEU",
          "DEU",
          "DEU",
          "DEU",
          "DEU",
          "DEU",
          "DEU",
          "DEU",
          "DNK",
          "DNK",
          "DNK",
          "DNK",
          "DNK",
          "DNK",
          "DNK",
          "DNK",
          "DNK",
          "DNK",
          "DNK",
          "DNK",
          "DNK",
          "DOM",
          "DOM",
          "DOM",
          "DOM",
          "DZA",
          "ECU",
          "ECU",
          "ECU",
          "ECU",
          "ECU",
          "ECU",
          "EGY",
          "EGY",
          "EGY",
          "EGY",
          "ESP",
          "ESP",
          "ESP",
          "ESP",
          "ESP",
          "ESP",
          "ESP",
          "ESP",
          "ESP",
          "ESP",
          "ESP",
          "ESP",
          "ESP",
          "ESP",
          "ESP",
          "ESP",
          "ESP",
          "ESP",
          "ESP",
          "ESP",
          "ESP",
          "EST",
          "EST",
          "EST",
          "EST",
          "EUo",
          "EUo",
          "FIN",
          "FIN",
          "FIN",
          "FIN",
          "FIN",
          "FIN",
          "FIN",
          "FIN",
          "FIN",
          "FJI",
          "FJI",
          "FRA",
          "FRA",
          "FRA",
          "FRA",
          "FRA",
          "FRA",
          "FRA",
          "FRA",
          "FRA",
          "FRA",
          "FRA",
          "FRA",
          "FRA",
          "FRA",
          "FRA",
          "FRA",
          "FRA",
          "FRA",
          "FRA",
          "FRA",
          "GAB",
          "GAB",
          "GBR",
          "GBR",
          "GBR",
          "GBR",
          "GBR",
          "GBR",
          "GBR",
          "GBR",
          "GBR",
          "GBR",
          "GBR",
          "GBR",
          "GBR",
          "GBR",
          "GBR",
          "GBR",
          "GBR",
          "GBR",
          "GRC",
          "GRC",
          "GRC",
          "GRC",
          "GTM",
          "GTM",
          "GTM",
          "GTM",
          "GTM",
          "GTM",
          "GTM",
          "GTM",
          "GTM",
          "GTM",
          "GTM",
          "GTM",
          "GUY",
          "HKG",
          "HKG",
          "HKG",
          "HKG",
          "HKG",
          "HKG",
          "HKG",
          "HKG",
          "HKG",
          "HKG",
          "HKG",
          "HKG",
          "HKG",
          "HKG",
          "HKG",
          "HKG",
          "HND",
          "HND",
          "HND",
          "HND",
          "HND",
          "HTI",
          "HUN",
          "HUN",
          "HUN",
          "HUN",
          "HUN",
          "HUN",
          "HUN",
          "HUN",
          "IDN",
          "IDN",
          "IDN",
          "IDN",
          "IDN",
          "IDN",
          "IDN",
          "IDN",
          "IDN",
          "IDN",
          "IDN",
          "IDN",
          "IDN",
          "IDN",
          "IDN",
          "IDN",
          "IDN",
          "IDN",
          "IDN",
          "IDN",
          "IND",
          "IND",
          "IND",
          "IND",
          "IND",
          "IND",
          "IND",
          "IND",
          "IND",
          "IND",
          "IND",
          "IND",
          "IND",
          "IND",
          "IND",
          "IND",
          "IND",
          "IND",
          "IND",
          "IND",
          "IRL",
          "IRL",
          "IRL",
          "IRL",
          "ISL",
          "ISR",
          "ISR",
          "ISR",
          "ISR",
          "ISR",
          "ISR",
          "ISR",
          "ISR",
          "ISR",
          "ISR",
          "ISR",
          "ISR",
          "ITA",
          "ITA",
          "ITA",
          "ITA",
          "ITA",
          "ITA",
          "ITA",
          "ITA",
          "ITA",
          "ITA",
          "ITA",
          "ITA",
          "ITA",
          "ITA",
          "ITA",
          "ITA",
          "ITA",
          "ITA",
          "ITA",
          "ITA",
          "ITA",
          "JOR",
          "JOR",
          "JPN",
          "JPN",
          "JPN",
          "JPN",
          "JPN",
          "JPN",
          "JPN",
          "JPN",
          "JPN",
          "JPN",
          "JPN",
          "JPN",
          "JPN",
          "JPN",
          "JPN",
          "JPN",
          "JPN",
          "JPN",
          "KAZ",
          "KAZ",
          "KEN",
          "KGZ",
          "KHM",
          "KHM",
          "KHM",
          "KHM",
          "KOR",
          "KOR",
          "KOR",
          "KOR",
          "KOR",
          "KOR",
          "KOR",
          "KOR",
          "KOR",
          "KOR",
          "KOR",
          "KOR",
          "KOR",
          "KOR",
          "KOR",
          "KOR",
          "LKA",
          "LKA",
          "LKA",
          "LKA",
          "LKA",
          "LKA",
          "LKA",
          "LTU",
          "LTU",
          "LTU",
          "LTU",
          "LTU",
          "LUX",
          "MAC",
          "MAR",
          "MAR",
          "MAR",
          "MAR",
          "MAR",
          "MAR",
          "MAR",
          "MDG",
          "MDG",
          "MDG",
          "MDG",
          "MMR",
          "MMR",
          "MMR",
          "MMR",
          "MMR",
          "MOZ",
          "MYS",
          "MYS",
          "MYS",
          "MYS",
          "MYS",
          "MYS",
          "MYS",
          "MYS",
          "MYS",
          "MYS",
          "MYS",
          "MYS",
          "MYS",
          "MYS",
          "NAM",
          "NGA",
          "NIC",
          "NIC",
          "NIC",
          "NIC",
          "NIC",
          "NIC",
          "NLD",
          "NLD",
          "NLD",
          "NLD",
          "NLD",
          "NLD",
          "NLD",
          "NLD",
          "NLD",
          "NLD",
          "NLD",
          "NLD",
          "NLD",
          "NLD",
          "NLD",
          "NLD",
          "NOR",
          "NOR",
          "NOR",
          "NOR",
          "NOR",
          "NOR",
          "NOR",
          "NOR",
          "NPL",
          "NPL",
          "NZL",
          "NZL",
          "NZL",
          "NZL",
          "NZL",
          "NZL",
          "NZL",
          "NZL",
          "NZL",
          "OMN",
          "OMN",
          "PAK",
          "PAK",
          "PAK",
          "PAK",
          "PAN",
          "PER",
          "PER",
          "PER",
          "PER",
          "PER",
          "PER",
          "PER",
          "PER",
          "PER",
          "PER",
          "PER",
          "PER",
          "PER",
          "PHL",
          "PHL",
          "PHL",
          "PHL",
          "PHL",
          "PHL",
          "PHL",
          "PHL",
          "PHL",
          "PHL",
          "PHL",
          "POL",
          "POL",
          "POL",
          "POL",
          "POL",
          "POL",
          "POL",
          "POL",
          "POL",
          "POL",
          "POL",
          "POL",
          "POL",
          "POL",
          "PRT",
          "PRT",
          "PRT",
          "PRT",
          "PRT",
          "PRT",
          "PRT",
          "PRT",
          "PRT",
          "PRT",
          "PRT",
          "PRT",
          "PRT",
          "PRY",
          "PRY",
          "QAT",
          "ROU",
          "ROU",
          "ROU",
          "ROU",
          "ROU",
          "ROU",
          "ROU",
          "ROU",
          "ROU",
          "ROU",
          "ROU",
          "RUS",
          "RUS",
          "RUS",
          "RUS",
          "RUS",
          "RUS",
          "RUS",
          "RUS",
          "RUS",
          "RUS",
          "SDN",
          "SGP",
          "SGP",
          "SGP",
          "SGP",
          "SGP",
          "SGP",
          "SGP",
          "SGP",
          "SGP",
          "SLV",
          "SLV",
          "SLV",
          "SLV",
          "SRB",
          "SRB",
          "SRB",
          "SVK",
          "SVK",
          "SVN",
          "SVN",
          "SVN",
          "SVN",
          "SVN",
          "SVN",
          "SVN",
          "SWE",
          "SWE",
          "SWE",
          "SWE",
          "SWE",
          "SWE",
          "SWE",
          "SWE",
          "SWE",
          "SWE",
          "SWE",
          "SWE",
          "SWZ",
          "THA",
          "THA",
          "THA",
          "THA",
          "THA",
          "THA",
          "THA",
          "THA",
          "THA",
          "THA",
          "THA",
          "THA",
          "THA",
          "THA",
          "THA",
          "TTO",
          "TUN",
          "TUN",
          "TUN",
          "TUN",
          "TUR",
          "TUR",
          "TUR",
          "TUR",
          "TUR",
          "TUR",
          "TUR",
          "TUR",
          "TUR",
          "TUR",
          "TUR",
          "TUR",
          "TUR",
          "TUR",
          "TUR",
          "TUR",
          "TWN",
          "TWN",
          "TWN",
          "TWN",
          "TWN",
          "TWN",
          "TWN",
          "TWN",
          "TWN",
          "TWN",
          "TWN",
          "TWN",
          "TWN",
          "TWN",
          "TWN",
          "TWN",
          "TWN",
          "TZA",
          "UKR",
          "UKR",
          "UKR",
          "UKR",
          "UKR",
          "UKR",
          "UKR",
          "UKR",
          "URY",
          "URY",
          "URY",
          "URY",
          "URY",
          "URY",
          "USA",
          "USA",
          "USA",
          "USA",
          "USA",
          "USA",
          "USA",
          "USA",
          "USA",
          "USA",
          "USA",
          "USA",
          "USA",
          "USA",
          "USA",
          "USA",
          "USA",
          "USA",
          "USA",
          "USA",
          "USA",
          "VNM",
          "VNM",
          "VNM",
          "VNM",
          "VNM",
          "VNM",
          "VNM",
          "VNM",
          "VNM",
          "VNM",
          "VNM",
          "VNM",
          "VNM",
          "VNM",
          "VNM",
          "VNM",
          "ZAF",
          "ZAF",
          "ZAF",
          "ZAF",
          "ZAF",
          "ZAF",
          "ZAF",
          "ZAF",
          "ZAF",
          "ZAF",
          "ZAF",
          "ZNE",
          "ZNE",
          "ZNE",
          "ZWE",
          "Animales vivos y productos del reino animal",
          "Armas, municiones, y sus partes y accesorios",
          "Calzado, sombreros y demás tocados, paraguas, quitasoles, bastones, látigos, fustas y sus partes; plumas preparadas y artículos de plumas; flores artificiales; manufacturas de cabello",
          "Grasas y aceites animales o vegetales; productos de su desdoblamiento; grasas alimenticias elaboradas; ceras de origen animal o vegetal",
          "Instrumentos y aparatos de óptica, fotografía o cinematografía, de medida, control o precisión; instrumentos y aparatos médicoquirúrgicos; aparatos de relojería; instrumentos musicales; partes y accesorios de estos instrumentos o aparatos",
          "Madera, carbón vegetal y manufacturas de madera; corcho y sus manufacturas; manufacturas de espartería o cestería",
          "Manufacturas de piedra, yeso fraguable, cemento, amianto (asbesto), mica o materias análogas; productos cerámicos; vidrio y manufacturas de vidrio",
          "Material de transporte",
          "Materias textiles y sus manufacturas",
          "Mercancías y productos diversos",
          "Metales comunes y manufacturas de esos metales",
          "Máquinas y aparatos, material eléctrico y sus partes; aparatos de grabación o reproducción de sonido, aparatos de grabación o reproducción de imagen y sonido en televisión, y las partes y accesorios de estos aparatos",
          "Objetos de arte o colección y antigüedades",
          "Pasta de madera o de las demás materias fibrosas celulósicas; papel o cartón para reciclar (desperdicios y desechos); papel o cartón y sus aplicaciones",
          "Perlas finas (naturales) o cultivadas, piedras preciosas o semipreciosas, metales preciosos, chapados de metal precioso (plaqué) y manufacturas de estas materias; bisutería; monedas",
          "Pieles, cueros, peletería y manufacturas de estas materias; artículos de talabartería o guarnicionería; artículos de viaje, bolsos de mano (carteras) y continentes similares; manufacturas de tripa",
          "Plástico y sus manufacturas; caucho y sus manufacturas",
          "Productos de las industrias alimentarias; bebidas, líquidos alcohólicos y vinagre; tabaco y sucedáneos del tabaco elaborados",
          "Productos de las industrias químicas o de las industrias conexas",
          "Productos del reino vegetal",
          "Productos minerales"
         ],
         "name": "",
         "parents": [
          "Madera, carbón vegetal y manufacturas de madera; corcho y sus manufacturas; manufacturas de espartería o cestería",
          "Mercancías y productos diversos",
          "Metales comunes y manufacturas de esos metales",
          "Productos del reino vegetal",
          "Productos minerales",
          "Grasas y aceites animales o vegetales; productos de su desdoblamiento; grasas alimenticias elaboradas; ceras de origen animal o vegetal",
          "Instrumentos y aparatos de óptica, fotografía o cinematografía, de medida, control o precisión; instrumentos y aparatos médicoquirúrgicos; aparatos de relojería; instrumentos musicales; partes y accesorios de estos instrumentos o aparatos",
          "Madera, carbón vegetal y manufacturas de madera; corcho y sus manufacturas; manufacturas de espartería o cestería",
          "Materias textiles y sus manufacturas",
          "Mercancías y productos diversos",
          "Metales comunes y manufacturas de esos metales",
          "Máquinas y aparatos, material eléctrico y sus partes; aparatos de grabación o reproducción de sonido, aparatos de grabación o reproducción de imagen y sonido en televisión, y las partes y accesorios de estos aparatos",
          "Pieles, cueros, peletería y manufacturas de estas materias; artículos de talabartería o guarnicionería; artículos de viaje, bolsos de mano (carteras) y continentes similares; manufacturas de tripa",
          "Productos de las industrias alimentarias; bebidas, líquidos alcohólicos y vinagre; tabaco y sucedáneos del tabaco elaborados",
          "Productos de las industrias químicas o de las industrias conexas",
          "Productos del reino vegetal",
          "Animales vivos y productos del reino animal",
          "Instrumentos y aparatos de óptica, fotografía o cinematografía, de medida, control o precisión; instrumentos y aparatos médicoquirúrgicos; aparatos de relojería; instrumentos musicales; partes y accesorios de estos instrumentos o aparatos",
          "Metales comunes y manufacturas de esos metales",
          "Máquinas y aparatos, material eléctrico y sus partes; aparatos de grabación o reproducción de sonido, aparatos de grabación o reproducción de imagen y sonido en televisión, y las partes y accesorios de estos aparatos",
          "Pasta de madera o de las demás materias fibrosas celulósicas; papel o cartón para reciclar (desperdicios y desechos); papel o cartón y sus aplicaciones",
          "Perlas finas (naturales) o cultivadas, piedras preciosas o semipreciosas, metales preciosos, chapados de metal precioso (plaqué) y manufacturas de estas materias; bisutería; monedas",
          "Plástico y sus manufacturas; caucho y sus manufacturas",
          "Productos de las industrias alimentarias; bebidas, líquidos alcohólicos y vinagre; tabaco y sucedáneos del tabaco elaborados",
          "Productos de las industrias químicas o de las industrias conexas",
          "Productos del reino vegetal",
          "Productos minerales",
          "Animales vivos y productos del reino animal",
          "Instrumentos y aparatos de óptica, fotografía o cinematografía, de medida, control o precisión; instrumentos y aparatos médicoquirúrgicos; aparatos de relojería; instrumentos musicales; partes y accesorios de estos instrumentos o aparatos",
          "Madera, carbón vegetal y manufacturas de madera; corcho y sus manufacturas; manufacturas de espartería o cestería",
          "Manufacturas de piedra, yeso fraguable, cemento, amianto (asbesto), mica o materias análogas; productos cerámicos; vidrio y manufacturas de vidrio",
          "Material de transporte",
          "Materias textiles y sus manufacturas",
          "Mercancías y productos diversos",
          "Metales comunes y manufacturas de esos metales",
          "Máquinas y aparatos, material eléctrico y sus partes; aparatos de grabación o reproducción de sonido, aparatos de grabación o reproducción de imagen y sonido en televisión, y las partes y accesorios de estos aparatos",
          "Objetos de arte o colección y antigüedades",
          "Pasta de madera o de las demás materias fibrosas celulósicas; papel o cartón para reciclar (desperdicios y desechos); papel o cartón y sus aplicaciones",
          "Perlas finas (naturales) o cultivadas, piedras preciosas o semipreciosas, metales preciosos, chapados de metal precioso (plaqué) y manufacturas de estas materias; bisutería; monedas",
          "Plástico y sus manufacturas; caucho y sus manufacturas",
          "Productos de las industrias alimentarias; bebidas, líquidos alcohólicos y vinagre; tabaco y sucedáneos del tabaco elaborados",
          "Productos de las industrias químicas o de las industrias conexas",
          "Productos del reino vegetal",
          "Productos minerales",
          "Animales vivos y productos del reino animal",
          "Calzado, sombreros y demás tocados, paraguas, quitasoles, bastones, látigos, fustas y sus partes; plumas preparadas y artículos de plumas; flores artificiales; manufacturas de cabello",
          "Instrumentos y aparatos de óptica, fotografía o cinematografía, de medida, control o precisión; instrumentos y aparatos médicoquirúrgicos; aparatos de relojería; instrumentos musicales; partes y accesorios de estos instrumentos o aparatos",
          "Madera, carbón vegetal y manufacturas de madera; corcho y sus manufacturas; manufacturas de espartería o cestería",
          "Manufacturas de piedra, yeso fraguable, cemento, amianto (asbesto), mica o materias análogas; productos cerámicos; vidrio y manufacturas de vidrio",
          "Material de transporte",
          "Materias textiles y sus manufacturas",
          "Mercancías y productos diversos",
          "Metales comunes y manufacturas de esos metales",
          "Máquinas y aparatos, material eléctrico y sus partes; aparatos de grabación o reproducción de sonido, aparatos de grabación o reproducción de imagen y sonido en televisión, y las partes y accesorios de estos aparatos",
          "Objetos de arte o colección y antigüedades",
          "Pasta de madera o de las demás materias fibrosas celulósicas; papel o cartón para reciclar (desperdicios y desechos); papel o cartón y sus aplicaciones",
          "Perlas finas (naturales) o cultivadas, piedras preciosas o semipreciosas, metales preciosos, chapados de metal precioso (plaqué) y manufacturas de estas materias; bisutería; monedas",
          "Plástico y sus manufacturas; caucho y sus manufacturas",
          "Productos de las industrias alimentarias; bebidas, líquidos alcohólicos y vinagre; tabaco y sucedáneos del tabaco elaborados",
          "Productos de las industrias químicas o de las industrias conexas",
          "Productos del reino vegetal",
          "Productos minerales",
          "Calzado, sombreros y demás tocados, paraguas, quitasoles, bastones, látigos, fustas y sus partes; plumas preparadas y artículos de plumas; flores artificiales; manufacturas de cabello",
          "Instrumentos y aparatos de óptica, fotografía o cinematografía, de medida, control o precisión; instrumentos y aparatos médicoquirúrgicos; aparatos de relojería; instrumentos musicales; partes y accesorios de estos instrumentos o aparatos",
          "Materias textiles y sus manufacturas",
          "Mercancías y productos diversos",
          "Manufacturas de piedra, yeso fraguable, cemento, amianto (asbesto), mica o materias análogas; productos cerámicos; vidrio y manufacturas de vidrio",
          "Material de transporte",
          "Materias textiles y sus manufacturas",
          "Metales comunes y manufacturas de esos metales",
          "Máquinas y aparatos, material eléctrico y sus partes; aparatos de grabación o reproducción de sonido, aparatos de grabación o reproducción de imagen y sonido en televisión, y las partes y accesorios de estos aparatos",
          "Productos del reino vegetal",
          "Metales comunes y manufacturas de esos metales",
          "Metales comunes y manufacturas de esos metales",
          "Máquinas y aparatos, material eléctrico y sus partes; aparatos de grabación o reproducción de sonido, aparatos de grabación o reproducción de imagen y sonido en televisión, y las partes y accesorios de estos aparatos",
          "Productos de las industrias químicas o de las industrias conexas",
          "Metales comunes y manufacturas de esos metales",
          "Calzado, sombreros y demás tocados, paraguas, quitasoles, bastones, látigos, fustas y sus partes; plumas preparadas y artículos de plumas; flores artificiales; manufacturas de cabello",
          "Madera, carbón vegetal y manufacturas de madera; corcho y sus manufacturas; manufacturas de espartería o cestería",
          "Pieles, cueros, peletería y manufacturas de estas materias; artículos de talabartería o guarnicionería; artículos de viaje, bolsos de mano (carteras) y continentes similares; manufacturas de tripa",
          "Productos minerales",
          "Animales vivos y productos del reino animal",
          "Calzado, sombreros y demás tocados, paraguas, quitasoles, bastones, látigos, fustas y sus partes; plumas preparadas y artículos de plumas; flores artificiales; manufacturas de cabello",
          "Grasas y aceites animales o vegetales; productos de su desdoblamiento; grasas alimenticias elaboradas; ceras de origen animal o vegetal",
          "Instrumentos y aparatos de óptica, fotografía o cinematografía, de medida, control o precisión; instrumentos y aparatos médicoquirúrgicos; aparatos de relojería; instrumentos musicales; partes y accesorios de estos instrumentos o aparatos",
          "Madera, carbón vegetal y manufacturas de madera; corcho y sus manufacturas; manufacturas de espartería o cestería",
          "Manufacturas de piedra, yeso fraguable, cemento, amianto (asbesto), mica o materias análogas; productos cerámicos; vidrio y manufacturas de vidrio",
          "Material de transporte",
          "Materias textiles y sus manufacturas",
          "Mercancías y productos diversos",
          "Metales comunes y manufacturas de esos metales",
          "Máquinas y aparatos, material eléctrico y sus partes; aparatos de grabación o reproducción de sonido, aparatos de grabación o reproducción de imagen y sonido en televisión, y las partes y accesorios de estos aparatos",
          "Pasta de madera o de las demás materias fibrosas celulósicas; papel o cartón para reciclar (desperdicios y desechos); papel o cartón y sus aplicaciones",
          "Perlas finas (naturales) o cultivadas, piedras preciosas o semipreciosas, metales preciosos, chapados de metal precioso (plaqué) y manufacturas de estas materias; bisutería; monedas",
          "Pieles, cueros, peletería y manufacturas de estas materias; artículos de talabartería o guarnicionería; artículos de viaje, bolsos de mano (carteras) y continentes similares; manufacturas de tripa",
          "Plástico y sus manufacturas; caucho y sus manufacturas",
          "Productos de las industrias alimentarias; bebidas, líquidos alcohólicos y vinagre; tabaco y sucedáneos del tabaco elaborados",
          "Productos de las industrias químicas o de las industrias conexas",
          "Productos del reino vegetal",
          "Productos minerales",
          "Animales vivos y productos del reino animal",
          "Calzado, sombreros y demás tocados, paraguas, quitasoles, bastones, látigos, fustas y sus partes; plumas preparadas y artículos de plumas; flores artificiales; manufacturas de cabello",
          "Grasas y aceites animales o vegetales; productos de su desdoblamiento; grasas alimenticias elaboradas; ceras de origen animal o vegetal",
          "Instrumentos y aparatos de óptica, fotografía o cinematografía, de medida, control o precisión; instrumentos y aparatos médicoquirúrgicos; aparatos de relojería; instrumentos musicales; partes y accesorios de estos instrumentos o aparatos",
          "Madera, carbón vegetal y manufacturas de madera; corcho y sus manufacturas; manufacturas de espartería o cestería",
          "Manufacturas de piedra, yeso fraguable, cemento, amianto (asbesto), mica o materias análogas; productos cerámicos; vidrio y manufacturas de vidrio",
          "Material de transporte",
          "Materias textiles y sus manufacturas",
          "Mercancías y productos diversos",
          "Metales comunes y manufacturas de esos metales",
          "Máquinas y aparatos, material eléctrico y sus partes; aparatos de grabación o reproducción de sonido, aparatos de grabación o reproducción de imagen y sonido en televisión, y las partes y accesorios de estos aparatos",
          "Objetos de arte o colección y antigüedades",
          "Pasta de madera o de las demás materias fibrosas celulósicas; papel o cartón para reciclar (desperdicios y desechos); papel o cartón y sus aplicaciones",
          "Perlas finas (naturales) o cultivadas, piedras preciosas o semipreciosas, metales preciosos, chapados de metal precioso (plaqué) y manufacturas de estas materias; bisutería; monedas",
          "Pieles, cueros, peletería y manufacturas de estas materias; artículos de talabartería o guarnicionería; artículos de viaje, bolsos de mano (carteras) y continentes similares; manufacturas de tripa",
          "Plástico y sus manufacturas; caucho y sus manufacturas",
          "Productos de las industrias alimentarias; bebidas, líquidos alcohólicos y vinagre; tabaco y sucedáneos del tabaco elaborados",
          "Productos de las industrias químicas o de las industrias conexas",
          "Productos del reino vegetal",
          "Productos minerales",
          "Animales vivos y productos del reino animal",
          "Grasas y aceites animales o vegetales; productos de su desdoblamiento; grasas alimenticias elaboradas; ceras de origen animal o vegetal",
          "Instrumentos y aparatos de óptica, fotografía o cinematografía, de medida, control o precisión; instrumentos y aparatos médicoquirúrgicos; aparatos de relojería; instrumentos musicales; partes y accesorios de estos instrumentos o aparatos",
          "Manufacturas de piedra, yeso fraguable, cemento, amianto (asbesto), mica o materias análogas; productos cerámicos; vidrio y manufacturas de vidrio",
          "Materias textiles y sus manufacturas",
          "Mercancías y productos diversos",
          "Metales comunes y manufacturas de esos metales",
          "Máquinas y aparatos, material eléctrico y sus partes; aparatos de grabación o reproducción de sonido, aparatos de grabación o reproducción de imagen y sonido en televisión, y las partes y accesorios de estos aparatos",
          "Objetos de arte o colección y antigüedades",
          "Pasta de madera o de las demás materias fibrosas celulósicas; papel o cartón para reciclar (desperdicios y desechos); papel o cartón y sus aplicaciones",
          "Perlas finas (naturales) o cultivadas, piedras preciosas o semipreciosas, metales preciosos, chapados de metal precioso (plaqué) y manufacturas de estas materias; bisutería; monedas",
          "Plástico y sus manufacturas; caucho y sus manufacturas",
          "Productos de las industrias alimentarias; bebidas, líquidos alcohólicos y vinagre; tabaco y sucedáneos del tabaco elaborados",
          "Productos de las industrias químicas o de las industrias conexas",
          "Productos minerales",
          "Animales vivos y productos del reino animal",
          "Grasas y aceites animales o vegetales; productos de su desdoblamiento; grasas alimenticias elaboradas; ceras de origen animal o vegetal",
          "Madera, carbón vegetal y manufacturas de madera; corcho y sus manufacturas; manufacturas de espartería o cestería",
          "Material de transporte",
          "Materias textiles y sus manufacturas",
          "Metales comunes y manufacturas de esos metales",
          "Pasta de madera o de las demás materias fibrosas celulósicas; papel o cartón para reciclar (desperdicios y desechos); papel o cartón y sus aplicaciones",
          "Pieles, cueros, peletería y manufacturas de estas materias; artículos de talabartería o guarnicionería; artículos de viaje, bolsos de mano (carteras) y continentes similares; manufacturas de tripa",
          "Productos de las industrias alimentarias; bebidas, líquidos alcohólicos y vinagre; tabaco y sucedáneos del tabaco elaborados",
          "Productos de las industrias químicas o de las industrias conexas",
          "Productos del reino vegetal",
          "Productos minerales",
          "Animales vivos y productos del reino animal",
          "Armas, municiones, y sus partes y accesorios",
          "Calzado, sombreros y demás tocados, paraguas, quitasoles, bastones, látigos, fustas y sus partes; plumas preparadas y artículos de plumas; flores artificiales; manufacturas de cabello",
          "Grasas y aceites animales o vegetales; productos de su desdoblamiento; grasas alimenticias elaboradas; ceras de origen animal o vegetal",
          "Instrumentos y aparatos de óptica, fotografía o cinematografía, de medida, control o precisión; instrumentos y aparatos médicoquirúrgicos; aparatos de relojería; instrumentos musicales; partes y accesorios de estos instrumentos o aparatos",
          "Madera, carbón vegetal y manufacturas de madera; corcho y sus manufacturas; manufacturas de espartería o cestería",
          "Manufacturas de piedra, yeso fraguable, cemento, amianto (asbesto), mica o materias análogas; productos cerámicos; vidrio y manufacturas de vidrio",
          "Material de transporte",
          "Materias textiles y sus manufacturas",
          "Mercancías y productos diversos",
          "Metales comunes y manufacturas de esos metales",
          "Máquinas y aparatos, material eléctrico y sus partes; aparatos de grabación o reproducción de sonido, aparatos de grabación o reproducción de imagen y sonido en televisión, y las partes y accesorios de estos aparatos",
          "Objetos de arte o colección y antigüedades",
          "Pasta de madera o de las demás materias fibrosas celulósicas; papel o cartón para reciclar (desperdicios y desechos); papel o cartón y sus aplicaciones",
          "Perlas finas (naturales) o cultivadas, piedras preciosas o semipreciosas, metales preciosos, chapados de metal precioso (plaqué) y manufacturas de estas materias; bisutería; monedas",
          "Pieles, cueros, peletería y manufacturas de estas materias; artículos de talabartería o guarnicionería; artículos de viaje, bolsos de mano (carteras) y continentes similares; manufacturas de tripa",
          "Plástico y sus manufacturas; caucho y sus manufacturas",
          "Productos de las industrias alimentarias; bebidas, líquidos alcohólicos y vinagre; tabaco y sucedáneos del tabaco elaborados",
          "Productos de las industrias químicas o de las industrias conexas",
          "Productos del reino vegetal",
          "Productos minerales",
          "Productos de las industrias alimentarias; bebidas, líquidos alcohólicos y vinagre; tabaco y sucedáneos del tabaco elaborados",
          "Madera, carbón vegetal y manufacturas de madera; corcho y sus manufacturas; manufacturas de espartería o cestería",
          "Madera, carbón vegetal y manufacturas de madera; corcho y sus manufacturas; manufacturas de espartería o cestería",
          "Animales vivos y productos del reino animal",
          "Calzado, sombreros y demás tocados, paraguas, quitasoles, bastones, látigos, fustas y sus partes; plumas preparadas y artículos de plumas; flores artificiales; manufacturas de cabello",
          "Grasas y aceites animales o vegetales; productos de su desdoblamiento; grasas alimenticias elaboradas; ceras de origen animal o vegetal",
          "Madera, carbón vegetal y manufacturas de madera; corcho y sus manufacturas; manufacturas de espartería o cestería",
          "Manufacturas de piedra, yeso fraguable, cemento, amianto (asbesto), mica o materias análogas; productos cerámicos; vidrio y manufacturas de vidrio",
          "Materias textiles y sus manufacturas",
          "Mercancías y productos diversos",
          "Metales comunes y manufacturas de esos metales",
          "Máquinas y aparatos, material eléctrico y sus partes; aparatos de grabación o reproducción de sonido, aparatos de grabación o reproducción de imagen y sonido en televisión, y las partes y accesorios de estos aparatos",
          "Pasta de madera o de las demás materias fibrosas celulósicas; papel o cartón para reciclar (desperdicios y desechos); papel o cartón y sus aplicaciones",
          "Pieles, cueros, peletería y manufacturas de estas materias; artículos de talabartería o guarnicionería; artículos de viaje, bolsos de mano (carteras) y continentes similares; manufacturas de tripa",
          "Plástico y sus manufacturas; caucho y sus manufacturas",
          "Productos de las industrias alimentarias; bebidas, líquidos alcohólicos y vinagre; tabaco y sucedáneos del tabaco elaborados",
          "Productos de las industrias químicas o de las industrias conexas",
          "Productos del reino vegetal",
          "Productos minerales",
          "Grasas y aceites animales o vegetales; productos de su desdoblamiento; grasas alimenticias elaboradas; ceras de origen animal o vegetal",
          "Instrumentos y aparatos de óptica, fotografía o cinematografía, de medida, control o precisión; instrumentos y aparatos médicoquirúrgicos; aparatos de relojería; instrumentos musicales; partes y accesorios de estos instrumentos o aparatos",
          "Materias textiles y sus manufacturas",
          "Mercancías y productos diversos",
          "Máquinas y aparatos, material eléctrico y sus partes; aparatos de grabación o reproducción de sonido, aparatos de grabación o reproducción de imagen y sonido en televisión, y las partes y accesorios de estos aparatos",
          "Plástico y sus manufacturas; caucho y sus manufacturas",
          "Productos de las industrias alimentarias; bebidas, líquidos alcohólicos y vinagre; tabaco y sucedáneos del tabaco elaborados",
          "Productos del reino vegetal",
          "Productos de las industrias alimentarias; bebidas, líquidos alcohólicos y vinagre; tabaco y sucedáneos del tabaco elaborados",
          "Pasta de madera o de las demás materias fibrosas celulósicas; papel o cartón para reciclar (desperdicios y desechos); papel o cartón y sus aplicaciones",
          "Instrumentos y aparatos de óptica, fotografía o cinematografía, de medida, control o precisión; instrumentos y aparatos médicoquirúrgicos; aparatos de relojería; instrumentos musicales; partes y accesorios de estos instrumentos o aparatos",
          "Madera, carbón vegetal y manufacturas de madera; corcho y sus manufacturas; manufacturas de espartería o cestería",
          "Manufacturas de piedra, yeso fraguable, cemento, amianto (asbesto), mica o materias análogas; productos cerámicos; vidrio y manufacturas de vidrio",
          "Materias textiles y sus manufacturas",
          "Mercancías y productos diversos",
          "Metales comunes y manufacturas de esos metales",
          "Máquinas y aparatos, material eléctrico y sus partes; aparatos de grabación o reproducción de sonido, aparatos de grabación o reproducción de imagen y sonido en televisión, y las partes y accesorios de estos aparatos",
          "Pasta de madera o de las demás materias fibrosas celulósicas; papel o cartón para reciclar (desperdicios y desechos); papel o cartón y sus aplicaciones",
          "Plástico y sus manufacturas; caucho y sus manufacturas",
          "Productos de las industrias químicas o de las industrias conexas",
          "Productos minerales",
          "Animales vivos y productos del reino animal",
          "Armas, municiones, y sus partes y accesorios",
          "Calzado, sombreros y demás tocados, paraguas, quitasoles, bastones, látigos, fustas y sus partes; plumas preparadas y artículos de plumas; flores artificiales; manufacturas de cabello",
          "Grasas y aceites animales o vegetales; productos de su desdoblamiento; grasas alimenticias elaboradas; ceras de origen animal o vegetal",
          "Instrumentos y aparatos de óptica, fotografía o cinematografía, de medida, control o precisión; instrumentos y aparatos médicoquirúrgicos; aparatos de relojería; instrumentos musicales; partes y accesorios de estos instrumentos o aparatos",
          "Madera, carbón vegetal y manufacturas de madera; corcho y sus manufacturas; manufacturas de espartería o cestería",
          "Manufacturas de piedra, yeso fraguable, cemento, amianto (asbesto), mica o materias análogas; productos cerámicos; vidrio y manufacturas de vidrio",
          "Material de transporte",
          "Materias textiles y sus manufacturas",
          "Mercancías y productos diversos",
          "Metales comunes y manufacturas de esos metales",
          "Máquinas y aparatos, material eléctrico y sus partes; aparatos de grabación o reproducción de sonido, aparatos de grabación o reproducción de imagen y sonido en televisión, y las partes y accesorios de estos aparatos",
          "Objetos de arte o colección y antigüedades",
          "Pasta de madera o de las demás materias fibrosas celulósicas; papel o cartón para reciclar (desperdicios y desechos); papel o cartón y sus aplicaciones",
          "Perlas finas (naturales) o cultivadas, piedras preciosas o semipreciosas, metales preciosos, chapados de metal precioso (plaqué) y manufacturas de estas materias; bisutería; monedas",
          "Pieles, cueros, peletería y manufacturas de estas materias; artículos de talabartería o guarnicionería; artículos de viaje, bolsos de mano (carteras) y continentes similares; manufacturas de tripa",
          "Plástico y sus manufacturas; caucho y sus manufacturas",
          "Productos de las industrias alimentarias; bebidas, líquidos alcohólicos y vinagre; tabaco y sucedáneos del tabaco elaborados",
          "Productos de las industrias químicas o de las industrias conexas",
          "Productos del reino vegetal",
          "Productos minerales",
          "Animales vivos y productos del reino animal",
          "Instrumentos y aparatos de óptica, fotografía o cinematografía, de medida, control o precisión; instrumentos y aparatos médicoquirúrgicos; aparatos de relojería; instrumentos musicales; partes y accesorios de estos instrumentos o aparatos",
          "Manufacturas de piedra, yeso fraguable, cemento, amianto (asbesto), mica o materias análogas; productos cerámicos; vidrio y manufacturas de vidrio",
          "Material de transporte",
          "Materias textiles y sus manufacturas",
          "Metales comunes y manufacturas de esos metales",
          "Máquinas y aparatos, material eléctrico y sus partes; aparatos de grabación o reproducción de sonido, aparatos de grabación o reproducción de imagen y sonido en televisión, y las partes y accesorios de estos aparatos",
          "Pieles, cueros, peletería y manufacturas de estas materias; artículos de talabartería o guarnicionería; artículos de viaje, bolsos de mano (carteras) y continentes similares; manufacturas de tripa",
          "Plástico y sus manufacturas; caucho y sus manufacturas",
          "Productos de las industrias alimentarias; bebidas, líquidos alcohólicos y vinagre; tabaco y sucedáneos del tabaco elaborados",
          "Productos de las industrias químicas o de las industrias conexas",
          "Productos del reino vegetal",
          "Productos minerales",
          "Materias textiles y sus manufacturas",
          "Pasta de madera o de las demás materias fibrosas celulósicas; papel o cartón para reciclar (desperdicios y desechos); papel o cartón y sus aplicaciones",
          "Plástico y sus manufacturas; caucho y sus manufacturas",
          "Productos de las industrias alimentarias; bebidas, líquidos alcohólicos y vinagre; tabaco y sucedáneos del tabaco elaborados",
          "Productos de las industrias químicas o de las industrias conexas",
          "Animales vivos y productos del reino animal",
          "Calzado, sombreros y demás tocados, paraguas, quitasoles, bastones, látigos, fustas y sus partes; plumas preparadas y artículos de plumas; flores artificiales; manufacturas de cabello",
          "Madera, carbón vegetal y manufacturas de madera; corcho y sus manufacturas; manufacturas de espartería o cestería",
          "Materias textiles y sus manufacturas",
          "Productos de las industrias alimentarias; bebidas, líquidos alcohólicos y vinagre; tabaco y sucedáneos del tabaco elaborados",
          "Productos del reino vegetal",
          "Materias textiles y sus manufacturas",
          "Metales comunes y manufacturas de esos metales",
          "Productos de las industrias alimentarias; bebidas, líquidos alcohólicos y vinagre; tabaco y sucedáneos del tabaco elaborados",
          "Productos del reino vegetal",
          "Animales vivos y productos del reino animal",
          "Armas, municiones, y sus partes y accesorios",
          "Calzado, sombreros y demás tocados, paraguas, quitasoles, bastones, látigos, fustas y sus partes; plumas preparadas y artículos de plumas; flores artificiales; manufacturas de cabello",
          "Grasas y aceites animales o vegetales; productos de su desdoblamiento; grasas alimenticias elaboradas; ceras de origen animal o vegetal",
          "Instrumentos y aparatos de óptica, fotografía o cinematografía, de medida, control o precisión; instrumentos y aparatos médicoquirúrgicos; aparatos de relojería; instrumentos musicales; partes y accesorios de estos instrumentos o aparatos",
          "Madera, carbón vegetal y manufacturas de madera; corcho y sus manufacturas; manufacturas de espartería o cestería",
          "Manufacturas de piedra, yeso fraguable, cemento, amianto (asbesto), mica o materias análogas; productos cerámicos; vidrio y manufacturas de vidrio",
          "Material de transporte",
          "Materias textiles y sus manufacturas",
          "Mercancías y productos diversos",
          "Metales comunes y manufacturas de esos metales",
          "Máquinas y aparatos, material eléctrico y sus partes; aparatos de grabación o reproducción de sonido, aparatos de grabación o reproducción de imagen y sonido en televisión, y las partes y accesorios de estos aparatos",
          "Objetos de arte o colección y antigüedades",
          "Pasta de madera o de las demás materias fibrosas celulósicas; papel o cartón para reciclar (desperdicios y desechos); papel o cartón y sus aplicaciones",
          "Perlas finas (naturales) o cultivadas, piedras preciosas o semipreciosas, metales preciosos, chapados de metal precioso (plaqué) y manufacturas de estas materias; bisutería; monedas",
          "Pieles, cueros, peletería y manufacturas de estas materias; artículos de talabartería o guarnicionería; artículos de viaje, bolsos de mano (carteras) y continentes similares; manufacturas de tripa",
          "Plástico y sus manufacturas; caucho y sus manufacturas",
          "Productos de las industrias alimentarias; bebidas, líquidos alcohólicos y vinagre; tabaco y sucedáneos del tabaco elaborados",
          "Productos de las industrias químicas o de las industrias conexas",
          "Productos del reino vegetal",
          "Productos minerales",
          "Máquinas y aparatos, material eléctrico y sus partes; aparatos de grabación o reproducción de sonido, aparatos de grabación o reproducción de imagen y sonido en televisión, y las partes y accesorios de estos aparatos",
          "Pasta de madera o de las demás materias fibrosas celulósicas; papel o cartón para reciclar (desperdicios y desechos); papel o cartón y sus aplicaciones",
          "Productos de las industrias alimentarias; bebidas, líquidos alcohólicos y vinagre; tabaco y sucedáneos del tabaco elaborados",
          "Productos de las industrias químicas o de las industrias conexas",
          "Manufacturas de piedra, yeso fraguable, cemento, amianto (asbesto), mica o materias análogas; productos cerámicos; vidrio y manufacturas de vidrio",
          "Máquinas y aparatos, material eléctrico y sus partes; aparatos de grabación o reproducción de sonido, aparatos de grabación o reproducción de imagen y sonido en televisión, y las partes y accesorios de estos aparatos",
          "Instrumentos y aparatos de óptica, fotografía o cinematografía, de medida, control o precisión; instrumentos y aparatos médicoquirúrgicos; aparatos de relojería; instrumentos musicales; partes y accesorios de estos instrumentos o aparatos",
          "Materias textiles y sus manufacturas",
          "Mercancías y productos diversos",
          "Metales comunes y manufacturas de esos metales",
          "Máquinas y aparatos, material eléctrico y sus partes; aparatos de grabación o reproducción de sonido, aparatos de grabación o reproducción de imagen y sonido en televisión, y las partes y accesorios de estos aparatos",
          "Pasta de madera o de las demás materias fibrosas celulósicas; papel o cartón para reciclar (desperdicios y desechos); papel o cartón y sus aplicaciones",
          "Plástico y sus manufacturas; caucho y sus manufacturas",
          "Productos de las industrias químicas o de las industrias conexas",
          "Productos minerales",
          "Madera, carbón vegetal y manufacturas de madera; corcho y sus manufacturas; manufacturas de espartería o cestería",
          "Productos de las industrias alimentarias; bebidas, líquidos alcohólicos y vinagre; tabaco y sucedáneos del tabaco elaborados",
          "Animales vivos y productos del reino animal",
          "Calzado, sombreros y demás tocados, paraguas, quitasoles, bastones, látigos, fustas y sus partes; plumas preparadas y artículos de plumas; flores artificiales; manufacturas de cabello",
          "Grasas y aceites animales o vegetales; productos de su desdoblamiento; grasas alimenticias elaboradas; ceras de origen animal o vegetal",
          "Instrumentos y aparatos de óptica, fotografía o cinematografía, de medida, control o precisión; instrumentos y aparatos médicoquirúrgicos; aparatos de relojería; instrumentos musicales; partes y accesorios de estos instrumentos o aparatos",
          "Madera, carbón vegetal y manufacturas de madera; corcho y sus manufacturas; manufacturas de espartería o cestería",
          "Manufacturas de piedra, yeso fraguable, cemento, amianto (asbesto), mica o materias análogas; productos cerámicos; vidrio y manufacturas de vidrio",
          "Material de transporte",
          "Materias textiles y sus manufacturas",
          "Mercancías y productos diversos",
          "Metales comunes y manufacturas de esos metales",
          "Máquinas y aparatos, material eléctrico y sus partes; aparatos de grabación o reproducción de sonido, aparatos de grabación o reproducción de imagen y sonido en televisión, y las partes y accesorios de estos aparatos",
          "Objetos de arte o colección y antigüedades",
          "Pasta de madera o de las demás materias fibrosas celulósicas; papel o cartón para reciclar (desperdicios y desechos); papel o cartón y sus aplicaciones",
          "Perlas finas (naturales) o cultivadas, piedras preciosas o semipreciosas, metales preciosos, chapados de metal precioso (plaqué) y manufacturas de estas materias; bisutería; monedas",
          "Pieles, cueros, peletería y manufacturas de estas materias; artículos de talabartería o guarnicionería; artículos de viaje, bolsos de mano (carteras) y continentes similares; manufacturas de tripa",
          "Plástico y sus manufacturas; caucho y sus manufacturas",
          "Productos de las industrias alimentarias; bebidas, líquidos alcohólicos y vinagre; tabaco y sucedáneos del tabaco elaborados",
          "Productos de las industrias químicas o de las industrias conexas",
          "Productos del reino vegetal",
          "Productos minerales",
          "Madera, carbón vegetal y manufacturas de madera; corcho y sus manufacturas; manufacturas de espartería o cestería",
          "Productos minerales",
          "Animales vivos y productos del reino animal",
          "Calzado, sombreros y demás tocados, paraguas, quitasoles, bastones, látigos, fustas y sus partes; plumas preparadas y artículos de plumas; flores artificiales; manufacturas de cabello",
          "Instrumentos y aparatos de óptica, fotografía o cinematografía, de medida, control o precisión; instrumentos y aparatos médicoquirúrgicos; aparatos de relojería; instrumentos musicales; partes y accesorios de estos instrumentos o aparatos",
          "Madera, carbón vegetal y manufacturas de madera; corcho y sus manufacturas; manufacturas de espartería o cestería",
          "Manufacturas de piedra, yeso fraguable, cemento, amianto (asbesto), mica o materias análogas; productos cerámicos; vidrio y manufacturas de vidrio",
          "Material de transporte",
          "Materias textiles y sus manufacturas",
          "Mercancías y productos diversos",
          "Metales comunes y manufacturas de esos metales",
          "Máquinas y aparatos, material eléctrico y sus partes; aparatos de grabación o reproducción de sonido, aparatos de grabación o reproducción de imagen y sonido en televisión, y las partes y accesorios de estos aparatos",
          "Objetos de arte o colección y antigüedades",
          "Pasta de madera o de las demás materias fibrosas celulósicas; papel o cartón para reciclar (desperdicios y desechos); papel o cartón y sus aplicaciones",
          "Perlas finas (naturales) o cultivadas, piedras preciosas o semipreciosas, metales preciosos, chapados de metal precioso (plaqué) y manufacturas de estas materias; bisutería; monedas",
          "Plástico y sus manufacturas; caucho y sus manufacturas",
          "Productos de las industrias alimentarias; bebidas, líquidos alcohólicos y vinagre; tabaco y sucedáneos del tabaco elaborados",
          "Productos de las industrias químicas o de las industrias conexas",
          "Productos del reino vegetal",
          "Productos minerales",
          "Grasas y aceites animales o vegetales; productos de su desdoblamiento; grasas alimenticias elaboradas; ceras de origen animal o vegetal",
          "Mercancías y productos diversos",
          "Pasta de madera o de las demás materias fibrosas celulósicas; papel o cartón para reciclar (desperdicios y desechos); papel o cartón y sus aplicaciones",
          "Productos minerales",
          "Animales vivos y productos del reino animal",
          "Grasas y aceites animales o vegetales; productos de su desdoblamiento; grasas alimenticias elaboradas; ceras de origen animal o vegetal",
          "Madera, carbón vegetal y manufacturas de madera; corcho y sus manufacturas; manufacturas de espartería o cestería",
          "Materias textiles y sus manufacturas",
          "Mercancías y productos diversos",
          "Metales comunes y manufacturas de esos metales",
          "Pasta de madera o de las demás materias fibrosas celulósicas; papel o cartón para reciclar (desperdicios y desechos); papel o cartón y sus aplicaciones",
          "Plástico y sus manufacturas; caucho y sus manufacturas",
          "Productos de las industrias alimentarias; bebidas, líquidos alcohólicos y vinagre; tabaco y sucedáneos del tabaco elaborados",
          "Productos de las industrias químicas o de las industrias conexas",
          "Productos del reino vegetal",
          "Productos minerales",
          "Productos minerales",
          "Calzado, sombreros y demás tocados, paraguas, quitasoles, bastones, látigos, fustas y sus partes; plumas preparadas y artículos de plumas; flores artificiales; manufacturas de cabello",
          "Grasas y aceites animales o vegetales; productos de su desdoblamiento; grasas alimenticias elaboradas; ceras de origen animal o vegetal",
          "Instrumentos y aparatos de óptica, fotografía o cinematografía, de medida, control o precisión; instrumentos y aparatos médicoquirúrgicos; aparatos de relojería; instrumentos musicales; partes y accesorios de estos instrumentos o aparatos",
          "Madera, carbón vegetal y manufacturas de madera; corcho y sus manufacturas; manufacturas de espartería o cestería",
          "Manufacturas de piedra, yeso fraguable, cemento, amianto (asbesto), mica o materias análogas; productos cerámicos; vidrio y manufacturas de vidrio",
          "Materias textiles y sus manufacturas",
          "Mercancías y productos diversos",
          "Metales comunes y manufacturas de esos metales",
          "Máquinas y aparatos, material eléctrico y sus partes; aparatos de grabación o reproducción de sonido, aparatos de grabación o reproducción de imagen y sonido en televisión, y las partes y accesorios de estos aparatos",
          "Pasta de madera o de las demás materias fibrosas celulósicas; papel o cartón para reciclar (desperdicios y desechos); papel o cartón y sus aplicaciones",
          "Perlas finas (naturales) o cultivadas, piedras preciosas o semipreciosas, metales preciosos, chapados de metal precioso (plaqué) y manufacturas de estas materias; bisutería; monedas",
          "Pieles, cueros, peletería y manufacturas de estas materias; artículos de talabartería o guarnicionería; artículos de viaje, bolsos de mano (carteras) y continentes similares; manufacturas de tripa",
          "Plástico y sus manufacturas; caucho y sus manufacturas",
          "Productos de las industrias alimentarias; bebidas, líquidos alcohólicos y vinagre; tabaco y sucedáneos del tabaco elaborados",
          "Productos de las industrias químicas o de las industrias conexas",
          "Productos minerales",
          "Animales vivos y productos del reino animal",
          "Grasas y aceites animales o vegetales; productos de su desdoblamiento; grasas alimenticias elaboradas; ceras de origen animal o vegetal",
          "Materias textiles y sus manufacturas",
          "Pasta de madera o de las demás materias fibrosas celulósicas; papel o cartón para reciclar (desperdicios y desechos); papel o cartón y sus aplicaciones",
          "Productos del reino vegetal",
          "Materias textiles y sus manufacturas",
          "Instrumentos y aparatos de óptica, fotografía o cinematografía, de medida, control o precisión; instrumentos y aparatos médicoquirúrgicos; aparatos de relojería; instrumentos musicales; partes y accesorios de estos instrumentos o aparatos",
          "Madera, carbón vegetal y manufacturas de madera; corcho y sus manufacturas; manufacturas de espartería o cestería",
          "Manufacturas de piedra, yeso fraguable, cemento, amianto (asbesto), mica o materias análogas; productos cerámicos; vidrio y manufacturas de vidrio",
          "Máquinas y aparatos, material eléctrico y sus partes; aparatos de grabación o reproducción de sonido, aparatos de grabación o reproducción de imagen y sonido en televisión, y las partes y accesorios de estos aparatos",
          "Pieles, cueros, peletería y manufacturas de estas materias; artículos de talabartería o guarnicionería; artículos de viaje, bolsos de mano (carteras) y continentes similares; manufacturas de tripa",
          "Plástico y sus manufacturas; caucho y sus manufacturas",
          "Productos de las industrias químicas o de las industrias conexas",
          "Productos del reino vegetal",
          "Animales vivos y productos del reino animal",
          "Calzado, sombreros y demás tocados, paraguas, quitasoles, bastones, látigos, fustas y sus partes; plumas preparadas y artículos de plumas; flores artificiales; manufacturas de cabello",
          "Grasas y aceites animales o vegetales; productos de su desdoblamiento; grasas alimenticias elaboradas; ceras de origen animal o vegetal",
          "Instrumentos y aparatos de óptica, fotografía o cinematografía, de medida, control o precisión; instrumentos y aparatos médicoquirúrgicos; aparatos de relojería; instrumentos musicales; partes y accesorios de estos instrumentos o aparatos",
          "Madera, carbón vegetal y manufacturas de madera; corcho y sus manufacturas; manufacturas de espartería o cestería",
          "Manufacturas de piedra, yeso fraguable, cemento, amianto (asbesto), mica o materias análogas; productos cerámicos; vidrio y manufacturas de vidrio",
          "Material de transporte",
          "Materias textiles y sus manufacturas",
          "Mercancías y productos diversos",
          "Metales comunes y manufacturas de esos metales",
          "Máquinas y aparatos, material eléctrico y sus partes; aparatos de grabación o reproducción de sonido, aparatos de grabación o reproducción de imagen y sonido en televisión, y las partes y accesorios de estos aparatos",
          "Objetos de arte o colección y antigüedades",
          "Pasta de madera o de las demás materias fibrosas celulósicas; papel o cartón para reciclar (desperdicios y desechos); papel o cartón y sus aplicaciones",
          "Perlas finas (naturales) o cultivadas, piedras preciosas o semipreciosas, metales preciosos, chapados de metal precioso (plaqué) y manufacturas de estas materias; bisutería; monedas",
          "Pieles, cueros, peletería y manufacturas de estas materias; artículos de talabartería o guarnicionería; artículos de viaje, bolsos de mano (carteras) y continentes similares; manufacturas de tripa",
          "Plástico y sus manufacturas; caucho y sus manufacturas",
          "Productos de las industrias alimentarias; bebidas, líquidos alcohólicos y vinagre; tabaco y sucedáneos del tabaco elaborados",
          "Productos de las industrias químicas o de las industrias conexas",
          "Productos del reino vegetal",
          "Productos minerales",
          "Animales vivos y productos del reino animal",
          "Calzado, sombreros y demás tocados, paraguas, quitasoles, bastones, látigos, fustas y sus partes; plumas preparadas y artículos de plumas; flores artificiales; manufacturas de cabello",
          "Grasas y aceites animales o vegetales; productos de su desdoblamiento; grasas alimenticias elaboradas; ceras de origen animal o vegetal",
          "Instrumentos y aparatos de óptica, fotografía o cinematografía, de medida, control o precisión; instrumentos y aparatos médicoquirúrgicos; aparatos de relojería; instrumentos musicales; partes y accesorios de estos instrumentos o aparatos",
          "Madera, carbón vegetal y manufacturas de madera; corcho y sus manufacturas; manufacturas de espartería o cestería",
          "Manufacturas de piedra, yeso fraguable, cemento, amianto (asbesto), mica o materias análogas; productos cerámicos; vidrio y manufacturas de vidrio",
          "Material de transporte",
          "Materias textiles y sus manufacturas",
          "Mercancías y productos diversos",
          "Metales comunes y manufacturas de esos metales",
          "Máquinas y aparatos, material eléctrico y sus partes; aparatos de grabación o reproducción de sonido, aparatos de grabación o reproducción de imagen y sonido en televisión, y las partes y accesorios de estos aparatos",
          "Objetos de arte o colección y antigüedades",
          "Pasta de madera o de las demás materias fibrosas celulósicas; papel o cartón para reciclar (desperdicios y desechos); papel o cartón y sus aplicaciones",
          "Perlas finas (naturales) o cultivadas, piedras preciosas o semipreciosas, metales preciosos, chapados de metal precioso (plaqué) y manufacturas de estas materias; bisutería; monedas",
          "Pieles, cueros, peletería y manufacturas de estas materias; artículos de talabartería o guarnicionería; artículos de viaje, bolsos de mano (carteras) y continentes similares; manufacturas de tripa",
          "Plástico y sus manufacturas; caucho y sus manufacturas",
          "Productos de las industrias alimentarias; bebidas, líquidos alcohólicos y vinagre; tabaco y sucedáneos del tabaco elaborados",
          "Productos de las industrias químicas o de las industrias conexas",
          "Productos del reino vegetal",
          "Productos minerales",
          "Instrumentos y aparatos de óptica, fotografía o cinematografía, de medida, control o precisión; instrumentos y aparatos médicoquirúrgicos; aparatos de relojería; instrumentos musicales; partes y accesorios de estos instrumentos o aparatos",
          "Máquinas y aparatos, material eléctrico y sus partes; aparatos de grabación o reproducción de sonido, aparatos de grabación o reproducción de imagen y sonido en televisión, y las partes y accesorios de estos aparatos",
          "Plástico y sus manufacturas; caucho y sus manufacturas",
          "Productos de las industrias químicas o de las industrias conexas",
          "Productos de las industrias alimentarias; bebidas, líquidos alcohólicos y vinagre; tabaco y sucedáneos del tabaco elaborados",
          "Instrumentos y aparatos de óptica, fotografía o cinematografía, de medida, control o precisión; instrumentos y aparatos médicoquirúrgicos; aparatos de relojería; instrumentos musicales; partes y accesorios de estos instrumentos o aparatos",
          "Manufacturas de piedra, yeso fraguable, cemento, amianto (asbesto), mica o materias análogas; productos cerámicos; vidrio y manufacturas de vidrio",
          "Materias textiles y sus manufacturas",
          "Mercancías y productos diversos",
          "Metales comunes y manufacturas de esos metales",
          "Máquinas y aparatos, material eléctrico y sus partes; aparatos de grabación o reproducción de sonido, aparatos de grabación o reproducción de imagen y sonido en televisión, y las partes y accesorios de estos aparatos",
          "Objetos de arte o colección y antigüedades",
          "Perlas finas (naturales) o cultivadas, piedras preciosas o semipreciosas, metales preciosos, chapados de metal precioso (plaqué) y manufacturas de estas materias; bisutería; monedas",
          "Productos de las industrias alimentarias; bebidas, líquidos alcohólicos y vinagre; tabaco y sucedáneos del tabaco elaborados",
          "Productos de las industrias químicas o de las industrias conexas",
          "Productos del reino vegetal",
          "Productos minerales",
          "Animales vivos y productos del reino animal",
          "Armas, municiones, y sus partes y accesorios",
          "Calzado, sombreros y demás tocados, paraguas, quitasoles, bastones, látigos, fustas y sus partes; plumas preparadas y artículos de plumas; flores artificiales; manufacturas de cabello",
          "Grasas y aceites animales o vegetales; productos de su desdoblamiento; grasas alimenticias elaboradas; ceras de origen animal o vegetal",
          "Instrumentos y aparatos de óptica, fotografía o cinematografía, de medida, control o precisión; instrumentos y aparatos médicoquirúrgicos; aparatos de relojería; instrumentos musicales; partes y accesorios de estos instrumentos o aparatos",
          "Madera, carbón vegetal y manufacturas de madera; corcho y sus manufacturas; manufacturas de espartería o cestería",
          "Manufacturas de piedra, yeso fraguable, cemento, amianto (asbesto), mica o materias análogas; productos cerámicos; vidrio y manufacturas de vidrio",
          "Material de transporte",
          "Materias textiles y sus manufacturas",
          "Mercancías y productos diversos",
          "Metales comunes y manufacturas de esos metales",
          "Máquinas y aparatos, material eléctrico y sus partes; aparatos de grabación o reproducción de sonido, aparatos de grabación o reproducción de imagen y sonido en televisión, y las partes y accesorios de estos aparatos",
          "Objetos de arte o colección y antigüedades",
          "Pasta de madera o de las demás materias fibrosas celulósicas; papel o cartón para reciclar (desperdicios y desechos); papel o cartón y sus aplicaciones",
          "Perlas finas (naturales) o cultivadas, piedras preciosas o semipreciosas, metales preciosos, chapados de metal precioso (plaqué) y manufacturas de estas materias; bisutería; monedas",
          "Pieles, cueros, peletería y manufacturas de estas materias; artículos de talabartería o guarnicionería; artículos de viaje, bolsos de mano (carteras) y continentes similares; manufacturas de tripa",
          "Plástico y sus manufacturas; caucho y sus manufacturas",
          "Productos de las industrias alimentarias; bebidas, líquidos alcohólicos y vinagre; tabaco y sucedáneos del tabaco elaborados",
          "Productos de las industrias químicas o de las industrias conexas",
          "Productos del reino vegetal",
          "Productos minerales",
          "Materias textiles y sus manufacturas",
          "Productos de las industrias químicas o de las industrias conexas",
          "Animales vivos y productos del reino animal",
          "Calzado, sombreros y demás tocados, paraguas, quitasoles, bastones, látigos, fustas y sus partes; plumas preparadas y artículos de plumas; flores artificiales; manufacturas de cabello",
          "Grasas y aceites animales o vegetales; productos de su desdoblamiento; grasas alimenticias elaboradas; ceras de origen animal o vegetal",
          "Instrumentos y aparatos de óptica, fotografía o cinematografía, de medida, control o precisión; instrumentos y aparatos médicoquirúrgicos; aparatos de relojería; instrumentos musicales; partes y accesorios de estos instrumentos o aparatos",
          "Madera, carbón vegetal y manufacturas de madera; corcho y sus manufacturas; manufacturas de espartería o cestería",
          "Manufacturas de piedra, yeso fraguable, cemento, amianto (asbesto), mica o materias análogas; productos cerámicos; vidrio y manufacturas de vidrio",
          "Material de transporte",
          "Materias textiles y sus manufacturas",
          "Mercancías y productos diversos",
          "Metales comunes y manufacturas de esos metales",
          "Máquinas y aparatos, material eléctrico y sus partes; aparatos de grabación o reproducción de sonido, aparatos de grabación o reproducción de imagen y sonido en televisión, y las partes y accesorios de estos aparatos",
          "Pasta de madera o de las demás materias fibrosas celulósicas; papel o cartón para reciclar (desperdicios y desechos); papel o cartón y sus aplicaciones",
          "Perlas finas (naturales) o cultivadas, piedras preciosas o semipreciosas, metales preciosos, chapados de metal precioso (plaqué) y manufacturas de estas materias; bisutería; monedas",
          "Plástico y sus manufacturas; caucho y sus manufacturas",
          "Productos de las industrias alimentarias; bebidas, líquidos alcohólicos y vinagre; tabaco y sucedáneos del tabaco elaborados",
          "Productos de las industrias químicas o de las industrias conexas",
          "Productos del reino vegetal",
          "Productos minerales",
          "Metales comunes y manufacturas de esos metales",
          "Productos de las industrias químicas o de las industrias conexas",
          "Productos del reino vegetal",
          "Objetos de arte o colección y antigüedades",
          "Calzado, sombreros y demás tocados, paraguas, quitasoles, bastones, látigos, fustas y sus partes; plumas preparadas y artículos de plumas; flores artificiales; manufacturas de cabello",
          "Material de transporte",
          "Materias textiles y sus manufacturas",
          "Pieles, cueros, peletería y manufacturas de estas materias; artículos de talabartería o guarnicionería; artículos de viaje, bolsos de mano (carteras) y continentes similares; manufacturas de tripa",
          "Calzado, sombreros y demás tocados, paraguas, quitasoles, bastones, látigos, fustas y sus partes; plumas preparadas y artículos de plumas; flores artificiales; manufacturas de cabello",
          "Instrumentos y aparatos de óptica, fotografía o cinematografía, de medida, control o precisión; instrumentos y aparatos médicoquirúrgicos; aparatos de relojería; instrumentos musicales; partes y accesorios de estos instrumentos o aparatos",
          "Manufacturas de piedra, yeso fraguable, cemento, amianto (asbesto), mica o materias análogas; productos cerámicos; vidrio y manufacturas de vidrio",
          "Material de transporte",
          "Materias textiles y sus manufacturas",
          "Mercancías y productos diversos",
          "Metales comunes y manufacturas de esos metales",
          "Máquinas y aparatos, material eléctrico y sus partes; aparatos de grabación o reproducción de sonido, aparatos de grabación o reproducción de imagen y sonido en televisión, y las partes y accesorios de estos aparatos",
          "Objetos de arte o colección y antigüedades",
          "Pasta de madera o de las demás materias fibrosas celulósicas; papel o cartón para reciclar (desperdicios y desechos); papel o cartón y sus aplicaciones",
          "Perlas finas (naturales) o cultivadas, piedras preciosas o semipreciosas, metales preciosos, chapados de metal precioso (plaqué) y manufacturas de estas materias; bisutería; monedas",
          "Plástico y sus manufacturas; caucho y sus manufacturas",
          "Productos de las industrias alimentarias; bebidas, líquidos alcohólicos y vinagre; tabaco y sucedáneos del tabaco elaborados",
          "Productos de las industrias químicas o de las industrias conexas",
          "Productos del reino vegetal",
          "Productos minerales",
          "Calzado, sombreros y demás tocados, paraguas, quitasoles, bastones, látigos, fustas y sus partes; plumas preparadas y artículos de plumas; flores artificiales; manufacturas de cabello",
          "Grasas y aceites animales o vegetales; productos de su desdoblamiento; grasas alimenticias elaboradas; ceras de origen animal o vegetal",
          "Madera, carbón vegetal y manufacturas de madera; corcho y sus manufacturas; manufacturas de espartería o cestería",
          "Manufacturas de piedra, yeso fraguable, cemento, amianto (asbesto), mica o materias análogas; productos cerámicos; vidrio y manufacturas de vidrio",
          "Materias textiles y sus manufacturas",
          "Productos de las industrias químicas o de las industrias conexas",
          "Productos del reino vegetal",
          "Animales vivos y productos del reino animal",
          "Instrumentos y aparatos de óptica, fotografía o cinematografía, de medida, control o precisión; instrumentos y aparatos médicoquirúrgicos; aparatos de relojería; instrumentos musicales; partes y accesorios de estos instrumentos o aparatos",
          "Materias textiles y sus manufacturas",
          "Mercancías y productos diversos",
          "Productos del reino vegetal",
          "Metales comunes y manufacturas de esos metales",
          "Instrumentos y aparatos de óptica, fotografía o cinematografía, de medida, control o precisión; instrumentos y aparatos médicoquirúrgicos; aparatos de relojería; instrumentos musicales; partes y accesorios de estos instrumentos o aparatos",
          "Madera, carbón vegetal y manufacturas de madera; corcho y sus manufacturas; manufacturas de espartería o cestería",
          "Materias textiles y sus manufacturas",
          "Objetos de arte o colección y antigüedades",
          "Perlas finas (naturales) o cultivadas, piedras preciosas o semipreciosas, metales preciosos, chapados de metal precioso (plaqué) y manufacturas de estas materias; bisutería; monedas",
          "Productos de las industrias alimentarias; bebidas, líquidos alcohólicos y vinagre; tabaco y sucedáneos del tabaco elaborados",
          "Productos de las industrias químicas o de las industrias conexas",
          "Productos del reino vegetal",
          "Madera, carbón vegetal y manufacturas de madera; corcho y sus manufacturas; manufacturas de espartería o cestería",
          "Objetos de arte o colección y antigüedades",
          "Productos del reino vegetal",
          "Productos minerales",
          "Calzado, sombreros y demás tocados, paraguas, quitasoles, bastones, látigos, fustas y sus partes; plumas preparadas y artículos de plumas; flores artificiales; manufacturas de cabello",
          "Instrumentos y aparatos de óptica, fotografía o cinematografía, de medida, control o precisión; instrumentos y aparatos médicoquirúrgicos; aparatos de relojería; instrumentos musicales; partes y accesorios de estos instrumentos o aparatos",
          "Madera, carbón vegetal y manufacturas de madera; corcho y sus manufacturas; manufacturas de espartería o cestería",
          "Materias textiles y sus manufacturas",
          "Pieles, cueros, peletería y manufacturas de estas materias; artículos de talabartería o guarnicionería; artículos de viaje, bolsos de mano (carteras) y continentes similares; manufacturas de tripa",
          "Productos minerales",
          "Calzado, sombreros y demás tocados, paraguas, quitasoles, bastones, látigos, fustas y sus partes; plumas preparadas y artículos de plumas; flores artificiales; manufacturas de cabello",
          "Grasas y aceites animales o vegetales; productos de su desdoblamiento; grasas alimenticias elaboradas; ceras de origen animal o vegetal",
          "Instrumentos y aparatos de óptica, fotografía o cinematografía, de medida, control o precisión; instrumentos y aparatos médicoquirúrgicos; aparatos de relojería; instrumentos musicales; partes y accesorios de estos instrumentos o aparatos",
          "Madera, carbón vegetal y manufacturas de madera; corcho y sus manufacturas; manufacturas de espartería o cestería",
          "Manufacturas de piedra, yeso fraguable, cemento, amianto (asbesto), mica o materias análogas; productos cerámicos; vidrio y manufacturas de vidrio",
          "Materias textiles y sus manufacturas",
          "Mercancías y productos diversos",
          "Metales comunes y manufacturas de esos metales",
          "Máquinas y aparatos, material eléctrico y sus partes; aparatos de grabación o reproducción de sonido, aparatos de grabación o reproducción de imagen y sonido en televisión, y las partes y accesorios de estos aparatos",
          "Pasta de madera o de las demás materias fibrosas celulósicas; papel o cartón para reciclar (desperdicios y desechos); papel o cartón y sus aplicaciones",
          "Plástico y sus manufacturas; caucho y sus manufacturas",
          "Productos de las industrias alimentarias; bebidas, líquidos alcohólicos y vinagre; tabaco y sucedáneos del tabaco elaborados",
          "Productos de las industrias químicas o de las industrias conexas",
          "Productos minerales",
          "Objetos de arte o colección y antigüedades",
          "Productos del reino vegetal",
          "Animales vivos y productos del reino animal",
          "Grasas y aceites animales o vegetales; productos de su desdoblamiento; grasas alimenticias elaboradas; ceras de origen animal o vegetal",
          "Materias textiles y sus manufacturas",
          "Pieles, cueros, peletería y manufacturas de estas materias; artículos de talabartería o guarnicionería; artículos de viaje, bolsos de mano (carteras) y continentes similares; manufacturas de tripa",
          "Productos de las industrias alimentarias; bebidas, líquidos alcohólicos y vinagre; tabaco y sucedáneos del tabaco elaborados",
          "Productos del reino vegetal",
          "Animales vivos y productos del reino animal",
          "Grasas y aceites animales o vegetales; productos de su desdoblamiento; grasas alimenticias elaboradas; ceras de origen animal o vegetal",
          "Instrumentos y aparatos de óptica, fotografía o cinematografía, de medida, control o precisión; instrumentos y aparatos médicoquirúrgicos; aparatos de relojería; instrumentos musicales; partes y accesorios de estos instrumentos o aparatos",
          "Madera, carbón vegetal y manufacturas de madera; corcho y sus manufacturas; manufacturas de espartería o cestería",
          "Manufacturas de piedra, yeso fraguable, cemento, amianto (asbesto), mica o materias análogas; productos cerámicos; vidrio y manufacturas de vidrio",
          "Material de transporte",
          "Materias textiles y sus manufacturas",
          "Mercancías y productos diversos",
          "Metales comunes y manufacturas de esos metales",
          "Máquinas y aparatos, material eléctrico y sus partes; aparatos de grabación o reproducción de sonido, aparatos de grabación o reproducción de imagen y sonido en televisión, y las partes y accesorios de estos aparatos",
          "Pasta de madera o de las demás materias fibrosas celulósicas; papel o cartón para reciclar (desperdicios y desechos); papel o cartón y sus aplicaciones",
          "Plástico y sus manufacturas; caucho y sus manufacturas",
          "Productos de las industrias alimentarias; bebidas, líquidos alcohólicos y vinagre; tabaco y sucedáneos del tabaco elaborados",
          "Productos de las industrias químicas o de las industrias conexas",
          "Productos del reino vegetal",
          "Productos minerales",
          "Animales vivos y productos del reino animal",
          "Instrumentos y aparatos de óptica, fotografía o cinematografía, de medida, control o precisión; instrumentos y aparatos médicoquirúrgicos; aparatos de relojería; instrumentos musicales; partes y accesorios de estos instrumentos o aparatos",
          "Manufacturas de piedra, yeso fraguable, cemento, amianto (asbesto), mica o materias análogas; productos cerámicos; vidrio y manufacturas de vidrio",
          "Metales comunes y manufacturas de esos metales",
          "Pasta de madera o de las demás materias fibrosas celulósicas; papel o cartón para reciclar (desperdicios y desechos); papel o cartón y sus aplicaciones",
          "Plástico y sus manufacturas; caucho y sus manufacturas",
          "Productos de las industrias alimentarias; bebidas, líquidos alcohólicos y vinagre; tabaco y sucedáneos del tabaco elaborados",
          "Productos de las industrias químicas o de las industrias conexas",
          "Instrumentos y aparatos de óptica, fotografía o cinematografía, de medida, control o precisión; instrumentos y aparatos médicoquirúrgicos; aparatos de relojería; instrumentos musicales; partes y accesorios de estos instrumentos o aparatos",
          "Materias textiles y sus manufacturas",
          "Animales vivos y productos del reino animal",
          "Madera, carbón vegetal y manufacturas de madera; corcho y sus manufacturas; manufacturas de espartería o cestería",
          "Materias textiles y sus manufacturas",
          "Mercancías y productos diversos",
          "Metales comunes y manufacturas de esos metales",
          "Máquinas y aparatos, material eléctrico y sus partes; aparatos de grabación o reproducción de sonido, aparatos de grabación o reproducción de imagen y sonido en televisión, y las partes y accesorios de estos aparatos",
          "Productos de las industrias alimentarias; bebidas, líquidos alcohólicos y vinagre; tabaco y sucedáneos del tabaco elaborados",
          "Productos de las industrias químicas o de las industrias conexas",
          "Productos del reino vegetal",
          "Metales comunes y manufacturas de esos metales",
          "Productos de las industrias químicas o de las industrias conexas",
          "Materias textiles y sus manufacturas",
          "Metales comunes y manufacturas de esos metales",
          "Pieles, cueros, peletería y manufacturas de estas materias; artículos de talabartería o guarnicionería; artículos de viaje, bolsos de mano (carteras) y continentes similares; manufacturas de tripa",
          "Productos minerales",
          "Grasas y aceites animales o vegetales; productos de su desdoblamiento; grasas alimenticias elaboradas; ceras de origen animal o vegetal",
          "Animales vivos y productos del reino animal",
          "Grasas y aceites animales o vegetales; productos de su desdoblamiento; grasas alimenticias elaboradas; ceras de origen animal o vegetal",
          "Instrumentos y aparatos de óptica, fotografía o cinematografía, de medida, control o precisión; instrumentos y aparatos médicoquirúrgicos; aparatos de relojería; instrumentos musicales; partes y accesorios de estos instrumentos o aparatos",
          "Madera, carbón vegetal y manufacturas de madera; corcho y sus manufacturas; manufacturas de espartería o cestería",
          "Manufacturas de piedra, yeso fraguable, cemento, amianto (asbesto), mica o materias análogas; productos cerámicos; vidrio y manufacturas de vidrio",
          "Materias textiles y sus manufacturas",
          "Mercancías y productos diversos",
          "Metales comunes y manufacturas de esos metales",
          "Máquinas y aparatos, material eléctrico y sus partes; aparatos de grabación o reproducción de sonido, aparatos de grabación o reproducción de imagen y sonido en televisión, y las partes y accesorios de estos aparatos",
          "Productos de las industrias alimentarias; bebidas, líquidos alcohólicos y vinagre; tabaco y sucedáneos del tabaco elaborados",
          "Productos de las industrias químicas o de las industrias conexas",
          "Productos del reino vegetal",
          "Productos minerales",
          "Grasas y aceites animales o vegetales; productos de su desdoblamiento; grasas alimenticias elaboradas; ceras de origen animal o vegetal",
          "Instrumentos y aparatos de óptica, fotografía o cinematografía, de medida, control o precisión; instrumentos y aparatos médicoquirúrgicos; aparatos de relojería; instrumentos musicales; partes y accesorios de estos instrumentos o aparatos",
          "Madera, carbón vegetal y manufacturas de madera; corcho y sus manufacturas; manufacturas de espartería o cestería",
          "Manufacturas de piedra, yeso fraguable, cemento, amianto (asbesto), mica o materias análogas; productos cerámicos; vidrio y manufacturas de vidrio",
          "Materias textiles y sus manufacturas",
          "Mercancías y productos diversos",
          "Máquinas y aparatos, material eléctrico y sus partes; aparatos de grabación o reproducción de sonido, aparatos de grabación o reproducción de imagen y sonido en televisión, y las partes y accesorios de estos aparatos",
          "Pasta de madera o de las demás materias fibrosas celulósicas; papel o cartón para reciclar (desperdicios y desechos); papel o cartón y sus aplicaciones",
          "Perlas finas (naturales) o cultivadas, piedras preciosas o semipreciosas, metales preciosos, chapados de metal precioso (plaqué) y manufacturas de estas materias; bisutería; monedas",
          "Productos de las industrias químicas o de las industrias conexas",
          "Productos del reino vegetal",
          "Instrumentos y aparatos de óptica, fotografía o cinematografía, de medida, control o precisión; instrumentos y aparatos médicoquirúrgicos; aparatos de relojería; instrumentos musicales; partes y accesorios de estos instrumentos o aparatos",
          "Madera, carbón vegetal y manufacturas de madera; corcho y sus manufacturas; manufacturas de espartería o cestería",
          "Manufacturas de piedra, yeso fraguable, cemento, amianto (asbesto), mica o materias análogas; productos cerámicos; vidrio y manufacturas de vidrio",
          "Material de transporte",
          "Materias textiles y sus manufacturas",
          "Mercancías y productos diversos",
          "Metales comunes y manufacturas de esos metales",
          "Máquinas y aparatos, material eléctrico y sus partes; aparatos de grabación o reproducción de sonido, aparatos de grabación o reproducción de imagen y sonido en televisión, y las partes y accesorios de estos aparatos",
          "Objetos de arte o colección y antigüedades",
          "Pasta de madera o de las demás materias fibrosas celulósicas; papel o cartón para reciclar (desperdicios y desechos); papel o cartón y sus aplicaciones",
          "Plástico y sus manufacturas; caucho y sus manufacturas",
          "Productos de las industrias químicas o de las industrias conexas",
          "Productos del reino vegetal",
          "Productos minerales",
          "Calzado, sombreros y demás tocados, paraguas, quitasoles, bastones, látigos, fustas y sus partes; plumas preparadas y artículos de plumas; flores artificiales; manufacturas de cabello",
          "Grasas y aceites animales o vegetales; productos de su desdoblamiento; grasas alimenticias elaboradas; ceras de origen animal o vegetal",
          "Instrumentos y aparatos de óptica, fotografía o cinematografía, de medida, control o precisión; instrumentos y aparatos médicoquirúrgicos; aparatos de relojería; instrumentos musicales; partes y accesorios de estos instrumentos o aparatos",
          "Madera, carbón vegetal y manufacturas de madera; corcho y sus manufacturas; manufacturas de espartería o cestería",
          "Manufacturas de piedra, yeso fraguable, cemento, amianto (asbesto), mica o materias análogas; productos cerámicos; vidrio y manufacturas de vidrio",
          "Materias textiles y sus manufacturas",
          "Mercancías y productos diversos",
          "Metales comunes y manufacturas de esos metales",
          "Máquinas y aparatos, material eléctrico y sus partes; aparatos de grabación o reproducción de sonido, aparatos de grabación o reproducción de imagen y sonido en televisión, y las partes y accesorios de estos aparatos",
          "Pasta de madera o de las demás materias fibrosas celulósicas; papel o cartón para reciclar (desperdicios y desechos); papel o cartón y sus aplicaciones",
          "Productos de las industrias alimentarias; bebidas, líquidos alcohólicos y vinagre; tabaco y sucedáneos del tabaco elaborados",
          "Productos de las industrias químicas o de las industrias conexas",
          "Productos minerales",
          "Productos de las industrias alimentarias; bebidas, líquidos alcohólicos y vinagre; tabaco y sucedáneos del tabaco elaborados",
          "Productos del reino vegetal",
          "Metales comunes y manufacturas de esos metales",
          "Calzado, sombreros y demás tocados, paraguas, quitasoles, bastones, látigos, fustas y sus partes; plumas preparadas y artículos de plumas; flores artificiales; manufacturas de cabello",
          "Instrumentos y aparatos de óptica, fotografía o cinematografía, de medida, control o precisión; instrumentos y aparatos médicoquirúrgicos; aparatos de relojería; instrumentos musicales; partes y accesorios de estos instrumentos o aparatos",
          "Madera, carbón vegetal y manufacturas de madera; corcho y sus manufacturas; manufacturas de espartería o cestería",
          "Manufacturas de piedra, yeso fraguable, cemento, amianto (asbesto), mica o materias análogas; productos cerámicos; vidrio y manufacturas de vidrio",
          "Materias textiles y sus manufacturas",
          "Metales comunes y manufacturas de esos metales",
          "Máquinas y aparatos, material eléctrico y sus partes; aparatos de grabación o reproducción de sonido, aparatos de grabación o reproducción de imagen y sonido en televisión, y las partes y accesorios de estos aparatos",
          "Pasta de madera o de las demás materias fibrosas celulósicas; papel o cartón para reciclar (desperdicios y desechos); papel o cartón y sus aplicaciones",
          "Pieles, cueros, peletería y manufacturas de estas materias; artículos de talabartería o guarnicionería; artículos de viaje, bolsos de mano (carteras) y continentes similares; manufacturas de tripa",
          "Plástico y sus manufacturas; caucho y sus manufacturas",
          "Productos de las industrias químicas o de las industrias conexas",
          "Animales vivos y productos del reino animal",
          "Madera, carbón vegetal y manufacturas de madera; corcho y sus manufacturas; manufacturas de espartería o cestería",
          "Material de transporte",
          "Metales comunes y manufacturas de esos metales",
          "Máquinas y aparatos, material eléctrico y sus partes; aparatos de grabación o reproducción de sonido, aparatos de grabación o reproducción de imagen y sonido en televisión, y las partes y accesorios de estos aparatos",
          "Pasta de madera o de las demás materias fibrosas celulósicas; papel o cartón para reciclar (desperdicios y desechos); papel o cartón y sus aplicaciones",
          "Productos de las industrias alimentarias; bebidas, líquidos alcohólicos y vinagre; tabaco y sucedáneos del tabaco elaborados",
          "Productos de las industrias químicas o de las industrias conexas",
          "Productos del reino vegetal",
          "Productos minerales",
          "Productos del reino vegetal",
          "Instrumentos y aparatos de óptica, fotografía o cinematografía, de medida, control o precisión; instrumentos y aparatos médicoquirúrgicos; aparatos de relojería; instrumentos musicales; partes y accesorios de estos instrumentos o aparatos",
          "Madera, carbón vegetal y manufacturas de madera; corcho y sus manufacturas; manufacturas de espartería o cestería",
          "Manufacturas de piedra, yeso fraguable, cemento, amianto (asbesto), mica o materias análogas; productos cerámicos; vidrio y manufacturas de vidrio",
          "Materias textiles y sus manufacturas",
          "Máquinas y aparatos, material eléctrico y sus partes; aparatos de grabación o reproducción de sonido, aparatos de grabación o reproducción de imagen y sonido en televisión, y las partes y accesorios de estos aparatos",
          "Perlas finas (naturales) o cultivadas, piedras preciosas o semipreciosas, metales preciosos, chapados de metal precioso (plaqué) y manufacturas de estas materias; bisutería; monedas",
          "Plástico y sus manufacturas; caucho y sus manufacturas",
          "Productos de las industrias químicas o de las industrias conexas",
          "Productos del reino vegetal",
          "Materias textiles y sus manufacturas",
          "Mercancías y productos diversos",
          "Pasta de madera o de las demás materias fibrosas celulósicas; papel o cartón para reciclar (desperdicios y desechos); papel o cartón y sus aplicaciones",
          "Productos del reino vegetal",
          "Materias textiles y sus manufacturas",
          "Productos de las industrias químicas o de las industrias conexas",
          "Productos del reino vegetal",
          "Máquinas y aparatos, material eléctrico y sus partes; aparatos de grabación o reproducción de sonido, aparatos de grabación o reproducción de imagen y sonido en televisión, y las partes y accesorios de estos aparatos",
          "Productos de las industrias químicas o de las industrias conexas",
          "Madera, carbón vegetal y manufacturas de madera; corcho y sus manufacturas; manufacturas de espartería o cestería",
          "Materias textiles y sus manufacturas",
          "Metales comunes y manufacturas de esos metales",
          "Máquinas y aparatos, material eléctrico y sus partes; aparatos de grabación o reproducción de sonido, aparatos de grabación o reproducción de imagen y sonido en televisión, y las partes y accesorios de estos aparatos",
          "Pasta de madera o de las demás materias fibrosas celulósicas; papel o cartón para reciclar (desperdicios y desechos); papel o cartón y sus aplicaciones",
          "Productos de las industrias químicas o de las industrias conexas",
          "Productos del reino vegetal",
          "Calzado, sombreros y demás tocados, paraguas, quitasoles, bastones, látigos, fustas y sus partes; plumas preparadas y artículos de plumas; flores artificiales; manufacturas de cabello",
          "Grasas y aceites animales o vegetales; productos de su desdoblamiento; grasas alimenticias elaboradas; ceras de origen animal o vegetal",
          "Instrumentos y aparatos de óptica, fotografía o cinematografía, de medida, control o precisión; instrumentos y aparatos médicoquirúrgicos; aparatos de relojería; instrumentos musicales; partes y accesorios de estos instrumentos o aparatos",
          "Manufacturas de piedra, yeso fraguable, cemento, amianto (asbesto), mica o materias análogas; productos cerámicos; vidrio y manufacturas de vidrio",
          "Material de transporte",
          "Materias textiles y sus manufacturas",
          "Mercancías y productos diversos",
          "Metales comunes y manufacturas de esos metales",
          "Máquinas y aparatos, material eléctrico y sus partes; aparatos de grabación o reproducción de sonido, aparatos de grabación o reproducción de imagen y sonido en televisión, y las partes y accesorios de estos aparatos",
          "Pasta de madera o de las demás materias fibrosas celulósicas; papel o cartón para reciclar (desperdicios y desechos); papel o cartón y sus aplicaciones",
          "Plástico y sus manufacturas; caucho y sus manufacturas",
          "Productos de las industrias químicas o de las industrias conexas",
          "Máquinas y aparatos, material eléctrico y sus partes; aparatos de grabación o reproducción de sonido, aparatos de grabación o reproducción de imagen y sonido en televisión, y las partes y accesorios de estos aparatos",
          "Calzado, sombreros y demás tocados, paraguas, quitasoles, bastones, látigos, fustas y sus partes; plumas preparadas y artículos de plumas; flores artificiales; manufacturas de cabello",
          "Instrumentos y aparatos de óptica, fotografía o cinematografía, de medida, control o precisión; instrumentos y aparatos médicoquirúrgicos; aparatos de relojería; instrumentos musicales; partes y accesorios de estos instrumentos o aparatos",
          "Madera, carbón vegetal y manufacturas de madera; corcho y sus manufacturas; manufacturas de espartería o cestería",
          "Manufacturas de piedra, yeso fraguable, cemento, amianto (asbesto), mica o materias análogas; productos cerámicos; vidrio y manufacturas de vidrio",
          "Material de transporte",
          "Materias textiles y sus manufacturas",
          "Mercancías y productos diversos",
          "Metales comunes y manufacturas de esos metales",
          "Máquinas y aparatos, material eléctrico y sus partes; aparatos de grabación o reproducción de sonido, aparatos de grabación o reproducción de imagen y sonido en televisión, y las partes y accesorios de estos aparatos",
          "Perlas finas (naturales) o cultivadas, piedras preciosas o semipreciosas, metales preciosos, chapados de metal precioso (plaqué) y manufacturas de estas materias; bisutería; monedas",
          "Plástico y sus manufacturas; caucho y sus manufacturas",
          "Productos de las industrias alimentarias; bebidas, líquidos alcohólicos y vinagre; tabaco y sucedáneos del tabaco elaborados",
          "Productos de las industrias químicas o de las industrias conexas",
          "Productos del reino vegetal",
          "Productos minerales",
          "Productos de las industrias químicas o de las industrias conexas",
          "Grasas y aceites animales o vegetales; productos de su desdoblamiento; grasas alimenticias elaboradas; ceras de origen animal o vegetal",
          "Madera, carbón vegetal y manufacturas de madera; corcho y sus manufacturas; manufacturas de espartería o cestería",
          "Materias textiles y sus manufacturas",
          "Productos del reino vegetal",
          "Calzado, sombreros y demás tocados, paraguas, quitasoles, bastones, látigos, fustas y sus partes; plumas preparadas y artículos de plumas; flores artificiales; manufacturas de cabello",
          "Instrumentos y aparatos de óptica, fotografía o cinematografía, de medida, control o precisión; instrumentos y aparatos médicoquirúrgicos; aparatos de relojería; instrumentos musicales; partes y accesorios de estos instrumentos o aparatos",
          "Madera, carbón vegetal y manufacturas de madera; corcho y sus manufacturas; manufacturas de espartería o cestería",
          "Manufacturas de piedra, yeso fraguable, cemento, amianto (asbesto), mica o materias análogas; productos cerámicos; vidrio y manufacturas de vidrio",
          "Material de transporte",
          "Materias textiles y sus manufacturas",
          "Mercancías y productos diversos",
          "Metales comunes y manufacturas de esos metales",
          "Máquinas y aparatos, material eléctrico y sus partes; aparatos de grabación o reproducción de sonido, aparatos de grabación o reproducción de imagen y sonido en televisión, y las partes y accesorios de estos aparatos",
          "Pasta de madera o de las demás materias fibrosas celulósicas; papel o cartón para reciclar (desperdicios y desechos); papel o cartón y sus aplicaciones",
          "Pieles, cueros, peletería y manufacturas de estas materias; artículos de talabartería o guarnicionería; artículos de viaje, bolsos de mano (carteras) y continentes similares; manufacturas de tripa",
          "Plástico y sus manufacturas; caucho y sus manufacturas",
          "Productos de las industrias alimentarias; bebidas, líquidos alcohólicos y vinagre; tabaco y sucedáneos del tabaco elaborados",
          "Productos de las industrias químicas o de las industrias conexas",
          "Productos del reino vegetal",
          "Productos minerales",
          "Armas, municiones, y sus partes y accesorios",
          "Calzado, sombreros y demás tocados, paraguas, quitasoles, bastones, látigos, fustas y sus partes; plumas preparadas y artículos de plumas; flores artificiales; manufacturas de cabello",
          "Instrumentos y aparatos de óptica, fotografía o cinematografía, de medida, control o precisión; instrumentos y aparatos médicoquirúrgicos; aparatos de relojería; instrumentos musicales; partes y accesorios de estos instrumentos o aparatos",
          "Madera, carbón vegetal y manufacturas de madera; corcho y sus manufacturas; manufacturas de espartería o cestería",
          "Manufacturas de piedra, yeso fraguable, cemento, amianto (asbesto), mica o materias análogas; productos cerámicos; vidrio y manufacturas de vidrio",
          "Material de transporte",
          "Materias textiles y sus manufacturas",
          "Mercancías y productos diversos",
          "Metales comunes y manufacturas de esos metales",
          "Máquinas y aparatos, material eléctrico y sus partes; aparatos de grabación o reproducción de sonido, aparatos de grabación o reproducción de imagen y sonido en televisión, y las partes y accesorios de estos aparatos",
          "Pasta de madera o de las demás materias fibrosas celulósicas; papel o cartón para reciclar (desperdicios y desechos); papel o cartón y sus aplicaciones",
          "Pieles, cueros, peletería y manufacturas de estas materias; artículos de talabartería o guarnicionería; artículos de viaje, bolsos de mano (carteras) y continentes similares; manufacturas de tripa",
          "Plástico y sus manufacturas; caucho y sus manufacturas",
          "Productos de las industrias alimentarias; bebidas, líquidos alcohólicos y vinagre; tabaco y sucedáneos del tabaco elaborados",
          "Productos de las industrias químicas o de las industrias conexas",
          "Productos del reino vegetal",
          "Productos minerales",
          "Objetos de arte o colección y antigüedades",
          "Grasas y aceites animales o vegetales; productos de su desdoblamiento; grasas alimenticias elaboradas; ceras de origen animal o vegetal",
          "Instrumentos y aparatos de óptica, fotografía o cinematografía, de medida, control o precisión; instrumentos y aparatos médicoquirúrgicos; aparatos de relojería; instrumentos musicales; partes y accesorios de estos instrumentos o aparatos",
          "Metales comunes y manufacturas de esos metales",
          "Máquinas y aparatos, material eléctrico y sus partes; aparatos de grabación o reproducción de sonido, aparatos de grabación o reproducción de imagen y sonido en televisión, y las partes y accesorios de estos aparatos",
          "Pasta de madera o de las demás materias fibrosas celulósicas; papel o cartón para reciclar (desperdicios y desechos); papel o cartón y sus aplicaciones",
          "Productos de las industrias químicas o de las industrias conexas",
          "Productos del reino vegetal",
          "Productos minerales",
          "Animales vivos y productos del reino animal",
          "Madera, carbón vegetal y manufacturas de madera; corcho y sus manufacturas; manufacturas de espartería o cestería",
          "Pieles, cueros, peletería y manufacturas de estas materias; artículos de talabartería o guarnicionería; artículos de viaje, bolsos de mano (carteras) y continentes similares; manufacturas de tripa",
          "Productos de las industrias alimentarias; bebidas, líquidos alcohólicos y vinagre; tabaco y sucedáneos del tabaco elaborados",
          "Productos de las industrias químicas o de las industrias conexas",
          "Productos del reino vegetal",
          "Animales vivos y productos del reino animal",
          "Armas, municiones, y sus partes y accesorios",
          "Calzado, sombreros y demás tocados, paraguas, quitasoles, bastones, látigos, fustas y sus partes; plumas preparadas y artículos de plumas; flores artificiales; manufacturas de cabello",
          "Grasas y aceites animales o vegetales; productos de su desdoblamiento; grasas alimenticias elaboradas; ceras de origen animal o vegetal",
          "Instrumentos y aparatos de óptica, fotografía o cinematografía, de medida, control o precisión; instrumentos y aparatos médicoquirúrgicos; aparatos de relojería; instrumentos musicales; partes y accesorios de estos instrumentos o aparatos",
          "Madera, carbón vegetal y manufacturas de madera; corcho y sus manufacturas; manufacturas de espartería o cestería",
          "Manufacturas de piedra, yeso fraguable, cemento, amianto (asbesto), mica o materias análogas; productos cerámicos; vidrio y manufacturas de vidrio",
          "Material de transporte",
          "Materias textiles y sus manufacturas",
          "Mercancías y productos diversos",
          "Metales comunes y manufacturas de esos metales",
          "Máquinas y aparatos, material eléctrico y sus partes; aparatos de grabación o reproducción de sonido, aparatos de grabación o reproducción de imagen y sonido en televisión, y las partes y accesorios de estos aparatos",
          "Objetos de arte o colección y antigüedades",
          "Pasta de madera o de las demás materias fibrosas celulósicas; papel o cartón para reciclar (desperdicios y desechos); papel o cartón y sus aplicaciones",
          "Perlas finas (naturales) o cultivadas, piedras preciosas o semipreciosas, metales preciosos, chapados de metal precioso (plaqué) y manufacturas de estas materias; bisutería; monedas",
          "Pieles, cueros, peletería y manufacturas de estas materias; artículos de talabartería o guarnicionería; artículos de viaje, bolsos de mano (carteras) y continentes similares; manufacturas de tripa",
          "Plástico y sus manufacturas; caucho y sus manufacturas",
          "Productos de las industrias alimentarias; bebidas, líquidos alcohólicos y vinagre; tabaco y sucedáneos del tabaco elaborados",
          "Productos de las industrias químicas o de las industrias conexas",
          "Productos del reino vegetal",
          "Productos minerales",
          "Animales vivos y productos del reino animal",
          "Calzado, sombreros y demás tocados, paraguas, quitasoles, bastones, látigos, fustas y sus partes; plumas preparadas y artículos de plumas; flores artificiales; manufacturas de cabello",
          "Instrumentos y aparatos de óptica, fotografía o cinematografía, de medida, control o precisión; instrumentos y aparatos médicoquirúrgicos; aparatos de relojería; instrumentos musicales; partes y accesorios de estos instrumentos o aparatos",
          "Madera, carbón vegetal y manufacturas de madera; corcho y sus manufacturas; manufacturas de espartería o cestería",
          "Manufacturas de piedra, yeso fraguable, cemento, amianto (asbesto), mica o materias análogas; productos cerámicos; vidrio y manufacturas de vidrio",
          "Material de transporte",
          "Materias textiles y sus manufacturas",
          "Mercancías y productos diversos",
          "Metales comunes y manufacturas de esos metales",
          "Máquinas y aparatos, material eléctrico y sus partes; aparatos de grabación o reproducción de sonido, aparatos de grabación o reproducción de imagen y sonido en televisión, y las partes y accesorios de estos aparatos",
          "Pasta de madera o de las demás materias fibrosas celulósicas; papel o cartón para reciclar (desperdicios y desechos); papel o cartón y sus aplicaciones",
          "Pieles, cueros, peletería y manufacturas de estas materias; artículos de talabartería o guarnicionería; artículos de viaje, bolsos de mano (carteras) y continentes similares; manufacturas de tripa",
          "Plástico y sus manufacturas; caucho y sus manufacturas",
          "Productos de las industrias alimentarias; bebidas, líquidos alcohólicos y vinagre; tabaco y sucedáneos del tabaco elaborados",
          "Productos de las industrias químicas o de las industrias conexas",
          "Productos del reino vegetal",
          "Manufacturas de piedra, yeso fraguable, cemento, amianto (asbesto), mica o materias análogas; productos cerámicos; vidrio y manufacturas de vidrio",
          "Materias textiles y sus manufacturas",
          "Metales comunes y manufacturas de esos metales",
          "Objetos de arte o colección y antigüedades",
          "Pasta de madera o de las demás materias fibrosas celulósicas; papel o cartón para reciclar (desperdicios y desechos); papel o cartón y sus aplicaciones",
          "Perlas finas (naturales) o cultivadas, piedras preciosas o semipreciosas, metales preciosos, chapados de metal precioso (plaqué) y manufacturas de estas materias; bisutería; monedas",
          "Pieles, cueros, peletería y manufacturas de estas materias; artículos de talabartería o guarnicionería; artículos de viaje, bolsos de mano (carteras) y continentes similares; manufacturas de tripa",
          "Productos de las industrias alimentarias; bebidas, líquidos alcohólicos y vinagre; tabaco y sucedáneos del tabaco elaborados",
          "Productos de las industrias químicas o de las industrias conexas",
          "Productos del reino vegetal",
          "Productos minerales",
          "Materias textiles y sus manufacturas",
          "Máquinas y aparatos, material eléctrico y sus partes; aparatos de grabación o reproducción de sonido, aparatos de grabación o reproducción de imagen y sonido en televisión, y las partes y accesorios de estos aparatos",
          "Perlas finas (naturales) o cultivadas, piedras preciosas o semipreciosas, metales preciosos, chapados de metal precioso (plaqué) y manufacturas de estas materias; bisutería; monedas",
          "Pieles, cueros, peletería y manufacturas de estas materias; artículos de talabartería o guarnicionería; artículos de viaje, bolsos de mano (carteras) y continentes similares; manufacturas de tripa",
          "",
          "",
          "",
          "",
          "",
          "",
          "",
          "",
          "",
          "",
          "",
          "",
          "",
          "",
          "",
          "",
          "",
          "",
          "",
          "",
          ""
         ],
         "type": "treemap",
         "values": [
          1209,
          380527,
          255136200,
          5012,
          164540,
          11713149,
          62829,
          5090830,
          3679310,
          595783,
          40657503,
          1823401,
          11285157,
          22964086,
          34098480,
          55549821,
          9056181,
          51344,
          11558523,
          585519,
          2135060,
          102277,
          95886,
          1241170,
          11413322,
          2542010,
          43823552,
          704286,
          1058641,
          12235250,
          13283902,
          9930608,
          972367,
          941181,
          96933650,
          32440315,
          75227,
          32349164,
          9475,
          4499890,
          163312,
          19135359,
          541889,
          249884,
          4020950,
          20290,
          3197640,
          323925,
          1896632,
          580997,
          9559481,
          2691513,
          30536582,
          7850739,
          1241770,
          3870027,
          558760,
          6558310,
          19212763,
          108255839,
          24518020,
          148412,
          292186,
          173214,
          10693868,
          40127,
          457157,
          182102,
          117907,
          13752984,
          121662,
          5069160,
          53767490,
          799616,
          419753,
          26128,
          371015,
          3445350,
          449032,
          245569,
          1125730,
          14026200,
          32807,
          5475143,
          157998,
          207920701,
          21936605,
          22470766,
          6938051,
          1341928,
          968954045,
          136360901,
          168623526,
          818055,
          51196420,
          13040837,
          26634859,
          124807934,
          601969499,
          161015210,
          299728775,
          155602,
          109757377,
          5503983,
          54992186,
          2608885,
          32245088,
          26451014,
          8183295,
          488570844,
          145014231,
          58664,
          107170903,
          19940382,
          2871660,
          8804954,
          122849600,
          153131898,
          979477425,
          202738288,
          507196,
          5225110,
          150157154,
          438239,
          1471586,
          594140,
          2178997,
          73051742,
          58817,
          20630,
          803300,
          4442724,
          1320690,
          70985314,
          29319,
          189447560,
          3658241,
          176159710,
          1779550,
          530312,
          193755975,
          82903960,
          178315,
          54224368,
          128028266,
          188277763,
          16282876,
          187049707,
          1436996,
          93784360,
          891854,
          167536541,
          134825789,
          116255395,
          393135677,
          745992926,
          151637820,
          489222107,
          895234221,
          1161956,
          105507789,
          7139268,
          8642457,
          95290378,
          95003625,
          1332410180,
          92603157,
          169236096,
          666764,
          1229601,
          342587,
          81461,
          524605,
          69183410,
          2561190,
          415846,
          12844297,
          5175881,
          9078307,
          332996,
          2490351,
          4169583,
          5496110,
          3642484,
          15892164,
          5274770,
          139917020,
          122190500,
          66963,
          27381,
          24295,
          149211,
          18323,
          6199010,
          1368212,
          3899390,
          530566,
          213983,
          674082,
          7257430,
          709794,
          9048886,
          5029282,
          7389725,
          12205386,
          273392,
          25253922,
          91351,
          26445400,
          75565,
          72426,
          5644788,
          11704677,
          50830986,
          63611001,
          95991155,
          75760514,
          6983386,
          384571337,
          1043905181,
          4237249,
          41038024,
          2119981,
          7523237,
          83548497,
          8911241,
          425936826,
          14728068,
          17675740,
          1696930,
          259186,
          182523,
          7110,
          229082,
          159614,
          6322096,
          60116,
          1704610,
          465494,
          51124483,
          6293560,
          1135227,
          66609,
          504392,
          31423,
          7470876,
          31717500,
          429838,
          1473285,
          1047580,
          760400,
          57533241,
          1653901,
          1349969,
          389638,
          31063,
          1405889,
          33666718,
          927156,
          1671173,
          82751892,
          1734543,
          16641883,
          19853921,
          30564462,
          36318896,
          40167720,
          185354469,
          274309131,
          2219404,
          25815405,
          237143,
          186362,
          8583734,
          90091496,
          231646613,
          26966468,
          24698334,
          371116,
          1182790,
          518440,
          903250,
          2088,
          35863,
          100711,
          90318,
          426202,
          54851062,
          20563276,
          104746160,
          4628970,
          3950293,
          1262144,
          387395,
          1643340,
          11659458,
          10640,
          4714256,
          6695431,
          2622544,
          6604104,
          13163932,
          2674180,
          42411241,
          83563652,
          63387554,
          2710652,
          10575321,
          1861402,
          316315,
          19810184,
          67736587,
          162888155,
          109094003,
          1565669,
          1501980,
          10614300,
          162987,
          140936,
          3466331,
          176486,
          7695552,
          9012150,
          4642235,
          594849,
          42404715,
          168338376,
          985392,
          5319051,
          2081311,
          5674374,
          4331692,
          62524766,
          7659105,
          6472256,
          148861,
          606598,
          1225800,
          138798,
          1066500,
          94635104,
          298207,
          3881345,
          87445,
          5605727,
          3321550,
          49049396,
          29399782,
          2737530,
          18727752,
          185436,
          5495870,
          169526,
          5094,
          1002560,
          697231,
          14119,
          2043585,
          573390,
          583455,
          963541,
          18007,
          517915,
          19968,
          30663,
          4800,
          82715,
          142721,
          9876210,
          30153384,
          43419950,
          873336,
          5230454,
          435715,
          1141690,
          39749,
          123791,
          180599423,
          22393,
          17830,
          4255866,
          1044930,
          447261,
          28507398,
          67724710,
          7266441,
          19641292,
          1482934,
          10551120,
          19222091,
          2377796,
          3017032,
          3704856,
          4117,
          17223525,
          5561,
          2375354,
          51712600,
          3653407,
          103031029,
          1983352,
          474523,
          15123,
          2656597,
          2937728,
          1147063,
          1272672,
          32338840,
          77111518,
          70738980,
          2019680,
          165231662,
          112898614,
          8299,
          3035509,
          63638759,
          425364,
          10806525,
          5011220,
          278873041,
          36850721,
          1210993,
          1535213,
          7242280,
          1456090,
          72406711,
          201824,
          507028,
          2293071,
          680097,
          3564250,
          131764,
          4318569,
          122000,
          1984460,
          182997,
          35592545,
          17603810,
          3094576,
          4755661,
          227422,
          8080130,
          5860150,
          27247308,
          5494263,
          28497274,
          22189726,
          47918284,
          12879756,
          79335058,
          328035102,
          12131567,
          27058257,
          749028,
          25679629,
          5548237,
          67494723,
          95108370,
          5428006,
          5134922,
          30335,
          1693660,
          1997009,
          52184,
          163697,
          22426722,
          220644,
          21958176,
          44070324,
          19864565,
          5798050,
          1218997420,
          645905604,
          4059537,
          2687326,
          14408327,
          3436310,
          133710357,
          3680719,
          3796041,
          2754740,
          611631,
          4338100,
          5950,
          8157812,
          1069500,
          5549266,
          487010,
          591857,
          4176500,
          1361665,
          4766342,
          52829734,
          2350845,
          756735858,
          124917093,
          99024,
          19150342,
          850162,
          17765238,
          2820287,
          141922092,
          2350506,
          21557679,
          4627,
          202134,
          354725,
          197264,
          31436112,
          4530390,
          69599553,
          720686,
          39597,
          10795,
          90181,
          534059,
          8125605,
          26031,
          2691,
          408477,
          32953,
          11028,
          72404,
          20749400,
          322261,
          5831,
          5414,
          392316,
          8127,
          2506760,
          6825,
          25344,
          19763792,
          56213,
          4893650,
          43293,
          26517176,
          1465660,
          20348035,
          4666942,
          466686,
          222744,
          27243267,
          36857698,
          2603976,
          10423857,
          3820270,
          27883393,
          1168760,
          21628,
          2205730,
          7553033,
          26026000,
          7396,
          1468720,
          260152,
          11350030,
          38646322,
          225971,
          1286475,
          101620,
          4910251,
          21935257,
          17596781,
          14594302,
          130416614,
          16327857,
          5462076,
          9873867,
          33451617,
          123899089,
          77507318,
          5543276,
          12684400,
          234416,
          3031,
          9724005,
          4992900,
          1513790,
          159997,
          34489850,
          20160,
          400958,
          167105270,
          2438020,
          49164,
          214466,
          4204570,
          110887,
          516208,
          55583134,
          1360689,
          2117004,
          27016700,
          13651358,
          18130,
          15064,
          799373,
          18572170,
          21621989,
          970586,
          8477,
          8322017,
          53238,
          465182,
          554694,
          9996140,
          2872110,
          12975001,
          5900264,
          126725441,
          129306060,
          6849180,
          2970759,
          226970,
          343565,
          513311,
          84366,
          1719651,
          34758,
          5479,
          518367,
          898506,
          2269715,
          893362,
          12411950,
          255238,
          693156,
          175067,
          16346672,
          20503151,
          28917,
          10968640,
          170885,
          1796123,
          904559,
          1370949,
          126536,
          1329370,
          16664,
          31666382,
          1440521,
          5038714,
          1082872,
          1973519,
          322990,
          1571533,
          1475048,
          427246,
          294023,
          81762,
          46495451,
          32271100,
          121876,
          146778,
          5481070,
          241620,
          181927,
          3651043,
          2170955,
          41594,
          10343,
          429930,
          1081874,
          797091,
          8065060,
          946874,
          211640715,
          982569,
          22659121,
          1978240,
          354740500,
          22817000,
          14392355,
          335411,
          2337684,
          89227,
          10803,
          5253,
          7306549,
          23597600,
          651764,
          4115950,
          195056,
          7322346,
          4416,
          586038,
          11084,
          34828,
          439765,
          48725,
          1589949,
          847330,
          3688900,
          122309,
          978230,
          987634,
          760467,
          277602,
          250689,
          3033,
          102567,
          163406,
          139896,
          45284,
          250371,
          374148,
          79179305,
          50135337,
          108431569,
          5732269,
          9868547,
          624438,
          507036,
          6742917,
          2164110,
          217584,
          8945553,
          12119637,
          290061,
          3942637,
          34620035,
          1575592,
          27483214,
          6699140,
          8993793,
          58356409,
          271875,
          154786500,
          627231,
          4019,
          82919,
          31385,
          1501180,
          30153,
          2914735,
          2195866,
          26802324,
          23016092,
          9016484,
          15461050,
          6480421,
          3388457,
          224495,
          4890757,
          333108,
          2760611,
          25105401,
          4191266,
          1174913,
          1047125,
          32280228,
          69360,
          2811711,
          15536877,
          42906071,
          3502758,
          87197361,
          44336300,
          4671278,
          150120,
          7011969,
          477898,
          23726006,
          469725,
          834139,
          82765,
          5275160,
          93217,
          1420775,
          588349,
          32310,
          21733000,
          2865098,
          991111,
          23783500,
          22144022,
          2094820,
          143674,
          1106490,
          50492300,
          4983287797,
          13427599,
          16545374,
          463568111,
          362126851,
          521364530,
          380727251,
          941134563,
          1161243176,
          202045472,
          6504240600,
          8200419453,
          5558003,
          2343242855,
          206411637,
          141704675,
          1148336136,
          2562823503,
          7289831407,
          8137678927,
          8679688537,
          63235220,
          53805342,
          413517,
          14902467,
          140029,
          1770730,
          52411663,
          7178302,
          300332702,
          27839543,
          1506188,
          332345,
          5680308,
          284159,
          1181974,
          8377810,
          85717,
          2007220,
          253457068,
          415559,
          967254,
          56342,
          5295850,
          131794,
          5114394,
          5773104,
          14765310,
          111182,
          15778,
          10269,
          290690,
          6116276719,
          17269651,
          226051346,
          1173100104,
          831271224,
          1342951501,
          761166389,
          1786194827,
          2600811320,
          540926917,
          13347928435,
          12743403745,
          31265327,
          3294875382,
          337772512,
          267328244,
          1635496248,
          3334644916,
          12047555938,
          10873340119,
          9697996318
         ]
        }
       ],
       "layout": {
        "legend": {
         "tracegroupgap": 0
        },
        "template": {
         "data": {
          "bar": [
           {
            "error_x": {
             "color": "#2a3f5f"
            },
            "error_y": {
             "color": "#2a3f5f"
            },
            "marker": {
             "line": {
              "color": "#E5ECF6",
              "width": 0.5
             },
             "pattern": {
              "fillmode": "overlay",
              "size": 10,
              "solidity": 0.2
             }
            },
            "type": "bar"
           }
          ],
          "barpolar": [
           {
            "marker": {
             "line": {
              "color": "#E5ECF6",
              "width": 0.5
             },
             "pattern": {
              "fillmode": "overlay",
              "size": 10,
              "solidity": 0.2
             }
            },
            "type": "barpolar"
           }
          ],
          "carpet": [
           {
            "aaxis": {
             "endlinecolor": "#2a3f5f",
             "gridcolor": "white",
             "linecolor": "white",
             "minorgridcolor": "white",
             "startlinecolor": "#2a3f5f"
            },
            "baxis": {
             "endlinecolor": "#2a3f5f",
             "gridcolor": "white",
             "linecolor": "white",
             "minorgridcolor": "white",
             "startlinecolor": "#2a3f5f"
            },
            "type": "carpet"
           }
          ],
          "choropleth": [
           {
            "colorbar": {
             "outlinewidth": 0,
             "ticks": ""
            },
            "type": "choropleth"
           }
          ],
          "contour": [
           {
            "colorbar": {
             "outlinewidth": 0,
             "ticks": ""
            },
            "colorscale": [
             [
              0,
              "#0d0887"
             ],
             [
              0.1111111111111111,
              "#46039f"
             ],
             [
              0.2222222222222222,
              "#7201a8"
             ],
             [
              0.3333333333333333,
              "#9c179e"
             ],
             [
              0.4444444444444444,
              "#bd3786"
             ],
             [
              0.5555555555555556,
              "#d8576b"
             ],
             [
              0.6666666666666666,
              "#ed7953"
             ],
             [
              0.7777777777777778,
              "#fb9f3a"
             ],
             [
              0.8888888888888888,
              "#fdca26"
             ],
             [
              1,
              "#f0f921"
             ]
            ],
            "type": "contour"
           }
          ],
          "contourcarpet": [
           {
            "colorbar": {
             "outlinewidth": 0,
             "ticks": ""
            },
            "type": "contourcarpet"
           }
          ],
          "heatmap": [
           {
            "colorbar": {
             "outlinewidth": 0,
             "ticks": ""
            },
            "colorscale": [
             [
              0,
              "#0d0887"
             ],
             [
              0.1111111111111111,
              "#46039f"
             ],
             [
              0.2222222222222222,
              "#7201a8"
             ],
             [
              0.3333333333333333,
              "#9c179e"
             ],
             [
              0.4444444444444444,
              "#bd3786"
             ],
             [
              0.5555555555555556,
              "#d8576b"
             ],
             [
              0.6666666666666666,
              "#ed7953"
             ],
             [
              0.7777777777777778,
              "#fb9f3a"
             ],
             [
              0.8888888888888888,
              "#fdca26"
             ],
             [
              1,
              "#f0f921"
             ]
            ],
            "type": "heatmap"
           }
          ],
          "heatmapgl": [
           {
            "colorbar": {
             "outlinewidth": 0,
             "ticks": ""
            },
            "colorscale": [
             [
              0,
              "#0d0887"
             ],
             [
              0.1111111111111111,
              "#46039f"
             ],
             [
              0.2222222222222222,
              "#7201a8"
             ],
             [
              0.3333333333333333,
              "#9c179e"
             ],
             [
              0.4444444444444444,
              "#bd3786"
             ],
             [
              0.5555555555555556,
              "#d8576b"
             ],
             [
              0.6666666666666666,
              "#ed7953"
             ],
             [
              0.7777777777777778,
              "#fb9f3a"
             ],
             [
              0.8888888888888888,
              "#fdca26"
             ],
             [
              1,
              "#f0f921"
             ]
            ],
            "type": "heatmapgl"
           }
          ],
          "histogram": [
           {
            "marker": {
             "pattern": {
              "fillmode": "overlay",
              "size": 10,
              "solidity": 0.2
             }
            },
            "type": "histogram"
           }
          ],
          "histogram2d": [
           {
            "colorbar": {
             "outlinewidth": 0,
             "ticks": ""
            },
            "colorscale": [
             [
              0,
              "#0d0887"
             ],
             [
              0.1111111111111111,
              "#46039f"
             ],
             [
              0.2222222222222222,
              "#7201a8"
             ],
             [
              0.3333333333333333,
              "#9c179e"
             ],
             [
              0.4444444444444444,
              "#bd3786"
             ],
             [
              0.5555555555555556,
              "#d8576b"
             ],
             [
              0.6666666666666666,
              "#ed7953"
             ],
             [
              0.7777777777777778,
              "#fb9f3a"
             ],
             [
              0.8888888888888888,
              "#fdca26"
             ],
             [
              1,
              "#f0f921"
             ]
            ],
            "type": "histogram2d"
           }
          ],
          "histogram2dcontour": [
           {
            "colorbar": {
             "outlinewidth": 0,
             "ticks": ""
            },
            "colorscale": [
             [
              0,
              "#0d0887"
             ],
             [
              0.1111111111111111,
              "#46039f"
             ],
             [
              0.2222222222222222,
              "#7201a8"
             ],
             [
              0.3333333333333333,
              "#9c179e"
             ],
             [
              0.4444444444444444,
              "#bd3786"
             ],
             [
              0.5555555555555556,
              "#d8576b"
             ],
             [
              0.6666666666666666,
              "#ed7953"
             ],
             [
              0.7777777777777778,
              "#fb9f3a"
             ],
             [
              0.8888888888888888,
              "#fdca26"
             ],
             [
              1,
              "#f0f921"
             ]
            ],
            "type": "histogram2dcontour"
           }
          ],
          "mesh3d": [
           {
            "colorbar": {
             "outlinewidth": 0,
             "ticks": ""
            },
            "type": "mesh3d"
           }
          ],
          "parcoords": [
           {
            "line": {
             "colorbar": {
              "outlinewidth": 0,
              "ticks": ""
             }
            },
            "type": "parcoords"
           }
          ],
          "pie": [
           {
            "automargin": true,
            "type": "pie"
           }
          ],
          "scatter": [
           {
            "fillpattern": {
             "fillmode": "overlay",
             "size": 10,
             "solidity": 0.2
            },
            "type": "scatter"
           }
          ],
          "scatter3d": [
           {
            "line": {
             "colorbar": {
              "outlinewidth": 0,
              "ticks": ""
             }
            },
            "marker": {
             "colorbar": {
              "outlinewidth": 0,
              "ticks": ""
             }
            },
            "type": "scatter3d"
           }
          ],
          "scattercarpet": [
           {
            "marker": {
             "colorbar": {
              "outlinewidth": 0,
              "ticks": ""
             }
            },
            "type": "scattercarpet"
           }
          ],
          "scattergeo": [
           {
            "marker": {
             "colorbar": {
              "outlinewidth": 0,
              "ticks": ""
             }
            },
            "type": "scattergeo"
           }
          ],
          "scattergl": [
           {
            "marker": {
             "colorbar": {
              "outlinewidth": 0,
              "ticks": ""
             }
            },
            "type": "scattergl"
           }
          ],
          "scattermapbox": [
           {
            "marker": {
             "colorbar": {
              "outlinewidth": 0,
              "ticks": ""
             }
            },
            "type": "scattermapbox"
           }
          ],
          "scatterpolar": [
           {
            "marker": {
             "colorbar": {
              "outlinewidth": 0,
              "ticks": ""
             }
            },
            "type": "scatterpolar"
           }
          ],
          "scatterpolargl": [
           {
            "marker": {
             "colorbar": {
              "outlinewidth": 0,
              "ticks": ""
             }
            },
            "type": "scatterpolargl"
           }
          ],
          "scatterternary": [
           {
            "marker": {
             "colorbar": {
              "outlinewidth": 0,
              "ticks": ""
             }
            },
            "type": "scatterternary"
           }
          ],
          "surface": [
           {
            "colorbar": {
             "outlinewidth": 0,
             "ticks": ""
            },
            "colorscale": [
             [
              0,
              "#0d0887"
             ],
             [
              0.1111111111111111,
              "#46039f"
             ],
             [
              0.2222222222222222,
              "#7201a8"
             ],
             [
              0.3333333333333333,
              "#9c179e"
             ],
             [
              0.4444444444444444,
              "#bd3786"
             ],
             [
              0.5555555555555556,
              "#d8576b"
             ],
             [
              0.6666666666666666,
              "#ed7953"
             ],
             [
              0.7777777777777778,
              "#fb9f3a"
             ],
             [
              0.8888888888888888,
              "#fdca26"
             ],
             [
              1,
              "#f0f921"
             ]
            ],
            "type": "surface"
           }
          ],
          "table": [
           {
            "cells": {
             "fill": {
              "color": "#EBF0F8"
             },
             "line": {
              "color": "white"
             }
            },
            "header": {
             "fill": {
              "color": "#C8D4E3"
             },
             "line": {
              "color": "white"
             }
            },
            "type": "table"
           }
          ]
         },
         "layout": {
          "annotationdefaults": {
           "arrowcolor": "#2a3f5f",
           "arrowhead": 0,
           "arrowwidth": 1
          },
          "autotypenumbers": "strict",
          "coloraxis": {
           "colorbar": {
            "outlinewidth": 0,
            "ticks": ""
           }
          },
          "colorscale": {
           "diverging": [
            [
             0,
             "#8e0152"
            ],
            [
             0.1,
             "#c51b7d"
            ],
            [
             0.2,
             "#de77ae"
            ],
            [
             0.3,
             "#f1b6da"
            ],
            [
             0.4,
             "#fde0ef"
            ],
            [
             0.5,
             "#f7f7f7"
            ],
            [
             0.6,
             "#e6f5d0"
            ],
            [
             0.7,
             "#b8e186"
            ],
            [
             0.8,
             "#7fbc41"
            ],
            [
             0.9,
             "#4d9221"
            ],
            [
             1,
             "#276419"
            ]
           ],
           "sequential": [
            [
             0,
             "#0d0887"
            ],
            [
             0.1111111111111111,
             "#46039f"
            ],
            [
             0.2222222222222222,
             "#7201a8"
            ],
            [
             0.3333333333333333,
             "#9c179e"
            ],
            [
             0.4444444444444444,
             "#bd3786"
            ],
            [
             0.5555555555555556,
             "#d8576b"
            ],
            [
             0.6666666666666666,
             "#ed7953"
            ],
            [
             0.7777777777777778,
             "#fb9f3a"
            ],
            [
             0.8888888888888888,
             "#fdca26"
            ],
            [
             1,
             "#f0f921"
            ]
           ],
           "sequentialminus": [
            [
             0,
             "#0d0887"
            ],
            [
             0.1111111111111111,
             "#46039f"
            ],
            [
             0.2222222222222222,
             "#7201a8"
            ],
            [
             0.3333333333333333,
             "#9c179e"
            ],
            [
             0.4444444444444444,
             "#bd3786"
            ],
            [
             0.5555555555555556,
             "#d8576b"
            ],
            [
             0.6666666666666666,
             "#ed7953"
            ],
            [
             0.7777777777777778,
             "#fb9f3a"
            ],
            [
             0.8888888888888888,
             "#fdca26"
            ],
            [
             1,
             "#f0f921"
            ]
           ]
          },
          "colorway": [
           "#636efa",
           "#EF553B",
           "#00cc96",
           "#ab63fa",
           "#FFA15A",
           "#19d3f3",
           "#FF6692",
           "#B6E880",
           "#FF97FF",
           "#FECB52"
          ],
          "font": {
           "color": "#2a3f5f"
          },
          "geo": {
           "bgcolor": "white",
           "lakecolor": "white",
           "landcolor": "#E5ECF6",
           "showlakes": true,
           "showland": true,
           "subunitcolor": "white"
          },
          "hoverlabel": {
           "align": "left"
          },
          "hovermode": "closest",
          "mapbox": {
           "style": "light"
          },
          "paper_bgcolor": "white",
          "plot_bgcolor": "#E5ECF6",
          "polar": {
           "angularaxis": {
            "gridcolor": "white",
            "linecolor": "white",
            "ticks": ""
           },
           "bgcolor": "#E5ECF6",
           "radialaxis": {
            "gridcolor": "white",
            "linecolor": "white",
            "ticks": ""
           }
          },
          "scene": {
           "xaxis": {
            "backgroundcolor": "#E5ECF6",
            "gridcolor": "white",
            "gridwidth": 2,
            "linecolor": "white",
            "showbackground": true,
            "ticks": "",
            "zerolinecolor": "white"
           },
           "yaxis": {
            "backgroundcolor": "#E5ECF6",
            "gridcolor": "white",
            "gridwidth": 2,
            "linecolor": "white",
            "showbackground": true,
            "ticks": "",
            "zerolinecolor": "white"
           },
           "zaxis": {
            "backgroundcolor": "#E5ECF6",
            "gridcolor": "white",
            "gridwidth": 2,
            "linecolor": "white",
            "showbackground": true,
            "ticks": "",
            "zerolinecolor": "white"
           }
          },
          "shapedefaults": {
           "line": {
            "color": "#2a3f5f"
           }
          },
          "ternary": {
           "aaxis": {
            "gridcolor": "white",
            "linecolor": "white",
            "ticks": ""
           },
           "baxis": {
            "gridcolor": "white",
            "linecolor": "white",
            "ticks": ""
           },
           "bgcolor": "#E5ECF6",
           "caxis": {
            "gridcolor": "white",
            "linecolor": "white",
            "ticks": ""
           }
          },
          "title": {
           "x": 0.05
          },
          "xaxis": {
           "automargin": true,
           "gridcolor": "white",
           "linecolor": "white",
           "ticks": "",
           "title": {
            "standoff": 15
           },
           "zerolinecolor": "white",
           "zerolinewidth": 2
          },
          "yaxis": {
           "automargin": true,
           "gridcolor": "white",
           "linecolor": "white",
           "ticks": "",
           "title": {
            "standoff": 15
           },
           "zerolinecolor": "white",
           "zerolinewidth": 2
          }
         }
        },
        "title": {
         "text": "Orígenes (2020)"
        }
       }
      }
     },
     "metadata": {},
     "output_type": "display_data"
    }
   ],
   "source": [
    "c = Data('world_trade_',reporting_country='484',year=[2020],imp_exp=1)\n",
    "df = c.read_data()\n",
    "c.grafica_treemap_paises(df[0],c.year,imp_exp=c.imp_exp)"
   ]
  },
  {
   "cell_type": "code",
   "execution_count": 57,
   "metadata": {},
   "outputs": [
    {
     "data": {
      "application/vnd.plotly.v1+json": {
       "config": {
        "plotlyServerURL": "https://plot.ly"
       },
       "data": [
        {
         "branchvalues": "total",
         "customdata": [
          [
           25087385.129839405
          ],
          [
           42890582.44946968
          ],
          [
           19638997.2323963
          ],
          [
           480461041.2029212
          ],
          [
           34136072.161991164
          ],
          [
           1110298492.588822
          ],
          [
           4830058.029432626
          ],
          [
           248948060.0127754
          ],
          [
           868485778.7386448
          ],
          [
           24301700
          ],
          [
           41205301.493502244
          ],
          [
           929529.8164049011
          ],
          [
           5198802.984504585
          ],
          [
           22413968.938117933
          ],
          [
           118627184.41246875
          ],
          [
           9188087.637646887
          ],
          [
           8292515.381241602
          ],
          [
           13786458.641731195
          ],
          [
           2469
          ],
          [
           19763800
          ],
          [
           767885799.8755803
          ],
          [
           30608200
          ],
          [
           90865597.36260858
          ],
          [
           135988504.12483037
          ],
          [
           354251313.15926737
          ],
          [
           183325491.64432484
          ],
          [
           162946397.7121189
          ],
          [
           620446
          ],
          [
           12747.005747612206
          ],
          [
           15068151.041843373
          ],
          [
           24536729.129307818
          ],
          [
           57121084.38439236
          ],
          [
           274816.63798751315
          ],
          [
           13841328.479599267
          ],
          [
           60291300
          ],
          [
           49311598.62925445
          ],
          [
           34598300
          ],
          [
           9158780
          ],
          [
           39817194.7166586
          ],
          [
           24699984.79879621
          ],
          [
           9344061.831746759
          ],
          [
           9118238.622298064
          ],
          [
           121925400.42479269
          ],
          [
           4274585.787471302
          ],
          [
           3028185.741524252
          ],
          [
           258535843.36843085
          ],
          [
           23754162.53344152
          ],
          [
           21945662.677686848
          ],
          [
           91339993.66485007
          ],
          [
           6234200
          ],
          [
           304993113.1777965
          ],
          [
           28516412.145873524
          ],
          [
           49461970.27369622
          ],
          [
           5876099.97824115
          ],
          [
           1199903.478492088
          ],
          [
           16507490.926159702
          ],
          [
           955
          ],
          [
           22329127.820794705
          ],
          [
           1781072.532791721
          ],
          [
           462178.83097163826
          ],
          [
           25192
          ],
          [
           60943625.53155603
          ],
          [
           2753892.60828901
          ],
          [
           291008.0098873833
          ],
          [
           3907880.535451331
          ],
          [
           912233.7803906634
          ],
          [
           640693799.6594155
          ],
          [
           50734907.07915006
          ],
          [
           49817700
          ],
          [
           2674681065.1591077
          ],
          [
           207436965.39710698
          ],
          [
           101575101.0912346
          ],
          [
           15448638.01537917
          ],
          [
           22059119.068123754
          ],
          [
           59962058.39238976
          ],
          [
           22592957.868971758
          ],
          [
           5723834.032506408
          ],
          [
           146496067.27198616
          ],
          [
           29869456.77296488
          ],
          [
           1394989.6126966677
          ],
          [
           1707349314.90976
          ],
          [
           99276990.12212221
          ],
          [
           560054000
          ],
          [
           5702548.874760953
          ],
          [
           30519006.234478444
          ],
          [
           1112570
          ],
          [
           57164551.84425547
          ],
          [
           2738753.1908907862
          ],
          [
           2446775.9573354125
          ],
          [
           576790
          ],
          [
           2394583.593713913
          ],
          [
           386202.78039038955
          ],
          [
           1910898.5056060848
          ],
          [
           19511176.016534247
          ],
          [
           182474000
          ],
          [
           126077
          ],
          [
           2528886.945080026
          ],
          [
           2988156.025035349
          ],
          [
           93791668.14638685
          ],
          [
           285272.75451512943
          ],
          [
           57715104.96725896
          ],
          [
           5556779.267879211
          ],
          [
           64426648.18351767
          ],
          [
           17915605.058162097
          ],
          [
           16308216.95713807
          ],
          [
           90227780.27842228
          ],
          [
           7455923.04696752
          ],
          [
           34545727.99851665
          ],
          [
           29582701.596250627
          ],
          [
           4005716.709916889
          ],
          [
           1084537.4275164295
          ],
          [
           93750
          ],
          [
           157260411.0373346
          ],
          [
           102931073.72404568
          ],
          [
           667218
          ],
          [
           31670668.35771094
          ],
          [
           18852469.034714695
          ],
          [
           30215714.172475133
          ],
          [
           469662
          ],
          [
           33414495.538862873
          ],
          [
           2413412.6953632007
          ],
          [
           13052571.760702977
          ],
          [
           9917380.915709184
          ],
          [
           516325.8205253224
          ],
          [
           55602374.802936345
          ],
          [
           2488202.140233177
          ],
          [
           99382221.53601032
          ],
          [
           1088683.7532172333
          ],
          [
           4684002.232654913
          ],
          [
           11353750.896027604
          ],
          [
           224681578.71356764
          ],
          [
           54664411.80188139
          ],
          [
           8698508.440706005
          ],
          [
           19966810.778075945
          ],
          [
           41011967.24249346
          ],
          [
           360886.2774039475
          ],
          [
           933607.5257866603
          ],
          [
           145242660.26267844
          ],
          [
           2985221.137304315
          ],
          [
           45203352.96828448
          ],
          [
           10200300
          ],
          [
           399195709.74177647
          ],
          [
           685069095.2014486
          ],
          [
           18626489.492530107
          ],
          [
           932347.5436402622
          ],
          [
           160492795.49543595
          ],
          [
           38678300
          ],
          [
           231478.71209746145
          ],
          [
           1752090
          ],
          [
           8791619.802177833
          ],
          [
           828871.6302870516
          ],
          [
           49601000
          ],
          [
           650302.1553936065
          ],
          [
           36408626.85285518
          ],
          [
           1296586.2581429938
          ],
          [
           69898745.5238275
          ],
          [
           41634179.541712545
          ],
          [
           110060.23278142694
          ],
          [
           91427
          ],
          [
           1313092.9087046625
          ],
          [
           771855.6504636283
          ],
          [
           3377389.232438976
          ],
          [
           64662
          ],
          [
           1194343.4134873701
          ],
          [
           423067.8550378412
          ],
          [
           4702848.598158301
          ],
          [
           1455309.6206353204
          ],
          [
           2606327.512396874
          ],
          [
           2710912.0242029196
          ],
          [
           1260699.5010603743
          ],
          [
           9726551.66129962
          ],
          [
           636257.8280767711
          ],
          [
           17585928.055397097
          ],
          [
           950361.8822092436
          ],
          [
           1962759.3159115817
          ],
          [
           7698862.596852339
          ],
          [
           151983893.1852584
          ],
          [
           10588444.888427205
          ],
          [
           947917057.1608907
          ],
          [
           4499482.207803429
          ],
          [
           25062000
          ],
          [
           33762633.43194963
          ],
          [
           1956685.2686674453
          ],
          [
           61876900
          ],
          [
           31575902.94723636
          ],
          [
           5666607.184587411
          ],
          [
           156434.69776874376
          ],
          [
           94050.01155246217
          ],
          [
           1458150
          ],
          [
           124357
          ],
          [
           6767450
          ],
          [
           2488370
          ],
          [
           40833662.36681745
          ],
          [
           1617380
          ],
          [
           13125282.707284935
          ],
          [
           108482360.21977901
          ],
          [
           46974152.62961869
          ],
          [
           571480.7756580471
          ],
          [
           6317582307.5662565
          ],
          [
           111510537.99712688
          ],
          [
           472596828.1273497
          ],
          [
           767378.7424434606
          ],
          [
           4609176.286157286
          ],
          [
           104129000
          ],
          [
           10280418.605011057
          ],
          [
           93295
          ],
          [
           29667382.92226566
          ],
          [
           46917203.75797673
          ],
          [
           2080775.5759291002
          ],
          [
           809677.7163314803
          ],
          [
           1076298.8487489994
          ],
          [
           1253545.8005101196
          ],
          [
           58288858.52111569
          ],
          [
           3285497.3828714457
          ],
          [
           3313399.8982320903
          ],
          [
           7139390.480467745
          ],
          [
           113733096.1935092
          ],
          [
           72153246.54191087
          ],
          [
           541319.0301158426
          ],
          [
           57352674.32482715
          ],
          [
           38457031.97852799
          ],
          [
           4700650.23422075
          ],
          [
           1707844.6246113367
          ],
          [
           6887337.84237649
          ],
          [
           4823298.150230269
          ],
          [
           8065227.63675433
          ],
          [
           647747.2760708616
          ],
          [
           7615128.121793856
          ],
          [
           2289622.1880897973
          ],
          [
           2735046.7364392616
          ],
          [
           4372314.0077345
          ],
          [
           2651213.204646032
          ],
          [
           10167493.90985839
          ],
          [
           1681759.5158920211
          ],
          [
           15851176.998104468
          ],
          [
           4965737.118319066
          ],
          [
           18316016.565568663
          ],
          [
           67146028.79059012
          ],
          [
           8580441.798871536
          ],
          [
           15291979.305586668
          ],
          [
           6932184.490847531
          ],
          [
           4670168.104432833
          ],
          [
           802364343.742406
          ],
          [
           2346104.7397835697
          ],
          [
           139875.3471922118
          ],
          [
           2841569.0183842746
          ],
          [
           21127789.369778357
          ],
          [
           8666095.577688958
          ],
          [
           2052382.475577019
          ],
          [
           265857.7901844036
          ],
          [
           1633551.3338918597
          ],
          [
           377041887.6738092
          ],
          [
           1029766213.5088086
          ],
          [
           427336165.6605336
          ],
          [
           9729537.961844828
          ],
          [
           23059744.729413673
          ],
          [
           25991612.71412341
          ],
          [
           2080576.1036974718
          ],
          [
           242301174.31190723
          ],
          [
           47189352.74669396
          ],
          [
           383805.4492935916
          ],
          [
           12005662.431001646
          ],
          [
           423255.45028086693
          ],
          [
           43837232.87803778
          ],
          [
           121534088.94418557
          ],
          [
           45501103.80372764
          ],
          [
           11116515.502166316
          ],
          [
           7009617.921417839
          ],
          [
           23963823.99759289
          ],
          [
           10824871.513899118
          ],
          [
           32437918.02493083
          ],
          [
           22654696.64521539
          ],
          [
           45319356.5526462
          ],
          [
           4644677.361922895
          ],
          [
           1375715.049169042
          ],
          [
           41361598.7155311
          ],
          [
           35358199.48261672
          ],
          [
           37094703.31495698
          ],
          [
           17143303.35458169
          ],
          [
           7353848.635977316
          ],
          [
           38339868.232699506
          ],
          [
           17661031.307905186
          ],
          [
           8187100.716511418
          ],
          [
           6376500.974736183
          ],
          [
           5420128.248577818
          ],
          [
           68283440.64138168
          ],
          [
           282862.6690376344
          ],
          [
           13556454.60862538
          ],
          [
           20576710.08162149
          ],
          [
           49491516.43528927
          ],
          [
           3109454.33272602
          ],
          [
           101975925.2582389
          ],
          [
           2311756.7417629035
          ],
          [
           21473240.074748382
          ],
          [
           84772970.17072295
          ],
          [
           6537471.052079058
          ],
          [
           2531519.897698147
          ],
          [
           81289328.31689945
          ],
          [
           6663214.380885991
          ],
          [
           27169149.519946445
          ],
          [
           5547372.497064512
          ],
          [
           1257855.904985412
          ],
          [
           19592719.04051673
          ],
          [
           809978.5108187338
          ],
          [
           17229129.720253233
          ],
          [
           29641934.03362225
          ],
          [
           2351607.160167148
          ],
          [
           3048375.9127249196
          ],
          [
           54438120.524103746
          ],
          [
           4561526.4100815095
          ],
          [
           14209991.364086678
          ],
          [
           13753085.073802106
          ],
          [
           27690896.505653672
          ],
          [
           20142847.3905499
          ],
          [
           5830970
          ],
          [
           29720425.68642728
          ],
          [
           18721622.792331472
          ],
          [
           434628.8573491932
          ],
          [
           337283
          ],
          [
           167821.31329344455
          ],
          [
           16923361.287938822
          ],
          [
           13599344.760970986
          ],
          [
           3216475.933914474
          ],
          [
           73229
          ],
          [
           128273.9054350933
          ],
          [
           6071
          ],
          [
           20872877.985047314
          ],
          [
           9506083.039679049
          ],
          [
           64940014.32948408
          ],
          [
           987851
          ],
          [
           2374684.7970977486
          ],
          [
           4410141.365375189
          ],
          [
           10374450.307149144
          ],
          [
           315764075.40268475
          ],
          [
           37013419.932274215
          ],
          [
           6148951.733296186
          ],
          [
           1120460299.1832964
          ],
          [
           25841597.79806066
          ],
          [
           72618047.62661932
          ],
          [
           407571.2048453418
          ],
          [
           15185234.048299616
          ],
          [
           17396745.460669536
          ],
          [
           11854401.121074717
          ],
          [
           42843542.704521306
          ],
          [
           2383260
          ],
          [
           536617184.87812173
          ],
          [
           99141526.35307921
          ],
          [
           63999287.75874486
          ],
          [
           36751393.38807934
          ],
          [
           13883533.351362733
          ],
          [
           6318219.3826592015
          ],
          [
           24676521.003820807
          ],
          [
           42763594.6708173
          ],
          [
           987951.700596668
          ],
          [
           2519066.18446361
          ],
          [
           199031686.45681047
          ],
          [
           2225486.6540788673
          ],
          [
           4693770.391371326
          ],
          [
           21550829.5811302
          ],
          [
           4463233.355304632
          ],
          [
           484396.02722248796
          ],
          [
           63179795.662018605
          ],
          [
           23453
          ],
          [
           4082307.6959012845
          ],
          [
           34121236.61630226
          ],
          [
           1827076.416521487
          ],
          [
           17541500
          ],
          [
           297563
          ],
          [
           1839954.939919091
          ],
          [
           16927462.794698395
          ],
          [
           320562.71195116633
          ],
          [
           5437318.695822393
          ],
          [
           8791600
          ],
          [
           132254.51456760318
          ],
          [
           158080.47119193568
          ],
          [
           345331.72706750594
          ],
          [
           1143991.0490916485
          ],
          [
           1622137.9138332466
          ],
          [
           11409500
          ],
          [
           486277.6188784352
          ],
          [
           1027660
          ],
          [
           160126080.74112397
          ],
          [
           19856482.852384526
          ],
          [
           60673981.84369397
          ],
          [
           25004670.39011975
          ],
          [
           29523645.68243419
          ],
          [
           51095686.21450136
          ],
          [
           1715757.4624898573
          ],
          [
           1877485.38677727
          ],
          [
           7986535.730519383
          ],
          [
           13789872.25056049
          ],
          [
           5636047.502983196
          ],
          [
           303594.75319049374
          ],
          [
           151314.48749390893
          ],
          [
           21191.36727272727
          ],
          [
           24599842.673704974
          ],
          [
           1093129.1644053734
          ],
          [
           426041.75173894473
          ],
          [
           2429393.051438164
          ],
          [
           4783334.958282921
          ],
          [
           208550987.42269543
          ],
          [
           8898930
          ],
          [
           5763696.305187913
          ],
          [
           335407653.2209372
          ],
          [
           16995729.999680944
          ],
          [
           44774847.958486155
          ],
          [
           440807040.5078096
          ],
          [
           277100021.6428702
          ],
          [
           3546400.755334093
          ],
          [
           15834717.46393092
          ],
          [
           281604989.1945648
          ],
          [
           5143709.479166846
          ],
          [
           207988588.9049577
          ],
          [
           235968.39634900796
          ],
          [
           5061109.797766056
          ],
          [
           1005434.9169039018
          ],
          [
           12418125.844389526
          ],
          [
           6646802.610120072
          ],
          [
           6942666.849503492
          ],
          [
           1624804.4102504042
          ],
          [
           4719448.70466584
          ],
          [
           49946.1344634835
          ],
          [
           84573.98787633782
          ],
          [
           301464.2160229856
          ],
          [
           793080.0528268048
          ],
          [
           4301.147853550123
          ],
          [
           141238.0530268409
          ],
          [
           4117924.712354443
          ],
          [
           39008
          ],
          [
           412991
          ],
          [
           37758.61897953123
          ],
          [
           3318843.5615831665
          ],
          [
           5737903.585118223
          ],
          [
           207668000
          ],
          [
           4808760
          ],
          [
           1298707.6442587906
          ],
          [
           284797.5061113643
          ],
          [
           10394173.155832762
          ],
          [
           1854656.4139799285
          ],
          [
           87418.33307306324
          ],
          [
           13517220.276657553
          ],
          [
           62424223.022686906
          ],
          [
           3735191.4128631996
          ],
          [
           60073865.42727211
          ],
          [
           107968.31468394445
          ],
          [
           21243577.63124297
          ],
          [
           61975.09584368682
          ],
          [
           580105.0516852466
          ],
          [
           1713280.9727384048
          ],
          [
           980676.8699781935
          ],
          [
           98276.71000367246
          ],
          [
           351282.1752067903
          ],
          [
           23435632.437722936
          ],
          [
           1620223.4318829274
          ],
          [
           38284268.28177046
          ],
          [
           339536.4945023868
          ],
          [
           1797624.8754867879
          ],
          [
           728782.970373892
          ],
          [
           23885582.73214225
          ],
          [
           3788488.582114841
          ],
          [
           1013931.9907516708
          ],
          [
           628132.9536388179
          ],
          [
           37780
          ],
          [
           5636855.231462201
          ],
          [
           13765565.662862355
          ],
          [
           2271691.2316853106
          ],
          [
           1946072.2809871081
          ],
          [
           61636980.49620779
          ],
          [
           31268018.992736
          ],
          [
           22750627.383404344
          ],
          [
           16637137.243146127
          ],
          [
           10121833.36904356
          ],
          [
           17605160.56339271
          ],
          [
           29587771.39944983
          ],
          [
           3753166.4347204342
          ],
          [
           346845.14068010024
          ],
          [
           2119172.3982659196
          ],
          [
           2075086.4885789484
          ],
          [
           423161.490963661
          ],
          [
           2469968.159848337
          ],
          [
           41604409.763420545
          ],
          [
           3217916.6105008386
          ],
          [
           5247491.048469952
          ],
          [
           5913993.736668295
          ],
          [
           102152.3698867361
          ],
          [
           3650287.0065217935
          ],
          [
           2099120.9252704633
          ],
          [
           1379
          ],
          [
           7420923.453218494
          ],
          [
           1592680.0980783675
          ],
          [
           59336.21369463379
          ],
          [
           5733151.13945275
          ],
          [
           5876981.407722789
          ],
          [
           1440831.7853785262
          ],
          [
           12217275.891523708
          ],
          [
           126487.21044073421
          ],
          [
           164947.4791301135
          ],
          [
           30540353.3051669
          ],
          [
           3429970.6060570218
          ],
          [
           711676.2428566943
          ],
          [
           2850734.6648325226
          ],
          [
           1794757.6991858152
          ],
          [
           103801868.4297113
          ],
          [
           5372666.318737686
          ],
          [
           1515466.3880680306
          ],
          [
           40635105.531637065
          ],
          [
           27778320.92130283
          ],
          [
           48836730.70170929
          ],
          [
           808970.5480844686
          ],
          [
           5522720.470166498
          ],
          [
           2080124.3510894128
          ],
          [
           723096.1582753657
          ],
          [
           2198193.522600409
          ],
          [
           3490614.7198760244
          ],
          [
           43966698.96742237
          ],
          [
           164393.01742093582
          ],
          [
           3433249.8696702
          ],
          [
           1369341.8339566786
          ],
          [
           458581.5556167288
          ],
          [
           8991074.376830433
          ],
          [
           14304498.207709992
          ],
          [
           5516505.497543347
          ],
          [
           16988328.650016423
          ],
          [
           11522828.789682576
          ],
          [
           1832086.4919961
          ],
          [
           35265640.77333988
          ],
          [
           8692174.589402026
          ],
          [
           11231305.465889288
          ],
          [
           2652614.366748426
          ],
          [
           2477050
          ],
          [
           2410322.1344229346
          ],
          [
           2471388.541138997
          ],
          [
           16574707.445903702
          ],
          [
           830848.5009197732
          ],
          [
           4587648.47613011
          ],
          [
           393207.0797785452
          ],
          [
           30956922.094654594
          ],
          [
           57663.64197505412
          ],
          [
           2494939.913292012
          ],
          [
           304629.78082039446
          ],
          [
           669276.0901617464
          ],
          [
           28857003.445631336
          ],
          [
           7572952.998821567
          ],
          [
           194291.82604463695
          ],
          [
           5241824.45357431
          ],
          [
           4369877.57139639
          ],
          [
           218924.76980902953
          ],
          [
           660709.0559772688
          ],
          [
           1833717.6137984898
          ],
          [
           671000.3836760139
          ],
          [
           26880743.315937527
          ],
          [
           24406576.6476497
          ],
          [
           536813
          ],
          [
           46670.363803107735
          ],
          [
           258391.11522317457
          ],
          [
           15039995.893925078
          ],
          [
           100937559.02746575
          ],
          [
           1861420
          ],
          [
           417909.4265809489
          ],
          [
           11723129.389874276
          ],
          [
           10688200
          ],
          [
           33497038.626137987
          ],
          [
           1825027.954833283
          ],
          [
           148664.28809242422
          ],
          [
           27747028.729636796
          ],
          [
           2658947.4304785943
          ],
          [
           3729761.836946191
          ],
          [
           383359.13663311617
          ],
          [
           1031052.0326620296
          ],
          [
           1647764.0882984316
          ],
          [
           11418482.30462895
          ],
          [
           4629394.8674778165
          ],
          [
           118546.17482522425
          ],
          [
           52738716.24843166
          ],
          [
           608741.4949818811
          ],
          [
           3841580.00094682
          ],
          [
           404308.611196565
          ],
          [
           70415801.26691821
          ],
          [
           2087220.2924644486
          ],
          [
           44592056.268119946
          ],
          [
           399751.79424767935
          ],
          [
           13659206.46776922
          ],
          [
           104186.70364165124
          ],
          [
           28562813.08026282
          ],
          [
           2354545.013564967
          ],
          [
           8036.0090448013525
          ],
          [
           61848201.30281417
          ],
          [
           16442592.862035032
          ],
          [
           63591000
          ],
          [
           550827820.3863652
          ],
          [
           18863814.438935485
          ],
          [
           678725
          ],
          [
           627846161.5200275
          ],
          [
           418459721.26509476
          ],
          [
           117575525.92126824
          ],
          [
           237192376.15069756
          ],
          [
           75009032.69381748
          ],
          [
           78987304.0317291
          ],
          [
           4534296.721629651
          ],
          [
           46482037.58858458
          ],
          [
           27291079.003723904
          ],
          [
           30655158.43094331
          ],
          [
           4908780
          ],
          [
           270462804.70573735
          ],
          [
           53908141.03299234
          ],
          [
           6867813.557656069
          ],
          [
           19355434.34709528
          ],
          [
           22272700.632843785
          ],
          [
           19469879.339046862
          ],
          [
           377708989.50586015
          ],
          [
           28084930.61633991
          ],
          [
           14695993.127112022
          ],
          [
           95650983.79705271
          ],
          [
           13752462.449111465
          ],
          [
           4668320.546916798
          ],
          [
           40097300.995273404
          ],
          [
           2401166.0723786345
          ],
          [
           6678492.715556473
          ],
          [
           40721155.58478217
          ],
          [
           731629.4772623918
          ],
          [
           181232.3211984991
          ],
          [
           4355511.396230925
          ],
          [
           1207974.8947875637
          ],
          [
           19545736.174799155
          ],
          [
           16849667.06603933
          ],
          [
           526520614.21213806
          ],
          [
           29212900
          ],
          [
           2578896.899370873
          ],
          [
           2234211.4997152686
          ],
          [
           55072453.15390829
          ],
          [
           570331608.3907018
          ],
          [
           118417673.63140802
          ],
          [
           12593940.875952477
          ],
          [
           113856727.39085636
          ],
          [
           5251023.669504266
          ],
          [
           17659461.778658215
          ],
          [
           2138610.0455722553
          ],
          [
           72047760.49896742
          ],
          [
           11361996.422927497
          ],
          [
           7296575.345386531
          ],
          [
           28668266.97398594
          ],
          [
           203720743.1151039
          ],
          [
           128723908.10696043
          ],
          [
           803686.5354673322
          ],
          [
           7335010.325336258
          ],
          [
           4073000
          ],
          [
           28356892.985017147
          ],
          [
           12475380.400403872
          ],
          [
           2987663.14002953
          ],
          [
           9083113.24614687
          ],
          [
           20581749.03676872
          ],
          [
           11975863.42218061
          ],
          [
           20979858.53576504
          ],
          [
           12031120.599861251
          ],
          [
           29456936.764298975
          ],
          [
           11130293.185448155
          ],
          [
           41811
          ],
          [
           23433950.650097974
          ],
          [
           2073694.5858790164
          ],
          [
           14419609.858484363
          ],
          [
           760154.4591301018
          ],
          [
           13536681.4229561
          ],
          [
           41058183.95561827
          ],
          [
           2379658.4450139785
          ],
          [
           1090909.764672404
          ],
          [
           15449.13809761147
          ],
          [
           74574044.61233327
          ],
          [
           692661.897946367
          ],
          [
           1214402.5144189256
          ],
          [
           6560948.903486543
          ],
          [
           1388619.5216116353
          ],
          [
           1264330.9970688252
          ],
          [
           3970944.2080154074
          ],
          [
           10323423.216303192
          ],
          [
           9349694.881395012
          ],
          [
           1449193.7651215852
          ],
          [
           57425600
          ],
          [
           5647187.9273725115
          ],
          [
           734794.6492444598
          ],
          [
           3350386.139369007
          ],
          [
           20443158.246110167
          ],
          [
           9944207.518596677
          ],
          [
           963860576.5360799
          ],
          [
           3355092343.804576
          ],
          [
           873224.851892324
          ],
          [
           1468546586.605822
          ],
          [
           12484410.661107762
          ],
          [
           26844756.07859933
          ],
          [
           3867305.915538658
          ],
          [
           15301658.235424913
          ],
          [
           196834021.61738104
          ],
          [
           74326755.66886525
          ],
          [
           22029676.66072515
          ],
          [
           12987767.02711707
          ],
          [
           2241719.8706224943
          ],
          [
           814286.1902651723
          ],
          [
           22297325.125364542
          ],
          [
           5475325.020972591
          ],
          [
           12829949.17825801
          ],
          [
           2980252.5129246945
          ],
          [
           9354149.969908152
          ],
          [
           2170042.214911229
          ],
          [
           5594382.916050222
          ],
          [
           2259675.7049118043
          ],
          [
           9469129.048291601
          ],
          [
           20241874.335989807
          ],
          [
           7999858.026061449
          ],
          [
           9603722.32470969
          ],
          [
           39958262.16884835
          ],
          [
           32922381.515654758
          ],
          [
           58269692.578684606
          ],
          [
           25527713.540312186
          ],
          [
           8703975.718641069
          ],
          [
           9865147.33506454
          ],
          [
           11665821.717677921
          ],
          [
           10307457.450202312
          ],
          [
           10119329.53816476
          ],
          [
           7695418.423132012
          ],
          [
           26287405.5263154
          ],
          [
           15828169.311781773
          ],
          [
           93978857.06987235
          ],
          [
           14418727.964803481
          ],
          [
           5526971.616393041
          ],
          [
           37817879.32754125
          ],
          [
           110968901.90026765
          ],
          [
           59976284.27397926
          ],
          [
           34056820.88002455
          ],
          [
           16829186.293214362
          ],
          [
           2958656.051900985
          ],
          [
           24490898.370983917
          ],
          [
           13815367.798957463
          ],
          [
           2618321.4358955296
          ],
          [
           8934570
          ],
          [
           6559980
          ],
          [
           100475000
          ],
          [
           267097588.7151067
          ],
          [
           3239456.995057267
          ],
          [
           1722160.5832998857
          ],
          [
           116089657.31018557
          ],
          [
           34435944.702816345
          ],
          [
           52756574.60535533
          ],
          [
           12883890.515061576
          ],
          [
           18433486.464001402
          ],
          [
           5735329.047718242
          ],
          [
           60564051.76376791
          ],
          [
           31734753.657031935
          ],
          [
           20671408.073254637
          ],
          [
           20810189.009871654
          ],
          [
           91395554.20276748
          ],
          [
           97478.27458433193
          ],
          [
           151478.18913770377
          ],
          [
           2993157.1443783646
          ],
          [
           2001130
          ],
          [
           14440900
          ],
          [
           2598592.8262413167
          ],
          [
           3610419.32429334
          ],
          [
           44860252.67303929
          ],
          [
           1956335.7499869652
          ],
          [
           3949301.846767152
          ],
          [
           1884238.80107171
          ],
          [
           138408.97025612066
          ],
          [
           1245176.5636222789
          ],
          [
           4210091.6669746665
          ],
          [
           1962703.1107504626
          ],
          [
           35445803.34741395
          ],
          [
           1663649.295301493
          ],
          [
           20063065.19472494
          ],
          [
           243812707.92818618
          ],
          [
           11832573.460892249
          ],
          [
           44532152.61079812
          ],
          [
           70346796.4721655
          ],
          [
           1695324.7677590016
          ],
          [
           170098.97013420402
          ],
          [
           4979971.288044995
          ],
          [
           1032421.3848126137
          ],
          [
           459230.35723835294
          ],
          [
           183511
          ],
          [
           36576.83571111642
          ],
          [
           94201.93201628381
          ],
          [
           163982.1447951258
          ],
          [
           1205623.0063528991
          ],
          [
           1200977.9269400465
          ],
          [
           739998.9204703517
          ],
          [
           4335330.47786387
          ],
          [
           2947213.6637633396
          ],
          [
           1525793.483484157
          ],
          [
           7863319.087676494
          ],
          [
           160504.6260984491
          ],
          [
           3558437.791026852
          ],
          [
           824722.6526788395
          ],
          [
           5764818.499565277
          ],
          [
           6090371.364928695
          ],
          [
           37295.90242388217
          ],
          [
           14669834.328229658
          ],
          [
           21711988.86708136
          ],
          [
           1792081.8597410459
          ],
          [
           2934199.839064736
          ],
          [
           58544.99114261551
          ],
          [
           17678378.552085947
          ],
          [
           1301639.522345575
          ],
          [
           645138.7211077447
          ],
          [
           6072414.81220013
          ],
          [
           44511540.102777675
          ],
          [
           2465119.618716435
          ],
          [
           701401.8389135208
          ],
          [
           10620602.99336811
          ],
          [
           136040.56777143822
          ],
          [
           9362431.391451616
          ],
          [
           10711378.92311088
          ],
          [
           50370269.62656212
          ],
          [
           1385451.7231687873
          ],
          [
           18048732.62570082
          ],
          [
           5649704.511441531
          ],
          [
           1803060.1714147707
          ],
          [
           266970.76337641285
          ],
          [
           58995.417361760265
          ],
          [
           605036291.1516957
          ],
          [
           5038502.732269633
          ],
          [
           24073064.34856264
          ],
          [
           76378440.21877597
          ],
          [
           100359537.42449282
          ],
          [
           84923044.14872721
          ],
          [
           32932662.32695407
          ],
          [
           120031193.07878307
          ],
          [
           47629887.38936664
          ],
          [
           23433131.303289074
          ],
          [
           282783082.7272101
          ],
          [
           1535530366.6996741
          ],
          [
           4614858.151443514
          ],
          [
           271546013.977782
          ],
          [
           47173232.50643959
          ],
          [
           34239573.91122428
          ],
          [
           239185975.70030665
          ],
          [
           260324347.26074305
          ],
          [
           342912367.2427635
          ],
          [
           1244117007.0956423
          ],
          [
           4489851345.849742
          ]
         ],
         "domain": {
          "x": [
           0,
           1
          ],
          "y": [
           0,
           1
          ]
         },
         "hovertemplate": "labels=%{label}<br>tradevalue_sum=%{value}<br>parent=%{parent}<br>id=%{id}<br>tradevalue=%{color}<extra></extra>",
         "ids": [
          "Animales vivos y productos del reino animal/0101",
          "Animales vivos y productos del reino animal/0102",
          "Animales vivos y productos del reino animal/0105",
          "Animales vivos y productos del reino animal/0201",
          "Animales vivos y productos del reino animal/0202",
          "Animales vivos y productos del reino animal/0203",
          "Animales vivos y productos del reino animal/0204",
          "Animales vivos y productos del reino animal/0206",
          "Animales vivos y productos del reino animal/0207",
          "Animales vivos y productos del reino animal/0209",
          "Animales vivos y productos del reino animal/0210",
          "Animales vivos y productos del reino animal/0301",
          "Animales vivos y productos del reino animal/0302",
          "Animales vivos y productos del reino animal/0303",
          "Animales vivos y productos del reino animal/0304",
          "Animales vivos y productos del reino animal/0305",
          "Animales vivos y productos del reino animal/0306",
          "Animales vivos y productos del reino animal/0307",
          "Animales vivos y productos del reino animal/0308",
          "Animales vivos y productos del reino animal/0401",
          "Animales vivos y productos del reino animal/0402",
          "Animales vivos y productos del reino animal/0403",
          "Animales vivos y productos del reino animal/0404",
          "Animales vivos y productos del reino animal/0405",
          "Animales vivos y productos del reino animal/0406",
          "Animales vivos y productos del reino animal/0407",
          "Animales vivos y productos del reino animal/0504",
          "Animales vivos y productos del reino animal/0505",
          "Animales vivos y productos del reino animal/0508",
          "Animales vivos y productos del reino animal/0511",
          "Productos del reino vegetal/0601",
          "Productos del reino vegetal/0602",
          "Productos del reino vegetal/0603",
          "Productos del reino vegetal/0604",
          "Productos del reino vegetal/0701",
          "Productos del reino vegetal/0703",
          "Productos del reino vegetal/0705",
          "Productos del reino vegetal/0706",
          "Productos del reino vegetal/0709",
          "Productos del reino vegetal/0710",
          "Productos del reino vegetal/0711",
          "Productos del reino vegetal/0712",
          "Productos del reino vegetal/0713",
          "Productos del reino vegetal/0714",
          "Productos del reino vegetal/0801",
          "Productos del reino vegetal/0802",
          "Productos del reino vegetal/0804",
          "Productos del reino vegetal/0805",
          "Productos del reino vegetal/0806",
          "Productos del reino vegetal/0807",
          "Productos del reino vegetal/0808",
          "Productos del reino vegetal/0809",
          "Productos del reino vegetal/0810",
          "Productos del reino vegetal/0811",
          "Productos del reino vegetal/0812",
          "Productos del reino vegetal/0813",
          "Productos del reino vegetal/0814",
          "Productos del reino vegetal/0901",
          "Productos del reino vegetal/0902",
          "Productos del reino vegetal/0903",
          "Productos del reino vegetal/0905",
          "Productos del reino vegetal/0906",
          "Productos del reino vegetal/0907",
          "Productos del reino vegetal/0908",
          "Productos del reino vegetal/0909",
          "Productos del reino vegetal/0910",
          "Productos del reino vegetal/1001",
          "Productos del reino vegetal/1003",
          "Productos del reino vegetal/1004",
          "Productos del reino vegetal/1005",
          "Productos del reino vegetal/1006",
          "Productos del reino vegetal/1101",
          "Productos del reino vegetal/1102",
          "Productos del reino vegetal/1103",
          "Productos del reino vegetal/1104",
          "Productos del reino vegetal/1105",
          "Productos del reino vegetal/1106",
          "Productos del reino vegetal/1107",
          "Productos del reino vegetal/1108",
          "Productos del reino vegetal/1109",
          "Productos del reino vegetal/1201",
          "Productos del reino vegetal/1202",
          "Productos del reino vegetal/1205",
          "Productos del reino vegetal/1206",
          "Productos del reino vegetal/1207",
          "Productos del reino vegetal/1208",
          "Productos del reino vegetal/1209",
          "Productos del reino vegetal/1210",
          "Productos del reino vegetal/1212",
          "Productos del reino vegetal/1214",
          "Productos del reino vegetal/1301",
          "Productos del reino vegetal/1401",
          "Productos del reino vegetal/1404",
          "Grasas y aceites animales o vegetales; productos de su desdoblamiento; grasas alimenticias elaboradas; ceras de origen animal o vegetal/1501",
          "Grasas y aceites animales o vegetales; productos de su desdoblamiento; grasas alimenticias elaboradas; ceras de origen animal o vegetal/1502",
          "Grasas y aceites animales o vegetales; productos de su desdoblamiento; grasas alimenticias elaboradas; ceras de origen animal o vegetal/1503",
          "Grasas y aceites animales o vegetales; productos de su desdoblamiento; grasas alimenticias elaboradas; ceras de origen animal o vegetal/1504",
          "Grasas y aceites animales o vegetales; productos de su desdoblamiento; grasas alimenticias elaboradas; ceras de origen animal o vegetal/1505",
          "Grasas y aceites animales o vegetales; productos de su desdoblamiento; grasas alimenticias elaboradas; ceras de origen animal o vegetal/1507",
          "Grasas y aceites animales o vegetales; productos de su desdoblamiento; grasas alimenticias elaboradas; ceras de origen animal o vegetal/1508",
          "Grasas y aceites animales o vegetales; productos de su desdoblamiento; grasas alimenticias elaboradas; ceras de origen animal o vegetal/1509",
          "Grasas y aceites animales o vegetales; productos de su desdoblamiento; grasas alimenticias elaboradas; ceras de origen animal o vegetal/1510",
          "Grasas y aceites animales o vegetales; productos de su desdoblamiento; grasas alimenticias elaboradas; ceras de origen animal o vegetal/1511",
          "Grasas y aceites animales o vegetales; productos de su desdoblamiento; grasas alimenticias elaboradas; ceras de origen animal o vegetal/1512",
          "Grasas y aceites animales o vegetales; productos de su desdoblamiento; grasas alimenticias elaboradas; ceras de origen animal o vegetal/1513",
          "Grasas y aceites animales o vegetales; productos de su desdoblamiento; grasas alimenticias elaboradas; ceras de origen animal o vegetal/1514",
          "Grasas y aceites animales o vegetales; productos de su desdoblamiento; grasas alimenticias elaboradas; ceras de origen animal o vegetal/1516",
          "Grasas y aceites animales o vegetales; productos de su desdoblamiento; grasas alimenticias elaboradas; ceras de origen animal o vegetal/1517",
          "Grasas y aceites animales o vegetales; productos de su desdoblamiento; grasas alimenticias elaboradas; ceras de origen animal o vegetal/1518",
          "Grasas y aceites animales o vegetales; productos de su desdoblamiento; grasas alimenticias elaboradas; ceras de origen animal o vegetal/1520",
          "Grasas y aceites animales o vegetales; productos de su desdoblamiento; grasas alimenticias elaboradas; ceras de origen animal o vegetal/1521",
          "Grasas y aceites animales o vegetales; productos de su desdoblamiento; grasas alimenticias elaboradas; ceras de origen animal o vegetal/1522",
          "Productos de las industrias alimentarias; bebidas, líquidos alcohólicos y vinagre; tabaco y sucedáneos del tabaco elaborados/1601",
          "Productos de las industrias alimentarias; bebidas, líquidos alcohólicos y vinagre; tabaco y sucedáneos del tabaco elaborados/1602",
          "Productos de las industrias alimentarias; bebidas, líquidos alcohólicos y vinagre; tabaco y sucedáneos del tabaco elaborados/1603",
          "Productos de las industrias alimentarias; bebidas, líquidos alcohólicos y vinagre; tabaco y sucedáneos del tabaco elaborados/1604",
          "Productos de las industrias alimentarias; bebidas, líquidos alcohólicos y vinagre; tabaco y sucedáneos del tabaco elaborados/1605",
          "Productos de las industrias alimentarias; bebidas, líquidos alcohólicos y vinagre; tabaco y sucedáneos del tabaco elaborados/1701",
          "Productos de las industrias alimentarias; bebidas, líquidos alcohólicos y vinagre; tabaco y sucedáneos del tabaco elaborados/1703",
          "Productos de las industrias alimentarias; bebidas, líquidos alcohólicos y vinagre; tabaco y sucedáneos del tabaco elaborados/1801",
          "Productos de las industrias alimentarias; bebidas, líquidos alcohólicos y vinagre; tabaco y sucedáneos del tabaco elaborados/1804",
          "Productos de las industrias alimentarias; bebidas, líquidos alcohólicos y vinagre; tabaco y sucedáneos del tabaco elaborados/1805",
          "Productos de las industrias alimentarias; bebidas, líquidos alcohólicos y vinagre; tabaco y sucedáneos del tabaco elaborados/1902",
          "Productos de las industrias alimentarias; bebidas, líquidos alcohólicos y vinagre; tabaco y sucedáneos del tabaco elaborados/1903",
          "Productos de las industrias alimentarias; bebidas, líquidos alcohólicos y vinagre; tabaco y sucedáneos del tabaco elaborados/2002",
          "Productos de las industrias alimentarias; bebidas, líquidos alcohólicos y vinagre; tabaco y sucedáneos del tabaco elaborados/2003",
          "Productos de las industrias alimentarias; bebidas, líquidos alcohólicos y vinagre; tabaco y sucedáneos del tabaco elaborados/2004",
          "Productos de las industrias alimentarias; bebidas, líquidos alcohólicos y vinagre; tabaco y sucedáneos del tabaco elaborados/2006",
          "Productos de las industrias alimentarias; bebidas, líquidos alcohólicos y vinagre; tabaco y sucedáneos del tabaco elaborados/2007",
          "Productos de las industrias alimentarias; bebidas, líquidos alcohólicos y vinagre; tabaco y sucedáneos del tabaco elaborados/2102",
          "Productos de las industrias alimentarias; bebidas, líquidos alcohólicos y vinagre; tabaco y sucedáneos del tabaco elaborados/2104",
          "Productos de las industrias alimentarias; bebidas, líquidos alcohólicos y vinagre; tabaco y sucedáneos del tabaco elaborados/2105",
          "Productos de las industrias alimentarias; bebidas, líquidos alcohólicos y vinagre; tabaco y sucedáneos del tabaco elaborados/2201",
          "Productos de las industrias alimentarias; bebidas, líquidos alcohólicos y vinagre; tabaco y sucedáneos del tabaco elaborados/2203",
          "Productos de las industrias alimentarias; bebidas, líquidos alcohólicos y vinagre; tabaco y sucedáneos del tabaco elaborados/2204",
          "Productos de las industrias alimentarias; bebidas, líquidos alcohólicos y vinagre; tabaco y sucedáneos del tabaco elaborados/2205",
          "Productos de las industrias alimentarias; bebidas, líquidos alcohólicos y vinagre; tabaco y sucedáneos del tabaco elaborados/2206",
          "Productos de las industrias alimentarias; bebidas, líquidos alcohólicos y vinagre; tabaco y sucedáneos del tabaco elaborados/2207",
          "Productos de las industrias alimentarias; bebidas, líquidos alcohólicos y vinagre; tabaco y sucedáneos del tabaco elaborados/2209",
          "Productos de las industrias alimentarias; bebidas, líquidos alcohólicos y vinagre; tabaco y sucedáneos del tabaco elaborados/2301",
          "Productos de las industrias alimentarias; bebidas, líquidos alcohólicos y vinagre; tabaco y sucedáneos del tabaco elaborados/2302",
          "Productos de las industrias alimentarias; bebidas, líquidos alcohólicos y vinagre; tabaco y sucedáneos del tabaco elaborados/2303",
          "Productos de las industrias alimentarias; bebidas, líquidos alcohólicos y vinagre; tabaco y sucedáneos del tabaco elaborados/2304",
          "Productos de las industrias alimentarias; bebidas, líquidos alcohólicos y vinagre; tabaco y sucedáneos del tabaco elaborados/2306",
          "Productos de las industrias alimentarias; bebidas, líquidos alcohólicos y vinagre; tabaco y sucedáneos del tabaco elaborados/2308",
          "Productos de las industrias alimentarias; bebidas, líquidos alcohólicos y vinagre; tabaco y sucedáneos del tabaco elaborados/2309",
          "Productos de las industrias alimentarias; bebidas, líquidos alcohólicos y vinagre; tabaco y sucedáneos del tabaco elaborados/2401",
          "Productos de las industrias alimentarias; bebidas, líquidos alcohólicos y vinagre; tabaco y sucedáneos del tabaco elaborados/2402",
          "Productos de las industrias alimentarias; bebidas, líquidos alcohólicos y vinagre; tabaco y sucedáneos del tabaco elaborados/2403",
          "Productos minerales/2501",
          "Productos minerales/2502",
          "Productos minerales/2503",
          "Productos minerales/2504",
          "Productos minerales/2505",
          "Productos minerales/2506",
          "Productos minerales/2507",
          "Productos minerales/2508",
          "Productos minerales/2509",
          "Productos minerales/2510",
          "Productos minerales/2511",
          "Productos minerales/2512",
          "Productos minerales/2513",
          "Productos minerales/2514",
          "Productos minerales/2515",
          "Productos minerales/2516",
          "Productos minerales/2517",
          "Productos minerales/2518",
          "Productos minerales/2519",
          "Productos minerales/2520",
          "Productos minerales/2522",
          "Productos minerales/2523",
          "Productos minerales/2525",
          "Productos minerales/2526",
          "Productos minerales/2528",
          "Productos minerales/2529",
          "Productos minerales/2530",
          "Productos minerales/2601",
          "Productos minerales/2602",
          "Productos minerales/2603",
          "Productos minerales/2606",
          "Productos minerales/2607",
          "Productos minerales/2608",
          "Productos minerales/2610",
          "Productos minerales/2613",
          "Productos minerales/2614",
          "Productos minerales/2615",
          "Productos minerales/2616",
          "Productos minerales/2617",
          "Productos minerales/2618",
          "Productos minerales/2619",
          "Productos minerales/2620",
          "Productos minerales/2621",
          "Productos minerales/2701",
          "Productos minerales/2702",
          "Productos minerales/2703",
          "Productos minerales/2704",
          "Productos minerales/2707",
          "Productos minerales/2708",
          "Productos minerales/2711",
          "Productos minerales/2712",
          "Productos minerales/2713",
          "Productos minerales/2714",
          "Productos minerales/2715",
          "Productos minerales/2716",
          "Productos de las industrias químicas o de las industrias conexas/2801",
          "Productos de las industrias químicas o de las industrias conexas/2802",
          "Productos de las industrias químicas o de las industrias conexas/2803",
          "Productos de las industrias químicas o de las industrias conexas/2804",
          "Productos de las industrias químicas o de las industrias conexas/2805",
          "Productos de las industrias químicas o de las industrias conexas/2806",
          "Productos de las industrias químicas o de las industrias conexas/2807",
          "Productos de las industrias químicas o de las industrias conexas/2808",
          "Productos de las industrias químicas o de las industrias conexas/2809",
          "Productos de las industrias químicas o de las industrias conexas/2810",
          "Productos de las industrias químicas o de las industrias conexas/2812",
          "Productos de las industrias químicas o de las industrias conexas/2813",
          "Productos de las industrias químicas o de las industrias conexas/2814",
          "Productos de las industrias químicas o de las industrias conexas/2815",
          "Productos de las industrias químicas o de las industrias conexas/2816",
          "Productos de las industrias químicas o de las industrias conexas/2817",
          "Productos de las industrias químicas o de las industrias conexas/2818",
          "Productos de las industrias químicas o de las industrias conexas/2819",
          "Productos de las industrias químicas o de las industrias conexas/2820",
          "Productos de las industrias químicas o de las industrias conexas/2821",
          "Productos de las industrias químicas o de las industrias conexas/2822",
          "Productos de las industrias químicas o de las industrias conexas/2823",
          "Productos de las industrias químicas o de las industrias conexas/2824",
          "Productos de las industrias químicas o de las industrias conexas/2825",
          "Productos de las industrias químicas o de las industrias conexas/2826",
          "Productos de las industrias químicas o de las industrias conexas/2827",
          "Productos de las industrias químicas o de las industrias conexas/2828",
          "Productos de las industrias químicas o de las industrias conexas/2829",
          "Productos de las industrias químicas o de las industrias conexas/2830",
          "Productos de las industrias químicas o de las industrias conexas/2831",
          "Productos de las industrias químicas o de las industrias conexas/2832",
          "Productos de las industrias químicas o de las industrias conexas/2834",
          "Productos de las industrias químicas o de las industrias conexas/2835",
          "Productos de las industrias químicas o de las industrias conexas/2837",
          "Productos de las industrias químicas o de las industrias conexas/2839",
          "Productos de las industrias químicas o de las industrias conexas/2840",
          "Productos de las industrias químicas o de las industrias conexas/2841",
          "Productos de las industrias químicas o de las industrias conexas/2842",
          "Productos de las industrias químicas o de las industrias conexas/2843",
          "Productos de las industrias químicas o de las industrias conexas/2844",
          "Productos de las industrias químicas o de las industrias conexas/2845",
          "Productos de las industrias químicas o de las industrias conexas/2846",
          "Productos de las industrias químicas o de las industrias conexas/2847",
          "Productos de las industrias químicas o de las industrias conexas/2849",
          "Productos de las industrias químicas o de las industrias conexas/2850",
          "Productos de las industrias químicas o de las industrias conexas/2852",
          "Productos de las industrias químicas o de las industrias conexas/2853",
          "Productos de las industrias químicas o de las industrias conexas/2901",
          "Productos de las industrias químicas o de las industrias conexas/2902",
          "Productos de las industrias químicas o de las industrias conexas/2903",
          "Productos de las industrias químicas o de las industrias conexas/2904",
          "Productos de las industrias químicas o de las industrias conexas/2906",
          "Productos de las industrias químicas o de las industrias conexas/2907",
          "Productos de las industrias químicas o de las industrias conexas/2908",
          "Productos de las industrias químicas o de las industrias conexas/2909",
          "Productos de las industrias químicas o de las industrias conexas/2910",
          "Productos de las industrias químicas o de las industrias conexas/2911",
          "Productos de las industrias químicas o de las industrias conexas/2912",
          "Productos de las industrias químicas o de las industrias conexas/2913",
          "Productos de las industrias químicas o de las industrias conexas/2914",
          "Productos de las industrias químicas o de las industrias conexas/2916",
          "Productos de las industrias químicas o de las industrias conexas/2917",
          "Productos de las industrias químicas o de las industrias conexas/2919",
          "Productos de las industrias químicas o de las industrias conexas/2920",
          "Productos de las industrias químicas o de las industrias conexas/2921",
          "Productos de las industrias químicas o de las industrias conexas/2923",
          "Productos de las industrias químicas o de las industrias conexas/2924",
          "Productos de las industrias químicas o de las industrias conexas/2925",
          "Productos de las industrias químicas o de las industrias conexas/2926",
          "Productos de las industrias químicas o de las industrias conexas/2927",
          "Productos de las industrias químicas o de las industrias conexas/2928",
          "Productos de las industrias químicas o de las industrias conexas/2929",
          "Productos de las industrias químicas o de las industrias conexas/2930",
          "Productos de las industrias químicas o de las industrias conexas/2931",
          "Productos de las industrias químicas o de las industrias conexas/2932",
          "Productos de las industrias químicas o de las industrias conexas/2935",
          "Productos de las industrias químicas o de las industrias conexas/2936",
          "Productos de las industrias químicas o de las industrias conexas/2937",
          "Productos de las industrias químicas o de las industrias conexas/2938",
          "Productos de las industrias químicas o de las industrias conexas/2939",
          "Productos de las industrias químicas o de las industrias conexas/2940",
          "Productos de las industrias químicas o de las industrias conexas/2941",
          "Productos de las industrias químicas o de las industrias conexas/2942",
          "Productos de las industrias químicas o de las industrias conexas/3001",
          "Productos de las industrias químicas o de las industrias conexas/3003",
          "Productos de las industrias químicas o de las industrias conexas/3006",
          "Productos de las industrias químicas o de las industrias conexas/3101",
          "Productos de las industrias químicas o de las industrias conexas/3102",
          "Productos de las industrias químicas o de las industrias conexas/3103",
          "Productos de las industrias químicas o de las industrias conexas/3104",
          "Productos de las industrias químicas o de las industrias conexas/3105",
          "Productos de las industrias químicas o de las industrias conexas/3201",
          "Productos de las industrias químicas o de las industrias conexas/3202",
          "Productos de las industrias químicas o de las industrias conexas/3203",
          "Productos de las industrias químicas o de las industrias conexas/3205",
          "Productos de las industrias químicas o de las industrias conexas/3207",
          "Productos de las industrias químicas o de las industrias conexas/3210",
          "Productos de las industrias químicas o de las industrias conexas/3211",
          "Productos de las industrias químicas o de las industrias conexas/3212",
          "Productos de las industrias químicas o de las industrias conexas/3213",
          "Productos de las industrias químicas o de las industrias conexas/3306",
          "Productos de las industrias químicas o de las industrias conexas/3404",
          "Productos de las industrias químicas o de las industrias conexas/3406",
          "Productos de las industrias químicas o de las industrias conexas/3407",
          "Productos de las industrias químicas o de las industrias conexas/3501",
          "Productos de las industrias químicas o de las industrias conexas/3502",
          "Productos de las industrias químicas o de las industrias conexas/3503",
          "Productos de las industrias químicas o de las industrias conexas/3504",
          "Productos de las industrias químicas o de las industrias conexas/3505",
          "Productos de las industrias químicas o de las industrias conexas/3507",
          "Productos de las industrias químicas o de las industrias conexas/3601",
          "Productos de las industrias químicas o de las industrias conexas/3602",
          "Productos de las industrias químicas o de las industrias conexas/3603",
          "Productos de las industrias químicas o de las industrias conexas/3604",
          "Productos de las industrias químicas o de las industrias conexas/3605",
          "Productos de las industrias químicas o de las industrias conexas/3606",
          "Productos de las industrias químicas o de las industrias conexas/3701",
          "Productos de las industrias químicas o de las industrias conexas/3702",
          "Productos de las industrias químicas o de las industrias conexas/3703",
          "Productos de las industrias químicas o de las industrias conexas/3704",
          "Productos de las industrias químicas o de las industrias conexas/3705",
          "Productos de las industrias químicas o de las industrias conexas/3706",
          "Productos de las industrias químicas o de las industrias conexas/3707",
          "Productos de las industrias químicas o de las industrias conexas/3801",
          "Productos de las industrias químicas o de las industrias conexas/3802",
          "Productos de las industrias químicas o de las industrias conexas/3803",
          "Productos de las industrias químicas o de las industrias conexas/3804",
          "Productos de las industrias químicas o de las industrias conexas/3805",
          "Productos de las industrias químicas o de las industrias conexas/3806",
          "Productos de las industrias químicas o de las industrias conexas/3811",
          "Productos de las industrias químicas o de las industrias conexas/3812",
          "Productos de las industrias químicas o de las industrias conexas/3813",
          "Productos de las industrias químicas o de las industrias conexas/3815",
          "Productos de las industrias químicas o de las industrias conexas/3816",
          "Productos de las industrias químicas o de las industrias conexas/3817",
          "Productos de las industrias químicas o de las industrias conexas/3818",
          "Productos de las industrias químicas o de las industrias conexas/3819",
          "Productos de las industrias químicas o de las industrias conexas/3820",
          "Productos de las industrias químicas o de las industrias conexas/3821",
          "Productos de las industrias químicas o de las industrias conexas/3823",
          "Productos de las industrias químicas o de las industrias conexas/3825",
          "Plástico y sus manufacturas; caucho y sus manufacturas/3904",
          "Plástico y sus manufacturas; caucho y sus manufacturas/3905",
          "Plástico y sus manufacturas; caucho y sus manufacturas/3911",
          "Plástico y sus manufacturas; caucho y sus manufacturas/3912",
          "Plástico y sus manufacturas; caucho y sus manufacturas/3913",
          "Plástico y sus manufacturas; caucho y sus manufacturas/3914",
          "Plástico y sus manufacturas; caucho y sus manufacturas/3915",
          "Plástico y sus manufacturas; caucho y sus manufacturas/4001",
          "Plástico y sus manufacturas; caucho y sus manufacturas/4003",
          "Plástico y sus manufacturas; caucho y sus manufacturas/4004",
          "Plástico y sus manufacturas; caucho y sus manufacturas/4005",
          "Plástico y sus manufacturas; caucho y sus manufacturas/4006",
          "Plástico y sus manufacturas; caucho y sus manufacturas/4007",
          "Plástico y sus manufacturas; caucho y sus manufacturas/4013",
          "Plástico y sus manufacturas; caucho y sus manufacturas/4014",
          "Plástico y sus manufacturas; caucho y sus manufacturas/4017",
          "Pieles, cueros, peletería y manufacturas de estas materias; artículos de talabartería o guarnicionería; artículos de viaje, bolsos de mano (carteras) y continentes similares; manufacturas de tripa/4101",
          "Pieles, cueros, peletería y manufacturas de estas materias; artículos de talabartería o guarnicionería; artículos de viaje, bolsos de mano (carteras) y continentes similares; manufacturas de tripa/4102",
          "Pieles, cueros, peletería y manufacturas de estas materias; artículos de talabartería o guarnicionería; artículos de viaje, bolsos de mano (carteras) y continentes similares; manufacturas de tripa/4103",
          "Pieles, cueros, peletería y manufacturas de estas materias; artículos de talabartería o guarnicionería; artículos de viaje, bolsos de mano (carteras) y continentes similares; manufacturas de tripa/4104",
          "Pieles, cueros, peletería y manufacturas de estas materias; artículos de talabartería o guarnicionería; artículos de viaje, bolsos de mano (carteras) y continentes similares; manufacturas de tripa/4106",
          "Pieles, cueros, peletería y manufacturas de estas materias; artículos de talabartería o guarnicionería; artículos de viaje, bolsos de mano (carteras) y continentes similares; manufacturas de tripa/4107",
          "Pieles, cueros, peletería y manufacturas de estas materias; artículos de talabartería o guarnicionería; artículos de viaje, bolsos de mano (carteras) y continentes similares; manufacturas de tripa/4112",
          "Pieles, cueros, peletería y manufacturas de estas materias; artículos de talabartería o guarnicionería; artículos de viaje, bolsos de mano (carteras) y continentes similares; manufacturas de tripa/4113",
          "Pieles, cueros, peletería y manufacturas de estas materias; artículos de talabartería o guarnicionería; artículos de viaje, bolsos de mano (carteras) y continentes similares; manufacturas de tripa/4114",
          "Pieles, cueros, peletería y manufacturas de estas materias; artículos de talabartería o guarnicionería; artículos de viaje, bolsos de mano (carteras) y continentes similares; manufacturas de tripa/4115",
          "Pieles, cueros, peletería y manufacturas de estas materias; artículos de talabartería o guarnicionería; artículos de viaje, bolsos de mano (carteras) y continentes similares; manufacturas de tripa/4201",
          "Pieles, cueros, peletería y manufacturas de estas materias; artículos de talabartería o guarnicionería; artículos de viaje, bolsos de mano (carteras) y continentes similares; manufacturas de tripa/4206",
          "Pieles, cueros, peletería y manufacturas de estas materias; artículos de talabartería o guarnicionería; artículos de viaje, bolsos de mano (carteras) y continentes similares; manufacturas de tripa/4302",
          "Pieles, cueros, peletería y manufacturas de estas materias; artículos de talabartería o guarnicionería; artículos de viaje, bolsos de mano (carteras) y continentes similares; manufacturas de tripa/4303",
          "Pieles, cueros, peletería y manufacturas de estas materias; artículos de talabartería o guarnicionería; artículos de viaje, bolsos de mano (carteras) y continentes similares; manufacturas de tripa/4304",
          "Madera, carbón vegetal y manufacturas de madera; corcho y sus manufacturas; manufacturas de espartería o cestería/4401",
          "Madera, carbón vegetal y manufacturas de madera; corcho y sus manufacturas; manufacturas de espartería o cestería/4402",
          "Madera, carbón vegetal y manufacturas de madera; corcho y sus manufacturas; manufacturas de espartería o cestería/4403",
          "Madera, carbón vegetal y manufacturas de madera; corcho y sus manufacturas; manufacturas de espartería o cestería/4404",
          "Madera, carbón vegetal y manufacturas de madera; corcho y sus manufacturas; manufacturas de espartería o cestería/4405",
          "Madera, carbón vegetal y manufacturas de madera; corcho y sus manufacturas; manufacturas de espartería o cestería/4407",
          "Madera, carbón vegetal y manufacturas de madera; corcho y sus manufacturas; manufacturas de espartería o cestería/4408",
          "Madera, carbón vegetal y manufacturas de madera; corcho y sus manufacturas; manufacturas de espartería o cestería/4409",
          "Madera, carbón vegetal y manufacturas de madera; corcho y sus manufacturas; manufacturas de espartería o cestería/4410",
          "Madera, carbón vegetal y manufacturas de madera; corcho y sus manufacturas; manufacturas de espartería o cestería/4411",
          "Madera, carbón vegetal y manufacturas de madera; corcho y sus manufacturas; manufacturas de espartería o cestería/4412",
          "Madera, carbón vegetal y manufacturas de madera; corcho y sus manufacturas; manufacturas de espartería o cestería/4413",
          "Madera, carbón vegetal y manufacturas de madera; corcho y sus manufacturas; manufacturas de espartería o cestería/4414",
          "Madera, carbón vegetal y manufacturas de madera; corcho y sus manufacturas; manufacturas de espartería o cestería/4416",
          "Madera, carbón vegetal y manufacturas de madera; corcho y sus manufacturas; manufacturas de espartería o cestería/4417",
          "Madera, carbón vegetal y manufacturas de madera; corcho y sus manufacturas; manufacturas de espartería o cestería/4418",
          "Madera, carbón vegetal y manufacturas de madera; corcho y sus manufacturas; manufacturas de espartería o cestería/4419",
          "Madera, carbón vegetal y manufacturas de madera; corcho y sus manufacturas; manufacturas de espartería o cestería/4501",
          "Madera, carbón vegetal y manufacturas de madera; corcho y sus manufacturas; manufacturas de espartería o cestería/4502",
          "Madera, carbón vegetal y manufacturas de madera; corcho y sus manufacturas; manufacturas de espartería o cestería/4503",
          "Madera, carbón vegetal y manufacturas de madera; corcho y sus manufacturas; manufacturas de espartería o cestería/4504",
          "Madera, carbón vegetal y manufacturas de madera; corcho y sus manufacturas; manufacturas de espartería o cestería/4601",
          "Madera, carbón vegetal y manufacturas de madera; corcho y sus manufacturas; manufacturas de espartería o cestería/4602",
          "Pasta de madera o de las demás materias fibrosas celulósicas; papel o cartón para reciclar (desperdicios y desechos); papel o cartón y sus aplicaciones/4702",
          "Pasta de madera o de las demás materias fibrosas celulósicas; papel o cartón para reciclar (desperdicios y desechos); papel o cartón y sus aplicaciones/4703",
          "Pasta de madera o de las demás materias fibrosas celulósicas; papel o cartón para reciclar (desperdicios y desechos); papel o cartón y sus aplicaciones/4705",
          "Pasta de madera o de las demás materias fibrosas celulósicas; papel o cartón para reciclar (desperdicios y desechos); papel o cartón y sus aplicaciones/4706",
          "Pasta de madera o de las demás materias fibrosas celulósicas; papel o cartón para reciclar (desperdicios y desechos); papel o cartón y sus aplicaciones/4707",
          "Pasta de madera o de las demás materias fibrosas celulósicas; papel o cartón para reciclar (desperdicios y desechos); papel o cartón y sus aplicaciones/4801",
          "Pasta de madera o de las demás materias fibrosas celulósicas; papel o cartón para reciclar (desperdicios y desechos); papel o cartón y sus aplicaciones/4803",
          "Pasta de madera o de las demás materias fibrosas celulósicas; papel o cartón para reciclar (desperdicios y desechos); papel o cartón y sus aplicaciones/4804",
          "Pasta de madera o de las demás materias fibrosas celulósicas; papel o cartón para reciclar (desperdicios y desechos); papel o cartón y sus aplicaciones/4805",
          "Pasta de madera o de las demás materias fibrosas celulósicas; papel o cartón para reciclar (desperdicios y desechos); papel o cartón y sus aplicaciones/4806",
          "Pasta de madera o de las demás materias fibrosas celulósicas; papel o cartón para reciclar (desperdicios y desechos); papel o cartón y sus aplicaciones/4807",
          "Pasta de madera o de las demás materias fibrosas celulósicas; papel o cartón para reciclar (desperdicios y desechos); papel o cartón y sus aplicaciones/4808",
          "Pasta de madera o de las demás materias fibrosas celulósicas; papel o cartón para reciclar (desperdicios y desechos); papel o cartón y sus aplicaciones/4809",
          "Pasta de madera o de las demás materias fibrosas celulósicas; papel o cartón para reciclar (desperdicios y desechos); papel o cartón y sus aplicaciones/4810",
          "Pasta de madera o de las demás materias fibrosas celulósicas; papel o cartón para reciclar (desperdicios y desechos); papel o cartón y sus aplicaciones/4812",
          "Pasta de madera o de las demás materias fibrosas celulósicas; papel o cartón para reciclar (desperdicios y desechos); papel o cartón y sus aplicaciones/4813",
          "Pasta de madera o de las demás materias fibrosas celulósicas; papel o cartón para reciclar (desperdicios y desechos); papel o cartón y sus aplicaciones/4814",
          "Pasta de madera o de las demás materias fibrosas celulósicas; papel o cartón para reciclar (desperdicios y desechos); papel o cartón y sus aplicaciones/4816",
          "Pasta de madera o de las demás materias fibrosas celulósicas; papel o cartón para reciclar (desperdicios y desechos); papel o cartón y sus aplicaciones/4817",
          "Pasta de madera o de las demás materias fibrosas celulósicas; papel o cartón para reciclar (desperdicios y desechos); papel o cartón y sus aplicaciones/4822",
          "Pasta de madera o de las demás materias fibrosas celulósicas; papel o cartón para reciclar (desperdicios y desechos); papel o cartón y sus aplicaciones/4902",
          "Pasta de madera o de las demás materias fibrosas celulósicas; papel o cartón para reciclar (desperdicios y desechos); papel o cartón y sus aplicaciones/4903",
          "Pasta de madera o de las demás materias fibrosas celulósicas; papel o cartón para reciclar (desperdicios y desechos); papel o cartón y sus aplicaciones/4904",
          "Pasta de madera o de las demás materias fibrosas celulósicas; papel o cartón para reciclar (desperdicios y desechos); papel o cartón y sus aplicaciones/4905",
          "Pasta de madera o de las demás materias fibrosas celulósicas; papel o cartón para reciclar (desperdicios y desechos); papel o cartón y sus aplicaciones/4906",
          "Pasta de madera o de las demás materias fibrosas celulósicas; papel o cartón para reciclar (desperdicios y desechos); papel o cartón y sus aplicaciones/4909",
          "Materias textiles y sus manufacturas/5006",
          "Materias textiles y sus manufacturas/5007",
          "Materias textiles y sus manufacturas/5105",
          "Materias textiles y sus manufacturas/5106",
          "Materias textiles y sus manufacturas/5107",
          "Materias textiles y sus manufacturas/5109",
          "Materias textiles y sus manufacturas/5111",
          "Materias textiles y sus manufacturas/5112",
          "Materias textiles y sus manufacturas/5201",
          "Materias textiles y sus manufacturas/5202",
          "Materias textiles y sus manufacturas/5203",
          "Materias textiles y sus manufacturas/5204",
          "Materias textiles y sus manufacturas/5205",
          "Materias textiles y sus manufacturas/5206",
          "Materias textiles y sus manufacturas/5207",
          "Materias textiles y sus manufacturas/5208",
          "Materias textiles y sus manufacturas/5209",
          "Materias textiles y sus manufacturas/5210",
          "Materias textiles y sus manufacturas/5211",
          "Materias textiles y sus manufacturas/5212",
          "Materias textiles y sus manufacturas/5305",
          "Materias textiles y sus manufacturas/5306",
          "Materias textiles y sus manufacturas/5307",
          "Materias textiles y sus manufacturas/5308",
          "Materias textiles y sus manufacturas/5309",
          "Materias textiles y sus manufacturas/5310",
          "Materias textiles y sus manufacturas/5311",
          "Materias textiles y sus manufacturas/5401",
          "Materias textiles y sus manufacturas/5403",
          "Materias textiles y sus manufacturas/5404",
          "Materias textiles y sus manufacturas/5406",
          "Materias textiles y sus manufacturas/5408",
          "Materias textiles y sus manufacturas/5501",
          "Materias textiles y sus manufacturas/5503",
          "Materias textiles y sus manufacturas/5504",
          "Materias textiles y sus manufacturas/5505",
          "Materias textiles y sus manufacturas/5506",
          "Materias textiles y sus manufacturas/5507",
          "Materias textiles y sus manufacturas/5508",
          "Materias textiles y sus manufacturas/5509",
          "Materias textiles y sus manufacturas/5510",
          "Materias textiles y sus manufacturas/5511",
          "Materias textiles y sus manufacturas/5512",
          "Materias textiles y sus manufacturas/5513",
          "Materias textiles y sus manufacturas/5514",
          "Materias textiles y sus manufacturas/5515",
          "Materias textiles y sus manufacturas/5516",
          "Materias textiles y sus manufacturas/5601",
          "Materias textiles y sus manufacturas/5602",
          "Materias textiles y sus manufacturas/5604",
          "Materias textiles y sus manufacturas/5605",
          "Materias textiles y sus manufacturas/5606",
          "Materias textiles y sus manufacturas/5608",
          "Materias textiles y sus manufacturas/5701",
          "Materias textiles y sus manufacturas/5702",
          "Materias textiles y sus manufacturas/5703",
          "Materias textiles y sus manufacturas/5704",
          "Materias textiles y sus manufacturas/5705",
          "Materias textiles y sus manufacturas/5801",
          "Materias textiles y sus manufacturas/5802",
          "Materias textiles y sus manufacturas/5803",
          "Materias textiles y sus manufacturas/5804",
          "Materias textiles y sus manufacturas/5805",
          "Materias textiles y sus manufacturas/5807",
          "Materias textiles y sus manufacturas/5808",
          "Materias textiles y sus manufacturas/5809",
          "Materias textiles y sus manufacturas/5810",
          "Materias textiles y sus manufacturas/5811",
          "Materias textiles y sus manufacturas/5901",
          "Materias textiles y sus manufacturas/5902",
          "Materias textiles y sus manufacturas/5904",
          "Materias textiles y sus manufacturas/5905",
          "Materias textiles y sus manufacturas/5906",
          "Materias textiles y sus manufacturas/5907",
          "Materias textiles y sus manufacturas/5908",
          "Materias textiles y sus manufacturas/5909",
          "Materias textiles y sus manufacturas/5910",
          "Materias textiles y sus manufacturas/6001",
          "Materias textiles y sus manufacturas/6002",
          "Materias textiles y sus manufacturas/6003",
          "Materias textiles y sus manufacturas/6004",
          "Materias textiles y sus manufacturas/6005",
          "Materias textiles y sus manufacturas/6006",
          "Materias textiles y sus manufacturas/6101",
          "Materias textiles y sus manufacturas/6107",
          "Materias textiles y sus manufacturas/6113",
          "Materias textiles y sus manufacturas/6207",
          "Materias textiles y sus manufacturas/6208",
          "Materias textiles y sus manufacturas/6209",
          "Materias textiles y sus manufacturas/6210",
          "Materias textiles y sus manufacturas/6213",
          "Materias textiles y sus manufacturas/6214",
          "Materias textiles y sus manufacturas/6215",
          "Materias textiles y sus manufacturas/6216",
          "Materias textiles y sus manufacturas/6301",
          "Materias textiles y sus manufacturas/6303",
          "Materias textiles y sus manufacturas/6304",
          "Materias textiles y sus manufacturas/6306",
          "Materias textiles y sus manufacturas/6310",
          "Calzado, sombreros y demás tocados, paraguas, quitasoles, bastones, látigos, fustas y sus partes; plumas preparadas y artículos de plumas; flores artificiales; manufacturas de cabello/6401",
          "Calzado, sombreros y demás tocados, paraguas, quitasoles, bastones, látigos, fustas y sus partes; plumas preparadas y artículos de plumas; flores artificiales; manufacturas de cabello/6402",
          "Calzado, sombreros y demás tocados, paraguas, quitasoles, bastones, látigos, fustas y sus partes; plumas preparadas y artículos de plumas; flores artificiales; manufacturas de cabello/6405",
          "Calzado, sombreros y demás tocados, paraguas, quitasoles, bastones, látigos, fustas y sus partes; plumas preparadas y artículos de plumas; flores artificiales; manufacturas de cabello/6406",
          "Calzado, sombreros y demás tocados, paraguas, quitasoles, bastones, látigos, fustas y sus partes; plumas preparadas y artículos de plumas; flores artificiales; manufacturas de cabello/6501",
          "Calzado, sombreros y demás tocados, paraguas, quitasoles, bastones, látigos, fustas y sus partes; plumas preparadas y artículos de plumas; flores artificiales; manufacturas de cabello/6502",
          "Calzado, sombreros y demás tocados, paraguas, quitasoles, bastones, látigos, fustas y sus partes; plumas preparadas y artículos de plumas; flores artificiales; manufacturas de cabello/6504",
          "Calzado, sombreros y demás tocados, paraguas, quitasoles, bastones, látigos, fustas y sus partes; plumas preparadas y artículos de plumas; flores artificiales; manufacturas de cabello/6507",
          "Calzado, sombreros y demás tocados, paraguas, quitasoles, bastones, látigos, fustas y sus partes; plumas preparadas y artículos de plumas; flores artificiales; manufacturas de cabello/6601",
          "Calzado, sombreros y demás tocados, paraguas, quitasoles, bastones, látigos, fustas y sus partes; plumas preparadas y artículos de plumas; flores artificiales; manufacturas de cabello/6602",
          "Calzado, sombreros y demás tocados, paraguas, quitasoles, bastones, látigos, fustas y sus partes; plumas preparadas y artículos de plumas; flores artificiales; manufacturas de cabello/6603",
          "Calzado, sombreros y demás tocados, paraguas, quitasoles, bastones, látigos, fustas y sus partes; plumas preparadas y artículos de plumas; flores artificiales; manufacturas de cabello/6701",
          "Calzado, sombreros y demás tocados, paraguas, quitasoles, bastones, látigos, fustas y sus partes; plumas preparadas y artículos de plumas; flores artificiales; manufacturas de cabello/6702",
          "Calzado, sombreros y demás tocados, paraguas, quitasoles, bastones, látigos, fustas y sus partes; plumas preparadas y artículos de plumas; flores artificiales; manufacturas de cabello/6703",
          "Calzado, sombreros y demás tocados, paraguas, quitasoles, bastones, látigos, fustas y sus partes; plumas preparadas y artículos de plumas; flores artificiales; manufacturas de cabello/6704",
          "Manufacturas de piedra, yeso fraguable, cemento, amianto (asbesto), mica o materias análogas; productos cerámicos; vidrio y manufacturas de vidrio/6801",
          "Manufacturas de piedra, yeso fraguable, cemento, amianto (asbesto), mica o materias análogas; productos cerámicos; vidrio y manufacturas de vidrio/6803",
          "Manufacturas de piedra, yeso fraguable, cemento, amianto (asbesto), mica o materias análogas; productos cerámicos; vidrio y manufacturas de vidrio/6806",
          "Manufacturas de piedra, yeso fraguable, cemento, amianto (asbesto), mica o materias análogas; productos cerámicos; vidrio y manufacturas de vidrio/6807",
          "Manufacturas de piedra, yeso fraguable, cemento, amianto (asbesto), mica o materias análogas; productos cerámicos; vidrio y manufacturas de vidrio/6808",
          "Manufacturas de piedra, yeso fraguable, cemento, amianto (asbesto), mica o materias análogas; productos cerámicos; vidrio y manufacturas de vidrio/6809",
          "Manufacturas de piedra, yeso fraguable, cemento, amianto (asbesto), mica o materias análogas; productos cerámicos; vidrio y manufacturas de vidrio/6810",
          "Manufacturas de piedra, yeso fraguable, cemento, amianto (asbesto), mica o materias análogas; productos cerámicos; vidrio y manufacturas de vidrio/6811",
          "Manufacturas de piedra, yeso fraguable, cemento, amianto (asbesto), mica o materias análogas; productos cerámicos; vidrio y manufacturas de vidrio/6812",
          "Manufacturas de piedra, yeso fraguable, cemento, amianto (asbesto), mica o materias análogas; productos cerámicos; vidrio y manufacturas de vidrio/6814",
          "Manufacturas de piedra, yeso fraguable, cemento, amianto (asbesto), mica o materias análogas; productos cerámicos; vidrio y manufacturas de vidrio/6901",
          "Manufacturas de piedra, yeso fraguable, cemento, amianto (asbesto), mica o materias análogas; productos cerámicos; vidrio y manufacturas de vidrio/6902",
          "Manufacturas de piedra, yeso fraguable, cemento, amianto (asbesto), mica o materias análogas; productos cerámicos; vidrio y manufacturas de vidrio/6903",
          "Manufacturas de piedra, yeso fraguable, cemento, amianto (asbesto), mica o materias análogas; productos cerámicos; vidrio y manufacturas de vidrio/6904",
          "Manufacturas de piedra, yeso fraguable, cemento, amianto (asbesto), mica o materias análogas; productos cerámicos; vidrio y manufacturas de vidrio/6905",
          "Manufacturas de piedra, yeso fraguable, cemento, amianto (asbesto), mica o materias análogas; productos cerámicos; vidrio y manufacturas de vidrio/6906",
          "Manufacturas de piedra, yeso fraguable, cemento, amianto (asbesto), mica o materias análogas; productos cerámicos; vidrio y manufacturas de vidrio/6907",
          "Manufacturas de piedra, yeso fraguable, cemento, amianto (asbesto), mica o materias análogas; productos cerámicos; vidrio y manufacturas de vidrio/6909",
          "Manufacturas de piedra, yeso fraguable, cemento, amianto (asbesto), mica o materias análogas; productos cerámicos; vidrio y manufacturas de vidrio/6910",
          "Manufacturas de piedra, yeso fraguable, cemento, amianto (asbesto), mica o materias análogas; productos cerámicos; vidrio y manufacturas de vidrio/6911",
          "Manufacturas de piedra, yeso fraguable, cemento, amianto (asbesto), mica o materias análogas; productos cerámicos; vidrio y manufacturas de vidrio/6914",
          "Manufacturas de piedra, yeso fraguable, cemento, amianto (asbesto), mica o materias análogas; productos cerámicos; vidrio y manufacturas de vidrio/7001",
          "Manufacturas de piedra, yeso fraguable, cemento, amianto (asbesto), mica o materias análogas; productos cerámicos; vidrio y manufacturas de vidrio/7002",
          "Manufacturas de piedra, yeso fraguable, cemento, amianto (asbesto), mica o materias análogas; productos cerámicos; vidrio y manufacturas de vidrio/7003",
          "Manufacturas de piedra, yeso fraguable, cemento, amianto (asbesto), mica o materias análogas; productos cerámicos; vidrio y manufacturas de vidrio/7004",
          "Manufacturas de piedra, yeso fraguable, cemento, amianto (asbesto), mica o materias análogas; productos cerámicos; vidrio y manufacturas de vidrio/7005",
          "Manufacturas de piedra, yeso fraguable, cemento, amianto (asbesto), mica o materias análogas; productos cerámicos; vidrio y manufacturas de vidrio/7006",
          "Manufacturas de piedra, yeso fraguable, cemento, amianto (asbesto), mica o materias análogas; productos cerámicos; vidrio y manufacturas de vidrio/7008",
          "Manufacturas de piedra, yeso fraguable, cemento, amianto (asbesto), mica o materias análogas; productos cerámicos; vidrio y manufacturas de vidrio/7011",
          "Manufacturas de piedra, yeso fraguable, cemento, amianto (asbesto), mica o materias análogas; productos cerámicos; vidrio y manufacturas de vidrio/7014",
          "Manufacturas de piedra, yeso fraguable, cemento, amianto (asbesto), mica o materias análogas; productos cerámicos; vidrio y manufacturas de vidrio/7015",
          "Manufacturas de piedra, yeso fraguable, cemento, amianto (asbesto), mica o materias análogas; productos cerámicos; vidrio y manufacturas de vidrio/7016",
          "Manufacturas de piedra, yeso fraguable, cemento, amianto (asbesto), mica o materias análogas; productos cerámicos; vidrio y manufacturas de vidrio/7018",
          "Perlas finas (naturales) o cultivadas, piedras preciosas o semipreciosas, metales preciosos, chapados de metal precioso (plaqué) y manufacturas de estas materias; bisutería; monedas/7101",
          "Perlas finas (naturales) o cultivadas, piedras preciosas o semipreciosas, metales preciosos, chapados de metal precioso (plaqué) y manufacturas de estas materias; bisutería; monedas/7102",
          "Perlas finas (naturales) o cultivadas, piedras preciosas o semipreciosas, metales preciosos, chapados de metal precioso (plaqué) y manufacturas de estas materias; bisutería; monedas/7103",
          "Perlas finas (naturales) o cultivadas, piedras preciosas o semipreciosas, metales preciosos, chapados de metal precioso (plaqué) y manufacturas de estas materias; bisutería; monedas/7104",
          "Perlas finas (naturales) o cultivadas, piedras preciosas o semipreciosas, metales preciosos, chapados de metal precioso (plaqué) y manufacturas de estas materias; bisutería; monedas/7105",
          "Perlas finas (naturales) o cultivadas, piedras preciosas o semipreciosas, metales preciosos, chapados de metal precioso (plaqué) y manufacturas de estas materias; bisutería; monedas/7106",
          "Perlas finas (naturales) o cultivadas, piedras preciosas o semipreciosas, metales preciosos, chapados de metal precioso (plaqué) y manufacturas de estas materias; bisutería; monedas/7107",
          "Perlas finas (naturales) o cultivadas, piedras preciosas o semipreciosas, metales preciosos, chapados de metal precioso (plaqué) y manufacturas de estas materias; bisutería; monedas/7108",
          "Perlas finas (naturales) o cultivadas, piedras preciosas o semipreciosas, metales preciosos, chapados de metal precioso (plaqué) y manufacturas de estas materias; bisutería; monedas/7109",
          "Perlas finas (naturales) o cultivadas, piedras preciosas o semipreciosas, metales preciosos, chapados de metal precioso (plaqué) y manufacturas de estas materias; bisutería; monedas/7110",
          "Perlas finas (naturales) o cultivadas, piedras preciosas o semipreciosas, metales preciosos, chapados de metal precioso (plaqué) y manufacturas de estas materias; bisutería; monedas/7114",
          "Perlas finas (naturales) o cultivadas, piedras preciosas o semipreciosas, metales preciosos, chapados de metal precioso (plaqué) y manufacturas de estas materias; bisutería; monedas/7115",
          "Perlas finas (naturales) o cultivadas, piedras preciosas o semipreciosas, metales preciosos, chapados de metal precioso (plaqué) y manufacturas de estas materias; bisutería; monedas/7116",
          "Perlas finas (naturales) o cultivadas, piedras preciosas o semipreciosas, metales preciosos, chapados de metal precioso (plaqué) y manufacturas de estas materias; bisutería; monedas/7118",
          "Metales comunes y manufacturas de esos metales/7201",
          "Metales comunes y manufacturas de esos metales/7202",
          "Metales comunes y manufacturas de esos metales/7203",
          "Metales comunes y manufacturas de esos metales/7204",
          "Metales comunes y manufacturas de esos metales/7205",
          "Metales comunes y manufacturas de esos metales/7206",
          "Metales comunes y manufacturas de esos metales/7207",
          "Metales comunes y manufacturas de esos metales/7208",
          "Metales comunes y manufacturas de esos metales/7209",
          "Metales comunes y manufacturas de esos metales/7210",
          "Metales comunes y manufacturas de esos metales/7211",
          "Metales comunes y manufacturas de esos metales/7212",
          "Metales comunes y manufacturas de esos metales/7213",
          "Metales comunes y manufacturas de esos metales/7214",
          "Metales comunes y manufacturas de esos metales/7215",
          "Metales comunes y manufacturas de esos metales/7216",
          "Metales comunes y manufacturas de esos metales/7218",
          "Metales comunes y manufacturas de esos metales/7219",
          "Metales comunes y manufacturas de esos metales/7220",
          "Metales comunes y manufacturas de esos metales/7221",
          "Metales comunes y manufacturas de esos metales/7222",
          "Metales comunes y manufacturas de esos metales/7223",
          "Metales comunes y manufacturas de esos metales/7224",
          "Metales comunes y manufacturas de esos metales/7225",
          "Metales comunes y manufacturas de esos metales/7226",
          "Metales comunes y manufacturas de esos metales/7227",
          "Metales comunes y manufacturas de esos metales/7228",
          "Metales comunes y manufacturas de esos metales/7229",
          "Metales comunes y manufacturas de esos metales/7301",
          "Metales comunes y manufacturas de esos metales/7302",
          "Metales comunes y manufacturas de esos metales/7303",
          "Metales comunes y manufacturas de esos metales/7305",
          "Metales comunes y manufacturas de esos metales/7309",
          "Metales comunes y manufacturas de esos metales/7313",
          "Metales comunes y manufacturas de esos metales/7316",
          "Metales comunes y manufacturas de esos metales/7317",
          "Metales comunes y manufacturas de esos metales/7319",
          "Metales comunes y manufacturas de esos metales/7322",
          "Metales comunes y manufacturas de esos metales/7325",
          "Metales comunes y manufacturas de esos metales/7403",
          "Metales comunes y manufacturas de esos metales/7404",
          "Metales comunes y manufacturas de esos metales/7405",
          "Metales comunes y manufacturas de esos metales/7406",
          "Metales comunes y manufacturas de esos metales/7407",
          "Metales comunes y manufacturas de esos metales/7408",
          "Metales comunes y manufacturas de esos metales/7409",
          "Metales comunes y manufacturas de esos metales/7410",
          "Metales comunes y manufacturas de esos metales/7413",
          "Metales comunes y manufacturas de esos metales/7418",
          "Metales comunes y manufacturas de esos metales/7502",
          "Metales comunes y manufacturas de esos metales/7504",
          "Metales comunes y manufacturas de esos metales/7505",
          "Metales comunes y manufacturas de esos metales/7506",
          "Metales comunes y manufacturas de esos metales/7507",
          "Metales comunes y manufacturas de esos metales/7508",
          "Metales comunes y manufacturas de esos metales/7601",
          "Metales comunes y manufacturas de esos metales/7602",
          "Metales comunes y manufacturas de esos metales/7603",
          "Metales comunes y manufacturas de esos metales/7605",
          "Metales comunes y manufacturas de esos metales/7611",
          "Metales comunes y manufacturas de esos metales/7612",
          "Metales comunes y manufacturas de esos metales/7613",
          "Metales comunes y manufacturas de esos metales/7614",
          "Metales comunes y manufacturas de esos metales/7615",
          "Metales comunes y manufacturas de esos metales/7901",
          "Metales comunes y manufacturas de esos metales/7903",
          "Metales comunes y manufacturas de esos metales/7904",
          "Metales comunes y manufacturas de esos metales/7905",
          "Metales comunes y manufacturas de esos metales/7907",
          "Metales comunes y manufacturas de esos metales/8001",
          "Metales comunes y manufacturas de esos metales/8002",
          "Metales comunes y manufacturas de esos metales/8003",
          "Metales comunes y manufacturas de esos metales/8007",
          "Metales comunes y manufacturas de esos metales/8101",
          "Metales comunes y manufacturas de esos metales/8102",
          "Metales comunes y manufacturas de esos metales/8103",
          "Metales comunes y manufacturas de esos metales/8104",
          "Metales comunes y manufacturas de esos metales/8105",
          "Metales comunes y manufacturas de esos metales/8106",
          "Metales comunes y manufacturas de esos metales/8107",
          "Metales comunes y manufacturas de esos metales/8108",
          "Metales comunes y manufacturas de esos metales/8109",
          "Metales comunes y manufacturas de esos metales/8110",
          "Metales comunes y manufacturas de esos metales/8111",
          "Metales comunes y manufacturas de esos metales/8112",
          "Metales comunes y manufacturas de esos metales/8113",
          "Metales comunes y manufacturas de esos metales/8210",
          "Metales comunes y manufacturas de esos metales/8215",
          "Metales comunes y manufacturas de esos metales/8303",
          "Metales comunes y manufacturas de esos metales/8304",
          "Máquinas y aparatos, material eléctrico y sus partes; aparatos de grabación o reproducción de sonido, aparatos de grabación o reproducción de imagen y sonido en televisión, y las partes y accesorios de estos aparatos/8401",
          "Máquinas y aparatos, material eléctrico y sus partes; aparatos de grabación o reproducción de sonido, aparatos de grabación o reproducción de imagen y sonido en televisión, y las partes y accesorios de estos aparatos/8402",
          "Máquinas y aparatos, material eléctrico y sus partes; aparatos de grabación o reproducción de sonido, aparatos de grabación o reproducción de imagen y sonido en televisión, y las partes y accesorios de estos aparatos/8403",
          "Máquinas y aparatos, material eléctrico y sus partes; aparatos de grabación o reproducción de sonido, aparatos de grabación o reproducción de imagen y sonido en televisión, y las partes y accesorios de estos aparatos/8404",
          "Máquinas y aparatos, material eléctrico y sus partes; aparatos de grabación o reproducción de sonido, aparatos de grabación o reproducción de imagen y sonido en televisión, y las partes y accesorios de estos aparatos/8405",
          "Máquinas y aparatos, material eléctrico y sus partes; aparatos de grabación o reproducción de sonido, aparatos de grabación o reproducción de imagen y sonido en televisión, y las partes y accesorios de estos aparatos/8406",
          "Máquinas y aparatos, material eléctrico y sus partes; aparatos de grabación o reproducción de sonido, aparatos de grabación o reproducción de imagen y sonido en televisión, y las partes y accesorios de estos aparatos/8407",
          "Máquinas y aparatos, material eléctrico y sus partes; aparatos de grabación o reproducción de sonido, aparatos de grabación o reproducción de imagen y sonido en televisión, y las partes y accesorios de estos aparatos/8408",
          "Máquinas y aparatos, material eléctrico y sus partes; aparatos de grabación o reproducción de sonido, aparatos de grabación o reproducción de imagen y sonido en televisión, y las partes y accesorios de estos aparatos/8410",
          "Máquinas y aparatos, material eléctrico y sus partes; aparatos de grabación o reproducción de sonido, aparatos de grabación o reproducción de imagen y sonido en televisión, y las partes y accesorios de estos aparatos/8411",
          "Máquinas y aparatos, material eléctrico y sus partes; aparatos de grabación o reproducción de sonido, aparatos de grabación o reproducción de imagen y sonido en televisión, y las partes y accesorios de estos aparatos/8416",
          "Máquinas y aparatos, material eléctrico y sus partes; aparatos de grabación o reproducción de sonido, aparatos de grabación o reproducción de imagen y sonido en televisión, y las partes y accesorios de estos aparatos/8417",
          "Máquinas y aparatos, material eléctrico y sus partes; aparatos de grabación o reproducción de sonido, aparatos de grabación o reproducción de imagen y sonido en televisión, y las partes y accesorios de estos aparatos/8420",
          "Máquinas y aparatos, material eléctrico y sus partes; aparatos de grabación o reproducción de sonido, aparatos de grabación o reproducción de imagen y sonido en televisión, y las partes y accesorios de estos aparatos/8426",
          "Máquinas y aparatos, material eléctrico y sus partes; aparatos de grabación o reproducción de sonido, aparatos de grabación o reproducción de imagen y sonido en televisión, y las partes y accesorios de estos aparatos/8427",
          "Máquinas y aparatos, material eléctrico y sus partes; aparatos de grabación o reproducción de sonido, aparatos de grabación o reproducción de imagen y sonido en televisión, y las partes y accesorios de estos aparatos/8429",
          "Máquinas y aparatos, material eléctrico y sus partes; aparatos de grabación o reproducción de sonido, aparatos de grabación o reproducción de imagen y sonido en televisión, y las partes y accesorios de estos aparatos/8430",
          "Máquinas y aparatos, material eléctrico y sus partes; aparatos de grabación o reproducción de sonido, aparatos de grabación o reproducción de imagen y sonido en televisión, y las partes y accesorios de estos aparatos/8432",
          "Máquinas y aparatos, material eléctrico y sus partes; aparatos de grabación o reproducción de sonido, aparatos de grabación o reproducción de imagen y sonido en televisión, y las partes y accesorios de estos aparatos/8434",
          "Máquinas y aparatos, material eléctrico y sus partes; aparatos de grabación o reproducción de sonido, aparatos de grabación o reproducción de imagen y sonido en televisión, y las partes y accesorios de estos aparatos/8435",
          "Máquinas y aparatos, material eléctrico y sus partes; aparatos de grabación o reproducción de sonido, aparatos de grabación o reproducción de imagen y sonido en televisión, y las partes y accesorios de estos aparatos/8436",
          "Máquinas y aparatos, material eléctrico y sus partes; aparatos de grabación o reproducción de sonido, aparatos de grabación o reproducción de imagen y sonido en televisión, y las partes y accesorios de estos aparatos/8437",
          "Máquinas y aparatos, material eléctrico y sus partes; aparatos de grabación o reproducción de sonido, aparatos de grabación o reproducción de imagen y sonido en televisión, y las partes y accesorios de estos aparatos/8439",
          "Máquinas y aparatos, material eléctrico y sus partes; aparatos de grabación o reproducción de sonido, aparatos de grabación o reproducción de imagen y sonido en televisión, y las partes y accesorios de estos aparatos/8440",
          "Máquinas y aparatos, material eléctrico y sus partes; aparatos de grabación o reproducción de sonido, aparatos de grabación o reproducción de imagen y sonido en televisión, y las partes y accesorios de estos aparatos/8442",
          "Máquinas y aparatos, material eléctrico y sus partes; aparatos de grabación o reproducción de sonido, aparatos de grabación o reproducción de imagen y sonido en televisión, y las partes y accesorios de estos aparatos/8444",
          "Máquinas y aparatos, material eléctrico y sus partes; aparatos de grabación o reproducción de sonido, aparatos de grabación o reproducción de imagen y sonido en televisión, y las partes y accesorios de estos aparatos/8445",
          "Máquinas y aparatos, material eléctrico y sus partes; aparatos de grabación o reproducción de sonido, aparatos de grabación o reproducción de imagen y sonido en televisión, y las partes y accesorios de estos aparatos/8446",
          "Máquinas y aparatos, material eléctrico y sus partes; aparatos de grabación o reproducción de sonido, aparatos de grabación o reproducción de imagen y sonido en televisión, y las partes y accesorios de estos aparatos/8447",
          "Máquinas y aparatos, material eléctrico y sus partes; aparatos de grabación o reproducción de sonido, aparatos de grabación o reproducción de imagen y sonido en televisión, y las partes y accesorios de estos aparatos/8449",
          "Máquinas y aparatos, material eléctrico y sus partes; aparatos de grabación o reproducción de sonido, aparatos de grabación o reproducción de imagen y sonido en televisión, y las partes y accesorios de estos aparatos/8453",
          "Máquinas y aparatos, material eléctrico y sus partes; aparatos de grabación o reproducción de sonido, aparatos de grabación o reproducción de imagen y sonido en televisión, y las partes y accesorios de estos aparatos/8454",
          "Máquinas y aparatos, material eléctrico y sus partes; aparatos de grabación o reproducción de sonido, aparatos de grabación o reproducción de imagen y sonido en televisión, y las partes y accesorios de estos aparatos/8455",
          "Máquinas y aparatos, material eléctrico y sus partes; aparatos de grabación o reproducción de sonido, aparatos de grabación o reproducción de imagen y sonido en televisión, y las partes y accesorios de estos aparatos/8456",
          "Máquinas y aparatos, material eléctrico y sus partes; aparatos de grabación o reproducción de sonido, aparatos de grabación o reproducción de imagen y sonido en televisión, y las partes y accesorios de estos aparatos/8457",
          "Máquinas y aparatos, material eléctrico y sus partes; aparatos de grabación o reproducción de sonido, aparatos de grabación o reproducción de imagen y sonido en televisión, y las partes y accesorios de estos aparatos/8458",
          "Máquinas y aparatos, material eléctrico y sus partes; aparatos de grabación o reproducción de sonido, aparatos de grabación o reproducción de imagen y sonido en televisión, y las partes y accesorios de estos aparatos/8459",
          "Máquinas y aparatos, material eléctrico y sus partes; aparatos de grabación o reproducción de sonido, aparatos de grabación o reproducción de imagen y sonido en televisión, y las partes y accesorios de estos aparatos/8461",
          "Máquinas y aparatos, material eléctrico y sus partes; aparatos de grabación o reproducción de sonido, aparatos de grabación o reproducción de imagen y sonido en televisión, y las partes y accesorios de estos aparatos/8463",
          "Máquinas y aparatos, material eléctrico y sus partes; aparatos de grabación o reproducción de sonido, aparatos de grabación o reproducción de imagen y sonido en televisión, y las partes y accesorios de estos aparatos/8464",
          "Máquinas y aparatos, material eléctrico y sus partes; aparatos de grabación o reproducción de sonido, aparatos de grabación o reproducción de imagen y sonido en televisión, y las partes y accesorios de estos aparatos/8465",
          "Máquinas y aparatos, material eléctrico y sus partes; aparatos de grabación o reproducción de sonido, aparatos de grabación o reproducción de imagen y sonido en televisión, y las partes y accesorios de estos aparatos/8468",
          "Máquinas y aparatos, material eléctrico y sus partes; aparatos de grabación o reproducción de sonido, aparatos de grabación o reproducción de imagen y sonido en televisión, y las partes y accesorios de estos aparatos/8470",
          "Máquinas y aparatos, material eléctrico y sus partes; aparatos de grabación o reproducción de sonido, aparatos de grabación o reproducción de imagen y sonido en televisión, y las partes y accesorios de estos aparatos/8472",
          "Máquinas y aparatos, material eléctrico y sus partes; aparatos de grabación o reproducción de sonido, aparatos de grabación o reproducción de imagen y sonido en televisión, y las partes y accesorios de estos aparatos/8475",
          "Máquinas y aparatos, material eléctrico y sus partes; aparatos de grabación o reproducción de sonido, aparatos de grabación o reproducción de imagen y sonido en televisión, y las partes y accesorios de estos aparatos/8476",
          "Máquinas y aparatos, material eléctrico y sus partes; aparatos de grabación o reproducción de sonido, aparatos de grabación o reproducción de imagen y sonido en televisión, y las partes y accesorios de estos aparatos/8478",
          "Máquinas y aparatos, material eléctrico y sus partes; aparatos de grabación o reproducción de sonido, aparatos de grabación o reproducción de imagen y sonido en televisión, y las partes y accesorios de estos aparatos/8486",
          "Máquinas y aparatos, material eléctrico y sus partes; aparatos de grabación o reproducción de sonido, aparatos de grabación o reproducción de imagen y sonido en televisión, y las partes y accesorios de estos aparatos/8502",
          "Máquinas y aparatos, material eléctrico y sus partes; aparatos de grabación o reproducción de sonido, aparatos de grabación o reproducción de imagen y sonido en televisión, y las partes y accesorios de estos aparatos/8509",
          "Máquinas y aparatos, material eléctrico y sus partes; aparatos de grabación o reproducción de sonido, aparatos de grabación o reproducción de imagen y sonido en televisión, y las partes y accesorios de estos aparatos/8510",
          "Máquinas y aparatos, material eléctrico y sus partes; aparatos de grabación o reproducción de sonido, aparatos de grabación o reproducción de imagen y sonido en televisión, y las partes y accesorios de estos aparatos/8519",
          "Máquinas y aparatos, material eléctrico y sus partes; aparatos de grabación o reproducción de sonido, aparatos de grabación o reproducción de imagen y sonido en televisión, y las partes y accesorios de estos aparatos/8521",
          "Máquinas y aparatos, material eléctrico y sus partes; aparatos de grabación o reproducción de sonido, aparatos de grabación o reproducción de imagen y sonido en televisión, y las partes y accesorios de estos aparatos/8522",
          "Máquinas y aparatos, material eléctrico y sus partes; aparatos de grabación o reproducción de sonido, aparatos de grabación o reproducción de imagen y sonido en televisión, y las partes y accesorios de estos aparatos/8530",
          "Máquinas y aparatos, material eléctrico y sus partes; aparatos de grabación o reproducción de sonido, aparatos de grabación o reproducción de imagen y sonido en televisión, y las partes y accesorios de estos aparatos/8540",
          "Material de transporte/8603",
          "Material de transporte/8604",
          "Material de transporte/8606",
          "Material de transporte/8607",
          "Material de transporte/8608",
          "Material de transporte/8609",
          "Material de transporte/8701",
          "Material de transporte/8702",
          "Material de transporte/8705",
          "Material de transporte/8706",
          "Material de transporte/8707",
          "Material de transporte/8709",
          "Material de transporte/8711",
          "Material de transporte/8712",
          "Material de transporte/8715",
          "Material de transporte/8802",
          "Material de transporte/8803",
          "Material de transporte/8804",
          "Material de transporte/8805",
          "Material de transporte/8903",
          "Material de transporte/8904",
          "Material de transporte/8905",
          "Material de transporte/8906",
          "Material de transporte/8907",
          "Instrumentos y aparatos de óptica, fotografía o cinematografía, de medida, control o precisión; instrumentos y aparatos médicoquirúrgicos; aparatos de relojería; instrumentos musicales; partes y accesorios de estos instrumentos o aparatos/9003",
          "Instrumentos y aparatos de óptica, fotografía o cinematografía, de medida, control o precisión; instrumentos y aparatos médicoquirúrgicos; aparatos de relojería; instrumentos musicales; partes y accesorios de estos instrumentos o aparatos/9005",
          "Instrumentos y aparatos de óptica, fotografía o cinematografía, de medida, control o precisión; instrumentos y aparatos médicoquirúrgicos; aparatos de relojería; instrumentos musicales; partes y accesorios de estos instrumentos o aparatos/9006",
          "Instrumentos y aparatos de óptica, fotografía o cinematografía, de medida, control o precisión; instrumentos y aparatos médicoquirúrgicos; aparatos de relojería; instrumentos musicales; partes y accesorios de estos instrumentos o aparatos/9007",
          "Instrumentos y aparatos de óptica, fotografía o cinematografía, de medida, control o precisión; instrumentos y aparatos médicoquirúrgicos; aparatos de relojería; instrumentos musicales; partes y accesorios de estos instrumentos o aparatos/9008",
          "Instrumentos y aparatos de óptica, fotografía o cinematografía, de medida, control o precisión; instrumentos y aparatos médicoquirúrgicos; aparatos de relojería; instrumentos musicales; partes y accesorios de estos instrumentos o aparatos/9010",
          "Instrumentos y aparatos de óptica, fotografía o cinematografía, de medida, control o precisión; instrumentos y aparatos médicoquirúrgicos; aparatos de relojería; instrumentos musicales; partes y accesorios de estos instrumentos o aparatos/9011",
          "Instrumentos y aparatos de óptica, fotografía o cinematografía, de medida, control o precisión; instrumentos y aparatos médicoquirúrgicos; aparatos de relojería; instrumentos musicales; partes y accesorios de estos instrumentos o aparatos/9012",
          "Instrumentos y aparatos de óptica, fotografía o cinematografía, de medida, control o precisión; instrumentos y aparatos médicoquirúrgicos; aparatos de relojería; instrumentos musicales; partes y accesorios de estos instrumentos o aparatos/9014",
          "Instrumentos y aparatos de óptica, fotografía o cinematografía, de medida, control o precisión; instrumentos y aparatos médicoquirúrgicos; aparatos de relojería; instrumentos musicales; partes y accesorios de estos instrumentos o aparatos/9016",
          "Instrumentos y aparatos de óptica, fotografía o cinematografía, de medida, control o precisión; instrumentos y aparatos médicoquirúrgicos; aparatos de relojería; instrumentos musicales; partes y accesorios de estos instrumentos o aparatos/9020",
          "Instrumentos y aparatos de óptica, fotografía o cinematografía, de medida, control o precisión; instrumentos y aparatos médicoquirúrgicos; aparatos de relojería; instrumentos musicales; partes y accesorios de estos instrumentos o aparatos/9028",
          "Instrumentos y aparatos de óptica, fotografía o cinematografía, de medida, control o precisión; instrumentos y aparatos médicoquirúrgicos; aparatos de relojería; instrumentos musicales; partes y accesorios de estos instrumentos o aparatos/9033",
          "Instrumentos y aparatos de óptica, fotografía o cinematografía, de medida, control o precisión; instrumentos y aparatos médicoquirúrgicos; aparatos de relojería; instrumentos musicales; partes y accesorios de estos instrumentos o aparatos/9101",
          "Instrumentos y aparatos de óptica, fotografía o cinematografía, de medida, control o precisión; instrumentos y aparatos médicoquirúrgicos; aparatos de relojería; instrumentos musicales; partes y accesorios de estos instrumentos o aparatos/9102",
          "Instrumentos y aparatos de óptica, fotografía o cinematografía, de medida, control o precisión; instrumentos y aparatos médicoquirúrgicos; aparatos de relojería; instrumentos musicales; partes y accesorios de estos instrumentos o aparatos/9103",
          "Instrumentos y aparatos de óptica, fotografía o cinematografía, de medida, control o precisión; instrumentos y aparatos médicoquirúrgicos; aparatos de relojería; instrumentos musicales; partes y accesorios de estos instrumentos o aparatos/9104",
          "Instrumentos y aparatos de óptica, fotografía o cinematografía, de medida, control o precisión; instrumentos y aparatos médicoquirúrgicos; aparatos de relojería; instrumentos musicales; partes y accesorios de estos instrumentos o aparatos/9105",
          "Instrumentos y aparatos de óptica, fotografía o cinematografía, de medida, control o precisión; instrumentos y aparatos médicoquirúrgicos; aparatos de relojería; instrumentos musicales; partes y accesorios de estos instrumentos o aparatos/9106",
          "Instrumentos y aparatos de óptica, fotografía o cinematografía, de medida, control o precisión; instrumentos y aparatos médicoquirúrgicos; aparatos de relojería; instrumentos musicales; partes y accesorios de estos instrumentos o aparatos/9108",
          "Instrumentos y aparatos de óptica, fotografía o cinematografía, de medida, control o precisión; instrumentos y aparatos médicoquirúrgicos; aparatos de relojería; instrumentos musicales; partes y accesorios de estos instrumentos o aparatos/9109",
          "Instrumentos y aparatos de óptica, fotografía o cinematografía, de medida, control o precisión; instrumentos y aparatos médicoquirúrgicos; aparatos de relojería; instrumentos musicales; partes y accesorios de estos instrumentos o aparatos/9110",
          "Instrumentos y aparatos de óptica, fotografía o cinematografía, de medida, control o precisión; instrumentos y aparatos médicoquirúrgicos; aparatos de relojería; instrumentos musicales; partes y accesorios de estos instrumentos o aparatos/9111",
          "Instrumentos y aparatos de óptica, fotografía o cinematografía, de medida, control o precisión; instrumentos y aparatos médicoquirúrgicos; aparatos de relojería; instrumentos musicales; partes y accesorios de estos instrumentos o aparatos/9112",
          "Instrumentos y aparatos de óptica, fotografía o cinematografía, de medida, control o precisión; instrumentos y aparatos médicoquirúrgicos; aparatos de relojería; instrumentos musicales; partes y accesorios de estos instrumentos o aparatos/9113",
          "Instrumentos y aparatos de óptica, fotografía o cinematografía, de medida, control o precisión; instrumentos y aparatos médicoquirúrgicos; aparatos de relojería; instrumentos musicales; partes y accesorios de estos instrumentos o aparatos/9114",
          "Instrumentos y aparatos de óptica, fotografía o cinematografía, de medida, control o precisión; instrumentos y aparatos médicoquirúrgicos; aparatos de relojería; instrumentos musicales; partes y accesorios de estos instrumentos o aparatos/9201",
          "Instrumentos y aparatos de óptica, fotografía o cinematografía, de medida, control o precisión; instrumentos y aparatos médicoquirúrgicos; aparatos de relojería; instrumentos musicales; partes y accesorios de estos instrumentos o aparatos/9202",
          "Instrumentos y aparatos de óptica, fotografía o cinematografía, de medida, control o precisión; instrumentos y aparatos médicoquirúrgicos; aparatos de relojería; instrumentos musicales; partes y accesorios de estos instrumentos o aparatos/9205",
          "Instrumentos y aparatos de óptica, fotografía o cinematografía, de medida, control o precisión; instrumentos y aparatos médicoquirúrgicos; aparatos de relojería; instrumentos musicales; partes y accesorios de estos instrumentos o aparatos/9206",
          "Instrumentos y aparatos de óptica, fotografía o cinematografía, de medida, control o precisión; instrumentos y aparatos médicoquirúrgicos; aparatos de relojería; instrumentos musicales; partes y accesorios de estos instrumentos o aparatos/9207",
          "Instrumentos y aparatos de óptica, fotografía o cinematografía, de medida, control o precisión; instrumentos y aparatos médicoquirúrgicos; aparatos de relojería; instrumentos musicales; partes y accesorios de estos instrumentos o aparatos/9208",
          "Instrumentos y aparatos de óptica, fotografía o cinematografía, de medida, control o precisión; instrumentos y aparatos médicoquirúrgicos; aparatos de relojería; instrumentos musicales; partes y accesorios de estos instrumentos o aparatos/9209",
          "Armas, municiones, y sus partes y accesorios/9304",
          "Armas, municiones, y sus partes y accesorios/9305",
          "Armas, municiones, y sus partes y accesorios/9306",
          "Armas, municiones, y sus partes y accesorios/9307",
          "Mercancías y productos diversos/9402",
          "Mercancías y productos diversos/9406",
          "Mercancías y productos diversos/9507",
          "Mercancías y productos diversos/9508",
          "Mercancías y productos diversos/9601",
          "Mercancías y productos diversos/9602",
          "Mercancías y productos diversos/9604",
          "Mercancías y productos diversos/9605",
          "Mercancías y productos diversos/9606",
          "Mercancías y productos diversos/9607",
          "Mercancías y productos diversos/9610",
          "Mercancías y productos diversos/9611",
          "Mercancías y productos diversos/9613",
          "Mercancías y productos diversos/9614",
          "Mercancías y productos diversos/9615",
          "Mercancías y productos diversos/9616",
          "Mercancías y productos diversos/9617",
          "Mercancías y productos diversos/9618",
          "Mercancías y productos diversos/9619",
          "Objetos de arte o colección y antigüedades/9701",
          "Objetos de arte o colección y antigüedades/9703",
          "Objetos de arte o colección y antigüedades/9705",
          "Objetos de arte o colección y antigüedades/9706",
          "Animales vivos y productos del reino animal",
          "Armas, municiones, y sus partes y accesorios",
          "Calzado, sombreros y demás tocados, paraguas, quitasoles, bastones, látigos, fustas y sus partes; plumas preparadas y artículos de plumas; flores artificiales; manufacturas de cabello",
          "Grasas y aceites animales o vegetales; productos de su desdoblamiento; grasas alimenticias elaboradas; ceras de origen animal o vegetal",
          "Instrumentos y aparatos de óptica, fotografía o cinematografía, de medida, control o precisión; instrumentos y aparatos médicoquirúrgicos; aparatos de relojería; instrumentos musicales; partes y accesorios de estos instrumentos o aparatos",
          "Madera, carbón vegetal y manufacturas de madera; corcho y sus manufacturas; manufacturas de espartería o cestería",
          "Manufacturas de piedra, yeso fraguable, cemento, amianto (asbesto), mica o materias análogas; productos cerámicos; vidrio y manufacturas de vidrio",
          "Material de transporte",
          "Materias textiles y sus manufacturas",
          "Mercancías y productos diversos",
          "Metales comunes y manufacturas de esos metales",
          "Máquinas y aparatos, material eléctrico y sus partes; aparatos de grabación o reproducción de sonido, aparatos de grabación o reproducción de imagen y sonido en televisión, y las partes y accesorios de estos aparatos",
          "Objetos de arte o colección y antigüedades",
          "Pasta de madera o de las demás materias fibrosas celulósicas; papel o cartón para reciclar (desperdicios y desechos); papel o cartón y sus aplicaciones",
          "Perlas finas (naturales) o cultivadas, piedras preciosas o semipreciosas, metales preciosos, chapados de metal precioso (plaqué) y manufacturas de estas materias; bisutería; monedas",
          "Pieles, cueros, peletería y manufacturas de estas materias; artículos de talabartería o guarnicionería; artículos de viaje, bolsos de mano (carteras) y continentes similares; manufacturas de tripa",
          "Plástico y sus manufacturas; caucho y sus manufacturas",
          "Productos de las industrias alimentarias; bebidas, líquidos alcohólicos y vinagre; tabaco y sucedáneos del tabaco elaborados",
          "Productos de las industrias químicas o de las industrias conexas",
          "Productos del reino vegetal",
          "Productos minerales"
         ],
         "labels": [
          "0101",
          "0102",
          "0105",
          "0201",
          "0202",
          "0203",
          "0204",
          "0206",
          "0207",
          "0209",
          "0210",
          "0301",
          "0302",
          "0303",
          "0304",
          "0305",
          "0306",
          "0307",
          "0308",
          "0401",
          "0402",
          "0403",
          "0404",
          "0405",
          "0406",
          "0407",
          "0504",
          "0505",
          "0508",
          "0511",
          "0601",
          "0602",
          "0603",
          "0604",
          "0701",
          "0703",
          "0705",
          "0706",
          "0709",
          "0710",
          "0711",
          "0712",
          "0713",
          "0714",
          "0801",
          "0802",
          "0804",
          "0805",
          "0806",
          "0807",
          "0808",
          "0809",
          "0810",
          "0811",
          "0812",
          "0813",
          "0814",
          "0901",
          "0902",
          "0903",
          "0905",
          "0906",
          "0907",
          "0908",
          "0909",
          "0910",
          "1001",
          "1003",
          "1004",
          "1005",
          "1006",
          "1101",
          "1102",
          "1103",
          "1104",
          "1105",
          "1106",
          "1107",
          "1108",
          "1109",
          "1201",
          "1202",
          "1205",
          "1206",
          "1207",
          "1208",
          "1209",
          "1210",
          "1212",
          "1214",
          "1301",
          "1401",
          "1404",
          "1501",
          "1502",
          "1503",
          "1504",
          "1505",
          "1507",
          "1508",
          "1509",
          "1510",
          "1511",
          "1512",
          "1513",
          "1514",
          "1516",
          "1517",
          "1518",
          "1520",
          "1521",
          "1522",
          "1601",
          "1602",
          "1603",
          "1604",
          "1605",
          "1701",
          "1703",
          "1801",
          "1804",
          "1805",
          "1902",
          "1903",
          "2002",
          "2003",
          "2004",
          "2006",
          "2007",
          "2102",
          "2104",
          "2105",
          "2201",
          "2203",
          "2204",
          "2205",
          "2206",
          "2207",
          "2209",
          "2301",
          "2302",
          "2303",
          "2304",
          "2306",
          "2308",
          "2309",
          "2401",
          "2402",
          "2403",
          "2501",
          "2502",
          "2503",
          "2504",
          "2505",
          "2506",
          "2507",
          "2508",
          "2509",
          "2510",
          "2511",
          "2512",
          "2513",
          "2514",
          "2515",
          "2516",
          "2517",
          "2518",
          "2519",
          "2520",
          "2522",
          "2523",
          "2525",
          "2526",
          "2528",
          "2529",
          "2530",
          "2601",
          "2602",
          "2603",
          "2606",
          "2607",
          "2608",
          "2610",
          "2613",
          "2614",
          "2615",
          "2616",
          "2617",
          "2618",
          "2619",
          "2620",
          "2621",
          "2701",
          "2702",
          "2703",
          "2704",
          "2707",
          "2708",
          "2711",
          "2712",
          "2713",
          "2714",
          "2715",
          "2716",
          "2801",
          "2802",
          "2803",
          "2804",
          "2805",
          "2806",
          "2807",
          "2808",
          "2809",
          "2810",
          "2812",
          "2813",
          "2814",
          "2815",
          "2816",
          "2817",
          "2818",
          "2819",
          "2820",
          "2821",
          "2822",
          "2823",
          "2824",
          "2825",
          "2826",
          "2827",
          "2828",
          "2829",
          "2830",
          "2831",
          "2832",
          "2834",
          "2835",
          "2837",
          "2839",
          "2840",
          "2841",
          "2842",
          "2843",
          "2844",
          "2845",
          "2846",
          "2847",
          "2849",
          "2850",
          "2852",
          "2853",
          "2901",
          "2902",
          "2903",
          "2904",
          "2906",
          "2907",
          "2908",
          "2909",
          "2910",
          "2911",
          "2912",
          "2913",
          "2914",
          "2916",
          "2917",
          "2919",
          "2920",
          "2921",
          "2923",
          "2924",
          "2925",
          "2926",
          "2927",
          "2928",
          "2929",
          "2930",
          "2931",
          "2932",
          "2935",
          "2936",
          "2937",
          "2938",
          "2939",
          "2940",
          "2941",
          "2942",
          "3001",
          "3003",
          "3006",
          "3101",
          "3102",
          "3103",
          "3104",
          "3105",
          "3201",
          "3202",
          "3203",
          "3205",
          "3207",
          "3210",
          "3211",
          "3212",
          "3213",
          "3306",
          "3404",
          "3406",
          "3407",
          "3501",
          "3502",
          "3503",
          "3504",
          "3505",
          "3507",
          "3601",
          "3602",
          "3603",
          "3604",
          "3605",
          "3606",
          "3701",
          "3702",
          "3703",
          "3704",
          "3705",
          "3706",
          "3707",
          "3801",
          "3802",
          "3803",
          "3804",
          "3805",
          "3806",
          "3811",
          "3812",
          "3813",
          "3815",
          "3816",
          "3817",
          "3818",
          "3819",
          "3820",
          "3821",
          "3823",
          "3825",
          "3904",
          "3905",
          "3911",
          "3912",
          "3913",
          "3914",
          "3915",
          "4001",
          "4003",
          "4004",
          "4005",
          "4006",
          "4007",
          "4013",
          "4014",
          "4017",
          "4101",
          "4102",
          "4103",
          "4104",
          "4106",
          "4107",
          "4112",
          "4113",
          "4114",
          "4115",
          "4201",
          "4206",
          "4302",
          "4303",
          "4304",
          "4401",
          "4402",
          "4403",
          "4404",
          "4405",
          "4407",
          "4408",
          "4409",
          "4410",
          "4411",
          "4412",
          "4413",
          "4414",
          "4416",
          "4417",
          "4418",
          "4419",
          "4501",
          "4502",
          "4503",
          "4504",
          "4601",
          "4602",
          "4702",
          "4703",
          "4705",
          "4706",
          "4707",
          "4801",
          "4803",
          "4804",
          "4805",
          "4806",
          "4807",
          "4808",
          "4809",
          "4810",
          "4812",
          "4813",
          "4814",
          "4816",
          "4817",
          "4822",
          "4902",
          "4903",
          "4904",
          "4905",
          "4906",
          "4909",
          "5006",
          "5007",
          "5105",
          "5106",
          "5107",
          "5109",
          "5111",
          "5112",
          "5201",
          "5202",
          "5203",
          "5204",
          "5205",
          "5206",
          "5207",
          "5208",
          "5209",
          "5210",
          "5211",
          "5212",
          "5305",
          "5306",
          "5307",
          "5308",
          "5309",
          "5310",
          "5311",
          "5401",
          "5403",
          "5404",
          "5406",
          "5408",
          "5501",
          "5503",
          "5504",
          "5505",
          "5506",
          "5507",
          "5508",
          "5509",
          "5510",
          "5511",
          "5512",
          "5513",
          "5514",
          "5515",
          "5516",
          "5601",
          "5602",
          "5604",
          "5605",
          "5606",
          "5608",
          "5701",
          "5702",
          "5703",
          "5704",
          "5705",
          "5801",
          "5802",
          "5803",
          "5804",
          "5805",
          "5807",
          "5808",
          "5809",
          "5810",
          "5811",
          "5901",
          "5902",
          "5904",
          "5905",
          "5906",
          "5907",
          "5908",
          "5909",
          "5910",
          "6001",
          "6002",
          "6003",
          "6004",
          "6005",
          "6006",
          "6101",
          "6107",
          "6113",
          "6207",
          "6208",
          "6209",
          "6210",
          "6213",
          "6214",
          "6215",
          "6216",
          "6301",
          "6303",
          "6304",
          "6306",
          "6310",
          "6401",
          "6402",
          "6405",
          "6406",
          "6501",
          "6502",
          "6504",
          "6507",
          "6601",
          "6602",
          "6603",
          "6701",
          "6702",
          "6703",
          "6704",
          "6801",
          "6803",
          "6806",
          "6807",
          "6808",
          "6809",
          "6810",
          "6811",
          "6812",
          "6814",
          "6901",
          "6902",
          "6903",
          "6904",
          "6905",
          "6906",
          "6907",
          "6909",
          "6910",
          "6911",
          "6914",
          "7001",
          "7002",
          "7003",
          "7004",
          "7005",
          "7006",
          "7008",
          "7011",
          "7014",
          "7015",
          "7016",
          "7018",
          "7101",
          "7102",
          "7103",
          "7104",
          "7105",
          "7106",
          "7107",
          "7108",
          "7109",
          "7110",
          "7114",
          "7115",
          "7116",
          "7118",
          "7201",
          "7202",
          "7203",
          "7204",
          "7205",
          "7206",
          "7207",
          "7208",
          "7209",
          "7210",
          "7211",
          "7212",
          "7213",
          "7214",
          "7215",
          "7216",
          "7218",
          "7219",
          "7220",
          "7221",
          "7222",
          "7223",
          "7224",
          "7225",
          "7226",
          "7227",
          "7228",
          "7229",
          "7301",
          "7302",
          "7303",
          "7305",
          "7309",
          "7313",
          "7316",
          "7317",
          "7319",
          "7322",
          "7325",
          "7403",
          "7404",
          "7405",
          "7406",
          "7407",
          "7408",
          "7409",
          "7410",
          "7413",
          "7418",
          "7502",
          "7504",
          "7505",
          "7506",
          "7507",
          "7508",
          "7601",
          "7602",
          "7603",
          "7605",
          "7611",
          "7612",
          "7613",
          "7614",
          "7615",
          "7901",
          "7903",
          "7904",
          "7905",
          "7907",
          "8001",
          "8002",
          "8003",
          "8007",
          "8101",
          "8102",
          "8103",
          "8104",
          "8105",
          "8106",
          "8107",
          "8108",
          "8109",
          "8110",
          "8111",
          "8112",
          "8113",
          "8210",
          "8215",
          "8303",
          "8304",
          "8401",
          "8402",
          "8403",
          "8404",
          "8405",
          "8406",
          "8407",
          "8408",
          "8410",
          "8411",
          "8416",
          "8417",
          "8420",
          "8426",
          "8427",
          "8429",
          "8430",
          "8432",
          "8434",
          "8435",
          "8436",
          "8437",
          "8439",
          "8440",
          "8442",
          "8444",
          "8445",
          "8446",
          "8447",
          "8449",
          "8453",
          "8454",
          "8455",
          "8456",
          "8457",
          "8458",
          "8459",
          "8461",
          "8463",
          "8464",
          "8465",
          "8468",
          "8470",
          "8472",
          "8475",
          "8476",
          "8478",
          "8486",
          "8502",
          "8509",
          "8510",
          "8519",
          "8521",
          "8522",
          "8530",
          "8540",
          "8603",
          "8604",
          "8606",
          "8607",
          "8608",
          "8609",
          "8701",
          "8702",
          "8705",
          "8706",
          "8707",
          "8709",
          "8711",
          "8712",
          "8715",
          "8802",
          "8803",
          "8804",
          "8805",
          "8903",
          "8904",
          "8905",
          "8906",
          "8907",
          "9003",
          "9005",
          "9006",
          "9007",
          "9008",
          "9010",
          "9011",
          "9012",
          "9014",
          "9016",
          "9020",
          "9028",
          "9033",
          "9101",
          "9102",
          "9103",
          "9104",
          "9105",
          "9106",
          "9108",
          "9109",
          "9110",
          "9111",
          "9112",
          "9113",
          "9114",
          "9201",
          "9202",
          "9205",
          "9206",
          "9207",
          "9208",
          "9209",
          "9304",
          "9305",
          "9306",
          "9307",
          "9402",
          "9406",
          "9507",
          "9508",
          "9601",
          "9602",
          "9604",
          "9605",
          "9606",
          "9607",
          "9610",
          "9611",
          "9613",
          "9614",
          "9615",
          "9616",
          "9617",
          "9618",
          "9619",
          "9701",
          "9703",
          "9705",
          "9706",
          "Animales vivos y productos del reino animal",
          "Armas, municiones, y sus partes y accesorios",
          "Calzado, sombreros y demás tocados, paraguas, quitasoles, bastones, látigos, fustas y sus partes; plumas preparadas y artículos de plumas; flores artificiales; manufacturas de cabello",
          "Grasas y aceites animales o vegetales; productos de su desdoblamiento; grasas alimenticias elaboradas; ceras de origen animal o vegetal",
          "Instrumentos y aparatos de óptica, fotografía o cinematografía, de medida, control o precisión; instrumentos y aparatos médicoquirúrgicos; aparatos de relojería; instrumentos musicales; partes y accesorios de estos instrumentos o aparatos",
          "Madera, carbón vegetal y manufacturas de madera; corcho y sus manufacturas; manufacturas de espartería o cestería",
          "Manufacturas de piedra, yeso fraguable, cemento, amianto (asbesto), mica o materias análogas; productos cerámicos; vidrio y manufacturas de vidrio",
          "Material de transporte",
          "Materias textiles y sus manufacturas",
          "Mercancías y productos diversos",
          "Metales comunes y manufacturas de esos metales",
          "Máquinas y aparatos, material eléctrico y sus partes; aparatos de grabación o reproducción de sonido, aparatos de grabación o reproducción de imagen y sonido en televisión, y las partes y accesorios de estos aparatos",
          "Objetos de arte o colección y antigüedades",
          "Pasta de madera o de las demás materias fibrosas celulósicas; papel o cartón para reciclar (desperdicios y desechos); papel o cartón y sus aplicaciones",
          "Perlas finas (naturales) o cultivadas, piedras preciosas o semipreciosas, metales preciosos, chapados de metal precioso (plaqué) y manufacturas de estas materias; bisutería; monedas",
          "Pieles, cueros, peletería y manufacturas de estas materias; artículos de talabartería o guarnicionería; artículos de viaje, bolsos de mano (carteras) y continentes similares; manufacturas de tripa",
          "Plástico y sus manufacturas; caucho y sus manufacturas",
          "Productos de las industrias alimentarias; bebidas, líquidos alcohólicos y vinagre; tabaco y sucedáneos del tabaco elaborados",
          "Productos de las industrias químicas o de las industrias conexas",
          "Productos del reino vegetal",
          "Productos minerales"
         ],
         "marker": {
          "coloraxis": "coloraxis",
          "colors": [
           25087385.129839405,
           42890582.44946968,
           19638997.2323963,
           480461041.2029212,
           34136072.161991164,
           1110298492.588822,
           4830058.029432626,
           248948060.0127754,
           868485778.7386448,
           24301700,
           41205301.493502244,
           929529.8164049011,
           5198802.984504585,
           22413968.938117933,
           118627184.41246875,
           9188087.637646887,
           8292515.381241602,
           13786458.641731195,
           2469,
           19763800,
           767885799.8755803,
           30608200,
           90865597.36260858,
           135988504.12483037,
           354251313.15926737,
           183325491.64432484,
           162946397.7121189,
           620446,
           12747.005747612206,
           15068151.041843373,
           24536729.129307818,
           57121084.38439236,
           274816.63798751315,
           13841328.479599267,
           60291300,
           49311598.62925445,
           34598300,
           9158780,
           39817194.7166586,
           24699984.79879621,
           9344061.831746759,
           9118238.622298064,
           121925400.42479269,
           4274585.787471302,
           3028185.741524252,
           258535843.36843085,
           23754162.53344152,
           21945662.677686848,
           91339993.66485007,
           6234200,
           304993113.1777965,
           28516412.145873524,
           49461970.27369622,
           5876099.97824115,
           1199903.478492088,
           16507490.926159702,
           955,
           22329127.820794705,
           1781072.532791721,
           462178.83097163826,
           25192,
           60943625.53155603,
           2753892.60828901,
           291008.0098873833,
           3907880.535451331,
           912233.7803906634,
           640693799.6594155,
           50734907.07915006,
           49817700,
           2674681065.1591077,
           207436965.39710698,
           101575101.0912346,
           15448638.01537917,
           22059119.068123754,
           59962058.39238976,
           22592957.868971758,
           5723834.032506408,
           146496067.27198616,
           29869456.77296488,
           1394989.6126966677,
           1707349314.90976,
           99276990.12212221,
           560054000,
           5702548.874760953,
           30519006.234478444,
           1112570,
           57164551.84425547,
           2738753.1908907862,
           2446775.9573354125,
           576790,
           2394583.593713913,
           386202.78039038955,
           1910898.5056060848,
           19511176.016534247,
           182474000,
           126077,
           2528886.945080026,
           2988156.025035349,
           93791668.14638685,
           285272.75451512943,
           57715104.96725896,
           5556779.267879211,
           64426648.18351767,
           17915605.058162097,
           16308216.95713807,
           90227780.27842228,
           7455923.04696752,
           34545727.99851665,
           29582701.596250627,
           4005716.709916889,
           1084537.4275164295,
           93750,
           157260411.0373346,
           102931073.72404568,
           667218,
           31670668.35771094,
           18852469.034714695,
           30215714.172475133,
           469662,
           33414495.538862873,
           2413412.6953632007,
           13052571.760702977,
           9917380.915709184,
           516325.8205253224,
           55602374.802936345,
           2488202.140233177,
           99382221.53601032,
           1088683.7532172333,
           4684002.232654913,
           11353750.896027604,
           224681578.71356764,
           54664411.80188139,
           8698508.440706005,
           19966810.778075945,
           41011967.24249346,
           360886.2774039475,
           933607.5257866603,
           145242660.26267844,
           2985221.137304315,
           45203352.96828448,
           10200300,
           399195709.74177647,
           685069095.2014486,
           18626489.492530107,
           932347.5436402622,
           160492795.49543595,
           38678300,
           231478.71209746145,
           1752090,
           8791619.802177833,
           828871.6302870516,
           49601000,
           650302.1553936065,
           36408626.85285518,
           1296586.2581429938,
           69898745.5238275,
           41634179.541712545,
           110060.23278142694,
           91427,
           1313092.9087046625,
           771855.6504636283,
           3377389.232438976,
           64662,
           1194343.4134873701,
           423067.8550378412,
           4702848.598158301,
           1455309.6206353204,
           2606327.512396874,
           2710912.0242029196,
           1260699.5010603743,
           9726551.66129962,
           636257.8280767711,
           17585928.055397097,
           950361.8822092436,
           1962759.3159115817,
           7698862.596852339,
           151983893.1852584,
           10588444.888427205,
           947917057.1608907,
           4499482.207803429,
           25062000,
           33762633.43194963,
           1956685.2686674453,
           61876900,
           31575902.94723636,
           5666607.184587411,
           156434.69776874376,
           94050.01155246217,
           1458150,
           124357,
           6767450,
           2488370,
           40833662.36681745,
           1617380,
           13125282.707284935,
           108482360.21977901,
           46974152.62961869,
           571480.7756580471,
           6317582307.5662565,
           111510537.99712688,
           472596828.1273497,
           767378.7424434606,
           4609176.286157286,
           104129000,
           10280418.605011057,
           93295,
           29667382.92226566,
           46917203.75797673,
           2080775.5759291002,
           809677.7163314803,
           1076298.8487489994,
           1253545.8005101196,
           58288858.52111569,
           3285497.3828714457,
           3313399.8982320903,
           7139390.480467745,
           113733096.1935092,
           72153246.54191087,
           541319.0301158426,
           57352674.32482715,
           38457031.97852799,
           4700650.23422075,
           1707844.6246113367,
           6887337.84237649,
           4823298.150230269,
           8065227.63675433,
           647747.2760708616,
           7615128.121793856,
           2289622.1880897973,
           2735046.7364392616,
           4372314.0077345,
           2651213.204646032,
           10167493.90985839,
           1681759.5158920211,
           15851176.998104468,
           4965737.118319066,
           18316016.565568663,
           67146028.79059012,
           8580441.798871536,
           15291979.305586668,
           6932184.490847531,
           4670168.104432833,
           802364343.742406,
           2346104.7397835697,
           139875.3471922118,
           2841569.0183842746,
           21127789.369778357,
           8666095.577688958,
           2052382.475577019,
           265857.7901844036,
           1633551.3338918597,
           377041887.6738092,
           1029766213.5088086,
           427336165.6605336,
           9729537.961844828,
           23059744.729413673,
           25991612.71412341,
           2080576.1036974718,
           242301174.31190723,
           47189352.74669396,
           383805.4492935916,
           12005662.431001646,
           423255.45028086693,
           43837232.87803778,
           121534088.94418557,
           45501103.80372764,
           11116515.502166316,
           7009617.921417839,
           23963823.99759289,
           10824871.513899118,
           32437918.02493083,
           22654696.64521539,
           45319356.5526462,
           4644677.361922895,
           1375715.049169042,
           41361598.7155311,
           35358199.48261672,
           37094703.31495698,
           17143303.35458169,
           7353848.635977316,
           38339868.232699506,
           17661031.307905186,
           8187100.716511418,
           6376500.974736183,
           5420128.248577818,
           68283440.64138168,
           282862.6690376344,
           13556454.60862538,
           20576710.08162149,
           49491516.43528927,
           3109454.33272602,
           101975925.2582389,
           2311756.7417629035,
           21473240.074748382,
           84772970.17072295,
           6537471.052079058,
           2531519.897698147,
           81289328.31689945,
           6663214.380885991,
           27169149.519946445,
           5547372.497064512,
           1257855.904985412,
           19592719.04051673,
           809978.5108187338,
           17229129.720253233,
           29641934.03362225,
           2351607.160167148,
           3048375.9127249196,
           54438120.524103746,
           4561526.4100815095,
           14209991.364086678,
           13753085.073802106,
           27690896.505653672,
           20142847.3905499,
           5830970,
           29720425.68642728,
           18721622.792331472,
           434628.8573491932,
           337283,
           167821.31329344455,
           16923361.287938822,
           13599344.760970986,
           3216475.933914474,
           73229,
           128273.9054350933,
           6071,
           20872877.985047314,
           9506083.039679049,
           64940014.32948408,
           987851,
           2374684.7970977486,
           4410141.365375189,
           10374450.307149144,
           315764075.40268475,
           37013419.932274215,
           6148951.733296186,
           1120460299.1832964,
           25841597.79806066,
           72618047.62661932,
           407571.2048453418,
           15185234.048299616,
           17396745.460669536,
           11854401.121074717,
           42843542.704521306,
           2383260,
           536617184.87812173,
           99141526.35307921,
           63999287.75874486,
           36751393.38807934,
           13883533.351362733,
           6318219.3826592015,
           24676521.003820807,
           42763594.6708173,
           987951.700596668,
           2519066.18446361,
           199031686.45681047,
           2225486.6540788673,
           4693770.391371326,
           21550829.5811302,
           4463233.355304632,
           484396.02722248796,
           63179795.662018605,
           23453,
           4082307.6959012845,
           34121236.61630226,
           1827076.416521487,
           17541500,
           297563,
           1839954.939919091,
           16927462.794698395,
           320562.71195116633,
           5437318.695822393,
           8791600,
           132254.51456760318,
           158080.47119193568,
           345331.72706750594,
           1143991.0490916485,
           1622137.9138332466,
           11409500,
           486277.6188784352,
           1027660,
           160126080.74112397,
           19856482.852384526,
           60673981.84369397,
           25004670.39011975,
           29523645.68243419,
           51095686.21450136,
           1715757.4624898573,
           1877485.38677727,
           7986535.730519383,
           13789872.25056049,
           5636047.502983196,
           303594.75319049374,
           151314.48749390893,
           21191.36727272727,
           24599842.673704974,
           1093129.1644053734,
           426041.75173894473,
           2429393.051438164,
           4783334.958282921,
           208550987.42269543,
           8898930,
           5763696.305187913,
           335407653.2209372,
           16995729.999680944,
           44774847.958486155,
           440807040.5078096,
           277100021.6428702,
           3546400.755334093,
           15834717.46393092,
           281604989.1945648,
           5143709.479166846,
           207988588.9049577,
           235968.39634900796,
           5061109.797766056,
           1005434.9169039018,
           12418125.844389526,
           6646802.610120072,
           6942666.849503492,
           1624804.4102504042,
           4719448.70466584,
           49946.1344634835,
           84573.98787633782,
           301464.2160229856,
           793080.0528268048,
           4301.147853550123,
           141238.0530268409,
           4117924.712354443,
           39008,
           412991,
           37758.61897953123,
           3318843.5615831665,
           5737903.585118223,
           207668000,
           4808760,
           1298707.6442587906,
           284797.5061113643,
           10394173.155832762,
           1854656.4139799285,
           87418.33307306324,
           13517220.276657553,
           62424223.022686906,
           3735191.4128631996,
           60073865.42727211,
           107968.31468394445,
           21243577.63124297,
           61975.09584368682,
           580105.0516852466,
           1713280.9727384048,
           980676.8699781935,
           98276.71000367246,
           351282.1752067903,
           23435632.437722936,
           1620223.4318829274,
           38284268.28177046,
           339536.4945023868,
           1797624.8754867879,
           728782.970373892,
           23885582.73214225,
           3788488.582114841,
           1013931.9907516708,
           628132.9536388179,
           37780,
           5636855.231462201,
           13765565.662862355,
           2271691.2316853106,
           1946072.2809871081,
           61636980.49620779,
           31268018.992736,
           22750627.383404344,
           16637137.243146127,
           10121833.36904356,
           17605160.56339271,
           29587771.39944983,
           3753166.4347204342,
           346845.14068010024,
           2119172.3982659196,
           2075086.4885789484,
           423161.490963661,
           2469968.159848337,
           41604409.763420545,
           3217916.6105008386,
           5247491.048469952,
           5913993.736668295,
           102152.3698867361,
           3650287.0065217935,
           2099120.9252704633,
           1379,
           7420923.453218494,
           1592680.0980783675,
           59336.21369463379,
           5733151.13945275,
           5876981.407722789,
           1440831.7853785262,
           12217275.891523708,
           126487.21044073421,
           164947.4791301135,
           30540353.3051669,
           3429970.6060570218,
           711676.2428566943,
           2850734.6648325226,
           1794757.6991858152,
           103801868.4297113,
           5372666.318737686,
           1515466.3880680306,
           40635105.531637065,
           27778320.92130283,
           48836730.70170929,
           808970.5480844686,
           5522720.470166498,
           2080124.3510894128,
           723096.1582753657,
           2198193.522600409,
           3490614.7198760244,
           43966698.96742237,
           164393.01742093582,
           3433249.8696702,
           1369341.8339566786,
           458581.5556167288,
           8991074.376830433,
           14304498.207709992,
           5516505.497543347,
           16988328.650016423,
           11522828.789682576,
           1832086.4919961,
           35265640.77333988,
           8692174.589402026,
           11231305.465889288,
           2652614.366748426,
           2477050,
           2410322.1344229346,
           2471388.541138997,
           16574707.445903702,
           830848.5009197732,
           4587648.47613011,
           393207.0797785452,
           30956922.094654594,
           57663.64197505412,
           2494939.913292012,
           304629.78082039446,
           669276.0901617464,
           28857003.445631336,
           7572952.998821567,
           194291.82604463695,
           5241824.45357431,
           4369877.57139639,
           218924.76980902953,
           660709.0559772688,
           1833717.6137984898,
           671000.3836760139,
           26880743.315937527,
           24406576.6476497,
           536813,
           46670.363803107735,
           258391.11522317457,
           15039995.893925078,
           100937559.02746575,
           1861420,
           417909.4265809489,
           11723129.389874276,
           10688200,
           33497038.626137987,
           1825027.954833283,
           148664.28809242422,
           27747028.729636796,
           2658947.4304785943,
           3729761.836946191,
           383359.13663311617,
           1031052.0326620296,
           1647764.0882984316,
           11418482.30462895,
           4629394.8674778165,
           118546.17482522425,
           52738716.24843166,
           608741.4949818811,
           3841580.00094682,
           404308.611196565,
           70415801.26691821,
           2087220.2924644486,
           44592056.268119946,
           399751.79424767935,
           13659206.46776922,
           104186.70364165124,
           28562813.08026282,
           2354545.013564967,
           8036.0090448013525,
           61848201.30281417,
           16442592.862035032,
           63591000,
           550827820.3863652,
           18863814.438935485,
           678725,
           627846161.5200275,
           418459721.26509476,
           117575525.92126824,
           237192376.15069756,
           75009032.69381748,
           78987304.0317291,
           4534296.721629651,
           46482037.58858458,
           27291079.003723904,
           30655158.43094331,
           4908780,
           270462804.70573735,
           53908141.03299234,
           6867813.557656069,
           19355434.34709528,
           22272700.632843785,
           19469879.339046862,
           377708989.50586015,
           28084930.61633991,
           14695993.127112022,
           95650983.79705271,
           13752462.449111465,
           4668320.546916798,
           40097300.995273404,
           2401166.0723786345,
           6678492.715556473,
           40721155.58478217,
           731629.4772623918,
           181232.3211984991,
           4355511.396230925,
           1207974.8947875637,
           19545736.174799155,
           16849667.06603933,
           526520614.21213806,
           29212900,
           2578896.899370873,
           2234211.4997152686,
           55072453.15390829,
           570331608.3907018,
           118417673.63140802,
           12593940.875952477,
           113856727.39085636,
           5251023.669504266,
           17659461.778658215,
           2138610.0455722553,
           72047760.49896742,
           11361996.422927497,
           7296575.345386531,
           28668266.97398594,
           203720743.1151039,
           128723908.10696043,
           803686.5354673322,
           7335010.325336258,
           4073000,
           28356892.985017147,
           12475380.400403872,
           2987663.14002953,
           9083113.24614687,
           20581749.03676872,
           11975863.42218061,
           20979858.53576504,
           12031120.599861251,
           29456936.764298975,
           11130293.185448155,
           41811,
           23433950.650097974,
           2073694.5858790164,
           14419609.858484363,
           760154.4591301018,
           13536681.4229561,
           41058183.95561827,
           2379658.4450139785,
           1090909.764672404,
           15449.13809761147,
           74574044.61233327,
           692661.897946367,
           1214402.5144189256,
           6560948.903486543,
           1388619.5216116353,
           1264330.9970688252,
           3970944.2080154074,
           10323423.216303192,
           9349694.881395012,
           1449193.7651215852,
           57425600,
           5647187.9273725115,
           734794.6492444598,
           3350386.139369007,
           20443158.246110167,
           9944207.518596677,
           963860576.5360799,
           3355092343.804576,
           873224.851892324,
           1468546586.605822,
           12484410.661107762,
           26844756.07859933,
           3867305.915538658,
           15301658.235424913,
           196834021.61738104,
           74326755.66886525,
           22029676.66072515,
           12987767.02711707,
           2241719.8706224943,
           814286.1902651723,
           22297325.125364542,
           5475325.020972591,
           12829949.17825801,
           2980252.5129246945,
           9354149.969908152,
           2170042.214911229,
           5594382.916050222,
           2259675.7049118043,
           9469129.048291601,
           20241874.335989807,
           7999858.026061449,
           9603722.32470969,
           39958262.16884835,
           32922381.515654758,
           58269692.578684606,
           25527713.540312186,
           8703975.718641069,
           9865147.33506454,
           11665821.717677921,
           10307457.450202312,
           10119329.53816476,
           7695418.423132012,
           26287405.5263154,
           15828169.311781773,
           93978857.06987235,
           14418727.964803481,
           5526971.616393041,
           37817879.32754125,
           110968901.90026765,
           59976284.27397926,
           34056820.88002455,
           16829186.293214362,
           2958656.051900985,
           24490898.370983917,
           13815367.798957463,
           2618321.4358955296,
           8934570,
           6559980,
           100475000,
           267097588.7151067,
           3239456.995057267,
           1722160.5832998857,
           116089657.31018557,
           34435944.702816345,
           52756574.60535533,
           12883890.515061576,
           18433486.464001402,
           5735329.047718242,
           60564051.76376791,
           31734753.657031935,
           20671408.073254637,
           20810189.009871654,
           91395554.20276748,
           97478.27458433193,
           151478.18913770377,
           2993157.1443783646,
           2001130,
           14440900,
           2598592.8262413167,
           3610419.32429334,
           44860252.67303929,
           1956335.7499869652,
           3949301.846767152,
           1884238.80107171,
           138408.97025612066,
           1245176.5636222789,
           4210091.6669746665,
           1962703.1107504626,
           35445803.34741395,
           1663649.295301493,
           20063065.19472494,
           243812707.92818618,
           11832573.460892249,
           44532152.61079812,
           70346796.4721655,
           1695324.7677590016,
           170098.97013420402,
           4979971.288044995,
           1032421.3848126137,
           459230.35723835294,
           183511,
           36576.83571111642,
           94201.93201628381,
           163982.1447951258,
           1205623.0063528991,
           1200977.9269400465,
           739998.9204703517,
           4335330.47786387,
           2947213.6637633396,
           1525793.483484157,
           7863319.087676494,
           160504.6260984491,
           3558437.791026852,
           824722.6526788395,
           5764818.499565277,
           6090371.364928695,
           37295.90242388217,
           14669834.328229658,
           21711988.86708136,
           1792081.8597410459,
           2934199.839064736,
           58544.99114261551,
           17678378.552085947,
           1301639.522345575,
           645138.7211077447,
           6072414.81220013,
           44511540.102777675,
           2465119.618716435,
           701401.8389135208,
           10620602.99336811,
           136040.56777143822,
           9362431.391451616,
           10711378.92311088,
           50370269.62656212,
           1385451.7231687873,
           18048732.62570082,
           5649704.511441531,
           1803060.1714147707,
           266970.76337641285,
           58995.417361760265,
           605036291.1516957,
           5038502.732269633,
           24073064.34856264,
           76378440.21877597,
           100359537.42449282,
           84923044.14872721,
           32932662.32695407,
           120031193.07878307,
           47629887.38936664,
           23433131.303289074,
           282783082.7272101,
           1535530366.6996741,
           4614858.151443514,
           271546013.977782,
           47173232.50643959,
           34239573.91122428,
           239185975.70030665,
           260324347.26074305,
           342912367.2427635,
           1244117007.0956423,
           4489851345.849742
          ]
         },
         "name": "",
         "parents": [
          "Animales vivos y productos del reino animal",
          "Animales vivos y productos del reino animal",
          "Animales vivos y productos del reino animal",
          "Animales vivos y productos del reino animal",
          "Animales vivos y productos del reino animal",
          "Animales vivos y productos del reino animal",
          "Animales vivos y productos del reino animal",
          "Animales vivos y productos del reino animal",
          "Animales vivos y productos del reino animal",
          "Animales vivos y productos del reino animal",
          "Animales vivos y productos del reino animal",
          "Animales vivos y productos del reino animal",
          "Animales vivos y productos del reino animal",
          "Animales vivos y productos del reino animal",
          "Animales vivos y productos del reino animal",
          "Animales vivos y productos del reino animal",
          "Animales vivos y productos del reino animal",
          "Animales vivos y productos del reino animal",
          "Animales vivos y productos del reino animal",
          "Animales vivos y productos del reino animal",
          "Animales vivos y productos del reino animal",
          "Animales vivos y productos del reino animal",
          "Animales vivos y productos del reino animal",
          "Animales vivos y productos del reino animal",
          "Animales vivos y productos del reino animal",
          "Animales vivos y productos del reino animal",
          "Animales vivos y productos del reino animal",
          "Animales vivos y productos del reino animal",
          "Animales vivos y productos del reino animal",
          "Animales vivos y productos del reino animal",
          "Productos del reino vegetal",
          "Productos del reino vegetal",
          "Productos del reino vegetal",
          "Productos del reino vegetal",
          "Productos del reino vegetal",
          "Productos del reino vegetal",
          "Productos del reino vegetal",
          "Productos del reino vegetal",
          "Productos del reino vegetal",
          "Productos del reino vegetal",
          "Productos del reino vegetal",
          "Productos del reino vegetal",
          "Productos del reino vegetal",
          "Productos del reino vegetal",
          "Productos del reino vegetal",
          "Productos del reino vegetal",
          "Productos del reino vegetal",
          "Productos del reino vegetal",
          "Productos del reino vegetal",
          "Productos del reino vegetal",
          "Productos del reino vegetal",
          "Productos del reino vegetal",
          "Productos del reino vegetal",
          "Productos del reino vegetal",
          "Productos del reino vegetal",
          "Productos del reino vegetal",
          "Productos del reino vegetal",
          "Productos del reino vegetal",
          "Productos del reino vegetal",
          "Productos del reino vegetal",
          "Productos del reino vegetal",
          "Productos del reino vegetal",
          "Productos del reino vegetal",
          "Productos del reino vegetal",
          "Productos del reino vegetal",
          "Productos del reino vegetal",
          "Productos del reino vegetal",
          "Productos del reino vegetal",
          "Productos del reino vegetal",
          "Productos del reino vegetal",
          "Productos del reino vegetal",
          "Productos del reino vegetal",
          "Productos del reino vegetal",
          "Productos del reino vegetal",
          "Productos del reino vegetal",
          "Productos del reino vegetal",
          "Productos del reino vegetal",
          "Productos del reino vegetal",
          "Productos del reino vegetal",
          "Productos del reino vegetal",
          "Productos del reino vegetal",
          "Productos del reino vegetal",
          "Productos del reino vegetal",
          "Productos del reino vegetal",
          "Productos del reino vegetal",
          "Productos del reino vegetal",
          "Productos del reino vegetal",
          "Productos del reino vegetal",
          "Productos del reino vegetal",
          "Productos del reino vegetal",
          "Productos del reino vegetal",
          "Productos del reino vegetal",
          "Productos del reino vegetal",
          "Grasas y aceites animales o vegetales; productos de su desdoblamiento; grasas alimenticias elaboradas; ceras de origen animal o vegetal",
          "Grasas y aceites animales o vegetales; productos de su desdoblamiento; grasas alimenticias elaboradas; ceras de origen animal o vegetal",
          "Grasas y aceites animales o vegetales; productos de su desdoblamiento; grasas alimenticias elaboradas; ceras de origen animal o vegetal",
          "Grasas y aceites animales o vegetales; productos de su desdoblamiento; grasas alimenticias elaboradas; ceras de origen animal o vegetal",
          "Grasas y aceites animales o vegetales; productos de su desdoblamiento; grasas alimenticias elaboradas; ceras de origen animal o vegetal",
          "Grasas y aceites animales o vegetales; productos de su desdoblamiento; grasas alimenticias elaboradas; ceras de origen animal o vegetal",
          "Grasas y aceites animales o vegetales; productos de su desdoblamiento; grasas alimenticias elaboradas; ceras de origen animal o vegetal",
          "Grasas y aceites animales o vegetales; productos de su desdoblamiento; grasas alimenticias elaboradas; ceras de origen animal o vegetal",
          "Grasas y aceites animales o vegetales; productos de su desdoblamiento; grasas alimenticias elaboradas; ceras de origen animal o vegetal",
          "Grasas y aceites animales o vegetales; productos de su desdoblamiento; grasas alimenticias elaboradas; ceras de origen animal o vegetal",
          "Grasas y aceites animales o vegetales; productos de su desdoblamiento; grasas alimenticias elaboradas; ceras de origen animal o vegetal",
          "Grasas y aceites animales o vegetales; productos de su desdoblamiento; grasas alimenticias elaboradas; ceras de origen animal o vegetal",
          "Grasas y aceites animales o vegetales; productos de su desdoblamiento; grasas alimenticias elaboradas; ceras de origen animal o vegetal",
          "Grasas y aceites animales o vegetales; productos de su desdoblamiento; grasas alimenticias elaboradas; ceras de origen animal o vegetal",
          "Grasas y aceites animales o vegetales; productos de su desdoblamiento; grasas alimenticias elaboradas; ceras de origen animal o vegetal",
          "Grasas y aceites animales o vegetales; productos de su desdoblamiento; grasas alimenticias elaboradas; ceras de origen animal o vegetal",
          "Grasas y aceites animales o vegetales; productos de su desdoblamiento; grasas alimenticias elaboradas; ceras de origen animal o vegetal",
          "Grasas y aceites animales o vegetales; productos de su desdoblamiento; grasas alimenticias elaboradas; ceras de origen animal o vegetal",
          "Grasas y aceites animales o vegetales; productos de su desdoblamiento; grasas alimenticias elaboradas; ceras de origen animal o vegetal",
          "Productos de las industrias alimentarias; bebidas, líquidos alcohólicos y vinagre; tabaco y sucedáneos del tabaco elaborados",
          "Productos de las industrias alimentarias; bebidas, líquidos alcohólicos y vinagre; tabaco y sucedáneos del tabaco elaborados",
          "Productos de las industrias alimentarias; bebidas, líquidos alcohólicos y vinagre; tabaco y sucedáneos del tabaco elaborados",
          "Productos de las industrias alimentarias; bebidas, líquidos alcohólicos y vinagre; tabaco y sucedáneos del tabaco elaborados",
          "Productos de las industrias alimentarias; bebidas, líquidos alcohólicos y vinagre; tabaco y sucedáneos del tabaco elaborados",
          "Productos de las industrias alimentarias; bebidas, líquidos alcohólicos y vinagre; tabaco y sucedáneos del tabaco elaborados",
          "Productos de las industrias alimentarias; bebidas, líquidos alcohólicos y vinagre; tabaco y sucedáneos del tabaco elaborados",
          "Productos de las industrias alimentarias; bebidas, líquidos alcohólicos y vinagre; tabaco y sucedáneos del tabaco elaborados",
          "Productos de las industrias alimentarias; bebidas, líquidos alcohólicos y vinagre; tabaco y sucedáneos del tabaco elaborados",
          "Productos de las industrias alimentarias; bebidas, líquidos alcohólicos y vinagre; tabaco y sucedáneos del tabaco elaborados",
          "Productos de las industrias alimentarias; bebidas, líquidos alcohólicos y vinagre; tabaco y sucedáneos del tabaco elaborados",
          "Productos de las industrias alimentarias; bebidas, líquidos alcohólicos y vinagre; tabaco y sucedáneos del tabaco elaborados",
          "Productos de las industrias alimentarias; bebidas, líquidos alcohólicos y vinagre; tabaco y sucedáneos del tabaco elaborados",
          "Productos de las industrias alimentarias; bebidas, líquidos alcohólicos y vinagre; tabaco y sucedáneos del tabaco elaborados",
          "Productos de las industrias alimentarias; bebidas, líquidos alcohólicos y vinagre; tabaco y sucedáneos del tabaco elaborados",
          "Productos de las industrias alimentarias; bebidas, líquidos alcohólicos y vinagre; tabaco y sucedáneos del tabaco elaborados",
          "Productos de las industrias alimentarias; bebidas, líquidos alcohólicos y vinagre; tabaco y sucedáneos del tabaco elaborados",
          "Productos de las industrias alimentarias; bebidas, líquidos alcohólicos y vinagre; tabaco y sucedáneos del tabaco elaborados",
          "Productos de las industrias alimentarias; bebidas, líquidos alcohólicos y vinagre; tabaco y sucedáneos del tabaco elaborados",
          "Productos de las industrias alimentarias; bebidas, líquidos alcohólicos y vinagre; tabaco y sucedáneos del tabaco elaborados",
          "Productos de las industrias alimentarias; bebidas, líquidos alcohólicos y vinagre; tabaco y sucedáneos del tabaco elaborados",
          "Productos de las industrias alimentarias; bebidas, líquidos alcohólicos y vinagre; tabaco y sucedáneos del tabaco elaborados",
          "Productos de las industrias alimentarias; bebidas, líquidos alcohólicos y vinagre; tabaco y sucedáneos del tabaco elaborados",
          "Productos de las industrias alimentarias; bebidas, líquidos alcohólicos y vinagre; tabaco y sucedáneos del tabaco elaborados",
          "Productos de las industrias alimentarias; bebidas, líquidos alcohólicos y vinagre; tabaco y sucedáneos del tabaco elaborados",
          "Productos de las industrias alimentarias; bebidas, líquidos alcohólicos y vinagre; tabaco y sucedáneos del tabaco elaborados",
          "Productos de las industrias alimentarias; bebidas, líquidos alcohólicos y vinagre; tabaco y sucedáneos del tabaco elaborados",
          "Productos de las industrias alimentarias; bebidas, líquidos alcohólicos y vinagre; tabaco y sucedáneos del tabaco elaborados",
          "Productos de las industrias alimentarias; bebidas, líquidos alcohólicos y vinagre; tabaco y sucedáneos del tabaco elaborados",
          "Productos de las industrias alimentarias; bebidas, líquidos alcohólicos y vinagre; tabaco y sucedáneos del tabaco elaborados",
          "Productos de las industrias alimentarias; bebidas, líquidos alcohólicos y vinagre; tabaco y sucedáneos del tabaco elaborados",
          "Productos de las industrias alimentarias; bebidas, líquidos alcohólicos y vinagre; tabaco y sucedáneos del tabaco elaborados",
          "Productos de las industrias alimentarias; bebidas, líquidos alcohólicos y vinagre; tabaco y sucedáneos del tabaco elaborados",
          "Productos de las industrias alimentarias; bebidas, líquidos alcohólicos y vinagre; tabaco y sucedáneos del tabaco elaborados",
          "Productos de las industrias alimentarias; bebidas, líquidos alcohólicos y vinagre; tabaco y sucedáneos del tabaco elaborados",
          "Productos de las industrias alimentarias; bebidas, líquidos alcohólicos y vinagre; tabaco y sucedáneos del tabaco elaborados",
          "Productos de las industrias alimentarias; bebidas, líquidos alcohólicos y vinagre; tabaco y sucedáneos del tabaco elaborados",
          "Productos minerales",
          "Productos minerales",
          "Productos minerales",
          "Productos minerales",
          "Productos minerales",
          "Productos minerales",
          "Productos minerales",
          "Productos minerales",
          "Productos minerales",
          "Productos minerales",
          "Productos minerales",
          "Productos minerales",
          "Productos minerales",
          "Productos minerales",
          "Productos minerales",
          "Productos minerales",
          "Productos minerales",
          "Productos minerales",
          "Productos minerales",
          "Productos minerales",
          "Productos minerales",
          "Productos minerales",
          "Productos minerales",
          "Productos minerales",
          "Productos minerales",
          "Productos minerales",
          "Productos minerales",
          "Productos minerales",
          "Productos minerales",
          "Productos minerales",
          "Productos minerales",
          "Productos minerales",
          "Productos minerales",
          "Productos minerales",
          "Productos minerales",
          "Productos minerales",
          "Productos minerales",
          "Productos minerales",
          "Productos minerales",
          "Productos minerales",
          "Productos minerales",
          "Productos minerales",
          "Productos minerales",
          "Productos minerales",
          "Productos minerales",
          "Productos minerales",
          "Productos minerales",
          "Productos minerales",
          "Productos minerales",
          "Productos minerales",
          "Productos minerales",
          "Productos minerales",
          "Productos minerales",
          "Productos minerales",
          "Productos minerales",
          "Productos de las industrias químicas o de las industrias conexas",
          "Productos de las industrias químicas o de las industrias conexas",
          "Productos de las industrias químicas o de las industrias conexas",
          "Productos de las industrias químicas o de las industrias conexas",
          "Productos de las industrias químicas o de las industrias conexas",
          "Productos de las industrias químicas o de las industrias conexas",
          "Productos de las industrias químicas o de las industrias conexas",
          "Productos de las industrias químicas o de las industrias conexas",
          "Productos de las industrias químicas o de las industrias conexas",
          "Productos de las industrias químicas o de las industrias conexas",
          "Productos de las industrias químicas o de las industrias conexas",
          "Productos de las industrias químicas o de las industrias conexas",
          "Productos de las industrias químicas o de las industrias conexas",
          "Productos de las industrias químicas o de las industrias conexas",
          "Productos de las industrias químicas o de las industrias conexas",
          "Productos de las industrias químicas o de las industrias conexas",
          "Productos de las industrias químicas o de las industrias conexas",
          "Productos de las industrias químicas o de las industrias conexas",
          "Productos de las industrias químicas o de las industrias conexas",
          "Productos de las industrias químicas o de las industrias conexas",
          "Productos de las industrias químicas o de las industrias conexas",
          "Productos de las industrias químicas o de las industrias conexas",
          "Productos de las industrias químicas o de las industrias conexas",
          "Productos de las industrias químicas o de las industrias conexas",
          "Productos de las industrias químicas o de las industrias conexas",
          "Productos de las industrias químicas o de las industrias conexas",
          "Productos de las industrias químicas o de las industrias conexas",
          "Productos de las industrias químicas o de las industrias conexas",
          "Productos de las industrias químicas o de las industrias conexas",
          "Productos de las industrias químicas o de las industrias conexas",
          "Productos de las industrias químicas o de las industrias conexas",
          "Productos de las industrias químicas o de las industrias conexas",
          "Productos de las industrias químicas o de las industrias conexas",
          "Productos de las industrias químicas o de las industrias conexas",
          "Productos de las industrias químicas o de las industrias conexas",
          "Productos de las industrias químicas o de las industrias conexas",
          "Productos de las industrias químicas o de las industrias conexas",
          "Productos de las industrias químicas o de las industrias conexas",
          "Productos de las industrias químicas o de las industrias conexas",
          "Productos de las industrias químicas o de las industrias conexas",
          "Productos de las industrias químicas o de las industrias conexas",
          "Productos de las industrias químicas o de las industrias conexas",
          "Productos de las industrias químicas o de las industrias conexas",
          "Productos de las industrias químicas o de las industrias conexas",
          "Productos de las industrias químicas o de las industrias conexas",
          "Productos de las industrias químicas o de las industrias conexas",
          "Productos de las industrias químicas o de las industrias conexas",
          "Productos de las industrias químicas o de las industrias conexas",
          "Productos de las industrias químicas o de las industrias conexas",
          "Productos de las industrias químicas o de las industrias conexas",
          "Productos de las industrias químicas o de las industrias conexas",
          "Productos de las industrias químicas o de las industrias conexas",
          "Productos de las industrias químicas o de las industrias conexas",
          "Productos de las industrias químicas o de las industrias conexas",
          "Productos de las industrias químicas o de las industrias conexas",
          "Productos de las industrias químicas o de las industrias conexas",
          "Productos de las industrias químicas o de las industrias conexas",
          "Productos de las industrias químicas o de las industrias conexas",
          "Productos de las industrias químicas o de las industrias conexas",
          "Productos de las industrias químicas o de las industrias conexas",
          "Productos de las industrias químicas o de las industrias conexas",
          "Productos de las industrias químicas o de las industrias conexas",
          "Productos de las industrias químicas o de las industrias conexas",
          "Productos de las industrias químicas o de las industrias conexas",
          "Productos de las industrias químicas o de las industrias conexas",
          "Productos de las industrias químicas o de las industrias conexas",
          "Productos de las industrias químicas o de las industrias conexas",
          "Productos de las industrias químicas o de las industrias conexas",
          "Productos de las industrias químicas o de las industrias conexas",
          "Productos de las industrias químicas o de las industrias conexas",
          "Productos de las industrias químicas o de las industrias conexas",
          "Productos de las industrias químicas o de las industrias conexas",
          "Productos de las industrias químicas o de las industrias conexas",
          "Productos de las industrias químicas o de las industrias conexas",
          "Productos de las industrias químicas o de las industrias conexas",
          "Productos de las industrias químicas o de las industrias conexas",
          "Productos de las industrias químicas o de las industrias conexas",
          "Productos de las industrias químicas o de las industrias conexas",
          "Productos de las industrias químicas o de las industrias conexas",
          "Productos de las industrias químicas o de las industrias conexas",
          "Productos de las industrias químicas o de las industrias conexas",
          "Productos de las industrias químicas o de las industrias conexas",
          "Productos de las industrias químicas o de las industrias conexas",
          "Productos de las industrias químicas o de las industrias conexas",
          "Productos de las industrias químicas o de las industrias conexas",
          "Productos de las industrias químicas o de las industrias conexas",
          "Productos de las industrias químicas o de las industrias conexas",
          "Productos de las industrias químicas o de las industrias conexas",
          "Productos de las industrias químicas o de las industrias conexas",
          "Productos de las industrias químicas o de las industrias conexas",
          "Productos de las industrias químicas o de las industrias conexas",
          "Productos de las industrias químicas o de las industrias conexas",
          "Productos de las industrias químicas o de las industrias conexas",
          "Productos de las industrias químicas o de las industrias conexas",
          "Productos de las industrias químicas o de las industrias conexas",
          "Productos de las industrias químicas o de las industrias conexas",
          "Productos de las industrias químicas o de las industrias conexas",
          "Productos de las industrias químicas o de las industrias conexas",
          "Productos de las industrias químicas o de las industrias conexas",
          "Productos de las industrias químicas o de las industrias conexas",
          "Productos de las industrias químicas o de las industrias conexas",
          "Productos de las industrias químicas o de las industrias conexas",
          "Productos de las industrias químicas o de las industrias conexas",
          "Productos de las industrias químicas o de las industrias conexas",
          "Productos de las industrias químicas o de las industrias conexas",
          "Productos de las industrias químicas o de las industrias conexas",
          "Productos de las industrias químicas o de las industrias conexas",
          "Productos de las industrias químicas o de las industrias conexas",
          "Productos de las industrias químicas o de las industrias conexas",
          "Productos de las industrias químicas o de las industrias conexas",
          "Productos de las industrias químicas o de las industrias conexas",
          "Productos de las industrias químicas o de las industrias conexas",
          "Productos de las industrias químicas o de las industrias conexas",
          "Productos de las industrias químicas o de las industrias conexas",
          "Productos de las industrias químicas o de las industrias conexas",
          "Productos de las industrias químicas o de las industrias conexas",
          "Productos de las industrias químicas o de las industrias conexas",
          "Productos de las industrias químicas o de las industrias conexas",
          "Productos de las industrias químicas o de las industrias conexas",
          "Productos de las industrias químicas o de las industrias conexas",
          "Productos de las industrias químicas o de las industrias conexas",
          "Productos de las industrias químicas o de las industrias conexas",
          "Productos de las industrias químicas o de las industrias conexas",
          "Productos de las industrias químicas o de las industrias conexas",
          "Productos de las industrias químicas o de las industrias conexas",
          "Productos de las industrias químicas o de las industrias conexas",
          "Productos de las industrias químicas o de las industrias conexas",
          "Productos de las industrias químicas o de las industrias conexas",
          "Productos de las industrias químicas o de las industrias conexas",
          "Productos de las industrias químicas o de las industrias conexas",
          "Productos de las industrias químicas o de las industrias conexas",
          "Productos de las industrias químicas o de las industrias conexas",
          "Productos de las industrias químicas o de las industrias conexas",
          "Productos de las industrias químicas o de las industrias conexas",
          "Productos de las industrias químicas o de las industrias conexas",
          "Productos de las industrias químicas o de las industrias conexas",
          "Productos de las industrias químicas o de las industrias conexas",
          "Productos de las industrias químicas o de las industrias conexas",
          "Productos de las industrias químicas o de las industrias conexas",
          "Productos de las industrias químicas o de las industrias conexas",
          "Productos de las industrias químicas o de las industrias conexas",
          "Plástico y sus manufacturas; caucho y sus manufacturas",
          "Plástico y sus manufacturas; caucho y sus manufacturas",
          "Plástico y sus manufacturas; caucho y sus manufacturas",
          "Plástico y sus manufacturas; caucho y sus manufacturas",
          "Plástico y sus manufacturas; caucho y sus manufacturas",
          "Plástico y sus manufacturas; caucho y sus manufacturas",
          "Plástico y sus manufacturas; caucho y sus manufacturas",
          "Plástico y sus manufacturas; caucho y sus manufacturas",
          "Plástico y sus manufacturas; caucho y sus manufacturas",
          "Plástico y sus manufacturas; caucho y sus manufacturas",
          "Plástico y sus manufacturas; caucho y sus manufacturas",
          "Plástico y sus manufacturas; caucho y sus manufacturas",
          "Plástico y sus manufacturas; caucho y sus manufacturas",
          "Plástico y sus manufacturas; caucho y sus manufacturas",
          "Plástico y sus manufacturas; caucho y sus manufacturas",
          "Plástico y sus manufacturas; caucho y sus manufacturas",
          "Pieles, cueros, peletería y manufacturas de estas materias; artículos de talabartería o guarnicionería; artículos de viaje, bolsos de mano (carteras) y continentes similares; manufacturas de tripa",
          "Pieles, cueros, peletería y manufacturas de estas materias; artículos de talabartería o guarnicionería; artículos de viaje, bolsos de mano (carteras) y continentes similares; manufacturas de tripa",
          "Pieles, cueros, peletería y manufacturas de estas materias; artículos de talabartería o guarnicionería; artículos de viaje, bolsos de mano (carteras) y continentes similares; manufacturas de tripa",
          "Pieles, cueros, peletería y manufacturas de estas materias; artículos de talabartería o guarnicionería; artículos de viaje, bolsos de mano (carteras) y continentes similares; manufacturas de tripa",
          "Pieles, cueros, peletería y manufacturas de estas materias; artículos de talabartería o guarnicionería; artículos de viaje, bolsos de mano (carteras) y continentes similares; manufacturas de tripa",
          "Pieles, cueros, peletería y manufacturas de estas materias; artículos de talabartería o guarnicionería; artículos de viaje, bolsos de mano (carteras) y continentes similares; manufacturas de tripa",
          "Pieles, cueros, peletería y manufacturas de estas materias; artículos de talabartería o guarnicionería; artículos de viaje, bolsos de mano (carteras) y continentes similares; manufacturas de tripa",
          "Pieles, cueros, peletería y manufacturas de estas materias; artículos de talabartería o guarnicionería; artículos de viaje, bolsos de mano (carteras) y continentes similares; manufacturas de tripa",
          "Pieles, cueros, peletería y manufacturas de estas materias; artículos de talabartería o guarnicionería; artículos de viaje, bolsos de mano (carteras) y continentes similares; manufacturas de tripa",
          "Pieles, cueros, peletería y manufacturas de estas materias; artículos de talabartería o guarnicionería; artículos de viaje, bolsos de mano (carteras) y continentes similares; manufacturas de tripa",
          "Pieles, cueros, peletería y manufacturas de estas materias; artículos de talabartería o guarnicionería; artículos de viaje, bolsos de mano (carteras) y continentes similares; manufacturas de tripa",
          "Pieles, cueros, peletería y manufacturas de estas materias; artículos de talabartería o guarnicionería; artículos de viaje, bolsos de mano (carteras) y continentes similares; manufacturas de tripa",
          "Pieles, cueros, peletería y manufacturas de estas materias; artículos de talabartería o guarnicionería; artículos de viaje, bolsos de mano (carteras) y continentes similares; manufacturas de tripa",
          "Pieles, cueros, peletería y manufacturas de estas materias; artículos de talabartería o guarnicionería; artículos de viaje, bolsos de mano (carteras) y continentes similares; manufacturas de tripa",
          "Pieles, cueros, peletería y manufacturas de estas materias; artículos de talabartería o guarnicionería; artículos de viaje, bolsos de mano (carteras) y continentes similares; manufacturas de tripa",
          "Madera, carbón vegetal y manufacturas de madera; corcho y sus manufacturas; manufacturas de espartería o cestería",
          "Madera, carbón vegetal y manufacturas de madera; corcho y sus manufacturas; manufacturas de espartería o cestería",
          "Madera, carbón vegetal y manufacturas de madera; corcho y sus manufacturas; manufacturas de espartería o cestería",
          "Madera, carbón vegetal y manufacturas de madera; corcho y sus manufacturas; manufacturas de espartería o cestería",
          "Madera, carbón vegetal y manufacturas de madera; corcho y sus manufacturas; manufacturas de espartería o cestería",
          "Madera, carbón vegetal y manufacturas de madera; corcho y sus manufacturas; manufacturas de espartería o cestería",
          "Madera, carbón vegetal y manufacturas de madera; corcho y sus manufacturas; manufacturas de espartería o cestería",
          "Madera, carbón vegetal y manufacturas de madera; corcho y sus manufacturas; manufacturas de espartería o cestería",
          "Madera, carbón vegetal y manufacturas de madera; corcho y sus manufacturas; manufacturas de espartería o cestería",
          "Madera, carbón vegetal y manufacturas de madera; corcho y sus manufacturas; manufacturas de espartería o cestería",
          "Madera, carbón vegetal y manufacturas de madera; corcho y sus manufacturas; manufacturas de espartería o cestería",
          "Madera, carbón vegetal y manufacturas de madera; corcho y sus manufacturas; manufacturas de espartería o cestería",
          "Madera, carbón vegetal y manufacturas de madera; corcho y sus manufacturas; manufacturas de espartería o cestería",
          "Madera, carbón vegetal y manufacturas de madera; corcho y sus manufacturas; manufacturas de espartería o cestería",
          "Madera, carbón vegetal y manufacturas de madera; corcho y sus manufacturas; manufacturas de espartería o cestería",
          "Madera, carbón vegetal y manufacturas de madera; corcho y sus manufacturas; manufacturas de espartería o cestería",
          "Madera, carbón vegetal y manufacturas de madera; corcho y sus manufacturas; manufacturas de espartería o cestería",
          "Madera, carbón vegetal y manufacturas de madera; corcho y sus manufacturas; manufacturas de espartería o cestería",
          "Madera, carbón vegetal y manufacturas de madera; corcho y sus manufacturas; manufacturas de espartería o cestería",
          "Madera, carbón vegetal y manufacturas de madera; corcho y sus manufacturas; manufacturas de espartería o cestería",
          "Madera, carbón vegetal y manufacturas de madera; corcho y sus manufacturas; manufacturas de espartería o cestería",
          "Madera, carbón vegetal y manufacturas de madera; corcho y sus manufacturas; manufacturas de espartería o cestería",
          "Madera, carbón vegetal y manufacturas de madera; corcho y sus manufacturas; manufacturas de espartería o cestería",
          "Pasta de madera o de las demás materias fibrosas celulósicas; papel o cartón para reciclar (desperdicios y desechos); papel o cartón y sus aplicaciones",
          "Pasta de madera o de las demás materias fibrosas celulósicas; papel o cartón para reciclar (desperdicios y desechos); papel o cartón y sus aplicaciones",
          "Pasta de madera o de las demás materias fibrosas celulósicas; papel o cartón para reciclar (desperdicios y desechos); papel o cartón y sus aplicaciones",
          "Pasta de madera o de las demás materias fibrosas celulósicas; papel o cartón para reciclar (desperdicios y desechos); papel o cartón y sus aplicaciones",
          "Pasta de madera o de las demás materias fibrosas celulósicas; papel o cartón para reciclar (desperdicios y desechos); papel o cartón y sus aplicaciones",
          "Pasta de madera o de las demás materias fibrosas celulósicas; papel o cartón para reciclar (desperdicios y desechos); papel o cartón y sus aplicaciones",
          "Pasta de madera o de las demás materias fibrosas celulósicas; papel o cartón para reciclar (desperdicios y desechos); papel o cartón y sus aplicaciones",
          "Pasta de madera o de las demás materias fibrosas celulósicas; papel o cartón para reciclar (desperdicios y desechos); papel o cartón y sus aplicaciones",
          "Pasta de madera o de las demás materias fibrosas celulósicas; papel o cartón para reciclar (desperdicios y desechos); papel o cartón y sus aplicaciones",
          "Pasta de madera o de las demás materias fibrosas celulósicas; papel o cartón para reciclar (desperdicios y desechos); papel o cartón y sus aplicaciones",
          "Pasta de madera o de las demás materias fibrosas celulósicas; papel o cartón para reciclar (desperdicios y desechos); papel o cartón y sus aplicaciones",
          "Pasta de madera o de las demás materias fibrosas celulósicas; papel o cartón para reciclar (desperdicios y desechos); papel o cartón y sus aplicaciones",
          "Pasta de madera o de las demás materias fibrosas celulósicas; papel o cartón para reciclar (desperdicios y desechos); papel o cartón y sus aplicaciones",
          "Pasta de madera o de las demás materias fibrosas celulósicas; papel o cartón para reciclar (desperdicios y desechos); papel o cartón y sus aplicaciones",
          "Pasta de madera o de las demás materias fibrosas celulósicas; papel o cartón para reciclar (desperdicios y desechos); papel o cartón y sus aplicaciones",
          "Pasta de madera o de las demás materias fibrosas celulósicas; papel o cartón para reciclar (desperdicios y desechos); papel o cartón y sus aplicaciones",
          "Pasta de madera o de las demás materias fibrosas celulósicas; papel o cartón para reciclar (desperdicios y desechos); papel o cartón y sus aplicaciones",
          "Pasta de madera o de las demás materias fibrosas celulósicas; papel o cartón para reciclar (desperdicios y desechos); papel o cartón y sus aplicaciones",
          "Pasta de madera o de las demás materias fibrosas celulósicas; papel o cartón para reciclar (desperdicios y desechos); papel o cartón y sus aplicaciones",
          "Pasta de madera o de las demás materias fibrosas celulósicas; papel o cartón para reciclar (desperdicios y desechos); papel o cartón y sus aplicaciones",
          "Pasta de madera o de las demás materias fibrosas celulósicas; papel o cartón para reciclar (desperdicios y desechos); papel o cartón y sus aplicaciones",
          "Pasta de madera o de las demás materias fibrosas celulósicas; papel o cartón para reciclar (desperdicios y desechos); papel o cartón y sus aplicaciones",
          "Pasta de madera o de las demás materias fibrosas celulósicas; papel o cartón para reciclar (desperdicios y desechos); papel o cartón y sus aplicaciones",
          "Pasta de madera o de las demás materias fibrosas celulósicas; papel o cartón para reciclar (desperdicios y desechos); papel o cartón y sus aplicaciones",
          "Pasta de madera o de las demás materias fibrosas celulósicas; papel o cartón para reciclar (desperdicios y desechos); papel o cartón y sus aplicaciones",
          "Pasta de madera o de las demás materias fibrosas celulósicas; papel o cartón para reciclar (desperdicios y desechos); papel o cartón y sus aplicaciones",
          "Materias textiles y sus manufacturas",
          "Materias textiles y sus manufacturas",
          "Materias textiles y sus manufacturas",
          "Materias textiles y sus manufacturas",
          "Materias textiles y sus manufacturas",
          "Materias textiles y sus manufacturas",
          "Materias textiles y sus manufacturas",
          "Materias textiles y sus manufacturas",
          "Materias textiles y sus manufacturas",
          "Materias textiles y sus manufacturas",
          "Materias textiles y sus manufacturas",
          "Materias textiles y sus manufacturas",
          "Materias textiles y sus manufacturas",
          "Materias textiles y sus manufacturas",
          "Materias textiles y sus manufacturas",
          "Materias textiles y sus manufacturas",
          "Materias textiles y sus manufacturas",
          "Materias textiles y sus manufacturas",
          "Materias textiles y sus manufacturas",
          "Materias textiles y sus manufacturas",
          "Materias textiles y sus manufacturas",
          "Materias textiles y sus manufacturas",
          "Materias textiles y sus manufacturas",
          "Materias textiles y sus manufacturas",
          "Materias textiles y sus manufacturas",
          "Materias textiles y sus manufacturas",
          "Materias textiles y sus manufacturas",
          "Materias textiles y sus manufacturas",
          "Materias textiles y sus manufacturas",
          "Materias textiles y sus manufacturas",
          "Materias textiles y sus manufacturas",
          "Materias textiles y sus manufacturas",
          "Materias textiles y sus manufacturas",
          "Materias textiles y sus manufacturas",
          "Materias textiles y sus manufacturas",
          "Materias textiles y sus manufacturas",
          "Materias textiles y sus manufacturas",
          "Materias textiles y sus manufacturas",
          "Materias textiles y sus manufacturas",
          "Materias textiles y sus manufacturas",
          "Materias textiles y sus manufacturas",
          "Materias textiles y sus manufacturas",
          "Materias textiles y sus manufacturas",
          "Materias textiles y sus manufacturas",
          "Materias textiles y sus manufacturas",
          "Materias textiles y sus manufacturas",
          "Materias textiles y sus manufacturas",
          "Materias textiles y sus manufacturas",
          "Materias textiles y sus manufacturas",
          "Materias textiles y sus manufacturas",
          "Materias textiles y sus manufacturas",
          "Materias textiles y sus manufacturas",
          "Materias textiles y sus manufacturas",
          "Materias textiles y sus manufacturas",
          "Materias textiles y sus manufacturas",
          "Materias textiles y sus manufacturas",
          "Materias textiles y sus manufacturas",
          "Materias textiles y sus manufacturas",
          "Materias textiles y sus manufacturas",
          "Materias textiles y sus manufacturas",
          "Materias textiles y sus manufacturas",
          "Materias textiles y sus manufacturas",
          "Materias textiles y sus manufacturas",
          "Materias textiles y sus manufacturas",
          "Materias textiles y sus manufacturas",
          "Materias textiles y sus manufacturas",
          "Materias textiles y sus manufacturas",
          "Materias textiles y sus manufacturas",
          "Materias textiles y sus manufacturas",
          "Materias textiles y sus manufacturas",
          "Materias textiles y sus manufacturas",
          "Materias textiles y sus manufacturas",
          "Materias textiles y sus manufacturas",
          "Materias textiles y sus manufacturas",
          "Materias textiles y sus manufacturas",
          "Materias textiles y sus manufacturas",
          "Materias textiles y sus manufacturas",
          "Materias textiles y sus manufacturas",
          "Materias textiles y sus manufacturas",
          "Materias textiles y sus manufacturas",
          "Materias textiles y sus manufacturas",
          "Materias textiles y sus manufacturas",
          "Materias textiles y sus manufacturas",
          "Materias textiles y sus manufacturas",
          "Materias textiles y sus manufacturas",
          "Materias textiles y sus manufacturas",
          "Materias textiles y sus manufacturas",
          "Materias textiles y sus manufacturas",
          "Materias textiles y sus manufacturas",
          "Materias textiles y sus manufacturas",
          "Materias textiles y sus manufacturas",
          "Materias textiles y sus manufacturas",
          "Materias textiles y sus manufacturas",
          "Materias textiles y sus manufacturas",
          "Materias textiles y sus manufacturas",
          "Materias textiles y sus manufacturas",
          "Materias textiles y sus manufacturas",
          "Materias textiles y sus manufacturas",
          "Materias textiles y sus manufacturas",
          "Calzado, sombreros y demás tocados, paraguas, quitasoles, bastones, látigos, fustas y sus partes; plumas preparadas y artículos de plumas; flores artificiales; manufacturas de cabello",
          "Calzado, sombreros y demás tocados, paraguas, quitasoles, bastones, látigos, fustas y sus partes; plumas preparadas y artículos de plumas; flores artificiales; manufacturas de cabello",
          "Calzado, sombreros y demás tocados, paraguas, quitasoles, bastones, látigos, fustas y sus partes; plumas preparadas y artículos de plumas; flores artificiales; manufacturas de cabello",
          "Calzado, sombreros y demás tocados, paraguas, quitasoles, bastones, látigos, fustas y sus partes; plumas preparadas y artículos de plumas; flores artificiales; manufacturas de cabello",
          "Calzado, sombreros y demás tocados, paraguas, quitasoles, bastones, látigos, fustas y sus partes; plumas preparadas y artículos de plumas; flores artificiales; manufacturas de cabello",
          "Calzado, sombreros y demás tocados, paraguas, quitasoles, bastones, látigos, fustas y sus partes; plumas preparadas y artículos de plumas; flores artificiales; manufacturas de cabello",
          "Calzado, sombreros y demás tocados, paraguas, quitasoles, bastones, látigos, fustas y sus partes; plumas preparadas y artículos de plumas; flores artificiales; manufacturas de cabello",
          "Calzado, sombreros y demás tocados, paraguas, quitasoles, bastones, látigos, fustas y sus partes; plumas preparadas y artículos de plumas; flores artificiales; manufacturas de cabello",
          "Calzado, sombreros y demás tocados, paraguas, quitasoles, bastones, látigos, fustas y sus partes; plumas preparadas y artículos de plumas; flores artificiales; manufacturas de cabello",
          "Calzado, sombreros y demás tocados, paraguas, quitasoles, bastones, látigos, fustas y sus partes; plumas preparadas y artículos de plumas; flores artificiales; manufacturas de cabello",
          "Calzado, sombreros y demás tocados, paraguas, quitasoles, bastones, látigos, fustas y sus partes; plumas preparadas y artículos de plumas; flores artificiales; manufacturas de cabello",
          "Calzado, sombreros y demás tocados, paraguas, quitasoles, bastones, látigos, fustas y sus partes; plumas preparadas y artículos de plumas; flores artificiales; manufacturas de cabello",
          "Calzado, sombreros y demás tocados, paraguas, quitasoles, bastones, látigos, fustas y sus partes; plumas preparadas y artículos de plumas; flores artificiales; manufacturas de cabello",
          "Calzado, sombreros y demás tocados, paraguas, quitasoles, bastones, látigos, fustas y sus partes; plumas preparadas y artículos de plumas; flores artificiales; manufacturas de cabello",
          "Calzado, sombreros y demás tocados, paraguas, quitasoles, bastones, látigos, fustas y sus partes; plumas preparadas y artículos de plumas; flores artificiales; manufacturas de cabello",
          "Manufacturas de piedra, yeso fraguable, cemento, amianto (asbesto), mica o materias análogas; productos cerámicos; vidrio y manufacturas de vidrio",
          "Manufacturas de piedra, yeso fraguable, cemento, amianto (asbesto), mica o materias análogas; productos cerámicos; vidrio y manufacturas de vidrio",
          "Manufacturas de piedra, yeso fraguable, cemento, amianto (asbesto), mica o materias análogas; productos cerámicos; vidrio y manufacturas de vidrio",
          "Manufacturas de piedra, yeso fraguable, cemento, amianto (asbesto), mica o materias análogas; productos cerámicos; vidrio y manufacturas de vidrio",
          "Manufacturas de piedra, yeso fraguable, cemento, amianto (asbesto), mica o materias análogas; productos cerámicos; vidrio y manufacturas de vidrio",
          "Manufacturas de piedra, yeso fraguable, cemento, amianto (asbesto), mica o materias análogas; productos cerámicos; vidrio y manufacturas de vidrio",
          "Manufacturas de piedra, yeso fraguable, cemento, amianto (asbesto), mica o materias análogas; productos cerámicos; vidrio y manufacturas de vidrio",
          "Manufacturas de piedra, yeso fraguable, cemento, amianto (asbesto), mica o materias análogas; productos cerámicos; vidrio y manufacturas de vidrio",
          "Manufacturas de piedra, yeso fraguable, cemento, amianto (asbesto), mica o materias análogas; productos cerámicos; vidrio y manufacturas de vidrio",
          "Manufacturas de piedra, yeso fraguable, cemento, amianto (asbesto), mica o materias análogas; productos cerámicos; vidrio y manufacturas de vidrio",
          "Manufacturas de piedra, yeso fraguable, cemento, amianto (asbesto), mica o materias análogas; productos cerámicos; vidrio y manufacturas de vidrio",
          "Manufacturas de piedra, yeso fraguable, cemento, amianto (asbesto), mica o materias análogas; productos cerámicos; vidrio y manufacturas de vidrio",
          "Manufacturas de piedra, yeso fraguable, cemento, amianto (asbesto), mica o materias análogas; productos cerámicos; vidrio y manufacturas de vidrio",
          "Manufacturas de piedra, yeso fraguable, cemento, amianto (asbesto), mica o materias análogas; productos cerámicos; vidrio y manufacturas de vidrio",
          "Manufacturas de piedra, yeso fraguable, cemento, amianto (asbesto), mica o materias análogas; productos cerámicos; vidrio y manufacturas de vidrio",
          "Manufacturas de piedra, yeso fraguable, cemento, amianto (asbesto), mica o materias análogas; productos cerámicos; vidrio y manufacturas de vidrio",
          "Manufacturas de piedra, yeso fraguable, cemento, amianto (asbesto), mica o materias análogas; productos cerámicos; vidrio y manufacturas de vidrio",
          "Manufacturas de piedra, yeso fraguable, cemento, amianto (asbesto), mica o materias análogas; productos cerámicos; vidrio y manufacturas de vidrio",
          "Manufacturas de piedra, yeso fraguable, cemento, amianto (asbesto), mica o materias análogas; productos cerámicos; vidrio y manufacturas de vidrio",
          "Manufacturas de piedra, yeso fraguable, cemento, amianto (asbesto), mica o materias análogas; productos cerámicos; vidrio y manufacturas de vidrio",
          "Manufacturas de piedra, yeso fraguable, cemento, amianto (asbesto), mica o materias análogas; productos cerámicos; vidrio y manufacturas de vidrio",
          "Manufacturas de piedra, yeso fraguable, cemento, amianto (asbesto), mica o materias análogas; productos cerámicos; vidrio y manufacturas de vidrio",
          "Manufacturas de piedra, yeso fraguable, cemento, amianto (asbesto), mica o materias análogas; productos cerámicos; vidrio y manufacturas de vidrio",
          "Manufacturas de piedra, yeso fraguable, cemento, amianto (asbesto), mica o materias análogas; productos cerámicos; vidrio y manufacturas de vidrio",
          "Manufacturas de piedra, yeso fraguable, cemento, amianto (asbesto), mica o materias análogas; productos cerámicos; vidrio y manufacturas de vidrio",
          "Manufacturas de piedra, yeso fraguable, cemento, amianto (asbesto), mica o materias análogas; productos cerámicos; vidrio y manufacturas de vidrio",
          "Manufacturas de piedra, yeso fraguable, cemento, amianto (asbesto), mica o materias análogas; productos cerámicos; vidrio y manufacturas de vidrio",
          "Manufacturas de piedra, yeso fraguable, cemento, amianto (asbesto), mica o materias análogas; productos cerámicos; vidrio y manufacturas de vidrio",
          "Manufacturas de piedra, yeso fraguable, cemento, amianto (asbesto), mica o materias análogas; productos cerámicos; vidrio y manufacturas de vidrio",
          "Manufacturas de piedra, yeso fraguable, cemento, amianto (asbesto), mica o materias análogas; productos cerámicos; vidrio y manufacturas de vidrio",
          "Manufacturas de piedra, yeso fraguable, cemento, amianto (asbesto), mica o materias análogas; productos cerámicos; vidrio y manufacturas de vidrio",
          "Manufacturas de piedra, yeso fraguable, cemento, amianto (asbesto), mica o materias análogas; productos cerámicos; vidrio y manufacturas de vidrio",
          "Manufacturas de piedra, yeso fraguable, cemento, amianto (asbesto), mica o materias análogas; productos cerámicos; vidrio y manufacturas de vidrio",
          "Perlas finas (naturales) o cultivadas, piedras preciosas o semipreciosas, metales preciosos, chapados de metal precioso (plaqué) y manufacturas de estas materias; bisutería; monedas",
          "Perlas finas (naturales) o cultivadas, piedras preciosas o semipreciosas, metales preciosos, chapados de metal precioso (plaqué) y manufacturas de estas materias; bisutería; monedas",
          "Perlas finas (naturales) o cultivadas, piedras preciosas o semipreciosas, metales preciosos, chapados de metal precioso (plaqué) y manufacturas de estas materias; bisutería; monedas",
          "Perlas finas (naturales) o cultivadas, piedras preciosas o semipreciosas, metales preciosos, chapados de metal precioso (plaqué) y manufacturas de estas materias; bisutería; monedas",
          "Perlas finas (naturales) o cultivadas, piedras preciosas o semipreciosas, metales preciosos, chapados de metal precioso (plaqué) y manufacturas de estas materias; bisutería; monedas",
          "Perlas finas (naturales) o cultivadas, piedras preciosas o semipreciosas, metales preciosos, chapados de metal precioso (plaqué) y manufacturas de estas materias; bisutería; monedas",
          "Perlas finas (naturales) o cultivadas, piedras preciosas o semipreciosas, metales preciosos, chapados de metal precioso (plaqué) y manufacturas de estas materias; bisutería; monedas",
          "Perlas finas (naturales) o cultivadas, piedras preciosas o semipreciosas, metales preciosos, chapados de metal precioso (plaqué) y manufacturas de estas materias; bisutería; monedas",
          "Perlas finas (naturales) o cultivadas, piedras preciosas o semipreciosas, metales preciosos, chapados de metal precioso (plaqué) y manufacturas de estas materias; bisutería; monedas",
          "Perlas finas (naturales) o cultivadas, piedras preciosas o semipreciosas, metales preciosos, chapados de metal precioso (plaqué) y manufacturas de estas materias; bisutería; monedas",
          "Perlas finas (naturales) o cultivadas, piedras preciosas o semipreciosas, metales preciosos, chapados de metal precioso (plaqué) y manufacturas de estas materias; bisutería; monedas",
          "Perlas finas (naturales) o cultivadas, piedras preciosas o semipreciosas, metales preciosos, chapados de metal precioso (plaqué) y manufacturas de estas materias; bisutería; monedas",
          "Perlas finas (naturales) o cultivadas, piedras preciosas o semipreciosas, metales preciosos, chapados de metal precioso (plaqué) y manufacturas de estas materias; bisutería; monedas",
          "Perlas finas (naturales) o cultivadas, piedras preciosas o semipreciosas, metales preciosos, chapados de metal precioso (plaqué) y manufacturas de estas materias; bisutería; monedas",
          "Metales comunes y manufacturas de esos metales",
          "Metales comunes y manufacturas de esos metales",
          "Metales comunes y manufacturas de esos metales",
          "Metales comunes y manufacturas de esos metales",
          "Metales comunes y manufacturas de esos metales",
          "Metales comunes y manufacturas de esos metales",
          "Metales comunes y manufacturas de esos metales",
          "Metales comunes y manufacturas de esos metales",
          "Metales comunes y manufacturas de esos metales",
          "Metales comunes y manufacturas de esos metales",
          "Metales comunes y manufacturas de esos metales",
          "Metales comunes y manufacturas de esos metales",
          "Metales comunes y manufacturas de esos metales",
          "Metales comunes y manufacturas de esos metales",
          "Metales comunes y manufacturas de esos metales",
          "Metales comunes y manufacturas de esos metales",
          "Metales comunes y manufacturas de esos metales",
          "Metales comunes y manufacturas de esos metales",
          "Metales comunes y manufacturas de esos metales",
          "Metales comunes y manufacturas de esos metales",
          "Metales comunes y manufacturas de esos metales",
          "Metales comunes y manufacturas de esos metales",
          "Metales comunes y manufacturas de esos metales",
          "Metales comunes y manufacturas de esos metales",
          "Metales comunes y manufacturas de esos metales",
          "Metales comunes y manufacturas de esos metales",
          "Metales comunes y manufacturas de esos metales",
          "Metales comunes y manufacturas de esos metales",
          "Metales comunes y manufacturas de esos metales",
          "Metales comunes y manufacturas de esos metales",
          "Metales comunes y manufacturas de esos metales",
          "Metales comunes y manufacturas de esos metales",
          "Metales comunes y manufacturas de esos metales",
          "Metales comunes y manufacturas de esos metales",
          "Metales comunes y manufacturas de esos metales",
          "Metales comunes y manufacturas de esos metales",
          "Metales comunes y manufacturas de esos metales",
          "Metales comunes y manufacturas de esos metales",
          "Metales comunes y manufacturas de esos metales",
          "Metales comunes y manufacturas de esos metales",
          "Metales comunes y manufacturas de esos metales",
          "Metales comunes y manufacturas de esos metales",
          "Metales comunes y manufacturas de esos metales",
          "Metales comunes y manufacturas de esos metales",
          "Metales comunes y manufacturas de esos metales",
          "Metales comunes y manufacturas de esos metales",
          "Metales comunes y manufacturas de esos metales",
          "Metales comunes y manufacturas de esos metales",
          "Metales comunes y manufacturas de esos metales",
          "Metales comunes y manufacturas de esos metales",
          "Metales comunes y manufacturas de esos metales",
          "Metales comunes y manufacturas de esos metales",
          "Metales comunes y manufacturas de esos metales",
          "Metales comunes y manufacturas de esos metales",
          "Metales comunes y manufacturas de esos metales",
          "Metales comunes y manufacturas de esos metales",
          "Metales comunes y manufacturas de esos metales",
          "Metales comunes y manufacturas de esos metales",
          "Metales comunes y manufacturas de esos metales",
          "Metales comunes y manufacturas de esos metales",
          "Metales comunes y manufacturas de esos metales",
          "Metales comunes y manufacturas de esos metales",
          "Metales comunes y manufacturas de esos metales",
          "Metales comunes y manufacturas de esos metales",
          "Metales comunes y manufacturas de esos metales",
          "Metales comunes y manufacturas de esos metales",
          "Metales comunes y manufacturas de esos metales",
          "Metales comunes y manufacturas de esos metales",
          "Metales comunes y manufacturas de esos metales",
          "Metales comunes y manufacturas de esos metales",
          "Metales comunes y manufacturas de esos metales",
          "Metales comunes y manufacturas de esos metales",
          "Metales comunes y manufacturas de esos metales",
          "Metales comunes y manufacturas de esos metales",
          "Metales comunes y manufacturas de esos metales",
          "Metales comunes y manufacturas de esos metales",
          "Metales comunes y manufacturas de esos metales",
          "Metales comunes y manufacturas de esos metales",
          "Metales comunes y manufacturas de esos metales",
          "Metales comunes y manufacturas de esos metales",
          "Metales comunes y manufacturas de esos metales",
          "Metales comunes y manufacturas de esos metales",
          "Metales comunes y manufacturas de esos metales",
          "Metales comunes y manufacturas de esos metales",
          "Metales comunes y manufacturas de esos metales",
          "Metales comunes y manufacturas de esos metales",
          "Metales comunes y manufacturas de esos metales",
          "Metales comunes y manufacturas de esos metales",
          "Metales comunes y manufacturas de esos metales",
          "Metales comunes y manufacturas de esos metales",
          "Máquinas y aparatos, material eléctrico y sus partes; aparatos de grabación o reproducción de sonido, aparatos de grabación o reproducción de imagen y sonido en televisión, y las partes y accesorios de estos aparatos",
          "Máquinas y aparatos, material eléctrico y sus partes; aparatos de grabación o reproducción de sonido, aparatos de grabación o reproducción de imagen y sonido en televisión, y las partes y accesorios de estos aparatos",
          "Máquinas y aparatos, material eléctrico y sus partes; aparatos de grabación o reproducción de sonido, aparatos de grabación o reproducción de imagen y sonido en televisión, y las partes y accesorios de estos aparatos",
          "Máquinas y aparatos, material eléctrico y sus partes; aparatos de grabación o reproducción de sonido, aparatos de grabación o reproducción de imagen y sonido en televisión, y las partes y accesorios de estos aparatos",
          "Máquinas y aparatos, material eléctrico y sus partes; aparatos de grabación o reproducción de sonido, aparatos de grabación o reproducción de imagen y sonido en televisión, y las partes y accesorios de estos aparatos",
          "Máquinas y aparatos, material eléctrico y sus partes; aparatos de grabación o reproducción de sonido, aparatos de grabación o reproducción de imagen y sonido en televisión, y las partes y accesorios de estos aparatos",
          "Máquinas y aparatos, material eléctrico y sus partes; aparatos de grabación o reproducción de sonido, aparatos de grabación o reproducción de imagen y sonido en televisión, y las partes y accesorios de estos aparatos",
          "Máquinas y aparatos, material eléctrico y sus partes; aparatos de grabación o reproducción de sonido, aparatos de grabación o reproducción de imagen y sonido en televisión, y las partes y accesorios de estos aparatos",
          "Máquinas y aparatos, material eléctrico y sus partes; aparatos de grabación o reproducción de sonido, aparatos de grabación o reproducción de imagen y sonido en televisión, y las partes y accesorios de estos aparatos",
          "Máquinas y aparatos, material eléctrico y sus partes; aparatos de grabación o reproducción de sonido, aparatos de grabación o reproducción de imagen y sonido en televisión, y las partes y accesorios de estos aparatos",
          "Máquinas y aparatos, material eléctrico y sus partes; aparatos de grabación o reproducción de sonido, aparatos de grabación o reproducción de imagen y sonido en televisión, y las partes y accesorios de estos aparatos",
          "Máquinas y aparatos, material eléctrico y sus partes; aparatos de grabación o reproducción de sonido, aparatos de grabación o reproducción de imagen y sonido en televisión, y las partes y accesorios de estos aparatos",
          "Máquinas y aparatos, material eléctrico y sus partes; aparatos de grabación o reproducción de sonido, aparatos de grabación o reproducción de imagen y sonido en televisión, y las partes y accesorios de estos aparatos",
          "Máquinas y aparatos, material eléctrico y sus partes; aparatos de grabación o reproducción de sonido, aparatos de grabación o reproducción de imagen y sonido en televisión, y las partes y accesorios de estos aparatos",
          "Máquinas y aparatos, material eléctrico y sus partes; aparatos de grabación o reproducción de sonido, aparatos de grabación o reproducción de imagen y sonido en televisión, y las partes y accesorios de estos aparatos",
          "Máquinas y aparatos, material eléctrico y sus partes; aparatos de grabación o reproducción de sonido, aparatos de grabación o reproducción de imagen y sonido en televisión, y las partes y accesorios de estos aparatos",
          "Máquinas y aparatos, material eléctrico y sus partes; aparatos de grabación o reproducción de sonido, aparatos de grabación o reproducción de imagen y sonido en televisión, y las partes y accesorios de estos aparatos",
          "Máquinas y aparatos, material eléctrico y sus partes; aparatos de grabación o reproducción de sonido, aparatos de grabación o reproducción de imagen y sonido en televisión, y las partes y accesorios de estos aparatos",
          "Máquinas y aparatos, material eléctrico y sus partes; aparatos de grabación o reproducción de sonido, aparatos de grabación o reproducción de imagen y sonido en televisión, y las partes y accesorios de estos aparatos",
          "Máquinas y aparatos, material eléctrico y sus partes; aparatos de grabación o reproducción de sonido, aparatos de grabación o reproducción de imagen y sonido en televisión, y las partes y accesorios de estos aparatos",
          "Máquinas y aparatos, material eléctrico y sus partes; aparatos de grabación o reproducción de sonido, aparatos de grabación o reproducción de imagen y sonido en televisión, y las partes y accesorios de estos aparatos",
          "Máquinas y aparatos, material eléctrico y sus partes; aparatos de grabación o reproducción de sonido, aparatos de grabación o reproducción de imagen y sonido en televisión, y las partes y accesorios de estos aparatos",
          "Máquinas y aparatos, material eléctrico y sus partes; aparatos de grabación o reproducción de sonido, aparatos de grabación o reproducción de imagen y sonido en televisión, y las partes y accesorios de estos aparatos",
          "Máquinas y aparatos, material eléctrico y sus partes; aparatos de grabación o reproducción de sonido, aparatos de grabación o reproducción de imagen y sonido en televisión, y las partes y accesorios de estos aparatos",
          "Máquinas y aparatos, material eléctrico y sus partes; aparatos de grabación o reproducción de sonido, aparatos de grabación o reproducción de imagen y sonido en televisión, y las partes y accesorios de estos aparatos",
          "Máquinas y aparatos, material eléctrico y sus partes; aparatos de grabación o reproducción de sonido, aparatos de grabación o reproducción de imagen y sonido en televisión, y las partes y accesorios de estos aparatos",
          "Máquinas y aparatos, material eléctrico y sus partes; aparatos de grabación o reproducción de sonido, aparatos de grabación o reproducción de imagen y sonido en televisión, y las partes y accesorios de estos aparatos",
          "Máquinas y aparatos, material eléctrico y sus partes; aparatos de grabación o reproducción de sonido, aparatos de grabación o reproducción de imagen y sonido en televisión, y las partes y accesorios de estos aparatos",
          "Máquinas y aparatos, material eléctrico y sus partes; aparatos de grabación o reproducción de sonido, aparatos de grabación o reproducción de imagen y sonido en televisión, y las partes y accesorios de estos aparatos",
          "Máquinas y aparatos, material eléctrico y sus partes; aparatos de grabación o reproducción de sonido, aparatos de grabación o reproducción de imagen y sonido en televisión, y las partes y accesorios de estos aparatos",
          "Máquinas y aparatos, material eléctrico y sus partes; aparatos de grabación o reproducción de sonido, aparatos de grabación o reproducción de imagen y sonido en televisión, y las partes y accesorios de estos aparatos",
          "Máquinas y aparatos, material eléctrico y sus partes; aparatos de grabación o reproducción de sonido, aparatos de grabación o reproducción de imagen y sonido en televisión, y las partes y accesorios de estos aparatos",
          "Máquinas y aparatos, material eléctrico y sus partes; aparatos de grabación o reproducción de sonido, aparatos de grabación o reproducción de imagen y sonido en televisión, y las partes y accesorios de estos aparatos",
          "Máquinas y aparatos, material eléctrico y sus partes; aparatos de grabación o reproducción de sonido, aparatos de grabación o reproducción de imagen y sonido en televisión, y las partes y accesorios de estos aparatos",
          "Máquinas y aparatos, material eléctrico y sus partes; aparatos de grabación o reproducción de sonido, aparatos de grabación o reproducción de imagen y sonido en televisión, y las partes y accesorios de estos aparatos",
          "Máquinas y aparatos, material eléctrico y sus partes; aparatos de grabación o reproducción de sonido, aparatos de grabación o reproducción de imagen y sonido en televisión, y las partes y accesorios de estos aparatos",
          "Máquinas y aparatos, material eléctrico y sus partes; aparatos de grabación o reproducción de sonido, aparatos de grabación o reproducción de imagen y sonido en televisión, y las partes y accesorios de estos aparatos",
          "Máquinas y aparatos, material eléctrico y sus partes; aparatos de grabación o reproducción de sonido, aparatos de grabación o reproducción de imagen y sonido en televisión, y las partes y accesorios de estos aparatos",
          "Máquinas y aparatos, material eléctrico y sus partes; aparatos de grabación o reproducción de sonido, aparatos de grabación o reproducción de imagen y sonido en televisión, y las partes y accesorios de estos aparatos",
          "Máquinas y aparatos, material eléctrico y sus partes; aparatos de grabación o reproducción de sonido, aparatos de grabación o reproducción de imagen y sonido en televisión, y las partes y accesorios de estos aparatos",
          "Máquinas y aparatos, material eléctrico y sus partes; aparatos de grabación o reproducción de sonido, aparatos de grabación o reproducción de imagen y sonido en televisión, y las partes y accesorios de estos aparatos",
          "Máquinas y aparatos, material eléctrico y sus partes; aparatos de grabación o reproducción de sonido, aparatos de grabación o reproducción de imagen y sonido en televisión, y las partes y accesorios de estos aparatos",
          "Máquinas y aparatos, material eléctrico y sus partes; aparatos de grabación o reproducción de sonido, aparatos de grabación o reproducción de imagen y sonido en televisión, y las partes y accesorios de estos aparatos",
          "Máquinas y aparatos, material eléctrico y sus partes; aparatos de grabación o reproducción de sonido, aparatos de grabación o reproducción de imagen y sonido en televisión, y las partes y accesorios de estos aparatos",
          "Máquinas y aparatos, material eléctrico y sus partes; aparatos de grabación o reproducción de sonido, aparatos de grabación o reproducción de imagen y sonido en televisión, y las partes y accesorios de estos aparatos",
          "Máquinas y aparatos, material eléctrico y sus partes; aparatos de grabación o reproducción de sonido, aparatos de grabación o reproducción de imagen y sonido en televisión, y las partes y accesorios de estos aparatos",
          "Máquinas y aparatos, material eléctrico y sus partes; aparatos de grabación o reproducción de sonido, aparatos de grabación o reproducción de imagen y sonido en televisión, y las partes y accesorios de estos aparatos",
          "Máquinas y aparatos, material eléctrico y sus partes; aparatos de grabación o reproducción de sonido, aparatos de grabación o reproducción de imagen y sonido en televisión, y las partes y accesorios de estos aparatos",
          "Máquinas y aparatos, material eléctrico y sus partes; aparatos de grabación o reproducción de sonido, aparatos de grabación o reproducción de imagen y sonido en televisión, y las partes y accesorios de estos aparatos",
          "Máquinas y aparatos, material eléctrico y sus partes; aparatos de grabación o reproducción de sonido, aparatos de grabación o reproducción de imagen y sonido en televisión, y las partes y accesorios de estos aparatos",
          "Máquinas y aparatos, material eléctrico y sus partes; aparatos de grabación o reproducción de sonido, aparatos de grabación o reproducción de imagen y sonido en televisión, y las partes y accesorios de estos aparatos",
          "Máquinas y aparatos, material eléctrico y sus partes; aparatos de grabación o reproducción de sonido, aparatos de grabación o reproducción de imagen y sonido en televisión, y las partes y accesorios de estos aparatos",
          "Máquinas y aparatos, material eléctrico y sus partes; aparatos de grabación o reproducción de sonido, aparatos de grabación o reproducción de imagen y sonido en televisión, y las partes y accesorios de estos aparatos",
          "Máquinas y aparatos, material eléctrico y sus partes; aparatos de grabación o reproducción de sonido, aparatos de grabación o reproducción de imagen y sonido en televisión, y las partes y accesorios de estos aparatos",
          "Máquinas y aparatos, material eléctrico y sus partes; aparatos de grabación o reproducción de sonido, aparatos de grabación o reproducción de imagen y sonido en televisión, y las partes y accesorios de estos aparatos",
          "Máquinas y aparatos, material eléctrico y sus partes; aparatos de grabación o reproducción de sonido, aparatos de grabación o reproducción de imagen y sonido en televisión, y las partes y accesorios de estos aparatos",
          "Material de transporte",
          "Material de transporte",
          "Material de transporte",
          "Material de transporte",
          "Material de transporte",
          "Material de transporte",
          "Material de transporte",
          "Material de transporte",
          "Material de transporte",
          "Material de transporte",
          "Material de transporte",
          "Material de transporte",
          "Material de transporte",
          "Material de transporte",
          "Material de transporte",
          "Material de transporte",
          "Material de transporte",
          "Material de transporte",
          "Material de transporte",
          "Material de transporte",
          "Material de transporte",
          "Material de transporte",
          "Material de transporte",
          "Material de transporte",
          "Instrumentos y aparatos de óptica, fotografía o cinematografía, de medida, control o precisión; instrumentos y aparatos médicoquirúrgicos; aparatos de relojería; instrumentos musicales; partes y accesorios de estos instrumentos o aparatos",
          "Instrumentos y aparatos de óptica, fotografía o cinematografía, de medida, control o precisión; instrumentos y aparatos médicoquirúrgicos; aparatos de relojería; instrumentos musicales; partes y accesorios de estos instrumentos o aparatos",
          "Instrumentos y aparatos de óptica, fotografía o cinematografía, de medida, control o precisión; instrumentos y aparatos médicoquirúrgicos; aparatos de relojería; instrumentos musicales; partes y accesorios de estos instrumentos o aparatos",
          "Instrumentos y aparatos de óptica, fotografía o cinematografía, de medida, control o precisión; instrumentos y aparatos médicoquirúrgicos; aparatos de relojería; instrumentos musicales; partes y accesorios de estos instrumentos o aparatos",
          "Instrumentos y aparatos de óptica, fotografía o cinematografía, de medida, control o precisión; instrumentos y aparatos médicoquirúrgicos; aparatos de relojería; instrumentos musicales; partes y accesorios de estos instrumentos o aparatos",
          "Instrumentos y aparatos de óptica, fotografía o cinematografía, de medida, control o precisión; instrumentos y aparatos médicoquirúrgicos; aparatos de relojería; instrumentos musicales; partes y accesorios de estos instrumentos o aparatos",
          "Instrumentos y aparatos de óptica, fotografía o cinematografía, de medida, control o precisión; instrumentos y aparatos médicoquirúrgicos; aparatos de relojería; instrumentos musicales; partes y accesorios de estos instrumentos o aparatos",
          "Instrumentos y aparatos de óptica, fotografía o cinematografía, de medida, control o precisión; instrumentos y aparatos médicoquirúrgicos; aparatos de relojería; instrumentos musicales; partes y accesorios de estos instrumentos o aparatos",
          "Instrumentos y aparatos de óptica, fotografía o cinematografía, de medida, control o precisión; instrumentos y aparatos médicoquirúrgicos; aparatos de relojería; instrumentos musicales; partes y accesorios de estos instrumentos o aparatos",
          "Instrumentos y aparatos de óptica, fotografía o cinematografía, de medida, control o precisión; instrumentos y aparatos médicoquirúrgicos; aparatos de relojería; instrumentos musicales; partes y accesorios de estos instrumentos o aparatos",
          "Instrumentos y aparatos de óptica, fotografía o cinematografía, de medida, control o precisión; instrumentos y aparatos médicoquirúrgicos; aparatos de relojería; instrumentos musicales; partes y accesorios de estos instrumentos o aparatos",
          "Instrumentos y aparatos de óptica, fotografía o cinematografía, de medida, control o precisión; instrumentos y aparatos médicoquirúrgicos; aparatos de relojería; instrumentos musicales; partes y accesorios de estos instrumentos o aparatos",
          "Instrumentos y aparatos de óptica, fotografía o cinematografía, de medida, control o precisión; instrumentos y aparatos médicoquirúrgicos; aparatos de relojería; instrumentos musicales; partes y accesorios de estos instrumentos o aparatos",
          "Instrumentos y aparatos de óptica, fotografía o cinematografía, de medida, control o precisión; instrumentos y aparatos médicoquirúrgicos; aparatos de relojería; instrumentos musicales; partes y accesorios de estos instrumentos o aparatos",
          "Instrumentos y aparatos de óptica, fotografía o cinematografía, de medida, control o precisión; instrumentos y aparatos médicoquirúrgicos; aparatos de relojería; instrumentos musicales; partes y accesorios de estos instrumentos o aparatos",
          "Instrumentos y aparatos de óptica, fotografía o cinematografía, de medida, control o precisión; instrumentos y aparatos médicoquirúrgicos; aparatos de relojería; instrumentos musicales; partes y accesorios de estos instrumentos o aparatos",
          "Instrumentos y aparatos de óptica, fotografía o cinematografía, de medida, control o precisión; instrumentos y aparatos médicoquirúrgicos; aparatos de relojería; instrumentos musicales; partes y accesorios de estos instrumentos o aparatos",
          "Instrumentos y aparatos de óptica, fotografía o cinematografía, de medida, control o precisión; instrumentos y aparatos médicoquirúrgicos; aparatos de relojería; instrumentos musicales; partes y accesorios de estos instrumentos o aparatos",
          "Instrumentos y aparatos de óptica, fotografía o cinematografía, de medida, control o precisión; instrumentos y aparatos médicoquirúrgicos; aparatos de relojería; instrumentos musicales; partes y accesorios de estos instrumentos o aparatos",
          "Instrumentos y aparatos de óptica, fotografía o cinematografía, de medida, control o precisión; instrumentos y aparatos médicoquirúrgicos; aparatos de relojería; instrumentos musicales; partes y accesorios de estos instrumentos o aparatos",
          "Instrumentos y aparatos de óptica, fotografía o cinematografía, de medida, control o precisión; instrumentos y aparatos médicoquirúrgicos; aparatos de relojería; instrumentos musicales; partes y accesorios de estos instrumentos o aparatos",
          "Instrumentos y aparatos de óptica, fotografía o cinematografía, de medida, control o precisión; instrumentos y aparatos médicoquirúrgicos; aparatos de relojería; instrumentos musicales; partes y accesorios de estos instrumentos o aparatos",
          "Instrumentos y aparatos de óptica, fotografía o cinematografía, de medida, control o precisión; instrumentos y aparatos médicoquirúrgicos; aparatos de relojería; instrumentos musicales; partes y accesorios de estos instrumentos o aparatos",
          "Instrumentos y aparatos de óptica, fotografía o cinematografía, de medida, control o precisión; instrumentos y aparatos médicoquirúrgicos; aparatos de relojería; instrumentos musicales; partes y accesorios de estos instrumentos o aparatos",
          "Instrumentos y aparatos de óptica, fotografía o cinematografía, de medida, control o precisión; instrumentos y aparatos médicoquirúrgicos; aparatos de relojería; instrumentos musicales; partes y accesorios de estos instrumentos o aparatos",
          "Instrumentos y aparatos de óptica, fotografía o cinematografía, de medida, control o precisión; instrumentos y aparatos médicoquirúrgicos; aparatos de relojería; instrumentos musicales; partes y accesorios de estos instrumentos o aparatos",
          "Instrumentos y aparatos de óptica, fotografía o cinematografía, de medida, control o precisión; instrumentos y aparatos médicoquirúrgicos; aparatos de relojería; instrumentos musicales; partes y accesorios de estos instrumentos o aparatos",
          "Instrumentos y aparatos de óptica, fotografía o cinematografía, de medida, control o precisión; instrumentos y aparatos médicoquirúrgicos; aparatos de relojería; instrumentos musicales; partes y accesorios de estos instrumentos o aparatos",
          "Instrumentos y aparatos de óptica, fotografía o cinematografía, de medida, control o precisión; instrumentos y aparatos médicoquirúrgicos; aparatos de relojería; instrumentos musicales; partes y accesorios de estos instrumentos o aparatos",
          "Instrumentos y aparatos de óptica, fotografía o cinematografía, de medida, control o precisión; instrumentos y aparatos médicoquirúrgicos; aparatos de relojería; instrumentos musicales; partes y accesorios de estos instrumentos o aparatos",
          "Instrumentos y aparatos de óptica, fotografía o cinematografía, de medida, control o precisión; instrumentos y aparatos médicoquirúrgicos; aparatos de relojería; instrumentos musicales; partes y accesorios de estos instrumentos o aparatos",
          "Instrumentos y aparatos de óptica, fotografía o cinematografía, de medida, control o precisión; instrumentos y aparatos médicoquirúrgicos; aparatos de relojería; instrumentos musicales; partes y accesorios de estos instrumentos o aparatos",
          "Instrumentos y aparatos de óptica, fotografía o cinematografía, de medida, control o precisión; instrumentos y aparatos médicoquirúrgicos; aparatos de relojería; instrumentos musicales; partes y accesorios de estos instrumentos o aparatos",
          "Armas, municiones, y sus partes y accesorios",
          "Armas, municiones, y sus partes y accesorios",
          "Armas, municiones, y sus partes y accesorios",
          "Armas, municiones, y sus partes y accesorios",
          "Mercancías y productos diversos",
          "Mercancías y productos diversos",
          "Mercancías y productos diversos",
          "Mercancías y productos diversos",
          "Mercancías y productos diversos",
          "Mercancías y productos diversos",
          "Mercancías y productos diversos",
          "Mercancías y productos diversos",
          "Mercancías y productos diversos",
          "Mercancías y productos diversos",
          "Mercancías y productos diversos",
          "Mercancías y productos diversos",
          "Mercancías y productos diversos",
          "Mercancías y productos diversos",
          "Mercancías y productos diversos",
          "Mercancías y productos diversos",
          "Mercancías y productos diversos",
          "Mercancías y productos diversos",
          "Mercancías y productos diversos",
          "Objetos de arte o colección y antigüedades",
          "Objetos de arte o colección y antigüedades",
          "Objetos de arte o colección y antigüedades",
          "Objetos de arte o colección y antigüedades",
          "",
          "",
          "",
          "",
          "",
          "",
          "",
          "",
          "",
          "",
          "",
          "",
          "",
          "",
          "",
          "",
          "",
          "",
          "",
          "",
          ""
         ],
         "type": "treemap",
         "values": [
          61757060,
          44973000,
          28201886,
          607217237,
          38091460,
          1358421000,
          9544510,
          352544390,
          996369700,
          24301700,
          76125591,
          1080165,
          6206094,
          69467105,
          331351221,
          14088001,
          11935518,
          31525212,
          2469,
          19763800,
          790439360,
          30608200,
          92389787,
          166205720,
          533549228,
          192930250,
          200993047,
          620446,
          23662,
          25549900,
          27723861,
          91219206,
          600471,
          15051739,
          60291300,
          107722400,
          34598300,
          9158780,
          45623456,
          43263877,
          10359634,
          31567315,
          192841360,
          4650539,
          7841904,
          308751606,
          38010832,
          27232460,
          212522200,
          6234200,
          332014650,
          59816200,
          63511290,
          20593828,
          3790884,
          38594806,
          955,
          72954374,
          8660189,
          840498,
          25192,
          72386262,
          3803687,
          695634,
          6451690,
          5107465,
          1085340500,
          68875500,
          49817700,
          3088415440,
          447683400,
          102335747,
          16185920,
          22201742,
          98062995,
          31935100,
          9217967,
          264265050,
          102216565,
          8770317,
          2225844000,
          145282330,
          560054000,
          33230850,
          72277928,
          1112570,
          449058435,
          4299998,
          8088066,
          576790,
          5566452,
          661237,
          7450476,
          21029381,
          182474000,
          126077,
          5467956,
          3732043,
          94976624,
          295285,
          76484803,
          5649718,
          356768952,
          53097363,
          89080453,
          152056800,
          26046723,
          57165731,
          41073057,
          4200410,
          3280978,
          93750,
          168353010,
          119269063,
          667218,
          102179511,
          40480608,
          54080671,
          469662,
          55008800,
          4200031,
          40317313,
          28795901,
          1066507,
          71628968,
          3861440,
          196630075,
          2744361,
          15065102,
          33287393,
          255350043,
          56508709,
          21990456,
          29038934,
          221665128,
          1005804,
          2977683,
          194467571,
          6897875,
          55035830,
          10200300,
          399728646,
          689343261,
          22588613,
          1710668,
          387146433,
          38678300,
          452938,
          1752090,
          16282058,
          1164425,
          49601000,
          2635945,
          46845687,
          3359084,
          86400245,
          45457762,
          121337,
          91427,
          3347838,
          939330,
          4349305,
          64662,
          1457660,
          881975,
          7119729,
          2850782,
          16024524,
          3301957,
          1266534,
          16926878,
          3116327,
          29117393,
          1405730,
          3621469,
          27792953,
          156521870,
          10640282,
          1132334000,
          10007241,
          25062000,
          58475800,
          2384405,
          61876900,
          46787900,
          14156220,
          214498,
          237352,
          1458150,
          124357,
          6767450,
          2488370,
          70308760,
          1617380,
          21907721,
          171558230,
          47701365,
          997611,
          6668872000,
          201327086,
          498245344,
          1044625,
          5206385,
          104129000,
          20335430,
          93295,
          55386512,
          96529261,
          3558820,
          1027488,
          1603996,
          1503961,
          63979461,
          7283160,
          5466625,
          8140765,
          178668500,
          82339046,
          2591792,
          62255673,
          91250567,
          11790928,
          1932264,
          25969286,
          7348579,
          24177026,
          1759541,
          34513416,
          8439554,
          11763482,
          9433965,
          6153337,
          15066993,
          5484702,
          29507285,
          16269770,
          77722837,
          135188714,
          19647945,
          18691784,
          25023958,
          19403074,
          807662707,
          9158238,
          252690,
          4241995,
          21685109,
          26535006,
          3617126,
          325319,
          5009610,
          474362901,
          1206333432,
          544419493,
          16972378,
          60268640,
          57160301,
          4909030,
          441948160,
          51689222,
          1759393,
          69105511,
          483325,
          149440163,
          300691467,
          122965989,
          23834928,
          23632501,
          99584527,
          31807414,
          123381087,
          62695290,
          143147889,
          6341522,
          4447758,
          87167998,
          182399776,
          115460492,
          83119182,
          29534143,
          173797646,
          91033186,
          36043039,
          35919829,
          25307954,
          157205200,
          798127,
          23879714,
          112371682,
          111254890,
          3696059,
          677648643,
          2607108,
          140358527,
          488932523,
          18750531,
          12569049,
          127307308,
          14439263,
          80673474,
          12786463,
          4665452,
          60992288,
          3018930,
          59237321,
          46340266,
          8385877,
          12236368,
          153567428,
          8053794,
          38775640,
          61313697,
          74321410,
          113324388,
          5830970,
          32754890,
          51950530,
          570498,
          337283,
          488692,
          69063157,
          19777691,
          5196902,
          73229,
          244890,
          6071,
          44436363,
          39302454,
          88095051,
          987851,
          8287291,
          12001521,
          13907680,
          348165170,
          117452539,
          7655976,
          1124667600,
          73756020,
          171813820,
          921710,
          21635410,
          23578034,
          34388484,
          151357323,
          2383260,
          541311205,
          181045689,
          168581890,
          146075990,
          61524624,
          23532250,
          28772461,
          117747331,
          2429492,
          2699649,
          296556080,
          4723701,
          11232734,
          31940202,
          15763504,
          1559446,
          73331253,
          23453,
          8110590,
          101474358,
          6125175,
          17541500,
          297563,
          5885630,
          33219039,
          990464,
          10028779,
          8791600,
          263427,
          646503,
          598910,
          1347276,
          1812915,
          11409500,
          898994,
          1027660,
          520568044,
          62695839,
          107872910,
          74375253,
          160349715,
          288584347,
          4064474,
          2504687,
          14018678,
          16050675,
          25903597,
          2025862,
          186749,
          53900,
          37284669,
          3627570,
          1219849,
          5068338,
          9546450,
          479575220,
          8898930,
          6236728,
          350562555,
          44057921,
          97820743,
          744381094,
          402841438,
          20944471,
          22856377,
          302971642,
          20949108,
          700405326,
          800933,
          22516047,
          7084039,
          18486172,
          9332345,
          10747359,
          4153885,
          7055215,
          87481,
          244893,
          538077,
          1780933,
          8549,
          474835,
          12106754,
          39008,
          412991,
          90919,
          4476548,
          8546748,
          207668000,
          4808760,
          1792584,
          533187,
          15566547,
          4615603,
          417515,
          35329048,
          119299740,
          17197401,
          94688801,
          612424,
          31470741,
          64793,
          582526,
          2589577,
          3700287,
          171547,
          1053966,
          57501933,
          5324693,
          66294221,
          1117394,
          8787710,
          1796321,
          284644430,
          12535980,
          2504993,
          1940589,
          37780,
          8328470,
          59670880,
          6966976,
          2718324,
          86998244,
          54015410,
          32424682,
          40840050,
          18113802,
          43766672,
          60646485,
          15808967,
          1290545,
          5868240,
          4263399,
          975893,
          12597954,
          85356524,
          6216075,
          14311217,
          11518351,
          285263,
          3859981,
          6087981,
          1379,
          15885989,
          5117316,
          71298,
          11551167,
          13042749,
          3273815,
          41434676,
          241075,
          516941,
          72899407,
          10880859,
          1815231,
          6028425,
          8941214,
          141308246,
          10792304,
          2349235,
          77075503,
          86390832,
          158545682,
          1643878,
          45385352,
          5214139,
          2719046,
          6142433,
          13844670,
          152703519,
          475405,
          8189332,
          3380684,
          2146908,
          19393431,
          28440808,
          11210577,
          23023086,
          14998881,
          4496308,
          102476307,
          10872002,
          25393445,
          5345768,
          2477050,
          3267984,
          5219646,
          21052864,
          1092117,
          5535321,
          751756,
          32623615,
          97010,
          5350153,
          836305,
          1798124,
          84044920,
          12912063,
          379103,
          6102268,
          22461794,
          691730,
          2391435,
          4804062,
          702598,
          118006058,
          82670110,
          536813,
          86687,
          470999,
          52719407,
          107066790,
          1861420,
          3082674,
          27622992,
          10688200,
          76158548,
          3923265,
          414610,
          79637006,
          5756486,
          4676769,
          955376,
          4265779,
          3025150,
          25173136,
          15243712,
          282934,
          77047088,
          2447730,
          7842041,
          611116,
          84341186,
          2161514,
          102049583,
          490376,
          17070174,
          210097,
          38514869,
          4680144,
          23660,
          64416747,
          146085491,
          63591000,
          581493715,
          55780302,
          678725,
          801860500,
          1360046460,
          505741483,
          1263197830,
          100724498,
          154302412,
          12932807,
          69513738,
          89524808,
          126854395,
          4908780,
          545563948,
          214871792,
          21822282,
          103938627,
          58701259,
          21346176,
          1455624080,
          79215245,
          40112162,
          349995012,
          63210290,
          4852601,
          111104480,
          4713822,
          28892090,
          72279803,
          1009319,
          375503,
          10697479,
          2872227,
          23158905,
          40129359,
          825542649,
          29212900,
          2881770,
          5264614,
          119094481,
          657548727,
          184904499,
          26509566,
          159227607,
          8455035,
          43168157,
          4081694,
          143009792,
          24255233,
          13068344,
          44411213,
          1544820380,
          138752253,
          2889786,
          32649521,
          4073000,
          68623777,
          13949930,
          4505921,
          56533914,
          33227536,
          12743996,
          27145112,
          12050495,
          65959917,
          22584695,
          41811,
          35725429,
          6265116,
          32503539,
          2392372,
          38008200,
          46865657,
          4167150,
          1885325,
          26083,
          123417453,
          850298,
          1727868,
          8010427,
          6214731,
          2875980,
          5805070,
          26024008,
          15997118,
          1838134,
          57425600,
          13637784,
          2318937,
          5229728,
          26750882,
          21061720,
          2337625800,
          4211606070,
          3376800,
          1999635180,
          28288367,
          104709062,
          21071202,
          93967247,
          391602729,
          328205028,
          101063795,
          40124762,
          11039106,
          3630018,
          111411278,
          41624995,
          103634008,
          7636080,
          24754245,
          4799363,
          29471930,
          11620597,
          33226399,
          30189148,
          25149829,
          61971329,
          212725952,
          179474062,
          240438400,
          133912397,
          72310006,
          65354394,
          61976545,
          51355538,
          55013877,
          25729859,
          87794144,
          40631567,
          271926928,
          21157888,
          15296503,
          205356116,
          421742129,
          98521244,
          54024104,
          25243668,
          16890662,
          47713168,
          39294525,
          11661051,
          8934570,
          6559980,
          100475000,
          477969315,
          10480842,
          6612314,
          290361659,
          132730596,
          110073718,
          22314829,
          58461500,
          17403030,
          279078562,
          60012194,
          20891292,
          36719280,
          116653491,
          106816,
          248824,
          4816054,
          2001130,
          14440900,
          2667953,
          6180978,
          62400672,
          3298844,
          9817412,
          5708821,
          386029,
          5067981,
          20835508,
          5969492,
          95522934,
          6062692,
          31565551,
          254349110,
          46928075,
          46064562,
          163591487,
          1698899,
          374877,
          6367651,
          4733270,
          625308,
          183511,
          117196,
          163598,
          176767,
          2570480,
          3065674,
          2807431,
          8189033,
          5028943,
          3277671,
          19094559,
          327621,
          14899565,
          2973657,
          6293672,
          7926617,
          75705,
          64991866,
          134378474,
          5573883,
          7832056,
          154899,
          29585801,
          3353975,
          920212,
          16060107,
          80248420,
          4242357,
          4154042,
          45902449,
          331954,
          11008911,
          23079468,
          55842208,
          3077619,
          50188216,
          23264982,
          7001672,
          776161,
          222512,
          6116276719,
          17269651,
          226051346,
          1173100104,
          831271224,
          1342951501,
          761166389,
          1786194827,
          2600811320,
          540926917,
          13347928435,
          12743403745,
          31265327,
          3294875382,
          337772512,
          267328244,
          1635496248,
          3334644916,
          12047555938,
          10873340119,
          9697996318
         ]
        }
       ],
       "layout": {
        "coloraxis": {
         "colorbar": {
          "title": {
           "text": "tradevalue"
          }
         },
         "colorscale": [
          [
           0,
           "#0d0887"
          ],
          [
           0.1111111111111111,
           "#46039f"
          ],
          [
           0.2222222222222222,
           "#7201a8"
          ],
          [
           0.3333333333333333,
           "#9c179e"
          ],
          [
           0.4444444444444444,
           "#bd3786"
          ],
          [
           0.5555555555555556,
           "#d8576b"
          ],
          [
           0.6666666666666666,
           "#ed7953"
          ],
          [
           0.7777777777777778,
           "#fb9f3a"
          ],
          [
           0.8888888888888888,
           "#fdca26"
          ],
          [
           1,
           "#f0f921"
          ]
         ]
        },
        "legend": {
         "tracegroupgap": 0
        },
        "template": {
         "data": {
          "bar": [
           {
            "error_x": {
             "color": "#2a3f5f"
            },
            "error_y": {
             "color": "#2a3f5f"
            },
            "marker": {
             "line": {
              "color": "#E5ECF6",
              "width": 0.5
             },
             "pattern": {
              "fillmode": "overlay",
              "size": 10,
              "solidity": 0.2
             }
            },
            "type": "bar"
           }
          ],
          "barpolar": [
           {
            "marker": {
             "line": {
              "color": "#E5ECF6",
              "width": 0.5
             },
             "pattern": {
              "fillmode": "overlay",
              "size": 10,
              "solidity": 0.2
             }
            },
            "type": "barpolar"
           }
          ],
          "carpet": [
           {
            "aaxis": {
             "endlinecolor": "#2a3f5f",
             "gridcolor": "white",
             "linecolor": "white",
             "minorgridcolor": "white",
             "startlinecolor": "#2a3f5f"
            },
            "baxis": {
             "endlinecolor": "#2a3f5f",
             "gridcolor": "white",
             "linecolor": "white",
             "minorgridcolor": "white",
             "startlinecolor": "#2a3f5f"
            },
            "type": "carpet"
           }
          ],
          "choropleth": [
           {
            "colorbar": {
             "outlinewidth": 0,
             "ticks": ""
            },
            "type": "choropleth"
           }
          ],
          "contour": [
           {
            "colorbar": {
             "outlinewidth": 0,
             "ticks": ""
            },
            "colorscale": [
             [
              0,
              "#0d0887"
             ],
             [
              0.1111111111111111,
              "#46039f"
             ],
             [
              0.2222222222222222,
              "#7201a8"
             ],
             [
              0.3333333333333333,
              "#9c179e"
             ],
             [
              0.4444444444444444,
              "#bd3786"
             ],
             [
              0.5555555555555556,
              "#d8576b"
             ],
             [
              0.6666666666666666,
              "#ed7953"
             ],
             [
              0.7777777777777778,
              "#fb9f3a"
             ],
             [
              0.8888888888888888,
              "#fdca26"
             ],
             [
              1,
              "#f0f921"
             ]
            ],
            "type": "contour"
           }
          ],
          "contourcarpet": [
           {
            "colorbar": {
             "outlinewidth": 0,
             "ticks": ""
            },
            "type": "contourcarpet"
           }
          ],
          "heatmap": [
           {
            "colorbar": {
             "outlinewidth": 0,
             "ticks": ""
            },
            "colorscale": [
             [
              0,
              "#0d0887"
             ],
             [
              0.1111111111111111,
              "#46039f"
             ],
             [
              0.2222222222222222,
              "#7201a8"
             ],
             [
              0.3333333333333333,
              "#9c179e"
             ],
             [
              0.4444444444444444,
              "#bd3786"
             ],
             [
              0.5555555555555556,
              "#d8576b"
             ],
             [
              0.6666666666666666,
              "#ed7953"
             ],
             [
              0.7777777777777778,
              "#fb9f3a"
             ],
             [
              0.8888888888888888,
              "#fdca26"
             ],
             [
              1,
              "#f0f921"
             ]
            ],
            "type": "heatmap"
           }
          ],
          "heatmapgl": [
           {
            "colorbar": {
             "outlinewidth": 0,
             "ticks": ""
            },
            "colorscale": [
             [
              0,
              "#0d0887"
             ],
             [
              0.1111111111111111,
              "#46039f"
             ],
             [
              0.2222222222222222,
              "#7201a8"
             ],
             [
              0.3333333333333333,
              "#9c179e"
             ],
             [
              0.4444444444444444,
              "#bd3786"
             ],
             [
              0.5555555555555556,
              "#d8576b"
             ],
             [
              0.6666666666666666,
              "#ed7953"
             ],
             [
              0.7777777777777778,
              "#fb9f3a"
             ],
             [
              0.8888888888888888,
              "#fdca26"
             ],
             [
              1,
              "#f0f921"
             ]
            ],
            "type": "heatmapgl"
           }
          ],
          "histogram": [
           {
            "marker": {
             "pattern": {
              "fillmode": "overlay",
              "size": 10,
              "solidity": 0.2
             }
            },
            "type": "histogram"
           }
          ],
          "histogram2d": [
           {
            "colorbar": {
             "outlinewidth": 0,
             "ticks": ""
            },
            "colorscale": [
             [
              0,
              "#0d0887"
             ],
             [
              0.1111111111111111,
              "#46039f"
             ],
             [
              0.2222222222222222,
              "#7201a8"
             ],
             [
              0.3333333333333333,
              "#9c179e"
             ],
             [
              0.4444444444444444,
              "#bd3786"
             ],
             [
              0.5555555555555556,
              "#d8576b"
             ],
             [
              0.6666666666666666,
              "#ed7953"
             ],
             [
              0.7777777777777778,
              "#fb9f3a"
             ],
             [
              0.8888888888888888,
              "#fdca26"
             ],
             [
              1,
              "#f0f921"
             ]
            ],
            "type": "histogram2d"
           }
          ],
          "histogram2dcontour": [
           {
            "colorbar": {
             "outlinewidth": 0,
             "ticks": ""
            },
            "colorscale": [
             [
              0,
              "#0d0887"
             ],
             [
              0.1111111111111111,
              "#46039f"
             ],
             [
              0.2222222222222222,
              "#7201a8"
             ],
             [
              0.3333333333333333,
              "#9c179e"
             ],
             [
              0.4444444444444444,
              "#bd3786"
             ],
             [
              0.5555555555555556,
              "#d8576b"
             ],
             [
              0.6666666666666666,
              "#ed7953"
             ],
             [
              0.7777777777777778,
              "#fb9f3a"
             ],
             [
              0.8888888888888888,
              "#fdca26"
             ],
             [
              1,
              "#f0f921"
             ]
            ],
            "type": "histogram2dcontour"
           }
          ],
          "mesh3d": [
           {
            "colorbar": {
             "outlinewidth": 0,
             "ticks": ""
            },
            "type": "mesh3d"
           }
          ],
          "parcoords": [
           {
            "line": {
             "colorbar": {
              "outlinewidth": 0,
              "ticks": ""
             }
            },
            "type": "parcoords"
           }
          ],
          "pie": [
           {
            "automargin": true,
            "type": "pie"
           }
          ],
          "scatter": [
           {
            "fillpattern": {
             "fillmode": "overlay",
             "size": 10,
             "solidity": 0.2
            },
            "type": "scatter"
           }
          ],
          "scatter3d": [
           {
            "line": {
             "colorbar": {
              "outlinewidth": 0,
              "ticks": ""
             }
            },
            "marker": {
             "colorbar": {
              "outlinewidth": 0,
              "ticks": ""
             }
            },
            "type": "scatter3d"
           }
          ],
          "scattercarpet": [
           {
            "marker": {
             "colorbar": {
              "outlinewidth": 0,
              "ticks": ""
             }
            },
            "type": "scattercarpet"
           }
          ],
          "scattergeo": [
           {
            "marker": {
             "colorbar": {
              "outlinewidth": 0,
              "ticks": ""
             }
            },
            "type": "scattergeo"
           }
          ],
          "scattergl": [
           {
            "marker": {
             "colorbar": {
              "outlinewidth": 0,
              "ticks": ""
             }
            },
            "type": "scattergl"
           }
          ],
          "scattermapbox": [
           {
            "marker": {
             "colorbar": {
              "outlinewidth": 0,
              "ticks": ""
             }
            },
            "type": "scattermapbox"
           }
          ],
          "scatterpolar": [
           {
            "marker": {
             "colorbar": {
              "outlinewidth": 0,
              "ticks": ""
             }
            },
            "type": "scatterpolar"
           }
          ],
          "scatterpolargl": [
           {
            "marker": {
             "colorbar": {
              "outlinewidth": 0,
              "ticks": ""
             }
            },
            "type": "scatterpolargl"
           }
          ],
          "scatterternary": [
           {
            "marker": {
             "colorbar": {
              "outlinewidth": 0,
              "ticks": ""
             }
            },
            "type": "scatterternary"
           }
          ],
          "surface": [
           {
            "colorbar": {
             "outlinewidth": 0,
             "ticks": ""
            },
            "colorscale": [
             [
              0,
              "#0d0887"
             ],
             [
              0.1111111111111111,
              "#46039f"
             ],
             [
              0.2222222222222222,
              "#7201a8"
             ],
             [
              0.3333333333333333,
              "#9c179e"
             ],
             [
              0.4444444444444444,
              "#bd3786"
             ],
             [
              0.5555555555555556,
              "#d8576b"
             ],
             [
              0.6666666666666666,
              "#ed7953"
             ],
             [
              0.7777777777777778,
              "#fb9f3a"
             ],
             [
              0.8888888888888888,
              "#fdca26"
             ],
             [
              1,
              "#f0f921"
             ]
            ],
            "type": "surface"
           }
          ],
          "table": [
           {
            "cells": {
             "fill": {
              "color": "#EBF0F8"
             },
             "line": {
              "color": "white"
             }
            },
            "header": {
             "fill": {
              "color": "#C8D4E3"
             },
             "line": {
              "color": "white"
             }
            },
            "type": "table"
           }
          ]
         },
         "layout": {
          "annotationdefaults": {
           "arrowcolor": "#2a3f5f",
           "arrowhead": 0,
           "arrowwidth": 1
          },
          "autotypenumbers": "strict",
          "coloraxis": {
           "colorbar": {
            "outlinewidth": 0,
            "ticks": ""
           }
          },
          "colorscale": {
           "diverging": [
            [
             0,
             "#8e0152"
            ],
            [
             0.1,
             "#c51b7d"
            ],
            [
             0.2,
             "#de77ae"
            ],
            [
             0.3,
             "#f1b6da"
            ],
            [
             0.4,
             "#fde0ef"
            ],
            [
             0.5,
             "#f7f7f7"
            ],
            [
             0.6,
             "#e6f5d0"
            ],
            [
             0.7,
             "#b8e186"
            ],
            [
             0.8,
             "#7fbc41"
            ],
            [
             0.9,
             "#4d9221"
            ],
            [
             1,
             "#276419"
            ]
           ],
           "sequential": [
            [
             0,
             "#0d0887"
            ],
            [
             0.1111111111111111,
             "#46039f"
            ],
            [
             0.2222222222222222,
             "#7201a8"
            ],
            [
             0.3333333333333333,
             "#9c179e"
            ],
            [
             0.4444444444444444,
             "#bd3786"
            ],
            [
             0.5555555555555556,
             "#d8576b"
            ],
            [
             0.6666666666666666,
             "#ed7953"
            ],
            [
             0.7777777777777778,
             "#fb9f3a"
            ],
            [
             0.8888888888888888,
             "#fdca26"
            ],
            [
             1,
             "#f0f921"
            ]
           ],
           "sequentialminus": [
            [
             0,
             "#0d0887"
            ],
            [
             0.1111111111111111,
             "#46039f"
            ],
            [
             0.2222222222222222,
             "#7201a8"
            ],
            [
             0.3333333333333333,
             "#9c179e"
            ],
            [
             0.4444444444444444,
             "#bd3786"
            ],
            [
             0.5555555555555556,
             "#d8576b"
            ],
            [
             0.6666666666666666,
             "#ed7953"
            ],
            [
             0.7777777777777778,
             "#fb9f3a"
            ],
            [
             0.8888888888888888,
             "#fdca26"
            ],
            [
             1,
             "#f0f921"
            ]
           ]
          },
          "colorway": [
           "#636efa",
           "#EF553B",
           "#00cc96",
           "#ab63fa",
           "#FFA15A",
           "#19d3f3",
           "#FF6692",
           "#B6E880",
           "#FF97FF",
           "#FECB52"
          ],
          "font": {
           "color": "#2a3f5f"
          },
          "geo": {
           "bgcolor": "white",
           "lakecolor": "white",
           "landcolor": "#E5ECF6",
           "showlakes": true,
           "showland": true,
           "subunitcolor": "white"
          },
          "hoverlabel": {
           "align": "left"
          },
          "hovermode": "closest",
          "mapbox": {
           "style": "light"
          },
          "paper_bgcolor": "white",
          "plot_bgcolor": "#E5ECF6",
          "polar": {
           "angularaxis": {
            "gridcolor": "white",
            "linecolor": "white",
            "ticks": ""
           },
           "bgcolor": "#E5ECF6",
           "radialaxis": {
            "gridcolor": "white",
            "linecolor": "white",
            "ticks": ""
           }
          },
          "scene": {
           "xaxis": {
            "backgroundcolor": "#E5ECF6",
            "gridcolor": "white",
            "gridwidth": 2,
            "linecolor": "white",
            "showbackground": true,
            "ticks": "",
            "zerolinecolor": "white"
           },
           "yaxis": {
            "backgroundcolor": "#E5ECF6",
            "gridcolor": "white",
            "gridwidth": 2,
            "linecolor": "white",
            "showbackground": true,
            "ticks": "",
            "zerolinecolor": "white"
           },
           "zaxis": {
            "backgroundcolor": "#E5ECF6",
            "gridcolor": "white",
            "gridwidth": 2,
            "linecolor": "white",
            "showbackground": true,
            "ticks": "",
            "zerolinecolor": "white"
           }
          },
          "shapedefaults": {
           "line": {
            "color": "#2a3f5f"
           }
          },
          "ternary": {
           "aaxis": {
            "gridcolor": "white",
            "linecolor": "white",
            "ticks": ""
           },
           "baxis": {
            "gridcolor": "white",
            "linecolor": "white",
            "ticks": ""
           },
           "bgcolor": "#E5ECF6",
           "caxis": {
            "gridcolor": "white",
            "linecolor": "white",
            "ticks": ""
           }
          },
          "title": {
           "x": 0.05
          },
          "xaxis": {
           "automargin": true,
           "gridcolor": "white",
           "linecolor": "white",
           "ticks": "",
           "title": {
            "standoff": 15
           },
           "zerolinecolor": "white",
           "zerolinewidth": 2
          },
          "yaxis": {
           "automargin": true,
           "gridcolor": "white",
           "linecolor": "white",
           "ticks": "",
           "title": {
            "standoff": 15
           },
           "zerolinecolor": "white",
           "zerolinewidth": 2
          }
         }
        },
        "title": {
         "text": "Importaciones (2020)"
        }
       }
      }
     },
     "metadata": {},
     "output_type": "display_data"
    }
   ],
   "source": [
    "c = Data('world_trade_',reporting_country='484',year=[2020],imp_exp=1)\n",
    "df = c.read_data()\n",
    "c.grafica_treemap_paises_productos(df[0],periodo=c.year,imp_exp=c.imp_exp)"
   ]
  },
  {
   "cell_type": "code",
   "execution_count": 44,
   "metadata": {},
   "outputs": [
    {
     "data": {
      "application/vnd.plotly.v1+json": {
       "config": {
        "plotlyServerURL": "https://plot.ly"
       },
       "data": [
        {
         "line": {
          "color": "green"
         },
         "name": "Importaciones",
         "type": "scatter",
         "x": [
          2015,
          2016,
          2017,
          2018,
          2019,
          2020,
          2021
         ],
         "xaxis": "x",
         "y": [
          182561030513,
          147425462160,
          112602196575,
          85002973810,
          69667982254,
          54265406457,
          66796384405
         ],
         "yaxis": "y"
        },
        {
         "line": {
          "color": "blue"
         },
         "name": "Exportaciones",
         "type": "scatter",
         "x": [
          2015,
          2016,
          2017,
          2018,
          2019,
          2020,
          2021
         ],
         "xaxis": "x",
         "y": [
          287490670251,
          188665525067,
          153153569788,
          103524539002,
          89631626566,
          49994477516,
          47135479224
         ],
         "yaxis": "y"
        },
        {
         "line": {
          "color": "green"
         },
         "name": "Importaciones",
         "showlegend": false,
         "type": "scatter",
         "x": [
          2015,
          2016,
          2017,
          2018,
          2019,
          2020,
          2021
         ],
         "xaxis": "x2",
         "y": [
          9536758950,
          8688106146,
          4723969685,
          4805174882,
          3310711241,
          2770255054,
          3344243062
         ],
         "yaxis": "y2"
        },
        {
         "line": {
          "color": "blue"
         },
         "name": "Exportaciones",
         "showlegend": false,
         "type": "scatter",
         "x": [
          2015,
          2016,
          2017,
          2018,
          2019,
          2020,
          2021
         ],
         "xaxis": "x2",
         "y": [
          9535770672,
          7408496712,
          5820205787,
          3870866767,
          3889646567,
          934433619,
          759106422
         ],
         "yaxis": "y2"
        },
        {
         "line": {
          "color": "green"
         },
         "name": "Importaciones",
         "showlegend": false,
         "type": "scatter",
         "x": [
          2015,
          2016,
          2017,
          2018,
          2019,
          2020,
          2021
         ],
         "xaxis": "x3",
         "y": [
          40255630954,
          34902443051,
          20980600980,
          16220972920,
          12083819189,
          7244850796,
          5383845549
         ],
         "yaxis": "y3"
        },
        {
         "line": {
          "color": "blue"
         },
         "name": "Exportaciones",
         "showlegend": false,
         "type": "scatter",
         "x": [
          2015,
          2016,
          2017,
          2018,
          2019,
          2020,
          2021
         ],
         "xaxis": "x3",
         "y": [
          14532587977,
          10953268269,
          13259245957,
          7151688962,
          2352459131,
          1785114905,
          577810067
         ],
         "yaxis": "y3"
        },
        {
         "line": {
          "color": "green"
         },
         "name": "Importaciones",
         "showlegend": false,
         "type": "scatter",
         "x": [
          2015,
          2016,
          2017,
          2018,
          2019,
          2020,
          2021
         ],
         "xaxis": "x4",
         "y": [
          16834856573,
          15002315805,
          5152406562,
          4066654855,
          3296395570,
          2147233012,
          2151122420
         ],
         "yaxis": "y4"
        },
        {
         "line": {
          "color": "blue"
         },
         "name": "Exportaciones",
         "showlegend": false,
         "type": "scatter",
         "x": [
          2015,
          2016,
          2017,
          2018,
          2019,
          2020,
          2021
         ],
         "xaxis": "x4",
         "y": [
          2582947251,
          2850985291,
          2257473624,
          2109729587,
          1269281084,
          1078791455,
          1033667191
         ],
         "yaxis": "y4"
        },
        {
         "line": {
          "color": "green"
         },
         "name": "Importaciones",
         "showlegend": false,
         "type": "scatter",
         "x": [
          2015,
          2016,
          2017,
          2018,
          2019,
          2020,
          2021
         ],
         "xaxis": "x5",
         "y": [
          2302352872,
          2257079180,
          2745509491,
          2889360785,
          2503956111,
          1632078570,
          2077107937
         ],
         "yaxis": "y5"
        },
        {
         "line": {
          "color": "blue"
         },
         "name": "Exportaciones",
         "showlegend": false,
         "type": "scatter",
         "x": [
          2015,
          2016,
          2017,
          2018,
          2019,
          2020,
          2021
         ],
         "xaxis": "x5",
         "y": [
          6564920876,
          5116408461,
          3901756174,
          1828564250,
          1349465025,
          690310658,
          479349499
         ],
         "yaxis": "y5"
        },
        {
         "line": {
          "color": "green"
         },
         "name": "Importaciones",
         "showlegend": false,
         "type": "scatter",
         "x": [
          2015,
          2016,
          2017,
          2018,
          2019,
          2020,
          2021
         ],
         "xaxis": "x6",
         "y": [
          1975678142,
          1157550378,
          757630548,
          716730321,
          564589993,
          513727078,
          569952317
         ],
         "yaxis": "y6"
        },
        {
         "line": {
          "color": "blue"
         },
         "name": "Exportaciones",
         "showlegend": false,
         "type": "scatter",
         "x": [
          2015,
          2016,
          2017,
          2018,
          2019,
          2020,
          2021
         ],
         "xaxis": "x6",
         "y": [
          6297816832,
          5261881499,
          3924699650,
          2303611229,
          1756895610,
          1069060636,
          641675581
         ],
         "yaxis": "y6"
        }
       ],
       "layout": {
        "annotations": [
         {
          "font": {
           "size": 16
          },
          "showarrow": false,
          "text": "USA",
          "x": 0.14444444444444446,
          "xanchor": "center",
          "xref": "paper",
          "y": 1,
          "yanchor": "bottom",
          "yref": "paper"
         },
         {
          "font": {
           "size": 16
          },
          "showarrow": false,
          "text": "CAN",
          "x": 0.5,
          "xanchor": "center",
          "xref": "paper",
          "y": 1,
          "yanchor": "bottom",
          "yref": "paper"
         },
         {
          "font": {
           "size": 16
          },
          "showarrow": false,
          "text": "UE",
          "x": 0.8555555555555556,
          "xanchor": "center",
          "xref": "paper",
          "y": 1,
          "yanchor": "bottom",
          "yref": "paper"
         },
         {
          "font": {
           "size": 16
          },
          "showarrow": false,
          "text": "JPN",
          "x": 0.14444444444444446,
          "xanchor": "center",
          "xref": "paper",
          "y": 0.375,
          "yanchor": "bottom",
          "yref": "paper"
         },
         {
          "font": {
           "size": 16
          },
          "showarrow": false,
          "text": "ALIANZA PACIFICO",
          "x": 0.5,
          "xanchor": "center",
          "xref": "paper",
          "y": 0.375,
          "yanchor": "bottom",
          "yref": "paper"
         },
         {
          "font": {
           "size": 16
          },
          "showarrow": false,
          "text": "CENTROAMERICA",
          "x": 0.8555555555555556,
          "xanchor": "center",
          "xref": "paper",
          "y": 0.375,
          "yanchor": "bottom",
          "yref": "paper"
         }
        ],
        "height": 600,
        "template": {
         "data": {
          "bar": [
           {
            "error_x": {
             "color": "#2a3f5f"
            },
            "error_y": {
             "color": "#2a3f5f"
            },
            "marker": {
             "line": {
              "color": "#E5ECF6",
              "width": 0.5
             },
             "pattern": {
              "fillmode": "overlay",
              "size": 10,
              "solidity": 0.2
             }
            },
            "type": "bar"
           }
          ],
          "barpolar": [
           {
            "marker": {
             "line": {
              "color": "#E5ECF6",
              "width": 0.5
             },
             "pattern": {
              "fillmode": "overlay",
              "size": 10,
              "solidity": 0.2
             }
            },
            "type": "barpolar"
           }
          ],
          "carpet": [
           {
            "aaxis": {
             "endlinecolor": "#2a3f5f",
             "gridcolor": "white",
             "linecolor": "white",
             "minorgridcolor": "white",
             "startlinecolor": "#2a3f5f"
            },
            "baxis": {
             "endlinecolor": "#2a3f5f",
             "gridcolor": "white",
             "linecolor": "white",
             "minorgridcolor": "white",
             "startlinecolor": "#2a3f5f"
            },
            "type": "carpet"
           }
          ],
          "choropleth": [
           {
            "colorbar": {
             "outlinewidth": 0,
             "ticks": ""
            },
            "type": "choropleth"
           }
          ],
          "contour": [
           {
            "colorbar": {
             "outlinewidth": 0,
             "ticks": ""
            },
            "colorscale": [
             [
              0,
              "#0d0887"
             ],
             [
              0.1111111111111111,
              "#46039f"
             ],
             [
              0.2222222222222222,
              "#7201a8"
             ],
             [
              0.3333333333333333,
              "#9c179e"
             ],
             [
              0.4444444444444444,
              "#bd3786"
             ],
             [
              0.5555555555555556,
              "#d8576b"
             ],
             [
              0.6666666666666666,
              "#ed7953"
             ],
             [
              0.7777777777777778,
              "#fb9f3a"
             ],
             [
              0.8888888888888888,
              "#fdca26"
             ],
             [
              1,
              "#f0f921"
             ]
            ],
            "type": "contour"
           }
          ],
          "contourcarpet": [
           {
            "colorbar": {
             "outlinewidth": 0,
             "ticks": ""
            },
            "type": "contourcarpet"
           }
          ],
          "heatmap": [
           {
            "colorbar": {
             "outlinewidth": 0,
             "ticks": ""
            },
            "colorscale": [
             [
              0,
              "#0d0887"
             ],
             [
              0.1111111111111111,
              "#46039f"
             ],
             [
              0.2222222222222222,
              "#7201a8"
             ],
             [
              0.3333333333333333,
              "#9c179e"
             ],
             [
              0.4444444444444444,
              "#bd3786"
             ],
             [
              0.5555555555555556,
              "#d8576b"
             ],
             [
              0.6666666666666666,
              "#ed7953"
             ],
             [
              0.7777777777777778,
              "#fb9f3a"
             ],
             [
              0.8888888888888888,
              "#fdca26"
             ],
             [
              1,
              "#f0f921"
             ]
            ],
            "type": "heatmap"
           }
          ],
          "heatmapgl": [
           {
            "colorbar": {
             "outlinewidth": 0,
             "ticks": ""
            },
            "colorscale": [
             [
              0,
              "#0d0887"
             ],
             [
              0.1111111111111111,
              "#46039f"
             ],
             [
              0.2222222222222222,
              "#7201a8"
             ],
             [
              0.3333333333333333,
              "#9c179e"
             ],
             [
              0.4444444444444444,
              "#bd3786"
             ],
             [
              0.5555555555555556,
              "#d8576b"
             ],
             [
              0.6666666666666666,
              "#ed7953"
             ],
             [
              0.7777777777777778,
              "#fb9f3a"
             ],
             [
              0.8888888888888888,
              "#fdca26"
             ],
             [
              1,
              "#f0f921"
             ]
            ],
            "type": "heatmapgl"
           }
          ],
          "histogram": [
           {
            "marker": {
             "pattern": {
              "fillmode": "overlay",
              "size": 10,
              "solidity": 0.2
             }
            },
            "type": "histogram"
           }
          ],
          "histogram2d": [
           {
            "colorbar": {
             "outlinewidth": 0,
             "ticks": ""
            },
            "colorscale": [
             [
              0,
              "#0d0887"
             ],
             [
              0.1111111111111111,
              "#46039f"
             ],
             [
              0.2222222222222222,
              "#7201a8"
             ],
             [
              0.3333333333333333,
              "#9c179e"
             ],
             [
              0.4444444444444444,
              "#bd3786"
             ],
             [
              0.5555555555555556,
              "#d8576b"
             ],
             [
              0.6666666666666666,
              "#ed7953"
             ],
             [
              0.7777777777777778,
              "#fb9f3a"
             ],
             [
              0.8888888888888888,
              "#fdca26"
             ],
             [
              1,
              "#f0f921"
             ]
            ],
            "type": "histogram2d"
           }
          ],
          "histogram2dcontour": [
           {
            "colorbar": {
             "outlinewidth": 0,
             "ticks": ""
            },
            "colorscale": [
             [
              0,
              "#0d0887"
             ],
             [
              0.1111111111111111,
              "#46039f"
             ],
             [
              0.2222222222222222,
              "#7201a8"
             ],
             [
              0.3333333333333333,
              "#9c179e"
             ],
             [
              0.4444444444444444,
              "#bd3786"
             ],
             [
              0.5555555555555556,
              "#d8576b"
             ],
             [
              0.6666666666666666,
              "#ed7953"
             ],
             [
              0.7777777777777778,
              "#fb9f3a"
             ],
             [
              0.8888888888888888,
              "#fdca26"
             ],
             [
              1,
              "#f0f921"
             ]
            ],
            "type": "histogram2dcontour"
           }
          ],
          "mesh3d": [
           {
            "colorbar": {
             "outlinewidth": 0,
             "ticks": ""
            },
            "type": "mesh3d"
           }
          ],
          "parcoords": [
           {
            "line": {
             "colorbar": {
              "outlinewidth": 0,
              "ticks": ""
             }
            },
            "type": "parcoords"
           }
          ],
          "pie": [
           {
            "automargin": true,
            "type": "pie"
           }
          ],
          "scatter": [
           {
            "fillpattern": {
             "fillmode": "overlay",
             "size": 10,
             "solidity": 0.2
            },
            "type": "scatter"
           }
          ],
          "scatter3d": [
           {
            "line": {
             "colorbar": {
              "outlinewidth": 0,
              "ticks": ""
             }
            },
            "marker": {
             "colorbar": {
              "outlinewidth": 0,
              "ticks": ""
             }
            },
            "type": "scatter3d"
           }
          ],
          "scattercarpet": [
           {
            "marker": {
             "colorbar": {
              "outlinewidth": 0,
              "ticks": ""
             }
            },
            "type": "scattercarpet"
           }
          ],
          "scattergeo": [
           {
            "marker": {
             "colorbar": {
              "outlinewidth": 0,
              "ticks": ""
             }
            },
            "type": "scattergeo"
           }
          ],
          "scattergl": [
           {
            "marker": {
             "colorbar": {
              "outlinewidth": 0,
              "ticks": ""
             }
            },
            "type": "scattergl"
           }
          ],
          "scattermapbox": [
           {
            "marker": {
             "colorbar": {
              "outlinewidth": 0,
              "ticks": ""
             }
            },
            "type": "scattermapbox"
           }
          ],
          "scatterpolar": [
           {
            "marker": {
             "colorbar": {
              "outlinewidth": 0,
              "ticks": ""
             }
            },
            "type": "scatterpolar"
           }
          ],
          "scatterpolargl": [
           {
            "marker": {
             "colorbar": {
              "outlinewidth": 0,
              "ticks": ""
             }
            },
            "type": "scatterpolargl"
           }
          ],
          "scatterternary": [
           {
            "marker": {
             "colorbar": {
              "outlinewidth": 0,
              "ticks": ""
             }
            },
            "type": "scatterternary"
           }
          ],
          "surface": [
           {
            "colorbar": {
             "outlinewidth": 0,
             "ticks": ""
            },
            "colorscale": [
             [
              0,
              "#0d0887"
             ],
             [
              0.1111111111111111,
              "#46039f"
             ],
             [
              0.2222222222222222,
              "#7201a8"
             ],
             [
              0.3333333333333333,
              "#9c179e"
             ],
             [
              0.4444444444444444,
              "#bd3786"
             ],
             [
              0.5555555555555556,
              "#d8576b"
             ],
             [
              0.6666666666666666,
              "#ed7953"
             ],
             [
              0.7777777777777778,
              "#fb9f3a"
             ],
             [
              0.8888888888888888,
              "#fdca26"
             ],
             [
              1,
              "#f0f921"
             ]
            ],
            "type": "surface"
           }
          ],
          "table": [
           {
            "cells": {
             "fill": {
              "color": "#EBF0F8"
             },
             "line": {
              "color": "white"
             }
            },
            "header": {
             "fill": {
              "color": "#C8D4E3"
             },
             "line": {
              "color": "white"
             }
            },
            "type": "table"
           }
          ]
         },
         "layout": {
          "annotationdefaults": {
           "arrowcolor": "#2a3f5f",
           "arrowhead": 0,
           "arrowwidth": 1
          },
          "autotypenumbers": "strict",
          "coloraxis": {
           "colorbar": {
            "outlinewidth": 0,
            "ticks": ""
           }
          },
          "colorscale": {
           "diverging": [
            [
             0,
             "#8e0152"
            ],
            [
             0.1,
             "#c51b7d"
            ],
            [
             0.2,
             "#de77ae"
            ],
            [
             0.3,
             "#f1b6da"
            ],
            [
             0.4,
             "#fde0ef"
            ],
            [
             0.5,
             "#f7f7f7"
            ],
            [
             0.6,
             "#e6f5d0"
            ],
            [
             0.7,
             "#b8e186"
            ],
            [
             0.8,
             "#7fbc41"
            ],
            [
             0.9,
             "#4d9221"
            ],
            [
             1,
             "#276419"
            ]
           ],
           "sequential": [
            [
             0,
             "#0d0887"
            ],
            [
             0.1111111111111111,
             "#46039f"
            ],
            [
             0.2222222222222222,
             "#7201a8"
            ],
            [
             0.3333333333333333,
             "#9c179e"
            ],
            [
             0.4444444444444444,
             "#bd3786"
            ],
            [
             0.5555555555555556,
             "#d8576b"
            ],
            [
             0.6666666666666666,
             "#ed7953"
            ],
            [
             0.7777777777777778,
             "#fb9f3a"
            ],
            [
             0.8888888888888888,
             "#fdca26"
            ],
            [
             1,
             "#f0f921"
            ]
           ],
           "sequentialminus": [
            [
             0,
             "#0d0887"
            ],
            [
             0.1111111111111111,
             "#46039f"
            ],
            [
             0.2222222222222222,
             "#7201a8"
            ],
            [
             0.3333333333333333,
             "#9c179e"
            ],
            [
             0.4444444444444444,
             "#bd3786"
            ],
            [
             0.5555555555555556,
             "#d8576b"
            ],
            [
             0.6666666666666666,
             "#ed7953"
            ],
            [
             0.7777777777777778,
             "#fb9f3a"
            ],
            [
             0.8888888888888888,
             "#fdca26"
            ],
            [
             1,
             "#f0f921"
            ]
           ]
          },
          "colorway": [
           "#636efa",
           "#EF553B",
           "#00cc96",
           "#ab63fa",
           "#FFA15A",
           "#19d3f3",
           "#FF6692",
           "#B6E880",
           "#FF97FF",
           "#FECB52"
          ],
          "font": {
           "color": "#2a3f5f"
          },
          "geo": {
           "bgcolor": "white",
           "lakecolor": "white",
           "landcolor": "#E5ECF6",
           "showlakes": true,
           "showland": true,
           "subunitcolor": "white"
          },
          "hoverlabel": {
           "align": "left"
          },
          "hovermode": "closest",
          "mapbox": {
           "style": "light"
          },
          "paper_bgcolor": "white",
          "plot_bgcolor": "#E5ECF6",
          "polar": {
           "angularaxis": {
            "gridcolor": "white",
            "linecolor": "white",
            "ticks": ""
           },
           "bgcolor": "#E5ECF6",
           "radialaxis": {
            "gridcolor": "white",
            "linecolor": "white",
            "ticks": ""
           }
          },
          "scene": {
           "xaxis": {
            "backgroundcolor": "#E5ECF6",
            "gridcolor": "white",
            "gridwidth": 2,
            "linecolor": "white",
            "showbackground": true,
            "ticks": "",
            "zerolinecolor": "white"
           },
           "yaxis": {
            "backgroundcolor": "#E5ECF6",
            "gridcolor": "white",
            "gridwidth": 2,
            "linecolor": "white",
            "showbackground": true,
            "ticks": "",
            "zerolinecolor": "white"
           },
           "zaxis": {
            "backgroundcolor": "#E5ECF6",
            "gridcolor": "white",
            "gridwidth": 2,
            "linecolor": "white",
            "showbackground": true,
            "ticks": "",
            "zerolinecolor": "white"
           }
          },
          "shapedefaults": {
           "line": {
            "color": "#2a3f5f"
           }
          },
          "ternary": {
           "aaxis": {
            "gridcolor": "white",
            "linecolor": "white",
            "ticks": ""
           },
           "baxis": {
            "gridcolor": "white",
            "linecolor": "white",
            "ticks": ""
           },
           "bgcolor": "#E5ECF6",
           "caxis": {
            "gridcolor": "white",
            "linecolor": "white",
            "ticks": ""
           }
          },
          "title": {
           "x": 0.05
          },
          "xaxis": {
           "automargin": true,
           "gridcolor": "white",
           "linecolor": "white",
           "ticks": "",
           "title": {
            "standoff": 15
           },
           "zerolinecolor": "white",
           "zerolinewidth": 2
          },
          "yaxis": {
           "automargin": true,
           "gridcolor": "white",
           "linecolor": "white",
           "ticks": "",
           "title": {
            "standoff": 15
           },
           "zerolinecolor": "white",
           "zerolinewidth": 2
          }
         }
        },
        "title": {
         "text": "Intercambio comercial con socios princiapales (2015-2021)"
        },
        "width": 800,
        "xaxis": {
         "anchor": "y",
         "domain": [
          0,
          0.2888888888888889
         ]
        },
        "xaxis2": {
         "anchor": "y2",
         "domain": [
          0.35555555555555557,
          0.6444444444444445
         ]
        },
        "xaxis3": {
         "anchor": "y3",
         "domain": [
          0.7111111111111111,
          1
         ]
        },
        "xaxis4": {
         "anchor": "y4",
         "domain": [
          0,
          0.2888888888888889
         ]
        },
        "xaxis5": {
         "anchor": "y5",
         "domain": [
          0.35555555555555557,
          0.6444444444444445
         ]
        },
        "xaxis6": {
         "anchor": "y6",
         "domain": [
          0.7111111111111111,
          1
         ]
        },
        "yaxis": {
         "anchor": "x",
         "domain": [
          0.625,
          1
         ]
        },
        "yaxis2": {
         "anchor": "x2",
         "domain": [
          0.625,
          1
         ]
        },
        "yaxis3": {
         "anchor": "x3",
         "domain": [
          0.625,
          1
         ]
        },
        "yaxis4": {
         "anchor": "x4",
         "domain": [
          0,
          0.375
         ]
        },
        "yaxis5": {
         "anchor": "x5",
         "domain": [
          0,
          0.375
         ]
        },
        "yaxis6": {
         "anchor": "x6",
         "domain": [
          0,
          0.375
         ]
        }
       }
      }
     },
     "metadata": {},
     "output_type": "display_data"
    }
   ],
   "source": [
    "c = Data('world_trade_',reporting_country='484',year=[i for i in range(2015,2022)])\n",
    "c.ITrade_pricnipalesSocios()"
   ]
  },
  {
   "cell_type": "code",
   "execution_count": null,
   "metadata": {},
   "outputs": [],
   "source": []
  },
  {
   "cell_type": "code",
   "execution_count": null,
   "metadata": {},
   "outputs": [],
   "source": []
  }
 ],
 "metadata": {
  "kernelspec": {
   "display_name": "Python 3.10.4 ('venv_': venv)",
   "language": "python",
   "name": "python3"
  },
  "language_info": {
   "codemirror_mode": {
    "name": "ipython",
    "version": 3
   },
   "file_extension": ".py",
   "mimetype": "text/x-python",
   "name": "python",
   "nbconvert_exporter": "python",
   "pygments_lexer": "ipython3",
   "version": "3.10.4"
  },
  "orig_nbformat": 4,
  "vscode": {
   "interpreter": {
    "hash": "783f502901e0ca42b943c71ea672918d5d1baba502bc82fa661324aafe9c5a37"
   }
  }
 },
 "nbformat": 4,
 "nbformat_minor": 2
}
